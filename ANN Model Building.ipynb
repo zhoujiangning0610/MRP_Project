{
 "cells": [
  {
   "cell_type": "code",
   "execution_count": 2,
   "metadata": {},
   "outputs": [],
   "source": [
    "import numpy as np\n",
    "import pandas as pd\n",
    "import matplotlib.pyplot as plt\n",
    "import seaborn as sns"
   ]
  },
  {
   "cell_type": "markdown",
   "metadata": {},
   "source": [
    "#### load dataset"
   ]
  },
  {
   "cell_type": "code",
   "execution_count": 3,
   "metadata": {},
   "outputs": [
    {
     "data": {
      "text/html": [
       "<div>\n",
       "<style scoped>\n",
       "    .dataframe tbody tr th:only-of-type {\n",
       "        vertical-align: middle;\n",
       "    }\n",
       "\n",
       "    .dataframe tbody tr th {\n",
       "        vertical-align: top;\n",
       "    }\n",
       "\n",
       "    .dataframe thead th {\n",
       "        text-align: right;\n",
       "    }\n",
       "</style>\n",
       "<table border=\"1\" class=\"dataframe\">\n",
       "  <thead>\n",
       "    <tr style=\"text-align: right;\">\n",
       "      <th></th>\n",
       "      <th>Date</th>\n",
       "      <th>Time</th>\n",
       "      <th>DateTime</th>\n",
       "      <th>System Setting</th>\n",
       "      <th>System Mode</th>\n",
       "      <th>Calendar Event</th>\n",
       "      <th>Program Mode</th>\n",
       "      <th>Cool Set Temp (C)</th>\n",
       "      <th>Heat Set Temp (C)</th>\n",
       "      <th>Current Temp (C)</th>\n",
       "      <th>...</th>\n",
       "      <th>Thermostat Humidity (%RH)</th>\n",
       "      <th>Thermostat Motion</th>\n",
       "      <th>Bedroom (C)</th>\n",
       "      <th>Bedroom2</th>\n",
       "      <th>3rd floor landing (C)</th>\n",
       "      <th>3rd floor landing2</th>\n",
       "      <th>3rd floor room (C)</th>\n",
       "      <th>3rd floor room2</th>\n",
       "      <th>Basement (C)</th>\n",
       "      <th>Basement2</th>\n",
       "    </tr>\n",
       "  </thead>\n",
       "  <tbody>\n",
       "    <tr>\n",
       "      <th>0</th>\n",
       "      <td>2020-12-10</td>\n",
       "      <td>12:50:00</td>\n",
       "      <td>2020/12/10 12:50:00</td>\n",
       "      <td>heat</td>\n",
       "      <td>heatOff</td>\n",
       "      <td>auto</td>\n",
       "      <td>Home</td>\n",
       "      <td>21.0</td>\n",
       "      <td>21.0</td>\n",
       "      <td>21.3</td>\n",
       "      <td>...</td>\n",
       "      <td>30.0</td>\n",
       "      <td>1.0</td>\n",
       "      <td>21.6</td>\n",
       "      <td>0.0</td>\n",
       "      <td>20.9</td>\n",
       "      <td>0.0</td>\n",
       "      <td>21.0</td>\n",
       "      <td>0.0</td>\n",
       "      <td>22.8</td>\n",
       "      <td>0.0</td>\n",
       "    </tr>\n",
       "    <tr>\n",
       "      <th>1</th>\n",
       "      <td>2020-12-10</td>\n",
       "      <td>12:55:00</td>\n",
       "      <td>2020/12/10 12:55:00</td>\n",
       "      <td>heat</td>\n",
       "      <td>heatOff</td>\n",
       "      <td>auto</td>\n",
       "      <td>Home</td>\n",
       "      <td>21.0</td>\n",
       "      <td>21.0</td>\n",
       "      <td>21.1</td>\n",
       "      <td>...</td>\n",
       "      <td>32.0</td>\n",
       "      <td>1.0</td>\n",
       "      <td>21.6</td>\n",
       "      <td>0.0</td>\n",
       "      <td>20.9</td>\n",
       "      <td>0.0</td>\n",
       "      <td>20.9</td>\n",
       "      <td>0.0</td>\n",
       "      <td>22.7</td>\n",
       "      <td>1.0</td>\n",
       "    </tr>\n",
       "    <tr>\n",
       "      <th>2</th>\n",
       "      <td>2020-12-10</td>\n",
       "      <td>13:00:00</td>\n",
       "      <td>2020/12/10 13:00:00</td>\n",
       "      <td>heat</td>\n",
       "      <td>heatOff</td>\n",
       "      <td>auto</td>\n",
       "      <td>Home</td>\n",
       "      <td>21.0</td>\n",
       "      <td>21.0</td>\n",
       "      <td>20.9</td>\n",
       "      <td>...</td>\n",
       "      <td>32.0</td>\n",
       "      <td>0.0</td>\n",
       "      <td>21.6</td>\n",
       "      <td>0.0</td>\n",
       "      <td>20.8</td>\n",
       "      <td>0.0</td>\n",
       "      <td>20.8</td>\n",
       "      <td>0.0</td>\n",
       "      <td>22.7</td>\n",
       "      <td>1.0</td>\n",
       "    </tr>\n",
       "    <tr>\n",
       "      <th>3</th>\n",
       "      <td>2020-12-10</td>\n",
       "      <td>13:05:00</td>\n",
       "      <td>2020/12/10 13:05:00</td>\n",
       "      <td>heat</td>\n",
       "      <td>heatOff</td>\n",
       "      <td>auto</td>\n",
       "      <td>Home</td>\n",
       "      <td>21.0</td>\n",
       "      <td>21.0</td>\n",
       "      <td>20.7</td>\n",
       "      <td>...</td>\n",
       "      <td>33.0</td>\n",
       "      <td>0.0</td>\n",
       "      <td>21.6</td>\n",
       "      <td>0.0</td>\n",
       "      <td>20.8</td>\n",
       "      <td>0.0</td>\n",
       "      <td>20.8</td>\n",
       "      <td>0.0</td>\n",
       "      <td>22.8</td>\n",
       "      <td>0.0</td>\n",
       "    </tr>\n",
       "    <tr>\n",
       "      <th>4</th>\n",
       "      <td>2020-12-10</td>\n",
       "      <td>13:10:00</td>\n",
       "      <td>2020/12/10 13:10:00</td>\n",
       "      <td>heat</td>\n",
       "      <td>heatStage1On</td>\n",
       "      <td>auto</td>\n",
       "      <td>Home</td>\n",
       "      <td>21.0</td>\n",
       "      <td>21.0</td>\n",
       "      <td>20.6</td>\n",
       "      <td>...</td>\n",
       "      <td>33.0</td>\n",
       "      <td>1.0</td>\n",
       "      <td>21.6</td>\n",
       "      <td>0.0</td>\n",
       "      <td>20.8</td>\n",
       "      <td>0.0</td>\n",
       "      <td>20.8</td>\n",
       "      <td>0.0</td>\n",
       "      <td>22.8</td>\n",
       "      <td>0.0</td>\n",
       "    </tr>\n",
       "    <tr>\n",
       "      <th>...</th>\n",
       "      <td>...</td>\n",
       "      <td>...</td>\n",
       "      <td>...</td>\n",
       "      <td>...</td>\n",
       "      <td>...</td>\n",
       "      <td>...</td>\n",
       "      <td>...</td>\n",
       "      <td>...</td>\n",
       "      <td>...</td>\n",
       "      <td>...</td>\n",
       "      <td>...</td>\n",
       "      <td>...</td>\n",
       "      <td>...</td>\n",
       "      <td>...</td>\n",
       "      <td>...</td>\n",
       "      <td>...</td>\n",
       "      <td>...</td>\n",
       "      <td>...</td>\n",
       "      <td>...</td>\n",
       "      <td>...</td>\n",
       "      <td>...</td>\n",
       "    </tr>\n",
       "    <tr>\n",
       "      <th>29671</th>\n",
       "      <td>2021-03-23</td>\n",
       "      <td>14:25:00</td>\n",
       "      <td>2021/3/23 14:25:00</td>\n",
       "      <td>heat</td>\n",
       "      <td>heatOff</td>\n",
       "      <td>NaN</td>\n",
       "      <td>Home</td>\n",
       "      <td>21.0</td>\n",
       "      <td>21.0</td>\n",
       "      <td>21.2</td>\n",
       "      <td>...</td>\n",
       "      <td>21.0</td>\n",
       "      <td>0.0</td>\n",
       "      <td>21.9</td>\n",
       "      <td>0.0</td>\n",
       "      <td>21.8</td>\n",
       "      <td>0.0</td>\n",
       "      <td>21.3</td>\n",
       "      <td>0.0</td>\n",
       "      <td>22.0</td>\n",
       "      <td>1.0</td>\n",
       "    </tr>\n",
       "    <tr>\n",
       "      <th>29672</th>\n",
       "      <td>2021-03-23</td>\n",
       "      <td>14:30:00</td>\n",
       "      <td>2021/3/23 14:30:00</td>\n",
       "      <td>heat</td>\n",
       "      <td>heatOff</td>\n",
       "      <td>NaN</td>\n",
       "      <td>Home</td>\n",
       "      <td>21.0</td>\n",
       "      <td>21.0</td>\n",
       "      <td>21.1</td>\n",
       "      <td>...</td>\n",
       "      <td>21.0</td>\n",
       "      <td>0.0</td>\n",
       "      <td>21.9</td>\n",
       "      <td>0.0</td>\n",
       "      <td>21.8</td>\n",
       "      <td>0.0</td>\n",
       "      <td>21.3</td>\n",
       "      <td>0.0</td>\n",
       "      <td>22.1</td>\n",
       "      <td>0.0</td>\n",
       "    </tr>\n",
       "    <tr>\n",
       "      <th>29673</th>\n",
       "      <td>2021-03-23</td>\n",
       "      <td>14:35:00</td>\n",
       "      <td>2021/3/23 14:35:00</td>\n",
       "      <td>heat</td>\n",
       "      <td>heatOff</td>\n",
       "      <td>NaN</td>\n",
       "      <td>Home</td>\n",
       "      <td>21.0</td>\n",
       "      <td>21.0</td>\n",
       "      <td>21.1</td>\n",
       "      <td>...</td>\n",
       "      <td>21.0</td>\n",
       "      <td>0.0</td>\n",
       "      <td>21.9</td>\n",
       "      <td>0.0</td>\n",
       "      <td>21.8</td>\n",
       "      <td>1.0</td>\n",
       "      <td>21.3</td>\n",
       "      <td>0.0</td>\n",
       "      <td>22.1</td>\n",
       "      <td>0.0</td>\n",
       "    </tr>\n",
       "    <tr>\n",
       "      <th>29674</th>\n",
       "      <td>2021-03-23</td>\n",
       "      <td>14:40:00</td>\n",
       "      <td>2021/3/23 14:40:00</td>\n",
       "      <td>heat</td>\n",
       "      <td>heatOff</td>\n",
       "      <td>NaN</td>\n",
       "      <td>Home</td>\n",
       "      <td>21.0</td>\n",
       "      <td>21.0</td>\n",
       "      <td>21.1</td>\n",
       "      <td>...</td>\n",
       "      <td>21.0</td>\n",
       "      <td>0.0</td>\n",
       "      <td>21.9</td>\n",
       "      <td>0.0</td>\n",
       "      <td>21.8</td>\n",
       "      <td>1.0</td>\n",
       "      <td>21.3</td>\n",
       "      <td>0.0</td>\n",
       "      <td>22.1</td>\n",
       "      <td>0.0</td>\n",
       "    </tr>\n",
       "    <tr>\n",
       "      <th>29675</th>\n",
       "      <td>2021-03-23</td>\n",
       "      <td>14:45:00</td>\n",
       "      <td>2021/3/23 14:45:00</td>\n",
       "      <td>heat</td>\n",
       "      <td>heatOff</td>\n",
       "      <td>NaN</td>\n",
       "      <td>Home</td>\n",
       "      <td>21.0</td>\n",
       "      <td>21.0</td>\n",
       "      <td>21.1</td>\n",
       "      <td>...</td>\n",
       "      <td>21.0</td>\n",
       "      <td>1.0</td>\n",
       "      <td>21.9</td>\n",
       "      <td>0.0</td>\n",
       "      <td>21.8</td>\n",
       "      <td>0.0</td>\n",
       "      <td>21.3</td>\n",
       "      <td>0.0</td>\n",
       "      <td>22.1</td>\n",
       "      <td>1.0</td>\n",
       "    </tr>\n",
       "  </tbody>\n",
       "</table>\n",
       "<p>29676 rows × 27 columns</p>\n",
       "</div>"
      ],
      "text/plain": [
       "            Date      Time             DateTime System Setting   System Mode  \\\n",
       "0     2020-12-10  12:50:00  2020/12/10 12:50:00           heat       heatOff   \n",
       "1     2020-12-10  12:55:00  2020/12/10 12:55:00           heat       heatOff   \n",
       "2     2020-12-10  13:00:00  2020/12/10 13:00:00           heat       heatOff   \n",
       "3     2020-12-10  13:05:00  2020/12/10 13:05:00           heat       heatOff   \n",
       "4     2020-12-10  13:10:00  2020/12/10 13:10:00           heat  heatStage1On   \n",
       "...          ...       ...                  ...            ...           ...   \n",
       "29671 2021-03-23  14:25:00   2021/3/23 14:25:00           heat       heatOff   \n",
       "29672 2021-03-23  14:30:00   2021/3/23 14:30:00           heat       heatOff   \n",
       "29673 2021-03-23  14:35:00   2021/3/23 14:35:00           heat       heatOff   \n",
       "29674 2021-03-23  14:40:00   2021/3/23 14:40:00           heat       heatOff   \n",
       "29675 2021-03-23  14:45:00   2021/3/23 14:45:00           heat       heatOff   \n",
       "\n",
       "      Calendar Event Program Mode  Cool Set Temp (C)  Heat Set Temp (C)  \\\n",
       "0               auto         Home               21.0               21.0   \n",
       "1               auto         Home               21.0               21.0   \n",
       "2               auto         Home               21.0               21.0   \n",
       "3               auto         Home               21.0               21.0   \n",
       "4               auto         Home               21.0               21.0   \n",
       "...              ...          ...                ...                ...   \n",
       "29671            NaN         Home               21.0               21.0   \n",
       "29672            NaN         Home               21.0               21.0   \n",
       "29673            NaN         Home               21.0               21.0   \n",
       "29674            NaN         Home               21.0               21.0   \n",
       "29675            NaN         Home               21.0               21.0   \n",
       "\n",
       "       Current Temp (C)  ...  Thermostat Humidity (%RH)  Thermostat Motion  \\\n",
       "0                  21.3  ...                       30.0                1.0   \n",
       "1                  21.1  ...                       32.0                1.0   \n",
       "2                  20.9  ...                       32.0                0.0   \n",
       "3                  20.7  ...                       33.0                0.0   \n",
       "4                  20.6  ...                       33.0                1.0   \n",
       "...                 ...  ...                        ...                ...   \n",
       "29671              21.2  ...                       21.0                0.0   \n",
       "29672              21.1  ...                       21.0                0.0   \n",
       "29673              21.1  ...                       21.0                0.0   \n",
       "29674              21.1  ...                       21.0                0.0   \n",
       "29675              21.1  ...                       21.0                1.0   \n",
       "\n",
       "       Bedroom (C)  Bedroom2  3rd floor landing (C)  3rd floor landing2  \\\n",
       "0             21.6       0.0                   20.9                 0.0   \n",
       "1             21.6       0.0                   20.9                 0.0   \n",
       "2             21.6       0.0                   20.8                 0.0   \n",
       "3             21.6       0.0                   20.8                 0.0   \n",
       "4             21.6       0.0                   20.8                 0.0   \n",
       "...            ...       ...                    ...                 ...   \n",
       "29671         21.9       0.0                   21.8                 0.0   \n",
       "29672         21.9       0.0                   21.8                 0.0   \n",
       "29673         21.9       0.0                   21.8                 1.0   \n",
       "29674         21.9       0.0                   21.8                 1.0   \n",
       "29675         21.9       0.0                   21.8                 0.0   \n",
       "\n",
       "       3rd floor room (C)  3rd floor room2  Basement (C)  Basement2  \n",
       "0                    21.0              0.0          22.8        0.0  \n",
       "1                    20.9              0.0          22.7        1.0  \n",
       "2                    20.8              0.0          22.7        1.0  \n",
       "3                    20.8              0.0          22.8        0.0  \n",
       "4                    20.8              0.0          22.8        0.0  \n",
       "...                   ...              ...           ...        ...  \n",
       "29671                21.3              0.0          22.0        1.0  \n",
       "29672                21.3              0.0          22.1        0.0  \n",
       "29673                21.3              0.0          22.1        0.0  \n",
       "29674                21.3              0.0          22.1        0.0  \n",
       "29675                21.3              0.0          22.1        1.0  \n",
       "\n",
       "[29676 rows x 27 columns]"
      ]
     },
     "execution_count": 3,
     "metadata": {},
     "output_type": "execute_result"
    }
   ],
   "source": [
    "house_data = pd.read_excel(\"Clean_Data.xlsx\")\n",
    "house_data"
   ]
  },
  {
   "cell_type": "code",
   "execution_count": 4,
   "metadata": {},
   "outputs": [
    {
     "data": {
      "text/plain": [
       "Index(['Date', 'Time', 'DateTime', 'System Setting', 'System Mode',\n",
       "       'Calendar Event', 'Program Mode', 'Cool Set Temp (C)',\n",
       "       'Heat Set Temp (C)', 'Current Temp (C)', 'Current Humidity (%RH)',\n",
       "       'Outdoor Temp (C)', 'Wind Speed (km/h)', 'Cool Stage 1 (sec)',\n",
       "       'Heat Stage 1 (sec)', 'Fan (sec)', 'Thermostat Temperature (C)',\n",
       "       'Thermostat Humidity (%RH)', 'Thermostat Motion', 'Bedroom (C)',\n",
       "       'Bedroom2', '3rd floor landing (C)', '3rd floor landing2',\n",
       "       '3rd floor room (C)', '3rd floor room2', 'Basement (C)', 'Basement2'],\n",
       "      dtype='object')"
      ]
     },
     "execution_count": 4,
     "metadata": {},
     "output_type": "execute_result"
    }
   ],
   "source": [
    "house_data.columns"
   ]
  },
  {
   "cell_type": "code",
   "execution_count": 1,
   "metadata": {},
   "outputs": [],
   "source": [
    "#### selected features"
   ]
  },
  {
   "cell_type": "code",
   "execution_count": 5,
   "metadata": {},
   "outputs": [
    {
     "data": {
      "text/html": [
       "<div>\n",
       "<style scoped>\n",
       "    .dataframe tbody tr th:only-of-type {\n",
       "        vertical-align: middle;\n",
       "    }\n",
       "\n",
       "    .dataframe tbody tr th {\n",
       "        vertical-align: top;\n",
       "    }\n",
       "\n",
       "    .dataframe thead th {\n",
       "        text-align: right;\n",
       "    }\n",
       "</style>\n",
       "<table border=\"1\" class=\"dataframe\">\n",
       "  <thead>\n",
       "    <tr style=\"text-align: right;\">\n",
       "      <th></th>\n",
       "      <th>Heat Set Temp (C)</th>\n",
       "      <th>Current Temp (C)</th>\n",
       "      <th>Outdoor Temp (C)</th>\n",
       "      <th>Current Humidity (%RH)</th>\n",
       "      <th>Heat Stage 1 (sec)</th>\n",
       "    </tr>\n",
       "  </thead>\n",
       "  <tbody>\n",
       "    <tr>\n",
       "      <th>0</th>\n",
       "      <td>21.0</td>\n",
       "      <td>21.3</td>\n",
       "      <td>5.0</td>\n",
       "      <td>30.0</td>\n",
       "      <td>0.0</td>\n",
       "    </tr>\n",
       "    <tr>\n",
       "      <th>1</th>\n",
       "      <td>21.0</td>\n",
       "      <td>21.1</td>\n",
       "      <td>5.0</td>\n",
       "      <td>32.0</td>\n",
       "      <td>0.0</td>\n",
       "    </tr>\n",
       "    <tr>\n",
       "      <th>2</th>\n",
       "      <td>21.0</td>\n",
       "      <td>20.9</td>\n",
       "      <td>5.2</td>\n",
       "      <td>32.0</td>\n",
       "      <td>0.0</td>\n",
       "    </tr>\n",
       "    <tr>\n",
       "      <th>3</th>\n",
       "      <td>21.0</td>\n",
       "      <td>20.7</td>\n",
       "      <td>5.2</td>\n",
       "      <td>33.0</td>\n",
       "      <td>135.0</td>\n",
       "    </tr>\n",
       "    <tr>\n",
       "      <th>4</th>\n",
       "      <td>21.0</td>\n",
       "      <td>20.6</td>\n",
       "      <td>5.2</td>\n",
       "      <td>33.0</td>\n",
       "      <td>300.0</td>\n",
       "    </tr>\n",
       "    <tr>\n",
       "      <th>...</th>\n",
       "      <td>...</td>\n",
       "      <td>...</td>\n",
       "      <td>...</td>\n",
       "      <td>...</td>\n",
       "      <td>...</td>\n",
       "    </tr>\n",
       "    <tr>\n",
       "      <th>29671</th>\n",
       "      <td>21.0</td>\n",
       "      <td>21.2</td>\n",
       "      <td>15.2</td>\n",
       "      <td>21.0</td>\n",
       "      <td>0.0</td>\n",
       "    </tr>\n",
       "    <tr>\n",
       "      <th>29672</th>\n",
       "      <td>21.0</td>\n",
       "      <td>21.1</td>\n",
       "      <td>15.7</td>\n",
       "      <td>21.0</td>\n",
       "      <td>0.0</td>\n",
       "    </tr>\n",
       "    <tr>\n",
       "      <th>29673</th>\n",
       "      <td>21.0</td>\n",
       "      <td>21.1</td>\n",
       "      <td>15.7</td>\n",
       "      <td>21.0</td>\n",
       "      <td>0.0</td>\n",
       "    </tr>\n",
       "    <tr>\n",
       "      <th>29674</th>\n",
       "      <td>21.0</td>\n",
       "      <td>21.1</td>\n",
       "      <td>15.7</td>\n",
       "      <td>21.0</td>\n",
       "      <td>0.0</td>\n",
       "    </tr>\n",
       "    <tr>\n",
       "      <th>29675</th>\n",
       "      <td>21.0</td>\n",
       "      <td>21.1</td>\n",
       "      <td>15.7</td>\n",
       "      <td>21.0</td>\n",
       "      <td>0.0</td>\n",
       "    </tr>\n",
       "  </tbody>\n",
       "</table>\n",
       "<p>29676 rows × 5 columns</p>\n",
       "</div>"
      ],
      "text/plain": [
       "       Heat Set Temp (C)  Current Temp (C)  Outdoor Temp (C)  \\\n",
       "0                   21.0              21.3               5.0   \n",
       "1                   21.0              21.1               5.0   \n",
       "2                   21.0              20.9               5.2   \n",
       "3                   21.0              20.7               5.2   \n",
       "4                   21.0              20.6               5.2   \n",
       "...                  ...               ...               ...   \n",
       "29671               21.0              21.2              15.2   \n",
       "29672               21.0              21.1              15.7   \n",
       "29673               21.0              21.1              15.7   \n",
       "29674               21.0              21.1              15.7   \n",
       "29675               21.0              21.1              15.7   \n",
       "\n",
       "       Current Humidity (%RH)  Heat Stage 1 (sec)  \n",
       "0                        30.0                 0.0  \n",
       "1                        32.0                 0.0  \n",
       "2                        32.0                 0.0  \n",
       "3                        33.0               135.0  \n",
       "4                        33.0               300.0  \n",
       "...                       ...                 ...  \n",
       "29671                    21.0                 0.0  \n",
       "29672                    21.0                 0.0  \n",
       "29673                    21.0                 0.0  \n",
       "29674                    21.0                 0.0  \n",
       "29675                    21.0                 0.0  \n",
       "\n",
       "[29676 rows x 5 columns]"
      ]
     },
     "execution_count": 5,
     "metadata": {},
     "output_type": "execute_result"
    }
   ],
   "source": [
    "selected_house_data=house_data[[\"Heat Set Temp (C)\",\"Current Temp (C)\",\"Outdoor Temp (C)\",\"Current Humidity (%RH)\",\"Heat Stage 1 (sec)\"]]\n",
    "selected_house_data"
   ]
  },
  {
   "cell_type": "code",
   "execution_count": 2,
   "metadata": {},
   "outputs": [],
   "source": [
    "#### show the target variable distribution"
   ]
  },
  {
   "cell_type": "code",
   "execution_count": 9,
   "metadata": {},
   "outputs": [],
   "source": [
    "x = selected_house_data[\"Heat Stage 1 (sec)\"].value_counts().index\n",
    "y = selected_house_data[\"Heat Stage 1 (sec)\"].value_counts(normalize = True).values"
   ]
  },
  {
   "cell_type": "code",
   "execution_count": 14,
   "metadata": {},
   "outputs": [
    {
     "data": {
      "image/png": "[encoded data removed]",
      "text/plain": [
       "<Figure size 1440x1080 with 1 Axes>"
      ]
     },
     "metadata": {
      "needs_background": "light"
     },
     "output_type": "display_data"
    }
   ],
   "source": [
    "plt.figure(figsize = (20, 15))\n",
    "ax = sns.barplot(x,y )\n",
    "ax.set(xlabel = 'Target Variable Values', ylabel = 'Percentage Values')\n",
    "plt.savefig(\"1.png\")"
   ]
  },
  {
   "cell_type": "code",
   "execution_count": 15,
   "metadata": {},
   "outputs": [
    {
     "data": {
      "text/plain": [
       "[Text(0.5, 0, 'Target Variable Values')]"
      ]
     },
     "execution_count": 15,
     "metadata": {},
     "output_type": "execute_result"
    },
    {
     "data": {
      "image/png": "[encoded data removed]",
      "text/plain": [
       "<Figure size 1440x1080 with 1 Axes>"
      ]
     },
     "metadata": {
      "needs_background": "light"
     },
     "output_type": "display_data"
    }
   ],
   "source": [
    "plt.figure(figsize = (20, 15))\n",
    "ax = sns.distplot(selected_house_data[\"Heat Stage 1 (sec)\"])\n",
    "ax.set(xlabel = 'Target Variable Values')"
   ]
  },
  {
   "cell_type": "markdown",
   "metadata": {},
   "source": [
    "####  Approach a: use 24 hours average value as the target values."
   ]
  },
  {
   "cell_type": "code",
   "execution_count": 25,
   "metadata": {},
   "outputs": [],
   "source": [
    "step = 24\n",
    "df2 = pd.DataFrame()\n",
    "for i in range(house_data.shape[0]-step):\n",
    "    dummy= pd.DataFrame(selected_house_data.iloc[range(i,i+step)].sum()).T\n",
    "    dummy = dummy/step\n",
    "    if i ==0:\n",
    "        df2 = dummy.copy()\n",
    "    else:\n",
    "        df2 = df2.append(dummy, ignore_index = True)"
   ]
  },
  {
   "cell_type": "code",
   "execution_count": 26,
   "metadata": {},
   "outputs": [
    {
     "data": {
      "text/html": [
       "<div>\n",
       "<style scoped>\n",
       "    .dataframe tbody tr th:only-of-type {\n",
       "        vertical-align: middle;\n",
       "    }\n",
       "\n",
       "    .dataframe tbody tr th {\n",
       "        vertical-align: top;\n",
       "    }\n",
       "\n",
       "    .dataframe thead th {\n",
       "        text-align: right;\n",
       "    }\n",
       "</style>\n",
       "<table border=\"1\" class=\"dataframe\">\n",
       "  <thead>\n",
       "    <tr style=\"text-align: right;\">\n",
       "      <th></th>\n",
       "      <th>Heat Set Temp (C)</th>\n",
       "      <th>Current Temp (C)</th>\n",
       "      <th>Outdoor Temp (C)</th>\n",
       "      <th>Current Humidity (%RH)</th>\n",
       "      <th>Heat Stage 1 (sec)</th>\n",
       "    </tr>\n",
       "  </thead>\n",
       "  <tbody>\n",
       "    <tr>\n",
       "      <th>0</th>\n",
       "      <td>21.0</td>\n",
       "      <td>20.883333</td>\n",
       "      <td>5.275000</td>\n",
       "      <td>32.791667</td>\n",
       "      <td>102.500</td>\n",
       "    </tr>\n",
       "    <tr>\n",
       "      <th>1</th>\n",
       "      <td>21.0</td>\n",
       "      <td>20.875000</td>\n",
       "      <td>5.287500</td>\n",
       "      <td>32.916667</td>\n",
       "      <td>102.500</td>\n",
       "    </tr>\n",
       "    <tr>\n",
       "      <th>2</th>\n",
       "      <td>21.0</td>\n",
       "      <td>20.870833</td>\n",
       "      <td>5.300000</td>\n",
       "      <td>32.958333</td>\n",
       "      <td>102.500</td>\n",
       "    </tr>\n",
       "    <tr>\n",
       "      <th>3</th>\n",
       "      <td>21.0</td>\n",
       "      <td>20.870833</td>\n",
       "      <td>5.308333</td>\n",
       "      <td>33.000000</td>\n",
       "      <td>102.500</td>\n",
       "    </tr>\n",
       "    <tr>\n",
       "      <th>4</th>\n",
       "      <td>21.0</td>\n",
       "      <td>20.875000</td>\n",
       "      <td>5.316667</td>\n",
       "      <td>33.000000</td>\n",
       "      <td>96.875</td>\n",
       "    </tr>\n",
       "  </tbody>\n",
       "</table>\n",
       "</div>"
      ],
      "text/plain": [
       "   Heat Set Temp (C)  Current Temp (C)  Outdoor Temp (C)  \\\n",
       "0               21.0         20.883333          5.275000   \n",
       "1               21.0         20.875000          5.287500   \n",
       "2               21.0         20.870833          5.300000   \n",
       "3               21.0         20.870833          5.308333   \n",
       "4               21.0         20.875000          5.316667   \n",
       "\n",
       "   Current Humidity (%RH)  Heat Stage 1 (sec)  \n",
       "0               32.791667             102.500  \n",
       "1               32.916667             102.500  \n",
       "2               32.958333             102.500  \n",
       "3               33.000000             102.500  \n",
       "4               33.000000              96.875  "
      ]
     },
     "execution_count": 26,
     "metadata": {},
     "output_type": "execute_result"
    }
   ],
   "source": [
    "df2.head()"
   ]
  },
  {
   "cell_type": "markdown",
   "metadata": {},
   "source": [
    "#### check new target variables distribution"
   ]
  },
  {
   "cell_type": "code",
   "execution_count": 6,
   "metadata": {
    "collapsed": true
   },
   "outputs": [
    {
     "ename": "NameError",
     "evalue": "name 'plt' is not defined",
     "output_type": "error",
     "traceback": [
      "\u001b[1;31m---------------------------------------------------------------------------\u001b[0m",
      "\u001b[1;31mNameError\u001b[0m                                 Traceback (most recent call last)",
      "\u001b[1;32m<ipython-input-6-dacc851ccc3d>\u001b[0m in \u001b[0;36m<module>\u001b[1;34m\u001b[0m\n\u001b[1;32m----> 1\u001b[1;33m \u001b[0mplt\u001b[0m\u001b[1;33m.\u001b[0m\u001b[0mfigure\u001b[0m\u001b[1;33m(\u001b[0m\u001b[0mfigsize\u001b[0m \u001b[1;33m=\u001b[0m \u001b[1;33m(\u001b[0m\u001b[1;36m20\u001b[0m\u001b[1;33m,\u001b[0m \u001b[1;36m15\u001b[0m\u001b[1;33m)\u001b[0m\u001b[1;33m)\u001b[0m\u001b[1;33m\u001b[0m\u001b[1;33m\u001b[0m\u001b[0m\n\u001b[0m\u001b[0;32m      2\u001b[0m \u001b[0max\u001b[0m \u001b[1;33m=\u001b[0m \u001b[0msns\u001b[0m\u001b[1;33m.\u001b[0m\u001b[0mdistplot\u001b[0m\u001b[1;33m(\u001b[0m\u001b[0mdf2\u001b[0m\u001b[1;33m[\u001b[0m\u001b[1;34m\"Heat Stage 1 (sec)\"\u001b[0m\u001b[1;33m]\u001b[0m\u001b[1;33m)\u001b[0m\u001b[1;33m\u001b[0m\u001b[1;33m\u001b[0m\u001b[0m\n\u001b[0;32m      3\u001b[0m \u001b[0max\u001b[0m\u001b[1;33m.\u001b[0m\u001b[0mset\u001b[0m\u001b[1;33m(\u001b[0m\u001b[0mxlabel\u001b[0m \u001b[1;33m=\u001b[0m \u001b[1;34m'Target Variable Values'\u001b[0m\u001b[1;33m)\u001b[0m\u001b[1;33m\u001b[0m\u001b[1;33m\u001b[0m\u001b[0m\n\u001b[0;32m      4\u001b[0m \u001b[0mplt\u001b[0m\u001b[1;33m.\u001b[0m\u001b[0msavefig\u001b[0m\u001b[1;33m(\u001b[0m\u001b[1;34m\"2.png\"\u001b[0m\u001b[1;33m)\u001b[0m\u001b[1;33m\u001b[0m\u001b[1;33m\u001b[0m\u001b[0m\n",
      "\u001b[1;31mNameError\u001b[0m: name 'plt' is not defined"
     ]
    }
   ],
   "source": [
    "plt.figure(figsize = (20, 15))\n",
    "ax = sns.distplot(df2[\"Heat Stage 1 (sec)\"])\n",
    "ax.set(xlabel = 'Target Variable Values')\n",
    "plt.savefig(\"2.png\")"
   ]
  },
  {
   "cell_type": "code",
   "execution_count": 28,
   "metadata": {},
   "outputs": [
    {
     "data": {
      "image/png": "[encoded data removed]",
      "text/plain": [
       "<Figure size 1152x864 with 2 Axes>"
      ]
     },
     "metadata": {
      "needs_background": "light"
     },
     "output_type": "display_data"
    }
   ],
   "source": [
    "plt.figure(figsize = (16,12))\n",
    "cor = df2.corr('pearson')\n",
    "sns.heatmap(cor, annot = True, cmap = plt.cm.Reds)\n",
    "plt.show()"
   ]
  },
  {
   "cell_type": "code",
   "execution_count": 30,
   "metadata": {},
   "outputs": [
    {
     "data": {
      "text/plain": [
       "<matplotlib.axes._subplots.AxesSubplot at 0x1cdeb7e2dd8>"
      ]
     },
     "execution_count": 30,
     "metadata": {},
     "output_type": "execute_result"
    },
    {
     "data": {
      "image/png": "[encoded data removed]",
      "text/plain": [
       "<Figure size 432x288 with 1 Axes>"
      ]
     },
     "metadata": {
      "needs_background": "light"
     },
     "output_type": "display_data"
    }
   ],
   "source": [
    "sns.boxplot(df2[\"Heat Stage 1 (sec)\"])"
   ]
  },
  {
   "cell_type": "markdown",
   "metadata": {},
   "source": [
    "#### check outliar, and remove the outliar records"
   ]
  },
  {
   "cell_type": "code",
   "execution_count": 34,
   "metadata": {},
   "outputs": [
    {
     "data": {
      "text/plain": [
       "48.75"
      ]
     },
     "execution_count": 34,
     "metadata": {},
     "output_type": "execute_result"
    }
   ],
   "source": [
    "Q1 = df2[\"Heat Stage 1 (sec)\"].quantile(0.25)\n",
    "Q3 = df2[\"Heat Stage 1 (sec)\"].quantile(0.75)\n",
    "IQR = Q3 - Q1\n",
    "IQR"
   ]
  },
  {
   "cell_type": "code",
   "execution_count": 35,
   "metadata": {},
   "outputs": [
    {
     "data": {
      "text/html": [
       "<div>\n",
       "<style scoped>\n",
       "    .dataframe tbody tr th:only-of-type {\n",
       "        vertical-align: middle;\n",
       "    }\n",
       "\n",
       "    .dataframe tbody tr th {\n",
       "        vertical-align: top;\n",
       "    }\n",
       "\n",
       "    .dataframe thead th {\n",
       "        text-align: right;\n",
       "    }\n",
       "</style>\n",
       "<table border=\"1\" class=\"dataframe\">\n",
       "  <thead>\n",
       "    <tr style=\"text-align: right;\">\n",
       "      <th></th>\n",
       "      <th>Heat Set Temp (C)</th>\n",
       "      <th>Current Temp (C)</th>\n",
       "      <th>Outdoor Temp (C)</th>\n",
       "      <th>Current Humidity (%RH)</th>\n",
       "      <th>Heat Stage 1 (sec)</th>\n",
       "    </tr>\n",
       "  </thead>\n",
       "  <tbody>\n",
       "    <tr>\n",
       "      <th>272</th>\n",
       "      <td>21.0</td>\n",
       "      <td>20.900000</td>\n",
       "      <td>5.1500</td>\n",
       "      <td>33.000000</td>\n",
       "      <td>12.5</td>\n",
       "    </tr>\n",
       "    <tr>\n",
       "      <th>273</th>\n",
       "      <td>21.0</td>\n",
       "      <td>20.900000</td>\n",
       "      <td>5.2375</td>\n",
       "      <td>33.000000</td>\n",
       "      <td>0.0</td>\n",
       "    </tr>\n",
       "    <tr>\n",
       "      <th>274</th>\n",
       "      <td>21.0</td>\n",
       "      <td>20.891667</td>\n",
       "      <td>5.3250</td>\n",
       "      <td>33.000000</td>\n",
       "      <td>0.0</td>\n",
       "    </tr>\n",
       "    <tr>\n",
       "      <th>275</th>\n",
       "      <td>21.0</td>\n",
       "      <td>20.879167</td>\n",
       "      <td>5.4125</td>\n",
       "      <td>33.000000</td>\n",
       "      <td>0.0</td>\n",
       "    </tr>\n",
       "    <tr>\n",
       "      <th>276</th>\n",
       "      <td>21.0</td>\n",
       "      <td>20.866667</td>\n",
       "      <td>5.5000</td>\n",
       "      <td>33.000000</td>\n",
       "      <td>0.0</td>\n",
       "    </tr>\n",
       "    <tr>\n",
       "      <th>...</th>\n",
       "      <td>...</td>\n",
       "      <td>...</td>\n",
       "      <td>...</td>\n",
       "      <td>...</td>\n",
       "      <td>...</td>\n",
       "    </tr>\n",
       "    <tr>\n",
       "      <th>29647</th>\n",
       "      <td>21.0</td>\n",
       "      <td>21.354167</td>\n",
       "      <td>14.5000</td>\n",
       "      <td>23.458333</td>\n",
       "      <td>0.0</td>\n",
       "    </tr>\n",
       "    <tr>\n",
       "      <th>29648</th>\n",
       "      <td>21.0</td>\n",
       "      <td>21.350000</td>\n",
       "      <td>14.6000</td>\n",
       "      <td>23.375000</td>\n",
       "      <td>0.0</td>\n",
       "    </tr>\n",
       "    <tr>\n",
       "      <th>29649</th>\n",
       "      <td>21.0</td>\n",
       "      <td>21.341667</td>\n",
       "      <td>14.6750</td>\n",
       "      <td>23.333333</td>\n",
       "      <td>0.0</td>\n",
       "    </tr>\n",
       "    <tr>\n",
       "      <th>29650</th>\n",
       "      <td>21.0</td>\n",
       "      <td>21.333333</td>\n",
       "      <td>14.7500</td>\n",
       "      <td>23.250000</td>\n",
       "      <td>0.0</td>\n",
       "    </tr>\n",
       "    <tr>\n",
       "      <th>29651</th>\n",
       "      <td>21.0</td>\n",
       "      <td>21.325000</td>\n",
       "      <td>14.8250</td>\n",
       "      <td>23.125000</td>\n",
       "      <td>0.0</td>\n",
       "    </tr>\n",
       "  </tbody>\n",
       "</table>\n",
       "<p>1594 rows × 5 columns</p>\n",
       "</div>"
      ],
      "text/plain": [
       "       Heat Set Temp (C)  Current Temp (C)  Outdoor Temp (C)  \\\n",
       "272                 21.0         20.900000            5.1500   \n",
       "273                 21.0         20.900000            5.2375   \n",
       "274                 21.0         20.891667            5.3250   \n",
       "275                 21.0         20.879167            5.4125   \n",
       "276                 21.0         20.866667            5.5000   \n",
       "...                  ...               ...               ...   \n",
       "29647               21.0         21.354167           14.5000   \n",
       "29648               21.0         21.350000           14.6000   \n",
       "29649               21.0         21.341667           14.6750   \n",
       "29650               21.0         21.333333           14.7500   \n",
       "29651               21.0         21.325000           14.8250   \n",
       "\n",
       "       Current Humidity (%RH)  Heat Stage 1 (sec)  \n",
       "272                 33.000000                12.5  \n",
       "273                 33.000000                 0.0  \n",
       "274                 33.000000                 0.0  \n",
       "275                 33.000000                 0.0  \n",
       "276                 33.000000                 0.0  \n",
       "...                       ...                 ...  \n",
       "29647               23.458333                 0.0  \n",
       "29648               23.375000                 0.0  \n",
       "29649               23.333333                 0.0  \n",
       "29650               23.250000                 0.0  \n",
       "29651               23.125000                 0.0  \n",
       "\n",
       "[1594 rows x 5 columns]"
      ]
     },
     "execution_count": 35,
     "metadata": {},
     "output_type": "execute_result"
    }
   ],
   "source": [
    "df2[(df2[\"Heat Stage 1 (sec)\"]< (Q1 - 1.5 * IQR)) |(df2[\"Heat Stage 1 (sec)\"] > (Q3 + 1.5 * IQR)) ]"
   ]
  },
  {
   "cell_type": "markdown",
   "metadata": {},
   "source": [
    "#### check z-score, and based z-score, select z-score < 3 records"
   ]
  },
  {
   "cell_type": "code",
   "execution_count": 47,
   "metadata": {},
   "outputs": [
    {
     "data": {
      "text/plain": [
       "array([[0.09694058, 0.1813753 , 1.44925885, 2.1479446 , 0.13601699],\n",
       "       [0.09694058, 0.1649261 , 1.45161046, 2.17966708, 0.13601699],\n",
       "       [0.09694058, 0.1567015 , 1.45396208, 2.19024124, 0.13601699],\n",
       "       ...,\n",
       "       [0.09694058, 1.08608137, 3.21767155, 0.25238939, 2.39199277],\n",
       "       [0.09694058, 1.06963217, 3.23178123, 0.27353771, 2.39199277],\n",
       "       [0.09694058, 1.05318297, 3.24589091, 0.30526018, 2.39199277]])"
      ]
     },
     "execution_count": 47,
     "metadata": {},
     "output_type": "execute_result"
    }
   ],
   "source": [
    "from scipy import stats\n",
    "import numpy as np\n",
    "\n",
    "z = np.abs(stats.zscore(df2))\n",
    "z"
   ]
  },
  {
   "cell_type": "code",
   "execution_count": 51,
   "metadata": {},
   "outputs": [
    {
     "data": {
      "text/plain": [
       "Heat Set Temp (C)          0.000000\n",
       "Current Temp (C)           0.029167\n",
       "Outdoor Temp (C)           6.833333\n",
       "Current Humidity (%RH)     7.000000\n",
       "Heat Stage 1 (sec)        48.750000\n",
       "dtype: float64"
      ]
     },
     "execution_count": 51,
     "metadata": {},
     "output_type": "execute_result"
    }
   ],
   "source": [
    "Q1 = df2.quantile(0.25)\n",
    "Q3 = df2.quantile(0.75)\n",
    "IQR = Q3 - Q1\n",
    "IQR"
   ]
  },
  {
   "cell_type": "code",
   "execution_count": 64,
   "metadata": {},
   "outputs": [
    {
     "data": {
      "text/html": [
       "<div>\n",
       "<style scoped>\n",
       "    .dataframe tbody tr th:only-of-type {\n",
       "        vertical-align: middle;\n",
       "    }\n",
       "\n",
       "    .dataframe tbody tr th {\n",
       "        vertical-align: top;\n",
       "    }\n",
       "\n",
       "    .dataframe thead th {\n",
       "        text-align: right;\n",
       "    }\n",
       "</style>\n",
       "<table border=\"1\" class=\"dataframe\">\n",
       "  <thead>\n",
       "    <tr style=\"text-align: right;\">\n",
       "      <th></th>\n",
       "      <th>Heat Set Temp (C)</th>\n",
       "      <th>Current Temp (C)</th>\n",
       "      <th>Outdoor Temp (C)</th>\n",
       "      <th>Current Humidity (%RH)</th>\n",
       "      <th>Heat Stage 1 (sec)</th>\n",
       "    </tr>\n",
       "  </thead>\n",
       "  <tbody>\n",
       "    <tr>\n",
       "      <th>0</th>\n",
       "      <td>21.0</td>\n",
       "      <td>20.883333</td>\n",
       "      <td>5.275</td>\n",
       "      <td>32.791667</td>\n",
       "      <td>102.5</td>\n",
       "    </tr>\n",
       "    <tr>\n",
       "      <th>0</th>\n",
       "      <td>21.0</td>\n",
       "      <td>20.883333</td>\n",
       "      <td>5.275</td>\n",
       "      <td>32.791667</td>\n",
       "      <td>102.5</td>\n",
       "    </tr>\n",
       "    <tr>\n",
       "      <th>0</th>\n",
       "      <td>21.0</td>\n",
       "      <td>20.883333</td>\n",
       "      <td>5.275</td>\n",
       "      <td>32.791667</td>\n",
       "      <td>102.5</td>\n",
       "    </tr>\n",
       "    <tr>\n",
       "      <th>0</th>\n",
       "      <td>21.0</td>\n",
       "      <td>20.883333</td>\n",
       "      <td>5.275</td>\n",
       "      <td>32.791667</td>\n",
       "      <td>102.5</td>\n",
       "    </tr>\n",
       "    <tr>\n",
       "      <th>0</th>\n",
       "      <td>21.0</td>\n",
       "      <td>20.883333</td>\n",
       "      <td>5.275</td>\n",
       "      <td>32.791667</td>\n",
       "      <td>102.5</td>\n",
       "    </tr>\n",
       "    <tr>\n",
       "      <th>...</th>\n",
       "      <td>...</td>\n",
       "      <td>...</td>\n",
       "      <td>...</td>\n",
       "      <td>...</td>\n",
       "      <td>...</td>\n",
       "    </tr>\n",
       "    <tr>\n",
       "      <th>29650</th>\n",
       "      <td>21.0</td>\n",
       "      <td>21.333333</td>\n",
       "      <td>14.750</td>\n",
       "      <td>23.250000</td>\n",
       "      <td>0.0</td>\n",
       "    </tr>\n",
       "    <tr>\n",
       "      <th>29651</th>\n",
       "      <td>21.0</td>\n",
       "      <td>21.325000</td>\n",
       "      <td>14.825</td>\n",
       "      <td>23.125000</td>\n",
       "      <td>0.0</td>\n",
       "    </tr>\n",
       "    <tr>\n",
       "      <th>29651</th>\n",
       "      <td>21.0</td>\n",
       "      <td>21.325000</td>\n",
       "      <td>14.825</td>\n",
       "      <td>23.125000</td>\n",
       "      <td>0.0</td>\n",
       "    </tr>\n",
       "    <tr>\n",
       "      <th>29651</th>\n",
       "      <td>21.0</td>\n",
       "      <td>21.325000</td>\n",
       "      <td>14.825</td>\n",
       "      <td>23.125000</td>\n",
       "      <td>0.0</td>\n",
       "    </tr>\n",
       "    <tr>\n",
       "      <th>29651</th>\n",
       "      <td>21.0</td>\n",
       "      <td>21.325000</td>\n",
       "      <td>14.825</td>\n",
       "      <td>23.125000</td>\n",
       "      <td>0.0</td>\n",
       "    </tr>\n",
       "  </tbody>\n",
       "</table>\n",
       "<p>147243 rows × 5 columns</p>\n",
       "</div>"
      ],
      "text/plain": [
       "       Heat Set Temp (C)  Current Temp (C)  Outdoor Temp (C)  \\\n",
       "0                   21.0         20.883333             5.275   \n",
       "0                   21.0         20.883333             5.275   \n",
       "0                   21.0         20.883333             5.275   \n",
       "0                   21.0         20.883333             5.275   \n",
       "0                   21.0         20.883333             5.275   \n",
       "...                  ...               ...               ...   \n",
       "29650               21.0         21.333333            14.750   \n",
       "29651               21.0         21.325000            14.825   \n",
       "29651               21.0         21.325000            14.825   \n",
       "29651               21.0         21.325000            14.825   \n",
       "29651               21.0         21.325000            14.825   \n",
       "\n",
       "       Current Humidity (%RH)  Heat Stage 1 (sec)  \n",
       "0                   32.791667               102.5  \n",
       "0                   32.791667               102.5  \n",
       "0                   32.791667               102.5  \n",
       "0                   32.791667               102.5  \n",
       "0                   32.791667               102.5  \n",
       "...                       ...                 ...  \n",
       "29650               23.250000                 0.0  \n",
       "29651               23.125000                 0.0  \n",
       "29651               23.125000                 0.0  \n",
       "29651               23.125000                 0.0  \n",
       "29651               23.125000                 0.0  \n",
       "\n",
       "[147243 rows x 5 columns]"
      ]
     },
     "execution_count": 64,
     "metadata": {},
     "output_type": "execute_result"
    }
   ],
   "source": [
    "df2_o = df2[(z < 3).all(axis=1)]\n",
    "df2_o"
   ]
  },
  {
   "cell_type": "code",
   "execution_count": null,
   "metadata": {},
   "outputs": [],
   "source": [
    "df2_o.shape"
   ]
  },
  {
   "cell_type": "code",
   "execution_count": 68,
   "metadata": {},
   "outputs": [
    {
     "data": {
      "text/plain": [
       "(29652, 5)"
      ]
     },
     "execution_count": 68,
     "metadata": {},
     "output_type": "execute_result"
    }
   ],
   "source": [
    "df2_out = df2[((df2 > (Q1 - 1.5 * IQR)) & (df2 < (Q3 + 1.5 * IQR))).any(axis = 1)]\n",
    "df2_out.shape"
   ]
  },
  {
   "cell_type": "code",
   "execution_count": 69,
   "metadata": {},
   "outputs": [],
   "source": [
    "from sklearn import datasets, preprocessing\n",
    "from sklearn.model_selection import train_test_split\n"
   ]
  },
  {
   "cell_type": "markdown",
   "metadata": {},
   "source": [
    "#### check target value distribution after above action"
   ]
  },
  {
   "cell_type": "code",
   "execution_count": 70,
   "metadata": {},
   "outputs": [
    {
     "data": {
      "image/png": "[encoded data removed]",
      "text/plain": [
       "<Figure size 432x288 with 1 Axes>"
      ]
     },
     "metadata": {
      "needs_background": "light"
     },
     "output_type": "display_data"
    }
   ],
   "source": [
    "sns.distplot(df2_o[\"Heat Stage 1 (sec)\"])\n",
    "plt.savefig(\"3.png\")"
   ]
  },
  {
   "cell_type": "code",
   "execution_count": 71,
   "metadata": {},
   "outputs": [
    {
     "data": {
      "image/png": "[encoded data removed]",
      "text/plain": [
       "<Figure size 432x288 with 1 Axes>"
      ]
     },
     "metadata": {
      "needs_background": "light"
     },
     "output_type": "display_data"
    }
   ],
   "source": [
    "ax = sns.distplot(df2_out[\"Heat Stage 1 (sec)\"])\n",
    "ax.set(xlabel = 'Target Variable Values')\n",
    "plt.savefig(\"4.png\")"
   ]
  },
  {
   "cell_type": "code",
   "execution_count": 72,
   "metadata": {},
   "outputs": [],
   "source": [
    "from sklearn.preprocessing import StandardScaler\n",
    "from sklearn.model_selection import train_test_split\n",
    "from sklearn.metrics import accuracy_score,confusion_matrix\n",
    "import tensorflow as tf\n",
    "from tensorflow.python.keras.layers import Dense, Dropout, LSTM\n",
    "from tensorflow.python.keras import Sequential\n",
    "from tensorflow.keras.utils import to_categorical\n",
    "from sklearn.preprocessing import OrdinalEncoder"
   ]
  },
  {
   "cell_type": "code",
   "execution_count": null,
   "metadata": {},
   "outputs": [],
   "source": [
    "df2_out"
   ]
  },
  {
   "cell_type": "markdown",
   "metadata": {},
   "source": [
    "#### select X and y variable"
   ]
  },
  {
   "cell_type": "code",
   "execution_count": 73,
   "metadata": {},
   "outputs": [],
   "source": [
    "X = df2_out[[\"Heat Set Temp (C)\",\"Current Temp (C)\",\"Outdoor Temp (C)\",\"Current Humidity (%RH)\"]]\n",
    "y = df2_out[[\"Heat Stage 1 (sec)\"]]"
   ]
  },
  {
   "cell_type": "markdown",
   "metadata": {},
   "source": [
    "#### split whole dataset to train and test dataset"
   ]
  },
  {
   "cell_type": "code",
   "execution_count": 76,
   "metadata": {},
   "outputs": [],
   "source": [
    "X_train, X_test, y_train, y_test = train_test_split(X, y, test_size = 0.2)"
   ]
  },
  {
   "cell_type": "markdown",
   "metadata": {},
   "source": [
    "#### ANN model"
   ]
  },
  {
   "cell_type": "code",
   "execution_count": 77,
   "metadata": {},
   "outputs": [
    {
     "name": "stdout",
     "output_type": "stream",
     "text": [
      "Epoch 1/200\n",
      "1483/1483 [==============================] - 3s 2ms/step - loss: 38.4898 - mse: 3182.3059 - val_loss: 21.6278 - val_mse: 1128.5638\n",
      "Epoch 2/200\n",
      "1483/1483 [==============================] - 2s 2ms/step - loss: 21.4994 - mse: 1080.1228 - val_loss: 21.6574 - val_mse: 1141.9193\n",
      "Epoch 3/200\n",
      "1483/1483 [==============================] - 3s 2ms/step - loss: 21.4869 - mse: 1078.8179 - val_loss: 21.6272 - val_mse: 1133.3030\n",
      "Epoch 4/200\n",
      "1483/1483 [==============================] - 3s 2ms/step - loss: 21.4867 - mse: 1077.0879 - val_loss: 21.5681 - val_mse: 1110.7704\n",
      "Epoch 5/200\n",
      "1483/1483 [==============================] - 4s 2ms/step - loss: 21.4877 - mse: 1075.5592 - val_loss: 21.6272 - val_mse: 1132.2355\n",
      "Epoch 6/200\n",
      "1483/1483 [==============================] - 2s 2ms/step - loss: 21.4721 - mse: 1073.4211 - val_loss: 21.6162 - val_mse: 1130.1582\n",
      "Epoch 7/200\n",
      "1483/1483 [==============================] - 3s 2ms/step - loss: 21.4497 - mse: 1071.9583 - val_loss: 21.5771 - val_mse: 1117.0518\n",
      "Epoch 8/200\n",
      "1483/1483 [==============================] - 2s 2ms/step - loss: 21.4539 - mse: 1070.7214 - val_loss: 21.6692 - val_mse: 1074.9592\n",
      "Epoch 9/200\n",
      "1483/1483 [==============================] - 2s 2ms/step - loss: 21.4640 - mse: 1072.7942 - val_loss: 21.7238 - val_mse: 1069.2108\n",
      "Epoch 10/200\n",
      "1483/1483 [==============================] - 2s 1ms/step - loss: 21.4587 - mse: 1069.4763 - val_loss: 21.5847 - val_mse: 1090.6357\n",
      "Epoch 11/200\n",
      "1483/1483 [==============================] - 3s 2ms/step - loss: 21.4649 - mse: 1070.7556 - val_loss: 21.5561 - val_mse: 1100.9767\n",
      "Epoch 12/200\n",
      "1483/1483 [==============================] - 2s 1ms/step - loss: 21.4540 - mse: 1069.9188 - val_loss: 21.5647 - val_mse: 1091.1569\n",
      "Epoch 13/200\n",
      "1483/1483 [==============================] - 3s 2ms/step - loss: 21.4416 - mse: 1069.5610 - val_loss: 21.5588 - val_mse: 1105.9291\n",
      "Epoch 14/200\n",
      "1483/1483 [==============================] - 2s 1ms/step - loss: 21.4598 - mse: 1070.8375 - val_loss: 21.5926 - val_mse: 1082.4808\n",
      "Epoch 15/200\n",
      "1483/1483 [==============================] - 3s 2ms/step - loss: 21.4583 - mse: 1068.8835 - val_loss: 21.6590 - val_mse: 1137.7539\n",
      "Epoch 16/200\n",
      "1483/1483 [==============================] - 2s 2ms/step - loss: 21.4380 - mse: 1067.9171 - val_loss: 21.5546 - val_mse: 1100.6416\n",
      "Epoch 17/200\n",
      "1483/1483 [==============================] - 2s 1ms/step - loss: 21.4582 - mse: 1068.0948 - val_loss: 21.5537 - val_mse: 1088.6095\n",
      "Epoch 18/200\n",
      "1483/1483 [==============================] - 2s 1ms/step - loss: 21.4391 - mse: 1067.2537 - val_loss: 21.5268 - val_mse: 1100.4039\n",
      "Epoch 19/200\n",
      "1483/1483 [==============================] - 2s 1ms/step - loss: 21.3996 - mse: 1064.0151 - val_loss: 21.5055 - val_mse: 1098.8612\n",
      "Epoch 20/200\n",
      "1483/1483 [==============================] - 3s 2ms/step - loss: 21.3786 - mse: 1065.5776 - val_loss: 21.5263 - val_mse: 1117.0698\n",
      "Epoch 21/200\n",
      "1483/1483 [==============================] - 2s 1ms/step - loss: 21.3591 - mse: 1063.9941 - val_loss: 21.5043 - val_mse: 1083.3018\n",
      "Epoch 22/200\n",
      "1483/1483 [==============================] - 2s 1ms/step - loss: 21.3615 - mse: 1063.3080 - val_loss: 21.7322 - val_mse: 1153.2482\n",
      "Epoch 23/200\n",
      "1483/1483 [==============================] - 2s 1ms/step - loss: 21.3507 - mse: 1063.0538 - val_loss: 21.5993 - val_mse: 1067.8102\n",
      "Epoch 24/200\n",
      "1483/1483 [==============================] - 3s 2ms/step - loss: 21.3434 - mse: 1061.2052 - val_loss: 21.6380 - val_mse: 1139.8318\n",
      "Epoch 25/200\n",
      "1483/1483 [==============================] - 2s 2ms/step - loss: 21.3537 - mse: 1060.9504 - val_loss: 21.5000 - val_mse: 1110.2782\n",
      "Epoch 26/200\n",
      "1483/1483 [==============================] - 2s 2ms/step - loss: 21.3582 - mse: 1060.4868 - val_loss: 21.4716 - val_mse: 1088.9587\n",
      "Epoch 27/200\n",
      "1483/1483 [==============================] - 2s 1ms/step - loss: 21.3565 - mse: 1060.0352 - val_loss: 21.5669 - val_mse: 1125.0160\n",
      "Epoch 28/200\n",
      "1483/1483 [==============================] - 2s 2ms/step - loss: 21.3511 - mse: 1061.0059 - val_loss: 21.5004 - val_mse: 1078.1071\n",
      "Epoch 29/200\n",
      "1483/1483 [==============================] - 3s 2ms/step - loss: 21.3605 - mse: 1060.4036 - val_loss: 21.5255 - val_mse: 1072.1642\n",
      "Epoch 30/200\n",
      "1483/1483 [==============================] - 2s 2ms/step - loss: 21.3381 - mse: 1059.6863 - val_loss: 21.4475 - val_mse: 1084.2789\n",
      "Epoch 31/200\n",
      "1483/1483 [==============================] - 2s 1ms/step - loss: 21.2938 - mse: 1057.3759 - val_loss: 21.4541 - val_mse: 1069.3582\n",
      "Epoch 32/200\n",
      "1483/1483 [==============================] - 2s 1ms/step - loss: 21.2605 - mse: 1056.4176 - val_loss: 21.3847 - val_mse: 1076.4830\n",
      "Epoch 33/200\n",
      "1483/1483 [==============================] - 2s 1ms/step - loss: 21.2299 - mse: 1055.3347 - val_loss: 21.4588 - val_mse: 1068.4652\n",
      "Epoch 34/200\n",
      "1483/1483 [==============================] - 2s 1ms/step - loss: 21.2097 - mse: 1056.0859 - val_loss: 21.4272 - val_mse: 1120.3042\n",
      "Epoch 35/200\n",
      "1483/1483 [==============================] - 2s 1ms/step - loss: 21.2021 - mse: 1055.5117 - val_loss: 21.3196 - val_mse: 1094.3743\n",
      "Epoch 36/200\n",
      "1483/1483 [==============================] - 3s 2ms/step - loss: 21.1591 - mse: 1053.3805 - val_loss: 21.3642 - val_mse: 1066.3798\n",
      "Epoch 37/200\n",
      "1483/1483 [==============================] - 2s 2ms/step - loss: 21.1516 - mse: 1053.3315 - val_loss: 21.3082 - val_mse: 1100.4692\n",
      "Epoch 38/200\n",
      "1483/1483 [==============================] - 3s 2ms/step - loss: 21.1420 - mse: 1052.0044 - val_loss: 21.2964 - val_mse: 1090.7581\n",
      "Epoch 39/200\n",
      "1483/1483 [==============================] - 2s 2ms/step - loss: 21.1419 - mse: 1050.6874 - val_loss: 21.3301 - val_mse: 1068.3755\n",
      "Epoch 40/200\n",
      "1483/1483 [==============================] - 2s 2ms/step - loss: 21.1369 - mse: 1051.2418 - val_loss: 21.2801 - val_mse: 1090.3066\n",
      "Epoch 41/200\n",
      "1483/1483 [==============================] - 3s 2ms/step - loss: 21.1365 - mse: 1054.3191 - val_loss: 21.3118 - val_mse: 1107.2339\n",
      "Epoch 42/200\n",
      "1483/1483 [==============================] - 3s 2ms/step - loss: 21.1124 - mse: 1052.9229 - val_loss: 21.3660 - val_mse: 1066.8470\n",
      "Epoch 43/200\n",
      "1483/1483 [==============================] - 3s 2ms/step - loss: 21.1198 - mse: 1052.9211 - val_loss: 21.2615 - val_mse: 1075.8616\n",
      "Epoch 44/200\n",
      "1483/1483 [==============================] - 2s 2ms/step - loss: 21.1111 - mse: 1054.9476 - val_loss: 21.2596 - val_mse: 1080.6108\n",
      "Epoch 45/200\n",
      "1483/1483 [==============================] - 3s 2ms/step - loss: 21.0989 - mse: 1055.2833 - val_loss: 21.3387 - val_mse: 1125.6052\n",
      "Epoch 46/200\n",
      "1483/1483 [==============================] - 3s 2ms/step - loss: 21.0923 - mse: 1054.2681 - val_loss: 21.2367 - val_mse: 1089.0808\n",
      "Epoch 47/200\n",
      "1483/1483 [==============================] - 2s 2ms/step - loss: 21.0864 - mse: 1055.2063 - val_loss: 21.2644 - val_mse: 1071.4167\n",
      "Epoch 48/200\n",
      "1483/1483 [==============================] - 2s 2ms/step - loss: 21.0674 - mse: 1053.7063 - val_loss: 21.2515 - val_mse: 1072.7397\n",
      "Epoch 49/200\n",
      "1483/1483 [==============================] - 2s 2ms/step - loss: 21.0592 - mse: 1054.3646 - val_loss: 21.2226 - val_mse: 1094.5521\n",
      "Epoch 50/200\n",
      "1483/1483 [==============================] - 4s 3ms/step - loss: 21.0657 - mse: 1054.5773 - val_loss: 21.3335 - val_mse: 1058.5819\n",
      "Epoch 51/200\n",
      "1483/1483 [==============================] - 2s 2ms/step - loss: 21.0518 - mse: 1053.3451 - val_loss: 21.1940 - val_mse: 1090.0575\n",
      "Epoch 52/200\n",
      "1483/1483 [==============================] - 2s 1ms/step - loss: 21.0453 - mse: 1054.4949 - val_loss: 21.2210 - val_mse: 1084.4788\n",
      "Epoch 53/200\n",
      "1483/1483 [==============================] - 2s 2ms/step - loss: 21.0369 - mse: 1053.0997 - val_loss: 21.2022 - val_mse: 1081.1255\n",
      "Epoch 54/200\n",
      "1483/1483 [==============================] - 2s 1ms/step - loss: 21.0421 - mse: 1053.1063 - val_loss: 21.2282 - val_mse: 1109.9740\n",
      "Epoch 55/200\n",
      "1483/1483 [==============================] - 2s 2ms/step - loss: 21.0239 - mse: 1053.7107 - val_loss: 21.2110 - val_mse: 1093.5973\n",
      "Epoch 56/200\n",
      "1483/1483 [==============================] - 3s 2ms/step - loss: 21.0296 - mse: 1054.1110 - val_loss: 21.1917 - val_mse: 1081.1560\n",
      "Epoch 57/200\n",
      "1483/1483 [==============================] - 2s 1ms/step - loss: 21.0203 - mse: 1052.9839 - val_loss: 21.3157 - val_mse: 1130.7314\n"
     ]
    },
    {
     "name": "stdout",
     "output_type": "stream",
     "text": [
      "Epoch 58/200\n",
      "1483/1483 [==============================] - 2s 2ms/step - loss: 21.0322 - mse: 1054.6075 - val_loss: 21.2079 - val_mse: 1077.4471\n",
      "Epoch 59/200\n",
      "1483/1483 [==============================] - 2s 1ms/step - loss: 21.0167 - mse: 1052.0254 - val_loss: 21.1671 - val_mse: 1084.6692\n",
      "Epoch 60/200\n",
      "1483/1483 [==============================] - 2s 1ms/step - loss: 21.0165 - mse: 1051.8657 - val_loss: 21.1911 - val_mse: 1071.1031\n",
      "Epoch 61/200\n",
      "1483/1483 [==============================] - 2s 1ms/step - loss: 21.0257 - mse: 1053.3776 - val_loss: 21.1663 - val_mse: 1081.5460\n",
      "Epoch 62/200\n",
      "1483/1483 [==============================] - 2s 1ms/step - loss: 21.0075 - mse: 1052.6924 - val_loss: 21.2497 - val_mse: 1117.9600\n",
      "Epoch 63/200\n",
      "1483/1483 [==============================] - 2s 1ms/step - loss: 21.0183 - mse: 1053.7057 - val_loss: 21.1735 - val_mse: 1084.3187\n",
      "Epoch 64/200\n",
      "1483/1483 [==============================] - 2s 1ms/step - loss: 21.0105 - mse: 1053.0232 - val_loss: 21.3978 - val_mse: 1137.7263\n",
      "Epoch 65/200\n",
      "1483/1483 [==============================] - 2s 1ms/step - loss: 21.0200 - mse: 1055.1621 - val_loss: 21.2006 - val_mse: 1105.3641\n",
      "Epoch 66/200\n",
      "1483/1483 [==============================] - 2s 1ms/step - loss: 21.0044 - mse: 1052.5929 - val_loss: 21.2141 - val_mse: 1069.6936\n",
      "Epoch 67/200\n",
      "1483/1483 [==============================] - 2s 1ms/step - loss: 21.0108 - mse: 1051.6528 - val_loss: 21.3654 - val_mse: 1137.4108\n",
      "Epoch 68/200\n",
      "1483/1483 [==============================] - 2s 1ms/step - loss: 21.0080 - mse: 1054.2852 - val_loss: 21.1667 - val_mse: 1089.4045\n",
      "Epoch 69/200\n",
      "1483/1483 [==============================] - 2s 1ms/step - loss: 21.0122 - mse: 1052.5393 - val_loss: 21.1888 - val_mse: 1068.7633\n",
      "Epoch 70/200\n",
      "1483/1483 [==============================] - 2s 1ms/step - loss: 20.9970 - mse: 1051.8551 - val_loss: 21.1928 - val_mse: 1069.7073\n",
      "Epoch 71/200\n",
      "1483/1483 [==============================] - 2s 1ms/step - loss: 21.0098 - mse: 1053.6315 - val_loss: 21.1623 - val_mse: 1087.1815\n",
      "Epoch 72/200\n",
      "1483/1483 [==============================] - 2s 1ms/step - loss: 21.0048 - mse: 1052.2130 - val_loss: 21.1430 - val_mse: 1085.6816\n",
      "Epoch 73/200\n",
      "1483/1483 [==============================] - 2s 1ms/step - loss: 20.9887 - mse: 1051.4160 - val_loss: 21.1587 - val_mse: 1098.1732\n",
      "Epoch 74/200\n",
      "1483/1483 [==============================] - 2s 1ms/step - loss: 20.9766 - mse: 1051.6060 - val_loss: 21.1834 - val_mse: 1090.2380\n",
      "Epoch 75/200\n",
      "1483/1483 [==============================] - 2s 1ms/step - loss: 21.0153 - mse: 1050.5741 - val_loss: 21.1593 - val_mse: 1094.4922\n",
      "Epoch 76/200\n",
      "1483/1483 [==============================] - 2s 1ms/step - loss: 20.9958 - mse: 1053.1261 - val_loss: 21.1439 - val_mse: 1079.6718\n",
      "Epoch 77/200\n",
      "1483/1483 [==============================] - 2s 1ms/step - loss: 21.0028 - mse: 1050.5856 - val_loss: 21.1807 - val_mse: 1076.1400\n",
      "Epoch 78/200\n",
      "1483/1483 [==============================] - 2s 1ms/step - loss: 20.9828 - mse: 1050.2576 - val_loss: 21.1647 - val_mse: 1102.7582\n",
      "Epoch 79/200\n",
      "1483/1483 [==============================] - 2s 1ms/step - loss: 20.9896 - mse: 1050.6222 - val_loss: 21.2203 - val_mse: 1115.2910\n",
      "Epoch 80/200\n",
      "1483/1483 [==============================] - 2s 1ms/step - loss: 20.9778 - mse: 1050.2968 - val_loss: 21.1548 - val_mse: 1083.1169\n",
      "Epoch 81/200\n",
      "1483/1483 [==============================] - 2s 1ms/step - loss: 20.9737 - mse: 1048.8422 - val_loss: 21.1229 - val_mse: 1080.8896\n",
      "Epoch 82/200\n",
      "1483/1483 [==============================] - 2s 1ms/step - loss: 20.9683 - mse: 1047.9829 - val_loss: 21.1456 - val_mse: 1085.8704\n",
      "Epoch 83/200\n",
      "1483/1483 [==============================] - 2s 1ms/step - loss: 20.9704 - mse: 1048.6636 - val_loss: 21.1374 - val_mse: 1094.6603\n",
      "Epoch 84/200\n",
      "1483/1483 [==============================] - 2s 1ms/step - loss: 20.9728 - mse: 1051.6666 - val_loss: 21.1166 - val_mse: 1075.5490\n",
      "Epoch 85/200\n",
      "1483/1483 [==============================] - 2s 2ms/step - loss: 20.9694 - mse: 1048.6201 - val_loss: 21.1030 - val_mse: 1078.1487\n",
      "Epoch 86/200\n",
      "1483/1483 [==============================] - 2s 1ms/step - loss: 20.9543 - mse: 1048.6001 - val_loss: 21.2007 - val_mse: 1056.8485\n",
      "Epoch 87/200\n",
      "1483/1483 [==============================] - 2s 1ms/step - loss: 20.9556 - mse: 1048.1277 - val_loss: 21.2344 - val_mse: 1053.4618\n",
      "Epoch 88/200\n",
      "1483/1483 [==============================] - 2s 2ms/step - loss: 20.9580 - mse: 1047.8000 - val_loss: 21.1023 - val_mse: 1091.8969\n",
      "Epoch 89/200\n",
      "1483/1483 [==============================] - 2s 1ms/step - loss: 20.9612 - mse: 1047.0532 - val_loss: 21.2696 - val_mse: 1120.0443\n",
      "Epoch 90/200\n",
      "1483/1483 [==============================] - 2s 1ms/step - loss: 20.9551 - mse: 1047.2522 - val_loss: 21.1011 - val_mse: 1093.3535\n",
      "Epoch 91/200\n",
      "1483/1483 [==============================] - 2s 1ms/step - loss: 20.9431 - mse: 1047.4203 - val_loss: 21.1093 - val_mse: 1074.5309\n",
      "Epoch 92/200\n",
      "1483/1483 [==============================] - 2s 1ms/step - loss: 20.9422 - mse: 1047.3966 - val_loss: 21.1536 - val_mse: 1079.9839\n",
      "Epoch 93/200\n",
      "1483/1483 [==============================] - 2s 1ms/step - loss: 20.9413 - mse: 1048.3419 - val_loss: 21.1974 - val_mse: 1118.4612\n",
      "Epoch 94/200\n",
      "1483/1483 [==============================] - 2s 1ms/step - loss: 20.9414 - mse: 1047.3853 - val_loss: 21.1238 - val_mse: 1063.5176\n",
      "Epoch 95/200\n",
      "1483/1483 [==============================] - 2s 1ms/step - loss: 20.9528 - mse: 1046.8016 - val_loss: 21.0838 - val_mse: 1090.3048\n",
      "Epoch 96/200\n",
      "1483/1483 [==============================] - 2s 1ms/step - loss: 20.9270 - mse: 1046.5813 - val_loss: 21.1116 - val_mse: 1059.3506\n",
      "Epoch 97/200\n",
      "1483/1483 [==============================] - 2s 1ms/step - loss: 20.9364 - mse: 1046.1484 - val_loss: 21.1024 - val_mse: 1099.6426\n",
      "Epoch 98/200\n",
      "1483/1483 [==============================] - 2s 1ms/step - loss: 20.9284 - mse: 1045.2295 - val_loss: 21.1940 - val_mse: 1116.9170\n",
      "Epoch 99/200\n",
      "1483/1483 [==============================] - 2s 1ms/step - loss: 20.9285 - mse: 1047.4937 - val_loss: 21.0740 - val_mse: 1075.7993\n",
      "Epoch 100/200\n",
      "1483/1483 [==============================] - 2s 1ms/step - loss: 20.9312 - mse: 1044.7563 - val_loss: 21.0818 - val_mse: 1096.0087\n",
      "Epoch 101/200\n",
      "1483/1483 [==============================] - 2s 2ms/step - loss: 20.9101 - mse: 1044.5778 - val_loss: 21.1142 - val_mse: 1104.2964\n",
      "Epoch 102/200\n",
      "1483/1483 [==============================] - 2s 1ms/step - loss: 20.9060 - mse: 1045.3069 - val_loss: 21.1110 - val_mse: 1103.2350\n",
      "Epoch 103/200\n",
      "1483/1483 [==============================] - 2s 1ms/step - loss: 20.9120 - mse: 1044.5238 - val_loss: 21.0306 - val_mse: 1075.2062\n",
      "Epoch 104/200\n",
      "1483/1483 [==============================] - 2s 1ms/step - loss: 20.9168 - mse: 1044.4353 - val_loss: 21.0651 - val_mse: 1092.2725\n",
      "Epoch 105/200\n",
      "1483/1483 [==============================] - 2s 1ms/step - loss: 20.9171 - mse: 1043.8650 - val_loss: 21.1402 - val_mse: 1104.7847\n",
      "Epoch 106/200\n",
      "1483/1483 [==============================] - 2s 1ms/step - loss: 20.8980 - mse: 1043.2080 - val_loss: 21.0189 - val_mse: 1083.9677\n",
      "Epoch 107/200\n",
      "1483/1483 [==============================] - 2s 1ms/step - loss: 20.8963 - mse: 1044.0347 - val_loss: 21.1704 - val_mse: 1120.4709\n",
      "Epoch 108/200\n",
      "1483/1483 [==============================] - 2s 1ms/step - loss: 20.9021 - mse: 1043.0897 - val_loss: 21.0833 - val_mse: 1104.8159\n",
      "Epoch 109/200\n",
      "1483/1483 [==============================] - 2s 1ms/step - loss: 20.8902 - mse: 1043.0629 - val_loss: 21.0265 - val_mse: 1066.8069\n",
      "Epoch 110/200\n",
      "1483/1483 [==============================] - 2s 1ms/step - loss: 20.8770 - mse: 1042.0101 - val_loss: 20.9948 - val_mse: 1074.8740\n",
      "Epoch 111/200\n",
      "1483/1483 [==============================] - 2s 1ms/step - loss: 20.8700 - mse: 1041.4788 - val_loss: 21.0568 - val_mse: 1048.7129\n",
      "Epoch 112/200\n",
      "1483/1483 [==============================] - 2s 1ms/step - loss: 20.8654 - mse: 1039.2451 - val_loss: 20.9857 - val_mse: 1071.4117\n",
      "Epoch 113/200\n",
      "1483/1483 [==============================] - 2s 1ms/step - loss: 20.8600 - mse: 1039.1663 - val_loss: 20.9916 - val_mse: 1083.6545\n",
      "Epoch 114/200\n",
      "1483/1483 [==============================] - 2s 2ms/step - loss: 20.8583 - mse: 1040.0640 - val_loss: 21.0014 - val_mse: 1080.5717\n"
     ]
    },
    {
     "name": "stdout",
     "output_type": "stream",
     "text": [
      "Epoch 115/200\n",
      "1483/1483 [==============================] - 2s 2ms/step - loss: 20.8505 - mse: 1037.5332 - val_loss: 21.0276 - val_mse: 1095.7650\n",
      "Epoch 116/200\n",
      "1483/1483 [==============================] - 2s 1ms/step - loss: 20.8569 - mse: 1039.6584 - val_loss: 20.9583 - val_mse: 1070.7292\n",
      "Epoch 117/200\n",
      "1483/1483 [==============================] - 2s 1ms/step - loss: 20.8470 - mse: 1038.9215 - val_loss: 20.9899 - val_mse: 1068.4818\n",
      "Epoch 118/200\n",
      "1483/1483 [==============================] - 2s 1ms/step - loss: 20.8453 - mse: 1039.0513 - val_loss: 20.9577 - val_mse: 1065.1697\n",
      "Epoch 119/200\n",
      "1483/1483 [==============================] - 2s 2ms/step - loss: 20.8573 - mse: 1040.5684 - val_loss: 20.9923 - val_mse: 1062.2488\n",
      "Epoch 120/200\n",
      "1483/1483 [==============================] - 2s 1ms/step - loss: 20.8543 - mse: 1038.9202 - val_loss: 20.9898 - val_mse: 1083.4911\n",
      "Epoch 121/200\n",
      "1483/1483 [==============================] - 2s 1ms/step - loss: 20.8438 - mse: 1039.1652 - val_loss: 21.0184 - val_mse: 1057.7927\n",
      "Epoch 122/200\n",
      "1483/1483 [==============================] - 2s 1ms/step - loss: 20.8531 - mse: 1038.8046 - val_loss: 21.0094 - val_mse: 1090.7534\n",
      "Epoch 123/200\n",
      "1483/1483 [==============================] - 2s 1ms/step - loss: 20.8501 - mse: 1039.2341 - val_loss: 21.0211 - val_mse: 1099.6571\n",
      "Epoch 124/200\n",
      "1483/1483 [==============================] - 2s 1ms/step - loss: 20.8372 - mse: 1036.1841 - val_loss: 21.0557 - val_mse: 1102.9462\n",
      "Epoch 125/200\n",
      "1483/1483 [==============================] - 2s 1ms/step - loss: 20.8357 - mse: 1037.9049 - val_loss: 21.0605 - val_mse: 1082.9587\n",
      "Epoch 126/200\n",
      "1483/1483 [==============================] - 2s 1ms/step - loss: 20.8598 - mse: 1039.3053 - val_loss: 21.0202 - val_mse: 1085.7672\n",
      "Epoch 127/200\n",
      "1483/1483 [==============================] - 2s 2ms/step - loss: 20.8283 - mse: 1039.5566 - val_loss: 21.1950 - val_mse: 1125.0903\n",
      "Epoch 128/200\n",
      "1483/1483 [==============================] - 2s 2ms/step - loss: 20.8398 - mse: 1037.5908 - val_loss: 21.0187 - val_mse: 1063.0249\n",
      "Epoch 129/200\n",
      "1483/1483 [==============================] - 2s 1ms/step - loss: 20.8272 - mse: 1039.0120 - val_loss: 20.9319 - val_mse: 1056.3969\n",
      "Epoch 130/200\n",
      "1483/1483 [==============================] - 2s 1ms/step - loss: 20.8391 - mse: 1036.5441 - val_loss: 20.9580 - val_mse: 1081.3755\n",
      "Epoch 131/200\n",
      "1483/1483 [==============================] - 2s 1ms/step - loss: 20.8360 - mse: 1037.2527 - val_loss: 20.9260 - val_mse: 1055.6078\n",
      "Epoch 132/200\n",
      "1483/1483 [==============================] - 2s 2ms/step - loss: 20.8417 - mse: 1036.8108 - val_loss: 20.9635 - val_mse: 1084.5734\n",
      "Epoch 133/200\n",
      "1483/1483 [==============================] - 2s 2ms/step - loss: 20.8337 - mse: 1039.2734 - val_loss: 21.0434 - val_mse: 1056.5563\n",
      "Epoch 134/200\n",
      "1483/1483 [==============================] - 2s 2ms/step - loss: 20.8449 - mse: 1037.8148 - val_loss: 21.0658 - val_mse: 1107.8971\n",
      "Epoch 135/200\n",
      "1483/1483 [==============================] - 2s 1ms/step - loss: 20.8178 - mse: 1038.6061 - val_loss: 20.9413 - val_mse: 1077.3840\n",
      "Epoch 136/200\n",
      "1483/1483 [==============================] - 2s 2ms/step - loss: 20.8249 - mse: 1037.3416 - val_loss: 20.9369 - val_mse: 1058.7012\n",
      "Epoch 137/200\n",
      "1483/1483 [==============================] - 3s 2ms/step - loss: 20.8210 - mse: 1035.5969 - val_loss: 20.9251 - val_mse: 1060.1483\n",
      "Epoch 138/200\n",
      "1483/1483 [==============================] - 3s 2ms/step - loss: 20.8415 - mse: 1036.3563 - val_loss: 20.9615 - val_mse: 1084.2468\n",
      "Epoch 139/200\n",
      "1483/1483 [==============================] - 2s 1ms/step - loss: 20.8240 - mse: 1036.2877 - val_loss: 20.9559 - val_mse: 1065.9718\n",
      "Epoch 140/200\n",
      "1483/1483 [==============================] - 2s 1ms/step - loss: 20.8396 - mse: 1038.0491 - val_loss: 20.9296 - val_mse: 1060.0702\n",
      "Epoch 141/200\n",
      "1483/1483 [==============================] - 2s 2ms/step - loss: 20.8256 - mse: 1036.8649 - val_loss: 21.0040 - val_mse: 1048.3895\n",
      "Epoch 142/200\n",
      "1483/1483 [==============================] - 3s 2ms/step - loss: 20.8253 - mse: 1035.9836 - val_loss: 20.9150 - val_mse: 1071.7480\n",
      "Epoch 143/200\n",
      "1483/1483 [==============================] - 3s 2ms/step - loss: 20.8262 - mse: 1035.7537 - val_loss: 21.0577 - val_mse: 1100.3625\n",
      "Epoch 144/200\n",
      "1483/1483 [==============================] - 4s 3ms/step - loss: 20.8317 - mse: 1035.7275 - val_loss: 20.9902 - val_mse: 1090.1300\n",
      "Epoch 145/200\n",
      "1483/1483 [==============================] - 4s 2ms/step - loss: 20.8241 - mse: 1035.5627 - val_loss: 20.9197 - val_mse: 1050.8634\n",
      "Epoch 146/200\n",
      "1483/1483 [==============================] - 3s 2ms/step - loss: 20.8232 - mse: 1034.8435 - val_loss: 20.9054 - val_mse: 1064.8887\n",
      "Epoch 147/200\n",
      "1483/1483 [==============================] - 4s 2ms/step - loss: 20.8095 - mse: 1036.1389 - val_loss: 20.9180 - val_mse: 1075.8309\n",
      "Epoch 148/200\n",
      "1483/1483 [==============================] - 4s 3ms/step - loss: 20.8135 - mse: 1037.4917 - val_loss: 20.9173 - val_mse: 1056.3624\n",
      "Epoch 149/200\n",
      "1483/1483 [==============================] - 3s 2ms/step - loss: 20.8028 - mse: 1035.8042 - val_loss: 20.9738 - val_mse: 1087.4835\n",
      "Epoch 150/200\n",
      "1483/1483 [==============================] - 3s 2ms/step - loss: 20.8123 - mse: 1034.2362 - val_loss: 20.9401 - val_mse: 1064.9236\n",
      "Epoch 151/200\n",
      "1483/1483 [==============================] - 5s 3ms/step - loss: 20.8210 - mse: 1036.0377 - val_loss: 20.9670 - val_mse: 1088.5914\n",
      "Epoch 152/200\n",
      "1483/1483 [==============================] - 7s 4ms/step - loss: 20.8063 - mse: 1034.1201 - val_loss: 20.9684 - val_mse: 1090.5105ETA: 3s - loss: 20.9141 - mse: 1044.85 - ETA: 3s - loss: 20.9309  - ETA: 2s - loss: 20.7\n",
      "Epoch 153/200\n",
      "1483/1483 [==============================] - 3s 2ms/step - loss: 20.8141 - mse: 1038.3051 - val_loss: 20.9244 - val_mse: 1076.0284\n",
      "Epoch 154/200\n",
      "1483/1483 [==============================] - 3s 2ms/step - loss: 20.8104 - mse: 1036.1204 - val_loss: 20.9629 - val_mse: 1045.2484\n",
      "Epoch 155/200\n",
      "1483/1483 [==============================] - 3s 2ms/step - loss: 20.8112 - mse: 1035.3618 - val_loss: 20.9109 - val_mse: 1074.8464\n",
      "Epoch 156/200\n",
      "1483/1483 [==============================] - 3s 2ms/step - loss: 20.7991 - mse: 1033.6796 - val_loss: 20.9971 - val_mse: 1097.8599\n",
      "Epoch 157/200\n",
      "1483/1483 [==============================] - 3s 2ms/step - loss: 20.8111 - mse: 1032.4226 - val_loss: 20.9850 - val_mse: 1084.8752\n",
      "Epoch 158/200\n",
      "1483/1483 [==============================] - 3s 2ms/step - loss: 20.8176 - mse: 1035.4270 - val_loss: 20.8876 - val_mse: 1059.3617\n",
      "Epoch 159/200\n",
      "1483/1483 [==============================] - 3s 2ms/step - loss: 20.7959 - mse: 1033.5577 - val_loss: 21.1116 - val_mse: 1119.2758\n",
      "Epoch 160/200\n",
      "1483/1483 [==============================] - 3s 2ms/step - loss: 20.7925 - mse: 1033.8210 - val_loss: 20.9074 - val_mse: 1073.0950\n",
      "Epoch 161/200\n",
      "1483/1483 [==============================] - 7s 5ms/step - loss: 20.8056 - mse: 1035.1940 - val_loss: 20.8847 - val_mse: 1064.8657: 1028. - ETA: 1s - loss: 20.7131 - ms - ETA: 1s - loss: 20. - ETA: 0s - loss: 20.7910 - m - ETA: 0s - loss: 20.7695 - mse: 1031.5 - ETA: 0s - loss: 20.8040 - mse: 1035.039\n",
      "Epoch 162/200\n",
      "1483/1483 [==============================] - 5s 4ms/step - loss: 20.8195 - mse: 1031.8319 - val_loss: 20.9163 - val_mse: 1078.4219 - loss: 20.9027 - mse: 1038.31 - ETA: 5s - loss: 20.9628 - mse: 1047.213 - ETA: 6s - loss: 20.9525 - mse: 1 - ETA: 5\n",
      "Epoch 163/200\n",
      "1483/1483 [==============================] - 3s 2ms/step - loss: 20.7964 - mse: 1032.2545 - val_loss: 21.0156 - val_mse: 1098.4103\n",
      "Epoch 164/200\n",
      "1483/1483 [==============================] - 2s 1ms/step - loss: 20.8029 - mse: 1034.6698 - val_loss: 20.9567 - val_mse: 1091.7225\n",
      "Epoch 165/200\n",
      "1483/1483 [==============================] - 2s 1ms/step - loss: 20.7811 - mse: 1029.0256 - val_loss: 21.0163 - val_mse: 1097.8131\n",
      "Epoch 166/200\n",
      "1483/1483 [==============================] - 3s 2ms/step - loss: 20.7885 - mse: 1031.0709 - val_loss: 20.9113 - val_mse: 1074.7935\n",
      "Epoch 167/200\n",
      "1483/1483 [==============================] - 2s 2ms/step - loss: 20.7917 - mse: 1027.7755 - val_loss: 20.9280 - val_mse: 1056.4813\n",
      "Epoch 168/200\n",
      "1483/1483 [==============================] - 2s 1ms/step - loss: 20.7918 - mse: 1024.8097 - val_loss: 20.8969 - val_mse: 1055.6392\n"
     ]
    },
    {
     "name": "stdout",
     "output_type": "stream",
     "text": [
      "Epoch 169/200\n",
      "1483/1483 [==============================] - 2s 1ms/step - loss: 20.7754 - mse: 1019.3737 - val_loss: 20.9578 - val_mse: 1090.4418\n",
      "Epoch 170/200\n",
      "1483/1483 [==============================] - 2s 1ms/step - loss: 20.7956 - mse: 1023.3490 - val_loss: 20.9371 - val_mse: 1076.6238\n",
      "Epoch 171/200\n",
      "1483/1483 [==============================] - 2s 1ms/step - loss: 20.7800 - mse: 1020.0587 - val_loss: 21.0716 - val_mse: 1036.3102\n",
      "Epoch 172/200\n",
      "1483/1483 [==============================] - 2s 1ms/step - loss: 20.7826 - mse: 1023.9268 - val_loss: 21.0140 - val_mse: 1095.5059\n",
      "Epoch 173/200\n",
      "1483/1483 [==============================] - 2s 1ms/step - loss: 20.7605 - mse: 1022.2852 - val_loss: 20.9834 - val_mse: 1087.7543\n",
      "Epoch 174/200\n",
      "1483/1483 [==============================] - 2s 1ms/step - loss: 20.7676 - mse: 1019.8539 - val_loss: 21.0591 - val_mse: 1031.2567\n",
      "Epoch 175/200\n",
      "1483/1483 [==============================] - 2s 1ms/step - loss: 20.7601 - mse: 1020.4346 - val_loss: 20.9306 - val_mse: 1064.1241\n",
      "Epoch 176/200\n",
      "1483/1483 [==============================] - 2s 1ms/step - loss: 20.7582 - mse: 1022.7297 - val_loss: 20.9862 - val_mse: 1029.1210\n",
      "Epoch 177/200\n",
      "1483/1483 [==============================] - 2s 1ms/step - loss: 20.7706 - mse: 1018.9376 - val_loss: 20.8965 - val_mse: 1056.4081\n",
      "Epoch 178/200\n",
      "1483/1483 [==============================] - 2s 1ms/step - loss: 20.7400 - mse: 1018.4852 - val_loss: 20.9108 - val_mse: 1065.7246\n",
      "Epoch 179/200\n",
      "1483/1483 [==============================] - 2s 1ms/step - loss: 20.7468 - mse: 1019.8195 - val_loss: 20.8835 - val_mse: 1060.2526\n",
      "Epoch 180/200\n",
      "1483/1483 [==============================] - 2s 1ms/step - loss: 20.7620 - mse: 1020.7607 - val_loss: 20.9083 - val_mse: 1031.7222\n",
      "Epoch 181/200\n",
      "1483/1483 [==============================] - 2s 1ms/step - loss: 20.7565 - mse: 1018.8898 - val_loss: 20.8958 - val_mse: 1060.4170\n",
      "Epoch 182/200\n",
      "1483/1483 [==============================] - 2s 1ms/step - loss: 20.7344 - mse: 1019.9186 - val_loss: 21.0496 - val_mse: 1101.5485\n",
      "Epoch 183/200\n",
      "1483/1483 [==============================] - 2s 1ms/step - loss: 20.7384 - mse: 1015.9135 - val_loss: 20.9168 - val_mse: 1066.1064\n",
      "Epoch 184/200\n",
      "1483/1483 [==============================] - 2s 1ms/step - loss: 20.7330 - mse: 1016.8602 - val_loss: 20.9390 - val_mse: 1052.8613\n",
      "Epoch 185/200\n",
      "1483/1483 [==============================] - 2s 1ms/step - loss: 20.7409 - mse: 1015.6228 - val_loss: 20.8931 - val_mse: 1069.5425\n",
      "Epoch 186/200\n",
      "1483/1483 [==============================] - 2s 1ms/step - loss: 20.7293 - mse: 1018.3491 - val_loss: 20.9632 - val_mse: 1081.9421\n",
      "Epoch 187/200\n",
      "1483/1483 [==============================] - 2s 1ms/step - loss: 20.7365 - mse: 1017.3041 - val_loss: 20.8861 - val_mse: 1033.9481\n",
      "Epoch 188/200\n",
      "1483/1483 [==============================] - 2s 1ms/step - loss: 20.7201 - mse: 1015.4099 - val_loss: 20.8925 - val_mse: 1059.0323\n",
      "Epoch 189/200\n",
      "1483/1483 [==============================] - 3s 2ms/step - loss: 20.7084 - mse: 1014.9780 - val_loss: 20.9689 - val_mse: 1087.6129\n",
      "Epoch 190/200\n",
      "1483/1483 [==============================] - 2s 2ms/step - loss: 20.7184 - mse: 1014.4033 - val_loss: 20.8912 - val_mse: 1071.9001\n",
      "Epoch 191/200\n",
      "1483/1483 [==============================] - 2s 1ms/step - loss: 20.7164 - mse: 1012.0696 - val_loss: 20.9150 - val_mse: 1076.4648\n",
      "Epoch 192/200\n",
      "1483/1483 [==============================] - 2s 2ms/step - loss: 20.7064 - mse: 1014.8169 - val_loss: 20.8664 - val_mse: 1057.5955\n",
      "Epoch 193/200\n",
      "1483/1483 [==============================] - 2s 1ms/step - loss: 20.7044 - mse: 1013.3016 - val_loss: 20.8821 - val_mse: 1071.4622\n",
      "Epoch 194/200\n",
      "1483/1483 [==============================] - 2s 1ms/step - loss: 20.7013 - mse: 1016.2004 - val_loss: 20.9605 - val_mse: 1020.7050\n",
      "Epoch 195/200\n",
      "1483/1483 [==============================] - 2s 1ms/step - loss: 20.6982 - mse: 1009.6699 - val_loss: 21.0662 - val_mse: 1111.3364\n",
      "Epoch 196/200\n",
      "1483/1483 [==============================] - 2s 1ms/step - loss: 20.6819 - mse: 1010.4915 - val_loss: 20.8523 - val_mse: 1059.8511\n",
      "Epoch 197/200\n",
      "1483/1483 [==============================] - 2s 1ms/step - loss: 20.6917 - mse: 1009.6136 - val_loss: 20.8558 - val_mse: 1038.5468\n",
      "Epoch 198/200\n",
      "1483/1483 [==============================] - 2s 1ms/step - loss: 20.6624 - mse: 1010.0989 - val_loss: 20.9707 - val_mse: 1083.4688\n",
      "Epoch 199/200\n",
      "1483/1483 [==============================] - 2s 1ms/step - loss: 20.6829 - mse: 1011.9478 - val_loss: 20.8505 - val_mse: 1053.4628\n",
      "Epoch 200/200\n",
      "1483/1483 [==============================] - 2s 1ms/step - loss: 20.6632 - mse: 1009.5803 - val_loss: 20.8822 - val_mse: 1060.8157\n"
     ]
    }
   ],
   "source": [
    "classifier = Sequential()\n",
    "\n",
    "# Adding the input layer and the first hidden layer\n",
    "classifier.add(Dense(units = 12, kernel_initializer = 'normal', activation = 'relu', input_dim = 4))\n",
    "\n",
    "# Adding the second hidden layer\n",
    "classifier.add(Dense(units = 6, kernel_initializer = 'normal', activation = 'relu'))\n",
    "\n",
    "# Adding the output layer\n",
    "classifier.add(Dense(units = 1, kernel_initializer = 'normal', activation = 'linear'))\n",
    "\n",
    "# Compiling the ANN\n",
    "classifier.compile(optimizer = 'adam', loss = 'mean_absolute_error', metrics = ['mse']) \n",
    "\n",
    "# Fitting the ANN to the Training set\n",
    "history = classifier.fit(X_train, y_train, validation_data = (X_test, y_test), batch_size = 16, epochs = 200, shuffle = True)"
   ]
  },
  {
   "cell_type": "markdown",
   "metadata": {},
   "source": [
    "#### train history of train loss change amd val_loss change"
   ]
  },
  {
   "cell_type": "code",
   "execution_count": 78,
   "metadata": {},
   "outputs": [
    {
     "data": {
      "image/png": "[encoded data removed]",
      "text/plain": [
       "<Figure size 432x288 with 1 Axes>"
      ]
     },
     "metadata": {
      "needs_background": "light"
     },
     "output_type": "display_data"
    }
   ],
   "source": [
    "plt.plot(history.history['loss'], label = 'train')\n",
    "plt.plot(history.history['val_loss'], label = 'test')\n",
    "plt.legend()\n",
    "\n",
    "plt.xlabel(\"Epoches\")\n",
    "plt.ylabel(\"MSE\")\n",
    "plt.savefig(\"5.png\")\n",
    "plt.show()"
   ]
  },
  {
   "cell_type": "code",
   "execution_count": 79,
   "metadata": {},
   "outputs": [
    {
     "name": "stdout",
     "output_type": "stream",
     "text": [
      "Model: \"sequential\"\n",
      "_________________________________________________________________\n",
      "Layer (type)                 Output Shape              Param #   \n",
      "=================================================================\n",
      "dense (Dense)                (None, 12)                60        \n",
      "_________________________________________________________________\n",
      "dense_1 (Dense)              (None, 6)                 78        \n",
      "_________________________________________________________________\n",
      "dense_2 (Dense)              (None, 1)                 7         \n",
      "=================================================================\n",
      "Total params: 145\n",
      "Trainable params: 145\n",
      "Non-trainable params: 0\n",
      "_________________________________________________________________\n"
     ]
    }
   ],
   "source": [
    "classifier.summary()"
   ]
  },
  {
   "cell_type": "code",
   "execution_count": 80,
   "metadata": {},
   "outputs": [],
   "source": [
    "y_predicted = classifier.predict(X_test)"
   ]
  },
  {
   "cell_type": "code",
   "execution_count": 81,
   "metadata": {},
   "outputs": [],
   "source": [
    "from sklearn.metrics import mean_absolute_error,f1_score"
   ]
  },
  {
   "cell_type": "code",
   "execution_count": 82,
   "metadata": {},
   "outputs": [
    {
     "data": {
      "text/plain": [
       "20.88217675796429"
      ]
     },
     "execution_count": 82,
     "metadata": {},
     "output_type": "execute_result"
    }
   ],
   "source": [
    "mean_absolute_error(y_test, y_predicted)"
   ]
  },
  {
   "cell_type": "markdown",
   "metadata": {},
   "source": [
    "## Approch(2)"
   ]
  },
  {
   "cell_type": "code",
   "execution_count": 83,
   "metadata": {},
   "outputs": [],
   "source": [
    "from sklearn import preprocessing\n",
    "enc = preprocessing.OneHotEncoder()"
   ]
  },
  {
   "cell_type": "markdown",
   "metadata": {},
   "source": [
    "#### fill missing data with value before it"
   ]
  },
  {
   "cell_type": "code",
   "execution_count": 84,
   "metadata": {},
   "outputs": [],
   "source": [
    "house_data = house_data.fillna(method = \"bfill\")"
   ]
  },
  {
   "cell_type": "code",
   "execution_count": 85,
   "metadata": {},
   "outputs": [
    {
     "data": {
      "text/plain": [
       "Date                              0\n",
       "Time                              0\n",
       "DateTime                          0\n",
       "System Setting                    0\n",
       "System Mode                       0\n",
       "Calendar Event                29548\n",
       "Program Mode                      0\n",
       "Cool Set Temp (C)                 0\n",
       "Heat Set Temp (C)                 0\n",
       "Current Temp (C)                  0\n",
       "Current Humidity (%RH)            0\n",
       "Outdoor Temp (C)                  0\n",
       "Wind Speed (km/h)                 0\n",
       "Cool Stage 1 (sec)                0\n",
       "Heat Stage 1 (sec)                0\n",
       "Fan (sec)                         0\n",
       "Thermostat Temperature (C)        0\n",
       "Thermostat Humidity (%RH)         0\n",
       "Thermostat Motion                 0\n",
       "Bedroom (C)                       0\n",
       "Bedroom2                          0\n",
       "3rd floor landing (C)             0\n",
       "3rd floor landing2                0\n",
       "3rd floor room (C)                0\n",
       "3rd floor room2                   0\n",
       "Basement (C)                      0\n",
       "Basement2                         0\n",
       "dtype: int64"
      ]
     },
     "execution_count": 85,
     "metadata": {},
     "output_type": "execute_result"
    }
   ],
   "source": [
    "house_data.isnull().sum()"
   ]
  },
  {
   "cell_type": "markdown",
   "metadata": {},
   "source": [
    "#### selected features"
   ]
  },
  {
   "cell_type": "code",
   "execution_count": 89,
   "metadata": {},
   "outputs": [],
   "source": [
    "numerical_vars = ['Heat Set Temp (C)', 'Current Temp (C)', 'Current Humidity (%RH)', 'Outdoor Temp (C)','Thermostat Temperature (C)', 'Thermostat Humidity (%RH)']\n",
    "sc = StandardScaler()\n",
    "sc.fit(house_data[numerical_vars])\n",
    "scalar_data = sc.transform(house_data[numerical_vars])"
   ]
  },
  {
   "cell_type": "markdown",
   "metadata": {},
   "source": [
    "##### use one-hot encoder the target variable, simplely,convert decimal to binary, and each bit is a target variable, so every target has  0 or 1, no inbanlance."
   ]
  },
  {
   "cell_type": "code",
   "execution_count": 90,
   "metadata": {},
   "outputs": [],
   "source": [
    "y_auxHeat = house_data['Heat Stage 1 (sec)'].to_numpy()\n",
    "oe = OrdinalEncoder()\n",
    "y_auxHeat = oe.fit_transform(y_auxHeat.reshape(-1, 1))"
   ]
  },
  {
   "cell_type": "markdown",
   "metadata": {},
   "source": [
    "#### build new dataset"
   ]
  },
  {
   "cell_type": "code",
   "execution_count": 91,
   "metadata": {},
   "outputs": [],
   "source": [
    "scaler_house_data = house_data[numerical_vars].copy()\n",
    "scaler_house_data[numerical_vars] = scalar_data\n",
    "scaler_house_data[\"Heat Stage 1\"] = y_auxHeat"
   ]
  },
  {
   "cell_type": "code",
   "execution_count": 92,
   "metadata": {},
   "outputs": [
    {
     "data": {
      "text/html": [
       "<div>\n",
       "<style scoped>\n",
       "    .dataframe tbody tr th:only-of-type {\n",
       "        vertical-align: middle;\n",
       "    }\n",
       "\n",
       "    .dataframe tbody tr th {\n",
       "        vertical-align: top;\n",
       "    }\n",
       "\n",
       "    .dataframe thead th {\n",
       "        text-align: right;\n",
       "    }\n",
       "</style>\n",
       "<table border=\"1\" class=\"dataframe\">\n",
       "  <thead>\n",
       "    <tr style=\"text-align: right;\">\n",
       "      <th></th>\n",
       "      <th>Heat Set Temp (C)</th>\n",
       "      <th>Current Temp (C)</th>\n",
       "      <th>Current Humidity (%RH)</th>\n",
       "      <th>Outdoor Temp (C)</th>\n",
       "      <th>Thermostat Temperature (C)</th>\n",
       "      <th>Thermostat Humidity (%RH)</th>\n",
       "      <th>Heat Stage 1</th>\n",
       "    </tr>\n",
       "  </thead>\n",
       "  <tbody>\n",
       "    <tr>\n",
       "      <th>0</th>\n",
       "      <td>0.0</td>\n",
       "      <td>2.632689</td>\n",
       "      <td>1.422976</td>\n",
       "      <td>1.387394</td>\n",
       "      <td>2.632689</td>\n",
       "      <td>1.422976</td>\n",
       "      <td>0.0</td>\n",
       "    </tr>\n",
       "    <tr>\n",
       "      <th>1</th>\n",
       "      <td>0.0</td>\n",
       "      <td>1.489502</td>\n",
       "      <td>1.930176</td>\n",
       "      <td>1.387394</td>\n",
       "      <td>1.489502</td>\n",
       "      <td>1.930176</td>\n",
       "      <td>0.0</td>\n",
       "    </tr>\n",
       "    <tr>\n",
       "      <th>2</th>\n",
       "      <td>0.0</td>\n",
       "      <td>0.346315</td>\n",
       "      <td>1.930176</td>\n",
       "      <td>1.424799</td>\n",
       "      <td>0.346315</td>\n",
       "      <td>1.930176</td>\n",
       "      <td>0.0</td>\n",
       "    </tr>\n",
       "    <tr>\n",
       "      <th>3</th>\n",
       "      <td>0.0</td>\n",
       "      <td>-0.796872</td>\n",
       "      <td>2.183776</td>\n",
       "      <td>1.424799</td>\n",
       "      <td>-0.796872</td>\n",
       "      <td>2.183776</td>\n",
       "      <td>9.0</td>\n",
       "    </tr>\n",
       "    <tr>\n",
       "      <th>4</th>\n",
       "      <td>0.0</td>\n",
       "      <td>-1.368465</td>\n",
       "      <td>2.183776</td>\n",
       "      <td>1.424799</td>\n",
       "      <td>-1.368465</td>\n",
       "      <td>2.183776</td>\n",
       "      <td>20.0</td>\n",
       "    </tr>\n",
       "    <tr>\n",
       "      <th>...</th>\n",
       "      <td>...</td>\n",
       "      <td>...</td>\n",
       "      <td>...</td>\n",
       "      <td>...</td>\n",
       "      <td>...</td>\n",
       "      <td>...</td>\n",
       "      <td>...</td>\n",
       "    </tr>\n",
       "    <tr>\n",
       "      <th>29671</th>\n",
       "      <td>0.0</td>\n",
       "      <td>2.061095</td>\n",
       "      <td>-0.859425</td>\n",
       "      <td>3.295068</td>\n",
       "      <td>2.061095</td>\n",
       "      <td>-0.859425</td>\n",
       "      <td>0.0</td>\n",
       "    </tr>\n",
       "    <tr>\n",
       "      <th>29672</th>\n",
       "      <td>0.0</td>\n",
       "      <td>1.489502</td>\n",
       "      <td>-0.859425</td>\n",
       "      <td>3.388582</td>\n",
       "      <td>1.489502</td>\n",
       "      <td>-0.859425</td>\n",
       "      <td>0.0</td>\n",
       "    </tr>\n",
       "    <tr>\n",
       "      <th>29673</th>\n",
       "      <td>0.0</td>\n",
       "      <td>1.489502</td>\n",
       "      <td>-0.859425</td>\n",
       "      <td>3.388582</td>\n",
       "      <td>1.489502</td>\n",
       "      <td>-0.859425</td>\n",
       "      <td>0.0</td>\n",
       "    </tr>\n",
       "    <tr>\n",
       "      <th>29674</th>\n",
       "      <td>0.0</td>\n",
       "      <td>1.489502</td>\n",
       "      <td>-0.859425</td>\n",
       "      <td>3.388582</td>\n",
       "      <td>1.489502</td>\n",
       "      <td>-0.859425</td>\n",
       "      <td>0.0</td>\n",
       "    </tr>\n",
       "    <tr>\n",
       "      <th>29675</th>\n",
       "      <td>0.0</td>\n",
       "      <td>1.489502</td>\n",
       "      <td>-0.859425</td>\n",
       "      <td>3.388582</td>\n",
       "      <td>1.489502</td>\n",
       "      <td>-0.859425</td>\n",
       "      <td>0.0</td>\n",
       "    </tr>\n",
       "  </tbody>\n",
       "</table>\n",
       "<p>29676 rows × 7 columns</p>\n",
       "</div>"
      ],
      "text/plain": [
       "       Heat Set Temp (C)  Current Temp (C)  Current Humidity (%RH)  \\\n",
       "0                    0.0          2.632689                1.422976   \n",
       "1                    0.0          1.489502                1.930176   \n",
       "2                    0.0          0.346315                1.930176   \n",
       "3                    0.0         -0.796872                2.183776   \n",
       "4                    0.0         -1.368465                2.183776   \n",
       "...                  ...               ...                     ...   \n",
       "29671                0.0          2.061095               -0.859425   \n",
       "29672                0.0          1.489502               -0.859425   \n",
       "29673                0.0          1.489502               -0.859425   \n",
       "29674                0.0          1.489502               -0.859425   \n",
       "29675                0.0          1.489502               -0.859425   \n",
       "\n",
       "       Outdoor Temp (C)  Thermostat Temperature (C)  \\\n",
       "0              1.387394                    2.632689   \n",
       "1              1.387394                    1.489502   \n",
       "2              1.424799                    0.346315   \n",
       "3              1.424799                   -0.796872   \n",
       "4              1.424799                   -1.368465   \n",
       "...                 ...                         ...   \n",
       "29671          3.295068                    2.061095   \n",
       "29672          3.388582                    1.489502   \n",
       "29673          3.388582                    1.489502   \n",
       "29674          3.388582                    1.489502   \n",
       "29675          3.388582                    1.489502   \n",
       "\n",
       "       Thermostat Humidity (%RH)  Heat Stage 1  \n",
       "0                       1.422976           0.0  \n",
       "1                       1.930176           0.0  \n",
       "2                       1.930176           0.0  \n",
       "3                       2.183776           9.0  \n",
       "4                       2.183776          20.0  \n",
       "...                          ...           ...  \n",
       "29671                  -0.859425           0.0  \n",
       "29672                  -0.859425           0.0  \n",
       "29673                  -0.859425           0.0  \n",
       "29674                  -0.859425           0.0  \n",
       "29675                  -0.859425           0.0  \n",
       "\n",
       "[29676 rows x 7 columns]"
      ]
     },
     "execution_count": 92,
     "metadata": {},
     "output_type": "execute_result"
    }
   ],
   "source": [
    "scaler_house_data"
   ]
  },
  {
   "cell_type": "code",
   "execution_count": 93,
   "metadata": {},
   "outputs": [],
   "source": [
    "from tensorflow.keras.utils import to_categorical\n",
    "\n",
    "X = scaler_house_data[numerical_vars]\n",
    "y = to_categorical(scaler_house_data[[\"Heat Stage 1\"]])"
   ]
  },
  {
   "cell_type": "code",
   "execution_count": 94,
   "metadata": {},
   "outputs": [
    {
     "data": {
      "text/plain": [
       "(23740, 21)"
      ]
     },
     "execution_count": 94,
     "metadata": {},
     "output_type": "execute_result"
    }
   ],
   "source": [
    "X_train, X_test, y_train, y_test = train_test_split(X, y, test_size = 0.2, shuffle = True)\n",
    "X_train = X_train.values\n",
    "X_test = X_test.values\n",
    "y_train.shape"
   ]
  },
  {
   "cell_type": "code",
   "execution_count": 95,
   "metadata": {},
   "outputs": [
    {
     "name": "stdout",
     "output_type": "stream",
     "text": [
      "Epoch 1/20\n",
      "2374/2374 [==============================] - 7s 3ms/step - loss: 1.4840 - accuracy: 0.6727 - val_loss: 1.3479 - val_accuracy: 0.7084\n",
      "Epoch 2/20\n",
      "2374/2374 [==============================] - 4s 2ms/step - loss: 1.3629 - accuracy: 0.7019 - val_loss: 1.3359 - val_accuracy: 0.7099\n",
      "Epoch 3/20\n",
      "2374/2374 [==============================] - 4s 2ms/step - loss: 1.3500 - accuracy: 0.7023 - val_loss: 1.3219 - val_accuracy: 0.7092\n",
      "Epoch 4/20\n",
      "2374/2374 [==============================] - 3s 1ms/step - loss: 1.3406 - accuracy: 0.7019 - val_loss: 1.3148 - val_accuracy: 0.7089\n",
      "Epoch 5/20\n",
      "2374/2374 [==============================] - 3s 1ms/step - loss: 1.3299 - accuracy: 0.7023 - val_loss: 1.3059 - val_accuracy: 0.7086\n",
      "Epoch 6/20\n",
      "2374/2374 [==============================] - 3s 1ms/step - loss: 1.3218 - accuracy: 0.7017 - val_loss: 1.3094 - val_accuracy: 0.7091\n",
      "Epoch 7/20\n",
      "2374/2374 [==============================] - 3s 1ms/step - loss: 1.3178 - accuracy: 0.7021 - val_loss: 1.2958 - val_accuracy: 0.7087\n",
      "Epoch 8/20\n",
      "2374/2374 [==============================] - 3s 1ms/step - loss: 1.3156 - accuracy: 0.7026 - val_loss: 1.2972 - val_accuracy: 0.7089\n",
      "Epoch 9/20\n",
      "2374/2374 [==============================] - 3s 1ms/step - loss: 1.3145 - accuracy: 0.7023 - val_loss: 1.2937 - val_accuracy: 0.7101\n",
      "Epoch 10/20\n",
      "2374/2374 [==============================] - 3s 1ms/step - loss: 1.3136 - accuracy: 0.7023 - val_loss: 1.2926 - val_accuracy: 0.7101\n",
      "Epoch 11/20\n",
      "2374/2374 [==============================] - 3s 1ms/step - loss: 1.3126 - accuracy: 0.7029 - val_loss: 1.2915 - val_accuracy: 0.7086\n",
      "Epoch 12/20\n",
      "2374/2374 [==============================] - 3s 1ms/step - loss: 1.3128 - accuracy: 0.7022 - val_loss: 1.2964 - val_accuracy: 0.7091\n",
      "Epoch 13/20\n",
      "2374/2374 [==============================] - 3s 1ms/step - loss: 1.3119 - accuracy: 0.7027 - val_loss: 1.2937 - val_accuracy: 0.7097\n",
      "Epoch 14/20\n",
      "2374/2374 [==============================] - 3s 1ms/step - loss: 1.3111 - accuracy: 0.7026 - val_loss: 1.2882 - val_accuracy: 0.7096\n",
      "Epoch 15/20\n",
      "2374/2374 [==============================] - 3s 1ms/step - loss: 1.3101 - accuracy: 0.7030 - val_loss: 1.2921 - val_accuracy: 0.7099\n",
      "Epoch 16/20\n",
      "2374/2374 [==============================] - 3s 1ms/step - loss: 1.3089 - accuracy: 0.7021 - val_loss: 1.2915 - val_accuracy: 0.7102\n",
      "Epoch 17/20\n",
      "2374/2374 [==============================] - 3s 1ms/step - loss: 1.3087 - accuracy: 0.7028 - val_loss: 1.2896 - val_accuracy: 0.7087\n",
      "Epoch 18/20\n",
      "2374/2374 [==============================] - 3s 1ms/step - loss: 1.3077 - accuracy: 0.7035 - val_loss: 1.2897 - val_accuracy: 0.7096\n",
      "Epoch 19/20\n",
      "2374/2374 [==============================] - 3s 1ms/step - loss: 1.3072 - accuracy: 0.7025 - val_loss: 1.2869 - val_accuracy: 0.7094\n",
      "Epoch 20/20\n",
      "2374/2374 [==============================] - 3s 1ms/step - loss: 1.3060 - accuracy: 0.7027 - val_loss: 1.2868 - val_accuracy: 0.7096\n"
     ]
    }
   ],
   "source": [
    "classifier = Sequential()\n",
    "\n",
    "# Adding the input layer and the first hidden layer\n",
    "classifier.add(Dense(units = 12, kernel_initializer = 'uniform', activation = 'relu', input_dim = 6))\n",
    "\n",
    "# Adding the second hidden layer\n",
    "classifier.add(Dense(units = 24, kernel_initializer = 'uniform', activation = 'relu'))\n",
    "\n",
    "# Adding the output layer\n",
    "classifier.add(Dense(units = 21, kernel_initializer = 'uniform', activation = 'softmax'))\n",
    "\n",
    "# Compiling the ANN\n",
    "classifier.compile(optimizer = 'adam', loss = 'categorical_crossentropy', metrics = ['accuracy']) \n",
    "\n",
    "# Fitting the ANN to the Training set\n",
    "history = classifier.fit(X_train, y_train, validation_data = (X_test, y_test), batch_size = 10, epochs = 20, shuffle = True)"
   ]
  },
  {
   "cell_type": "code",
   "execution_count": null,
   "metadata": {},
   "outputs": [],
   "source": [
    "classifier.summary()"
   ]
  },
  {
   "cell_type": "code",
   "execution_count": 96,
   "metadata": {},
   "outputs": [
    {
     "data": {
      "image/png": "[encoded data removed]",
      "text/plain": [
       "<Figure size 864x720 with 1 Axes>"
      ]
     },
     "metadata": {
      "needs_background": "light"
     },
     "output_type": "display_data"
    }
   ],
   "source": [
    "plt.figure(figsize = (12, 10))\n",
    "plt.plot(history.history['loss'], label = 'Training Set')\n",
    "plt.plot(history.history['val_loss'], label = 'Test Set')\n",
    "plt.legend()\n",
    "plt.xlabel(\"Training Epoch Number\")\n",
    "plt.ylabel(\"Categorical Cross-Entropy Loss\")\n",
    "plt.xlim((-1, 20))\n",
    "plt.savefig(\"6.png\")\n",
    "plt.show()"
   ]
  },
  {
   "cell_type": "code",
   "execution_count": 97,
   "metadata": {},
   "outputs": [
    {
     "data": {
      "image/png": "[encoded data removed]",
      "text/plain": [
       "<Figure size 864x720 with 1 Axes>"
      ]
     },
     "metadata": {
      "needs_background": "light"
     },
     "output_type": "display_data"
    }
   ],
   "source": [
    "plt.figure(figsize = (12, 10))\n",
    "plt.plot(history.history['accuracy'], label = 'Training Set')\n",
    "plt.plot(history.history['val_accuracy'], label = 'Test Set')\n",
    "plt.legend()\n",
    "plt.xlabel(\"Training Epoch Number\")\n",
    "plt.ylabel(\"Accuracy Achieved\")\n",
    "plt.xlim((-1, 20))\n",
    "plt.savefig(\"7.png\")\n",
    "plt.show()"
   ]
  },
  {
   "cell_type": "code",
   "execution_count": 99,
   "metadata": {},
   "outputs": [
    {
     "data": {
      "text/plain": [
       "array([20, 20,  0, ...,  0, 20, 20], dtype=int64)"
      ]
     },
     "execution_count": 99,
     "metadata": {},
     "output_type": "execute_result"
    }
   ],
   "source": [
    "y_predicted = classifier.predict(X_test)\n",
    "y_predicted = np.argmax(y_predicted, axis = 1)\n",
    "y_predicted"
   ]
  },
  {
   "cell_type": "code",
   "execution_count": 100,
   "metadata": {},
   "outputs": [],
   "source": [
    "y_test = np.argmax(y_test, axis = 1)\n"
   ]
  },
  {
   "cell_type": "code",
   "execution_count": 101,
   "metadata": {},
   "outputs": [
    {
     "data": {
      "text/plain": [
       "array([20, 10,  0, ...,  0, 12, 14], dtype=int64)"
      ]
     },
     "execution_count": 101,
     "metadata": {},
     "output_type": "execute_result"
    }
   ],
   "source": [
    "y_test"
   ]
  },
  {
   "cell_type": "code",
   "execution_count": 102,
   "metadata": {},
   "outputs": [],
   "source": [
    "import plotly.figure_factory as ff\n",
    "import plotly.io as pio"
   ]
  },
  {
   "cell_type": "code",
   "execution_count": 107,
   "metadata": {},
   "outputs": [],
   "source": [
    "cm = confusion_matrix(y_test, y_predicted)\n",
    "cfm_n = np.flipud(cm)\n",
    "cfm_n = cfm_n.astype('float') / cfm_n.sum(axis=1)[:, np.newaxis]\n",
    "\n",
    "z = np.round(cfm_n, 2)\n",
    "x = [str(i) for i in range(z.shape[0],0,-1)]\n",
    "y = [str(i) for i in range(z.shape[1])]\n",
    "# y = ['0', '1', '2', '3', '4', '5', '6', '7', '8', '9', '10', '11', '12', '13', '14', '15', '16', '17', '18', '19', '20']\n",
    "\n",
    "# x = ['20', '19', '18', '17', '16', '15', '14', '13', '12', '11', '10', '9', '8', '7', '6', '5', '4', '3', '2', '1', '0']\n",
    "\n"
   ]
  },
  {
   "cell_type": "code",
   "execution_count": 110,
   "metadata": {},
   "outputs": [
    {
     "data": {
      "application/vnd.plotly.v1+json": {
       "config": {
        "plotlyServerURL": "https://plot.ly"
       },
       "data": [
        {
         "colorscale": [
          [
           0,
           "rgb(253, 253, 204)"
          ],
          [
           0.09090909090909091,
           "rgb(206, 236, 179)"
          ],
          [
           0.18181818181818182,
           "rgb(156, 219, 165)"
          ],
          [
           0.2727272727272727,
           "rgb(111, 201, 163)"
          ],
          [
           0.36363636363636365,
           "rgb(86, 177, 163)"
          ],
          [
           0.45454545454545453,
           "rgb(76, 153, 160)"
          ],
          [
           0.5454545454545454,
           "rgb(68, 130, 155)"
          ],
          [
           0.6363636363636364,
           "rgb(62, 108, 150)"
          ],
          [
           0.7272727272727273,
           "rgb(62, 82, 143)"
          ],
          [
           0.8181818181818182,
           "rgb(64, 60, 115)"
          ],
          [
           0.9090909090909091,
           "rgb(54, 43, 77)"
          ],
          [
           1,
           "rgb(39, 26, 44)"
          ]
         ],
         "reversescale": false,
         "showscale": false,
         "type": "heatmap",
         "x": [
          "21",
          "20",
          "19",
          "18",
          "17",
          "16",
          "15",
          "14",
          "13",
          "12",
          "11",
          "10",
          "9",
          "8",
          "7",
          "6",
          "5",
          "4",
          "3",
          "2",
          "1"
         ],
         "y": [
          "0",
          "1",
          "2",
          "3",
          "4",
          "5",
          "6",
          "7",
          "8",
          "9",
          "10",
          "11",
          "12",
          "13",
          "14",
          "15",
          "16",
          "17",
          "18",
          "19",
          "20"
         ],
         "z": [
          [
           0.17,
           0,
           0,
           0,
           0,
           0,
           0,
           0,
           0,
           0,
           0,
           0,
           0,
           0,
           0,
           0,
           0,
           0,
           0,
           0,
           0.83
          ],
          [
           0.48,
           0,
           0,
           0,
           0,
           0,
           0,
           0,
           0,
           0,
           0,
           0,
           0,
           0,
           0,
           0,
           0,
           0,
           0,
           0,
           0.52
          ],
          [
           0.33,
           0,
           0,
           0,
           0,
           0,
           0,
           0,
           0,
           0,
           0,
           0,
           0,
           0,
           0,
           0,
           0,
           0,
           0,
           0,
           0.67
          ],
          [
           0.51,
           0,
           0,
           0,
           0,
           0,
           0,
           0,
           0,
           0,
           0,
           0,
           0,
           0,
           0,
           0,
           0,
           0,
           0,
           0,
           0.49
          ],
          [
           0.43,
           0,
           0,
           0,
           0,
           0,
           0,
           0,
           0,
           0,
           0,
           0,
           0,
           0,
           0,
           0,
           0,
           0,
           0,
           0,
           0.57
          ],
          [
           0.46,
           0,
           0,
           0,
           0,
           0,
           0,
           0,
           0,
           0,
           0,
           0,
           0,
           0,
           0,
           0,
           0,
           0,
           0,
           0,
           0.54
          ],
          [
           0.58,
           0,
           0,
           0,
           0,
           0,
           0,
           0,
           0,
           0,
           0,
           0,
           0,
           0,
           0,
           0,
           0,
           0,
           0,
           0,
           0.42
          ],
          [
           0.56,
           0,
           0,
           0,
           0,
           0,
           0,
           0,
           0,
           0,
           0,
           0,
           0,
           0,
           0,
           0,
           0,
           0,
           0,
           0,
           0.44
          ],
          [
           0.57,
           0,
           0,
           0,
           0,
           0,
           0,
           0,
           0,
           0,
           0,
           0,
           0,
           0,
           0,
           0,
           0,
           0,
           0,
           0,
           0.43
          ],
          [
           0.49,
           0,
           0,
           0,
           0,
           0,
           0,
           0,
           0,
           0,
           0,
           0,
           0,
           0,
           0,
           0,
           0,
           0,
           0,
           0,
           0.51
          ],
          [
           0.35,
           0,
           0,
           0,
           0,
           0,
           0,
           0,
           0,
           0,
           0,
           0,
           0,
           0,
           0,
           0,
           0,
           0,
           0,
           0,
           0.65
          ],
          [
           0.56,
           0,
           0,
           0,
           0,
           0,
           0,
           0,
           0,
           0,
           0,
           0,
           0,
           0,
           0,
           0,
           0,
           0,
           0,
           0,
           0.44
          ],
          [
           0.41,
           0,
           0,
           0,
           0,
           0,
           0,
           0,
           0,
           0,
           0,
           0,
           0,
           0,
           0,
           0,
           0,
           0,
           0,
           0,
           0.59
          ],
          [
           0.46,
           0,
           0,
           0,
           0,
           0,
           0,
           0,
           0,
           0,
           0,
           0,
           0,
           0,
           0,
           0,
           0,
           0,
           0,
           0,
           0.54
          ],
          [
           0.65,
           0,
           0,
           0,
           0,
           0,
           0,
           0,
           0,
           0,
           0,
           0,
           0,
           0,
           0,
           0,
           0,
           0,
           0,
           0,
           0.35
          ],
          [
           0.6,
           0,
           0,
           0,
           0,
           0,
           0,
           0,
           0,
           0,
           0,
           0,
           0,
           0,
           0,
           0,
           0,
           0,
           0,
           0,
           0.4
          ],
          [
           0.79,
           0,
           0,
           0,
           0,
           0,
           0,
           0,
           0,
           0,
           0,
           0,
           0,
           0,
           0,
           0,
           0,
           0,
           0,
           0,
           0.21
          ],
          [
           0.76,
           0,
           0,
           0,
           0,
           0,
           0,
           0,
           0,
           0,
           0,
           0,
           0,
           0,
           0,
           0,
           0,
           0,
           0,
           0,
           0.24
          ],
          [
           0.92,
           0,
           0,
           0,
           0,
           0,
           0,
           0,
           0,
           0,
           0,
           0,
           0,
           0,
           0,
           0,
           0,
           0,
           0,
           0,
           0.08
          ],
          [
           0.91,
           0,
           0,
           0,
           0,
           0,
           0,
           0,
           0,
           0,
           0,
           0,
           0,
           0,
           0,
           0,
           0,
           0,
           0,
           0,
           0.09
          ],
          [
           0.99,
           0,
           0,
           0,
           0,
           0,
           0,
           0,
           0,
           0,
           0,
           0,
           0,
           0,
           0,
           0,
           0,
           0,
           0,
           0,
           0.01
          ]
         ]
        }
       ],
       "layout": {
        "annotations": [
         {
          "font": {
           "color": "#000000"
          },
          "showarrow": false,
          "text": "0.17",
          "x": "21",
          "xref": "x",
          "y": "0",
          "yref": "y"
         },
         {
          "font": {
           "color": "#000000"
          },
          "showarrow": false,
          "text": "0.0",
          "x": "20",
          "xref": "x",
          "y": "0",
          "yref": "y"
         },
         {
          "font": {
           "color": "#000000"
          },
          "showarrow": false,
          "text": "0.0",
          "x": "19",
          "xref": "x",
          "y": "0",
          "yref": "y"
         },
         {
          "font": {
           "color": "#000000"
          },
          "showarrow": false,
          "text": "0.0",
          "x": "18",
          "xref": "x",
          "y": "0",
          "yref": "y"
         },
         {
          "font": {
           "color": "#000000"
          },
          "showarrow": false,
          "text": "0.0",
          "x": "17",
          "xref": "x",
          "y": "0",
          "yref": "y"
         },
         {
          "font": {
           "color": "#000000"
          },
          "showarrow": false,
          "text": "0.0",
          "x": "16",
          "xref": "x",
          "y": "0",
          "yref": "y"
         },
         {
          "font": {
           "color": "#000000"
          },
          "showarrow": false,
          "text": "0.0",
          "x": "15",
          "xref": "x",
          "y": "0",
          "yref": "y"
         },
         {
          "font": {
           "color": "#000000"
          },
          "showarrow": false,
          "text": "0.0",
          "x": "14",
          "xref": "x",
          "y": "0",
          "yref": "y"
         },
         {
          "font": {
           "color": "#000000"
          },
          "showarrow": false,
          "text": "0.0",
          "x": "13",
          "xref": "x",
          "y": "0",
          "yref": "y"
         },
         {
          "font": {
           "color": "#000000"
          },
          "showarrow": false,
          "text": "0.0",
          "x": "12",
          "xref": "x",
          "y": "0",
          "yref": "y"
         },
         {
          "font": {
           "color": "#000000"
          },
          "showarrow": false,
          "text": "0.0",
          "x": "11",
          "xref": "x",
          "y": "0",
          "yref": "y"
         },
         {
          "font": {
           "color": "#000000"
          },
          "showarrow": false,
          "text": "0.0",
          "x": "10",
          "xref": "x",
          "y": "0",
          "yref": "y"
         },
         {
          "font": {
           "color": "#000000"
          },
          "showarrow": false,
          "text": "0.0",
          "x": "9",
          "xref": "x",
          "y": "0",
          "yref": "y"
         },
         {
          "font": {
           "color": "#000000"
          },
          "showarrow": false,
          "text": "0.0",
          "x": "8",
          "xref": "x",
          "y": "0",
          "yref": "y"
         },
         {
          "font": {
           "color": "#000000"
          },
          "showarrow": false,
          "text": "0.0",
          "x": "7",
          "xref": "x",
          "y": "0",
          "yref": "y"
         },
         {
          "font": {
           "color": "#000000"
          },
          "showarrow": false,
          "text": "0.0",
          "x": "6",
          "xref": "x",
          "y": "0",
          "yref": "y"
         },
         {
          "font": {
           "color": "#000000"
          },
          "showarrow": false,
          "text": "0.0",
          "x": "5",
          "xref": "x",
          "y": "0",
          "yref": "y"
         },
         {
          "font": {
           "color": "#000000"
          },
          "showarrow": false,
          "text": "0.0",
          "x": "4",
          "xref": "x",
          "y": "0",
          "yref": "y"
         },
         {
          "font": {
           "color": "#000000"
          },
          "showarrow": false,
          "text": "0.0",
          "x": "3",
          "xref": "x",
          "y": "0",
          "yref": "y"
         },
         {
          "font": {
           "color": "#000000"
          },
          "showarrow": false,
          "text": "0.0",
          "x": "2",
          "xref": "x",
          "y": "0",
          "yref": "y"
         },
         {
          "font": {
           "color": "#FFFFFF"
          },
          "showarrow": false,
          "text": "0.83",
          "x": "1",
          "xref": "x",
          "y": "0",
          "yref": "y"
         },
         {
          "font": {
           "color": "#000000"
          },
          "showarrow": false,
          "text": "0.48",
          "x": "21",
          "xref": "x",
          "y": "1",
          "yref": "y"
         },
         {
          "font": {
           "color": "#000000"
          },
          "showarrow": false,
          "text": "0.0",
          "x": "20",
          "xref": "x",
          "y": "1",
          "yref": "y"
         },
         {
          "font": {
           "color": "#000000"
          },
          "showarrow": false,
          "text": "0.0",
          "x": "19",
          "xref": "x",
          "y": "1",
          "yref": "y"
         },
         {
          "font": {
           "color": "#000000"
          },
          "showarrow": false,
          "text": "0.0",
          "x": "18",
          "xref": "x",
          "y": "1",
          "yref": "y"
         },
         {
          "font": {
           "color": "#000000"
          },
          "showarrow": false,
          "text": "0.0",
          "x": "17",
          "xref": "x",
          "y": "1",
          "yref": "y"
         },
         {
          "font": {
           "color": "#000000"
          },
          "showarrow": false,
          "text": "0.0",
          "x": "16",
          "xref": "x",
          "y": "1",
          "yref": "y"
         },
         {
          "font": {
           "color": "#000000"
          },
          "showarrow": false,
          "text": "0.0",
          "x": "15",
          "xref": "x",
          "y": "1",
          "yref": "y"
         },
         {
          "font": {
           "color": "#000000"
          },
          "showarrow": false,
          "text": "0.0",
          "x": "14",
          "xref": "x",
          "y": "1",
          "yref": "y"
         },
         {
          "font": {
           "color": "#000000"
          },
          "showarrow": false,
          "text": "0.0",
          "x": "13",
          "xref": "x",
          "y": "1",
          "yref": "y"
         },
         {
          "font": {
           "color": "#000000"
          },
          "showarrow": false,
          "text": "0.0",
          "x": "12",
          "xref": "x",
          "y": "1",
          "yref": "y"
         },
         {
          "font": {
           "color": "#000000"
          },
          "showarrow": false,
          "text": "0.0",
          "x": "11",
          "xref": "x",
          "y": "1",
          "yref": "y"
         },
         {
          "font": {
           "color": "#000000"
          },
          "showarrow": false,
          "text": "0.0",
          "x": "10",
          "xref": "x",
          "y": "1",
          "yref": "y"
         },
         {
          "font": {
           "color": "#000000"
          },
          "showarrow": false,
          "text": "0.0",
          "x": "9",
          "xref": "x",
          "y": "1",
          "yref": "y"
         },
         {
          "font": {
           "color": "#000000"
          },
          "showarrow": false,
          "text": "0.0",
          "x": "8",
          "xref": "x",
          "y": "1",
          "yref": "y"
         },
         {
          "font": {
           "color": "#000000"
          },
          "showarrow": false,
          "text": "0.0",
          "x": "7",
          "xref": "x",
          "y": "1",
          "yref": "y"
         },
         {
          "font": {
           "color": "#000000"
          },
          "showarrow": false,
          "text": "0.0",
          "x": "6",
          "xref": "x",
          "y": "1",
          "yref": "y"
         },
         {
          "font": {
           "color": "#000000"
          },
          "showarrow": false,
          "text": "0.0",
          "x": "5",
          "xref": "x",
          "y": "1",
          "yref": "y"
         },
         {
          "font": {
           "color": "#000000"
          },
          "showarrow": false,
          "text": "0.0",
          "x": "4",
          "xref": "x",
          "y": "1",
          "yref": "y"
         },
         {
          "font": {
           "color": "#000000"
          },
          "showarrow": false,
          "text": "0.0",
          "x": "3",
          "xref": "x",
          "y": "1",
          "yref": "y"
         },
         {
          "font": {
           "color": "#000000"
          },
          "showarrow": false,
          "text": "0.0",
          "x": "2",
          "xref": "x",
          "y": "1",
          "yref": "y"
         },
         {
          "font": {
           "color": "#FFFFFF"
          },
          "showarrow": false,
          "text": "0.52",
          "x": "1",
          "xref": "x",
          "y": "1",
          "yref": "y"
         },
         {
          "font": {
           "color": "#000000"
          },
          "showarrow": false,
          "text": "0.33",
          "x": "21",
          "xref": "x",
          "y": "2",
          "yref": "y"
         },
         {
          "font": {
           "color": "#000000"
          },
          "showarrow": false,
          "text": "0.0",
          "x": "20",
          "xref": "x",
          "y": "2",
          "yref": "y"
         },
         {
          "font": {
           "color": "#000000"
          },
          "showarrow": false,
          "text": "0.0",
          "x": "19",
          "xref": "x",
          "y": "2",
          "yref": "y"
         },
         {
          "font": {
           "color": "#000000"
          },
          "showarrow": false,
          "text": "0.0",
          "x": "18",
          "xref": "x",
          "y": "2",
          "yref": "y"
         },
         {
          "font": {
           "color": "#000000"
          },
          "showarrow": false,
          "text": "0.0",
          "x": "17",
          "xref": "x",
          "y": "2",
          "yref": "y"
         },
         {
          "font": {
           "color": "#000000"
          },
          "showarrow": false,
          "text": "0.0",
          "x": "16",
          "xref": "x",
          "y": "2",
          "yref": "y"
         },
         {
          "font": {
           "color": "#000000"
          },
          "showarrow": false,
          "text": "0.0",
          "x": "15",
          "xref": "x",
          "y": "2",
          "yref": "y"
         },
         {
          "font": {
           "color": "#000000"
          },
          "showarrow": false,
          "text": "0.0",
          "x": "14",
          "xref": "x",
          "y": "2",
          "yref": "y"
         },
         {
          "font": {
           "color": "#000000"
          },
          "showarrow": false,
          "text": "0.0",
          "x": "13",
          "xref": "x",
          "y": "2",
          "yref": "y"
         },
         {
          "font": {
           "color": "#000000"
          },
          "showarrow": false,
          "text": "0.0",
          "x": "12",
          "xref": "x",
          "y": "2",
          "yref": "y"
         },
         {
          "font": {
           "color": "#000000"
          },
          "showarrow": false,
          "text": "0.0",
          "x": "11",
          "xref": "x",
          "y": "2",
          "yref": "y"
         },
         {
          "font": {
           "color": "#000000"
          },
          "showarrow": false,
          "text": "0.0",
          "x": "10",
          "xref": "x",
          "y": "2",
          "yref": "y"
         },
         {
          "font": {
           "color": "#000000"
          },
          "showarrow": false,
          "text": "0.0",
          "x": "9",
          "xref": "x",
          "y": "2",
          "yref": "y"
         },
         {
          "font": {
           "color": "#000000"
          },
          "showarrow": false,
          "text": "0.0",
          "x": "8",
          "xref": "x",
          "y": "2",
          "yref": "y"
         },
         {
          "font": {
           "color": "#000000"
          },
          "showarrow": false,
          "text": "0.0",
          "x": "7",
          "xref": "x",
          "y": "2",
          "yref": "y"
         },
         {
          "font": {
           "color": "#000000"
          },
          "showarrow": false,
          "text": "0.0",
          "x": "6",
          "xref": "x",
          "y": "2",
          "yref": "y"
         },
         {
          "font": {
           "color": "#000000"
          },
          "showarrow": false,
          "text": "0.0",
          "x": "5",
          "xref": "x",
          "y": "2",
          "yref": "y"
         },
         {
          "font": {
           "color": "#000000"
          },
          "showarrow": false,
          "text": "0.0",
          "x": "4",
          "xref": "x",
          "y": "2",
          "yref": "y"
         },
         {
          "font": {
           "color": "#000000"
          },
          "showarrow": false,
          "text": "0.0",
          "x": "3",
          "xref": "x",
          "y": "2",
          "yref": "y"
         },
         {
          "font": {
           "color": "#000000"
          },
          "showarrow": false,
          "text": "0.0",
          "x": "2",
          "xref": "x",
          "y": "2",
          "yref": "y"
         },
         {
          "font": {
           "color": "#FFFFFF"
          },
          "showarrow": false,
          "text": "0.67",
          "x": "1",
          "xref": "x",
          "y": "2",
          "yref": "y"
         },
         {
          "font": {
           "color": "#FFFFFF"
          },
          "showarrow": false,
          "text": "0.51",
          "x": "21",
          "xref": "x",
          "y": "3",
          "yref": "y"
         },
         {
          "font": {
           "color": "#000000"
          },
          "showarrow": false,
          "text": "0.0",
          "x": "20",
          "xref": "x",
          "y": "3",
          "yref": "y"
         },
         {
          "font": {
           "color": "#000000"
          },
          "showarrow": false,
          "text": "0.0",
          "x": "19",
          "xref": "x",
          "y": "3",
          "yref": "y"
         },
         {
          "font": {
           "color": "#000000"
          },
          "showarrow": false,
          "text": "0.0",
          "x": "18",
          "xref": "x",
          "y": "3",
          "yref": "y"
         },
         {
          "font": {
           "color": "#000000"
          },
          "showarrow": false,
          "text": "0.0",
          "x": "17",
          "xref": "x",
          "y": "3",
          "yref": "y"
         },
         {
          "font": {
           "color": "#000000"
          },
          "showarrow": false,
          "text": "0.0",
          "x": "16",
          "xref": "x",
          "y": "3",
          "yref": "y"
         },
         {
          "font": {
           "color": "#000000"
          },
          "showarrow": false,
          "text": "0.0",
          "x": "15",
          "xref": "x",
          "y": "3",
          "yref": "y"
         },
         {
          "font": {
           "color": "#000000"
          },
          "showarrow": false,
          "text": "0.0",
          "x": "14",
          "xref": "x",
          "y": "3",
          "yref": "y"
         },
         {
          "font": {
           "color": "#000000"
          },
          "showarrow": false,
          "text": "0.0",
          "x": "13",
          "xref": "x",
          "y": "3",
          "yref": "y"
         },
         {
          "font": {
           "color": "#000000"
          },
          "showarrow": false,
          "text": "0.0",
          "x": "12",
          "xref": "x",
          "y": "3",
          "yref": "y"
         },
         {
          "font": {
           "color": "#000000"
          },
          "showarrow": false,
          "text": "0.0",
          "x": "11",
          "xref": "x",
          "y": "3",
          "yref": "y"
         },
         {
          "font": {
           "color": "#000000"
          },
          "showarrow": false,
          "text": "0.0",
          "x": "10",
          "xref": "x",
          "y": "3",
          "yref": "y"
         },
         {
          "font": {
           "color": "#000000"
          },
          "showarrow": false,
          "text": "0.0",
          "x": "9",
          "xref": "x",
          "y": "3",
          "yref": "y"
         },
         {
          "font": {
           "color": "#000000"
          },
          "showarrow": false,
          "text": "0.0",
          "x": "8",
          "xref": "x",
          "y": "3",
          "yref": "y"
         },
         {
          "font": {
           "color": "#000000"
          },
          "showarrow": false,
          "text": "0.0",
          "x": "7",
          "xref": "x",
          "y": "3",
          "yref": "y"
         },
         {
          "font": {
           "color": "#000000"
          },
          "showarrow": false,
          "text": "0.0",
          "x": "6",
          "xref": "x",
          "y": "3",
          "yref": "y"
         },
         {
          "font": {
           "color": "#000000"
          },
          "showarrow": false,
          "text": "0.0",
          "x": "5",
          "xref": "x",
          "y": "3",
          "yref": "y"
         },
         {
          "font": {
           "color": "#000000"
          },
          "showarrow": false,
          "text": "0.0",
          "x": "4",
          "xref": "x",
          "y": "3",
          "yref": "y"
         },
         {
          "font": {
           "color": "#000000"
          },
          "showarrow": false,
          "text": "0.0",
          "x": "3",
          "xref": "x",
          "y": "3",
          "yref": "y"
         },
         {
          "font": {
           "color": "#000000"
          },
          "showarrow": false,
          "text": "0.0",
          "x": "2",
          "xref": "x",
          "y": "3",
          "yref": "y"
         },
         {
          "font": {
           "color": "#000000"
          },
          "showarrow": false,
          "text": "0.49",
          "x": "1",
          "xref": "x",
          "y": "3",
          "yref": "y"
         },
         {
          "font": {
           "color": "#000000"
          },
          "showarrow": false,
          "text": "0.43",
          "x": "21",
          "xref": "x",
          "y": "4",
          "yref": "y"
         },
         {
          "font": {
           "color": "#000000"
          },
          "showarrow": false,
          "text": "0.0",
          "x": "20",
          "xref": "x",
          "y": "4",
          "yref": "y"
         },
         {
          "font": {
           "color": "#000000"
          },
          "showarrow": false,
          "text": "0.0",
          "x": "19",
          "xref": "x",
          "y": "4",
          "yref": "y"
         },
         {
          "font": {
           "color": "#000000"
          },
          "showarrow": false,
          "text": "0.0",
          "x": "18",
          "xref": "x",
          "y": "4",
          "yref": "y"
         },
         {
          "font": {
           "color": "#000000"
          },
          "showarrow": false,
          "text": "0.0",
          "x": "17",
          "xref": "x",
          "y": "4",
          "yref": "y"
         },
         {
          "font": {
           "color": "#000000"
          },
          "showarrow": false,
          "text": "0.0",
          "x": "16",
          "xref": "x",
          "y": "4",
          "yref": "y"
         },
         {
          "font": {
           "color": "#000000"
          },
          "showarrow": false,
          "text": "0.0",
          "x": "15",
          "xref": "x",
          "y": "4",
          "yref": "y"
         },
         {
          "font": {
           "color": "#000000"
          },
          "showarrow": false,
          "text": "0.0",
          "x": "14",
          "xref": "x",
          "y": "4",
          "yref": "y"
         },
         {
          "font": {
           "color": "#000000"
          },
          "showarrow": false,
          "text": "0.0",
          "x": "13",
          "xref": "x",
          "y": "4",
          "yref": "y"
         },
         {
          "font": {
           "color": "#000000"
          },
          "showarrow": false,
          "text": "0.0",
          "x": "12",
          "xref": "x",
          "y": "4",
          "yref": "y"
         },
         {
          "font": {
           "color": "#000000"
          },
          "showarrow": false,
          "text": "0.0",
          "x": "11",
          "xref": "x",
          "y": "4",
          "yref": "y"
         },
         {
          "font": {
           "color": "#000000"
          },
          "showarrow": false,
          "text": "0.0",
          "x": "10",
          "xref": "x",
          "y": "4",
          "yref": "y"
         },
         {
          "font": {
           "color": "#000000"
          },
          "showarrow": false,
          "text": "0.0",
          "x": "9",
          "xref": "x",
          "y": "4",
          "yref": "y"
         },
         {
          "font": {
           "color": "#000000"
          },
          "showarrow": false,
          "text": "0.0",
          "x": "8",
          "xref": "x",
          "y": "4",
          "yref": "y"
         },
         {
          "font": {
           "color": "#000000"
          },
          "showarrow": false,
          "text": "0.0",
          "x": "7",
          "xref": "x",
          "y": "4",
          "yref": "y"
         },
         {
          "font": {
           "color": "#000000"
          },
          "showarrow": false,
          "text": "0.0",
          "x": "6",
          "xref": "x",
          "y": "4",
          "yref": "y"
         },
         {
          "font": {
           "color": "#000000"
          },
          "showarrow": false,
          "text": "0.0",
          "x": "5",
          "xref": "x",
          "y": "4",
          "yref": "y"
         },
         {
          "font": {
           "color": "#000000"
          },
          "showarrow": false,
          "text": "0.0",
          "x": "4",
          "xref": "x",
          "y": "4",
          "yref": "y"
         },
         {
          "font": {
           "color": "#000000"
          },
          "showarrow": false,
          "text": "0.0",
          "x": "3",
          "xref": "x",
          "y": "4",
          "yref": "y"
         },
         {
          "font": {
           "color": "#000000"
          },
          "showarrow": false,
          "text": "0.0",
          "x": "2",
          "xref": "x",
          "y": "4",
          "yref": "y"
         },
         {
          "font": {
           "color": "#FFFFFF"
          },
          "showarrow": false,
          "text": "0.57",
          "x": "1",
          "xref": "x",
          "y": "4",
          "yref": "y"
         },
         {
          "font": {
           "color": "#000000"
          },
          "showarrow": false,
          "text": "0.46",
          "x": "21",
          "xref": "x",
          "y": "5",
          "yref": "y"
         },
         {
          "font": {
           "color": "#000000"
          },
          "showarrow": false,
          "text": "0.0",
          "x": "20",
          "xref": "x",
          "y": "5",
          "yref": "y"
         },
         {
          "font": {
           "color": "#000000"
          },
          "showarrow": false,
          "text": "0.0",
          "x": "19",
          "xref": "x",
          "y": "5",
          "yref": "y"
         },
         {
          "font": {
           "color": "#000000"
          },
          "showarrow": false,
          "text": "0.0",
          "x": "18",
          "xref": "x",
          "y": "5",
          "yref": "y"
         },
         {
          "font": {
           "color": "#000000"
          },
          "showarrow": false,
          "text": "0.0",
          "x": "17",
          "xref": "x",
          "y": "5",
          "yref": "y"
         },
         {
          "font": {
           "color": "#000000"
          },
          "showarrow": false,
          "text": "0.0",
          "x": "16",
          "xref": "x",
          "y": "5",
          "yref": "y"
         },
         {
          "font": {
           "color": "#000000"
          },
          "showarrow": false,
          "text": "0.0",
          "x": "15",
          "xref": "x",
          "y": "5",
          "yref": "y"
         },
         {
          "font": {
           "color": "#000000"
          },
          "showarrow": false,
          "text": "0.0",
          "x": "14",
          "xref": "x",
          "y": "5",
          "yref": "y"
         },
         {
          "font": {
           "color": "#000000"
          },
          "showarrow": false,
          "text": "0.0",
          "x": "13",
          "xref": "x",
          "y": "5",
          "yref": "y"
         },
         {
          "font": {
           "color": "#000000"
          },
          "showarrow": false,
          "text": "0.0",
          "x": "12",
          "xref": "x",
          "y": "5",
          "yref": "y"
         },
         {
          "font": {
           "color": "#000000"
          },
          "showarrow": false,
          "text": "0.0",
          "x": "11",
          "xref": "x",
          "y": "5",
          "yref": "y"
         },
         {
          "font": {
           "color": "#000000"
          },
          "showarrow": false,
          "text": "0.0",
          "x": "10",
          "xref": "x",
          "y": "5",
          "yref": "y"
         },
         {
          "font": {
           "color": "#000000"
          },
          "showarrow": false,
          "text": "0.0",
          "x": "9",
          "xref": "x",
          "y": "5",
          "yref": "y"
         },
         {
          "font": {
           "color": "#000000"
          },
          "showarrow": false,
          "text": "0.0",
          "x": "8",
          "xref": "x",
          "y": "5",
          "yref": "y"
         },
         {
          "font": {
           "color": "#000000"
          },
          "showarrow": false,
          "text": "0.0",
          "x": "7",
          "xref": "x",
          "y": "5",
          "yref": "y"
         },
         {
          "font": {
           "color": "#000000"
          },
          "showarrow": false,
          "text": "0.0",
          "x": "6",
          "xref": "x",
          "y": "5",
          "yref": "y"
         },
         {
          "font": {
           "color": "#000000"
          },
          "showarrow": false,
          "text": "0.0",
          "x": "5",
          "xref": "x",
          "y": "5",
          "yref": "y"
         },
         {
          "font": {
           "color": "#000000"
          },
          "showarrow": false,
          "text": "0.0",
          "x": "4",
          "xref": "x",
          "y": "5",
          "yref": "y"
         },
         {
          "font": {
           "color": "#000000"
          },
          "showarrow": false,
          "text": "0.0",
          "x": "3",
          "xref": "x",
          "y": "5",
          "yref": "y"
         },
         {
          "font": {
           "color": "#000000"
          },
          "showarrow": false,
          "text": "0.0",
          "x": "2",
          "xref": "x",
          "y": "5",
          "yref": "y"
         },
         {
          "font": {
           "color": "#FFFFFF"
          },
          "showarrow": false,
          "text": "0.54",
          "x": "1",
          "xref": "x",
          "y": "5",
          "yref": "y"
         },
         {
          "font": {
           "color": "#FFFFFF"
          },
          "showarrow": false,
          "text": "0.58",
          "x": "21",
          "xref": "x",
          "y": "6",
          "yref": "y"
         },
         {
          "font": {
           "color": "#000000"
          },
          "showarrow": false,
          "text": "0.0",
          "x": "20",
          "xref": "x",
          "y": "6",
          "yref": "y"
         },
         {
          "font": {
           "color": "#000000"
          },
          "showarrow": false,
          "text": "0.0",
          "x": "19",
          "xref": "x",
          "y": "6",
          "yref": "y"
         },
         {
          "font": {
           "color": "#000000"
          },
          "showarrow": false,
          "text": "0.0",
          "x": "18",
          "xref": "x",
          "y": "6",
          "yref": "y"
         },
         {
          "font": {
           "color": "#000000"
          },
          "showarrow": false,
          "text": "0.0",
          "x": "17",
          "xref": "x",
          "y": "6",
          "yref": "y"
         },
         {
          "font": {
           "color": "#000000"
          },
          "showarrow": false,
          "text": "0.0",
          "x": "16",
          "xref": "x",
          "y": "6",
          "yref": "y"
         },
         {
          "font": {
           "color": "#000000"
          },
          "showarrow": false,
          "text": "0.0",
          "x": "15",
          "xref": "x",
          "y": "6",
          "yref": "y"
         },
         {
          "font": {
           "color": "#000000"
          },
          "showarrow": false,
          "text": "0.0",
          "x": "14",
          "xref": "x",
          "y": "6",
          "yref": "y"
         },
         {
          "font": {
           "color": "#000000"
          },
          "showarrow": false,
          "text": "0.0",
          "x": "13",
          "xref": "x",
          "y": "6",
          "yref": "y"
         },
         {
          "font": {
           "color": "#000000"
          },
          "showarrow": false,
          "text": "0.0",
          "x": "12",
          "xref": "x",
          "y": "6",
          "yref": "y"
         },
         {
          "font": {
           "color": "#000000"
          },
          "showarrow": false,
          "text": "0.0",
          "x": "11",
          "xref": "x",
          "y": "6",
          "yref": "y"
         },
         {
          "font": {
           "color": "#000000"
          },
          "showarrow": false,
          "text": "0.0",
          "x": "10",
          "xref": "x",
          "y": "6",
          "yref": "y"
         },
         {
          "font": {
           "color": "#000000"
          },
          "showarrow": false,
          "text": "0.0",
          "x": "9",
          "xref": "x",
          "y": "6",
          "yref": "y"
         },
         {
          "font": {
           "color": "#000000"
          },
          "showarrow": false,
          "text": "0.0",
          "x": "8",
          "xref": "x",
          "y": "6",
          "yref": "y"
         },
         {
          "font": {
           "color": "#000000"
          },
          "showarrow": false,
          "text": "0.0",
          "x": "7",
          "xref": "x",
          "y": "6",
          "yref": "y"
         },
         {
          "font": {
           "color": "#000000"
          },
          "showarrow": false,
          "text": "0.0",
          "x": "6",
          "xref": "x",
          "y": "6",
          "yref": "y"
         },
         {
          "font": {
           "color": "#000000"
          },
          "showarrow": false,
          "text": "0.0",
          "x": "5",
          "xref": "x",
          "y": "6",
          "yref": "y"
         },
         {
          "font": {
           "color": "#000000"
          },
          "showarrow": false,
          "text": "0.0",
          "x": "4",
          "xref": "x",
          "y": "6",
          "yref": "y"
         },
         {
          "font": {
           "color": "#000000"
          },
          "showarrow": false,
          "text": "0.0",
          "x": "3",
          "xref": "x",
          "y": "6",
          "yref": "y"
         },
         {
          "font": {
           "color": "#000000"
          },
          "showarrow": false,
          "text": "0.0",
          "x": "2",
          "xref": "x",
          "y": "6",
          "yref": "y"
         },
         {
          "font": {
           "color": "#000000"
          },
          "showarrow": false,
          "text": "0.42",
          "x": "1",
          "xref": "x",
          "y": "6",
          "yref": "y"
         },
         {
          "font": {
           "color": "#FFFFFF"
          },
          "showarrow": false,
          "text": "0.56",
          "x": "21",
          "xref": "x",
          "y": "7",
          "yref": "y"
         },
         {
          "font": {
           "color": "#000000"
          },
          "showarrow": false,
          "text": "0.0",
          "x": "20",
          "xref": "x",
          "y": "7",
          "yref": "y"
         },
         {
          "font": {
           "color": "#000000"
          },
          "showarrow": false,
          "text": "0.0",
          "x": "19",
          "xref": "x",
          "y": "7",
          "yref": "y"
         },
         {
          "font": {
           "color": "#000000"
          },
          "showarrow": false,
          "text": "0.0",
          "x": "18",
          "xref": "x",
          "y": "7",
          "yref": "y"
         },
         {
          "font": {
           "color": "#000000"
          },
          "showarrow": false,
          "text": "0.0",
          "x": "17",
          "xref": "x",
          "y": "7",
          "yref": "y"
         },
         {
          "font": {
           "color": "#000000"
          },
          "showarrow": false,
          "text": "0.0",
          "x": "16",
          "xref": "x",
          "y": "7",
          "yref": "y"
         },
         {
          "font": {
           "color": "#000000"
          },
          "showarrow": false,
          "text": "0.0",
          "x": "15",
          "xref": "x",
          "y": "7",
          "yref": "y"
         },
         {
          "font": {
           "color": "#000000"
          },
          "showarrow": false,
          "text": "0.0",
          "x": "14",
          "xref": "x",
          "y": "7",
          "yref": "y"
         },
         {
          "font": {
           "color": "#000000"
          },
          "showarrow": false,
          "text": "0.0",
          "x": "13",
          "xref": "x",
          "y": "7",
          "yref": "y"
         },
         {
          "font": {
           "color": "#000000"
          },
          "showarrow": false,
          "text": "0.0",
          "x": "12",
          "xref": "x",
          "y": "7",
          "yref": "y"
         },
         {
          "font": {
           "color": "#000000"
          },
          "showarrow": false,
          "text": "0.0",
          "x": "11",
          "xref": "x",
          "y": "7",
          "yref": "y"
         },
         {
          "font": {
           "color": "#000000"
          },
          "showarrow": false,
          "text": "0.0",
          "x": "10",
          "xref": "x",
          "y": "7",
          "yref": "y"
         },
         {
          "font": {
           "color": "#000000"
          },
          "showarrow": false,
          "text": "0.0",
          "x": "9",
          "xref": "x",
          "y": "7",
          "yref": "y"
         },
         {
          "font": {
           "color": "#000000"
          },
          "showarrow": false,
          "text": "0.0",
          "x": "8",
          "xref": "x",
          "y": "7",
          "yref": "y"
         },
         {
          "font": {
           "color": "#000000"
          },
          "showarrow": false,
          "text": "0.0",
          "x": "7",
          "xref": "x",
          "y": "7",
          "yref": "y"
         },
         {
          "font": {
           "color": "#000000"
          },
          "showarrow": false,
          "text": "0.0",
          "x": "6",
          "xref": "x",
          "y": "7",
          "yref": "y"
         },
         {
          "font": {
           "color": "#000000"
          },
          "showarrow": false,
          "text": "0.0",
          "x": "5",
          "xref": "x",
          "y": "7",
          "yref": "y"
         },
         {
          "font": {
           "color": "#000000"
          },
          "showarrow": false,
          "text": "0.0",
          "x": "4",
          "xref": "x",
          "y": "7",
          "yref": "y"
         },
         {
          "font": {
           "color": "#000000"
          },
          "showarrow": false,
          "text": "0.0",
          "x": "3",
          "xref": "x",
          "y": "7",
          "yref": "y"
         },
         {
          "font": {
           "color": "#000000"
          },
          "showarrow": false,
          "text": "0.0",
          "x": "2",
          "xref": "x",
          "y": "7",
          "yref": "y"
         },
         {
          "font": {
           "color": "#000000"
          },
          "showarrow": false,
          "text": "0.44",
          "x": "1",
          "xref": "x",
          "y": "7",
          "yref": "y"
         },
         {
          "font": {
           "color": "#FFFFFF"
          },
          "showarrow": false,
          "text": "0.57",
          "x": "21",
          "xref": "x",
          "y": "8",
          "yref": "y"
         },
         {
          "font": {
           "color": "#000000"
          },
          "showarrow": false,
          "text": "0.0",
          "x": "20",
          "xref": "x",
          "y": "8",
          "yref": "y"
         },
         {
          "font": {
           "color": "#000000"
          },
          "showarrow": false,
          "text": "0.0",
          "x": "19",
          "xref": "x",
          "y": "8",
          "yref": "y"
         },
         {
          "font": {
           "color": "#000000"
          },
          "showarrow": false,
          "text": "0.0",
          "x": "18",
          "xref": "x",
          "y": "8",
          "yref": "y"
         },
         {
          "font": {
           "color": "#000000"
          },
          "showarrow": false,
          "text": "0.0",
          "x": "17",
          "xref": "x",
          "y": "8",
          "yref": "y"
         },
         {
          "font": {
           "color": "#000000"
          },
          "showarrow": false,
          "text": "0.0",
          "x": "16",
          "xref": "x",
          "y": "8",
          "yref": "y"
         },
         {
          "font": {
           "color": "#000000"
          },
          "showarrow": false,
          "text": "0.0",
          "x": "15",
          "xref": "x",
          "y": "8",
          "yref": "y"
         },
         {
          "font": {
           "color": "#000000"
          },
          "showarrow": false,
          "text": "0.0",
          "x": "14",
          "xref": "x",
          "y": "8",
          "yref": "y"
         },
         {
          "font": {
           "color": "#000000"
          },
          "showarrow": false,
          "text": "0.0",
          "x": "13",
          "xref": "x",
          "y": "8",
          "yref": "y"
         },
         {
          "font": {
           "color": "#000000"
          },
          "showarrow": false,
          "text": "0.0",
          "x": "12",
          "xref": "x",
          "y": "8",
          "yref": "y"
         },
         {
          "font": {
           "color": "#000000"
          },
          "showarrow": false,
          "text": "0.0",
          "x": "11",
          "xref": "x",
          "y": "8",
          "yref": "y"
         },
         {
          "font": {
           "color": "#000000"
          },
          "showarrow": false,
          "text": "0.0",
          "x": "10",
          "xref": "x",
          "y": "8",
          "yref": "y"
         },
         {
          "font": {
           "color": "#000000"
          },
          "showarrow": false,
          "text": "0.0",
          "x": "9",
          "xref": "x",
          "y": "8",
          "yref": "y"
         },
         {
          "font": {
           "color": "#000000"
          },
          "showarrow": false,
          "text": "0.0",
          "x": "8",
          "xref": "x",
          "y": "8",
          "yref": "y"
         },
         {
          "font": {
           "color": "#000000"
          },
          "showarrow": false,
          "text": "0.0",
          "x": "7",
          "xref": "x",
          "y": "8",
          "yref": "y"
         },
         {
          "font": {
           "color": "#000000"
          },
          "showarrow": false,
          "text": "0.0",
          "x": "6",
          "xref": "x",
          "y": "8",
          "yref": "y"
         },
         {
          "font": {
           "color": "#000000"
          },
          "showarrow": false,
          "text": "0.0",
          "x": "5",
          "xref": "x",
          "y": "8",
          "yref": "y"
         },
         {
          "font": {
           "color": "#000000"
          },
          "showarrow": false,
          "text": "0.0",
          "x": "4",
          "xref": "x",
          "y": "8",
          "yref": "y"
         },
         {
          "font": {
           "color": "#000000"
          },
          "showarrow": false,
          "text": "0.0",
          "x": "3",
          "xref": "x",
          "y": "8",
          "yref": "y"
         },
         {
          "font": {
           "color": "#000000"
          },
          "showarrow": false,
          "text": "0.0",
          "x": "2",
          "xref": "x",
          "y": "8",
          "yref": "y"
         },
         {
          "font": {
           "color": "#000000"
          },
          "showarrow": false,
          "text": "0.43",
          "x": "1",
          "xref": "x",
          "y": "8",
          "yref": "y"
         },
         {
          "font": {
           "color": "#000000"
          },
          "showarrow": false,
          "text": "0.49",
          "x": "21",
          "xref": "x",
          "y": "9",
          "yref": "y"
         },
         {
          "font": {
           "color": "#000000"
          },
          "showarrow": false,
          "text": "0.0",
          "x": "20",
          "xref": "x",
          "y": "9",
          "yref": "y"
         },
         {
          "font": {
           "color": "#000000"
          },
          "showarrow": false,
          "text": "0.0",
          "x": "19",
          "xref": "x",
          "y": "9",
          "yref": "y"
         },
         {
          "font": {
           "color": "#000000"
          },
          "showarrow": false,
          "text": "0.0",
          "x": "18",
          "xref": "x",
          "y": "9",
          "yref": "y"
         },
         {
          "font": {
           "color": "#000000"
          },
          "showarrow": false,
          "text": "0.0",
          "x": "17",
          "xref": "x",
          "y": "9",
          "yref": "y"
         },
         {
          "font": {
           "color": "#000000"
          },
          "showarrow": false,
          "text": "0.0",
          "x": "16",
          "xref": "x",
          "y": "9",
          "yref": "y"
         },
         {
          "font": {
           "color": "#000000"
          },
          "showarrow": false,
          "text": "0.0",
          "x": "15",
          "xref": "x",
          "y": "9",
          "yref": "y"
         },
         {
          "font": {
           "color": "#000000"
          },
          "showarrow": false,
          "text": "0.0",
          "x": "14",
          "xref": "x",
          "y": "9",
          "yref": "y"
         },
         {
          "font": {
           "color": "#000000"
          },
          "showarrow": false,
          "text": "0.0",
          "x": "13",
          "xref": "x",
          "y": "9",
          "yref": "y"
         },
         {
          "font": {
           "color": "#000000"
          },
          "showarrow": false,
          "text": "0.0",
          "x": "12",
          "xref": "x",
          "y": "9",
          "yref": "y"
         },
         {
          "font": {
           "color": "#000000"
          },
          "showarrow": false,
          "text": "0.0",
          "x": "11",
          "xref": "x",
          "y": "9",
          "yref": "y"
         },
         {
          "font": {
           "color": "#000000"
          },
          "showarrow": false,
          "text": "0.0",
          "x": "10",
          "xref": "x",
          "y": "9",
          "yref": "y"
         },
         {
          "font": {
           "color": "#000000"
          },
          "showarrow": false,
          "text": "0.0",
          "x": "9",
          "xref": "x",
          "y": "9",
          "yref": "y"
         },
         {
          "font": {
           "color": "#000000"
          },
          "showarrow": false,
          "text": "0.0",
          "x": "8",
          "xref": "x",
          "y": "9",
          "yref": "y"
         },
         {
          "font": {
           "color": "#000000"
          },
          "showarrow": false,
          "text": "0.0",
          "x": "7",
          "xref": "x",
          "y": "9",
          "yref": "y"
         },
         {
          "font": {
           "color": "#000000"
          },
          "showarrow": false,
          "text": "0.0",
          "x": "6",
          "xref": "x",
          "y": "9",
          "yref": "y"
         },
         {
          "font": {
           "color": "#000000"
          },
          "showarrow": false,
          "text": "0.0",
          "x": "5",
          "xref": "x",
          "y": "9",
          "yref": "y"
         },
         {
          "font": {
           "color": "#000000"
          },
          "showarrow": false,
          "text": "0.0",
          "x": "4",
          "xref": "x",
          "y": "9",
          "yref": "y"
         },
         {
          "font": {
           "color": "#000000"
          },
          "showarrow": false,
          "text": "0.0",
          "x": "3",
          "xref": "x",
          "y": "9",
          "yref": "y"
         },
         {
          "font": {
           "color": "#000000"
          },
          "showarrow": false,
          "text": "0.0",
          "x": "2",
          "xref": "x",
          "y": "9",
          "yref": "y"
         },
         {
          "font": {
           "color": "#FFFFFF"
          },
          "showarrow": false,
          "text": "0.51",
          "x": "1",
          "xref": "x",
          "y": "9",
          "yref": "y"
         },
         {
          "font": {
           "color": "#000000"
          },
          "showarrow": false,
          "text": "0.35",
          "x": "21",
          "xref": "x",
          "y": "10",
          "yref": "y"
         },
         {
          "font": {
           "color": "#000000"
          },
          "showarrow": false,
          "text": "0.0",
          "x": "20",
          "xref": "x",
          "y": "10",
          "yref": "y"
         },
         {
          "font": {
           "color": "#000000"
          },
          "showarrow": false,
          "text": "0.0",
          "x": "19",
          "xref": "x",
          "y": "10",
          "yref": "y"
         },
         {
          "font": {
           "color": "#000000"
          },
          "showarrow": false,
          "text": "0.0",
          "x": "18",
          "xref": "x",
          "y": "10",
          "yref": "y"
         },
         {
          "font": {
           "color": "#000000"
          },
          "showarrow": false,
          "text": "0.0",
          "x": "17",
          "xref": "x",
          "y": "10",
          "yref": "y"
         },
         {
          "font": {
           "color": "#000000"
          },
          "showarrow": false,
          "text": "0.0",
          "x": "16",
          "xref": "x",
          "y": "10",
          "yref": "y"
         },
         {
          "font": {
           "color": "#000000"
          },
          "showarrow": false,
          "text": "0.0",
          "x": "15",
          "xref": "x",
          "y": "10",
          "yref": "y"
         },
         {
          "font": {
           "color": "#000000"
          },
          "showarrow": false,
          "text": "0.0",
          "x": "14",
          "xref": "x",
          "y": "10",
          "yref": "y"
         },
         {
          "font": {
           "color": "#000000"
          },
          "showarrow": false,
          "text": "0.0",
          "x": "13",
          "xref": "x",
          "y": "10",
          "yref": "y"
         },
         {
          "font": {
           "color": "#000000"
          },
          "showarrow": false,
          "text": "0.0",
          "x": "12",
          "xref": "x",
          "y": "10",
          "yref": "y"
         },
         {
          "font": {
           "color": "#000000"
          },
          "showarrow": false,
          "text": "0.0",
          "x": "11",
          "xref": "x",
          "y": "10",
          "yref": "y"
         },
         {
          "font": {
           "color": "#000000"
          },
          "showarrow": false,
          "text": "0.0",
          "x": "10",
          "xref": "x",
          "y": "10",
          "yref": "y"
         },
         {
          "font": {
           "color": "#000000"
          },
          "showarrow": false,
          "text": "0.0",
          "x": "9",
          "xref": "x",
          "y": "10",
          "yref": "y"
         },
         {
          "font": {
           "color": "#000000"
          },
          "showarrow": false,
          "text": "0.0",
          "x": "8",
          "xref": "x",
          "y": "10",
          "yref": "y"
         },
         {
          "font": {
           "color": "#000000"
          },
          "showarrow": false,
          "text": "0.0",
          "x": "7",
          "xref": "x",
          "y": "10",
          "yref": "y"
         },
         {
          "font": {
           "color": "#000000"
          },
          "showarrow": false,
          "text": "0.0",
          "x": "6",
          "xref": "x",
          "y": "10",
          "yref": "y"
         },
         {
          "font": {
           "color": "#000000"
          },
          "showarrow": false,
          "text": "0.0",
          "x": "5",
          "xref": "x",
          "y": "10",
          "yref": "y"
         },
         {
          "font": {
           "color": "#000000"
          },
          "showarrow": false,
          "text": "0.0",
          "x": "4",
          "xref": "x",
          "y": "10",
          "yref": "y"
         },
         {
          "font": {
           "color": "#000000"
          },
          "showarrow": false,
          "text": "0.0",
          "x": "3",
          "xref": "x",
          "y": "10",
          "yref": "y"
         },
         {
          "font": {
           "color": "#000000"
          },
          "showarrow": false,
          "text": "0.0",
          "x": "2",
          "xref": "x",
          "y": "10",
          "yref": "y"
         },
         {
          "font": {
           "color": "#FFFFFF"
          },
          "showarrow": false,
          "text": "0.65",
          "x": "1",
          "xref": "x",
          "y": "10",
          "yref": "y"
         },
         {
          "font": {
           "color": "#FFFFFF"
          },
          "showarrow": false,
          "text": "0.56",
          "x": "21",
          "xref": "x",
          "y": "11",
          "yref": "y"
         },
         {
          "font": {
           "color": "#000000"
          },
          "showarrow": false,
          "text": "0.0",
          "x": "20",
          "xref": "x",
          "y": "11",
          "yref": "y"
         },
         {
          "font": {
           "color": "#000000"
          },
          "showarrow": false,
          "text": "0.0",
          "x": "19",
          "xref": "x",
          "y": "11",
          "yref": "y"
         },
         {
          "font": {
           "color": "#000000"
          },
          "showarrow": false,
          "text": "0.0",
          "x": "18",
          "xref": "x",
          "y": "11",
          "yref": "y"
         },
         {
          "font": {
           "color": "#000000"
          },
          "showarrow": false,
          "text": "0.0",
          "x": "17",
          "xref": "x",
          "y": "11",
          "yref": "y"
         },
         {
          "font": {
           "color": "#000000"
          },
          "showarrow": false,
          "text": "0.0",
          "x": "16",
          "xref": "x",
          "y": "11",
          "yref": "y"
         },
         {
          "font": {
           "color": "#000000"
          },
          "showarrow": false,
          "text": "0.0",
          "x": "15",
          "xref": "x",
          "y": "11",
          "yref": "y"
         },
         {
          "font": {
           "color": "#000000"
          },
          "showarrow": false,
          "text": "0.0",
          "x": "14",
          "xref": "x",
          "y": "11",
          "yref": "y"
         },
         {
          "font": {
           "color": "#000000"
          },
          "showarrow": false,
          "text": "0.0",
          "x": "13",
          "xref": "x",
          "y": "11",
          "yref": "y"
         },
         {
          "font": {
           "color": "#000000"
          },
          "showarrow": false,
          "text": "0.0",
          "x": "12",
          "xref": "x",
          "y": "11",
          "yref": "y"
         },
         {
          "font": {
           "color": "#000000"
          },
          "showarrow": false,
          "text": "0.0",
          "x": "11",
          "xref": "x",
          "y": "11",
          "yref": "y"
         },
         {
          "font": {
           "color": "#000000"
          },
          "showarrow": false,
          "text": "0.0",
          "x": "10",
          "xref": "x",
          "y": "11",
          "yref": "y"
         },
         {
          "font": {
           "color": "#000000"
          },
          "showarrow": false,
          "text": "0.0",
          "x": "9",
          "xref": "x",
          "y": "11",
          "yref": "y"
         },
         {
          "font": {
           "color": "#000000"
          },
          "showarrow": false,
          "text": "0.0",
          "x": "8",
          "xref": "x",
          "y": "11",
          "yref": "y"
         },
         {
          "font": {
           "color": "#000000"
          },
          "showarrow": false,
          "text": "0.0",
          "x": "7",
          "xref": "x",
          "y": "11",
          "yref": "y"
         },
         {
          "font": {
           "color": "#000000"
          },
          "showarrow": false,
          "text": "0.0",
          "x": "6",
          "xref": "x",
          "y": "11",
          "yref": "y"
         },
         {
          "font": {
           "color": "#000000"
          },
          "showarrow": false,
          "text": "0.0",
          "x": "5",
          "xref": "x",
          "y": "11",
          "yref": "y"
         },
         {
          "font": {
           "color": "#000000"
          },
          "showarrow": false,
          "text": "0.0",
          "x": "4",
          "xref": "x",
          "y": "11",
          "yref": "y"
         },
         {
          "font": {
           "color": "#000000"
          },
          "showarrow": false,
          "text": "0.0",
          "x": "3",
          "xref": "x",
          "y": "11",
          "yref": "y"
         },
         {
          "font": {
           "color": "#000000"
          },
          "showarrow": false,
          "text": "0.0",
          "x": "2",
          "xref": "x",
          "y": "11",
          "yref": "y"
         },
         {
          "font": {
           "color": "#000000"
          },
          "showarrow": false,
          "text": "0.44",
          "x": "1",
          "xref": "x",
          "y": "11",
          "yref": "y"
         },
         {
          "font": {
           "color": "#000000"
          },
          "showarrow": false,
          "text": "0.41",
          "x": "21",
          "xref": "x",
          "y": "12",
          "yref": "y"
         },
         {
          "font": {
           "color": "#000000"
          },
          "showarrow": false,
          "text": "0.0",
          "x": "20",
          "xref": "x",
          "y": "12",
          "yref": "y"
         },
         {
          "font": {
           "color": "#000000"
          },
          "showarrow": false,
          "text": "0.0",
          "x": "19",
          "xref": "x",
          "y": "12",
          "yref": "y"
         },
         {
          "font": {
           "color": "#000000"
          },
          "showarrow": false,
          "text": "0.0",
          "x": "18",
          "xref": "x",
          "y": "12",
          "yref": "y"
         },
         {
          "font": {
           "color": "#000000"
          },
          "showarrow": false,
          "text": "0.0",
          "x": "17",
          "xref": "x",
          "y": "12",
          "yref": "y"
         },
         {
          "font": {
           "color": "#000000"
          },
          "showarrow": false,
          "text": "0.0",
          "x": "16",
          "xref": "x",
          "y": "12",
          "yref": "y"
         },
         {
          "font": {
           "color": "#000000"
          },
          "showarrow": false,
          "text": "0.0",
          "x": "15",
          "xref": "x",
          "y": "12",
          "yref": "y"
         },
         {
          "font": {
           "color": "#000000"
          },
          "showarrow": false,
          "text": "0.0",
          "x": "14",
          "xref": "x",
          "y": "12",
          "yref": "y"
         },
         {
          "font": {
           "color": "#000000"
          },
          "showarrow": false,
          "text": "0.0",
          "x": "13",
          "xref": "x",
          "y": "12",
          "yref": "y"
         },
         {
          "font": {
           "color": "#000000"
          },
          "showarrow": false,
          "text": "0.0",
          "x": "12",
          "xref": "x",
          "y": "12",
          "yref": "y"
         },
         {
          "font": {
           "color": "#000000"
          },
          "showarrow": false,
          "text": "0.0",
          "x": "11",
          "xref": "x",
          "y": "12",
          "yref": "y"
         },
         {
          "font": {
           "color": "#000000"
          },
          "showarrow": false,
          "text": "0.0",
          "x": "10",
          "xref": "x",
          "y": "12",
          "yref": "y"
         },
         {
          "font": {
           "color": "#000000"
          },
          "showarrow": false,
          "text": "0.0",
          "x": "9",
          "xref": "x",
          "y": "12",
          "yref": "y"
         },
         {
          "font": {
           "color": "#000000"
          },
          "showarrow": false,
          "text": "0.0",
          "x": "8",
          "xref": "x",
          "y": "12",
          "yref": "y"
         },
         {
          "font": {
           "color": "#000000"
          },
          "showarrow": false,
          "text": "0.0",
          "x": "7",
          "xref": "x",
          "y": "12",
          "yref": "y"
         },
         {
          "font": {
           "color": "#000000"
          },
          "showarrow": false,
          "text": "0.0",
          "x": "6",
          "xref": "x",
          "y": "12",
          "yref": "y"
         },
         {
          "font": {
           "color": "#000000"
          },
          "showarrow": false,
          "text": "0.0",
          "x": "5",
          "xref": "x",
          "y": "12",
          "yref": "y"
         },
         {
          "font": {
           "color": "#000000"
          },
          "showarrow": false,
          "text": "0.0",
          "x": "4",
          "xref": "x",
          "y": "12",
          "yref": "y"
         },
         {
          "font": {
           "color": "#000000"
          },
          "showarrow": false,
          "text": "0.0",
          "x": "3",
          "xref": "x",
          "y": "12",
          "yref": "y"
         },
         {
          "font": {
           "color": "#000000"
          },
          "showarrow": false,
          "text": "0.0",
          "x": "2",
          "xref": "x",
          "y": "12",
          "yref": "y"
         },
         {
          "font": {
           "color": "#FFFFFF"
          },
          "showarrow": false,
          "text": "0.59",
          "x": "1",
          "xref": "x",
          "y": "12",
          "yref": "y"
         },
         {
          "font": {
           "color": "#000000"
          },
          "showarrow": false,
          "text": "0.46",
          "x": "21",
          "xref": "x",
          "y": "13",
          "yref": "y"
         },
         {
          "font": {
           "color": "#000000"
          },
          "showarrow": false,
          "text": "0.0",
          "x": "20",
          "xref": "x",
          "y": "13",
          "yref": "y"
         },
         {
          "font": {
           "color": "#000000"
          },
          "showarrow": false,
          "text": "0.0",
          "x": "19",
          "xref": "x",
          "y": "13",
          "yref": "y"
         },
         {
          "font": {
           "color": "#000000"
          },
          "showarrow": false,
          "text": "0.0",
          "x": "18",
          "xref": "x",
          "y": "13",
          "yref": "y"
         },
         {
          "font": {
           "color": "#000000"
          },
          "showarrow": false,
          "text": "0.0",
          "x": "17",
          "xref": "x",
          "y": "13",
          "yref": "y"
         },
         {
          "font": {
           "color": "#000000"
          },
          "showarrow": false,
          "text": "0.0",
          "x": "16",
          "xref": "x",
          "y": "13",
          "yref": "y"
         },
         {
          "font": {
           "color": "#000000"
          },
          "showarrow": false,
          "text": "0.0",
          "x": "15",
          "xref": "x",
          "y": "13",
          "yref": "y"
         },
         {
          "font": {
           "color": "#000000"
          },
          "showarrow": false,
          "text": "0.0",
          "x": "14",
          "xref": "x",
          "y": "13",
          "yref": "y"
         },
         {
          "font": {
           "color": "#000000"
          },
          "showarrow": false,
          "text": "0.0",
          "x": "13",
          "xref": "x",
          "y": "13",
          "yref": "y"
         },
         {
          "font": {
           "color": "#000000"
          },
          "showarrow": false,
          "text": "0.0",
          "x": "12",
          "xref": "x",
          "y": "13",
          "yref": "y"
         },
         {
          "font": {
           "color": "#000000"
          },
          "showarrow": false,
          "text": "0.0",
          "x": "11",
          "xref": "x",
          "y": "13",
          "yref": "y"
         },
         {
          "font": {
           "color": "#000000"
          },
          "showarrow": false,
          "text": "0.0",
          "x": "10",
          "xref": "x",
          "y": "13",
          "yref": "y"
         },
         {
          "font": {
           "color": "#000000"
          },
          "showarrow": false,
          "text": "0.0",
          "x": "9",
          "xref": "x",
          "y": "13",
          "yref": "y"
         },
         {
          "font": {
           "color": "#000000"
          },
          "showarrow": false,
          "text": "0.0",
          "x": "8",
          "xref": "x",
          "y": "13",
          "yref": "y"
         },
         {
          "font": {
           "color": "#000000"
          },
          "showarrow": false,
          "text": "0.0",
          "x": "7",
          "xref": "x",
          "y": "13",
          "yref": "y"
         },
         {
          "font": {
           "color": "#000000"
          },
          "showarrow": false,
          "text": "0.0",
          "x": "6",
          "xref": "x",
          "y": "13",
          "yref": "y"
         },
         {
          "font": {
           "color": "#000000"
          },
          "showarrow": false,
          "text": "0.0",
          "x": "5",
          "xref": "x",
          "y": "13",
          "yref": "y"
         },
         {
          "font": {
           "color": "#000000"
          },
          "showarrow": false,
          "text": "0.0",
          "x": "4",
          "xref": "x",
          "y": "13",
          "yref": "y"
         },
         {
          "font": {
           "color": "#000000"
          },
          "showarrow": false,
          "text": "0.0",
          "x": "3",
          "xref": "x",
          "y": "13",
          "yref": "y"
         },
         {
          "font": {
           "color": "#000000"
          },
          "showarrow": false,
          "text": "0.0",
          "x": "2",
          "xref": "x",
          "y": "13",
          "yref": "y"
         },
         {
          "font": {
           "color": "#FFFFFF"
          },
          "showarrow": false,
          "text": "0.54",
          "x": "1",
          "xref": "x",
          "y": "13",
          "yref": "y"
         },
         {
          "font": {
           "color": "#FFFFFF"
          },
          "showarrow": false,
          "text": "0.65",
          "x": "21",
          "xref": "x",
          "y": "14",
          "yref": "y"
         },
         {
          "font": {
           "color": "#000000"
          },
          "showarrow": false,
          "text": "0.0",
          "x": "20",
          "xref": "x",
          "y": "14",
          "yref": "y"
         },
         {
          "font": {
           "color": "#000000"
          },
          "showarrow": false,
          "text": "0.0",
          "x": "19",
          "xref": "x",
          "y": "14",
          "yref": "y"
         },
         {
          "font": {
           "color": "#000000"
          },
          "showarrow": false,
          "text": "0.0",
          "x": "18",
          "xref": "x",
          "y": "14",
          "yref": "y"
         },
         {
          "font": {
           "color": "#000000"
          },
          "showarrow": false,
          "text": "0.0",
          "x": "17",
          "xref": "x",
          "y": "14",
          "yref": "y"
         },
         {
          "font": {
           "color": "#000000"
          },
          "showarrow": false,
          "text": "0.0",
          "x": "16",
          "xref": "x",
          "y": "14",
          "yref": "y"
         },
         {
          "font": {
           "color": "#000000"
          },
          "showarrow": false,
          "text": "0.0",
          "x": "15",
          "xref": "x",
          "y": "14",
          "yref": "y"
         },
         {
          "font": {
           "color": "#000000"
          },
          "showarrow": false,
          "text": "0.0",
          "x": "14",
          "xref": "x",
          "y": "14",
          "yref": "y"
         },
         {
          "font": {
           "color": "#000000"
          },
          "showarrow": false,
          "text": "0.0",
          "x": "13",
          "xref": "x",
          "y": "14",
          "yref": "y"
         },
         {
          "font": {
           "color": "#000000"
          },
          "showarrow": false,
          "text": "0.0",
          "x": "12",
          "xref": "x",
          "y": "14",
          "yref": "y"
         },
         {
          "font": {
           "color": "#000000"
          },
          "showarrow": false,
          "text": "0.0",
          "x": "11",
          "xref": "x",
          "y": "14",
          "yref": "y"
         },
         {
          "font": {
           "color": "#000000"
          },
          "showarrow": false,
          "text": "0.0",
          "x": "10",
          "xref": "x",
          "y": "14",
          "yref": "y"
         },
         {
          "font": {
           "color": "#000000"
          },
          "showarrow": false,
          "text": "0.0",
          "x": "9",
          "xref": "x",
          "y": "14",
          "yref": "y"
         },
         {
          "font": {
           "color": "#000000"
          },
          "showarrow": false,
          "text": "0.0",
          "x": "8",
          "xref": "x",
          "y": "14",
          "yref": "y"
         },
         {
          "font": {
           "color": "#000000"
          },
          "showarrow": false,
          "text": "0.0",
          "x": "7",
          "xref": "x",
          "y": "14",
          "yref": "y"
         },
         {
          "font": {
           "color": "#000000"
          },
          "showarrow": false,
          "text": "0.0",
          "x": "6",
          "xref": "x",
          "y": "14",
          "yref": "y"
         },
         {
          "font": {
           "color": "#000000"
          },
          "showarrow": false,
          "text": "0.0",
          "x": "5",
          "xref": "x",
          "y": "14",
          "yref": "y"
         },
         {
          "font": {
           "color": "#000000"
          },
          "showarrow": false,
          "text": "0.0",
          "x": "4",
          "xref": "x",
          "y": "14",
          "yref": "y"
         },
         {
          "font": {
           "color": "#000000"
          },
          "showarrow": false,
          "text": "0.0",
          "x": "3",
          "xref": "x",
          "y": "14",
          "yref": "y"
         },
         {
          "font": {
           "color": "#000000"
          },
          "showarrow": false,
          "text": "0.0",
          "x": "2",
          "xref": "x",
          "y": "14",
          "yref": "y"
         },
         {
          "font": {
           "color": "#000000"
          },
          "showarrow": false,
          "text": "0.35",
          "x": "1",
          "xref": "x",
          "y": "14",
          "yref": "y"
         },
         {
          "font": {
           "color": "#FFFFFF"
          },
          "showarrow": false,
          "text": "0.6",
          "x": "21",
          "xref": "x",
          "y": "15",
          "yref": "y"
         },
         {
          "font": {
           "color": "#000000"
          },
          "showarrow": false,
          "text": "0.0",
          "x": "20",
          "xref": "x",
          "y": "15",
          "yref": "y"
         },
         {
          "font": {
           "color": "#000000"
          },
          "showarrow": false,
          "text": "0.0",
          "x": "19",
          "xref": "x",
          "y": "15",
          "yref": "y"
         },
         {
          "font": {
           "color": "#000000"
          },
          "showarrow": false,
          "text": "0.0",
          "x": "18",
          "xref": "x",
          "y": "15",
          "yref": "y"
         },
         {
          "font": {
           "color": "#000000"
          },
          "showarrow": false,
          "text": "0.0",
          "x": "17",
          "xref": "x",
          "y": "15",
          "yref": "y"
         },
         {
          "font": {
           "color": "#000000"
          },
          "showarrow": false,
          "text": "0.0",
          "x": "16",
          "xref": "x",
          "y": "15",
          "yref": "y"
         },
         {
          "font": {
           "color": "#000000"
          },
          "showarrow": false,
          "text": "0.0",
          "x": "15",
          "xref": "x",
          "y": "15",
          "yref": "y"
         },
         {
          "font": {
           "color": "#000000"
          },
          "showarrow": false,
          "text": "0.0",
          "x": "14",
          "xref": "x",
          "y": "15",
          "yref": "y"
         },
         {
          "font": {
           "color": "#000000"
          },
          "showarrow": false,
          "text": "0.0",
          "x": "13",
          "xref": "x",
          "y": "15",
          "yref": "y"
         },
         {
          "font": {
           "color": "#000000"
          },
          "showarrow": false,
          "text": "0.0",
          "x": "12",
          "xref": "x",
          "y": "15",
          "yref": "y"
         },
         {
          "font": {
           "color": "#000000"
          },
          "showarrow": false,
          "text": "0.0",
          "x": "11",
          "xref": "x",
          "y": "15",
          "yref": "y"
         },
         {
          "font": {
           "color": "#000000"
          },
          "showarrow": false,
          "text": "0.0",
          "x": "10",
          "xref": "x",
          "y": "15",
          "yref": "y"
         },
         {
          "font": {
           "color": "#000000"
          },
          "showarrow": false,
          "text": "0.0",
          "x": "9",
          "xref": "x",
          "y": "15",
          "yref": "y"
         },
         {
          "font": {
           "color": "#000000"
          },
          "showarrow": false,
          "text": "0.0",
          "x": "8",
          "xref": "x",
          "y": "15",
          "yref": "y"
         },
         {
          "font": {
           "color": "#000000"
          },
          "showarrow": false,
          "text": "0.0",
          "x": "7",
          "xref": "x",
          "y": "15",
          "yref": "y"
         },
         {
          "font": {
           "color": "#000000"
          },
          "showarrow": false,
          "text": "0.0",
          "x": "6",
          "xref": "x",
          "y": "15",
          "yref": "y"
         },
         {
          "font": {
           "color": "#000000"
          },
          "showarrow": false,
          "text": "0.0",
          "x": "5",
          "xref": "x",
          "y": "15",
          "yref": "y"
         },
         {
          "font": {
           "color": "#000000"
          },
          "showarrow": false,
          "text": "0.0",
          "x": "4",
          "xref": "x",
          "y": "15",
          "yref": "y"
         },
         {
          "font": {
           "color": "#000000"
          },
          "showarrow": false,
          "text": "0.0",
          "x": "3",
          "xref": "x",
          "y": "15",
          "yref": "y"
         },
         {
          "font": {
           "color": "#000000"
          },
          "showarrow": false,
          "text": "0.0",
          "x": "2",
          "xref": "x",
          "y": "15",
          "yref": "y"
         },
         {
          "font": {
           "color": "#000000"
          },
          "showarrow": false,
          "text": "0.4",
          "x": "1",
          "xref": "x",
          "y": "15",
          "yref": "y"
         },
         {
          "font": {
           "color": "#FFFFFF"
          },
          "showarrow": false,
          "text": "0.79",
          "x": "21",
          "xref": "x",
          "y": "16",
          "yref": "y"
         },
         {
          "font": {
           "color": "#000000"
          },
          "showarrow": false,
          "text": "0.0",
          "x": "20",
          "xref": "x",
          "y": "16",
          "yref": "y"
         },
         {
          "font": {
           "color": "#000000"
          },
          "showarrow": false,
          "text": "0.0",
          "x": "19",
          "xref": "x",
          "y": "16",
          "yref": "y"
         },
         {
          "font": {
           "color": "#000000"
          },
          "showarrow": false,
          "text": "0.0",
          "x": "18",
          "xref": "x",
          "y": "16",
          "yref": "y"
         },
         {
          "font": {
           "color": "#000000"
          },
          "showarrow": false,
          "text": "0.0",
          "x": "17",
          "xref": "x",
          "y": "16",
          "yref": "y"
         },
         {
          "font": {
           "color": "#000000"
          },
          "showarrow": false,
          "text": "0.0",
          "x": "16",
          "xref": "x",
          "y": "16",
          "yref": "y"
         },
         {
          "font": {
           "color": "#000000"
          },
          "showarrow": false,
          "text": "0.0",
          "x": "15",
          "xref": "x",
          "y": "16",
          "yref": "y"
         },
         {
          "font": {
           "color": "#000000"
          },
          "showarrow": false,
          "text": "0.0",
          "x": "14",
          "xref": "x",
          "y": "16",
          "yref": "y"
         },
         {
          "font": {
           "color": "#000000"
          },
          "showarrow": false,
          "text": "0.0",
          "x": "13",
          "xref": "x",
          "y": "16",
          "yref": "y"
         },
         {
          "font": {
           "color": "#000000"
          },
          "showarrow": false,
          "text": "0.0",
          "x": "12",
          "xref": "x",
          "y": "16",
          "yref": "y"
         },
         {
          "font": {
           "color": "#000000"
          },
          "showarrow": false,
          "text": "0.0",
          "x": "11",
          "xref": "x",
          "y": "16",
          "yref": "y"
         },
         {
          "font": {
           "color": "#000000"
          },
          "showarrow": false,
          "text": "0.0",
          "x": "10",
          "xref": "x",
          "y": "16",
          "yref": "y"
         },
         {
          "font": {
           "color": "#000000"
          },
          "showarrow": false,
          "text": "0.0",
          "x": "9",
          "xref": "x",
          "y": "16",
          "yref": "y"
         },
         {
          "font": {
           "color": "#000000"
          },
          "showarrow": false,
          "text": "0.0",
          "x": "8",
          "xref": "x",
          "y": "16",
          "yref": "y"
         },
         {
          "font": {
           "color": "#000000"
          },
          "showarrow": false,
          "text": "0.0",
          "x": "7",
          "xref": "x",
          "y": "16",
          "yref": "y"
         },
         {
          "font": {
           "color": "#000000"
          },
          "showarrow": false,
          "text": "0.0",
          "x": "6",
          "xref": "x",
          "y": "16",
          "yref": "y"
         },
         {
          "font": {
           "color": "#000000"
          },
          "showarrow": false,
          "text": "0.0",
          "x": "5",
          "xref": "x",
          "y": "16",
          "yref": "y"
         },
         {
          "font": {
           "color": "#000000"
          },
          "showarrow": false,
          "text": "0.0",
          "x": "4",
          "xref": "x",
          "y": "16",
          "yref": "y"
         },
         {
          "font": {
           "color": "#000000"
          },
          "showarrow": false,
          "text": "0.0",
          "x": "3",
          "xref": "x",
          "y": "16",
          "yref": "y"
         },
         {
          "font": {
           "color": "#000000"
          },
          "showarrow": false,
          "text": "0.0",
          "x": "2",
          "xref": "x",
          "y": "16",
          "yref": "y"
         },
         {
          "font": {
           "color": "#000000"
          },
          "showarrow": false,
          "text": "0.21",
          "x": "1",
          "xref": "x",
          "y": "16",
          "yref": "y"
         },
         {
          "font": {
           "color": "#FFFFFF"
          },
          "showarrow": false,
          "text": "0.76",
          "x": "21",
          "xref": "x",
          "y": "17",
          "yref": "y"
         },
         {
          "font": {
           "color": "#000000"
          },
          "showarrow": false,
          "text": "0.0",
          "x": "20",
          "xref": "x",
          "y": "17",
          "yref": "y"
         },
         {
          "font": {
           "color": "#000000"
          },
          "showarrow": false,
          "text": "0.0",
          "x": "19",
          "xref": "x",
          "y": "17",
          "yref": "y"
         },
         {
          "font": {
           "color": "#000000"
          },
          "showarrow": false,
          "text": "0.0",
          "x": "18",
          "xref": "x",
          "y": "17",
          "yref": "y"
         },
         {
          "font": {
           "color": "#000000"
          },
          "showarrow": false,
          "text": "0.0",
          "x": "17",
          "xref": "x",
          "y": "17",
          "yref": "y"
         },
         {
          "font": {
           "color": "#000000"
          },
          "showarrow": false,
          "text": "0.0",
          "x": "16",
          "xref": "x",
          "y": "17",
          "yref": "y"
         },
         {
          "font": {
           "color": "#000000"
          },
          "showarrow": false,
          "text": "0.0",
          "x": "15",
          "xref": "x",
          "y": "17",
          "yref": "y"
         },
         {
          "font": {
           "color": "#000000"
          },
          "showarrow": false,
          "text": "0.0",
          "x": "14",
          "xref": "x",
          "y": "17",
          "yref": "y"
         },
         {
          "font": {
           "color": "#000000"
          },
          "showarrow": false,
          "text": "0.0",
          "x": "13",
          "xref": "x",
          "y": "17",
          "yref": "y"
         },
         {
          "font": {
           "color": "#000000"
          },
          "showarrow": false,
          "text": "0.0",
          "x": "12",
          "xref": "x",
          "y": "17",
          "yref": "y"
         },
         {
          "font": {
           "color": "#000000"
          },
          "showarrow": false,
          "text": "0.0",
          "x": "11",
          "xref": "x",
          "y": "17",
          "yref": "y"
         },
         {
          "font": {
           "color": "#000000"
          },
          "showarrow": false,
          "text": "0.0",
          "x": "10",
          "xref": "x",
          "y": "17",
          "yref": "y"
         },
         {
          "font": {
           "color": "#000000"
          },
          "showarrow": false,
          "text": "0.0",
          "x": "9",
          "xref": "x",
          "y": "17",
          "yref": "y"
         },
         {
          "font": {
           "color": "#000000"
          },
          "showarrow": false,
          "text": "0.0",
          "x": "8",
          "xref": "x",
          "y": "17",
          "yref": "y"
         },
         {
          "font": {
           "color": "#000000"
          },
          "showarrow": false,
          "text": "0.0",
          "x": "7",
          "xref": "x",
          "y": "17",
          "yref": "y"
         },
         {
          "font": {
           "color": "#000000"
          },
          "showarrow": false,
          "text": "0.0",
          "x": "6",
          "xref": "x",
          "y": "17",
          "yref": "y"
         },
         {
          "font": {
           "color": "#000000"
          },
          "showarrow": false,
          "text": "0.0",
          "x": "5",
          "xref": "x",
          "y": "17",
          "yref": "y"
         },
         {
          "font": {
           "color": "#000000"
          },
          "showarrow": false,
          "text": "0.0",
          "x": "4",
          "xref": "x",
          "y": "17",
          "yref": "y"
         },
         {
          "font": {
           "color": "#000000"
          },
          "showarrow": false,
          "text": "0.0",
          "x": "3",
          "xref": "x",
          "y": "17",
          "yref": "y"
         },
         {
          "font": {
           "color": "#000000"
          },
          "showarrow": false,
          "text": "0.0",
          "x": "2",
          "xref": "x",
          "y": "17",
          "yref": "y"
         },
         {
          "font": {
           "color": "#000000"
          },
          "showarrow": false,
          "text": "0.24",
          "x": "1",
          "xref": "x",
          "y": "17",
          "yref": "y"
         },
         {
          "font": {
           "color": "#FFFFFF"
          },
          "showarrow": false,
          "text": "0.92",
          "x": "21",
          "xref": "x",
          "y": "18",
          "yref": "y"
         },
         {
          "font": {
           "color": "#000000"
          },
          "showarrow": false,
          "text": "0.0",
          "x": "20",
          "xref": "x",
          "y": "18",
          "yref": "y"
         },
         {
          "font": {
           "color": "#000000"
          },
          "showarrow": false,
          "text": "0.0",
          "x": "19",
          "xref": "x",
          "y": "18",
          "yref": "y"
         },
         {
          "font": {
           "color": "#000000"
          },
          "showarrow": false,
          "text": "0.0",
          "x": "18",
          "xref": "x",
          "y": "18",
          "yref": "y"
         },
         {
          "font": {
           "color": "#000000"
          },
          "showarrow": false,
          "text": "0.0",
          "x": "17",
          "xref": "x",
          "y": "18",
          "yref": "y"
         },
         {
          "font": {
           "color": "#000000"
          },
          "showarrow": false,
          "text": "0.0",
          "x": "16",
          "xref": "x",
          "y": "18",
          "yref": "y"
         },
         {
          "font": {
           "color": "#000000"
          },
          "showarrow": false,
          "text": "0.0",
          "x": "15",
          "xref": "x",
          "y": "18",
          "yref": "y"
         },
         {
          "font": {
           "color": "#000000"
          },
          "showarrow": false,
          "text": "0.0",
          "x": "14",
          "xref": "x",
          "y": "18",
          "yref": "y"
         },
         {
          "font": {
           "color": "#000000"
          },
          "showarrow": false,
          "text": "0.0",
          "x": "13",
          "xref": "x",
          "y": "18",
          "yref": "y"
         },
         {
          "font": {
           "color": "#000000"
          },
          "showarrow": false,
          "text": "0.0",
          "x": "12",
          "xref": "x",
          "y": "18",
          "yref": "y"
         },
         {
          "font": {
           "color": "#000000"
          },
          "showarrow": false,
          "text": "0.0",
          "x": "11",
          "xref": "x",
          "y": "18",
          "yref": "y"
         },
         {
          "font": {
           "color": "#000000"
          },
          "showarrow": false,
          "text": "0.0",
          "x": "10",
          "xref": "x",
          "y": "18",
          "yref": "y"
         },
         {
          "font": {
           "color": "#000000"
          },
          "showarrow": false,
          "text": "0.0",
          "x": "9",
          "xref": "x",
          "y": "18",
          "yref": "y"
         },
         {
          "font": {
           "color": "#000000"
          },
          "showarrow": false,
          "text": "0.0",
          "x": "8",
          "xref": "x",
          "y": "18",
          "yref": "y"
         },
         {
          "font": {
           "color": "#000000"
          },
          "showarrow": false,
          "text": "0.0",
          "x": "7",
          "xref": "x",
          "y": "18",
          "yref": "y"
         },
         {
          "font": {
           "color": "#000000"
          },
          "showarrow": false,
          "text": "0.0",
          "x": "6",
          "xref": "x",
          "y": "18",
          "yref": "y"
         },
         {
          "font": {
           "color": "#000000"
          },
          "showarrow": false,
          "text": "0.0",
          "x": "5",
          "xref": "x",
          "y": "18",
          "yref": "y"
         },
         {
          "font": {
           "color": "#000000"
          },
          "showarrow": false,
          "text": "0.0",
          "x": "4",
          "xref": "x",
          "y": "18",
          "yref": "y"
         },
         {
          "font": {
           "color": "#000000"
          },
          "showarrow": false,
          "text": "0.0",
          "x": "3",
          "xref": "x",
          "y": "18",
          "yref": "y"
         },
         {
          "font": {
           "color": "#000000"
          },
          "showarrow": false,
          "text": "0.0",
          "x": "2",
          "xref": "x",
          "y": "18",
          "yref": "y"
         },
         {
          "font": {
           "color": "#000000"
          },
          "showarrow": false,
          "text": "0.08",
          "x": "1",
          "xref": "x",
          "y": "18",
          "yref": "y"
         },
         {
          "font": {
           "color": "#FFFFFF"
          },
          "showarrow": false,
          "text": "0.91",
          "x": "21",
          "xref": "x",
          "y": "19",
          "yref": "y"
         },
         {
          "font": {
           "color": "#000000"
          },
          "showarrow": false,
          "text": "0.0",
          "x": "20",
          "xref": "x",
          "y": "19",
          "yref": "y"
         },
         {
          "font": {
           "color": "#000000"
          },
          "showarrow": false,
          "text": "0.0",
          "x": "19",
          "xref": "x",
          "y": "19",
          "yref": "y"
         },
         {
          "font": {
           "color": "#000000"
          },
          "showarrow": false,
          "text": "0.0",
          "x": "18",
          "xref": "x",
          "y": "19",
          "yref": "y"
         },
         {
          "font": {
           "color": "#000000"
          },
          "showarrow": false,
          "text": "0.0",
          "x": "17",
          "xref": "x",
          "y": "19",
          "yref": "y"
         },
         {
          "font": {
           "color": "#000000"
          },
          "showarrow": false,
          "text": "0.0",
          "x": "16",
          "xref": "x",
          "y": "19",
          "yref": "y"
         },
         {
          "font": {
           "color": "#000000"
          },
          "showarrow": false,
          "text": "0.0",
          "x": "15",
          "xref": "x",
          "y": "19",
          "yref": "y"
         },
         {
          "font": {
           "color": "#000000"
          },
          "showarrow": false,
          "text": "0.0",
          "x": "14",
          "xref": "x",
          "y": "19",
          "yref": "y"
         },
         {
          "font": {
           "color": "#000000"
          },
          "showarrow": false,
          "text": "0.0",
          "x": "13",
          "xref": "x",
          "y": "19",
          "yref": "y"
         },
         {
          "font": {
           "color": "#000000"
          },
          "showarrow": false,
          "text": "0.0",
          "x": "12",
          "xref": "x",
          "y": "19",
          "yref": "y"
         },
         {
          "font": {
           "color": "#000000"
          },
          "showarrow": false,
          "text": "0.0",
          "x": "11",
          "xref": "x",
          "y": "19",
          "yref": "y"
         },
         {
          "font": {
           "color": "#000000"
          },
          "showarrow": false,
          "text": "0.0",
          "x": "10",
          "xref": "x",
          "y": "19",
          "yref": "y"
         },
         {
          "font": {
           "color": "#000000"
          },
          "showarrow": false,
          "text": "0.0",
          "x": "9",
          "xref": "x",
          "y": "19",
          "yref": "y"
         },
         {
          "font": {
           "color": "#000000"
          },
          "showarrow": false,
          "text": "0.0",
          "x": "8",
          "xref": "x",
          "y": "19",
          "yref": "y"
         },
         {
          "font": {
           "color": "#000000"
          },
          "showarrow": false,
          "text": "0.0",
          "x": "7",
          "xref": "x",
          "y": "19",
          "yref": "y"
         },
         {
          "font": {
           "color": "#000000"
          },
          "showarrow": false,
          "text": "0.0",
          "x": "6",
          "xref": "x",
          "y": "19",
          "yref": "y"
         },
         {
          "font": {
           "color": "#000000"
          },
          "showarrow": false,
          "text": "0.0",
          "x": "5",
          "xref": "x",
          "y": "19",
          "yref": "y"
         },
         {
          "font": {
           "color": "#000000"
          },
          "showarrow": false,
          "text": "0.0",
          "x": "4",
          "xref": "x",
          "y": "19",
          "yref": "y"
         },
         {
          "font": {
           "color": "#000000"
          },
          "showarrow": false,
          "text": "0.0",
          "x": "3",
          "xref": "x",
          "y": "19",
          "yref": "y"
         },
         {
          "font": {
           "color": "#000000"
          },
          "showarrow": false,
          "text": "0.0",
          "x": "2",
          "xref": "x",
          "y": "19",
          "yref": "y"
         },
         {
          "font": {
           "color": "#000000"
          },
          "showarrow": false,
          "text": "0.09",
          "x": "1",
          "xref": "x",
          "y": "19",
          "yref": "y"
         },
         {
          "font": {
           "color": "#FFFFFF"
          },
          "showarrow": false,
          "text": "0.99",
          "x": "21",
          "xref": "x",
          "y": "20",
          "yref": "y"
         },
         {
          "font": {
           "color": "#000000"
          },
          "showarrow": false,
          "text": "0.0",
          "x": "20",
          "xref": "x",
          "y": "20",
          "yref": "y"
         },
         {
          "font": {
           "color": "#000000"
          },
          "showarrow": false,
          "text": "0.0",
          "x": "19",
          "xref": "x",
          "y": "20",
          "yref": "y"
         },
         {
          "font": {
           "color": "#000000"
          },
          "showarrow": false,
          "text": "0.0",
          "x": "18",
          "xref": "x",
          "y": "20",
          "yref": "y"
         },
         {
          "font": {
           "color": "#000000"
          },
          "showarrow": false,
          "text": "0.0",
          "x": "17",
          "xref": "x",
          "y": "20",
          "yref": "y"
         },
         {
          "font": {
           "color": "#000000"
          },
          "showarrow": false,
          "text": "0.0",
          "x": "16",
          "xref": "x",
          "y": "20",
          "yref": "y"
         },
         {
          "font": {
           "color": "#000000"
          },
          "showarrow": false,
          "text": "0.0",
          "x": "15",
          "xref": "x",
          "y": "20",
          "yref": "y"
         },
         {
          "font": {
           "color": "#000000"
          },
          "showarrow": false,
          "text": "0.0",
          "x": "14",
          "xref": "x",
          "y": "20",
          "yref": "y"
         },
         {
          "font": {
           "color": "#000000"
          },
          "showarrow": false,
          "text": "0.0",
          "x": "13",
          "xref": "x",
          "y": "20",
          "yref": "y"
         },
         {
          "font": {
           "color": "#000000"
          },
          "showarrow": false,
          "text": "0.0",
          "x": "12",
          "xref": "x",
          "y": "20",
          "yref": "y"
         },
         {
          "font": {
           "color": "#000000"
          },
          "showarrow": false,
          "text": "0.0",
          "x": "11",
          "xref": "x",
          "y": "20",
          "yref": "y"
         },
         {
          "font": {
           "color": "#000000"
          },
          "showarrow": false,
          "text": "0.0",
          "x": "10",
          "xref": "x",
          "y": "20",
          "yref": "y"
         },
         {
          "font": {
           "color": "#000000"
          },
          "showarrow": false,
          "text": "0.0",
          "x": "9",
          "xref": "x",
          "y": "20",
          "yref": "y"
         },
         {
          "font": {
           "color": "#000000"
          },
          "showarrow": false,
          "text": "0.0",
          "x": "8",
          "xref": "x",
          "y": "20",
          "yref": "y"
         },
         {
          "font": {
           "color": "#000000"
          },
          "showarrow": false,
          "text": "0.0",
          "x": "7",
          "xref": "x",
          "y": "20",
          "yref": "y"
         },
         {
          "font": {
           "color": "#000000"
          },
          "showarrow": false,
          "text": "0.0",
          "x": "6",
          "xref": "x",
          "y": "20",
          "yref": "y"
         },
         {
          "font": {
           "color": "#000000"
          },
          "showarrow": false,
          "text": "0.0",
          "x": "5",
          "xref": "x",
          "y": "20",
          "yref": "y"
         },
         {
          "font": {
           "color": "#000000"
          },
          "showarrow": false,
          "text": "0.0",
          "x": "4",
          "xref": "x",
          "y": "20",
          "yref": "y"
         },
         {
          "font": {
           "color": "#000000"
          },
          "showarrow": false,
          "text": "0.0",
          "x": "3",
          "xref": "x",
          "y": "20",
          "yref": "y"
         },
         {
          "font": {
           "color": "#000000"
          },
          "showarrow": false,
          "text": "0.0",
          "x": "2",
          "xref": "x",
          "y": "20",
          "yref": "y"
         },
         {
          "font": {
           "color": "#000000"
          },
          "showarrow": false,
          "text": "0.01",
          "x": "1",
          "xref": "x",
          "y": "20",
          "yref": "y"
         }
        ],
        "height": 800,
        "template": {
         "data": {
          "scatter": [
           {
            "type": "scatter"
           }
          ]
         }
        },
        "title": {
         "text": "",
         "x": 0.47,
         "xanchor": "center",
         "y": 0.95,
         "yanchor": "top"
        },
        "width": 800,
        "xaxis": {
         "dtick": 1,
         "gridcolor": "rgb(0, 0, 0)",
         "showgrid": false,
         "side": "bottom",
         "ticks": "",
         "title": {
          "text": "Predicted Labels"
         }
        },
        "yaxis": {
         "dtick": 1,
         "showgrid": false,
         "ticks": "",
         "ticksuffix": "  ",
         "title": {
          "text": "True Labels"
         }
        }
       }
      },
      "text/html": [
       "<div>\n",
       "        \n",
       "        \n",
       "            <div id=\"ba29cca4-270a-43c7-906b-7cf7c61c7910\" class=\"plotly-graph-div\" style=\"height:800px; width:800px;\"></div>\n",
       "            <script type=\"text/javascript\">\n",
       "                require([\"plotly\"], function(Plotly) {\n",
       "                    window.PLOTLYENV=window.PLOTLYENV || {};\n",
       "                    \n",
       "                if (document.getElementById(\"ba29cca4-270a-43c7-906b-7cf7c61c7910\")) {\n",
       "                    Plotly.newPlot(\n",
       "                        'ba29cca4-270a-43c7-906b-7cf7c61c7910',\n",
       "                        [{\"colorscale\": [[0.0, \"rgb(253, 253, 204)\"], [0.09090909090909091, \"rgb(206, 236, 179)\"], [0.18181818181818182, \"rgb(156, 219, 165)\"], [0.2727272727272727, \"rgb(111, 201, 163)\"], [0.36363636363636365, \"rgb(86, 177, 163)\"], [0.45454545454545453, \"rgb(76, 153, 160)\"], [0.5454545454545454, \"rgb(68, 130, 155)\"], [0.6363636363636364, \"rgb(62, 108, 150)\"], [0.7272727272727273, \"rgb(62, 82, 143)\"], [0.8181818181818182, \"rgb(64, 60, 115)\"], [0.9090909090909091, \"rgb(54, 43, 77)\"], [1.0, \"rgb(39, 26, 44)\"]], \"reversescale\": false, \"showscale\": false, \"type\": \"heatmap\", \"x\": [\"21\", \"20\", \"19\", \"18\", \"17\", \"16\", \"15\", \"14\", \"13\", \"12\", \"11\", \"10\", \"9\", \"8\", \"7\", \"6\", \"5\", \"4\", \"3\", \"2\", \"1\"], \"y\": [\"0\", \"1\", \"2\", \"3\", \"4\", \"5\", \"6\", \"7\", \"8\", \"9\", \"10\", \"11\", \"12\", \"13\", \"14\", \"15\", \"16\", \"17\", \"18\", \"19\", \"20\"], \"z\": [[0.17, 0.0, 0.0, 0.0, 0.0, 0.0, 0.0, 0.0, 0.0, 0.0, 0.0, 0.0, 0.0, 0.0, 0.0, 0.0, 0.0, 0.0, 0.0, 0.0, 0.83], [0.48, 0.0, 0.0, 0.0, 0.0, 0.0, 0.0, 0.0, 0.0, 0.0, 0.0, 0.0, 0.0, 0.0, 0.0, 0.0, 0.0, 0.0, 0.0, 0.0, 0.52], [0.33, 0.0, 0.0, 0.0, 0.0, 0.0, 0.0, 0.0, 0.0, 0.0, 0.0, 0.0, 0.0, 0.0, 0.0, 0.0, 0.0, 0.0, 0.0, 0.0, 0.67], [0.51, 0.0, 0.0, 0.0, 0.0, 0.0, 0.0, 0.0, 0.0, 0.0, 0.0, 0.0, 0.0, 0.0, 0.0, 0.0, 0.0, 0.0, 0.0, 0.0, 0.49], [0.43, 0.0, 0.0, 0.0, 0.0, 0.0, 0.0, 0.0, 0.0, 0.0, 0.0, 0.0, 0.0, 0.0, 0.0, 0.0, 0.0, 0.0, 0.0, 0.0, 0.57], [0.46, 0.0, 0.0, 0.0, 0.0, 0.0, 0.0, 0.0, 0.0, 0.0, 0.0, 0.0, 0.0, 0.0, 0.0, 0.0, 0.0, 0.0, 0.0, 0.0, 0.54], [0.58, 0.0, 0.0, 0.0, 0.0, 0.0, 0.0, 0.0, 0.0, 0.0, 0.0, 0.0, 0.0, 0.0, 0.0, 0.0, 0.0, 0.0, 0.0, 0.0, 0.42], [0.56, 0.0, 0.0, 0.0, 0.0, 0.0, 0.0, 0.0, 0.0, 0.0, 0.0, 0.0, 0.0, 0.0, 0.0, 0.0, 0.0, 0.0, 0.0, 0.0, 0.44], [0.57, 0.0, 0.0, 0.0, 0.0, 0.0, 0.0, 0.0, 0.0, 0.0, 0.0, 0.0, 0.0, 0.0, 0.0, 0.0, 0.0, 0.0, 0.0, 0.0, 0.43], [0.49, 0.0, 0.0, 0.0, 0.0, 0.0, 0.0, 0.0, 0.0, 0.0, 0.0, 0.0, 0.0, 0.0, 0.0, 0.0, 0.0, 0.0, 0.0, 0.0, 0.51], [0.35, 0.0, 0.0, 0.0, 0.0, 0.0, 0.0, 0.0, 0.0, 0.0, 0.0, 0.0, 0.0, 0.0, 0.0, 0.0, 0.0, 0.0, 0.0, 0.0, 0.65], [0.56, 0.0, 0.0, 0.0, 0.0, 0.0, 0.0, 0.0, 0.0, 0.0, 0.0, 0.0, 0.0, 0.0, 0.0, 0.0, 0.0, 0.0, 0.0, 0.0, 0.44], [0.41, 0.0, 0.0, 0.0, 0.0, 0.0, 0.0, 0.0, 0.0, 0.0, 0.0, 0.0, 0.0, 0.0, 0.0, 0.0, 0.0, 0.0, 0.0, 0.0, 0.59], [0.46, 0.0, 0.0, 0.0, 0.0, 0.0, 0.0, 0.0, 0.0, 0.0, 0.0, 0.0, 0.0, 0.0, 0.0, 0.0, 0.0, 0.0, 0.0, 0.0, 0.54], [0.65, 0.0, 0.0, 0.0, 0.0, 0.0, 0.0, 0.0, 0.0, 0.0, 0.0, 0.0, 0.0, 0.0, 0.0, 0.0, 0.0, 0.0, 0.0, 0.0, 0.35], [0.6, 0.0, 0.0, 0.0, 0.0, 0.0, 0.0, 0.0, 0.0, 0.0, 0.0, 0.0, 0.0, 0.0, 0.0, 0.0, 0.0, 0.0, 0.0, 0.0, 0.4], [0.79, 0.0, 0.0, 0.0, 0.0, 0.0, 0.0, 0.0, 0.0, 0.0, 0.0, 0.0, 0.0, 0.0, 0.0, 0.0, 0.0, 0.0, 0.0, 0.0, 0.21], [0.76, 0.0, 0.0, 0.0, 0.0, 0.0, 0.0, 0.0, 0.0, 0.0, 0.0, 0.0, 0.0, 0.0, 0.0, 0.0, 0.0, 0.0, 0.0, 0.0, 0.24], [0.92, 0.0, 0.0, 0.0, 0.0, 0.0, 0.0, 0.0, 0.0, 0.0, 0.0, 0.0, 0.0, 0.0, 0.0, 0.0, 0.0, 0.0, 0.0, 0.0, 0.08], [0.91, 0.0, 0.0, 0.0, 0.0, 0.0, 0.0, 0.0, 0.0, 0.0, 0.0, 0.0, 0.0, 0.0, 0.0, 0.0, 0.0, 0.0, 0.0, 0.0, 0.09], [0.99, 0.0, 0.0, 0.0, 0.0, 0.0, 0.0, 0.0, 0.0, 0.0, 0.0, 0.0, 0.0, 0.0, 0.0, 0.0, 0.0, 0.0, 0.0, 0.0, 0.01]]}],\n",
       "                        {\"annotations\": [{\"font\": {\"color\": \"#000000\"}, \"showarrow\": false, \"text\": \"0.17\", \"x\": \"21\", \"xref\": \"x\", \"y\": \"0\", \"yref\": \"y\"}, {\"font\": {\"color\": \"#000000\"}, \"showarrow\": false, \"text\": \"0.0\", \"x\": \"20\", \"xref\": \"x\", \"y\": \"0\", \"yref\": \"y\"}, {\"font\": {\"color\": \"#000000\"}, \"showarrow\": false, \"text\": \"0.0\", \"x\": \"19\", \"xref\": \"x\", \"y\": \"0\", \"yref\": \"y\"}, {\"font\": {\"color\": \"#000000\"}, \"showarrow\": false, \"text\": \"0.0\", \"x\": \"18\", \"xref\": \"x\", \"y\": \"0\", \"yref\": \"y\"}, {\"font\": {\"color\": \"#000000\"}, \"showarrow\": false, \"text\": \"0.0\", \"x\": \"17\", \"xref\": \"x\", \"y\": \"0\", \"yref\": \"y\"}, {\"font\": {\"color\": \"#000000\"}, \"showarrow\": false, \"text\": \"0.0\", \"x\": \"16\", \"xref\": \"x\", \"y\": \"0\", \"yref\": \"y\"}, {\"font\": {\"color\": \"#000000\"}, \"showarrow\": false, \"text\": \"0.0\", \"x\": \"15\", \"xref\": \"x\", \"y\": \"0\", \"yref\": \"y\"}, {\"font\": {\"color\": \"#000000\"}, \"showarrow\": false, \"text\": \"0.0\", \"x\": \"14\", \"xref\": \"x\", \"y\": \"0\", \"yref\": \"y\"}, {\"font\": {\"color\": \"#000000\"}, \"showarrow\": false, \"text\": \"0.0\", \"x\": \"13\", \"xref\": \"x\", \"y\": \"0\", \"yref\": \"y\"}, {\"font\": {\"color\": \"#000000\"}, \"showarrow\": false, \"text\": \"0.0\", \"x\": \"12\", \"xref\": \"x\", \"y\": \"0\", \"yref\": \"y\"}, {\"font\": {\"color\": \"#000000\"}, \"showarrow\": false, \"text\": \"0.0\", \"x\": \"11\", \"xref\": \"x\", \"y\": \"0\", \"yref\": \"y\"}, {\"font\": {\"color\": \"#000000\"}, \"showarrow\": false, \"text\": \"0.0\", \"x\": \"10\", \"xref\": \"x\", \"y\": \"0\", \"yref\": \"y\"}, {\"font\": {\"color\": \"#000000\"}, \"showarrow\": false, \"text\": \"0.0\", \"x\": \"9\", \"xref\": \"x\", \"y\": \"0\", \"yref\": \"y\"}, {\"font\": {\"color\": \"#000000\"}, \"showarrow\": false, \"text\": \"0.0\", \"x\": \"8\", \"xref\": \"x\", \"y\": \"0\", \"yref\": \"y\"}, {\"font\": {\"color\": \"#000000\"}, \"showarrow\": false, \"text\": \"0.0\", \"x\": \"7\", \"xref\": \"x\", \"y\": \"0\", \"yref\": \"y\"}, {\"font\": {\"color\": \"#000000\"}, \"showarrow\": false, \"text\": \"0.0\", \"x\": \"6\", \"xref\": \"x\", \"y\": \"0\", \"yref\": \"y\"}, {\"font\": {\"color\": \"#000000\"}, \"showarrow\": false, \"text\": \"0.0\", \"x\": \"5\", \"xref\": \"x\", \"y\": \"0\", \"yref\": \"y\"}, {\"font\": {\"color\": \"#000000\"}, \"showarrow\": false, \"text\": \"0.0\", \"x\": \"4\", \"xref\": \"x\", \"y\": \"0\", \"yref\": \"y\"}, {\"font\": {\"color\": \"#000000\"}, \"showarrow\": false, \"text\": \"0.0\", \"x\": \"3\", \"xref\": \"x\", \"y\": \"0\", \"yref\": \"y\"}, {\"font\": {\"color\": \"#000000\"}, \"showarrow\": false, \"text\": \"0.0\", \"x\": \"2\", \"xref\": \"x\", \"y\": \"0\", \"yref\": \"y\"}, {\"font\": {\"color\": \"#FFFFFF\"}, \"showarrow\": false, \"text\": \"0.83\", \"x\": \"1\", \"xref\": \"x\", \"y\": \"0\", \"yref\": \"y\"}, {\"font\": {\"color\": \"#000000\"}, \"showarrow\": false, \"text\": \"0.48\", \"x\": \"21\", \"xref\": \"x\", \"y\": \"1\", \"yref\": \"y\"}, {\"font\": {\"color\": \"#000000\"}, \"showarrow\": false, \"text\": \"0.0\", \"x\": \"20\", \"xref\": \"x\", \"y\": \"1\", \"yref\": \"y\"}, {\"font\": {\"color\": \"#000000\"}, \"showarrow\": false, \"text\": \"0.0\", \"x\": \"19\", \"xref\": \"x\", \"y\": \"1\", \"yref\": \"y\"}, {\"font\": {\"color\": \"#000000\"}, \"showarrow\": false, \"text\": \"0.0\", \"x\": \"18\", \"xref\": \"x\", \"y\": \"1\", \"yref\": \"y\"}, {\"font\": {\"color\": \"#000000\"}, \"showarrow\": false, \"text\": \"0.0\", \"x\": \"17\", \"xref\": \"x\", \"y\": \"1\", \"yref\": \"y\"}, {\"font\": {\"color\": \"#000000\"}, \"showarrow\": false, \"text\": \"0.0\", \"x\": \"16\", \"xref\": \"x\", \"y\": \"1\", \"yref\": \"y\"}, {\"font\": {\"color\": \"#000000\"}, \"showarrow\": false, \"text\": \"0.0\", \"x\": \"15\", \"xref\": \"x\", \"y\": \"1\", \"yref\": \"y\"}, {\"font\": {\"color\": \"#000000\"}, \"showarrow\": false, \"text\": \"0.0\", \"x\": \"14\", \"xref\": \"x\", \"y\": \"1\", \"yref\": \"y\"}, {\"font\": {\"color\": \"#000000\"}, \"showarrow\": false, \"text\": \"0.0\", \"x\": \"13\", \"xref\": \"x\", \"y\": \"1\", \"yref\": \"y\"}, {\"font\": {\"color\": \"#000000\"}, \"showarrow\": false, \"text\": \"0.0\", \"x\": \"12\", \"xref\": \"x\", \"y\": \"1\", \"yref\": \"y\"}, {\"font\": {\"color\": \"#000000\"}, \"showarrow\": false, \"text\": \"0.0\", \"x\": \"11\", \"xref\": \"x\", \"y\": \"1\", \"yref\": \"y\"}, {\"font\": {\"color\": \"#000000\"}, \"showarrow\": false, \"text\": \"0.0\", \"x\": \"10\", \"xref\": \"x\", \"y\": \"1\", \"yref\": \"y\"}, {\"font\": {\"color\": \"#000000\"}, \"showarrow\": false, \"text\": \"0.0\", \"x\": \"9\", \"xref\": \"x\", \"y\": \"1\", \"yref\": \"y\"}, {\"font\": {\"color\": \"#000000\"}, \"showarrow\": false, \"text\": \"0.0\", \"x\": \"8\", \"xref\": \"x\", \"y\": \"1\", \"yref\": \"y\"}, {\"font\": {\"color\": \"#000000\"}, \"showarrow\": false, \"text\": \"0.0\", \"x\": \"7\", \"xref\": \"x\", \"y\": \"1\", \"yref\": \"y\"}, {\"font\": {\"color\": \"#000000\"}, \"showarrow\": false, \"text\": \"0.0\", \"x\": \"6\", \"xref\": \"x\", \"y\": \"1\", \"yref\": \"y\"}, {\"font\": {\"color\": \"#000000\"}, \"showarrow\": false, \"text\": \"0.0\", \"x\": \"5\", \"xref\": \"x\", \"y\": \"1\", \"yref\": \"y\"}, {\"font\": {\"color\": \"#000000\"}, \"showarrow\": false, \"text\": \"0.0\", \"x\": \"4\", \"xref\": \"x\", \"y\": \"1\", \"yref\": \"y\"}, {\"font\": {\"color\": \"#000000\"}, \"showarrow\": false, \"text\": \"0.0\", \"x\": \"3\", \"xref\": \"x\", \"y\": \"1\", \"yref\": \"y\"}, {\"font\": {\"color\": \"#000000\"}, \"showarrow\": false, \"text\": \"0.0\", \"x\": \"2\", \"xref\": \"x\", \"y\": \"1\", \"yref\": \"y\"}, {\"font\": {\"color\": \"#FFFFFF\"}, \"showarrow\": false, \"text\": \"0.52\", \"x\": \"1\", \"xref\": \"x\", \"y\": \"1\", \"yref\": \"y\"}, {\"font\": {\"color\": \"#000000\"}, \"showarrow\": false, \"text\": \"0.33\", \"x\": \"21\", \"xref\": \"x\", \"y\": \"2\", \"yref\": \"y\"}, {\"font\": {\"color\": \"#000000\"}, \"showarrow\": false, \"text\": \"0.0\", \"x\": \"20\", \"xref\": \"x\", \"y\": \"2\", \"yref\": \"y\"}, {\"font\": {\"color\": \"#000000\"}, \"showarrow\": false, \"text\": \"0.0\", \"x\": \"19\", \"xref\": \"x\", \"y\": \"2\", \"yref\": \"y\"}, {\"font\": {\"color\": \"#000000\"}, \"showarrow\": false, \"text\": \"0.0\", \"x\": \"18\", \"xref\": \"x\", \"y\": \"2\", \"yref\": \"y\"}, {\"font\": {\"color\": \"#000000\"}, \"showarrow\": false, \"text\": \"0.0\", \"x\": \"17\", \"xref\": \"x\", \"y\": \"2\", \"yref\": \"y\"}, {\"font\": {\"color\": \"#000000\"}, \"showarrow\": false, \"text\": \"0.0\", \"x\": \"16\", \"xref\": \"x\", \"y\": \"2\", \"yref\": \"y\"}, {\"font\": {\"color\": \"#000000\"}, \"showarrow\": false, \"text\": \"0.0\", \"x\": \"15\", \"xref\": \"x\", \"y\": \"2\", \"yref\": \"y\"}, {\"font\": {\"color\": \"#000000\"}, \"showarrow\": false, \"text\": \"0.0\", \"x\": \"14\", \"xref\": \"x\", \"y\": \"2\", \"yref\": \"y\"}, {\"font\": {\"color\": \"#000000\"}, \"showarrow\": false, \"text\": \"0.0\", \"x\": \"13\", \"xref\": \"x\", \"y\": \"2\", \"yref\": \"y\"}, {\"font\": {\"color\": \"#000000\"}, \"showarrow\": false, \"text\": \"0.0\", \"x\": \"12\", \"xref\": \"x\", \"y\": \"2\", \"yref\": \"y\"}, {\"font\": {\"color\": \"#000000\"}, \"showarrow\": false, \"text\": \"0.0\", \"x\": \"11\", \"xref\": \"x\", \"y\": \"2\", \"yref\": \"y\"}, {\"font\": {\"color\": \"#000000\"}, \"showarrow\": false, \"text\": \"0.0\", \"x\": \"10\", \"xref\": \"x\", \"y\": \"2\", \"yref\": \"y\"}, {\"font\": {\"color\": \"#000000\"}, \"showarrow\": false, \"text\": \"0.0\", \"x\": \"9\", \"xref\": \"x\", \"y\": \"2\", \"yref\": \"y\"}, {\"font\": {\"color\": \"#000000\"}, \"showarrow\": false, \"text\": \"0.0\", \"x\": \"8\", \"xref\": \"x\", \"y\": \"2\", \"yref\": \"y\"}, {\"font\": {\"color\": \"#000000\"}, \"showarrow\": false, \"text\": \"0.0\", \"x\": \"7\", \"xref\": \"x\", \"y\": \"2\", \"yref\": \"y\"}, {\"font\": {\"color\": \"#000000\"}, \"showarrow\": false, \"text\": \"0.0\", \"x\": \"6\", \"xref\": \"x\", \"y\": \"2\", \"yref\": \"y\"}, {\"font\": {\"color\": \"#000000\"}, \"showarrow\": false, \"text\": \"0.0\", \"x\": \"5\", \"xref\": \"x\", \"y\": \"2\", \"yref\": \"y\"}, {\"font\": {\"color\": \"#000000\"}, \"showarrow\": false, \"text\": \"0.0\", \"x\": \"4\", \"xref\": \"x\", \"y\": \"2\", \"yref\": \"y\"}, {\"font\": {\"color\": \"#000000\"}, \"showarrow\": false, \"text\": \"0.0\", \"x\": \"3\", \"xref\": \"x\", \"y\": \"2\", \"yref\": \"y\"}, {\"font\": {\"color\": \"#000000\"}, \"showarrow\": false, \"text\": \"0.0\", \"x\": \"2\", \"xref\": \"x\", \"y\": \"2\", \"yref\": \"y\"}, {\"font\": {\"color\": \"#FFFFFF\"}, \"showarrow\": false, \"text\": \"0.67\", \"x\": \"1\", \"xref\": \"x\", \"y\": \"2\", \"yref\": \"y\"}, {\"font\": {\"color\": \"#FFFFFF\"}, \"showarrow\": false, \"text\": \"0.51\", \"x\": \"21\", \"xref\": \"x\", \"y\": \"3\", \"yref\": \"y\"}, {\"font\": {\"color\": \"#000000\"}, \"showarrow\": false, \"text\": \"0.0\", \"x\": \"20\", \"xref\": \"x\", \"y\": \"3\", \"yref\": \"y\"}, {\"font\": {\"color\": \"#000000\"}, \"showarrow\": false, \"text\": \"0.0\", \"x\": \"19\", \"xref\": \"x\", \"y\": \"3\", \"yref\": \"y\"}, {\"font\": {\"color\": \"#000000\"}, \"showarrow\": false, \"text\": \"0.0\", \"x\": \"18\", \"xref\": \"x\", \"y\": \"3\", \"yref\": \"y\"}, {\"font\": {\"color\": \"#000000\"}, \"showarrow\": false, \"text\": \"0.0\", \"x\": \"17\", \"xref\": \"x\", \"y\": \"3\", \"yref\": \"y\"}, {\"font\": {\"color\": \"#000000\"}, \"showarrow\": false, \"text\": \"0.0\", \"x\": \"16\", \"xref\": \"x\", \"y\": \"3\", \"yref\": \"y\"}, {\"font\": {\"color\": \"#000000\"}, \"showarrow\": false, \"text\": \"0.0\", \"x\": \"15\", \"xref\": \"x\", \"y\": \"3\", \"yref\": \"y\"}, {\"font\": {\"color\": \"#000000\"}, \"showarrow\": false, \"text\": \"0.0\", \"x\": \"14\", \"xref\": \"x\", \"y\": \"3\", \"yref\": \"y\"}, {\"font\": {\"color\": \"#000000\"}, \"showarrow\": false, \"text\": \"0.0\", \"x\": \"13\", \"xref\": \"x\", \"y\": \"3\", \"yref\": \"y\"}, {\"font\": {\"color\": \"#000000\"}, \"showarrow\": false, \"text\": \"0.0\", \"x\": \"12\", \"xref\": \"x\", \"y\": \"3\", \"yref\": \"y\"}, {\"font\": {\"color\": \"#000000\"}, \"showarrow\": false, \"text\": \"0.0\", \"x\": \"11\", \"xref\": \"x\", \"y\": \"3\", \"yref\": \"y\"}, {\"font\": {\"color\": \"#000000\"}, \"showarrow\": false, \"text\": \"0.0\", \"x\": \"10\", \"xref\": \"x\", \"y\": \"3\", \"yref\": \"y\"}, {\"font\": {\"color\": \"#000000\"}, \"showarrow\": false, \"text\": \"0.0\", \"x\": \"9\", \"xref\": \"x\", \"y\": \"3\", \"yref\": \"y\"}, {\"font\": {\"color\": \"#000000\"}, \"showarrow\": false, \"text\": \"0.0\", \"x\": \"8\", \"xref\": \"x\", \"y\": \"3\", \"yref\": \"y\"}, {\"font\": {\"color\": \"#000000\"}, \"showarrow\": false, \"text\": \"0.0\", \"x\": \"7\", \"xref\": \"x\", \"y\": \"3\", \"yref\": \"y\"}, {\"font\": {\"color\": \"#000000\"}, \"showarrow\": false, \"text\": \"0.0\", \"x\": \"6\", \"xref\": \"x\", \"y\": \"3\", \"yref\": \"y\"}, {\"font\": {\"color\": \"#000000\"}, \"showarrow\": false, \"text\": \"0.0\", \"x\": \"5\", \"xref\": \"x\", \"y\": \"3\", \"yref\": \"y\"}, {\"font\": {\"color\": \"#000000\"}, \"showarrow\": false, \"text\": \"0.0\", \"x\": \"4\", \"xref\": \"x\", \"y\": \"3\", \"yref\": \"y\"}, {\"font\": {\"color\": \"#000000\"}, \"showarrow\": false, \"text\": \"0.0\", \"x\": \"3\", \"xref\": \"x\", \"y\": \"3\", \"yref\": \"y\"}, {\"font\": {\"color\": \"#000000\"}, \"showarrow\": false, \"text\": \"0.0\", \"x\": \"2\", \"xref\": \"x\", \"y\": \"3\", \"yref\": \"y\"}, {\"font\": {\"color\": \"#000000\"}, \"showarrow\": false, \"text\": \"0.49\", \"x\": \"1\", \"xref\": \"x\", \"y\": \"3\", \"yref\": \"y\"}, {\"font\": {\"color\": \"#000000\"}, \"showarrow\": false, \"text\": \"0.43\", \"x\": \"21\", \"xref\": \"x\", \"y\": \"4\", \"yref\": \"y\"}, {\"font\": {\"color\": \"#000000\"}, \"showarrow\": false, \"text\": \"0.0\", \"x\": \"20\", \"xref\": \"x\", \"y\": \"4\", \"yref\": \"y\"}, {\"font\": {\"color\": \"#000000\"}, \"showarrow\": false, \"text\": \"0.0\", \"x\": \"19\", \"xref\": \"x\", \"y\": \"4\", \"yref\": \"y\"}, {\"font\": {\"color\": \"#000000\"}, \"showarrow\": false, \"text\": \"0.0\", \"x\": \"18\", \"xref\": \"x\", \"y\": \"4\", \"yref\": \"y\"}, {\"font\": {\"color\": \"#000000\"}, \"showarrow\": false, \"text\": \"0.0\", \"x\": \"17\", \"xref\": \"x\", \"y\": \"4\", \"yref\": \"y\"}, {\"font\": {\"color\": \"#000000\"}, \"showarrow\": false, \"text\": \"0.0\", \"x\": \"16\", \"xref\": \"x\", \"y\": \"4\", \"yref\": \"y\"}, {\"font\": {\"color\": \"#000000\"}, \"showarrow\": false, \"text\": \"0.0\", \"x\": \"15\", \"xref\": \"x\", \"y\": \"4\", \"yref\": \"y\"}, {\"font\": {\"color\": \"#000000\"}, \"showarrow\": false, \"text\": \"0.0\", \"x\": \"14\", \"xref\": \"x\", \"y\": \"4\", \"yref\": \"y\"}, {\"font\": {\"color\": \"#000000\"}, \"showarrow\": false, \"text\": \"0.0\", \"x\": \"13\", \"xref\": \"x\", \"y\": \"4\", \"yref\": \"y\"}, {\"font\": {\"color\": \"#000000\"}, \"showarrow\": false, \"text\": \"0.0\", \"x\": \"12\", \"xref\": \"x\", \"y\": \"4\", \"yref\": \"y\"}, {\"font\": {\"color\": \"#000000\"}, \"showarrow\": false, \"text\": \"0.0\", \"x\": \"11\", \"xref\": \"x\", \"y\": \"4\", \"yref\": \"y\"}, {\"font\": {\"color\": \"#000000\"}, \"showarrow\": false, \"text\": \"0.0\", \"x\": \"10\", \"xref\": \"x\", \"y\": \"4\", \"yref\": \"y\"}, {\"font\": {\"color\": \"#000000\"}, \"showarrow\": false, \"text\": \"0.0\", \"x\": \"9\", \"xref\": \"x\", \"y\": \"4\", \"yref\": \"y\"}, {\"font\": {\"color\": \"#000000\"}, \"showarrow\": false, \"text\": \"0.0\", \"x\": \"8\", \"xref\": \"x\", \"y\": \"4\", \"yref\": \"y\"}, {\"font\": {\"color\": \"#000000\"}, \"showarrow\": false, \"text\": \"0.0\", \"x\": \"7\", \"xref\": \"x\", \"y\": \"4\", \"yref\": \"y\"}, {\"font\": {\"color\": \"#000000\"}, \"showarrow\": false, \"text\": \"0.0\", \"x\": \"6\", \"xref\": \"x\", \"y\": \"4\", \"yref\": \"y\"}, {\"font\": {\"color\": \"#000000\"}, \"showarrow\": false, \"text\": \"0.0\", \"x\": \"5\", \"xref\": \"x\", \"y\": \"4\", \"yref\": \"y\"}, {\"font\": {\"color\": \"#000000\"}, \"showarrow\": false, \"text\": \"0.0\", \"x\": \"4\", \"xref\": \"x\", \"y\": \"4\", \"yref\": \"y\"}, {\"font\": {\"color\": \"#000000\"}, \"showarrow\": false, \"text\": \"0.0\", \"x\": \"3\", \"xref\": \"x\", \"y\": \"4\", \"yref\": \"y\"}, {\"font\": {\"color\": \"#000000\"}, \"showarrow\": false, \"text\": \"0.0\", \"x\": \"2\", \"xref\": \"x\", \"y\": \"4\", \"yref\": \"y\"}, {\"font\": {\"color\": \"#FFFFFF\"}, \"showarrow\": false, \"text\": \"0.57\", \"x\": \"1\", \"xref\": \"x\", \"y\": \"4\", \"yref\": \"y\"}, {\"font\": {\"color\": \"#000000\"}, \"showarrow\": false, \"text\": \"0.46\", \"x\": \"21\", \"xref\": \"x\", \"y\": \"5\", \"yref\": \"y\"}, {\"font\": {\"color\": \"#000000\"}, \"showarrow\": false, \"text\": \"0.0\", \"x\": \"20\", \"xref\": \"x\", \"y\": \"5\", \"yref\": \"y\"}, {\"font\": {\"color\": \"#000000\"}, \"showarrow\": false, \"text\": \"0.0\", \"x\": \"19\", \"xref\": \"x\", \"y\": \"5\", \"yref\": \"y\"}, {\"font\": {\"color\": \"#000000\"}, \"showarrow\": false, \"text\": \"0.0\", \"x\": \"18\", \"xref\": \"x\", \"y\": \"5\", \"yref\": \"y\"}, {\"font\": {\"color\": \"#000000\"}, \"showarrow\": false, \"text\": \"0.0\", \"x\": \"17\", \"xref\": \"x\", \"y\": \"5\", \"yref\": \"y\"}, {\"font\": {\"color\": \"#000000\"}, \"showarrow\": false, \"text\": \"0.0\", \"x\": \"16\", \"xref\": \"x\", \"y\": \"5\", \"yref\": \"y\"}, {\"font\": {\"color\": \"#000000\"}, \"showarrow\": false, \"text\": \"0.0\", \"x\": \"15\", \"xref\": \"x\", \"y\": \"5\", \"yref\": \"y\"}, {\"font\": {\"color\": \"#000000\"}, \"showarrow\": false, \"text\": \"0.0\", \"x\": \"14\", \"xref\": \"x\", \"y\": \"5\", \"yref\": \"y\"}, {\"font\": {\"color\": \"#000000\"}, \"showarrow\": false, \"text\": \"0.0\", \"x\": \"13\", \"xref\": \"x\", \"y\": \"5\", \"yref\": \"y\"}, {\"font\": {\"color\": \"#000000\"}, \"showarrow\": false, \"text\": \"0.0\", \"x\": \"12\", \"xref\": \"x\", \"y\": \"5\", \"yref\": \"y\"}, {\"font\": {\"color\": \"#000000\"}, \"showarrow\": false, \"text\": \"0.0\", \"x\": \"11\", \"xref\": \"x\", \"y\": \"5\", \"yref\": \"y\"}, {\"font\": {\"color\": \"#000000\"}, \"showarrow\": false, \"text\": \"0.0\", \"x\": \"10\", \"xref\": \"x\", \"y\": \"5\", \"yref\": \"y\"}, {\"font\": {\"color\": \"#000000\"}, \"showarrow\": false, \"text\": \"0.0\", \"x\": \"9\", \"xref\": \"x\", \"y\": \"5\", \"yref\": \"y\"}, {\"font\": {\"color\": \"#000000\"}, \"showarrow\": false, \"text\": \"0.0\", \"x\": \"8\", \"xref\": \"x\", \"y\": \"5\", \"yref\": \"y\"}, {\"font\": {\"color\": \"#000000\"}, \"showarrow\": false, \"text\": \"0.0\", \"x\": \"7\", \"xref\": \"x\", \"y\": \"5\", \"yref\": \"y\"}, {\"font\": {\"color\": \"#000000\"}, \"showarrow\": false, \"text\": \"0.0\", \"x\": \"6\", \"xref\": \"x\", \"y\": \"5\", \"yref\": \"y\"}, {\"font\": {\"color\": \"#000000\"}, \"showarrow\": false, \"text\": \"0.0\", \"x\": \"5\", \"xref\": \"x\", \"y\": \"5\", \"yref\": \"y\"}, {\"font\": {\"color\": \"#000000\"}, \"showarrow\": false, \"text\": \"0.0\", \"x\": \"4\", \"xref\": \"x\", \"y\": \"5\", \"yref\": \"y\"}, {\"font\": {\"color\": \"#000000\"}, \"showarrow\": false, \"text\": \"0.0\", \"x\": \"3\", \"xref\": \"x\", \"y\": \"5\", \"yref\": \"y\"}, {\"font\": {\"color\": \"#000000\"}, \"showarrow\": false, \"text\": \"0.0\", \"x\": \"2\", \"xref\": \"x\", \"y\": \"5\", \"yref\": \"y\"}, {\"font\": {\"color\": \"#FFFFFF\"}, \"showarrow\": false, \"text\": \"0.54\", \"x\": \"1\", \"xref\": \"x\", \"y\": \"5\", \"yref\": \"y\"}, {\"font\": {\"color\": \"#FFFFFF\"}, \"showarrow\": false, \"text\": \"0.58\", \"x\": \"21\", \"xref\": \"x\", \"y\": \"6\", \"yref\": \"y\"}, {\"font\": {\"color\": \"#000000\"}, \"showarrow\": false, \"text\": \"0.0\", \"x\": \"20\", \"xref\": \"x\", \"y\": \"6\", \"yref\": \"y\"}, {\"font\": {\"color\": \"#000000\"}, \"showarrow\": false, \"text\": \"0.0\", \"x\": \"19\", \"xref\": \"x\", \"y\": \"6\", \"yref\": \"y\"}, {\"font\": {\"color\": \"#000000\"}, \"showarrow\": false, \"text\": \"0.0\", \"x\": \"18\", \"xref\": \"x\", \"y\": \"6\", \"yref\": \"y\"}, {\"font\": {\"color\": \"#000000\"}, \"showarrow\": false, \"text\": \"0.0\", \"x\": \"17\", \"xref\": \"x\", \"y\": \"6\", \"yref\": \"y\"}, {\"font\": {\"color\": \"#000000\"}, \"showarrow\": false, \"text\": \"0.0\", \"x\": \"16\", \"xref\": \"x\", \"y\": \"6\", \"yref\": \"y\"}, {\"font\": {\"color\": \"#000000\"}, \"showarrow\": false, \"text\": \"0.0\", \"x\": \"15\", \"xref\": \"x\", \"y\": \"6\", \"yref\": \"y\"}, {\"font\": {\"color\": \"#000000\"}, \"showarrow\": false, \"text\": \"0.0\", \"x\": \"14\", \"xref\": \"x\", \"y\": \"6\", \"yref\": \"y\"}, {\"font\": {\"color\": \"#000000\"}, \"showarrow\": false, \"text\": \"0.0\", \"x\": \"13\", \"xref\": \"x\", \"y\": \"6\", \"yref\": \"y\"}, {\"font\": {\"color\": \"#000000\"}, \"showarrow\": false, \"text\": \"0.0\", \"x\": \"12\", \"xref\": \"x\", \"y\": \"6\", \"yref\": \"y\"}, {\"font\": {\"color\": \"#000000\"}, \"showarrow\": false, \"text\": \"0.0\", \"x\": \"11\", \"xref\": \"x\", \"y\": \"6\", \"yref\": \"y\"}, {\"font\": {\"color\": \"#000000\"}, \"showarrow\": false, \"text\": \"0.0\", \"x\": \"10\", \"xref\": \"x\", \"y\": \"6\", \"yref\": \"y\"}, {\"font\": {\"color\": \"#000000\"}, \"showarrow\": false, \"text\": \"0.0\", \"x\": \"9\", \"xref\": \"x\", \"y\": \"6\", \"yref\": \"y\"}, {\"font\": {\"color\": \"#000000\"}, \"showarrow\": false, \"text\": \"0.0\", \"x\": \"8\", \"xref\": \"x\", \"y\": \"6\", \"yref\": \"y\"}, {\"font\": {\"color\": \"#000000\"}, \"showarrow\": false, \"text\": \"0.0\", \"x\": \"7\", \"xref\": \"x\", \"y\": \"6\", \"yref\": \"y\"}, {\"font\": {\"color\": \"#000000\"}, \"showarrow\": false, \"text\": \"0.0\", \"x\": \"6\", \"xref\": \"x\", \"y\": \"6\", \"yref\": \"y\"}, {\"font\": {\"color\": \"#000000\"}, \"showarrow\": false, \"text\": \"0.0\", \"x\": \"5\", \"xref\": \"x\", \"y\": \"6\", \"yref\": \"y\"}, {\"font\": {\"color\": \"#000000\"}, \"showarrow\": false, \"text\": \"0.0\", \"x\": \"4\", \"xref\": \"x\", \"y\": \"6\", \"yref\": \"y\"}, {\"font\": {\"color\": \"#000000\"}, \"showarrow\": false, \"text\": \"0.0\", \"x\": \"3\", \"xref\": \"x\", \"y\": \"6\", \"yref\": \"y\"}, {\"font\": {\"color\": \"#000000\"}, \"showarrow\": false, \"text\": \"0.0\", \"x\": \"2\", \"xref\": \"x\", \"y\": \"6\", \"yref\": \"y\"}, {\"font\": {\"color\": \"#000000\"}, \"showarrow\": false, \"text\": \"0.42\", \"x\": \"1\", \"xref\": \"x\", \"y\": \"6\", \"yref\": \"y\"}, {\"font\": {\"color\": \"#FFFFFF\"}, \"showarrow\": false, \"text\": \"0.56\", \"x\": \"21\", \"xref\": \"x\", \"y\": \"7\", \"yref\": \"y\"}, {\"font\": {\"color\": \"#000000\"}, \"showarrow\": false, \"text\": \"0.0\", \"x\": \"20\", \"xref\": \"x\", \"y\": \"7\", \"yref\": \"y\"}, {\"font\": {\"color\": \"#000000\"}, \"showarrow\": false, \"text\": \"0.0\", \"x\": \"19\", \"xref\": \"x\", \"y\": \"7\", \"yref\": \"y\"}, {\"font\": {\"color\": \"#000000\"}, \"showarrow\": false, \"text\": \"0.0\", \"x\": \"18\", \"xref\": \"x\", \"y\": \"7\", \"yref\": \"y\"}, {\"font\": {\"color\": \"#000000\"}, \"showarrow\": false, \"text\": \"0.0\", \"x\": \"17\", \"xref\": \"x\", \"y\": \"7\", \"yref\": \"y\"}, {\"font\": {\"color\": \"#000000\"}, \"showarrow\": false, \"text\": \"0.0\", \"x\": \"16\", \"xref\": \"x\", \"y\": \"7\", \"yref\": \"y\"}, {\"font\": {\"color\": \"#000000\"}, \"showarrow\": false, \"text\": \"0.0\", \"x\": \"15\", \"xref\": \"x\", \"y\": \"7\", \"yref\": \"y\"}, {\"font\": {\"color\": \"#000000\"}, \"showarrow\": false, \"text\": \"0.0\", \"x\": \"14\", \"xref\": \"x\", \"y\": \"7\", \"yref\": \"y\"}, {\"font\": {\"color\": \"#000000\"}, \"showarrow\": false, \"text\": \"0.0\", \"x\": \"13\", \"xref\": \"x\", \"y\": \"7\", \"yref\": \"y\"}, {\"font\": {\"color\": \"#000000\"}, \"showarrow\": false, \"text\": \"0.0\", \"x\": \"12\", \"xref\": \"x\", \"y\": \"7\", \"yref\": \"y\"}, {\"font\": {\"color\": \"#000000\"}, \"showarrow\": false, \"text\": \"0.0\", \"x\": \"11\", \"xref\": \"x\", \"y\": \"7\", \"yref\": \"y\"}, {\"font\": {\"color\": \"#000000\"}, \"showarrow\": false, \"text\": \"0.0\", \"x\": \"10\", \"xref\": \"x\", \"y\": \"7\", \"yref\": \"y\"}, {\"font\": {\"color\": \"#000000\"}, \"showarrow\": false, \"text\": \"0.0\", \"x\": \"9\", \"xref\": \"x\", \"y\": \"7\", \"yref\": \"y\"}, {\"font\": {\"color\": \"#000000\"}, \"showarrow\": false, \"text\": \"0.0\", \"x\": \"8\", \"xref\": \"x\", \"y\": \"7\", \"yref\": \"y\"}, {\"font\": {\"color\": \"#000000\"}, \"showarrow\": false, \"text\": \"0.0\", \"x\": \"7\", \"xref\": \"x\", \"y\": \"7\", \"yref\": \"y\"}, {\"font\": {\"color\": \"#000000\"}, \"showarrow\": false, \"text\": \"0.0\", \"x\": \"6\", \"xref\": \"x\", \"y\": \"7\", \"yref\": \"y\"}, {\"font\": {\"color\": \"#000000\"}, \"showarrow\": false, \"text\": \"0.0\", \"x\": \"5\", \"xref\": \"x\", \"y\": \"7\", \"yref\": \"y\"}, {\"font\": {\"color\": \"#000000\"}, \"showarrow\": false, \"text\": \"0.0\", \"x\": \"4\", \"xref\": \"x\", \"y\": \"7\", \"yref\": \"y\"}, {\"font\": {\"color\": \"#000000\"}, \"showarrow\": false, \"text\": \"0.0\", \"x\": \"3\", \"xref\": \"x\", \"y\": \"7\", \"yref\": \"y\"}, {\"font\": {\"color\": \"#000000\"}, \"showarrow\": false, \"text\": \"0.0\", \"x\": \"2\", \"xref\": \"x\", \"y\": \"7\", \"yref\": \"y\"}, {\"font\": {\"color\": \"#000000\"}, \"showarrow\": false, \"text\": \"0.44\", \"x\": \"1\", \"xref\": \"x\", \"y\": \"7\", \"yref\": \"y\"}, {\"font\": {\"color\": \"#FFFFFF\"}, \"showarrow\": false, \"text\": \"0.57\", \"x\": \"21\", \"xref\": \"x\", \"y\": \"8\", \"yref\": \"y\"}, {\"font\": {\"color\": \"#000000\"}, \"showarrow\": false, \"text\": \"0.0\", \"x\": \"20\", \"xref\": \"x\", \"y\": \"8\", \"yref\": \"y\"}, {\"font\": {\"color\": \"#000000\"}, \"showarrow\": false, \"text\": \"0.0\", \"x\": \"19\", \"xref\": \"x\", \"y\": \"8\", \"yref\": \"y\"}, {\"font\": {\"color\": \"#000000\"}, \"showarrow\": false, \"text\": \"0.0\", \"x\": \"18\", \"xref\": \"x\", \"y\": \"8\", \"yref\": \"y\"}, {\"font\": {\"color\": \"#000000\"}, \"showarrow\": false, \"text\": \"0.0\", \"x\": \"17\", \"xref\": \"x\", \"y\": \"8\", \"yref\": \"y\"}, {\"font\": {\"color\": \"#000000\"}, \"showarrow\": false, \"text\": \"0.0\", \"x\": \"16\", \"xref\": \"x\", \"y\": \"8\", \"yref\": \"y\"}, {\"font\": {\"color\": \"#000000\"}, \"showarrow\": false, \"text\": \"0.0\", \"x\": \"15\", \"xref\": \"x\", \"y\": \"8\", \"yref\": \"y\"}, {\"font\": {\"color\": \"#000000\"}, \"showarrow\": false, \"text\": \"0.0\", \"x\": \"14\", \"xref\": \"x\", \"y\": \"8\", \"yref\": \"y\"}, {\"font\": {\"color\": \"#000000\"}, \"showarrow\": false, \"text\": \"0.0\", \"x\": \"13\", \"xref\": \"x\", \"y\": \"8\", \"yref\": \"y\"}, {\"font\": {\"color\": \"#000000\"}, \"showarrow\": false, \"text\": \"0.0\", \"x\": \"12\", \"xref\": \"x\", \"y\": \"8\", \"yref\": \"y\"}, {\"font\": {\"color\": \"#000000\"}, \"showarrow\": false, \"text\": \"0.0\", \"x\": \"11\", \"xref\": \"x\", \"y\": \"8\", \"yref\": \"y\"}, {\"font\": {\"color\": \"#000000\"}, \"showarrow\": false, \"text\": \"0.0\", \"x\": \"10\", \"xref\": \"x\", \"y\": \"8\", \"yref\": \"y\"}, {\"font\": {\"color\": \"#000000\"}, \"showarrow\": false, \"text\": \"0.0\", \"x\": \"9\", \"xref\": \"x\", \"y\": \"8\", \"yref\": \"y\"}, {\"font\": {\"color\": \"#000000\"}, \"showarrow\": false, \"text\": \"0.0\", \"x\": \"8\", \"xref\": \"x\", \"y\": \"8\", \"yref\": \"y\"}, {\"font\": {\"color\": \"#000000\"}, \"showarrow\": false, \"text\": \"0.0\", \"x\": \"7\", \"xref\": \"x\", \"y\": \"8\", \"yref\": \"y\"}, {\"font\": {\"color\": \"#000000\"}, \"showarrow\": false, \"text\": \"0.0\", \"x\": \"6\", \"xref\": \"x\", \"y\": \"8\", \"yref\": \"y\"}, {\"font\": {\"color\": \"#000000\"}, \"showarrow\": false, \"text\": \"0.0\", \"x\": \"5\", \"xref\": \"x\", \"y\": \"8\", \"yref\": \"y\"}, {\"font\": {\"color\": \"#000000\"}, \"showarrow\": false, \"text\": \"0.0\", \"x\": \"4\", \"xref\": \"x\", \"y\": \"8\", \"yref\": \"y\"}, {\"font\": {\"color\": \"#000000\"}, \"showarrow\": false, \"text\": \"0.0\", \"x\": \"3\", \"xref\": \"x\", \"y\": \"8\", \"yref\": \"y\"}, {\"font\": {\"color\": \"#000000\"}, \"showarrow\": false, \"text\": \"0.0\", \"x\": \"2\", \"xref\": \"x\", \"y\": \"8\", \"yref\": \"y\"}, {\"font\": {\"color\": \"#000000\"}, \"showarrow\": false, \"text\": \"0.43\", \"x\": \"1\", \"xref\": \"x\", \"y\": \"8\", \"yref\": \"y\"}, {\"font\": {\"color\": \"#000000\"}, \"showarrow\": false, \"text\": \"0.49\", \"x\": \"21\", \"xref\": \"x\", \"y\": \"9\", \"yref\": \"y\"}, {\"font\": {\"color\": \"#000000\"}, \"showarrow\": false, \"text\": \"0.0\", \"x\": \"20\", \"xref\": \"x\", \"y\": \"9\", \"yref\": \"y\"}, {\"font\": {\"color\": \"#000000\"}, \"showarrow\": false, \"text\": \"0.0\", \"x\": \"19\", \"xref\": \"x\", \"y\": \"9\", \"yref\": \"y\"}, {\"font\": {\"color\": \"#000000\"}, \"showarrow\": false, \"text\": \"0.0\", \"x\": \"18\", \"xref\": \"x\", \"y\": \"9\", \"yref\": \"y\"}, {\"font\": {\"color\": \"#000000\"}, \"showarrow\": false, \"text\": \"0.0\", \"x\": \"17\", \"xref\": \"x\", \"y\": \"9\", \"yref\": \"y\"}, {\"font\": {\"color\": \"#000000\"}, \"showarrow\": false, \"text\": \"0.0\", \"x\": \"16\", \"xref\": \"x\", \"y\": \"9\", \"yref\": \"y\"}, {\"font\": {\"color\": \"#000000\"}, \"showarrow\": false, \"text\": \"0.0\", \"x\": \"15\", \"xref\": \"x\", \"y\": \"9\", \"yref\": \"y\"}, {\"font\": {\"color\": \"#000000\"}, \"showarrow\": false, \"text\": \"0.0\", \"x\": \"14\", \"xref\": \"x\", \"y\": \"9\", \"yref\": \"y\"}, {\"font\": {\"color\": \"#000000\"}, \"showarrow\": false, \"text\": \"0.0\", \"x\": \"13\", \"xref\": \"x\", \"y\": \"9\", \"yref\": \"y\"}, {\"font\": {\"color\": \"#000000\"}, \"showarrow\": false, \"text\": \"0.0\", \"x\": \"12\", \"xref\": \"x\", \"y\": \"9\", \"yref\": \"y\"}, {\"font\": {\"color\": \"#000000\"}, \"showarrow\": false, \"text\": \"0.0\", \"x\": \"11\", \"xref\": \"x\", \"y\": \"9\", \"yref\": \"y\"}, {\"font\": {\"color\": \"#000000\"}, \"showarrow\": false, \"text\": \"0.0\", \"x\": \"10\", \"xref\": \"x\", \"y\": \"9\", \"yref\": \"y\"}, {\"font\": {\"color\": \"#000000\"}, \"showarrow\": false, \"text\": \"0.0\", \"x\": \"9\", \"xref\": \"x\", \"y\": \"9\", \"yref\": \"y\"}, {\"font\": {\"color\": \"#000000\"}, \"showarrow\": false, \"text\": \"0.0\", \"x\": \"8\", \"xref\": \"x\", \"y\": \"9\", \"yref\": \"y\"}, {\"font\": {\"color\": \"#000000\"}, \"showarrow\": false, \"text\": \"0.0\", \"x\": \"7\", \"xref\": \"x\", \"y\": \"9\", \"yref\": \"y\"}, {\"font\": {\"color\": \"#000000\"}, \"showarrow\": false, \"text\": \"0.0\", \"x\": \"6\", \"xref\": \"x\", \"y\": \"9\", \"yref\": \"y\"}, {\"font\": {\"color\": \"#000000\"}, \"showarrow\": false, \"text\": \"0.0\", \"x\": \"5\", \"xref\": \"x\", \"y\": \"9\", \"yref\": \"y\"}, {\"font\": {\"color\": \"#000000\"}, \"showarrow\": false, \"text\": \"0.0\", \"x\": \"4\", \"xref\": \"x\", \"y\": \"9\", \"yref\": \"y\"}, {\"font\": {\"color\": \"#000000\"}, \"showarrow\": false, \"text\": \"0.0\", \"x\": \"3\", \"xref\": \"x\", \"y\": \"9\", \"yref\": \"y\"}, {\"font\": {\"color\": \"#000000\"}, \"showarrow\": false, \"text\": \"0.0\", \"x\": \"2\", \"xref\": \"x\", \"y\": \"9\", \"yref\": \"y\"}, {\"font\": {\"color\": \"#FFFFFF\"}, \"showarrow\": false, \"text\": \"0.51\", \"x\": \"1\", \"xref\": \"x\", \"y\": \"9\", \"yref\": \"y\"}, {\"font\": {\"color\": \"#000000\"}, \"showarrow\": false, \"text\": \"0.35\", \"x\": \"21\", \"xref\": \"x\", \"y\": \"10\", \"yref\": \"y\"}, {\"font\": {\"color\": \"#000000\"}, \"showarrow\": false, \"text\": \"0.0\", \"x\": \"20\", \"xref\": \"x\", \"y\": \"10\", \"yref\": \"y\"}, {\"font\": {\"color\": \"#000000\"}, \"showarrow\": false, \"text\": \"0.0\", \"x\": \"19\", \"xref\": \"x\", \"y\": \"10\", \"yref\": \"y\"}, {\"font\": {\"color\": \"#000000\"}, \"showarrow\": false, \"text\": \"0.0\", \"x\": \"18\", \"xref\": \"x\", \"y\": \"10\", \"yref\": \"y\"}, {\"font\": {\"color\": \"#000000\"}, \"showarrow\": false, \"text\": \"0.0\", \"x\": \"17\", \"xref\": \"x\", \"y\": \"10\", \"yref\": \"y\"}, {\"font\": {\"color\": \"#000000\"}, \"showarrow\": false, \"text\": \"0.0\", \"x\": \"16\", \"xref\": \"x\", \"y\": \"10\", \"yref\": \"y\"}, {\"font\": {\"color\": \"#000000\"}, \"showarrow\": false, \"text\": \"0.0\", \"x\": \"15\", \"xref\": \"x\", \"y\": \"10\", \"yref\": \"y\"}, {\"font\": {\"color\": \"#000000\"}, \"showarrow\": false, \"text\": \"0.0\", \"x\": \"14\", \"xref\": \"x\", \"y\": \"10\", \"yref\": \"y\"}, {\"font\": {\"color\": \"#000000\"}, \"showarrow\": false, \"text\": \"0.0\", \"x\": \"13\", \"xref\": \"x\", \"y\": \"10\", \"yref\": \"y\"}, {\"font\": {\"color\": \"#000000\"}, \"showarrow\": false, \"text\": \"0.0\", \"x\": \"12\", \"xref\": \"x\", \"y\": \"10\", \"yref\": \"y\"}, {\"font\": {\"color\": \"#000000\"}, \"showarrow\": false, \"text\": \"0.0\", \"x\": \"11\", \"xref\": \"x\", \"y\": \"10\", \"yref\": \"y\"}, {\"font\": {\"color\": \"#000000\"}, \"showarrow\": false, \"text\": \"0.0\", \"x\": \"10\", \"xref\": \"x\", \"y\": \"10\", \"yref\": \"y\"}, {\"font\": {\"color\": \"#000000\"}, \"showarrow\": false, \"text\": \"0.0\", \"x\": \"9\", \"xref\": \"x\", \"y\": \"10\", \"yref\": \"y\"}, {\"font\": {\"color\": \"#000000\"}, \"showarrow\": false, \"text\": \"0.0\", \"x\": \"8\", \"xref\": \"x\", \"y\": \"10\", \"yref\": \"y\"}, {\"font\": {\"color\": \"#000000\"}, \"showarrow\": false, \"text\": \"0.0\", \"x\": \"7\", \"xref\": \"x\", \"y\": \"10\", \"yref\": \"y\"}, {\"font\": {\"color\": \"#000000\"}, \"showarrow\": false, \"text\": \"0.0\", \"x\": \"6\", \"xref\": \"x\", \"y\": \"10\", \"yref\": \"y\"}, {\"font\": {\"color\": \"#000000\"}, \"showarrow\": false, \"text\": \"0.0\", \"x\": \"5\", \"xref\": \"x\", \"y\": \"10\", \"yref\": \"y\"}, {\"font\": {\"color\": \"#000000\"}, \"showarrow\": false, \"text\": \"0.0\", \"x\": \"4\", \"xref\": \"x\", \"y\": \"10\", \"yref\": \"y\"}, {\"font\": {\"color\": \"#000000\"}, \"showarrow\": false, \"text\": \"0.0\", \"x\": \"3\", \"xref\": \"x\", \"y\": \"10\", \"yref\": \"y\"}, {\"font\": {\"color\": \"#000000\"}, \"showarrow\": false, \"text\": \"0.0\", \"x\": \"2\", \"xref\": \"x\", \"y\": \"10\", \"yref\": \"y\"}, {\"font\": {\"color\": \"#FFFFFF\"}, \"showarrow\": false, \"text\": \"0.65\", \"x\": \"1\", \"xref\": \"x\", \"y\": \"10\", \"yref\": \"y\"}, {\"font\": {\"color\": \"#FFFFFF\"}, \"showarrow\": false, \"text\": \"0.56\", \"x\": \"21\", \"xref\": \"x\", \"y\": \"11\", \"yref\": \"y\"}, {\"font\": {\"color\": \"#000000\"}, \"showarrow\": false, \"text\": \"0.0\", \"x\": \"20\", \"xref\": \"x\", \"y\": \"11\", \"yref\": \"y\"}, {\"font\": {\"color\": \"#000000\"}, \"showarrow\": false, \"text\": \"0.0\", \"x\": \"19\", \"xref\": \"x\", \"y\": \"11\", \"yref\": \"y\"}, {\"font\": {\"color\": \"#000000\"}, \"showarrow\": false, \"text\": \"0.0\", \"x\": \"18\", \"xref\": \"x\", \"y\": \"11\", \"yref\": \"y\"}, {\"font\": {\"color\": \"#000000\"}, \"showarrow\": false, \"text\": \"0.0\", \"x\": \"17\", \"xref\": \"x\", \"y\": \"11\", \"yref\": \"y\"}, {\"font\": {\"color\": \"#000000\"}, \"showarrow\": false, \"text\": \"0.0\", \"x\": \"16\", \"xref\": \"x\", \"y\": \"11\", \"yref\": \"y\"}, {\"font\": {\"color\": \"#000000\"}, \"showarrow\": false, \"text\": \"0.0\", \"x\": \"15\", \"xref\": \"x\", \"y\": \"11\", \"yref\": \"y\"}, {\"font\": {\"color\": \"#000000\"}, \"showarrow\": false, \"text\": \"0.0\", \"x\": \"14\", \"xref\": \"x\", \"y\": \"11\", \"yref\": \"y\"}, {\"font\": {\"color\": \"#000000\"}, \"showarrow\": false, \"text\": \"0.0\", \"x\": \"13\", \"xref\": \"x\", \"y\": \"11\", \"yref\": \"y\"}, {\"font\": {\"color\": \"#000000\"}, \"showarrow\": false, \"text\": \"0.0\", \"x\": \"12\", \"xref\": \"x\", \"y\": \"11\", \"yref\": \"y\"}, {\"font\": {\"color\": \"#000000\"}, \"showarrow\": false, \"text\": \"0.0\", \"x\": \"11\", \"xref\": \"x\", \"y\": \"11\", \"yref\": \"y\"}, {\"font\": {\"color\": \"#000000\"}, \"showarrow\": false, \"text\": \"0.0\", \"x\": \"10\", \"xref\": \"x\", \"y\": \"11\", \"yref\": \"y\"}, {\"font\": {\"color\": \"#000000\"}, \"showarrow\": false, \"text\": \"0.0\", \"x\": \"9\", \"xref\": \"x\", \"y\": \"11\", \"yref\": \"y\"}, {\"font\": {\"color\": \"#000000\"}, \"showarrow\": false, \"text\": \"0.0\", \"x\": \"8\", \"xref\": \"x\", \"y\": \"11\", \"yref\": \"y\"}, {\"font\": {\"color\": \"#000000\"}, \"showarrow\": false, \"text\": \"0.0\", \"x\": \"7\", \"xref\": \"x\", \"y\": \"11\", \"yref\": \"y\"}, {\"font\": {\"color\": \"#000000\"}, \"showarrow\": false, \"text\": \"0.0\", \"x\": \"6\", \"xref\": \"x\", \"y\": \"11\", \"yref\": \"y\"}, {\"font\": {\"color\": \"#000000\"}, \"showarrow\": false, \"text\": \"0.0\", \"x\": \"5\", \"xref\": \"x\", \"y\": \"11\", \"yref\": \"y\"}, {\"font\": {\"color\": \"#000000\"}, \"showarrow\": false, \"text\": \"0.0\", \"x\": \"4\", \"xref\": \"x\", \"y\": \"11\", \"yref\": \"y\"}, {\"font\": {\"color\": \"#000000\"}, \"showarrow\": false, \"text\": \"0.0\", \"x\": \"3\", \"xref\": \"x\", \"y\": \"11\", \"yref\": \"y\"}, {\"font\": {\"color\": \"#000000\"}, \"showarrow\": false, \"text\": \"0.0\", \"x\": \"2\", \"xref\": \"x\", \"y\": \"11\", \"yref\": \"y\"}, {\"font\": {\"color\": \"#000000\"}, \"showarrow\": false, \"text\": \"0.44\", \"x\": \"1\", \"xref\": \"x\", \"y\": \"11\", \"yref\": \"y\"}, {\"font\": {\"color\": \"#000000\"}, \"showarrow\": false, \"text\": \"0.41\", \"x\": \"21\", \"xref\": \"x\", \"y\": \"12\", \"yref\": \"y\"}, {\"font\": {\"color\": \"#000000\"}, \"showarrow\": false, \"text\": \"0.0\", \"x\": \"20\", \"xref\": \"x\", \"y\": \"12\", \"yref\": \"y\"}, {\"font\": {\"color\": \"#000000\"}, \"showarrow\": false, \"text\": \"0.0\", \"x\": \"19\", \"xref\": \"x\", \"y\": \"12\", \"yref\": \"y\"}, {\"font\": {\"color\": \"#000000\"}, \"showarrow\": false, \"text\": \"0.0\", \"x\": \"18\", \"xref\": \"x\", \"y\": \"12\", \"yref\": \"y\"}, {\"font\": {\"color\": \"#000000\"}, \"showarrow\": false, \"text\": \"0.0\", \"x\": \"17\", \"xref\": \"x\", \"y\": \"12\", \"yref\": \"y\"}, {\"font\": {\"color\": \"#000000\"}, \"showarrow\": false, \"text\": \"0.0\", \"x\": \"16\", \"xref\": \"x\", \"y\": \"12\", \"yref\": \"y\"}, {\"font\": {\"color\": \"#000000\"}, \"showarrow\": false, \"text\": \"0.0\", \"x\": \"15\", \"xref\": \"x\", \"y\": \"12\", \"yref\": \"y\"}, {\"font\": {\"color\": \"#000000\"}, \"showarrow\": false, \"text\": \"0.0\", \"x\": \"14\", \"xref\": \"x\", \"y\": \"12\", \"yref\": \"y\"}, {\"font\": {\"color\": \"#000000\"}, \"showarrow\": false, \"text\": \"0.0\", \"x\": \"13\", \"xref\": \"x\", \"y\": \"12\", \"yref\": \"y\"}, {\"font\": {\"color\": \"#000000\"}, \"showarrow\": false, \"text\": \"0.0\", \"x\": \"12\", \"xref\": \"x\", \"y\": \"12\", \"yref\": \"y\"}, {\"font\": {\"color\": \"#000000\"}, \"showarrow\": false, \"text\": \"0.0\", \"x\": \"11\", \"xref\": \"x\", \"y\": \"12\", \"yref\": \"y\"}, {\"font\": {\"color\": \"#000000\"}, \"showarrow\": false, \"text\": \"0.0\", \"x\": \"10\", \"xref\": \"x\", \"y\": \"12\", \"yref\": \"y\"}, {\"font\": {\"color\": \"#000000\"}, \"showarrow\": false, \"text\": \"0.0\", \"x\": \"9\", \"xref\": \"x\", \"y\": \"12\", \"yref\": \"y\"}, {\"font\": {\"color\": \"#000000\"}, \"showarrow\": false, \"text\": \"0.0\", \"x\": \"8\", \"xref\": \"x\", \"y\": \"12\", \"yref\": \"y\"}, {\"font\": {\"color\": \"#000000\"}, \"showarrow\": false, \"text\": \"0.0\", \"x\": \"7\", \"xref\": \"x\", \"y\": \"12\", \"yref\": \"y\"}, {\"font\": {\"color\": \"#000000\"}, \"showarrow\": false, \"text\": \"0.0\", \"x\": \"6\", \"xref\": \"x\", \"y\": \"12\", \"yref\": \"y\"}, {\"font\": {\"color\": \"#000000\"}, \"showarrow\": false, \"text\": \"0.0\", \"x\": \"5\", \"xref\": \"x\", \"y\": \"12\", \"yref\": \"y\"}, {\"font\": {\"color\": \"#000000\"}, \"showarrow\": false, \"text\": \"0.0\", \"x\": \"4\", \"xref\": \"x\", \"y\": \"12\", \"yref\": \"y\"}, {\"font\": {\"color\": \"#000000\"}, \"showarrow\": false, \"text\": \"0.0\", \"x\": \"3\", \"xref\": \"x\", \"y\": \"12\", \"yref\": \"y\"}, {\"font\": {\"color\": \"#000000\"}, \"showarrow\": false, \"text\": \"0.0\", \"x\": \"2\", \"xref\": \"x\", \"y\": \"12\", \"yref\": \"y\"}, {\"font\": {\"color\": \"#FFFFFF\"}, \"showarrow\": false, \"text\": \"0.59\", \"x\": \"1\", \"xref\": \"x\", \"y\": \"12\", \"yref\": \"y\"}, {\"font\": {\"color\": \"#000000\"}, \"showarrow\": false, \"text\": \"0.46\", \"x\": \"21\", \"xref\": \"x\", \"y\": \"13\", \"yref\": \"y\"}, {\"font\": {\"color\": \"#000000\"}, \"showarrow\": false, \"text\": \"0.0\", \"x\": \"20\", \"xref\": \"x\", \"y\": \"13\", \"yref\": \"y\"}, {\"font\": {\"color\": \"#000000\"}, \"showarrow\": false, \"text\": \"0.0\", \"x\": \"19\", \"xref\": \"x\", \"y\": \"13\", \"yref\": \"y\"}, {\"font\": {\"color\": \"#000000\"}, \"showarrow\": false, \"text\": \"0.0\", \"x\": \"18\", \"xref\": \"x\", \"y\": \"13\", \"yref\": \"y\"}, {\"font\": {\"color\": \"#000000\"}, \"showarrow\": false, \"text\": \"0.0\", \"x\": \"17\", \"xref\": \"x\", \"y\": \"13\", \"yref\": \"y\"}, {\"font\": {\"color\": \"#000000\"}, \"showarrow\": false, \"text\": \"0.0\", \"x\": \"16\", \"xref\": \"x\", \"y\": \"13\", \"yref\": \"y\"}, {\"font\": {\"color\": \"#000000\"}, \"showarrow\": false, \"text\": \"0.0\", \"x\": \"15\", \"xref\": \"x\", \"y\": \"13\", \"yref\": \"y\"}, {\"font\": {\"color\": \"#000000\"}, \"showarrow\": false, \"text\": \"0.0\", \"x\": \"14\", \"xref\": \"x\", \"y\": \"13\", \"yref\": \"y\"}, {\"font\": {\"color\": \"#000000\"}, \"showarrow\": false, \"text\": \"0.0\", \"x\": \"13\", \"xref\": \"x\", \"y\": \"13\", \"yref\": \"y\"}, {\"font\": {\"color\": \"#000000\"}, \"showarrow\": false, \"text\": \"0.0\", \"x\": \"12\", \"xref\": \"x\", \"y\": \"13\", \"yref\": \"y\"}, {\"font\": {\"color\": \"#000000\"}, \"showarrow\": false, \"text\": \"0.0\", \"x\": \"11\", \"xref\": \"x\", \"y\": \"13\", \"yref\": \"y\"}, {\"font\": {\"color\": \"#000000\"}, \"showarrow\": false, \"text\": \"0.0\", \"x\": \"10\", \"xref\": \"x\", \"y\": \"13\", \"yref\": \"y\"}, {\"font\": {\"color\": \"#000000\"}, \"showarrow\": false, \"text\": \"0.0\", \"x\": \"9\", \"xref\": \"x\", \"y\": \"13\", \"yref\": \"y\"}, {\"font\": {\"color\": \"#000000\"}, \"showarrow\": false, \"text\": \"0.0\", \"x\": \"8\", \"xref\": \"x\", \"y\": \"13\", \"yref\": \"y\"}, {\"font\": {\"color\": \"#000000\"}, \"showarrow\": false, \"text\": \"0.0\", \"x\": \"7\", \"xref\": \"x\", \"y\": \"13\", \"yref\": \"y\"}, {\"font\": {\"color\": \"#000000\"}, \"showarrow\": false, \"text\": \"0.0\", \"x\": \"6\", \"xref\": \"x\", \"y\": \"13\", \"yref\": \"y\"}, {\"font\": {\"color\": \"#000000\"}, \"showarrow\": false, \"text\": \"0.0\", \"x\": \"5\", \"xref\": \"x\", \"y\": \"13\", \"yref\": \"y\"}, {\"font\": {\"color\": \"#000000\"}, \"showarrow\": false, \"text\": \"0.0\", \"x\": \"4\", \"xref\": \"x\", \"y\": \"13\", \"yref\": \"y\"}, {\"font\": {\"color\": \"#000000\"}, \"showarrow\": false, \"text\": \"0.0\", \"x\": \"3\", \"xref\": \"x\", \"y\": \"13\", \"yref\": \"y\"}, {\"font\": {\"color\": \"#000000\"}, \"showarrow\": false, \"text\": \"0.0\", \"x\": \"2\", \"xref\": \"x\", \"y\": \"13\", \"yref\": \"y\"}, {\"font\": {\"color\": \"#FFFFFF\"}, \"showarrow\": false, \"text\": \"0.54\", \"x\": \"1\", \"xref\": \"x\", \"y\": \"13\", \"yref\": \"y\"}, {\"font\": {\"color\": \"#FFFFFF\"}, \"showarrow\": false, \"text\": \"0.65\", \"x\": \"21\", \"xref\": \"x\", \"y\": \"14\", \"yref\": \"y\"}, {\"font\": {\"color\": \"#000000\"}, \"showarrow\": false, \"text\": \"0.0\", \"x\": \"20\", \"xref\": \"x\", \"y\": \"14\", \"yref\": \"y\"}, {\"font\": {\"color\": \"#000000\"}, \"showarrow\": false, \"text\": \"0.0\", \"x\": \"19\", \"xref\": \"x\", \"y\": \"14\", \"yref\": \"y\"}, {\"font\": {\"color\": \"#000000\"}, \"showarrow\": false, \"text\": \"0.0\", \"x\": \"18\", \"xref\": \"x\", \"y\": \"14\", \"yref\": \"y\"}, {\"font\": {\"color\": \"#000000\"}, \"showarrow\": false, \"text\": \"0.0\", \"x\": \"17\", \"xref\": \"x\", \"y\": \"14\", \"yref\": \"y\"}, {\"font\": {\"color\": \"#000000\"}, \"showarrow\": false, \"text\": \"0.0\", \"x\": \"16\", \"xref\": \"x\", \"y\": \"14\", \"yref\": \"y\"}, {\"font\": {\"color\": \"#000000\"}, \"showarrow\": false, \"text\": \"0.0\", \"x\": \"15\", \"xref\": \"x\", \"y\": \"14\", \"yref\": \"y\"}, {\"font\": {\"color\": \"#000000\"}, \"showarrow\": false, \"text\": \"0.0\", \"x\": \"14\", \"xref\": \"x\", \"y\": \"14\", \"yref\": \"y\"}, {\"font\": {\"color\": \"#000000\"}, \"showarrow\": false, \"text\": \"0.0\", \"x\": \"13\", \"xref\": \"x\", \"y\": \"14\", \"yref\": \"y\"}, {\"font\": {\"color\": \"#000000\"}, \"showarrow\": false, \"text\": \"0.0\", \"x\": \"12\", \"xref\": \"x\", \"y\": \"14\", \"yref\": \"y\"}, {\"font\": {\"color\": \"#000000\"}, \"showarrow\": false, \"text\": \"0.0\", \"x\": \"11\", \"xref\": \"x\", \"y\": \"14\", \"yref\": \"y\"}, {\"font\": {\"color\": \"#000000\"}, \"showarrow\": false, \"text\": \"0.0\", \"x\": \"10\", \"xref\": \"x\", \"y\": \"14\", \"yref\": \"y\"}, {\"font\": {\"color\": \"#000000\"}, \"showarrow\": false, \"text\": \"0.0\", \"x\": \"9\", \"xref\": \"x\", \"y\": \"14\", \"yref\": \"y\"}, {\"font\": {\"color\": \"#000000\"}, \"showarrow\": false, \"text\": \"0.0\", \"x\": \"8\", \"xref\": \"x\", \"y\": \"14\", \"yref\": \"y\"}, {\"font\": {\"color\": \"#000000\"}, \"showarrow\": false, \"text\": \"0.0\", \"x\": \"7\", \"xref\": \"x\", \"y\": \"14\", \"yref\": \"y\"}, {\"font\": {\"color\": \"#000000\"}, \"showarrow\": false, \"text\": \"0.0\", \"x\": \"6\", \"xref\": \"x\", \"y\": \"14\", \"yref\": \"y\"}, {\"font\": {\"color\": \"#000000\"}, \"showarrow\": false, \"text\": \"0.0\", \"x\": \"5\", \"xref\": \"x\", \"y\": \"14\", \"yref\": \"y\"}, {\"font\": {\"color\": \"#000000\"}, \"showarrow\": false, \"text\": \"0.0\", \"x\": \"4\", \"xref\": \"x\", \"y\": \"14\", \"yref\": \"y\"}, {\"font\": {\"color\": \"#000000\"}, \"showarrow\": false, \"text\": \"0.0\", \"x\": \"3\", \"xref\": \"x\", \"y\": \"14\", \"yref\": \"y\"}, {\"font\": {\"color\": \"#000000\"}, \"showarrow\": false, \"text\": \"0.0\", \"x\": \"2\", \"xref\": \"x\", \"y\": \"14\", \"yref\": \"y\"}, {\"font\": {\"color\": \"#000000\"}, \"showarrow\": false, \"text\": \"0.35\", \"x\": \"1\", \"xref\": \"x\", \"y\": \"14\", \"yref\": \"y\"}, {\"font\": {\"color\": \"#FFFFFF\"}, \"showarrow\": false, \"text\": \"0.6\", \"x\": \"21\", \"xref\": \"x\", \"y\": \"15\", \"yref\": \"y\"}, {\"font\": {\"color\": \"#000000\"}, \"showarrow\": false, \"text\": \"0.0\", \"x\": \"20\", \"xref\": \"x\", \"y\": \"15\", \"yref\": \"y\"}, {\"font\": {\"color\": \"#000000\"}, \"showarrow\": false, \"text\": \"0.0\", \"x\": \"19\", \"xref\": \"x\", \"y\": \"15\", \"yref\": \"y\"}, {\"font\": {\"color\": \"#000000\"}, \"showarrow\": false, \"text\": \"0.0\", \"x\": \"18\", \"xref\": \"x\", \"y\": \"15\", \"yref\": \"y\"}, {\"font\": {\"color\": \"#000000\"}, \"showarrow\": false, \"text\": \"0.0\", \"x\": \"17\", \"xref\": \"x\", \"y\": \"15\", \"yref\": \"y\"}, {\"font\": {\"color\": \"#000000\"}, \"showarrow\": false, \"text\": \"0.0\", \"x\": \"16\", \"xref\": \"x\", \"y\": \"15\", \"yref\": \"y\"}, {\"font\": {\"color\": \"#000000\"}, \"showarrow\": false, \"text\": \"0.0\", \"x\": \"15\", \"xref\": \"x\", \"y\": \"15\", \"yref\": \"y\"}, {\"font\": {\"color\": \"#000000\"}, \"showarrow\": false, \"text\": \"0.0\", \"x\": \"14\", \"xref\": \"x\", \"y\": \"15\", \"yref\": \"y\"}, {\"font\": {\"color\": \"#000000\"}, \"showarrow\": false, \"text\": \"0.0\", \"x\": \"13\", \"xref\": \"x\", \"y\": \"15\", \"yref\": \"y\"}, {\"font\": {\"color\": \"#000000\"}, \"showarrow\": false, \"text\": \"0.0\", \"x\": \"12\", \"xref\": \"x\", \"y\": \"15\", \"yref\": \"y\"}, {\"font\": {\"color\": \"#000000\"}, \"showarrow\": false, \"text\": \"0.0\", \"x\": \"11\", \"xref\": \"x\", \"y\": \"15\", \"yref\": \"y\"}, {\"font\": {\"color\": \"#000000\"}, \"showarrow\": false, \"text\": \"0.0\", \"x\": \"10\", \"xref\": \"x\", \"y\": \"15\", \"yref\": \"y\"}, {\"font\": {\"color\": \"#000000\"}, \"showarrow\": false, \"text\": \"0.0\", \"x\": \"9\", \"xref\": \"x\", \"y\": \"15\", \"yref\": \"y\"}, {\"font\": {\"color\": \"#000000\"}, \"showarrow\": false, \"text\": \"0.0\", \"x\": \"8\", \"xref\": \"x\", \"y\": \"15\", \"yref\": \"y\"}, {\"font\": {\"color\": \"#000000\"}, \"showarrow\": false, \"text\": \"0.0\", \"x\": \"7\", \"xref\": \"x\", \"y\": \"15\", \"yref\": \"y\"}, {\"font\": {\"color\": \"#000000\"}, \"showarrow\": false, \"text\": \"0.0\", \"x\": \"6\", \"xref\": \"x\", \"y\": \"15\", \"yref\": \"y\"}, {\"font\": {\"color\": \"#000000\"}, \"showarrow\": false, \"text\": \"0.0\", \"x\": \"5\", \"xref\": \"x\", \"y\": \"15\", \"yref\": \"y\"}, {\"font\": {\"color\": \"#000000\"}, \"showarrow\": false, \"text\": \"0.0\", \"x\": \"4\", \"xref\": \"x\", \"y\": \"15\", \"yref\": \"y\"}, {\"font\": {\"color\": \"#000000\"}, \"showarrow\": false, \"text\": \"0.0\", \"x\": \"3\", \"xref\": \"x\", \"y\": \"15\", \"yref\": \"y\"}, {\"font\": {\"color\": \"#000000\"}, \"showarrow\": false, \"text\": \"0.0\", \"x\": \"2\", \"xref\": \"x\", \"y\": \"15\", \"yref\": \"y\"}, {\"font\": {\"color\": \"#000000\"}, \"showarrow\": false, \"text\": \"0.4\", \"x\": \"1\", \"xref\": \"x\", \"y\": \"15\", \"yref\": \"y\"}, {\"font\": {\"color\": \"#FFFFFF\"}, \"showarrow\": false, \"text\": \"0.79\", \"x\": \"21\", \"xref\": \"x\", \"y\": \"16\", \"yref\": \"y\"}, {\"font\": {\"color\": \"#000000\"}, \"showarrow\": false, \"text\": \"0.0\", \"x\": \"20\", \"xref\": \"x\", \"y\": \"16\", \"yref\": \"y\"}, {\"font\": {\"color\": \"#000000\"}, \"showarrow\": false, \"text\": \"0.0\", \"x\": \"19\", \"xref\": \"x\", \"y\": \"16\", \"yref\": \"y\"}, {\"font\": {\"color\": \"#000000\"}, \"showarrow\": false, \"text\": \"0.0\", \"x\": \"18\", \"xref\": \"x\", \"y\": \"16\", \"yref\": \"y\"}, {\"font\": {\"color\": \"#000000\"}, \"showarrow\": false, \"text\": \"0.0\", \"x\": \"17\", \"xref\": \"x\", \"y\": \"16\", \"yref\": \"y\"}, {\"font\": {\"color\": \"#000000\"}, \"showarrow\": false, \"text\": \"0.0\", \"x\": \"16\", \"xref\": \"x\", \"y\": \"16\", \"yref\": \"y\"}, {\"font\": {\"color\": \"#000000\"}, \"showarrow\": false, \"text\": \"0.0\", \"x\": \"15\", \"xref\": \"x\", \"y\": \"16\", \"yref\": \"y\"}, {\"font\": {\"color\": \"#000000\"}, \"showarrow\": false, \"text\": \"0.0\", \"x\": \"14\", \"xref\": \"x\", \"y\": \"16\", \"yref\": \"y\"}, {\"font\": {\"color\": \"#000000\"}, \"showarrow\": false, \"text\": \"0.0\", \"x\": \"13\", \"xref\": \"x\", \"y\": \"16\", \"yref\": \"y\"}, {\"font\": {\"color\": \"#000000\"}, \"showarrow\": false, \"text\": \"0.0\", \"x\": \"12\", \"xref\": \"x\", \"y\": \"16\", \"yref\": \"y\"}, {\"font\": {\"color\": \"#000000\"}, \"showarrow\": false, \"text\": \"0.0\", \"x\": \"11\", \"xref\": \"x\", \"y\": \"16\", \"yref\": \"y\"}, {\"font\": {\"color\": \"#000000\"}, \"showarrow\": false, \"text\": \"0.0\", \"x\": \"10\", \"xref\": \"x\", \"y\": \"16\", \"yref\": \"y\"}, {\"font\": {\"color\": \"#000000\"}, \"showarrow\": false, \"text\": \"0.0\", \"x\": \"9\", \"xref\": \"x\", \"y\": \"16\", \"yref\": \"y\"}, {\"font\": {\"color\": \"#000000\"}, \"showarrow\": false, \"text\": \"0.0\", \"x\": \"8\", \"xref\": \"x\", \"y\": \"16\", \"yref\": \"y\"}, {\"font\": {\"color\": \"#000000\"}, \"showarrow\": false, \"text\": \"0.0\", \"x\": \"7\", \"xref\": \"x\", \"y\": \"16\", \"yref\": \"y\"}, {\"font\": {\"color\": \"#000000\"}, \"showarrow\": false, \"text\": \"0.0\", \"x\": \"6\", \"xref\": \"x\", \"y\": \"16\", \"yref\": \"y\"}, {\"font\": {\"color\": \"#000000\"}, \"showarrow\": false, \"text\": \"0.0\", \"x\": \"5\", \"xref\": \"x\", \"y\": \"16\", \"yref\": \"y\"}, {\"font\": {\"color\": \"#000000\"}, \"showarrow\": false, \"text\": \"0.0\", \"x\": \"4\", \"xref\": \"x\", \"y\": \"16\", \"yref\": \"y\"}, {\"font\": {\"color\": \"#000000\"}, \"showarrow\": false, \"text\": \"0.0\", \"x\": \"3\", \"xref\": \"x\", \"y\": \"16\", \"yref\": \"y\"}, {\"font\": {\"color\": \"#000000\"}, \"showarrow\": false, \"text\": \"0.0\", \"x\": \"2\", \"xref\": \"x\", \"y\": \"16\", \"yref\": \"y\"}, {\"font\": {\"color\": \"#000000\"}, \"showarrow\": false, \"text\": \"0.21\", \"x\": \"1\", \"xref\": \"x\", \"y\": \"16\", \"yref\": \"y\"}, {\"font\": {\"color\": \"#FFFFFF\"}, \"showarrow\": false, \"text\": \"0.76\", \"x\": \"21\", \"xref\": \"x\", \"y\": \"17\", \"yref\": \"y\"}, {\"font\": {\"color\": \"#000000\"}, \"showarrow\": false, \"text\": \"0.0\", \"x\": \"20\", \"xref\": \"x\", \"y\": \"17\", \"yref\": \"y\"}, {\"font\": {\"color\": \"#000000\"}, \"showarrow\": false, \"text\": \"0.0\", \"x\": \"19\", \"xref\": \"x\", \"y\": \"17\", \"yref\": \"y\"}, {\"font\": {\"color\": \"#000000\"}, \"showarrow\": false, \"text\": \"0.0\", \"x\": \"18\", \"xref\": \"x\", \"y\": \"17\", \"yref\": \"y\"}, {\"font\": {\"color\": \"#000000\"}, \"showarrow\": false, \"text\": \"0.0\", \"x\": \"17\", \"xref\": \"x\", \"y\": \"17\", \"yref\": \"y\"}, {\"font\": {\"color\": \"#000000\"}, \"showarrow\": false, \"text\": \"0.0\", \"x\": \"16\", \"xref\": \"x\", \"y\": \"17\", \"yref\": \"y\"}, {\"font\": {\"color\": \"#000000\"}, \"showarrow\": false, \"text\": \"0.0\", \"x\": \"15\", \"xref\": \"x\", \"y\": \"17\", \"yref\": \"y\"}, {\"font\": {\"color\": \"#000000\"}, \"showarrow\": false, \"text\": \"0.0\", \"x\": \"14\", \"xref\": \"x\", \"y\": \"17\", \"yref\": \"y\"}, {\"font\": {\"color\": \"#000000\"}, \"showarrow\": false, \"text\": \"0.0\", \"x\": \"13\", \"xref\": \"x\", \"y\": \"17\", \"yref\": \"y\"}, {\"font\": {\"color\": \"#000000\"}, \"showarrow\": false, \"text\": \"0.0\", \"x\": \"12\", \"xref\": \"x\", \"y\": \"17\", \"yref\": \"y\"}, {\"font\": {\"color\": \"#000000\"}, \"showarrow\": false, \"text\": \"0.0\", \"x\": \"11\", \"xref\": \"x\", \"y\": \"17\", \"yref\": \"y\"}, {\"font\": {\"color\": \"#000000\"}, \"showarrow\": false, \"text\": \"0.0\", \"x\": \"10\", \"xref\": \"x\", \"y\": \"17\", \"yref\": \"y\"}, {\"font\": {\"color\": \"#000000\"}, \"showarrow\": false, \"text\": \"0.0\", \"x\": \"9\", \"xref\": \"x\", \"y\": \"17\", \"yref\": \"y\"}, {\"font\": {\"color\": \"#000000\"}, \"showarrow\": false, \"text\": \"0.0\", \"x\": \"8\", \"xref\": \"x\", \"y\": \"17\", \"yref\": \"y\"}, {\"font\": {\"color\": \"#000000\"}, \"showarrow\": false, \"text\": \"0.0\", \"x\": \"7\", \"xref\": \"x\", \"y\": \"17\", \"yref\": \"y\"}, {\"font\": {\"color\": \"#000000\"}, \"showarrow\": false, \"text\": \"0.0\", \"x\": \"6\", \"xref\": \"x\", \"y\": \"17\", \"yref\": \"y\"}, {\"font\": {\"color\": \"#000000\"}, \"showarrow\": false, \"text\": \"0.0\", \"x\": \"5\", \"xref\": \"x\", \"y\": \"17\", \"yref\": \"y\"}, {\"font\": {\"color\": \"#000000\"}, \"showarrow\": false, \"text\": \"0.0\", \"x\": \"4\", \"xref\": \"x\", \"y\": \"17\", \"yref\": \"y\"}, {\"font\": {\"color\": \"#000000\"}, \"showarrow\": false, \"text\": \"0.0\", \"x\": \"3\", \"xref\": \"x\", \"y\": \"17\", \"yref\": \"y\"}, {\"font\": {\"color\": \"#000000\"}, \"showarrow\": false, \"text\": \"0.0\", \"x\": \"2\", \"xref\": \"x\", \"y\": \"17\", \"yref\": \"y\"}, {\"font\": {\"color\": \"#000000\"}, \"showarrow\": false, \"text\": \"0.24\", \"x\": \"1\", \"xref\": \"x\", \"y\": \"17\", \"yref\": \"y\"}, {\"font\": {\"color\": \"#FFFFFF\"}, \"showarrow\": false, \"text\": \"0.92\", \"x\": \"21\", \"xref\": \"x\", \"y\": \"18\", \"yref\": \"y\"}, {\"font\": {\"color\": \"#000000\"}, \"showarrow\": false, \"text\": \"0.0\", \"x\": \"20\", \"xref\": \"x\", \"y\": \"18\", \"yref\": \"y\"}, {\"font\": {\"color\": \"#000000\"}, \"showarrow\": false, \"text\": \"0.0\", \"x\": \"19\", \"xref\": \"x\", \"y\": \"18\", \"yref\": \"y\"}, {\"font\": {\"color\": \"#000000\"}, \"showarrow\": false, \"text\": \"0.0\", \"x\": \"18\", \"xref\": \"x\", \"y\": \"18\", \"yref\": \"y\"}, {\"font\": {\"color\": \"#000000\"}, \"showarrow\": false, \"text\": \"0.0\", \"x\": \"17\", \"xref\": \"x\", \"y\": \"18\", \"yref\": \"y\"}, {\"font\": {\"color\": \"#000000\"}, \"showarrow\": false, \"text\": \"0.0\", \"x\": \"16\", \"xref\": \"x\", \"y\": \"18\", \"yref\": \"y\"}, {\"font\": {\"color\": \"#000000\"}, \"showarrow\": false, \"text\": \"0.0\", \"x\": \"15\", \"xref\": \"x\", \"y\": \"18\", \"yref\": \"y\"}, {\"font\": {\"color\": \"#000000\"}, \"showarrow\": false, \"text\": \"0.0\", \"x\": \"14\", \"xref\": \"x\", \"y\": \"18\", \"yref\": \"y\"}, {\"font\": {\"color\": \"#000000\"}, \"showarrow\": false, \"text\": \"0.0\", \"x\": \"13\", \"xref\": \"x\", \"y\": \"18\", \"yref\": \"y\"}, {\"font\": {\"color\": \"#000000\"}, \"showarrow\": false, \"text\": \"0.0\", \"x\": \"12\", \"xref\": \"x\", \"y\": \"18\", \"yref\": \"y\"}, {\"font\": {\"color\": \"#000000\"}, \"showarrow\": false, \"text\": \"0.0\", \"x\": \"11\", \"xref\": \"x\", \"y\": \"18\", \"yref\": \"y\"}, {\"font\": {\"color\": \"#000000\"}, \"showarrow\": false, \"text\": \"0.0\", \"x\": \"10\", \"xref\": \"x\", \"y\": \"18\", \"yref\": \"y\"}, {\"font\": {\"color\": \"#000000\"}, \"showarrow\": false, \"text\": \"0.0\", \"x\": \"9\", \"xref\": \"x\", \"y\": \"18\", \"yref\": \"y\"}, {\"font\": {\"color\": \"#000000\"}, \"showarrow\": false, \"text\": \"0.0\", \"x\": \"8\", \"xref\": \"x\", \"y\": \"18\", \"yref\": \"y\"}, {\"font\": {\"color\": \"#000000\"}, \"showarrow\": false, \"text\": \"0.0\", \"x\": \"7\", \"xref\": \"x\", \"y\": \"18\", \"yref\": \"y\"}, {\"font\": {\"color\": \"#000000\"}, \"showarrow\": false, \"text\": \"0.0\", \"x\": \"6\", \"xref\": \"x\", \"y\": \"18\", \"yref\": \"y\"}, {\"font\": {\"color\": \"#000000\"}, \"showarrow\": false, \"text\": \"0.0\", \"x\": \"5\", \"xref\": \"x\", \"y\": \"18\", \"yref\": \"y\"}, {\"font\": {\"color\": \"#000000\"}, \"showarrow\": false, \"text\": \"0.0\", \"x\": \"4\", \"xref\": \"x\", \"y\": \"18\", \"yref\": \"y\"}, {\"font\": {\"color\": \"#000000\"}, \"showarrow\": false, \"text\": \"0.0\", \"x\": \"3\", \"xref\": \"x\", \"y\": \"18\", \"yref\": \"y\"}, {\"font\": {\"color\": \"#000000\"}, \"showarrow\": false, \"text\": \"0.0\", \"x\": \"2\", \"xref\": \"x\", \"y\": \"18\", \"yref\": \"y\"}, {\"font\": {\"color\": \"#000000\"}, \"showarrow\": false, \"text\": \"0.08\", \"x\": \"1\", \"xref\": \"x\", \"y\": \"18\", \"yref\": \"y\"}, {\"font\": {\"color\": \"#FFFFFF\"}, \"showarrow\": false, \"text\": \"0.91\", \"x\": \"21\", \"xref\": \"x\", \"y\": \"19\", \"yref\": \"y\"}, {\"font\": {\"color\": \"#000000\"}, \"showarrow\": false, \"text\": \"0.0\", \"x\": \"20\", \"xref\": \"x\", \"y\": \"19\", \"yref\": \"y\"}, {\"font\": {\"color\": \"#000000\"}, \"showarrow\": false, \"text\": \"0.0\", \"x\": \"19\", \"xref\": \"x\", \"y\": \"19\", \"yref\": \"y\"}, {\"font\": {\"color\": \"#000000\"}, \"showarrow\": false, \"text\": \"0.0\", \"x\": \"18\", \"xref\": \"x\", \"y\": \"19\", \"yref\": \"y\"}, {\"font\": {\"color\": \"#000000\"}, \"showarrow\": false, \"text\": \"0.0\", \"x\": \"17\", \"xref\": \"x\", \"y\": \"19\", \"yref\": \"y\"}, {\"font\": {\"color\": \"#000000\"}, \"showarrow\": false, \"text\": \"0.0\", \"x\": \"16\", \"xref\": \"x\", \"y\": \"19\", \"yref\": \"y\"}, {\"font\": {\"color\": \"#000000\"}, \"showarrow\": false, \"text\": \"0.0\", \"x\": \"15\", \"xref\": \"x\", \"y\": \"19\", \"yref\": \"y\"}, {\"font\": {\"color\": \"#000000\"}, \"showarrow\": false, \"text\": \"0.0\", \"x\": \"14\", \"xref\": \"x\", \"y\": \"19\", \"yref\": \"y\"}, {\"font\": {\"color\": \"#000000\"}, \"showarrow\": false, \"text\": \"0.0\", \"x\": \"13\", \"xref\": \"x\", \"y\": \"19\", \"yref\": \"y\"}, {\"font\": {\"color\": \"#000000\"}, \"showarrow\": false, \"text\": \"0.0\", \"x\": \"12\", \"xref\": \"x\", \"y\": \"19\", \"yref\": \"y\"}, {\"font\": {\"color\": \"#000000\"}, \"showarrow\": false, \"text\": \"0.0\", \"x\": \"11\", \"xref\": \"x\", \"y\": \"19\", \"yref\": \"y\"}, {\"font\": {\"color\": \"#000000\"}, \"showarrow\": false, \"text\": \"0.0\", \"x\": \"10\", \"xref\": \"x\", \"y\": \"19\", \"yref\": \"y\"}, {\"font\": {\"color\": \"#000000\"}, \"showarrow\": false, \"text\": \"0.0\", \"x\": \"9\", \"xref\": \"x\", \"y\": \"19\", \"yref\": \"y\"}, {\"font\": {\"color\": \"#000000\"}, \"showarrow\": false, \"text\": \"0.0\", \"x\": \"8\", \"xref\": \"x\", \"y\": \"19\", \"yref\": \"y\"}, {\"font\": {\"color\": \"#000000\"}, \"showarrow\": false, \"text\": \"0.0\", \"x\": \"7\", \"xref\": \"x\", \"y\": \"19\", \"yref\": \"y\"}, {\"font\": {\"color\": \"#000000\"}, \"showarrow\": false, \"text\": \"0.0\", \"x\": \"6\", \"xref\": \"x\", \"y\": \"19\", \"yref\": \"y\"}, {\"font\": {\"color\": \"#000000\"}, \"showarrow\": false, \"text\": \"0.0\", \"x\": \"5\", \"xref\": \"x\", \"y\": \"19\", \"yref\": \"y\"}, {\"font\": {\"color\": \"#000000\"}, \"showarrow\": false, \"text\": \"0.0\", \"x\": \"4\", \"xref\": \"x\", \"y\": \"19\", \"yref\": \"y\"}, {\"font\": {\"color\": \"#000000\"}, \"showarrow\": false, \"text\": \"0.0\", \"x\": \"3\", \"xref\": \"x\", \"y\": \"19\", \"yref\": \"y\"}, {\"font\": {\"color\": \"#000000\"}, \"showarrow\": false, \"text\": \"0.0\", \"x\": \"2\", \"xref\": \"x\", \"y\": \"19\", \"yref\": \"y\"}, {\"font\": {\"color\": \"#000000\"}, \"showarrow\": false, \"text\": \"0.09\", \"x\": \"1\", \"xref\": \"x\", \"y\": \"19\", \"yref\": \"y\"}, {\"font\": {\"color\": \"#FFFFFF\"}, \"showarrow\": false, \"text\": \"0.99\", \"x\": \"21\", \"xref\": \"x\", \"y\": \"20\", \"yref\": \"y\"}, {\"font\": {\"color\": \"#000000\"}, \"showarrow\": false, \"text\": \"0.0\", \"x\": \"20\", \"xref\": \"x\", \"y\": \"20\", \"yref\": \"y\"}, {\"font\": {\"color\": \"#000000\"}, \"showarrow\": false, \"text\": \"0.0\", \"x\": \"19\", \"xref\": \"x\", \"y\": \"20\", \"yref\": \"y\"}, {\"font\": {\"color\": \"#000000\"}, \"showarrow\": false, \"text\": \"0.0\", \"x\": \"18\", \"xref\": \"x\", \"y\": \"20\", \"yref\": \"y\"}, {\"font\": {\"color\": \"#000000\"}, \"showarrow\": false, \"text\": \"0.0\", \"x\": \"17\", \"xref\": \"x\", \"y\": \"20\", \"yref\": \"y\"}, {\"font\": {\"color\": \"#000000\"}, \"showarrow\": false, \"text\": \"0.0\", \"x\": \"16\", \"xref\": \"x\", \"y\": \"20\", \"yref\": \"y\"}, {\"font\": {\"color\": \"#000000\"}, \"showarrow\": false, \"text\": \"0.0\", \"x\": \"15\", \"xref\": \"x\", \"y\": \"20\", \"yref\": \"y\"}, {\"font\": {\"color\": \"#000000\"}, \"showarrow\": false, \"text\": \"0.0\", \"x\": \"14\", \"xref\": \"x\", \"y\": \"20\", \"yref\": \"y\"}, {\"font\": {\"color\": \"#000000\"}, \"showarrow\": false, \"text\": \"0.0\", \"x\": \"13\", \"xref\": \"x\", \"y\": \"20\", \"yref\": \"y\"}, {\"font\": {\"color\": \"#000000\"}, \"showarrow\": false, \"text\": \"0.0\", \"x\": \"12\", \"xref\": \"x\", \"y\": \"20\", \"yref\": \"y\"}, {\"font\": {\"color\": \"#000000\"}, \"showarrow\": false, \"text\": \"0.0\", \"x\": \"11\", \"xref\": \"x\", \"y\": \"20\", \"yref\": \"y\"}, {\"font\": {\"color\": \"#000000\"}, \"showarrow\": false, \"text\": \"0.0\", \"x\": \"10\", \"xref\": \"x\", \"y\": \"20\", \"yref\": \"y\"}, {\"font\": {\"color\": \"#000000\"}, \"showarrow\": false, \"text\": \"0.0\", \"x\": \"9\", \"xref\": \"x\", \"y\": \"20\", \"yref\": \"y\"}, {\"font\": {\"color\": \"#000000\"}, \"showarrow\": false, \"text\": \"0.0\", \"x\": \"8\", \"xref\": \"x\", \"y\": \"20\", \"yref\": \"y\"}, {\"font\": {\"color\": \"#000000\"}, \"showarrow\": false, \"text\": \"0.0\", \"x\": \"7\", \"xref\": \"x\", \"y\": \"20\", \"yref\": \"y\"}, {\"font\": {\"color\": \"#000000\"}, \"showarrow\": false, \"text\": \"0.0\", \"x\": \"6\", \"xref\": \"x\", \"y\": \"20\", \"yref\": \"y\"}, {\"font\": {\"color\": \"#000000\"}, \"showarrow\": false, \"text\": \"0.0\", \"x\": \"5\", \"xref\": \"x\", \"y\": \"20\", \"yref\": \"y\"}, {\"font\": {\"color\": \"#000000\"}, \"showarrow\": false, \"text\": \"0.0\", \"x\": \"4\", \"xref\": \"x\", \"y\": \"20\", \"yref\": \"y\"}, {\"font\": {\"color\": \"#000000\"}, \"showarrow\": false, \"text\": \"0.0\", \"x\": \"3\", \"xref\": \"x\", \"y\": \"20\", \"yref\": \"y\"}, {\"font\": {\"color\": \"#000000\"}, \"showarrow\": false, \"text\": \"0.0\", \"x\": \"2\", \"xref\": \"x\", \"y\": \"20\", \"yref\": \"y\"}, {\"font\": {\"color\": \"#000000\"}, \"showarrow\": false, \"text\": \"0.01\", \"x\": \"1\", \"xref\": \"x\", \"y\": \"20\", \"yref\": \"y\"}], \"height\": 800, \"template\": {\"data\": {\"scatter\": [{\"type\": \"scatter\"}]}}, \"title\": {\"text\": \"\", \"x\": 0.47, \"xanchor\": \"center\", \"y\": 0.95, \"yanchor\": \"top\"}, \"width\": 800, \"xaxis\": {\"dtick\": 1, \"gridcolor\": \"rgb(0, 0, 0)\", \"showgrid\": false, \"side\": \"bottom\", \"ticks\": \"\", \"title\": {\"text\": \"Predicted Labels\"}}, \"yaxis\": {\"dtick\": 1, \"showgrid\": false, \"ticks\": \"\", \"ticksuffix\": \"  \", \"title\": {\"text\": \"True Labels\"}}},\n",
       "                        {\"responsive\": true}\n",
       "                    ).then(function(){\n",
       "                            \n",
       "var gd = document.getElementById('ba29cca4-270a-43c7-906b-7cf7c61c7910');\n",
       "var x = new MutationObserver(function (mutations, observer) {{\n",
       "        var display = window.getComputedStyle(gd).display;\n",
       "        if (!display || display === 'none') {{\n",
       "            console.log([gd, 'removed!']);\n",
       "            Plotly.purge(gd);\n",
       "            observer.disconnect();\n",
       "        }}\n",
       "}});\n",
       "\n",
       "// Listen for the removal of the full notebook cells\n",
       "var notebookContainer = gd.closest('#notebook-container');\n",
       "if (notebookContainer) {{\n",
       "    x.observe(notebookContainer, {childList: true});\n",
       "}}\n",
       "\n",
       "// Listen for the clearing of the current output cell\n",
       "var outputEl = gd.closest('.output');\n",
       "if (outputEl) {{\n",
       "    x.observe(outputEl, {childList: true});\n",
       "}}\n",
       "\n",
       "                        })\n",
       "                };\n",
       "                });\n",
       "            </script>\n",
       "        </div>"
      ]
     },
     "metadata": {},
     "output_type": "display_data"
    }
   ],
   "source": [
    "fig = ff.create_annotated_heatmap(z, x = x, y = y, annotation_text = z, colorscale = 'deep')\n",
    "fig.update_layout(width = 800, height = 800, xaxis_showgrid = False, yaxis_showgrid = False, template = 'none')\n",
    "fig.update_layout(title = {'text': \"\",\n",
    "                           'y':0.95,\n",
    "                           'x':0.47,\n",
    "                           'xanchor': 'center',\n",
    "                           'yanchor': 'top'}, \n",
    "                  xaxis_title = 'Predicted Labels',\n",
    "                  yaxis_title = 'True Labels')\n",
    "fig['layout']['xaxis']['side'] = 'bottom'\n",
    "\n",
    "fig.show()"
   ]
  },
  {
   "cell_type": "code",
   "execution_count": 120,
   "metadata": {},
   "outputs": [
    {
     "data": {
      "text/plain": [
       "638295"
      ]
     },
     "execution_count": 120,
     "metadata": {},
     "output_type": "execute_result"
    }
   ],
   "source": [
    "test_sum = sum(y_test)*15\n",
    "test_sum"
   ]
  },
  {
   "cell_type": "code",
   "execution_count": 119,
   "metadata": {},
   "outputs": [
    {
     "data": {
      "text/plain": [
       "551400"
      ]
     },
     "execution_count": 119,
     "metadata": {},
     "output_type": "execute_result"
    }
   ],
   "source": [
    "predicted_sum = sum(y_predicted)*15\n",
    "predicted_sum"
   ]
  },
  {
   "cell_type": "code",
   "execution_count": 121,
   "metadata": {},
   "outputs": [
    {
     "name": "stdout",
     "output_type": "stream",
     "text": [
      "Error Percentage in predicted values is : 13.613611261250675 %\n"
     ]
    }
   ],
   "source": [
    "print(\"Error Percentage in predicted values is : {} %\".format(np.absolute((predicted_sum - test_sum)/test_sum)*100))"
   ]
  },
  {
   "cell_type": "code",
   "execution_count": 122,
   "metadata": {},
   "outputs": [
    {
     "data": {
      "text/plain": [
       "0.6104208261327043"
      ]
     },
     "execution_count": 122,
     "metadata": {},
     "output_type": "execute_result"
    }
   ],
   "source": [
    "f1_score(y_test, y_predicted, average = 'weighted')"
   ]
  },
  {
   "cell_type": "code",
   "execution_count": 123,
   "metadata": {},
   "outputs": [
    {
     "data": {
      "text/plain": [
       "3.0190363881401616"
      ]
     },
     "execution_count": 123,
     "metadata": {},
     "output_type": "execute_result"
    }
   ],
   "source": [
    "mean_absolute_error(y_test, y_predicted)"
   ]
  },
  {
   "cell_type": "code",
   "execution_count": 124,
   "metadata": {},
   "outputs": [
    {
     "data": {
      "text/plain": [
       "0.7095687331536388"
      ]
     },
     "execution_count": 124,
     "metadata": {},
     "output_type": "execute_result"
    }
   ],
   "source": [
    "accuracy_score(y_test, y_predicted)"
   ]
  },
  {
   "cell_type": "code",
   "execution_count": 125,
   "metadata": {},
   "outputs": [
    {
     "data": {
      "text/plain": [
       "array([0, 0, 0, ..., 0, 0, 0], dtype=int64)"
      ]
     },
     "execution_count": 125,
     "metadata": {},
     "output_type": "execute_result"
    }
   ],
   "source": [
    "y_train_predicted = classifier.predict(X_train)\n",
    "y_train_predicted = np.argmax(y_train_predicted, axis = 1)\n",
    "y_train = np.argmax(y_train, axis = 1)\n",
    "y_train_predicted"
   ]
  },
  {
   "cell_type": "code",
   "execution_count": 126,
   "metadata": {},
   "outputs": [
    {
     "data": {
      "text/plain": [
       "0.6011189044057155"
      ]
     },
     "execution_count": 126,
     "metadata": {},
     "output_type": "execute_result"
    }
   ],
   "source": [
    "f1_score(y_train, y_train_predicted, average = 'weighted')"
   ]
  },
  {
   "cell_type": "code",
   "execution_count": 127,
   "metadata": {},
   "outputs": [
    {
     "data": {
      "text/plain": [
       "0.7024431339511373"
      ]
     },
     "execution_count": 127,
     "metadata": {},
     "output_type": "execute_result"
    }
   ],
   "source": [
    "accuracy_score(y_train, y_train_predicted)"
   ]
  },
  {
   "cell_type": "code",
   "execution_count": 128,
   "metadata": {},
   "outputs": [
    {
     "data": {
      "text/plain": [
       "3.075568660488627"
      ]
     },
     "execution_count": 128,
     "metadata": {},
     "output_type": "execute_result"
    }
   ],
   "source": [
    "mean_absolute_error(y_train, y_train_predicted)"
   ]
  },
  {
   "cell_type": "code",
   "execution_count": null,
   "metadata": {},
   "outputs": [],
   "source": []
  }
 ],
 "metadata": {
  "kernelspec": {
   "display_name": "Python 3",
   "language": "python",
   "name": "python3"
  },
  "language_info": {
   "codemirror_mode": {
    "name": "ipython",
    "version": 3
   },
   "file_extension": ".py",
   "mimetype": "text/x-python",
   "name": "python",
   "nbconvert_exporter": "python",
   "pygments_lexer": "ipython3",
   "version": "3.8.3"
  }
 },
 "nbformat": 4,
 "nbformat_minor": 4
}
