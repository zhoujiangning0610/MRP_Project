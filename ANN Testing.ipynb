{
 "cells": [
  {
   "cell_type": "code",
   "execution_count": 252,
   "metadata": {},
   "outputs": [],
   "source": [
    "import numpy as np\n",
    "import pandas as pd\n",
    "import matplotlib.pyplot as plt\n",
    "import seaborn as sns"
   ]
  },
  {
   "cell_type": "code",
   "execution_count": 253,
   "metadata": {},
   "outputs": [
    {
     "data": {
      "text/html": [
       "<div>\n",
       "<style scoped>\n",
       "    .dataframe tbody tr th:only-of-type {\n",
       "        vertical-align: middle;\n",
       "    }\n",
       "\n",
       "    .dataframe tbody tr th {\n",
       "        vertical-align: top;\n",
       "    }\n",
       "\n",
       "    .dataframe thead th {\n",
       "        text-align: right;\n",
       "    }\n",
       "</style>\n",
       "<table border=\"1\" class=\"dataframe\">\n",
       "  <thead>\n",
       "    <tr style=\"text-align: right;\">\n",
       "      <th></th>\n",
       "      <th>Date</th>\n",
       "      <th>Time</th>\n",
       "      <th>DateTime</th>\n",
       "      <th>System Setting</th>\n",
       "      <th>System Mode</th>\n",
       "      <th>Calendar Event</th>\n",
       "      <th>Program Mode</th>\n",
       "      <th>Cool Set Temp (C)</th>\n",
       "      <th>Heat Set Temp (C)</th>\n",
       "      <th>Current Temp (C)</th>\n",
       "      <th>...</th>\n",
       "      <th>Thermostat Humidity (%RH)</th>\n",
       "      <th>Thermostat Motion</th>\n",
       "      <th>Bedroom (C)</th>\n",
       "      <th>Bedroom2</th>\n",
       "      <th>3rd floor landing (C)</th>\n",
       "      <th>3rd floor landing2</th>\n",
       "      <th>3rd floor room (C)</th>\n",
       "      <th>3rd floor room2</th>\n",
       "      <th>Basement (C)</th>\n",
       "      <th>Basement2</th>\n",
       "    </tr>\n",
       "  </thead>\n",
       "  <tbody>\n",
       "    <tr>\n",
       "      <th>0</th>\n",
       "      <td>2020-12-10</td>\n",
       "      <td>12:50:00</td>\n",
       "      <td>2020/12/10 12:50:00</td>\n",
       "      <td>heat</td>\n",
       "      <td>heatOff</td>\n",
       "      <td>auto</td>\n",
       "      <td>Home</td>\n",
       "      <td>21.0</td>\n",
       "      <td>21.0</td>\n",
       "      <td>21.3</td>\n",
       "      <td>...</td>\n",
       "      <td>30.0</td>\n",
       "      <td>1.0</td>\n",
       "      <td>21.6</td>\n",
       "      <td>0.0</td>\n",
       "      <td>20.9</td>\n",
       "      <td>0.0</td>\n",
       "      <td>21.0</td>\n",
       "      <td>0.0</td>\n",
       "      <td>22.8</td>\n",
       "      <td>0.0</td>\n",
       "    </tr>\n",
       "    <tr>\n",
       "      <th>1</th>\n",
       "      <td>2020-12-10</td>\n",
       "      <td>12:55:00</td>\n",
       "      <td>2020/12/10 12:55:00</td>\n",
       "      <td>heat</td>\n",
       "      <td>heatOff</td>\n",
       "      <td>auto</td>\n",
       "      <td>Home</td>\n",
       "      <td>21.0</td>\n",
       "      <td>21.0</td>\n",
       "      <td>21.1</td>\n",
       "      <td>...</td>\n",
       "      <td>32.0</td>\n",
       "      <td>1.0</td>\n",
       "      <td>21.6</td>\n",
       "      <td>0.0</td>\n",
       "      <td>20.9</td>\n",
       "      <td>0.0</td>\n",
       "      <td>20.9</td>\n",
       "      <td>0.0</td>\n",
       "      <td>22.7</td>\n",
       "      <td>1.0</td>\n",
       "    </tr>\n",
       "    <tr>\n",
       "      <th>2</th>\n",
       "      <td>2020-12-10</td>\n",
       "      <td>13:00:00</td>\n",
       "      <td>2020/12/10 13:00:00</td>\n",
       "      <td>heat</td>\n",
       "      <td>heatOff</td>\n",
       "      <td>auto</td>\n",
       "      <td>Home</td>\n",
       "      <td>21.0</td>\n",
       "      <td>21.0</td>\n",
       "      <td>20.9</td>\n",
       "      <td>...</td>\n",
       "      <td>32.0</td>\n",
       "      <td>0.0</td>\n",
       "      <td>21.6</td>\n",
       "      <td>0.0</td>\n",
       "      <td>20.8</td>\n",
       "      <td>0.0</td>\n",
       "      <td>20.8</td>\n",
       "      <td>0.0</td>\n",
       "      <td>22.7</td>\n",
       "      <td>1.0</td>\n",
       "    </tr>\n",
       "    <tr>\n",
       "      <th>3</th>\n",
       "      <td>2020-12-10</td>\n",
       "      <td>13:05:00</td>\n",
       "      <td>2020/12/10 13:05:00</td>\n",
       "      <td>heat</td>\n",
       "      <td>heatOff</td>\n",
       "      <td>auto</td>\n",
       "      <td>Home</td>\n",
       "      <td>21.0</td>\n",
       "      <td>21.0</td>\n",
       "      <td>20.7</td>\n",
       "      <td>...</td>\n",
       "      <td>33.0</td>\n",
       "      <td>0.0</td>\n",
       "      <td>21.6</td>\n",
       "      <td>0.0</td>\n",
       "      <td>20.8</td>\n",
       "      <td>0.0</td>\n",
       "      <td>20.8</td>\n",
       "      <td>0.0</td>\n",
       "      <td>22.8</td>\n",
       "      <td>0.0</td>\n",
       "    </tr>\n",
       "    <tr>\n",
       "      <th>4</th>\n",
       "      <td>2020-12-10</td>\n",
       "      <td>13:10:00</td>\n",
       "      <td>2020/12/10 13:10:00</td>\n",
       "      <td>heat</td>\n",
       "      <td>heatStage1On</td>\n",
       "      <td>auto</td>\n",
       "      <td>Home</td>\n",
       "      <td>21.0</td>\n",
       "      <td>21.0</td>\n",
       "      <td>20.6</td>\n",
       "      <td>...</td>\n",
       "      <td>33.0</td>\n",
       "      <td>1.0</td>\n",
       "      <td>21.6</td>\n",
       "      <td>0.0</td>\n",
       "      <td>20.8</td>\n",
       "      <td>0.0</td>\n",
       "      <td>20.8</td>\n",
       "      <td>0.0</td>\n",
       "      <td>22.8</td>\n",
       "      <td>0.0</td>\n",
       "    </tr>\n",
       "    <tr>\n",
       "      <th>...</th>\n",
       "      <td>...</td>\n",
       "      <td>...</td>\n",
       "      <td>...</td>\n",
       "      <td>...</td>\n",
       "      <td>...</td>\n",
       "      <td>...</td>\n",
       "      <td>...</td>\n",
       "      <td>...</td>\n",
       "      <td>...</td>\n",
       "      <td>...</td>\n",
       "      <td>...</td>\n",
       "      <td>...</td>\n",
       "      <td>...</td>\n",
       "      <td>...</td>\n",
       "      <td>...</td>\n",
       "      <td>...</td>\n",
       "      <td>...</td>\n",
       "      <td>...</td>\n",
       "      <td>...</td>\n",
       "      <td>...</td>\n",
       "      <td>...</td>\n",
       "    </tr>\n",
       "    <tr>\n",
       "      <th>29671</th>\n",
       "      <td>2021-03-23</td>\n",
       "      <td>14:25:00</td>\n",
       "      <td>2021/3/23 14:25:00</td>\n",
       "      <td>heat</td>\n",
       "      <td>heatOff</td>\n",
       "      <td>NaN</td>\n",
       "      <td>Home</td>\n",
       "      <td>21.0</td>\n",
       "      <td>21.0</td>\n",
       "      <td>21.2</td>\n",
       "      <td>...</td>\n",
       "      <td>21.0</td>\n",
       "      <td>0.0</td>\n",
       "      <td>21.9</td>\n",
       "      <td>0.0</td>\n",
       "      <td>21.8</td>\n",
       "      <td>0.0</td>\n",
       "      <td>21.3</td>\n",
       "      <td>0.0</td>\n",
       "      <td>22.0</td>\n",
       "      <td>1.0</td>\n",
       "    </tr>\n",
       "    <tr>\n",
       "      <th>29672</th>\n",
       "      <td>2021-03-23</td>\n",
       "      <td>14:30:00</td>\n",
       "      <td>2021/3/23 14:30:00</td>\n",
       "      <td>heat</td>\n",
       "      <td>heatOff</td>\n",
       "      <td>NaN</td>\n",
       "      <td>Home</td>\n",
       "      <td>21.0</td>\n",
       "      <td>21.0</td>\n",
       "      <td>21.1</td>\n",
       "      <td>...</td>\n",
       "      <td>21.0</td>\n",
       "      <td>0.0</td>\n",
       "      <td>21.9</td>\n",
       "      <td>0.0</td>\n",
       "      <td>21.8</td>\n",
       "      <td>0.0</td>\n",
       "      <td>21.3</td>\n",
       "      <td>0.0</td>\n",
       "      <td>22.1</td>\n",
       "      <td>0.0</td>\n",
       "    </tr>\n",
       "    <tr>\n",
       "      <th>29673</th>\n",
       "      <td>2021-03-23</td>\n",
       "      <td>14:35:00</td>\n",
       "      <td>2021/3/23 14:35:00</td>\n",
       "      <td>heat</td>\n",
       "      <td>heatOff</td>\n",
       "      <td>NaN</td>\n",
       "      <td>Home</td>\n",
       "      <td>21.0</td>\n",
       "      <td>21.0</td>\n",
       "      <td>21.1</td>\n",
       "      <td>...</td>\n",
       "      <td>21.0</td>\n",
       "      <td>0.0</td>\n",
       "      <td>21.9</td>\n",
       "      <td>0.0</td>\n",
       "      <td>21.8</td>\n",
       "      <td>1.0</td>\n",
       "      <td>21.3</td>\n",
       "      <td>0.0</td>\n",
       "      <td>22.1</td>\n",
       "      <td>0.0</td>\n",
       "    </tr>\n",
       "    <tr>\n",
       "      <th>29674</th>\n",
       "      <td>2021-03-23</td>\n",
       "      <td>14:40:00</td>\n",
       "      <td>2021/3/23 14:40:00</td>\n",
       "      <td>heat</td>\n",
       "      <td>heatOff</td>\n",
       "      <td>NaN</td>\n",
       "      <td>Home</td>\n",
       "      <td>21.0</td>\n",
       "      <td>21.0</td>\n",
       "      <td>21.1</td>\n",
       "      <td>...</td>\n",
       "      <td>21.0</td>\n",
       "      <td>0.0</td>\n",
       "      <td>21.9</td>\n",
       "      <td>0.0</td>\n",
       "      <td>21.8</td>\n",
       "      <td>1.0</td>\n",
       "      <td>21.3</td>\n",
       "      <td>0.0</td>\n",
       "      <td>22.1</td>\n",
       "      <td>0.0</td>\n",
       "    </tr>\n",
       "    <tr>\n",
       "      <th>29675</th>\n",
       "      <td>2021-03-23</td>\n",
       "      <td>14:45:00</td>\n",
       "      <td>2021/3/23 14:45:00</td>\n",
       "      <td>heat</td>\n",
       "      <td>heatOff</td>\n",
       "      <td>NaN</td>\n",
       "      <td>Home</td>\n",
       "      <td>21.0</td>\n",
       "      <td>21.0</td>\n",
       "      <td>21.1</td>\n",
       "      <td>...</td>\n",
       "      <td>21.0</td>\n",
       "      <td>1.0</td>\n",
       "      <td>21.9</td>\n",
       "      <td>0.0</td>\n",
       "      <td>21.8</td>\n",
       "      <td>0.0</td>\n",
       "      <td>21.3</td>\n",
       "      <td>0.0</td>\n",
       "      <td>22.1</td>\n",
       "      <td>1.0</td>\n",
       "    </tr>\n",
       "  </tbody>\n",
       "</table>\n",
       "<p>29676 rows × 27 columns</p>\n",
       "</div>"
      ],
      "text/plain": [
       "            Date      Time             DateTime System Setting   System Mode  \\\n",
       "0     2020-12-10  12:50:00  2020/12/10 12:50:00           heat       heatOff   \n",
       "1     2020-12-10  12:55:00  2020/12/10 12:55:00           heat       heatOff   \n",
       "2     2020-12-10  13:00:00  2020/12/10 13:00:00           heat       heatOff   \n",
       "3     2020-12-10  13:05:00  2020/12/10 13:05:00           heat       heatOff   \n",
       "4     2020-12-10  13:10:00  2020/12/10 13:10:00           heat  heatStage1On   \n",
       "...          ...       ...                  ...            ...           ...   \n",
       "29671 2021-03-23  14:25:00   2021/3/23 14:25:00           heat       heatOff   \n",
       "29672 2021-03-23  14:30:00   2021/3/23 14:30:00           heat       heatOff   \n",
       "29673 2021-03-23  14:35:00   2021/3/23 14:35:00           heat       heatOff   \n",
       "29674 2021-03-23  14:40:00   2021/3/23 14:40:00           heat       heatOff   \n",
       "29675 2021-03-23  14:45:00   2021/3/23 14:45:00           heat       heatOff   \n",
       "\n",
       "      Calendar Event Program Mode  Cool Set Temp (C)  Heat Set Temp (C)  \\\n",
       "0               auto         Home               21.0               21.0   \n",
       "1               auto         Home               21.0               21.0   \n",
       "2               auto         Home               21.0               21.0   \n",
       "3               auto         Home               21.0               21.0   \n",
       "4               auto         Home               21.0               21.0   \n",
       "...              ...          ...                ...                ...   \n",
       "29671            NaN         Home               21.0               21.0   \n",
       "29672            NaN         Home               21.0               21.0   \n",
       "29673            NaN         Home               21.0               21.0   \n",
       "29674            NaN         Home               21.0               21.0   \n",
       "29675            NaN         Home               21.0               21.0   \n",
       "\n",
       "       Current Temp (C)  ...  Thermostat Humidity (%RH)  Thermostat Motion  \\\n",
       "0                  21.3  ...                       30.0                1.0   \n",
       "1                  21.1  ...                       32.0                1.0   \n",
       "2                  20.9  ...                       32.0                0.0   \n",
       "3                  20.7  ...                       33.0                0.0   \n",
       "4                  20.6  ...                       33.0                1.0   \n",
       "...                 ...  ...                        ...                ...   \n",
       "29671              21.2  ...                       21.0                0.0   \n",
       "29672              21.1  ...                       21.0                0.0   \n",
       "29673              21.1  ...                       21.0                0.0   \n",
       "29674              21.1  ...                       21.0                0.0   \n",
       "29675              21.1  ...                       21.0                1.0   \n",
       "\n",
       "       Bedroom (C)  Bedroom2  3rd floor landing (C)  3rd floor landing2  \\\n",
       "0             21.6       0.0                   20.9                 0.0   \n",
       "1             21.6       0.0                   20.9                 0.0   \n",
       "2             21.6       0.0                   20.8                 0.0   \n",
       "3             21.6       0.0                   20.8                 0.0   \n",
       "4             21.6       0.0                   20.8                 0.0   \n",
       "...            ...       ...                    ...                 ...   \n",
       "29671         21.9       0.0                   21.8                 0.0   \n",
       "29672         21.9       0.0                   21.8                 0.0   \n",
       "29673         21.9       0.0                   21.8                 1.0   \n",
       "29674         21.9       0.0                   21.8                 1.0   \n",
       "29675         21.9       0.0                   21.8                 0.0   \n",
       "\n",
       "       3rd floor room (C)  3rd floor room2  Basement (C)  Basement2  \n",
       "0                    21.0              0.0          22.8        0.0  \n",
       "1                    20.9              0.0          22.7        1.0  \n",
       "2                    20.8              0.0          22.7        1.0  \n",
       "3                    20.8              0.0          22.8        0.0  \n",
       "4                    20.8              0.0          22.8        0.0  \n",
       "...                   ...              ...           ...        ...  \n",
       "29671                21.3              0.0          22.0        1.0  \n",
       "29672                21.3              0.0          22.1        0.0  \n",
       "29673                21.3              0.0          22.1        0.0  \n",
       "29674                21.3              0.0          22.1        0.0  \n",
       "29675                21.3              0.0          22.1        1.0  \n",
       "\n",
       "[29676 rows x 27 columns]"
      ]
     },
     "execution_count": 253,
     "metadata": {},
     "output_type": "execute_result"
    }
   ],
   "source": [
    "house_data = pd.read_excel(\"Clean_Data.xlsx\")\n",
    "house_data"
   ]
  },
  {
   "cell_type": "code",
   "execution_count": 254,
   "metadata": {},
   "outputs": [
    {
     "data": {
      "text/plain": [
       "Index(['Date', 'Time', 'DateTime', 'System Setting', 'System Mode',\n",
       "       'Calendar Event', 'Program Mode', 'Cool Set Temp (C)',\n",
       "       'Heat Set Temp (C)', 'Current Temp (C)', 'Current Humidity (%RH)',\n",
       "       'Outdoor Temp (C)', 'Wind Speed (km/h)', 'Cool Stage 1 (sec)',\n",
       "       'Heat Stage 1 (sec)', 'Fan (sec)', 'Thermostat Temperature (C)',\n",
       "       'Thermostat Humidity (%RH)', 'Thermostat Motion', 'Bedroom (C)',\n",
       "       'Bedroom2', '3rd floor landing (C)', '3rd floor landing2',\n",
       "       '3rd floor room (C)', '3rd floor room2', 'Basement (C)', 'Basement2'],\n",
       "      dtype='object')"
      ]
     },
     "execution_count": 254,
     "metadata": {},
     "output_type": "execute_result"
    }
   ],
   "source": [
    "house_data.columns"
   ]
  },
  {
   "cell_type": "code",
   "execution_count": 255,
   "metadata": {},
   "outputs": [
    {
     "data": {
      "text/html": [
       "<div>\n",
       "<style scoped>\n",
       "    .dataframe tbody tr th:only-of-type {\n",
       "        vertical-align: middle;\n",
       "    }\n",
       "\n",
       "    .dataframe tbody tr th {\n",
       "        vertical-align: top;\n",
       "    }\n",
       "\n",
       "    .dataframe thead th {\n",
       "        text-align: right;\n",
       "    }\n",
       "</style>\n",
       "<table border=\"1\" class=\"dataframe\">\n",
       "  <thead>\n",
       "    <tr style=\"text-align: right;\">\n",
       "      <th></th>\n",
       "      <th>Heat Set Temp (C)</th>\n",
       "      <th>Current Temp (C)</th>\n",
       "      <th>Outdoor Temp (C)</th>\n",
       "      <th>Current Humidity (%RH)</th>\n",
       "      <th>Heat Stage 1 (sec)</th>\n",
       "    </tr>\n",
       "  </thead>\n",
       "  <tbody>\n",
       "    <tr>\n",
       "      <th>0</th>\n",
       "      <td>21.0</td>\n",
       "      <td>21.3</td>\n",
       "      <td>5.0</td>\n",
       "      <td>30.0</td>\n",
       "      <td>0.0</td>\n",
       "    </tr>\n",
       "    <tr>\n",
       "      <th>1</th>\n",
       "      <td>21.0</td>\n",
       "      <td>21.1</td>\n",
       "      <td>5.0</td>\n",
       "      <td>32.0</td>\n",
       "      <td>0.0</td>\n",
       "    </tr>\n",
       "    <tr>\n",
       "      <th>2</th>\n",
       "      <td>21.0</td>\n",
       "      <td>20.9</td>\n",
       "      <td>5.2</td>\n",
       "      <td>32.0</td>\n",
       "      <td>0.0</td>\n",
       "    </tr>\n",
       "    <tr>\n",
       "      <th>3</th>\n",
       "      <td>21.0</td>\n",
       "      <td>20.7</td>\n",
       "      <td>5.2</td>\n",
       "      <td>33.0</td>\n",
       "      <td>135.0</td>\n",
       "    </tr>\n",
       "    <tr>\n",
       "      <th>4</th>\n",
       "      <td>21.0</td>\n",
       "      <td>20.6</td>\n",
       "      <td>5.2</td>\n",
       "      <td>33.0</td>\n",
       "      <td>300.0</td>\n",
       "    </tr>\n",
       "    <tr>\n",
       "      <th>...</th>\n",
       "      <td>...</td>\n",
       "      <td>...</td>\n",
       "      <td>...</td>\n",
       "      <td>...</td>\n",
       "      <td>...</td>\n",
       "    </tr>\n",
       "    <tr>\n",
       "      <th>29671</th>\n",
       "      <td>21.0</td>\n",
       "      <td>21.2</td>\n",
       "      <td>15.2</td>\n",
       "      <td>21.0</td>\n",
       "      <td>0.0</td>\n",
       "    </tr>\n",
       "    <tr>\n",
       "      <th>29672</th>\n",
       "      <td>21.0</td>\n",
       "      <td>21.1</td>\n",
       "      <td>15.7</td>\n",
       "      <td>21.0</td>\n",
       "      <td>0.0</td>\n",
       "    </tr>\n",
       "    <tr>\n",
       "      <th>29673</th>\n",
       "      <td>21.0</td>\n",
       "      <td>21.1</td>\n",
       "      <td>15.7</td>\n",
       "      <td>21.0</td>\n",
       "      <td>0.0</td>\n",
       "    </tr>\n",
       "    <tr>\n",
       "      <th>29674</th>\n",
       "      <td>21.0</td>\n",
       "      <td>21.1</td>\n",
       "      <td>15.7</td>\n",
       "      <td>21.0</td>\n",
       "      <td>0.0</td>\n",
       "    </tr>\n",
       "    <tr>\n",
       "      <th>29675</th>\n",
       "      <td>21.0</td>\n",
       "      <td>21.1</td>\n",
       "      <td>15.7</td>\n",
       "      <td>21.0</td>\n",
       "      <td>0.0</td>\n",
       "    </tr>\n",
       "  </tbody>\n",
       "</table>\n",
       "<p>29676 rows × 5 columns</p>\n",
       "</div>"
      ],
      "text/plain": [
       "       Heat Set Temp (C)  Current Temp (C)  Outdoor Temp (C)  \\\n",
       "0                   21.0              21.3               5.0   \n",
       "1                   21.0              21.1               5.0   \n",
       "2                   21.0              20.9               5.2   \n",
       "3                   21.0              20.7               5.2   \n",
       "4                   21.0              20.6               5.2   \n",
       "...                  ...               ...               ...   \n",
       "29671               21.0              21.2              15.2   \n",
       "29672               21.0              21.1              15.7   \n",
       "29673               21.0              21.1              15.7   \n",
       "29674               21.0              21.1              15.7   \n",
       "29675               21.0              21.1              15.7   \n",
       "\n",
       "       Current Humidity (%RH)  Heat Stage 1 (sec)  \n",
       "0                        30.0                 0.0  \n",
       "1                        32.0                 0.0  \n",
       "2                        32.0                 0.0  \n",
       "3                        33.0               135.0  \n",
       "4                        33.0               300.0  \n",
       "...                       ...                 ...  \n",
       "29671                    21.0                 0.0  \n",
       "29672                    21.0                 0.0  \n",
       "29673                    21.0                 0.0  \n",
       "29674                    21.0                 0.0  \n",
       "29675                    21.0                 0.0  \n",
       "\n",
       "[29676 rows x 5 columns]"
      ]
     },
     "execution_count": 255,
     "metadata": {},
     "output_type": "execute_result"
    }
   ],
   "source": [
    "selected_house_data=house_data[[\"Heat Set Temp (C)\",\"Current Temp (C)\",\"Outdoor Temp (C)\",\"Current Humidity (%RH)\",\"Heat Stage 1 (sec)\"]]\n",
    "selected_house_data"
   ]
  },
  {
   "cell_type": "code",
   "execution_count": 256,
   "metadata": {},
   "outputs": [
    {
     "data": {
      "text/plain": [
       "array([15178,  7034,   422,   418,   407,   405,   405,   398,   394,\n",
       "         392,   389,   389,   388,   387,   385,   379,   375,   374,\n",
       "         369,   360,   360], dtype=int64)"
      ]
     },
     "execution_count": 256,
     "metadata": {},
     "output_type": "execute_result"
    }
   ],
   "source": [
    "selected_house_data[\"Heat Stage 1 (sec)\"].value_counts().values"
   ]
  },
  {
   "cell_type": "code",
   "execution_count": 257,
   "metadata": {},
   "outputs": [
    {
     "data": {
      "image/png": "[encoded data removed]",
      "text/plain": [
       "<Figure size 1440x1080 with 1 Axes>"
      ]
     },
     "metadata": {
      "needs_background": "light"
     },
     "output_type": "display_data"
    }
   ],
   "source": [
    "plt.figure(figsize = (20, 15))\n",
    "ax = sns.barplot(x = selected_house_data[\"Heat Stage 1 (sec)\"].value_counts().index, y = selected_house_data[\"Heat Stage 1 (sec)\"].value_counts(normalize = True).values)\n",
    "ax.set(xlabel = 'Target Variable Values', ylabel = 'Percentage Values')\n",
    "plt.savefig(\"1.png\")"
   ]
  },
  {
   "cell_type": "code",
   "execution_count": 258,
   "metadata": {},
   "outputs": [
    {
     "data": {
      "text/plain": [
       "[Text(0.5, 0, 'Target Variable Values')]"
      ]
     },
     "execution_count": 258,
     "metadata": {},
     "output_type": "execute_result"
    },
    {
     "data": {
      "image/png": "[encoded data removed]",
      "text/plain": [
       "<Figure size 1440x1080 with 1 Axes>"
      ]
     },
     "metadata": {
      "needs_background": "light"
     },
     "output_type": "display_data"
    }
   ],
   "source": [
    "plt.figure(figsize = (20, 15))\n",
    "ax = sns.distplot(selected_house_data[\"Heat Stage 1 (sec)\"])\n",
    "ax.set(xlabel = 'Target Variable Values')"
   ]
  },
  {
   "cell_type": "code",
   "execution_count": 259,
   "metadata": {},
   "outputs": [],
   "source": [
    "start, end = 0, len(house_data)\n",
    "\n",
    "cur = 0\n",
    "ls = list()\n",
    "step = 24\n",
    "while start <= end - step:\n",
    "    cur = start + step\n",
    "    \n",
    "    ls.append(list(range(start, cur)))\n",
    "    \n",
    "    start = cur"
   ]
  },
  {
   "cell_type": "code",
   "execution_count": 260,
   "metadata": {},
   "outputs": [],
   "source": [
    "\n",
    "df2 = pd.DataFrame({\"Heat Set Temp (C)\": [], \n",
    "                    \"Current Temp (C)\": [], \n",
    "                    \"Outdoor Temp (C)\" : [], \n",
    "                    \"Current Humidity (%RH)\" : [],\n",
    "                    \"Heat Stage 1 (sec)\" : []})\n",
    "for i in ls:\n",
    "    dummy, n = pd.DataFrame(selected_house_data.iloc[i].sum()).T, len(i)\n",
    "    dummy[[\"Heat Set Temp (C)\",\"Current Temp (C)\",\"Outdoor Temp (C)\",\"Current Humidity (%RH)\",\"Heat Stage 1 (sec)\"]] = dummy[[\"Heat Set Temp (C)\",\"Current Temp (C)\",\"Outdoor Temp (C)\",\"Current Humidity (%RH)\",\"Heat Stage 1 (sec)\"]] / n\n",
    "    df2 = df2.append(dummy, ignore_index = True)"
   ]
  },
  {
   "cell_type": "code",
   "execution_count": 261,
   "metadata": {},
   "outputs": [
    {
     "data": {
      "text/html": [
       "<div>\n",
       "<style scoped>\n",
       "    .dataframe tbody tr th:only-of-type {\n",
       "        vertical-align: middle;\n",
       "    }\n",
       "\n",
       "    .dataframe tbody tr th {\n",
       "        vertical-align: top;\n",
       "    }\n",
       "\n",
       "    .dataframe thead th {\n",
       "        text-align: right;\n",
       "    }\n",
       "</style>\n",
       "<table border=\"1\" class=\"dataframe\">\n",
       "  <thead>\n",
       "    <tr style=\"text-align: right;\">\n",
       "      <th></th>\n",
       "      <th>Heat Set Temp (C)</th>\n",
       "      <th>Current Temp (C)</th>\n",
       "      <th>Outdoor Temp (C)</th>\n",
       "      <th>Current Humidity (%RH)</th>\n",
       "      <th>Heat Stage 1 (sec)</th>\n",
       "    </tr>\n",
       "  </thead>\n",
       "  <tbody>\n",
       "    <tr>\n",
       "      <th>0</th>\n",
       "      <td>21.0</td>\n",
       "      <td>20.883333</td>\n",
       "      <td>5.275000</td>\n",
       "      <td>32.791667</td>\n",
       "      <td>102.500</td>\n",
       "    </tr>\n",
       "    <tr>\n",
       "      <th>1</th>\n",
       "      <td>21.0</td>\n",
       "      <td>20.887500</td>\n",
       "      <td>4.833333</td>\n",
       "      <td>33.041667</td>\n",
       "      <td>65.625</td>\n",
       "    </tr>\n",
       "    <tr>\n",
       "      <th>2</th>\n",
       "      <td>21.0</td>\n",
       "      <td>20.837500</td>\n",
       "      <td>3.600000</td>\n",
       "      <td>33.000000</td>\n",
       "      <td>126.875</td>\n",
       "    </tr>\n",
       "    <tr>\n",
       "      <th>3</th>\n",
       "      <td>21.0</td>\n",
       "      <td>20.887500</td>\n",
       "      <td>2.525000</td>\n",
       "      <td>33.000000</td>\n",
       "      <td>98.125</td>\n",
       "    </tr>\n",
       "    <tr>\n",
       "      <th>4</th>\n",
       "      <td>21.0</td>\n",
       "      <td>20.858333</td>\n",
       "      <td>2.025000</td>\n",
       "      <td>33.000000</td>\n",
       "      <td>125.000</td>\n",
       "    </tr>\n",
       "  </tbody>\n",
       "</table>\n",
       "</div>"
      ],
      "text/plain": [
       "   Heat Set Temp (C)  Current Temp (C)  Outdoor Temp (C)  \\\n",
       "0               21.0         20.883333          5.275000   \n",
       "1               21.0         20.887500          4.833333   \n",
       "2               21.0         20.837500          3.600000   \n",
       "3               21.0         20.887500          2.525000   \n",
       "4               21.0         20.858333          2.025000   \n",
       "\n",
       "   Current Humidity (%RH)  Heat Stage 1 (sec)  \n",
       "0               32.791667             102.500  \n",
       "1               33.041667              65.625  \n",
       "2               33.000000             126.875  \n",
       "3               33.000000              98.125  \n",
       "4               33.000000             125.000  "
      ]
     },
     "execution_count": 261,
     "metadata": {},
     "output_type": "execute_result"
    }
   ],
   "source": [
    "df2.head()"
   ]
  },
  {
   "cell_type": "code",
   "execution_count": 262,
   "metadata": {},
   "outputs": [
    {
     "data": {
      "image/png": "[encoded data removed]",
      "text/plain": [
       "<Figure size 1440x1080 with 1 Axes>"
      ]
     },
     "metadata": {
      "needs_background": "light"
     },
     "output_type": "display_data"
    }
   ],
   "source": [
    "plt.figure(figsize = (20, 15))\n",
    "ax = sns.distplot(df2[\"Heat Stage 1 (sec)\"])\n",
    "ax.set(xlabel = 'Target Variable Values')\n",
    "plt.savefig(\"2.png\")"
   ]
  },
  {
   "cell_type": "code",
   "execution_count": 263,
   "metadata": {},
   "outputs": [
    {
     "data": {
      "image/png": "[encoded data removed]",
      "text/plain": [
       "<Figure size 1152x864 with 2 Axes>"
      ]
     },
     "metadata": {
      "needs_background": "light"
     },
     "output_type": "display_data"
    }
   ],
   "source": [
    "plt.figure(figsize = (16,12))\n",
    "cor = df2.corr('pearson')\n",
    "sns.heatmap(cor, annot = True, cmap = plt.cm.Reds)\n",
    "plt.show()"
   ]
  },
  {
   "cell_type": "code",
   "execution_count": 264,
   "metadata": {},
   "outputs": [
    {
     "data": {
      "text/plain": [
       "<matplotlib.axes._subplots.AxesSubplot at 0x1ee91d00898>"
      ]
     },
     "execution_count": 264,
     "metadata": {},
     "output_type": "execute_result"
    },
    {
     "data": {
      "image/png": "[encoded data removed]",
      "text/plain": [
       "<Figure size 432x288 with 1 Axes>"
      ]
     },
     "metadata": {
      "needs_background": "light"
     },
     "output_type": "display_data"
    }
   ],
   "source": [
    "sns.boxplot(df2[\"Heat Stage 1 (sec)\"])"
   ]
  },
  {
   "cell_type": "code",
   "execution_count": 265,
   "metadata": {},
   "outputs": [],
   "source": [
    "Q1 = df2[\"Heat Stage 1 (sec)\"].quantile(0.25)\n",
    "Q3 = df2[\"Heat Stage 1 (sec)\"].quantile(0.75)\n",
    "IQR = Q3 - Q1"
   ]
  },
  {
   "cell_type": "code",
   "execution_count": 266,
   "metadata": {},
   "outputs": [
    {
     "data": {
      "text/plain": [
       "62"
      ]
     },
     "execution_count": 266,
     "metadata": {},
     "output_type": "execute_result"
    }
   ],
   "source": [
    "((df2[\"Heat Stage 1 (sec)\"] < (Q1 - 1.5 * IQR)) | (df2[\"Heat Stage 1 (sec)\"] > (Q3 + 1.5 * IQR))).sum()"
   ]
  },
  {
   "cell_type": "code",
   "execution_count": 267,
   "metadata": {},
   "outputs": [
    {
     "name": "stdout",
     "output_type": "stream",
     "text": [
      "[[0.09390402 0.1759342  1.44803823 2.14439466 0.13618049]\n",
      " [0.09390402 0.1839177  1.36498325 2.20775962 0.94978253]\n",
      " [0.09390402 0.08811566 1.13305614 2.19719879 0.40162424]\n",
      " ...\n",
      " [0.09390402 0.13601668 1.37751985 0.24235217 1.84612375]\n",
      " [0.09390402 0.39947229 2.36321008 0.5274945  2.39771835]\n",
      " [0.09390402 1.04613608 3.04332066 0.23179135 2.39771835]]\n"
     ]
    }
   ],
   "source": [
    "from scipy import stats\n",
    "import numpy as np\n",
    "\n",
    "z = np.abs(stats.zscore(df2))\n",
    "print(z)"
   ]
  },
  {
   "cell_type": "code",
   "execution_count": 268,
   "metadata": {},
   "outputs": [
    {
     "name": "stdout",
     "output_type": "stream",
     "text": [
      "(array([ 159,  159,  160,  160,  161,  161,  162,  162,  375,  375,  458,\n",
      "        458,  459,  459,  460,  460,  722,  792,  792,  825,  825, 1081,\n",
      "       1090, 1091, 1092, 1093, 1094, 1120, 1120, 1120, 1123, 1123, 1124,\n",
      "       1124, 1125, 1125, 1201, 1213, 1224, 1225, 1226, 1235], dtype=int64), array([0, 1, 0, 1, 0, 1, 0, 1, 0, 1, 0, 1, 0, 1, 0, 1, 4, 0, 1, 0, 1, 2,\n",
      "       2, 2, 2, 2, 2, 0, 1, 3, 0, 1, 0, 1, 0, 1, 2, 2, 2, 2, 2, 2],\n",
      "      dtype=int64))\n"
     ]
    }
   ],
   "source": [
    "threshold = 3\n",
    "print(np.where(z > 3))"
   ]
  },
  {
   "cell_type": "code",
   "execution_count": 269,
   "metadata": {},
   "outputs": [
    {
     "name": "stdout",
     "output_type": "stream",
     "text": [
      "Heat Set Temp (C)          0.000000\n",
      "Current Temp (C)           0.029167\n",
      "Outdoor Temp (C)           6.808333\n",
      "Current Humidity (%RH)     7.000000\n",
      "Heat Stage 1 (sec)        48.750000\n",
      "dtype: float64\n"
     ]
    }
   ],
   "source": [
    "Q1 = df2.quantile(0.25)\n",
    "Q3 = df2.quantile(0.75)\n",
    "IQR = Q3 - Q1\n",
    "print(IQR)"
   ]
  },
  {
   "cell_type": "code",
   "execution_count": 270,
   "metadata": {},
   "outputs": [],
   "source": [
    "df2_o = df2[(z < 3).all(axis=1)]"
   ]
  },
  {
   "cell_type": "code",
   "execution_count": 271,
   "metadata": {},
   "outputs": [
    {
     "data": {
      "text/plain": [
       "(1209, 5)"
      ]
     },
     "execution_count": 271,
     "metadata": {},
     "output_type": "execute_result"
    }
   ],
   "source": [
    "df2_o.shape"
   ]
  },
  {
   "cell_type": "code",
   "execution_count": 272,
   "metadata": {},
   "outputs": [
    {
     "data": {
      "text/plain": [
       "(1085, 5)"
      ]
     },
     "execution_count": 272,
     "metadata": {},
     "output_type": "execute_result"
    }
   ],
   "source": [
    "df2_out = df2[~((df2 < (Q1 - 1.5 * IQR)) | (df2 > (Q3 + 1.5 * IQR))).any(axis = 1)]\n",
    "df2_out.shape"
   ]
  },
  {
   "cell_type": "code",
   "execution_count": 273,
   "metadata": {},
   "outputs": [],
   "source": [
    "from sklearn import datasets, preprocessing\n",
    "from sklearn.model_selection import train_test_split\n"
   ]
  },
  {
   "cell_type": "code",
   "execution_count": 274,
   "metadata": {},
   "outputs": [
    {
     "data": {
      "image/png": "[encoded data removed]",
      "text/plain": [
       "<Figure size 432x288 with 1 Axes>"
      ]
     },
     "metadata": {
      "needs_background": "light"
     },
     "output_type": "display_data"
    }
   ],
   "source": [
    "sns.distplot(df2_o[\"Heat Stage 1 (sec)\"])\n",
    "plt.savefig(\"3.png\")"
   ]
  },
  {
   "cell_type": "code",
   "execution_count": 275,
   "metadata": {},
   "outputs": [
    {
     "data": {
      "image/png": "[encoded data removed]",
      "text/plain": [
       "<Figure size 432x288 with 1 Axes>"
      ]
     },
     "metadata": {
      "needs_background": "light"
     },
     "output_type": "display_data"
    }
   ],
   "source": [
    "ax = sns.distplot(df2_out[\"Heat Stage 1 (sec)\"])\n",
    "ax.set(xlabel = 'Target Variable Values')\n",
    "plt.savefig(\"4.png\")"
   ]
  },
  {
   "cell_type": "code",
   "execution_count": 276,
   "metadata": {},
   "outputs": [],
   "source": [
    "from sklearn.preprocessing import StandardScaler\n",
    "from sklearn.model_selection import train_test_split\n",
    "from sklearn.metrics import accuracy_score,confusion_matrix\n",
    "import tensorflow as tf\n",
    "from tensorflow.python.keras.layers import Dense, Dropout, LSTM\n",
    "from tensorflow.python.keras import Sequential\n",
    "from tensorflow.keras.utils import to_categorical\n",
    "from sklearn.preprocessing import OrdinalEncoder"
   ]
  },
  {
   "cell_type": "code",
   "execution_count": 277,
   "metadata": {},
   "outputs": [
    {
     "data": {
      "text/html": [
       "<div>\n",
       "<style scoped>\n",
       "    .dataframe tbody tr th:only-of-type {\n",
       "        vertical-align: middle;\n",
       "    }\n",
       "\n",
       "    .dataframe tbody tr th {\n",
       "        vertical-align: top;\n",
       "    }\n",
       "\n",
       "    .dataframe thead th {\n",
       "        text-align: right;\n",
       "    }\n",
       "</style>\n",
       "<table border=\"1\" class=\"dataframe\">\n",
       "  <thead>\n",
       "    <tr style=\"text-align: right;\">\n",
       "      <th></th>\n",
       "      <th>Heat Set Temp (C)</th>\n",
       "      <th>Current Temp (C)</th>\n",
       "      <th>Outdoor Temp (C)</th>\n",
       "      <th>Current Humidity (%RH)</th>\n",
       "      <th>Heat Stage 1 (sec)</th>\n",
       "    </tr>\n",
       "  </thead>\n",
       "  <tbody>\n",
       "    <tr>\n",
       "      <th>2</th>\n",
       "      <td>21.0</td>\n",
       "      <td>20.837500</td>\n",
       "      <td>3.600000</td>\n",
       "      <td>33.000000</td>\n",
       "      <td>126.875</td>\n",
       "    </tr>\n",
       "    <tr>\n",
       "      <th>4</th>\n",
       "      <td>21.0</td>\n",
       "      <td>20.858333</td>\n",
       "      <td>2.025000</td>\n",
       "      <td>33.000000</td>\n",
       "      <td>125.000</td>\n",
       "    </tr>\n",
       "    <tr>\n",
       "      <th>5</th>\n",
       "      <td>21.0</td>\n",
       "      <td>20.833333</td>\n",
       "      <td>1.408333</td>\n",
       "      <td>32.541667</td>\n",
       "      <td>114.375</td>\n",
       "    </tr>\n",
       "    <tr>\n",
       "      <th>6</th>\n",
       "      <td>21.0</td>\n",
       "      <td>20.862500</td>\n",
       "      <td>0.975000</td>\n",
       "      <td>32.291667</td>\n",
       "      <td>99.375</td>\n",
       "    </tr>\n",
       "    <tr>\n",
       "      <th>7</th>\n",
       "      <td>21.0</td>\n",
       "      <td>20.837500</td>\n",
       "      <td>0.600000</td>\n",
       "      <td>32.333333</td>\n",
       "      <td>118.125</td>\n",
       "    </tr>\n",
       "    <tr>\n",
       "      <th>...</th>\n",
       "      <td>...</td>\n",
       "      <td>...</td>\n",
       "      <td>...</td>\n",
       "      <td>...</td>\n",
       "      <td>...</td>\n",
       "    </tr>\n",
       "    <tr>\n",
       "      <th>1229</th>\n",
       "      <td>21.0</td>\n",
       "      <td>20.854167</td>\n",
       "      <td>6.666667</td>\n",
       "      <td>22.291667</td>\n",
       "      <td>46.250</td>\n",
       "    </tr>\n",
       "    <tr>\n",
       "      <th>1230</th>\n",
       "      <td>21.0</td>\n",
       "      <td>20.829167</td>\n",
       "      <td>6.100000</td>\n",
       "      <td>22.916667</td>\n",
       "      <td>73.750</td>\n",
       "    </tr>\n",
       "    <tr>\n",
       "      <th>1231</th>\n",
       "      <td>21.0</td>\n",
       "      <td>20.820833</td>\n",
       "      <td>4.816667</td>\n",
       "      <td>23.458333</td>\n",
       "      <td>93.750</td>\n",
       "    </tr>\n",
       "    <tr>\n",
       "      <th>1232</th>\n",
       "      <td>21.0</td>\n",
       "      <td>20.850000</td>\n",
       "      <td>3.450000</td>\n",
       "      <td>23.208333</td>\n",
       "      <td>90.625</td>\n",
       "    </tr>\n",
       "    <tr>\n",
       "      <th>1233</th>\n",
       "      <td>21.0</td>\n",
       "      <td>20.862500</td>\n",
       "      <td>4.900000</td>\n",
       "      <td>23.375000</td>\n",
       "      <td>25.000</td>\n",
       "    </tr>\n",
       "  </tbody>\n",
       "</table>\n",
       "<p>1085 rows × 5 columns</p>\n",
       "</div>"
      ],
      "text/plain": [
       "      Heat Set Temp (C)  Current Temp (C)  Outdoor Temp (C)  \\\n",
       "2                  21.0         20.837500          3.600000   \n",
       "4                  21.0         20.858333          2.025000   \n",
       "5                  21.0         20.833333          1.408333   \n",
       "6                  21.0         20.862500          0.975000   \n",
       "7                  21.0         20.837500          0.600000   \n",
       "...                 ...               ...               ...   \n",
       "1229               21.0         20.854167          6.666667   \n",
       "1230               21.0         20.829167          6.100000   \n",
       "1231               21.0         20.820833          4.816667   \n",
       "1232               21.0         20.850000          3.450000   \n",
       "1233               21.0         20.862500          4.900000   \n",
       "\n",
       "      Current Humidity (%RH)  Heat Stage 1 (sec)  \n",
       "2                  33.000000             126.875  \n",
       "4                  33.000000             125.000  \n",
       "5                  32.541667             114.375  \n",
       "6                  32.291667              99.375  \n",
       "7                  32.333333             118.125  \n",
       "...                      ...                 ...  \n",
       "1229               22.291667              46.250  \n",
       "1230               22.916667              73.750  \n",
       "1231               23.458333              93.750  \n",
       "1232               23.208333              90.625  \n",
       "1233               23.375000              25.000  \n",
       "\n",
       "[1085 rows x 5 columns]"
      ]
     },
     "execution_count": 277,
     "metadata": {},
     "output_type": "execute_result"
    }
   ],
   "source": [
    "df2_out"
   ]
  },
  {
   "cell_type": "code",
   "execution_count": 278,
   "metadata": {},
   "outputs": [],
   "source": [
    "X = df2_out[[\"Heat Set Temp (C)\",\"Current Temp (C)\",\"Outdoor Temp (C)\",\"Current Humidity (%RH)\"]]\n",
    "y = df2_out[[\"Heat Stage 1 (sec)\"]]"
   ]
  },
  {
   "cell_type": "code",
   "execution_count": 279,
   "metadata": {},
   "outputs": [],
   "source": [
    "X_train, X_test, y_train, y_test = train_test_split(X, y, test_size = 0.2)"
   ]
  },
  {
   "cell_type": "code",
   "execution_count": 280,
   "metadata": {},
   "outputs": [
    {
     "name": "stdout",
     "output_type": "stream",
     "text": [
      "Epoch 1/200\n",
      "55/55 [==============================] - 1s 9ms/step - loss: 116.6908 - mse: 14834.3926 - val_loss: 119.8359 - val_mse: 15401.7158\n",
      "Epoch 2/200\n",
      "55/55 [==============================] - 0s 3ms/step - loss: 115.1645 - mse: 14479.3506 - val_loss: 116.5197 - val_mse: 14615.5615\n",
      "Epoch 3/200\n",
      "55/55 [==============================] - 0s 3ms/step - loss: 108.7433 - mse: 13041.3721 - val_loss: 105.7545 - val_mse: 12212.2188\n",
      "Epoch 4/200\n",
      "55/55 [==============================] - 0s 3ms/step - loss: 92.5686 - mse: 9799.8418 - val_loss: 82.6631 - val_mse: 7814.0317\n",
      "Epoch 5/200\n",
      "55/55 [==============================] - 0s 2ms/step - loss: 63.3382 - mse: 5093.9424 - val_loss: 46.1726 - val_mse: 2847.6665\n",
      "Epoch 6/200\n",
      "55/55 [==============================] - 0s 3ms/step - loss: 31.9310 - mse: 1564.0844 - val_loss: 23.8197 - val_mse: 933.6038\n",
      "Epoch 7/200\n",
      "55/55 [==============================] - 0s 3ms/step - loss: 24.7914 - mse: 1009.5430 - val_loss: 22.8730 - val_mse: 859.3856\n",
      "Epoch 8/200\n",
      "55/55 [==============================] - 0s 3ms/step - loss: 24.1372 - mse: 964.4509 - val_loss: 22.2272 - val_mse: 821.1891\n",
      "Epoch 9/200\n",
      "55/55 [==============================] - 0s 3ms/step - loss: 23.5237 - mse: 923.4750 - val_loss: 21.5684 - val_mse: 779.9444\n",
      "Epoch 10/200\n",
      "55/55 [==============================] - 0s 3ms/step - loss: 22.9561 - mse: 886.8086 - val_loss: 20.9690 - val_mse: 742.4987\n",
      "Epoch 11/200\n",
      "55/55 [==============================] - 0s 3ms/step - loss: 22.4607 - mse: 854.9919 - val_loss: 20.4236 - val_mse: 708.9051\n",
      "Epoch 12/200\n",
      "55/55 [==============================] - 0s 3ms/step - loss: 21.9590 - mse: 824.6799 - val_loss: 19.9017 - val_mse: 678.9795\n",
      "Epoch 13/200\n",
      "55/55 [==============================] - 0s 3ms/step - loss: 21.4334 - mse: 793.8536 - val_loss: 19.3917 - val_mse: 650.5290\n",
      "Epoch 14/200\n",
      "55/55 [==============================] - 0s 3ms/step - loss: 20.9661 - mse: 769.4470 - val_loss: 18.8780 - val_mse: 624.8875\n",
      "Epoch 15/200\n",
      "55/55 [==============================] - 0s 3ms/step - loss: 20.4520 - mse: 738.1747 - val_loss: 18.4673 - val_mse: 601.1429\n",
      "Epoch 16/200\n",
      "55/55 [==============================] - 0s 3ms/step - loss: 20.0718 - mse: 722.9268 - val_loss: 17.9627 - val_mse: 577.6489\n",
      "Epoch 17/200\n",
      "55/55 [==============================] - 0s 3ms/step - loss: 19.5840 - mse: 698.4026 - val_loss: 17.4996 - val_mse: 556.9513\n",
      "Epoch 18/200\n",
      "55/55 [==============================] - 0s 4ms/step - loss: 19.2016 - mse: 677.6409 - val_loss: 17.0854 - val_mse: 538.8398\n",
      "Epoch 19/200\n",
      "55/55 [==============================] - 0s 3ms/step - loss: 18.8192 - mse: 662.0530 - val_loss: 16.7663 - val_mse: 523.2750\n",
      "Epoch 20/200\n",
      "55/55 [==============================] - 0s 3ms/step - loss: 18.5782 - mse: 650.9510 - val_loss: 16.3640 - val_mse: 511.1118\n",
      "Epoch 21/200\n",
      "55/55 [==============================] - 0s 3ms/step - loss: 18.2940 - mse: 632.6886 - val_loss: 15.9746 - val_mse: 503.8935\n",
      "Epoch 22/200\n",
      "55/55 [==============================] - 0s 3ms/step - loss: 18.0161 - mse: 620.0768 - val_loss: 15.6450 - val_mse: 495.7836\n",
      "Epoch 23/200\n",
      "55/55 [==============================] - 0s 3ms/step - loss: 17.8366 - mse: 616.5829 - val_loss: 15.3772 - val_mse: 488.9778\n",
      "Epoch 24/200\n",
      "55/55 [==============================] - 0s 3ms/step - loss: 17.6073 - mse: 612.6375 - val_loss: 15.1548 - val_mse: 483.3501\n",
      "Epoch 25/200\n",
      "55/55 [==============================] - 0s 3ms/step - loss: 17.4198 - mse: 600.7363 - val_loss: 14.9833 - val_mse: 480.0576\n",
      "Epoch 26/200\n",
      "55/55 [==============================] - 0s 3ms/step - loss: 17.2974 - mse: 595.1135 - val_loss: 14.9542 - val_mse: 470.9555\n",
      "Epoch 27/200\n",
      "55/55 [==============================] - 0s 3ms/step - loss: 17.2155 - mse: 592.1107 - val_loss: 14.8411 - val_mse: 471.6277\n",
      "Epoch 28/200\n",
      "55/55 [==============================] - 0s 3ms/step - loss: 17.1803 - mse: 590.2668 - val_loss: 14.7503 - val_mse: 474.8438\n",
      "Epoch 29/200\n",
      "55/55 [==============================] - 0s 3ms/step - loss: 17.1142 - mse: 587.5969 - val_loss: 14.7539 - val_mse: 468.3625\n",
      "Epoch 30/200\n",
      "55/55 [==============================] - 0s 3ms/step - loss: 17.0808 - mse: 595.9160 - val_loss: 14.7368 - val_mse: 467.4009\n",
      "Epoch 31/200\n",
      "55/55 [==============================] - 0s 4ms/step - loss: 17.0361 - mse: 588.3598 - val_loss: 14.6669 - val_mse: 482.0909\n",
      "Epoch 32/200\n",
      "55/55 [==============================] - 0s 3ms/step - loss: 17.0836 - mse: 598.0515 - val_loss: 14.6457 - val_mse: 470.0617\n",
      "Epoch 33/200\n",
      "55/55 [==============================] - 0s 3ms/step - loss: 16.9895 - mse: 586.7603 - val_loss: 14.6087 - val_mse: 472.7236\n",
      "Epoch 34/200\n",
      "55/55 [==============================] - 0s 3ms/step - loss: 16.9810 - mse: 585.0175 - val_loss: 14.5875 - val_mse: 475.8037\n",
      "Epoch 35/200\n",
      "55/55 [==============================] - 0s 3ms/step - loss: 16.9936 - mse: 585.6244 - val_loss: 14.6014 - val_mse: 481.0950\n",
      "Epoch 36/200\n",
      "55/55 [==============================] - 0s 3ms/step - loss: 16.9734 - mse: 591.1485 - val_loss: 14.5771 - val_mse: 473.2775\n",
      "Epoch 37/200\n",
      "55/55 [==============================] - 0s 3ms/step - loss: 16.9412 - mse: 585.6958 - val_loss: 14.5691 - val_mse: 474.2564\n",
      "Epoch 38/200\n",
      "55/55 [==============================] - 0s 2ms/step - loss: 16.9497 - mse: 584.1313 - val_loss: 14.6147 - val_mse: 485.3097\n",
      "Epoch 39/200\n",
      "55/55 [==============================] - 0s 2ms/step - loss: 16.9518 - mse: 588.1021 - val_loss: 14.5701 - val_mse: 473.2542\n",
      "Epoch 40/200\n",
      "55/55 [==============================] - 0s 3ms/step - loss: 16.9771 - mse: 590.4198 - val_loss: 14.5598 - val_mse: 474.9960\n",
      "Epoch 41/200\n",
      "55/55 [==============================] - 0s 3ms/step - loss: 16.9656 - mse: 583.9553 - val_loss: 14.5559 - val_mse: 476.8706\n",
      "Epoch 42/200\n",
      "55/55 [==============================] - 0s 3ms/step - loss: 16.9736 - mse: 587.9230 - val_loss: 14.5745 - val_mse: 473.0347\n",
      "Epoch 43/200\n",
      "55/55 [==============================] - 0s 3ms/step - loss: 16.9614 - mse: 592.0610 - val_loss: 14.5754 - val_mse: 472.9643\n",
      "Epoch 44/200\n",
      "55/55 [==============================] - 0s 2ms/step - loss: 16.9691 - mse: 586.0648 - val_loss: 14.5548 - val_mse: 476.2384\n",
      "Epoch 45/200\n",
      "55/55 [==============================] - 0s 2ms/step - loss: 16.9145 - mse: 581.0168 - val_loss: 14.6603 - val_mse: 491.2489\n",
      "Epoch 46/200\n",
      "55/55 [==============================] - 0s 3ms/step - loss: 16.9788 - mse: 590.9136 - val_loss: 14.6718 - val_mse: 492.7996\n",
      "Epoch 47/200\n",
      "55/55 [==============================] - 0s 3ms/step - loss: 16.9365 - mse: 587.8057 - val_loss: 14.5474 - val_mse: 478.4309\n",
      "Epoch 48/200\n",
      "55/55 [==============================] - 0s 2ms/step - loss: 16.9195 - mse: 583.3753 - val_loss: 14.5705 - val_mse: 483.6749\n",
      "Epoch 49/200\n",
      "55/55 [==============================] - 0s 4ms/step - loss: 16.9438 - mse: 587.6234 - val_loss: 14.5649 - val_mse: 474.6988\n",
      "Epoch 50/200\n",
      "55/55 [==============================] - 0s 3ms/step - loss: 16.9480 - mse: 581.9892 - val_loss: 14.5512 - val_mse: 480.8941\n",
      "Epoch 51/200\n",
      "55/55 [==============================] - 0s 2ms/step - loss: 16.9366 - mse: 585.8163 - val_loss: 14.5597 - val_mse: 481.9432\n",
      "Epoch 52/200\n",
      "55/55 [==============================] - 0s 3ms/step - loss: 16.9121 - mse: 582.5137 - val_loss: 14.8465 - val_mse: 505.5150\n",
      "Epoch 53/200\n",
      "55/55 [==============================] - 0s 2ms/step - loss: 16.9338 - mse: 595.0988 - val_loss: 14.5991 - val_mse: 471.4399\n",
      "Epoch 54/200\n",
      "55/55 [==============================] - 0s 2ms/step - loss: 16.9753 - mse: 583.1861 - val_loss: 14.6953 - val_mse: 494.2961\n",
      "Epoch 55/200\n",
      "55/55 [==============================] - 0s 3ms/step - loss: 16.9292 - mse: 588.8701 - val_loss: 14.6404 - val_mse: 469.8396\n",
      "Epoch 56/200\n",
      "55/55 [==============================] - 0s 2ms/step - loss: 16.9336 - mse: 585.0911 - val_loss: 14.5623 - val_mse: 482.5482\n",
      "Epoch 57/200\n",
      "55/55 [==============================] - 0s 3ms/step - loss: 16.9388 - mse: 587.0276 - val_loss: 14.5600 - val_mse: 474.6970\n",
      "Epoch 58/200\n",
      "55/55 [==============================] - 0s 2ms/step - loss: 16.9140 - mse: 581.6515 - val_loss: 14.8228 - val_mse: 504.2791\n",
      "Epoch 59/200\n",
      "55/55 [==============================] - 0s 3ms/step - loss: 16.9587 - mse: 587.3617 - val_loss: 14.5453 - val_mse: 480.2576\n",
      "Epoch 60/200\n",
      "55/55 [==============================] - 0s 2ms/step - loss: 16.9233 - mse: 590.0787 - val_loss: 14.6297 - val_mse: 470.6958\n",
      "Epoch 61/200\n",
      "55/55 [==============================] - 0s 3ms/step - loss: 16.9289 - mse: 587.1746 - val_loss: 14.5718 - val_mse: 473.5783\n",
      "Epoch 62/200\n",
      "55/55 [==============================] - 0s 3ms/step - loss: 17.0548 - mse: 583.4065 - val_loss: 14.5503 - val_mse: 476.0371\n",
      "Epoch 63/200\n",
      "55/55 [==============================] - 0s 3ms/step - loss: 16.9398 - mse: 587.7493 - val_loss: 14.5538 - val_mse: 475.5260\n",
      "Epoch 64/200\n",
      "55/55 [==============================] - 0s 3ms/step - loss: 16.9301 - mse: 585.8285 - val_loss: 14.5612 - val_mse: 474.6852\n",
      "Epoch 65/200\n",
      "55/55 [==============================] - 0s 4ms/step - loss: 16.9362 - mse: 584.3316 - val_loss: 14.5456 - val_mse: 480.6434\n",
      "Epoch 66/200\n",
      "55/55 [==============================] - 0s 3ms/step - loss: 16.9507 - mse: 582.6269 - val_loss: 14.5593 - val_mse: 482.9135\n",
      "Epoch 67/200\n",
      "55/55 [==============================] - 0s 3ms/step - loss: 16.9526 - mse: 588.4871 - val_loss: 14.5521 - val_mse: 476.4205\n",
      "Epoch 68/200\n",
      "55/55 [==============================] - 0s 3ms/step - loss: 16.9171 - mse: 584.0685 - val_loss: 14.5851 - val_mse: 486.0121\n",
      "Epoch 69/200\n",
      "55/55 [==============================] - 0s 4ms/step - loss: 16.9279 - mse: 588.2423 - val_loss: 14.5505 - val_mse: 476.5730\n",
      "Epoch 70/200\n",
      "55/55 [==============================] - 0s 4ms/step - loss: 16.9127 - mse: 588.3713 - val_loss: 14.6127 - val_mse: 471.4082\n",
      "Epoch 71/200\n",
      "55/55 [==============================] - 0s 4ms/step - loss: 16.9395 - mse: 584.7097 - val_loss: 14.5494 - val_mse: 476.1886\n",
      "Epoch 72/200\n",
      "55/55 [==============================] - 0s 2ms/step - loss: 17.0072 - mse: 591.1117 - val_loss: 14.5421 - val_mse: 479.3197\n",
      "Epoch 73/200\n",
      "55/55 [==============================] - 0s 4ms/step - loss: 16.9816 - mse: 592.9103 - val_loss: 14.6241 - val_mse: 471.2248\n",
      "Epoch 74/200\n",
      "55/55 [==============================] - 0s 3ms/step - loss: 16.9130 - mse: 588.3381 - val_loss: 14.5458 - val_mse: 477.7201\n",
      "Epoch 75/200\n",
      "55/55 [==============================] - 0s 3ms/step - loss: 16.9423 - mse: 584.1493 - val_loss: 14.5472 - val_mse: 477.0146\n",
      "Epoch 76/200\n",
      "55/55 [==============================] - 0s 3ms/step - loss: 16.9098 - mse: 588.5849 - val_loss: 14.5922 - val_mse: 472.7581\n",
      "Epoch 77/200\n",
      "55/55 [==============================] - 0s 6ms/step - loss: 16.9646 - mse: 585.7079 - val_loss: 14.5438 - val_mse: 477.5593\n",
      "Epoch 78/200\n",
      "55/55 [==============================] - 0s 3ms/step - loss: 16.9208 - mse: 584.2528 - val_loss: 14.5401 - val_mse: 478.0608\n",
      "Epoch 79/200\n",
      "55/55 [==============================] - 0s 4ms/step - loss: 16.9545 - mse: 592.6427 - val_loss: 14.5675 - val_mse: 484.4428\n",
      "Epoch 80/200\n",
      "55/55 [==============================] - 0s 3ms/step - loss: 16.9344 - mse: 586.3705 - val_loss: 14.5451 - val_mse: 477.2654\n",
      "Epoch 81/200\n",
      "55/55 [==============================] - 0s 3ms/step - loss: 16.9316 - mse: 584.7944 - val_loss: 14.5405 - val_mse: 478.3365\n",
      "Epoch 82/200\n",
      "55/55 [==============================] - 0s 3ms/step - loss: 16.9515 - mse: 590.6786 - val_loss: 14.5411 - val_mse: 478.1380\n",
      "Epoch 83/200\n",
      "55/55 [==============================] - 0s 3ms/step - loss: 16.9432 - mse: 587.0716 - val_loss: 14.5494 - val_mse: 476.7995\n",
      "Epoch 84/200\n",
      "55/55 [==============================] - 0s 4ms/step - loss: 16.9285 - mse: 584.7048 - val_loss: 14.7198 - val_mse: 497.9319\n",
      "Epoch 85/200\n",
      "55/55 [==============================] - 0s 3ms/step - loss: 16.9604 - mse: 593.4059 - val_loss: 14.5447 - val_mse: 480.7699\n",
      "Epoch 86/200\n",
      "55/55 [==============================] - 0s 3ms/step - loss: 16.9236 - mse: 583.7538 - val_loss: 14.5509 - val_mse: 476.1593\n",
      "Epoch 87/200\n",
      "55/55 [==============================] - 0s 3ms/step - loss: 16.9820 - mse: 586.7083 - val_loss: 14.5417 - val_mse: 477.2236\n",
      "Epoch 88/200\n",
      "55/55 [==============================] - 0s 3ms/step - loss: 16.9449 - mse: 591.8229 - val_loss: 14.5533 - val_mse: 475.2512\n",
      "Epoch 89/200\n",
      "55/55 [==============================] - 0s 3ms/step - loss: 16.9361 - mse: 583.7915 - val_loss: 14.5386 - val_mse: 478.9169\n",
      "Epoch 90/200\n",
      "55/55 [==============================] - 0s 3ms/step - loss: 16.9690 - mse: 592.5514 - val_loss: 14.5557 - val_mse: 483.3231\n",
      "Epoch 91/200\n",
      "55/55 [==============================] - 0s 3ms/step - loss: 17.0432 - mse: 590.6525 - val_loss: 14.6201 - val_mse: 489.8650\n",
      "Epoch 92/200\n",
      "55/55 [==============================] - 0s 4ms/step - loss: 16.9617 - mse: 589.5920 - val_loss: 14.5509 - val_mse: 475.5207\n",
      "Epoch 93/200\n",
      "55/55 [==============================] - 0s 3ms/step - loss: 16.9138 - mse: 587.6551 - val_loss: 14.5480 - val_mse: 482.2828\n",
      "Epoch 94/200\n",
      "55/55 [==============================] - 0s 3ms/step - loss: 16.9727 - mse: 583.6435 - val_loss: 14.5391 - val_mse: 480.1100\n",
      "Epoch 95/200\n",
      "55/55 [==============================] - 0s 4ms/step - loss: 16.9414 - mse: 585.0124 - val_loss: 14.5830 - val_mse: 486.5902\n",
      "Epoch 96/200\n",
      "55/55 [==============================] - 0s 3ms/step - loss: 16.9379 - mse: 587.5869 - val_loss: 14.5593 - val_mse: 484.3368\n",
      "Epoch 97/200\n",
      "55/55 [==============================] - 0s 3ms/step - loss: 16.9413 - mse: 587.6581 - val_loss: 14.6462 - val_mse: 492.4086\n",
      "Epoch 98/200\n",
      "55/55 [==============================] - 0s 3ms/step - loss: 16.9145 - mse: 587.4583 - val_loss: 14.5429 - val_mse: 480.4720\n",
      "Epoch 99/200\n",
      "55/55 [==============================] - 0s 2ms/step - loss: 16.9253 - mse: 590.7492 - val_loss: 14.6305 - val_mse: 470.5604\n",
      "Epoch 100/200\n",
      "55/55 [==============================] - 0s 3ms/step - loss: 16.9359 - mse: 587.3045 - val_loss: 14.5397 - val_mse: 480.0641\n",
      "Epoch 101/200\n",
      "55/55 [==============================] - 0s 3ms/step - loss: 16.9734 - mse: 585.3974 - val_loss: 14.6009 - val_mse: 471.9967\n",
      "Epoch 102/200\n",
      "55/55 [==============================] - 0s 3ms/step - loss: 16.9095 - mse: 589.0684 - val_loss: 14.5631 - val_mse: 474.3076\n",
      "Epoch 103/200\n",
      "55/55 [==============================] - 0s 3ms/step - loss: 16.9623 - mse: 583.4471 - val_loss: 14.5371 - val_mse: 479.3749\n",
      "Epoch 104/200\n",
      "55/55 [==============================] - 0s 3ms/step - loss: 16.9428 - mse: 587.9149 - val_loss: 14.6619 - val_mse: 493.8941\n",
      "Epoch 105/200\n",
      "55/55 [==============================] - 0s 5ms/step - loss: 16.9218 - mse: 586.9355 - val_loss: 14.5398 - val_mse: 480.6659\n",
      "Epoch 106/200\n",
      "55/55 [==============================] - 0s 4ms/step - loss: 16.9307 - mse: 588.3494 - val_loss: 14.5730 - val_mse: 486.1995\n",
      "Epoch 107/200\n",
      "55/55 [==============================] - 0s 5ms/step - loss: 16.9334 - mse: 592.5127 - val_loss: 14.5470 - val_mse: 475.9770\n",
      "Epoch 108/200\n",
      "55/55 [==============================] - 0s 5ms/step - loss: 16.9491 - mse: 581.5184 - val_loss: 14.5516 - val_mse: 475.3065\n",
      "Epoch 109/200\n",
      "55/55 [==============================] - 0s 5ms/step - loss: 16.9777 - mse: 601.3910 - val_loss: 14.5790 - val_mse: 472.8967\n",
      "Epoch 110/200\n",
      "55/55 [==============================] - 0s 5ms/step - loss: 16.9311 - mse: 590.1274 - val_loss: 14.6530 - val_mse: 469.9625\n",
      "Epoch 111/200\n",
      "55/55 [==============================] - 0s 4ms/step - loss: 16.9416 - mse: 582.0328 - val_loss: 14.5756 - val_mse: 485.8011\n",
      "Epoch 112/200\n",
      "55/55 [==============================] - 0s 5ms/step - loss: 16.9382 - mse: 588.2133 - val_loss: 14.5472 - val_mse: 482.7712\n",
      "Epoch 113/200\n",
      "55/55 [==============================] - 0s 5ms/step - loss: 16.9462 - mse: 589.9290 - val_loss: 14.5690 - val_mse: 485.5878\n",
      "Epoch 114/200\n",
      "55/55 [==============================] - 0s 5ms/step - loss: 16.9560 - mse: 593.1841 - val_loss: 14.6159 - val_mse: 471.5073\n",
      "Epoch 115/200\n",
      "55/55 [==============================] - 0s 5ms/step - loss: 16.8976 - mse: 583.3821 - val_loss: 14.6247 - val_mse: 491.0956\n",
      "Epoch 116/200\n",
      "55/55 [==============================] - ETA: 0s - loss: 17.2772 - mse: 613.82 - 0s 6ms/step - loss: 16.9371 - mse: 590.4191 - val_loss: 14.5472 - val_mse: 482.9079\n",
      "Epoch 117/200\n",
      "55/55 [==============================] - 0s 6ms/step - loss: 16.9585 - mse: 592.4575 - val_loss: 14.5656 - val_mse: 473.9863\n",
      "Epoch 118/200\n",
      "55/55 [==============================] - 0s 5ms/step - loss: 16.9343 - mse: 584.4255 - val_loss: 14.6001 - val_mse: 488.7452\n",
      "Epoch 119/200\n"
     ]
    },
    {
     "name": "stdout",
     "output_type": "stream",
     "text": [
      "55/55 [==============================] - ETA: 0s - loss: 16.5677 - mse: 550.43 - 0s 5ms/step - loss: 16.9404 - mse: 587.2402 - val_loss: 14.5380 - val_mse: 479.8558\n",
      "Epoch 120/200\n",
      "55/55 [==============================] - ETA: 0s - loss: 16.9163 - mse: 587.48 - 0s 7ms/step - loss: 16.9163 - mse: 587.4837 - val_loss: 14.5357 - val_mse: 479.2715\n",
      "Epoch 121/200\n",
      "55/55 [==============================] - 0s 7ms/step - loss: 16.9632 - mse: 589.3635 - val_loss: 14.5609 - val_mse: 474.2965\n",
      "Epoch 122/200\n",
      "55/55 [==============================] - 0s 7ms/step - loss: 16.9521 - mse: 589.4151 - val_loss: 14.6407 - val_mse: 470.3038\n",
      "Epoch 123/200\n",
      "55/55 [==============================] - ETA: 0s - loss: 16.6494 - mse: 551.83 - 0s 8ms/step - loss: 16.9356 - mse: 585.9324 - val_loss: 14.5355 - val_mse: 478.4329\n",
      "Epoch 124/200\n",
      "55/55 [==============================] - 0s 8ms/step - loss: 16.9357 - mse: 586.4454 - val_loss: 14.5398 - val_mse: 477.0411\n",
      "Epoch 125/200\n",
      "55/55 [==============================] - 0s 6ms/step - loss: 16.9264 - mse: 583.2455 - val_loss: 14.5355 - val_mse: 479.7038\n",
      "Epoch 126/200\n",
      "55/55 [==============================] - 0s 7ms/step - loss: 16.9224 - mse: 589.1021 - val_loss: 14.5640 - val_mse: 484.8477\n",
      "Epoch 127/200\n",
      "55/55 [==============================] - 0s 6ms/step - loss: 16.9190 - mse: 587.3542 - val_loss: 14.5406 - val_mse: 476.8196\n",
      "Epoch 128/200\n",
      "55/55 [==============================] - 0s 6ms/step - loss: 16.9567 - mse: 583.9100 - val_loss: 14.5345 - val_mse: 478.8728\n",
      "Epoch 129/200\n",
      "55/55 [==============================] - 0s 8ms/step - loss: 16.9493 - mse: 583.5662 - val_loss: 14.6779 - val_mse: 468.9052\n",
      "Epoch 130/200\n",
      "55/55 [==============================] - 0s 6ms/step - loss: 16.9403 - mse: 588.8201 - val_loss: 14.5395 - val_mse: 476.9611\n",
      "Epoch 131/200\n",
      "55/55 [==============================] - 1s 10ms/step - loss: 16.9589 - mse: 588.3505 - val_loss: 14.5370 - val_mse: 477.6515\n",
      "Epoch 132/200\n",
      "55/55 [==============================] - 1s 11ms/step - loss: 16.9128 - mse: 586.9207 - val_loss: 14.5569 - val_mse: 484.3695\n",
      "Epoch 133/200\n",
      "55/55 [==============================] - 0s 8ms/step - loss: 16.9203 - mse: 590.3873 - val_loss: 14.5873 - val_mse: 471.9948\n",
      "Epoch 134/200\n",
      "55/55 [==============================] - 0s 6ms/step - loss: 17.0309 - mse: 595.2541 - val_loss: 14.6361 - val_mse: 470.1938\n",
      "Epoch 135/200\n",
      "55/55 [==============================] - 0s 6ms/step - loss: 16.8982 - mse: 582.1814 - val_loss: 14.8832 - val_mse: 510.2991\n",
      "Epoch 136/200\n",
      "55/55 [==============================] - 0s 8ms/step - loss: 17.0143 - mse: 592.0677 - val_loss: 14.5352 - val_mse: 479.0487\n",
      "Epoch 137/200\n",
      "55/55 [==============================] - 0s 5ms/step - loss: 16.9271 - mse: 590.2292 - val_loss: 14.5359 - val_mse: 479.4539\n",
      "Epoch 138/200\n",
      "55/55 [==============================] - 0s 3ms/step - loss: 16.9658 - mse: 591.2156 - val_loss: 14.5350 - val_mse: 479.6559\n",
      "Epoch 139/200\n",
      "55/55 [==============================] - 0s 3ms/step - loss: 16.9206 - mse: 587.0766 - val_loss: 14.5392 - val_mse: 477.8803\n",
      "Epoch 140/200\n",
      "55/55 [==============================] - 0s 3ms/step - loss: 16.9255 - mse: 590.1996 - val_loss: 14.5735 - val_mse: 486.9341\n",
      "Epoch 141/200\n",
      "55/55 [==============================] - 0s 5ms/step - loss: 16.9298 - mse: 587.5432 - val_loss: 14.5366 - val_mse: 479.6475\n",
      "Epoch 142/200\n",
      "55/55 [==============================] - 0s 4ms/step - loss: 16.9055 - mse: 586.9248 - val_loss: 14.5419 - val_mse: 482.2815\n",
      "Epoch 143/200\n",
      "55/55 [==============================] - 0s 4ms/step - loss: 16.9159 - mse: 588.3770 - val_loss: 14.5369 - val_mse: 478.8510\n",
      "Epoch 144/200\n",
      "55/55 [==============================] - 0s 5ms/step - loss: 16.9206 - mse: 586.3615 - val_loss: 14.5523 - val_mse: 475.2419\n",
      "Epoch 145/200\n",
      "55/55 [==============================] - 0s 3ms/step - loss: 16.9317 - mse: 584.7228 - val_loss: 14.6308 - val_mse: 491.8329\n",
      "Epoch 146/200\n",
      "55/55 [==============================] - 0s 3ms/step - loss: 16.9531 - mse: 585.9901 - val_loss: 14.6154 - val_mse: 490.3631\n",
      "Epoch 147/200\n",
      "55/55 [==============================] - 0s 4ms/step - loss: 16.9375 - mse: 587.2635 - val_loss: 14.8783 - val_mse: 510.3293\n",
      "Epoch 148/200\n",
      "55/55 [==============================] - 0s 4ms/step - loss: 17.0226 - mse: 599.5220 - val_loss: 14.5462 - val_mse: 483.4683\n",
      "Epoch 149/200\n",
      "55/55 [==============================] - 0s 3ms/step - loss: 16.9601 - mse: 591.4102 - val_loss: 14.5908 - val_mse: 472.4434\n",
      "Epoch 150/200\n",
      "55/55 [==============================] - 0s 3ms/step - loss: 16.9685 - mse: 582.5909 - val_loss: 14.6533 - val_mse: 493.7777\n",
      "Epoch 151/200\n",
      "55/55 [==============================] - 0s 3ms/step - loss: 16.9501 - mse: 590.8896 - val_loss: 14.5770 - val_mse: 486.8274\n",
      "Epoch 152/200\n",
      "55/55 [==============================] - 0s 3ms/step - loss: 16.9210 - mse: 590.0322 - val_loss: 14.5991 - val_mse: 489.5427\n",
      "Epoch 153/200\n",
      "55/55 [==============================] - 0s 4ms/step - loss: 16.9243 - mse: 588.6199 - val_loss: 14.5500 - val_mse: 475.5266\n",
      "Epoch 154/200\n",
      "55/55 [==============================] - 0s 3ms/step - loss: 16.9641 - mse: 586.4980 - val_loss: 14.5922 - val_mse: 488.7088\n",
      "Epoch 155/200\n",
      "55/55 [==============================] - 0s 3ms/step - loss: 16.9895 - mse: 591.5644 - val_loss: 14.6767 - val_mse: 495.8590\n",
      "Epoch 156/200\n",
      "55/55 [==============================] - 0s 3ms/step - loss: 16.9888 - mse: 597.0645 - val_loss: 14.5352 - val_mse: 480.1981\n",
      "Epoch 157/200\n",
      "55/55 [==============================] - 0s 3ms/step - loss: 16.9531 - mse: 592.2858 - val_loss: 14.5397 - val_mse: 482.1877\n",
      "Epoch 158/200\n",
      "55/55 [==============================] - 0s 3ms/step - loss: 16.9065 - mse: 586.8629 - val_loss: 14.5617 - val_mse: 474.1924\n",
      "Epoch 159/200\n",
      "55/55 [==============================] - 0s 4ms/step - loss: 16.9839 - mse: 586.8336 - val_loss: 14.5345 - val_mse: 478.7617\n",
      "Epoch 160/200\n",
      "55/55 [==============================] - 0s 3ms/step - loss: 16.9546 - mse: 590.0522 - val_loss: 14.5443 - val_mse: 483.2269\n",
      "Epoch 161/200\n",
      "55/55 [==============================] - 0s 5ms/step - loss: 16.9195 - mse: 588.2523 - val_loss: 14.5459 - val_mse: 483.6230\n",
      "Epoch 162/200\n",
      "55/55 [==============================] - 0s 3ms/step - loss: 16.9286 - mse: 590.9116 - val_loss: 14.6260 - val_mse: 471.0314\n",
      "Epoch 163/200\n",
      "55/55 [==============================] - 0s 4ms/step - loss: 16.9230 - mse: 583.6889 - val_loss: 14.6827 - val_mse: 496.2496\n",
      "Epoch 164/200\n",
      "55/55 [==============================] - 0s 3ms/step - loss: 16.9241 - mse: 589.6889 - val_loss: 14.6294 - val_mse: 470.8326\n",
      "Epoch 165/200\n",
      "55/55 [==============================] - 0s 5ms/step - loss: 16.9586 - mse: 590.8587 - val_loss: 14.5362 - val_mse: 480.6638\n",
      "Epoch 166/200\n",
      "55/55 [==============================] - 0s 4ms/step - loss: 16.9556 - mse: 588.1820 - val_loss: 14.5394 - val_mse: 477.7149\n",
      "Epoch 167/200\n",
      "55/55 [==============================] - 0s 4ms/step - loss: 16.9320 - mse: 590.3182 - val_loss: 14.5571 - val_mse: 475.0897\n",
      "Epoch 168/200\n",
      "55/55 [==============================] - 0s 3ms/step - loss: 16.9188 - mse: 588.9197 - val_loss: 14.5416 - val_mse: 482.4662\n",
      "Epoch 169/200\n",
      "55/55 [==============================] - 0s 3ms/step - loss: 16.9223 - mse: 587.3824 - val_loss: 14.5412 - val_mse: 478.0891\n",
      "Epoch 170/200\n",
      "55/55 [==============================] - 0s 2ms/step - loss: 16.9343 - mse: 591.6256 - val_loss: 14.5410 - val_mse: 476.9182\n",
      "Epoch 171/200\n",
      "55/55 [==============================] - 0s 2ms/step - loss: 16.9302 - mse: 586.8304 - val_loss: 14.5394 - val_mse: 477.3948\n",
      "Epoch 172/200\n",
      "55/55 [==============================] - 0s 3ms/step - loss: 16.9772 - mse: 590.9067 - val_loss: 14.5528 - val_mse: 475.1003\n",
      "Epoch 173/200\n",
      "55/55 [==============================] - 0s 2ms/step - loss: 16.9484 - mse: 585.5800 - val_loss: 14.5571 - val_mse: 474.5161\n",
      "Epoch 174/200\n",
      "55/55 [==============================] - 0s 3ms/step - loss: 16.9339 - mse: 588.4106 - val_loss: 14.5443 - val_mse: 483.5681\n",
      "Epoch 175/200\n",
      "55/55 [==============================] - 0s 2ms/step - loss: 16.9253 - mse: 589.5637 - val_loss: 14.5477 - val_mse: 484.2602\n",
      "Epoch 176/200\n",
      "55/55 [==============================] - 0s 2ms/step - loss: 16.9347 - mse: 588.4296 - val_loss: 14.5385 - val_mse: 479.3155\n",
      "Epoch 177/200\n",
      "55/55 [==============================] - 0s 2ms/step - loss: 16.9552 - mse: 592.5785 - val_loss: 14.5420 - val_mse: 477.0312\n",
      "Epoch 178/200\n",
      "55/55 [==============================] - 0s 2ms/step - loss: 16.9170 - mse: 584.8696 - val_loss: 14.5526 - val_mse: 485.4924\n",
      "Epoch 179/200\n",
      "55/55 [==============================] - 0s 2ms/step - loss: 16.9410 - mse: 588.9060 - val_loss: 14.5445 - val_mse: 476.8206\n",
      "Epoch 180/200\n",
      "55/55 [==============================] - 0s 3ms/step - loss: 16.9316 - mse: 593.4998 - val_loss: 14.6088 - val_mse: 472.1330\n",
      "Epoch 181/200\n",
      "55/55 [==============================] - 0s 3ms/step - loss: 16.9645 - mse: 588.8450 - val_loss: 14.5397 - val_mse: 478.5154\n",
      "Epoch 182/200\n",
      "55/55 [==============================] - 0s 2ms/step - loss: 16.9062 - mse: 583.7562 - val_loss: 14.6239 - val_mse: 491.9021\n",
      "Epoch 183/200\n",
      "55/55 [==============================] - 0s 2ms/step - loss: 16.9304 - mse: 588.8455 - val_loss: 14.5393 - val_mse: 481.7168\n",
      "Epoch 184/200\n",
      "55/55 [==============================] - 0s 2ms/step - loss: 16.9525 - mse: 591.6189 - val_loss: 14.5377 - val_mse: 481.6673\n",
      "Epoch 185/200\n",
      "55/55 [==============================] - 0s 2ms/step - loss: 16.9341 - mse: 588.0715 - val_loss: 14.5720 - val_mse: 473.8485\n",
      "Epoch 186/200\n",
      "55/55 [==============================] - 0s 2ms/step - loss: 16.9513 - mse: 588.1703 - val_loss: 14.5508 - val_mse: 475.2630\n",
      "Epoch 187/200\n",
      "55/55 [==============================] - 0s 2ms/step - loss: 16.9416 - mse: 590.9158 - val_loss: 14.5545 - val_mse: 485.2222\n",
      "Epoch 188/200\n",
      "55/55 [==============================] - 0s 2ms/step - loss: 16.9612 - mse: 587.4918 - val_loss: 14.5713 - val_mse: 486.8774\n",
      "Epoch 189/200\n",
      "55/55 [==============================] - 0s 2ms/step - loss: 16.9315 - mse: 591.1594 - val_loss: 14.5564 - val_mse: 474.4981\n",
      "Epoch 190/200\n",
      "55/55 [==============================] - 0s 2ms/step - loss: 16.9228 - mse: 584.4405 - val_loss: 14.5375 - val_mse: 481.3702\n",
      "Epoch 191/200\n",
      "55/55 [==============================] - 0s 2ms/step - loss: 16.9134 - mse: 588.3339 - val_loss: 14.5356 - val_mse: 480.3179\n",
      "Epoch 192/200\n",
      "55/55 [==============================] - 0s 2ms/step - loss: 16.9690 - mse: 584.7017 - val_loss: 14.5505 - val_mse: 475.1689\n",
      "Epoch 193/200\n",
      "55/55 [==============================] - 0s 2ms/step - loss: 16.9661 - mse: 592.4724 - val_loss: 14.5456 - val_mse: 483.9032\n",
      "Epoch 194/200\n",
      "55/55 [==============================] - 0s 2ms/step - loss: 16.9320 - mse: 591.4583 - val_loss: 14.5396 - val_mse: 477.1714\n",
      "Epoch 195/200\n",
      "55/55 [==============================] - 0s 2ms/step - loss: 16.9290 - mse: 588.4380 - val_loss: 14.5420 - val_mse: 476.5637\n",
      "Epoch 196/200\n",
      "55/55 [==============================] - ETA: 0s - loss: 17.0667 - mse: 594.88 - 0s 3ms/step - loss: 16.9179 - mse: 590.6447 - val_loss: 14.6074 - val_mse: 471.7732\n",
      "Epoch 197/200\n",
      "55/55 [==============================] - 0s 3ms/step - loss: 16.9407 - mse: 587.9376 - val_loss: 14.6933 - val_mse: 497.3385\n",
      "Epoch 198/200\n",
      "55/55 [==============================] - 0s 2ms/step - loss: 16.9707 - mse: 593.2282 - val_loss: 14.5357 - val_mse: 478.3407\n",
      "Epoch 199/200\n",
      "55/55 [==============================] - 0s 3ms/step - loss: 16.9244 - mse: 586.7418 - val_loss: 14.6273 - val_mse: 470.8362\n",
      "Epoch 200/200\n",
      "55/55 [==============================] - 0s 3ms/step - loss: 16.8910 - mse: 585.2916 - val_loss: 14.7974 - val_mse: 504.8934\n"
     ]
    }
   ],
   "source": [
    "classifier = Sequential()\n",
    "\n",
    "# Adding the input layer and the first hidden layer\n",
    "classifier.add(Dense(units = 12, kernel_initializer = 'normal', activation = 'relu', input_dim = 4))\n",
    "\n",
    "# Adding the second hidden layer\n",
    "classifier.add(Dense(units = 6, kernel_initializer = 'normal', activation = 'relu'))\n",
    "\n",
    "# Adding the output layer\n",
    "classifier.add(Dense(units = 1, kernel_initializer = 'normal', activation = 'linear'))\n",
    "\n",
    "# Compiling the ANN\n",
    "classifier.compile(optimizer = 'adam', loss = 'mean_absolute_error', metrics = ['mse']) \n",
    "\n",
    "# Fitting the ANN to the Training set\n",
    "history = classifier.fit(X_train, y_train, validation_data = (X_test, y_test), batch_size = 16, epochs = 200, shuffle = True)"
   ]
  },
  {
   "cell_type": "code",
   "execution_count": 281,
   "metadata": {},
   "outputs": [
    {
     "data": {
      "image/png": "[encoded data removed]",
      "text/plain": [
       "<Figure size 432x288 with 1 Axes>"
      ]
     },
     "metadata": {
      "needs_background": "light"
     },
     "output_type": "display_data"
    }
   ],
   "source": [
    "plt.plot(history.history['loss'], label = 'train')\n",
    "plt.plot(history.history['val_loss'], label = 'test')\n",
    "plt.legend()\n",
    "\n",
    "plt.xlabel(\"Epoches\")\n",
    "plt.ylabel(\"MSE\")\n",
    "plt.savefig(\"5.png\")\n",
    "plt.show()"
   ]
  },
  {
   "cell_type": "code",
   "execution_count": 282,
   "metadata": {},
   "outputs": [
    {
     "name": "stdout",
     "output_type": "stream",
     "text": [
      "Model: \"sequential_10\"\n",
      "_________________________________________________________________\n",
      "Layer (type)                 Output Shape              Param #   \n",
      "=================================================================\n",
      "dense_30 (Dense)             (None, 12)                60        \n",
      "_________________________________________________________________\n",
      "dense_31 (Dense)             (None, 6)                 78        \n",
      "_________________________________________________________________\n",
      "dense_32 (Dense)             (None, 1)                 7         \n",
      "=================================================================\n",
      "Total params: 145\n",
      "Trainable params: 145\n",
      "Non-trainable params: 0\n",
      "_________________________________________________________________\n"
     ]
    }
   ],
   "source": [
    "classifier.summary()"
   ]
  },
  {
   "cell_type": "code",
   "execution_count": 283,
   "metadata": {},
   "outputs": [],
   "source": [
    "y_predicted = classifier.predict(X_test)"
   ]
  },
  {
   "cell_type": "code",
   "execution_count": 284,
   "metadata": {},
   "outputs": [],
   "source": [
    "from sklearn.metrics import mean_absolute_error,f1_score"
   ]
  },
  {
   "cell_type": "code",
   "execution_count": 285,
   "metadata": {},
   "outputs": [
    {
     "data": {
      "text/plain": [
       "14.797436287875549"
      ]
     },
     "execution_count": 285,
     "metadata": {},
     "output_type": "execute_result"
    }
   ],
   "source": [
    "mean_absolute_error(y_test, y_predicted)"
   ]
  },
  {
   "cell_type": "markdown",
   "metadata": {},
   "source": [
    "## Approch(2)"
   ]
  },
  {
   "cell_type": "code",
   "execution_count": 286,
   "metadata": {},
   "outputs": [],
   "source": [
    "from sklearn import preprocessing\n",
    "enc = preprocessing.OneHotEncoder()"
   ]
  },
  {
   "cell_type": "code",
   "execution_count": 287,
   "metadata": {},
   "outputs": [],
   "source": [
    "house_data = house_data.fillna(method = \"bfill\")"
   ]
  },
  {
   "cell_type": "code",
   "execution_count": 288,
   "metadata": {},
   "outputs": [
    {
     "data": {
      "text/plain": [
       "Date                              0\n",
       "Time                              0\n",
       "DateTime                          0\n",
       "System Setting                    0\n",
       "System Mode                       0\n",
       "Calendar Event                29548\n",
       "Program Mode                      0\n",
       "Cool Set Temp (C)                 0\n",
       "Heat Set Temp (C)                 0\n",
       "Current Temp (C)                  0\n",
       "Current Humidity (%RH)            0\n",
       "Outdoor Temp (C)                  0\n",
       "Wind Speed (km/h)                 0\n",
       "Cool Stage 1 (sec)                0\n",
       "Heat Stage 1 (sec)                0\n",
       "Fan (sec)                         0\n",
       "Thermostat Temperature (C)        0\n",
       "Thermostat Humidity (%RH)         0\n",
       "Thermostat Motion                 0\n",
       "Bedroom (C)                       0\n",
       "Bedroom2                          0\n",
       "3rd floor landing (C)             0\n",
       "3rd floor landing2                0\n",
       "3rd floor room (C)                0\n",
       "3rd floor room2                   0\n",
       "Basement (C)                      0\n",
       "Basement2                         0\n",
       "dtype: int64"
      ]
     },
     "execution_count": 288,
     "metadata": {},
     "output_type": "execute_result"
    }
   ],
   "source": [
    "house_data.isnull().sum()"
   ]
  },
  {
   "cell_type": "code",
   "execution_count": 289,
   "metadata": {},
   "outputs": [
    {
     "data": {
      "text/plain": [
       "StandardScaler(copy=True, with_mean=True, with_std=True)"
      ]
     },
     "execution_count": 289,
     "metadata": {},
     "output_type": "execute_result"
    }
   ],
   "source": [
    "numerical_vars = ['Heat Set Temp (C)', 'Current Temp (C)', 'Current Humidity (%RH)', 'Outdoor Temp (C)','Thermostat Temperature (C)', 'Thermostat Humidity (%RH)']\n",
    "sc = StandardScaler()\n",
    "sc.fit(house_data[numerical_vars])"
   ]
  },
  {
   "cell_type": "code",
   "execution_count": 290,
   "metadata": {},
   "outputs": [
    {
     "data": {
      "text/html": [
       "<div>\n",
       "<style scoped>\n",
       "    .dataframe tbody tr th:only-of-type {\n",
       "        vertical-align: middle;\n",
       "    }\n",
       "\n",
       "    .dataframe tbody tr th {\n",
       "        vertical-align: top;\n",
       "    }\n",
       "\n",
       "    .dataframe thead th {\n",
       "        text-align: right;\n",
       "    }\n",
       "</style>\n",
       "<table border=\"1\" class=\"dataframe\">\n",
       "  <thead>\n",
       "    <tr style=\"text-align: right;\">\n",
       "      <th></th>\n",
       "      <th>Heat Set Temp (C)</th>\n",
       "      <th>Current Temp (C)</th>\n",
       "      <th>Current Humidity (%RH)</th>\n",
       "      <th>Outdoor Temp (C)</th>\n",
       "      <th>Thermostat Temperature (C)</th>\n",
       "      <th>Thermostat Humidity (%RH)</th>\n",
       "    </tr>\n",
       "  </thead>\n",
       "  <tbody>\n",
       "    <tr>\n",
       "      <th>0</th>\n",
       "      <td>0.0</td>\n",
       "      <td>2.632689</td>\n",
       "      <td>1.422976</td>\n",
       "      <td>1.387394</td>\n",
       "      <td>2.632689</td>\n",
       "      <td>1.422976</td>\n",
       "    </tr>\n",
       "    <tr>\n",
       "      <th>1</th>\n",
       "      <td>0.0</td>\n",
       "      <td>1.489502</td>\n",
       "      <td>1.930176</td>\n",
       "      <td>1.387394</td>\n",
       "      <td>1.489502</td>\n",
       "      <td>1.930176</td>\n",
       "    </tr>\n",
       "    <tr>\n",
       "      <th>2</th>\n",
       "      <td>0.0</td>\n",
       "      <td>0.346315</td>\n",
       "      <td>1.930176</td>\n",
       "      <td>1.424799</td>\n",
       "      <td>0.346315</td>\n",
       "      <td>1.930176</td>\n",
       "    </tr>\n",
       "    <tr>\n",
       "      <th>3</th>\n",
       "      <td>0.0</td>\n",
       "      <td>-0.796872</td>\n",
       "      <td>2.183776</td>\n",
       "      <td>1.424799</td>\n",
       "      <td>-0.796872</td>\n",
       "      <td>2.183776</td>\n",
       "    </tr>\n",
       "    <tr>\n",
       "      <th>4</th>\n",
       "      <td>0.0</td>\n",
       "      <td>-1.368465</td>\n",
       "      <td>2.183776</td>\n",
       "      <td>1.424799</td>\n",
       "      <td>-1.368465</td>\n",
       "      <td>2.183776</td>\n",
       "    </tr>\n",
       "    <tr>\n",
       "      <th>...</th>\n",
       "      <td>...</td>\n",
       "      <td>...</td>\n",
       "      <td>...</td>\n",
       "      <td>...</td>\n",
       "      <td>...</td>\n",
       "      <td>...</td>\n",
       "    </tr>\n",
       "    <tr>\n",
       "      <th>29671</th>\n",
       "      <td>0.0</td>\n",
       "      <td>2.061095</td>\n",
       "      <td>-0.859425</td>\n",
       "      <td>3.295068</td>\n",
       "      <td>2.061095</td>\n",
       "      <td>-0.859425</td>\n",
       "    </tr>\n",
       "    <tr>\n",
       "      <th>29672</th>\n",
       "      <td>0.0</td>\n",
       "      <td>1.489502</td>\n",
       "      <td>-0.859425</td>\n",
       "      <td>3.388582</td>\n",
       "      <td>1.489502</td>\n",
       "      <td>-0.859425</td>\n",
       "    </tr>\n",
       "    <tr>\n",
       "      <th>29673</th>\n",
       "      <td>0.0</td>\n",
       "      <td>1.489502</td>\n",
       "      <td>-0.859425</td>\n",
       "      <td>3.388582</td>\n",
       "      <td>1.489502</td>\n",
       "      <td>-0.859425</td>\n",
       "    </tr>\n",
       "    <tr>\n",
       "      <th>29674</th>\n",
       "      <td>0.0</td>\n",
       "      <td>1.489502</td>\n",
       "      <td>-0.859425</td>\n",
       "      <td>3.388582</td>\n",
       "      <td>1.489502</td>\n",
       "      <td>-0.859425</td>\n",
       "    </tr>\n",
       "    <tr>\n",
       "      <th>29675</th>\n",
       "      <td>0.0</td>\n",
       "      <td>1.489502</td>\n",
       "      <td>-0.859425</td>\n",
       "      <td>3.388582</td>\n",
       "      <td>1.489502</td>\n",
       "      <td>-0.859425</td>\n",
       "    </tr>\n",
       "  </tbody>\n",
       "</table>\n",
       "<p>29676 rows × 6 columns</p>\n",
       "</div>"
      ],
      "text/plain": [
       "       Heat Set Temp (C)  Current Temp (C)  Current Humidity (%RH)  \\\n",
       "0                    0.0          2.632689                1.422976   \n",
       "1                    0.0          1.489502                1.930176   \n",
       "2                    0.0          0.346315                1.930176   \n",
       "3                    0.0         -0.796872                2.183776   \n",
       "4                    0.0         -1.368465                2.183776   \n",
       "...                  ...               ...                     ...   \n",
       "29671                0.0          2.061095               -0.859425   \n",
       "29672                0.0          1.489502               -0.859425   \n",
       "29673                0.0          1.489502               -0.859425   \n",
       "29674                0.0          1.489502               -0.859425   \n",
       "29675                0.0          1.489502               -0.859425   \n",
       "\n",
       "       Outdoor Temp (C)  Thermostat Temperature (C)  Thermostat Humidity (%RH)  \n",
       "0              1.387394                    2.632689                   1.422976  \n",
       "1              1.387394                    1.489502                   1.930176  \n",
       "2              1.424799                    0.346315                   1.930176  \n",
       "3              1.424799                   -0.796872                   2.183776  \n",
       "4              1.424799                   -1.368465                   2.183776  \n",
       "...                 ...                         ...                        ...  \n",
       "29671          3.295068                    2.061095                  -0.859425  \n",
       "29672          3.388582                    1.489502                  -0.859425  \n",
       "29673          3.388582                    1.489502                  -0.859425  \n",
       "29674          3.388582                    1.489502                  -0.859425  \n",
       "29675          3.388582                    1.489502                  -0.859425  \n",
       "\n",
       "[29676 rows x 6 columns]"
      ]
     },
     "execution_count": 290,
     "metadata": {},
     "output_type": "execute_result"
    }
   ],
   "source": [
    "scaler_house_data = house_data[numerical_vars].copy()\n",
    "scaler_house_data[numerical_vars] = sc.transform(house_data[numerical_vars])\n",
    "scaler_house_data"
   ]
  },
  {
   "cell_type": "code",
   "execution_count": 291,
   "metadata": {},
   "outputs": [],
   "source": [
    "y_auxHeat = house_data['Heat Stage 1 (sec)'].to_numpy()\n",
    "y_fan = house_data['Fan (sec)'].to_numpy()"
   ]
  },
  {
   "cell_type": "code",
   "execution_count": 292,
   "metadata": {},
   "outputs": [],
   "source": [
    "oe = OrdinalEncoder()\n",
    "y_auxHeat = oe.fit_transform(y_auxHeat.reshape(-1, 1))\n",
    "y_fan = oe.fit_transform(y_fan.reshape(-1, 1))"
   ]
  },
  {
   "cell_type": "code",
   "execution_count": 293,
   "metadata": {},
   "outputs": [],
   "source": [
    "y_auxHeat = y_auxHeat.reshape(y_auxHeat.shape[0], )\n",
    "y_fan = y_fan.reshape(y_fan.shape[0], )\n",
    "y_auxHeat = y_auxHeat.astype(int)\n",
    "y_auxHeat = y_auxHeat.astype(str)\n",
    "\n",
    "y_fan = y_fan.astype(int)\n",
    "y_fan = y_fan.astype(str)"
   ]
  },
  {
   "cell_type": "code",
   "execution_count": 294,
   "metadata": {},
   "outputs": [],
   "source": [
    "scaler_house_data['Heat Stage 1'] = y_auxHeat\n",
    "scaler_house_data['fan'] = y_fan"
   ]
  },
  {
   "cell_type": "code",
   "execution_count": 295,
   "metadata": {},
   "outputs": [
    {
     "data": {
      "text/html": [
       "<div>\n",
       "<style scoped>\n",
       "    .dataframe tbody tr th:only-of-type {\n",
       "        vertical-align: middle;\n",
       "    }\n",
       "\n",
       "    .dataframe tbody tr th {\n",
       "        vertical-align: top;\n",
       "    }\n",
       "\n",
       "    .dataframe thead th {\n",
       "        text-align: right;\n",
       "    }\n",
       "</style>\n",
       "<table border=\"1\" class=\"dataframe\">\n",
       "  <thead>\n",
       "    <tr style=\"text-align: right;\">\n",
       "      <th></th>\n",
       "      <th>Heat Set Temp (C)</th>\n",
       "      <th>Current Temp (C)</th>\n",
       "      <th>Current Humidity (%RH)</th>\n",
       "      <th>Outdoor Temp (C)</th>\n",
       "      <th>Thermostat Temperature (C)</th>\n",
       "      <th>Thermostat Humidity (%RH)</th>\n",
       "      <th>Heat Stage 1</th>\n",
       "      <th>fan</th>\n",
       "    </tr>\n",
       "  </thead>\n",
       "  <tbody>\n",
       "    <tr>\n",
       "      <th>0</th>\n",
       "      <td>0.0</td>\n",
       "      <td>2.632689</td>\n",
       "      <td>1.422976</td>\n",
       "      <td>1.387394</td>\n",
       "      <td>2.632689</td>\n",
       "      <td>1.422976</td>\n",
       "      <td>0</td>\n",
       "      <td>0</td>\n",
       "    </tr>\n",
       "    <tr>\n",
       "      <th>1</th>\n",
       "      <td>0.0</td>\n",
       "      <td>1.489502</td>\n",
       "      <td>1.930176</td>\n",
       "      <td>1.387394</td>\n",
       "      <td>1.489502</td>\n",
       "      <td>1.930176</td>\n",
       "      <td>0</td>\n",
       "      <td>0</td>\n",
       "    </tr>\n",
       "    <tr>\n",
       "      <th>2</th>\n",
       "      <td>0.0</td>\n",
       "      <td>0.346315</td>\n",
       "      <td>1.930176</td>\n",
       "      <td>1.424799</td>\n",
       "      <td>0.346315</td>\n",
       "      <td>1.930176</td>\n",
       "      <td>0</td>\n",
       "      <td>0</td>\n",
       "    </tr>\n",
       "    <tr>\n",
       "      <th>3</th>\n",
       "      <td>0.0</td>\n",
       "      <td>-0.796872</td>\n",
       "      <td>2.183776</td>\n",
       "      <td>1.424799</td>\n",
       "      <td>-0.796872</td>\n",
       "      <td>2.183776</td>\n",
       "      <td>9</td>\n",
       "      <td>9</td>\n",
       "    </tr>\n",
       "    <tr>\n",
       "      <th>4</th>\n",
       "      <td>0.0</td>\n",
       "      <td>-1.368465</td>\n",
       "      <td>2.183776</td>\n",
       "      <td>1.424799</td>\n",
       "      <td>-1.368465</td>\n",
       "      <td>2.183776</td>\n",
       "      <td>20</td>\n",
       "      <td>20</td>\n",
       "    </tr>\n",
       "    <tr>\n",
       "      <th>...</th>\n",
       "      <td>...</td>\n",
       "      <td>...</td>\n",
       "      <td>...</td>\n",
       "      <td>...</td>\n",
       "      <td>...</td>\n",
       "      <td>...</td>\n",
       "      <td>...</td>\n",
       "      <td>...</td>\n",
       "    </tr>\n",
       "    <tr>\n",
       "      <th>29671</th>\n",
       "      <td>0.0</td>\n",
       "      <td>2.061095</td>\n",
       "      <td>-0.859425</td>\n",
       "      <td>3.295068</td>\n",
       "      <td>2.061095</td>\n",
       "      <td>-0.859425</td>\n",
       "      <td>0</td>\n",
       "      <td>0</td>\n",
       "    </tr>\n",
       "    <tr>\n",
       "      <th>29672</th>\n",
       "      <td>0.0</td>\n",
       "      <td>1.489502</td>\n",
       "      <td>-0.859425</td>\n",
       "      <td>3.388582</td>\n",
       "      <td>1.489502</td>\n",
       "      <td>-0.859425</td>\n",
       "      <td>0</td>\n",
       "      <td>0</td>\n",
       "    </tr>\n",
       "    <tr>\n",
       "      <th>29673</th>\n",
       "      <td>0.0</td>\n",
       "      <td>1.489502</td>\n",
       "      <td>-0.859425</td>\n",
       "      <td>3.388582</td>\n",
       "      <td>1.489502</td>\n",
       "      <td>-0.859425</td>\n",
       "      <td>0</td>\n",
       "      <td>0</td>\n",
       "    </tr>\n",
       "    <tr>\n",
       "      <th>29674</th>\n",
       "      <td>0.0</td>\n",
       "      <td>1.489502</td>\n",
       "      <td>-0.859425</td>\n",
       "      <td>3.388582</td>\n",
       "      <td>1.489502</td>\n",
       "      <td>-0.859425</td>\n",
       "      <td>0</td>\n",
       "      <td>0</td>\n",
       "    </tr>\n",
       "    <tr>\n",
       "      <th>29675</th>\n",
       "      <td>0.0</td>\n",
       "      <td>1.489502</td>\n",
       "      <td>-0.859425</td>\n",
       "      <td>3.388582</td>\n",
       "      <td>1.489502</td>\n",
       "      <td>-0.859425</td>\n",
       "      <td>0</td>\n",
       "      <td>0</td>\n",
       "    </tr>\n",
       "  </tbody>\n",
       "</table>\n",
       "<p>29676 rows × 8 columns</p>\n",
       "</div>"
      ],
      "text/plain": [
       "       Heat Set Temp (C)  Current Temp (C)  Current Humidity (%RH)  \\\n",
       "0                    0.0          2.632689                1.422976   \n",
       "1                    0.0          1.489502                1.930176   \n",
       "2                    0.0          0.346315                1.930176   \n",
       "3                    0.0         -0.796872                2.183776   \n",
       "4                    0.0         -1.368465                2.183776   \n",
       "...                  ...               ...                     ...   \n",
       "29671                0.0          2.061095               -0.859425   \n",
       "29672                0.0          1.489502               -0.859425   \n",
       "29673                0.0          1.489502               -0.859425   \n",
       "29674                0.0          1.489502               -0.859425   \n",
       "29675                0.0          1.489502               -0.859425   \n",
       "\n",
       "       Outdoor Temp (C)  Thermostat Temperature (C)  \\\n",
       "0              1.387394                    2.632689   \n",
       "1              1.387394                    1.489502   \n",
       "2              1.424799                    0.346315   \n",
       "3              1.424799                   -0.796872   \n",
       "4              1.424799                   -1.368465   \n",
       "...                 ...                         ...   \n",
       "29671          3.295068                    2.061095   \n",
       "29672          3.388582                    1.489502   \n",
       "29673          3.388582                    1.489502   \n",
       "29674          3.388582                    1.489502   \n",
       "29675          3.388582                    1.489502   \n",
       "\n",
       "       Thermostat Humidity (%RH) Heat Stage 1 fan  \n",
       "0                       1.422976            0   0  \n",
       "1                       1.930176            0   0  \n",
       "2                       1.930176            0   0  \n",
       "3                       2.183776            9   9  \n",
       "4                       2.183776           20  20  \n",
       "...                          ...          ...  ..  \n",
       "29671                  -0.859425            0   0  \n",
       "29672                  -0.859425            0   0  \n",
       "29673                  -0.859425            0   0  \n",
       "29674                  -0.859425            0   0  \n",
       "29675                  -0.859425            0   0  \n",
       "\n",
       "[29676 rows x 8 columns]"
      ]
     },
     "execution_count": 295,
     "metadata": {},
     "output_type": "execute_result"
    }
   ],
   "source": [
    "scaler_house_data"
   ]
  },
  {
   "cell_type": "code",
   "execution_count": 296,
   "metadata": {},
   "outputs": [],
   "source": [
    "from tensorflow.keras.utils import to_categorical\n",
    "working_df = scaler_house_data.drop(labels = [\"fan\"], axis = 1)\n",
    "X = working_df[numerical_vars]\n",
    "y = to_categorical(working_df[[\"Heat Stage 1\"]])"
   ]
  },
  {
   "cell_type": "code",
   "execution_count": 297,
   "metadata": {},
   "outputs": [
    {
     "data": {
      "text/plain": [
       "(23740, 21)"
      ]
     },
     "execution_count": 297,
     "metadata": {},
     "output_type": "execute_result"
    }
   ],
   "source": [
    "X_train, X_test, y_train, y_test = train_test_split(X, y, test_size = 0.2, shuffle = True)\n",
    "X_train = X_train.values\n",
    "X_test = X_test.values\n",
    "y_train.shape"
   ]
  },
  {
   "cell_type": "code",
   "execution_count": 298,
   "metadata": {},
   "outputs": [
    {
     "name": "stdout",
     "output_type": "stream",
     "text": [
      "Epoch 1/20\n",
      "2374/2374 [==============================] - 6s 2ms/step - loss: 1.4767 - accuracy: 0.6696 - val_loss: 1.4090 - val_accuracy: 0.6919\n",
      "Epoch 2/20\n",
      "2374/2374 [==============================] - 4s 2ms/step - loss: 1.3551 - accuracy: 0.7058 - val_loss: 1.4087 - val_accuracy: 0.6926\n",
      "Epoch 3/20\n",
      "2374/2374 [==============================] - 4s 2ms/step - loss: 1.3539 - accuracy: 0.7068 - val_loss: 1.4131 - val_accuracy: 0.6905\n",
      "Epoch 4/20\n",
      "2374/2374 [==============================] - 5s 2ms/step - loss: 1.3536 - accuracy: 0.7056 - val_loss: 1.4051 - val_accuracy: 0.6914\n",
      "Epoch 5/20\n",
      "2374/2374 [==============================] - 4s 2ms/step - loss: 1.3534 - accuracy: 0.7067 - val_loss: 1.4060 - val_accuracy: 0.6902\n",
      "Epoch 6/20\n",
      "2374/2374 [==============================] - 3s 1ms/step - loss: 1.3523 - accuracy: 0.7061 - val_loss: 1.4035 - val_accuracy: 0.6909\n",
      "Epoch 7/20\n",
      "2374/2374 [==============================] - 4s 1ms/step - loss: 1.3522 - accuracy: 0.7077 - val_loss: 1.4075 - val_accuracy: 0.6917\n",
      "Epoch 8/20\n",
      "2374/2374 [==============================] - 4s 2ms/step - loss: 1.3522 - accuracy: 0.7070 - val_loss: 1.4049 - val_accuracy: 0.6910\n",
      "Epoch 9/20\n",
      "2374/2374 [==============================] - 4s 2ms/step - loss: 1.3517 - accuracy: 0.7062 - val_loss: 1.4059 - val_accuracy: 0.6912\n",
      "Epoch 10/20\n",
      "2374/2374 [==============================] - 5s 2ms/step - loss: 1.3501 - accuracy: 0.7070 - val_loss: 1.3941 - val_accuracy: 0.6914\n",
      "Epoch 11/20\n",
      "2374/2374 [==============================] - 4s 2ms/step - loss: 1.3360 - accuracy: 0.7064 - val_loss: 1.3728 - val_accuracy: 0.6912\n",
      "Epoch 12/20\n",
      "2374/2374 [==============================] - 4s 2ms/step - loss: 1.3193 - accuracy: 0.7064 - val_loss: 1.3596 - val_accuracy: 0.6912\n",
      "Epoch 13/20\n",
      "2374/2374 [==============================] - 4s 2ms/step - loss: 1.3068 - accuracy: 0.7063 - val_loss: 1.3490 - val_accuracy: 0.6919\n",
      "Epoch 14/20\n",
      "2374/2374 [==============================] - 4s 2ms/step - loss: 1.3036 - accuracy: 0.7063 - val_loss: 1.3474 - val_accuracy: 0.6900\n",
      "Epoch 15/20\n",
      "2374/2374 [==============================] - 4s 2ms/step - loss: 1.3015 - accuracy: 0.7067 - val_loss: 1.3475 - val_accuracy: 0.6926\n",
      "Epoch 16/20\n",
      "2374/2374 [==============================] - 4s 2ms/step - loss: 1.2988 - accuracy: 0.7065 - val_loss: 1.3462 - val_accuracy: 0.6924\n",
      "Epoch 17/20\n",
      "2374/2374 [==============================] - 4s 2ms/step - loss: 1.2977 - accuracy: 0.7061 - val_loss: 1.3493 - val_accuracy: 0.6909\n",
      "Epoch 18/20\n",
      "2374/2374 [==============================] - 4s 2ms/step - loss: 1.2963 - accuracy: 0.7072 - val_loss: 1.3421 - val_accuracy: 0.6926\n",
      "Epoch 19/20\n",
      "2374/2374 [==============================] - 4s 2ms/step - loss: 1.2959 - accuracy: 0.7064 - val_loss: 1.3425 - val_accuracy: 0.6907\n",
      "Epoch 20/20\n",
      "2374/2374 [==============================] - 4s 2ms/step - loss: 1.2945 - accuracy: 0.7068 - val_loss: 1.3412 - val_accuracy: 0.6904\n"
     ]
    }
   ],
   "source": [
    "classifier = Sequential()\n",
    "\n",
    "# Adding the input layer and the first hidden layer\n",
    "classifier.add(Dense(units = 12, kernel_initializer = 'uniform', activation = 'relu', input_dim = 6))\n",
    "\n",
    "# Adding the second hidden layer\n",
    "classifier.add(Dense(units = 24, kernel_initializer = 'uniform', activation = 'relu'))\n",
    "\n",
    "# Adding the output layer\n",
    "classifier.add(Dense(units = 21, kernel_initializer = 'uniform', activation = 'softmax'))\n",
    "\n",
    "# Compiling the ANN\n",
    "classifier.compile(optimizer = 'adam', loss = 'categorical_crossentropy', metrics = ['accuracy']) \n",
    "\n",
    "# Fitting the ANN to the Training set\n",
    "history = classifier.fit(X_train, y_train, validation_data = (X_test, y_test), batch_size = 10, epochs = 20, shuffle = True)"
   ]
  },
  {
   "cell_type": "code",
   "execution_count": 299,
   "metadata": {},
   "outputs": [
    {
     "name": "stdout",
     "output_type": "stream",
     "text": [
      "Model: \"sequential_11\"\n",
      "_________________________________________________________________\n",
      "Layer (type)                 Output Shape              Param #   \n",
      "=================================================================\n",
      "dense_33 (Dense)             (None, 12)                84        \n",
      "_________________________________________________________________\n",
      "dense_34 (Dense)             (None, 24)                312       \n",
      "_________________________________________________________________\n",
      "dense_35 (Dense)             (None, 21)                525       \n",
      "=================================================================\n",
      "Total params: 921\n",
      "Trainable params: 921\n",
      "Non-trainable params: 0\n",
      "_________________________________________________________________\n"
     ]
    }
   ],
   "source": [
    "classifier.summary()"
   ]
  },
  {
   "cell_type": "code",
   "execution_count": 300,
   "metadata": {},
   "outputs": [
    {
     "data": {
      "image/png": "[encoded data removed]",
      "text/plain": [
       "<Figure size 864x720 with 1 Axes>"
      ]
     },
     "metadata": {
      "needs_background": "light"
     },
     "output_type": "display_data"
    }
   ],
   "source": [
    "plt.figure(figsize = (12, 10))\n",
    "plt.plot(history.history['loss'], label = 'Training Set')\n",
    "plt.plot(history.history['val_loss'], label = 'Test Set')\n",
    "plt.legend()\n",
    "plt.xlabel(\"Training Epoch Number\")\n",
    "plt.ylabel(\"Categorical Cross-Entropy Loss\")\n",
    "plt.xlim((-1, 20))\n",
    "plt.savefig(\"6.png\")\n",
    "plt.show()"
   ]
  },
  {
   "cell_type": "code",
   "execution_count": 301,
   "metadata": {},
   "outputs": [
    {
     "data": {
      "image/png": "[encoded data removed]",
      "text/plain": [
       "<Figure size 864x720 with 1 Axes>"
      ]
     },
     "metadata": {
      "needs_background": "light"
     },
     "output_type": "display_data"
    }
   ],
   "source": [
    "plt.figure(figsize = (12, 10))\n",
    "plt.plot(history.history['accuracy'], label = 'Training Set')\n",
    "plt.plot(history.history['val_accuracy'], label = 'Test Set')\n",
    "plt.legend()\n",
    "plt.xlabel(\"Training Epoch Number\")\n",
    "plt.ylabel(\"Accuracy Achieved\")\n",
    "plt.xlim((-1, 20))\n",
    "plt.savefig(\"7.png\")\n",
    "plt.show()"
   ]
  },
  {
   "cell_type": "code",
   "execution_count": 302,
   "metadata": {},
   "outputs": [
    {
     "data": {
      "text/plain": [
       "array([ 0,  0, 20, ...,  0,  0, 20], dtype=int64)"
      ]
     },
     "execution_count": 302,
     "metadata": {},
     "output_type": "execute_result"
    }
   ],
   "source": [
    "y_predicted = classifier.predict(X_test)\n",
    "y_predicted = np.argmax(y_predicted, axis = 1)\n",
    "y_predicted"
   ]
  },
  {
   "cell_type": "code",
   "execution_count": 303,
   "metadata": {},
   "outputs": [],
   "source": [
    "y_test = np.argmax(y_test, axis = 1)\n"
   ]
  },
  {
   "cell_type": "code",
   "execution_count": 304,
   "metadata": {},
   "outputs": [
    {
     "data": {
      "text/plain": [
       "array([19,  0, 20, ...,  0,  0, 20], dtype=int64)"
      ]
     },
     "execution_count": 304,
     "metadata": {},
     "output_type": "execute_result"
    }
   ],
   "source": [
    "y_test"
   ]
  },
  {
   "cell_type": "code",
   "execution_count": 305,
   "metadata": {},
   "outputs": [],
   "source": [
    "import plotly.figure_factory as ff\n",
    "import plotly.io as pio"
   ]
  },
  {
   "cell_type": "code",
   "execution_count": 306,
   "metadata": {},
   "outputs": [],
   "source": [
    "cm = confusion_matrix(y_test, y_predicted)\n",
    "cfm_n = np.flipud(cm)\n",
    "cfm_n = cfm_n.astype('float') / cfm_n.sum(axis=1)[:, np.newaxis]\n",
    "\n",
    "z = np.round(cfm_n, 2)\n",
    "#x = ['0', '1', '2', '3', '4', '5', '6', '7', '8', '9', '10', '11', '12', '13', '14', '15', '16', '17', '18', '19', '20']\n",
    "y = ['0', '1', '2', '3', '4', '5', '6', '7', '8', '9', '10', '11', '12', '13', '14', '15', '16', '17', '18', '19', '20']\n",
    "#y = ['20', '19', '18', '17', '16', '15', '14', '13', '12', '11', '10', '9', '8', '7', '6', '5', '4', '3', '2', '1', '0']\n",
    "x = ['20', '19', '18', '17', '16', '15', '14', '13', '12', '11', '10', '9', '8', '7', '6', '5', '4', '3', '2', '1', '0']\n",
    "#x = ['1', '0']\n",
    "#y = ['0', '1']\n"
   ]
  },
  {
   "cell_type": "code",
   "execution_count": 307,
   "metadata": {},
   "outputs": [
    {
     "data": {
      "application/vnd.plotly.v1+json": {
       "config": {
        "plotlyServerURL": "https://plot.ly"
       },
       "data": [
        {
         "colorscale": [
          [
           0,
           "rgb(253, 253, 204)"
          ],
          [
           0.09090909090909091,
           "rgb(206, 236, 179)"
          ],
          [
           0.18181818181818182,
           "rgb(156, 219, 165)"
          ],
          [
           0.2727272727272727,
           "rgb(111, 201, 163)"
          ],
          [
           0.36363636363636365,
           "rgb(86, 177, 163)"
          ],
          [
           0.45454545454545453,
           "rgb(76, 153, 160)"
          ],
          [
           0.5454545454545454,
           "rgb(68, 130, 155)"
          ],
          [
           0.6363636363636364,
           "rgb(62, 108, 150)"
          ],
          [
           0.7272727272727273,
           "rgb(62, 82, 143)"
          ],
          [
           0.8181818181818182,
           "rgb(64, 60, 115)"
          ],
          [
           0.9090909090909091,
           "rgb(54, 43, 77)"
          ],
          [
           1,
           "rgb(39, 26, 44)"
          ]
         ],
         "reversescale": false,
         "showscale": false,
         "type": "heatmap",
         "x": [
          "20",
          "19",
          "18",
          "17",
          "16",
          "15",
          "14",
          "13",
          "12",
          "11",
          "10",
          "9",
          "8",
          "7",
          "6",
          "5",
          "4",
          "3",
          "2",
          "1",
          "0"
         ],
         "y": [
          "0",
          "1",
          "2",
          "3",
          "4",
          "5",
          "6",
          "7",
          "8",
          "9",
          "10",
          "11",
          "12",
          "13",
          "14",
          "15",
          "16",
          "17",
          "18",
          "19",
          "20"
         ],
         "z": [
          [
           0.18,
           0,
           0,
           0,
           0,
           0,
           0,
           0,
           0,
           0,
           0,
           0,
           0,
           0,
           0,
           0,
           0,
           0,
           0,
           0,
           0.82
          ],
          [
           0.47,
           0,
           0,
           0,
           0,
           0,
           0,
           0,
           0,
           0,
           0,
           0,
           0,
           0,
           0,
           0,
           0,
           0,
           0,
           0,
           0.53
          ],
          [
           0.44,
           0,
           0,
           0,
           0,
           0,
           0,
           0,
           0,
           0,
           0,
           0,
           0,
           0,
           0,
           0,
           0,
           0,
           0,
           0,
           0.56
          ],
          [
           0.48,
           0,
           0,
           0,
           0,
           0,
           0,
           0,
           0,
           0,
           0,
           0,
           0,
           0,
           0,
           0,
           0,
           0,
           0,
           0,
           0.52
          ],
          [
           0.46,
           0,
           0,
           0,
           0,
           0,
           0,
           0,
           0,
           0,
           0,
           0,
           0,
           0,
           0,
           0,
           0,
           0,
           0,
           0,
           0.54
          ],
          [
           0.51,
           0,
           0,
           0,
           0,
           0,
           0,
           0,
           0,
           0,
           0,
           0,
           0,
           0,
           0,
           0,
           0,
           0,
           0,
           0,
           0.49
          ],
          [
           0.54,
           0,
           0,
           0,
           0,
           0,
           0,
           0,
           0,
           0,
           0,
           0,
           0,
           0,
           0,
           0,
           0,
           0,
           0,
           0,
           0.46
          ],
          [
           0.5,
           0,
           0,
           0,
           0,
           0,
           0,
           0,
           0,
           0,
           0,
           0,
           0,
           0,
           0,
           0,
           0,
           0,
           0,
           0,
           0.5
          ],
          [
           0.55,
           0,
           0,
           0,
           0,
           0,
           0,
           0,
           0,
           0,
           0,
           0,
           0,
           0,
           0,
           0,
           0,
           0,
           0,
           0,
           0.45
          ],
          [
           0.49,
           0,
           0,
           0,
           0,
           0,
           0,
           0,
           0,
           0,
           0,
           0,
           0,
           0,
           0,
           0,
           0,
           0,
           0,
           0,
           0.51
          ],
          [
           0.51,
           0,
           0,
           0,
           0,
           0,
           0,
           0,
           0,
           0,
           0,
           0,
           0,
           0,
           0,
           0,
           0,
           0,
           0,
           0,
           0.49
          ],
          [
           0.55,
           0,
           0,
           0,
           0,
           0,
           0,
           0,
           0,
           0,
           0,
           0,
           0,
           0,
           0,
           0,
           0,
           0,
           0,
           0,
           0.45
          ],
          [
           0.52,
           0,
           0,
           0,
           0,
           0,
           0,
           0,
           0,
           0,
           0,
           0,
           0,
           0,
           0,
           0,
           0,
           0,
           0,
           0,
           0.48
          ],
          [
           0.47,
           0,
           0,
           0,
           0,
           0,
           0,
           0,
           0,
           0,
           0,
           0,
           0,
           0,
           0,
           0,
           0,
           0,
           0,
           0,
           0.53
          ],
          [
           0.62,
           0,
           0,
           0,
           0,
           0,
           0,
           0,
           0,
           0,
           0,
           0,
           0,
           0,
           0,
           0,
           0,
           0,
           0,
           0,
           0.38
          ],
          [
           0.66,
           0,
           0,
           0,
           0,
           0,
           0,
           0,
           0,
           0,
           0,
           0,
           0,
           0,
           0,
           0,
           0,
           0,
           0,
           0,
           0.34
          ],
          [
           0.69,
           0,
           0,
           0,
           0,
           0,
           0,
           0,
           0,
           0,
           0,
           0,
           0,
           0,
           0,
           0,
           0,
           0,
           0,
           0,
           0.31
          ],
          [
           0.85,
           0,
           0,
           0,
           0,
           0,
           0,
           0,
           0,
           0,
           0,
           0,
           0,
           0,
           0,
           0,
           0,
           0,
           0,
           0,
           0.15
          ],
          [
           0.89,
           0,
           0,
           0,
           0,
           0,
           0,
           0,
           0,
           0,
           0,
           0,
           0,
           0,
           0,
           0,
           0,
           0,
           0,
           0,
           0.11
          ],
          [
           0.94,
           0,
           0,
           0,
           0,
           0,
           0,
           0,
           0,
           0,
           0,
           0,
           0,
           0,
           0,
           0,
           0,
           0,
           0,
           0,
           0.06
          ],
          [
           0.98,
           0,
           0,
           0,
           0,
           0,
           0,
           0,
           0,
           0,
           0,
           0,
           0,
           0,
           0,
           0,
           0,
           0,
           0,
           0,
           0.02
          ]
         ]
        }
       ],
       "layout": {
        "annotations": [
         {
          "font": {
           "color": "#000000"
          },
          "showarrow": false,
          "text": "0.18",
          "x": "20",
          "xref": "x",
          "y": "0",
          "yref": "y"
         },
         {
          "font": {
           "color": "#000000"
          },
          "showarrow": false,
          "text": "0.0",
          "x": "19",
          "xref": "x",
          "y": "0",
          "yref": "y"
         },
         {
          "font": {
           "color": "#000000"
          },
          "showarrow": false,
          "text": "0.0",
          "x": "18",
          "xref": "x",
          "y": "0",
          "yref": "y"
         },
         {
          "font": {
           "color": "#000000"
          },
          "showarrow": false,
          "text": "0.0",
          "x": "17",
          "xref": "x",
          "y": "0",
          "yref": "y"
         },
         {
          "font": {
           "color": "#000000"
          },
          "showarrow": false,
          "text": "0.0",
          "x": "16",
          "xref": "x",
          "y": "0",
          "yref": "y"
         },
         {
          "font": {
           "color": "#000000"
          },
          "showarrow": false,
          "text": "0.0",
          "x": "15",
          "xref": "x",
          "y": "0",
          "yref": "y"
         },
         {
          "font": {
           "color": "#000000"
          },
          "showarrow": false,
          "text": "0.0",
          "x": "14",
          "xref": "x",
          "y": "0",
          "yref": "y"
         },
         {
          "font": {
           "color": "#000000"
          },
          "showarrow": false,
          "text": "0.0",
          "x": "13",
          "xref": "x",
          "y": "0",
          "yref": "y"
         },
         {
          "font": {
           "color": "#000000"
          },
          "showarrow": false,
          "text": "0.0",
          "x": "12",
          "xref": "x",
          "y": "0",
          "yref": "y"
         },
         {
          "font": {
           "color": "#000000"
          },
          "showarrow": false,
          "text": "0.0",
          "x": "11",
          "xref": "x",
          "y": "0",
          "yref": "y"
         },
         {
          "font": {
           "color": "#000000"
          },
          "showarrow": false,
          "text": "0.0",
          "x": "10",
          "xref": "x",
          "y": "0",
          "yref": "y"
         },
         {
          "font": {
           "color": "#000000"
          },
          "showarrow": false,
          "text": "0.0",
          "x": "9",
          "xref": "x",
          "y": "0",
          "yref": "y"
         },
         {
          "font": {
           "color": "#000000"
          },
          "showarrow": false,
          "text": "0.0",
          "x": "8",
          "xref": "x",
          "y": "0",
          "yref": "y"
         },
         {
          "font": {
           "color": "#000000"
          },
          "showarrow": false,
          "text": "0.0",
          "x": "7",
          "xref": "x",
          "y": "0",
          "yref": "y"
         },
         {
          "font": {
           "color": "#000000"
          },
          "showarrow": false,
          "text": "0.0",
          "x": "6",
          "xref": "x",
          "y": "0",
          "yref": "y"
         },
         {
          "font": {
           "color": "#000000"
          },
          "showarrow": false,
          "text": "0.0",
          "x": "5",
          "xref": "x",
          "y": "0",
          "yref": "y"
         },
         {
          "font": {
           "color": "#000000"
          },
          "showarrow": false,
          "text": "0.0",
          "x": "4",
          "xref": "x",
          "y": "0",
          "yref": "y"
         },
         {
          "font": {
           "color": "#000000"
          },
          "showarrow": false,
          "text": "0.0",
          "x": "3",
          "xref": "x",
          "y": "0",
          "yref": "y"
         },
         {
          "font": {
           "color": "#000000"
          },
          "showarrow": false,
          "text": "0.0",
          "x": "2",
          "xref": "x",
          "y": "0",
          "yref": "y"
         },
         {
          "font": {
           "color": "#000000"
          },
          "showarrow": false,
          "text": "0.0",
          "x": "1",
          "xref": "x",
          "y": "0",
          "yref": "y"
         },
         {
          "font": {
           "color": "#FFFFFF"
          },
          "showarrow": false,
          "text": "0.82",
          "x": "0",
          "xref": "x",
          "y": "0",
          "yref": "y"
         },
         {
          "font": {
           "color": "#000000"
          },
          "showarrow": false,
          "text": "0.47",
          "x": "20",
          "xref": "x",
          "y": "1",
          "yref": "y"
         },
         {
          "font": {
           "color": "#000000"
          },
          "showarrow": false,
          "text": "0.0",
          "x": "19",
          "xref": "x",
          "y": "1",
          "yref": "y"
         },
         {
          "font": {
           "color": "#000000"
          },
          "showarrow": false,
          "text": "0.0",
          "x": "18",
          "xref": "x",
          "y": "1",
          "yref": "y"
         },
         {
          "font": {
           "color": "#000000"
          },
          "showarrow": false,
          "text": "0.0",
          "x": "17",
          "xref": "x",
          "y": "1",
          "yref": "y"
         },
         {
          "font": {
           "color": "#000000"
          },
          "showarrow": false,
          "text": "0.0",
          "x": "16",
          "xref": "x",
          "y": "1",
          "yref": "y"
         },
         {
          "font": {
           "color": "#000000"
          },
          "showarrow": false,
          "text": "0.0",
          "x": "15",
          "xref": "x",
          "y": "1",
          "yref": "y"
         },
         {
          "font": {
           "color": "#000000"
          },
          "showarrow": false,
          "text": "0.0",
          "x": "14",
          "xref": "x",
          "y": "1",
          "yref": "y"
         },
         {
          "font": {
           "color": "#000000"
          },
          "showarrow": false,
          "text": "0.0",
          "x": "13",
          "xref": "x",
          "y": "1",
          "yref": "y"
         },
         {
          "font": {
           "color": "#000000"
          },
          "showarrow": false,
          "text": "0.0",
          "x": "12",
          "xref": "x",
          "y": "1",
          "yref": "y"
         },
         {
          "font": {
           "color": "#000000"
          },
          "showarrow": false,
          "text": "0.0",
          "x": "11",
          "xref": "x",
          "y": "1",
          "yref": "y"
         },
         {
          "font": {
           "color": "#000000"
          },
          "showarrow": false,
          "text": "0.0",
          "x": "10",
          "xref": "x",
          "y": "1",
          "yref": "y"
         },
         {
          "font": {
           "color": "#000000"
          },
          "showarrow": false,
          "text": "0.0",
          "x": "9",
          "xref": "x",
          "y": "1",
          "yref": "y"
         },
         {
          "font": {
           "color": "#000000"
          },
          "showarrow": false,
          "text": "0.0",
          "x": "8",
          "xref": "x",
          "y": "1",
          "yref": "y"
         },
         {
          "font": {
           "color": "#000000"
          },
          "showarrow": false,
          "text": "0.0",
          "x": "7",
          "xref": "x",
          "y": "1",
          "yref": "y"
         },
         {
          "font": {
           "color": "#000000"
          },
          "showarrow": false,
          "text": "0.0",
          "x": "6",
          "xref": "x",
          "y": "1",
          "yref": "y"
         },
         {
          "font": {
           "color": "#000000"
          },
          "showarrow": false,
          "text": "0.0",
          "x": "5",
          "xref": "x",
          "y": "1",
          "yref": "y"
         },
         {
          "font": {
           "color": "#000000"
          },
          "showarrow": false,
          "text": "0.0",
          "x": "4",
          "xref": "x",
          "y": "1",
          "yref": "y"
         },
         {
          "font": {
           "color": "#000000"
          },
          "showarrow": false,
          "text": "0.0",
          "x": "3",
          "xref": "x",
          "y": "1",
          "yref": "y"
         },
         {
          "font": {
           "color": "#000000"
          },
          "showarrow": false,
          "text": "0.0",
          "x": "2",
          "xref": "x",
          "y": "1",
          "yref": "y"
         },
         {
          "font": {
           "color": "#000000"
          },
          "showarrow": false,
          "text": "0.0",
          "x": "1",
          "xref": "x",
          "y": "1",
          "yref": "y"
         },
         {
          "font": {
           "color": "#FFFFFF"
          },
          "showarrow": false,
          "text": "0.53",
          "x": "0",
          "xref": "x",
          "y": "1",
          "yref": "y"
         },
         {
          "font": {
           "color": "#000000"
          },
          "showarrow": false,
          "text": "0.44",
          "x": "20",
          "xref": "x",
          "y": "2",
          "yref": "y"
         },
         {
          "font": {
           "color": "#000000"
          },
          "showarrow": false,
          "text": "0.0",
          "x": "19",
          "xref": "x",
          "y": "2",
          "yref": "y"
         },
         {
          "font": {
           "color": "#000000"
          },
          "showarrow": false,
          "text": "0.0",
          "x": "18",
          "xref": "x",
          "y": "2",
          "yref": "y"
         },
         {
          "font": {
           "color": "#000000"
          },
          "showarrow": false,
          "text": "0.0",
          "x": "17",
          "xref": "x",
          "y": "2",
          "yref": "y"
         },
         {
          "font": {
           "color": "#000000"
          },
          "showarrow": false,
          "text": "0.0",
          "x": "16",
          "xref": "x",
          "y": "2",
          "yref": "y"
         },
         {
          "font": {
           "color": "#000000"
          },
          "showarrow": false,
          "text": "0.0",
          "x": "15",
          "xref": "x",
          "y": "2",
          "yref": "y"
         },
         {
          "font": {
           "color": "#000000"
          },
          "showarrow": false,
          "text": "0.0",
          "x": "14",
          "xref": "x",
          "y": "2",
          "yref": "y"
         },
         {
          "font": {
           "color": "#000000"
          },
          "showarrow": false,
          "text": "0.0",
          "x": "13",
          "xref": "x",
          "y": "2",
          "yref": "y"
         },
         {
          "font": {
           "color": "#000000"
          },
          "showarrow": false,
          "text": "0.0",
          "x": "12",
          "xref": "x",
          "y": "2",
          "yref": "y"
         },
         {
          "font": {
           "color": "#000000"
          },
          "showarrow": false,
          "text": "0.0",
          "x": "11",
          "xref": "x",
          "y": "2",
          "yref": "y"
         },
         {
          "font": {
           "color": "#000000"
          },
          "showarrow": false,
          "text": "0.0",
          "x": "10",
          "xref": "x",
          "y": "2",
          "yref": "y"
         },
         {
          "font": {
           "color": "#000000"
          },
          "showarrow": false,
          "text": "0.0",
          "x": "9",
          "xref": "x",
          "y": "2",
          "yref": "y"
         },
         {
          "font": {
           "color": "#000000"
          },
          "showarrow": false,
          "text": "0.0",
          "x": "8",
          "xref": "x",
          "y": "2",
          "yref": "y"
         },
         {
          "font": {
           "color": "#000000"
          },
          "showarrow": false,
          "text": "0.0",
          "x": "7",
          "xref": "x",
          "y": "2",
          "yref": "y"
         },
         {
          "font": {
           "color": "#000000"
          },
          "showarrow": false,
          "text": "0.0",
          "x": "6",
          "xref": "x",
          "y": "2",
          "yref": "y"
         },
         {
          "font": {
           "color": "#000000"
          },
          "showarrow": false,
          "text": "0.0",
          "x": "5",
          "xref": "x",
          "y": "2",
          "yref": "y"
         },
         {
          "font": {
           "color": "#000000"
          },
          "showarrow": false,
          "text": "0.0",
          "x": "4",
          "xref": "x",
          "y": "2",
          "yref": "y"
         },
         {
          "font": {
           "color": "#000000"
          },
          "showarrow": false,
          "text": "0.0",
          "x": "3",
          "xref": "x",
          "y": "2",
          "yref": "y"
         },
         {
          "font": {
           "color": "#000000"
          },
          "showarrow": false,
          "text": "0.0",
          "x": "2",
          "xref": "x",
          "y": "2",
          "yref": "y"
         },
         {
          "font": {
           "color": "#000000"
          },
          "showarrow": false,
          "text": "0.0",
          "x": "1",
          "xref": "x",
          "y": "2",
          "yref": "y"
         },
         {
          "font": {
           "color": "#FFFFFF"
          },
          "showarrow": false,
          "text": "0.56",
          "x": "0",
          "xref": "x",
          "y": "2",
          "yref": "y"
         },
         {
          "font": {
           "color": "#000000"
          },
          "showarrow": false,
          "text": "0.48",
          "x": "20",
          "xref": "x",
          "y": "3",
          "yref": "y"
         },
         {
          "font": {
           "color": "#000000"
          },
          "showarrow": false,
          "text": "0.0",
          "x": "19",
          "xref": "x",
          "y": "3",
          "yref": "y"
         },
         {
          "font": {
           "color": "#000000"
          },
          "showarrow": false,
          "text": "0.0",
          "x": "18",
          "xref": "x",
          "y": "3",
          "yref": "y"
         },
         {
          "font": {
           "color": "#000000"
          },
          "showarrow": false,
          "text": "0.0",
          "x": "17",
          "xref": "x",
          "y": "3",
          "yref": "y"
         },
         {
          "font": {
           "color": "#000000"
          },
          "showarrow": false,
          "text": "0.0",
          "x": "16",
          "xref": "x",
          "y": "3",
          "yref": "y"
         },
         {
          "font": {
           "color": "#000000"
          },
          "showarrow": false,
          "text": "0.0",
          "x": "15",
          "xref": "x",
          "y": "3",
          "yref": "y"
         },
         {
          "font": {
           "color": "#000000"
          },
          "showarrow": false,
          "text": "0.0",
          "x": "14",
          "xref": "x",
          "y": "3",
          "yref": "y"
         },
         {
          "font": {
           "color": "#000000"
          },
          "showarrow": false,
          "text": "0.0",
          "x": "13",
          "xref": "x",
          "y": "3",
          "yref": "y"
         },
         {
          "font": {
           "color": "#000000"
          },
          "showarrow": false,
          "text": "0.0",
          "x": "12",
          "xref": "x",
          "y": "3",
          "yref": "y"
         },
         {
          "font": {
           "color": "#000000"
          },
          "showarrow": false,
          "text": "0.0",
          "x": "11",
          "xref": "x",
          "y": "3",
          "yref": "y"
         },
         {
          "font": {
           "color": "#000000"
          },
          "showarrow": false,
          "text": "0.0",
          "x": "10",
          "xref": "x",
          "y": "3",
          "yref": "y"
         },
         {
          "font": {
           "color": "#000000"
          },
          "showarrow": false,
          "text": "0.0",
          "x": "9",
          "xref": "x",
          "y": "3",
          "yref": "y"
         },
         {
          "font": {
           "color": "#000000"
          },
          "showarrow": false,
          "text": "0.0",
          "x": "8",
          "xref": "x",
          "y": "3",
          "yref": "y"
         },
         {
          "font": {
           "color": "#000000"
          },
          "showarrow": false,
          "text": "0.0",
          "x": "7",
          "xref": "x",
          "y": "3",
          "yref": "y"
         },
         {
          "font": {
           "color": "#000000"
          },
          "showarrow": false,
          "text": "0.0",
          "x": "6",
          "xref": "x",
          "y": "3",
          "yref": "y"
         },
         {
          "font": {
           "color": "#000000"
          },
          "showarrow": false,
          "text": "0.0",
          "x": "5",
          "xref": "x",
          "y": "3",
          "yref": "y"
         },
         {
          "font": {
           "color": "#000000"
          },
          "showarrow": false,
          "text": "0.0",
          "x": "4",
          "xref": "x",
          "y": "3",
          "yref": "y"
         },
         {
          "font": {
           "color": "#000000"
          },
          "showarrow": false,
          "text": "0.0",
          "x": "3",
          "xref": "x",
          "y": "3",
          "yref": "y"
         },
         {
          "font": {
           "color": "#000000"
          },
          "showarrow": false,
          "text": "0.0",
          "x": "2",
          "xref": "x",
          "y": "3",
          "yref": "y"
         },
         {
          "font": {
           "color": "#000000"
          },
          "showarrow": false,
          "text": "0.0",
          "x": "1",
          "xref": "x",
          "y": "3",
          "yref": "y"
         },
         {
          "font": {
           "color": "#FFFFFF"
          },
          "showarrow": false,
          "text": "0.52",
          "x": "0",
          "xref": "x",
          "y": "3",
          "yref": "y"
         },
         {
          "font": {
           "color": "#000000"
          },
          "showarrow": false,
          "text": "0.46",
          "x": "20",
          "xref": "x",
          "y": "4",
          "yref": "y"
         },
         {
          "font": {
           "color": "#000000"
          },
          "showarrow": false,
          "text": "0.0",
          "x": "19",
          "xref": "x",
          "y": "4",
          "yref": "y"
         },
         {
          "font": {
           "color": "#000000"
          },
          "showarrow": false,
          "text": "0.0",
          "x": "18",
          "xref": "x",
          "y": "4",
          "yref": "y"
         },
         {
          "font": {
           "color": "#000000"
          },
          "showarrow": false,
          "text": "0.0",
          "x": "17",
          "xref": "x",
          "y": "4",
          "yref": "y"
         },
         {
          "font": {
           "color": "#000000"
          },
          "showarrow": false,
          "text": "0.0",
          "x": "16",
          "xref": "x",
          "y": "4",
          "yref": "y"
         },
         {
          "font": {
           "color": "#000000"
          },
          "showarrow": false,
          "text": "0.0",
          "x": "15",
          "xref": "x",
          "y": "4",
          "yref": "y"
         },
         {
          "font": {
           "color": "#000000"
          },
          "showarrow": false,
          "text": "0.0",
          "x": "14",
          "xref": "x",
          "y": "4",
          "yref": "y"
         },
         {
          "font": {
           "color": "#000000"
          },
          "showarrow": false,
          "text": "0.0",
          "x": "13",
          "xref": "x",
          "y": "4",
          "yref": "y"
         },
         {
          "font": {
           "color": "#000000"
          },
          "showarrow": false,
          "text": "0.0",
          "x": "12",
          "xref": "x",
          "y": "4",
          "yref": "y"
         },
         {
          "font": {
           "color": "#000000"
          },
          "showarrow": false,
          "text": "0.0",
          "x": "11",
          "xref": "x",
          "y": "4",
          "yref": "y"
         },
         {
          "font": {
           "color": "#000000"
          },
          "showarrow": false,
          "text": "0.0",
          "x": "10",
          "xref": "x",
          "y": "4",
          "yref": "y"
         },
         {
          "font": {
           "color": "#000000"
          },
          "showarrow": false,
          "text": "0.0",
          "x": "9",
          "xref": "x",
          "y": "4",
          "yref": "y"
         },
         {
          "font": {
           "color": "#000000"
          },
          "showarrow": false,
          "text": "0.0",
          "x": "8",
          "xref": "x",
          "y": "4",
          "yref": "y"
         },
         {
          "font": {
           "color": "#000000"
          },
          "showarrow": false,
          "text": "0.0",
          "x": "7",
          "xref": "x",
          "y": "4",
          "yref": "y"
         },
         {
          "font": {
           "color": "#000000"
          },
          "showarrow": false,
          "text": "0.0",
          "x": "6",
          "xref": "x",
          "y": "4",
          "yref": "y"
         },
         {
          "font": {
           "color": "#000000"
          },
          "showarrow": false,
          "text": "0.0",
          "x": "5",
          "xref": "x",
          "y": "4",
          "yref": "y"
         },
         {
          "font": {
           "color": "#000000"
          },
          "showarrow": false,
          "text": "0.0",
          "x": "4",
          "xref": "x",
          "y": "4",
          "yref": "y"
         },
         {
          "font": {
           "color": "#000000"
          },
          "showarrow": false,
          "text": "0.0",
          "x": "3",
          "xref": "x",
          "y": "4",
          "yref": "y"
         },
         {
          "font": {
           "color": "#000000"
          },
          "showarrow": false,
          "text": "0.0",
          "x": "2",
          "xref": "x",
          "y": "4",
          "yref": "y"
         },
         {
          "font": {
           "color": "#000000"
          },
          "showarrow": false,
          "text": "0.0",
          "x": "1",
          "xref": "x",
          "y": "4",
          "yref": "y"
         },
         {
          "font": {
           "color": "#FFFFFF"
          },
          "showarrow": false,
          "text": "0.54",
          "x": "0",
          "xref": "x",
          "y": "4",
          "yref": "y"
         },
         {
          "font": {
           "color": "#FFFFFF"
          },
          "showarrow": false,
          "text": "0.51",
          "x": "20",
          "xref": "x",
          "y": "5",
          "yref": "y"
         },
         {
          "font": {
           "color": "#000000"
          },
          "showarrow": false,
          "text": "0.0",
          "x": "19",
          "xref": "x",
          "y": "5",
          "yref": "y"
         },
         {
          "font": {
           "color": "#000000"
          },
          "showarrow": false,
          "text": "0.0",
          "x": "18",
          "xref": "x",
          "y": "5",
          "yref": "y"
         },
         {
          "font": {
           "color": "#000000"
          },
          "showarrow": false,
          "text": "0.0",
          "x": "17",
          "xref": "x",
          "y": "5",
          "yref": "y"
         },
         {
          "font": {
           "color": "#000000"
          },
          "showarrow": false,
          "text": "0.0",
          "x": "16",
          "xref": "x",
          "y": "5",
          "yref": "y"
         },
         {
          "font": {
           "color": "#000000"
          },
          "showarrow": false,
          "text": "0.0",
          "x": "15",
          "xref": "x",
          "y": "5",
          "yref": "y"
         },
         {
          "font": {
           "color": "#000000"
          },
          "showarrow": false,
          "text": "0.0",
          "x": "14",
          "xref": "x",
          "y": "5",
          "yref": "y"
         },
         {
          "font": {
           "color": "#000000"
          },
          "showarrow": false,
          "text": "0.0",
          "x": "13",
          "xref": "x",
          "y": "5",
          "yref": "y"
         },
         {
          "font": {
           "color": "#000000"
          },
          "showarrow": false,
          "text": "0.0",
          "x": "12",
          "xref": "x",
          "y": "5",
          "yref": "y"
         },
         {
          "font": {
           "color": "#000000"
          },
          "showarrow": false,
          "text": "0.0",
          "x": "11",
          "xref": "x",
          "y": "5",
          "yref": "y"
         },
         {
          "font": {
           "color": "#000000"
          },
          "showarrow": false,
          "text": "0.0",
          "x": "10",
          "xref": "x",
          "y": "5",
          "yref": "y"
         },
         {
          "font": {
           "color": "#000000"
          },
          "showarrow": false,
          "text": "0.0",
          "x": "9",
          "xref": "x",
          "y": "5",
          "yref": "y"
         },
         {
          "font": {
           "color": "#000000"
          },
          "showarrow": false,
          "text": "0.0",
          "x": "8",
          "xref": "x",
          "y": "5",
          "yref": "y"
         },
         {
          "font": {
           "color": "#000000"
          },
          "showarrow": false,
          "text": "0.0",
          "x": "7",
          "xref": "x",
          "y": "5",
          "yref": "y"
         },
         {
          "font": {
           "color": "#000000"
          },
          "showarrow": false,
          "text": "0.0",
          "x": "6",
          "xref": "x",
          "y": "5",
          "yref": "y"
         },
         {
          "font": {
           "color": "#000000"
          },
          "showarrow": false,
          "text": "0.0",
          "x": "5",
          "xref": "x",
          "y": "5",
          "yref": "y"
         },
         {
          "font": {
           "color": "#000000"
          },
          "showarrow": false,
          "text": "0.0",
          "x": "4",
          "xref": "x",
          "y": "5",
          "yref": "y"
         },
         {
          "font": {
           "color": "#000000"
          },
          "showarrow": false,
          "text": "0.0",
          "x": "3",
          "xref": "x",
          "y": "5",
          "yref": "y"
         },
         {
          "font": {
           "color": "#000000"
          },
          "showarrow": false,
          "text": "0.0",
          "x": "2",
          "xref": "x",
          "y": "5",
          "yref": "y"
         },
         {
          "font": {
           "color": "#000000"
          },
          "showarrow": false,
          "text": "0.0",
          "x": "1",
          "xref": "x",
          "y": "5",
          "yref": "y"
         },
         {
          "font": {
           "color": "#FFFFFF"
          },
          "showarrow": false,
          "text": "0.49",
          "x": "0",
          "xref": "x",
          "y": "5",
          "yref": "y"
         },
         {
          "font": {
           "color": "#FFFFFF"
          },
          "showarrow": false,
          "text": "0.54",
          "x": "20",
          "xref": "x",
          "y": "6",
          "yref": "y"
         },
         {
          "font": {
           "color": "#000000"
          },
          "showarrow": false,
          "text": "0.0",
          "x": "19",
          "xref": "x",
          "y": "6",
          "yref": "y"
         },
         {
          "font": {
           "color": "#000000"
          },
          "showarrow": false,
          "text": "0.0",
          "x": "18",
          "xref": "x",
          "y": "6",
          "yref": "y"
         },
         {
          "font": {
           "color": "#000000"
          },
          "showarrow": false,
          "text": "0.0",
          "x": "17",
          "xref": "x",
          "y": "6",
          "yref": "y"
         },
         {
          "font": {
           "color": "#000000"
          },
          "showarrow": false,
          "text": "0.0",
          "x": "16",
          "xref": "x",
          "y": "6",
          "yref": "y"
         },
         {
          "font": {
           "color": "#000000"
          },
          "showarrow": false,
          "text": "0.0",
          "x": "15",
          "xref": "x",
          "y": "6",
          "yref": "y"
         },
         {
          "font": {
           "color": "#000000"
          },
          "showarrow": false,
          "text": "0.0",
          "x": "14",
          "xref": "x",
          "y": "6",
          "yref": "y"
         },
         {
          "font": {
           "color": "#000000"
          },
          "showarrow": false,
          "text": "0.0",
          "x": "13",
          "xref": "x",
          "y": "6",
          "yref": "y"
         },
         {
          "font": {
           "color": "#000000"
          },
          "showarrow": false,
          "text": "0.0",
          "x": "12",
          "xref": "x",
          "y": "6",
          "yref": "y"
         },
         {
          "font": {
           "color": "#000000"
          },
          "showarrow": false,
          "text": "0.0",
          "x": "11",
          "xref": "x",
          "y": "6",
          "yref": "y"
         },
         {
          "font": {
           "color": "#000000"
          },
          "showarrow": false,
          "text": "0.0",
          "x": "10",
          "xref": "x",
          "y": "6",
          "yref": "y"
         },
         {
          "font": {
           "color": "#000000"
          },
          "showarrow": false,
          "text": "0.0",
          "x": "9",
          "xref": "x",
          "y": "6",
          "yref": "y"
         },
         {
          "font": {
           "color": "#000000"
          },
          "showarrow": false,
          "text": "0.0",
          "x": "8",
          "xref": "x",
          "y": "6",
          "yref": "y"
         },
         {
          "font": {
           "color": "#000000"
          },
          "showarrow": false,
          "text": "0.0",
          "x": "7",
          "xref": "x",
          "y": "6",
          "yref": "y"
         },
         {
          "font": {
           "color": "#000000"
          },
          "showarrow": false,
          "text": "0.0",
          "x": "6",
          "xref": "x",
          "y": "6",
          "yref": "y"
         },
         {
          "font": {
           "color": "#000000"
          },
          "showarrow": false,
          "text": "0.0",
          "x": "5",
          "xref": "x",
          "y": "6",
          "yref": "y"
         },
         {
          "font": {
           "color": "#000000"
          },
          "showarrow": false,
          "text": "0.0",
          "x": "4",
          "xref": "x",
          "y": "6",
          "yref": "y"
         },
         {
          "font": {
           "color": "#000000"
          },
          "showarrow": false,
          "text": "0.0",
          "x": "3",
          "xref": "x",
          "y": "6",
          "yref": "y"
         },
         {
          "font": {
           "color": "#000000"
          },
          "showarrow": false,
          "text": "0.0",
          "x": "2",
          "xref": "x",
          "y": "6",
          "yref": "y"
         },
         {
          "font": {
           "color": "#000000"
          },
          "showarrow": false,
          "text": "0.0",
          "x": "1",
          "xref": "x",
          "y": "6",
          "yref": "y"
         },
         {
          "font": {
           "color": "#000000"
          },
          "showarrow": false,
          "text": "0.46",
          "x": "0",
          "xref": "x",
          "y": "6",
          "yref": "y"
         },
         {
          "font": {
           "color": "#FFFFFF"
          },
          "showarrow": false,
          "text": "0.5",
          "x": "20",
          "xref": "x",
          "y": "7",
          "yref": "y"
         },
         {
          "font": {
           "color": "#000000"
          },
          "showarrow": false,
          "text": "0.0",
          "x": "19",
          "xref": "x",
          "y": "7",
          "yref": "y"
         },
         {
          "font": {
           "color": "#000000"
          },
          "showarrow": false,
          "text": "0.0",
          "x": "18",
          "xref": "x",
          "y": "7",
          "yref": "y"
         },
         {
          "font": {
           "color": "#000000"
          },
          "showarrow": false,
          "text": "0.0",
          "x": "17",
          "xref": "x",
          "y": "7",
          "yref": "y"
         },
         {
          "font": {
           "color": "#000000"
          },
          "showarrow": false,
          "text": "0.0",
          "x": "16",
          "xref": "x",
          "y": "7",
          "yref": "y"
         },
         {
          "font": {
           "color": "#000000"
          },
          "showarrow": false,
          "text": "0.0",
          "x": "15",
          "xref": "x",
          "y": "7",
          "yref": "y"
         },
         {
          "font": {
           "color": "#000000"
          },
          "showarrow": false,
          "text": "0.0",
          "x": "14",
          "xref": "x",
          "y": "7",
          "yref": "y"
         },
         {
          "font": {
           "color": "#000000"
          },
          "showarrow": false,
          "text": "0.0",
          "x": "13",
          "xref": "x",
          "y": "7",
          "yref": "y"
         },
         {
          "font": {
           "color": "#000000"
          },
          "showarrow": false,
          "text": "0.0",
          "x": "12",
          "xref": "x",
          "y": "7",
          "yref": "y"
         },
         {
          "font": {
           "color": "#000000"
          },
          "showarrow": false,
          "text": "0.0",
          "x": "11",
          "xref": "x",
          "y": "7",
          "yref": "y"
         },
         {
          "font": {
           "color": "#000000"
          },
          "showarrow": false,
          "text": "0.0",
          "x": "10",
          "xref": "x",
          "y": "7",
          "yref": "y"
         },
         {
          "font": {
           "color": "#000000"
          },
          "showarrow": false,
          "text": "0.0",
          "x": "9",
          "xref": "x",
          "y": "7",
          "yref": "y"
         },
         {
          "font": {
           "color": "#000000"
          },
          "showarrow": false,
          "text": "0.0",
          "x": "8",
          "xref": "x",
          "y": "7",
          "yref": "y"
         },
         {
          "font": {
           "color": "#000000"
          },
          "showarrow": false,
          "text": "0.0",
          "x": "7",
          "xref": "x",
          "y": "7",
          "yref": "y"
         },
         {
          "font": {
           "color": "#000000"
          },
          "showarrow": false,
          "text": "0.0",
          "x": "6",
          "xref": "x",
          "y": "7",
          "yref": "y"
         },
         {
          "font": {
           "color": "#000000"
          },
          "showarrow": false,
          "text": "0.0",
          "x": "5",
          "xref": "x",
          "y": "7",
          "yref": "y"
         },
         {
          "font": {
           "color": "#000000"
          },
          "showarrow": false,
          "text": "0.0",
          "x": "4",
          "xref": "x",
          "y": "7",
          "yref": "y"
         },
         {
          "font": {
           "color": "#000000"
          },
          "showarrow": false,
          "text": "0.0",
          "x": "3",
          "xref": "x",
          "y": "7",
          "yref": "y"
         },
         {
          "font": {
           "color": "#000000"
          },
          "showarrow": false,
          "text": "0.0",
          "x": "2",
          "xref": "x",
          "y": "7",
          "yref": "y"
         },
         {
          "font": {
           "color": "#000000"
          },
          "showarrow": false,
          "text": "0.0",
          "x": "1",
          "xref": "x",
          "y": "7",
          "yref": "y"
         },
         {
          "font": {
           "color": "#FFFFFF"
          },
          "showarrow": false,
          "text": "0.5",
          "x": "0",
          "xref": "x",
          "y": "7",
          "yref": "y"
         },
         {
          "font": {
           "color": "#FFFFFF"
          },
          "showarrow": false,
          "text": "0.55",
          "x": "20",
          "xref": "x",
          "y": "8",
          "yref": "y"
         },
         {
          "font": {
           "color": "#000000"
          },
          "showarrow": false,
          "text": "0.0",
          "x": "19",
          "xref": "x",
          "y": "8",
          "yref": "y"
         },
         {
          "font": {
           "color": "#000000"
          },
          "showarrow": false,
          "text": "0.0",
          "x": "18",
          "xref": "x",
          "y": "8",
          "yref": "y"
         },
         {
          "font": {
           "color": "#000000"
          },
          "showarrow": false,
          "text": "0.0",
          "x": "17",
          "xref": "x",
          "y": "8",
          "yref": "y"
         },
         {
          "font": {
           "color": "#000000"
          },
          "showarrow": false,
          "text": "0.0",
          "x": "16",
          "xref": "x",
          "y": "8",
          "yref": "y"
         },
         {
          "font": {
           "color": "#000000"
          },
          "showarrow": false,
          "text": "0.0",
          "x": "15",
          "xref": "x",
          "y": "8",
          "yref": "y"
         },
         {
          "font": {
           "color": "#000000"
          },
          "showarrow": false,
          "text": "0.0",
          "x": "14",
          "xref": "x",
          "y": "8",
          "yref": "y"
         },
         {
          "font": {
           "color": "#000000"
          },
          "showarrow": false,
          "text": "0.0",
          "x": "13",
          "xref": "x",
          "y": "8",
          "yref": "y"
         },
         {
          "font": {
           "color": "#000000"
          },
          "showarrow": false,
          "text": "0.0",
          "x": "12",
          "xref": "x",
          "y": "8",
          "yref": "y"
         },
         {
          "font": {
           "color": "#000000"
          },
          "showarrow": false,
          "text": "0.0",
          "x": "11",
          "xref": "x",
          "y": "8",
          "yref": "y"
         },
         {
          "font": {
           "color": "#000000"
          },
          "showarrow": false,
          "text": "0.0",
          "x": "10",
          "xref": "x",
          "y": "8",
          "yref": "y"
         },
         {
          "font": {
           "color": "#000000"
          },
          "showarrow": false,
          "text": "0.0",
          "x": "9",
          "xref": "x",
          "y": "8",
          "yref": "y"
         },
         {
          "font": {
           "color": "#000000"
          },
          "showarrow": false,
          "text": "0.0",
          "x": "8",
          "xref": "x",
          "y": "8",
          "yref": "y"
         },
         {
          "font": {
           "color": "#000000"
          },
          "showarrow": false,
          "text": "0.0",
          "x": "7",
          "xref": "x",
          "y": "8",
          "yref": "y"
         },
         {
          "font": {
           "color": "#000000"
          },
          "showarrow": false,
          "text": "0.0",
          "x": "6",
          "xref": "x",
          "y": "8",
          "yref": "y"
         },
         {
          "font": {
           "color": "#000000"
          },
          "showarrow": false,
          "text": "0.0",
          "x": "5",
          "xref": "x",
          "y": "8",
          "yref": "y"
         },
         {
          "font": {
           "color": "#000000"
          },
          "showarrow": false,
          "text": "0.0",
          "x": "4",
          "xref": "x",
          "y": "8",
          "yref": "y"
         },
         {
          "font": {
           "color": "#000000"
          },
          "showarrow": false,
          "text": "0.0",
          "x": "3",
          "xref": "x",
          "y": "8",
          "yref": "y"
         },
         {
          "font": {
           "color": "#000000"
          },
          "showarrow": false,
          "text": "0.0",
          "x": "2",
          "xref": "x",
          "y": "8",
          "yref": "y"
         },
         {
          "font": {
           "color": "#000000"
          },
          "showarrow": false,
          "text": "0.0",
          "x": "1",
          "xref": "x",
          "y": "8",
          "yref": "y"
         },
         {
          "font": {
           "color": "#000000"
          },
          "showarrow": false,
          "text": "0.45",
          "x": "0",
          "xref": "x",
          "y": "8",
          "yref": "y"
         },
         {
          "font": {
           "color": "#FFFFFF"
          },
          "showarrow": false,
          "text": "0.49",
          "x": "20",
          "xref": "x",
          "y": "9",
          "yref": "y"
         },
         {
          "font": {
           "color": "#000000"
          },
          "showarrow": false,
          "text": "0.0",
          "x": "19",
          "xref": "x",
          "y": "9",
          "yref": "y"
         },
         {
          "font": {
           "color": "#000000"
          },
          "showarrow": false,
          "text": "0.0",
          "x": "18",
          "xref": "x",
          "y": "9",
          "yref": "y"
         },
         {
          "font": {
           "color": "#000000"
          },
          "showarrow": false,
          "text": "0.0",
          "x": "17",
          "xref": "x",
          "y": "9",
          "yref": "y"
         },
         {
          "font": {
           "color": "#000000"
          },
          "showarrow": false,
          "text": "0.0",
          "x": "16",
          "xref": "x",
          "y": "9",
          "yref": "y"
         },
         {
          "font": {
           "color": "#000000"
          },
          "showarrow": false,
          "text": "0.0",
          "x": "15",
          "xref": "x",
          "y": "9",
          "yref": "y"
         },
         {
          "font": {
           "color": "#000000"
          },
          "showarrow": false,
          "text": "0.0",
          "x": "14",
          "xref": "x",
          "y": "9",
          "yref": "y"
         },
         {
          "font": {
           "color": "#000000"
          },
          "showarrow": false,
          "text": "0.0",
          "x": "13",
          "xref": "x",
          "y": "9",
          "yref": "y"
         },
         {
          "font": {
           "color": "#000000"
          },
          "showarrow": false,
          "text": "0.0",
          "x": "12",
          "xref": "x",
          "y": "9",
          "yref": "y"
         },
         {
          "font": {
           "color": "#000000"
          },
          "showarrow": false,
          "text": "0.0",
          "x": "11",
          "xref": "x",
          "y": "9",
          "yref": "y"
         },
         {
          "font": {
           "color": "#000000"
          },
          "showarrow": false,
          "text": "0.0",
          "x": "10",
          "xref": "x",
          "y": "9",
          "yref": "y"
         },
         {
          "font": {
           "color": "#000000"
          },
          "showarrow": false,
          "text": "0.0",
          "x": "9",
          "xref": "x",
          "y": "9",
          "yref": "y"
         },
         {
          "font": {
           "color": "#000000"
          },
          "showarrow": false,
          "text": "0.0",
          "x": "8",
          "xref": "x",
          "y": "9",
          "yref": "y"
         },
         {
          "font": {
           "color": "#000000"
          },
          "showarrow": false,
          "text": "0.0",
          "x": "7",
          "xref": "x",
          "y": "9",
          "yref": "y"
         },
         {
          "font": {
           "color": "#000000"
          },
          "showarrow": false,
          "text": "0.0",
          "x": "6",
          "xref": "x",
          "y": "9",
          "yref": "y"
         },
         {
          "font": {
           "color": "#000000"
          },
          "showarrow": false,
          "text": "0.0",
          "x": "5",
          "xref": "x",
          "y": "9",
          "yref": "y"
         },
         {
          "font": {
           "color": "#000000"
          },
          "showarrow": false,
          "text": "0.0",
          "x": "4",
          "xref": "x",
          "y": "9",
          "yref": "y"
         },
         {
          "font": {
           "color": "#000000"
          },
          "showarrow": false,
          "text": "0.0",
          "x": "3",
          "xref": "x",
          "y": "9",
          "yref": "y"
         },
         {
          "font": {
           "color": "#000000"
          },
          "showarrow": false,
          "text": "0.0",
          "x": "2",
          "xref": "x",
          "y": "9",
          "yref": "y"
         },
         {
          "font": {
           "color": "#000000"
          },
          "showarrow": false,
          "text": "0.0",
          "x": "1",
          "xref": "x",
          "y": "9",
          "yref": "y"
         },
         {
          "font": {
           "color": "#FFFFFF"
          },
          "showarrow": false,
          "text": "0.51",
          "x": "0",
          "xref": "x",
          "y": "9",
          "yref": "y"
         },
         {
          "font": {
           "color": "#FFFFFF"
          },
          "showarrow": false,
          "text": "0.51",
          "x": "20",
          "xref": "x",
          "y": "10",
          "yref": "y"
         },
         {
          "font": {
           "color": "#000000"
          },
          "showarrow": false,
          "text": "0.0",
          "x": "19",
          "xref": "x",
          "y": "10",
          "yref": "y"
         },
         {
          "font": {
           "color": "#000000"
          },
          "showarrow": false,
          "text": "0.0",
          "x": "18",
          "xref": "x",
          "y": "10",
          "yref": "y"
         },
         {
          "font": {
           "color": "#000000"
          },
          "showarrow": false,
          "text": "0.0",
          "x": "17",
          "xref": "x",
          "y": "10",
          "yref": "y"
         },
         {
          "font": {
           "color": "#000000"
          },
          "showarrow": false,
          "text": "0.0",
          "x": "16",
          "xref": "x",
          "y": "10",
          "yref": "y"
         },
         {
          "font": {
           "color": "#000000"
          },
          "showarrow": false,
          "text": "0.0",
          "x": "15",
          "xref": "x",
          "y": "10",
          "yref": "y"
         },
         {
          "font": {
           "color": "#000000"
          },
          "showarrow": false,
          "text": "0.0",
          "x": "14",
          "xref": "x",
          "y": "10",
          "yref": "y"
         },
         {
          "font": {
           "color": "#000000"
          },
          "showarrow": false,
          "text": "0.0",
          "x": "13",
          "xref": "x",
          "y": "10",
          "yref": "y"
         },
         {
          "font": {
           "color": "#000000"
          },
          "showarrow": false,
          "text": "0.0",
          "x": "12",
          "xref": "x",
          "y": "10",
          "yref": "y"
         },
         {
          "font": {
           "color": "#000000"
          },
          "showarrow": false,
          "text": "0.0",
          "x": "11",
          "xref": "x",
          "y": "10",
          "yref": "y"
         },
         {
          "font": {
           "color": "#000000"
          },
          "showarrow": false,
          "text": "0.0",
          "x": "10",
          "xref": "x",
          "y": "10",
          "yref": "y"
         },
         {
          "font": {
           "color": "#000000"
          },
          "showarrow": false,
          "text": "0.0",
          "x": "9",
          "xref": "x",
          "y": "10",
          "yref": "y"
         },
         {
          "font": {
           "color": "#000000"
          },
          "showarrow": false,
          "text": "0.0",
          "x": "8",
          "xref": "x",
          "y": "10",
          "yref": "y"
         },
         {
          "font": {
           "color": "#000000"
          },
          "showarrow": false,
          "text": "0.0",
          "x": "7",
          "xref": "x",
          "y": "10",
          "yref": "y"
         },
         {
          "font": {
           "color": "#000000"
          },
          "showarrow": false,
          "text": "0.0",
          "x": "6",
          "xref": "x",
          "y": "10",
          "yref": "y"
         },
         {
          "font": {
           "color": "#000000"
          },
          "showarrow": false,
          "text": "0.0",
          "x": "5",
          "xref": "x",
          "y": "10",
          "yref": "y"
         },
         {
          "font": {
           "color": "#000000"
          },
          "showarrow": false,
          "text": "0.0",
          "x": "4",
          "xref": "x",
          "y": "10",
          "yref": "y"
         },
         {
          "font": {
           "color": "#000000"
          },
          "showarrow": false,
          "text": "0.0",
          "x": "3",
          "xref": "x",
          "y": "10",
          "yref": "y"
         },
         {
          "font": {
           "color": "#000000"
          },
          "showarrow": false,
          "text": "0.0",
          "x": "2",
          "xref": "x",
          "y": "10",
          "yref": "y"
         },
         {
          "font": {
           "color": "#000000"
          },
          "showarrow": false,
          "text": "0.0",
          "x": "1",
          "xref": "x",
          "y": "10",
          "yref": "y"
         },
         {
          "font": {
           "color": "#FFFFFF"
          },
          "showarrow": false,
          "text": "0.49",
          "x": "0",
          "xref": "x",
          "y": "10",
          "yref": "y"
         },
         {
          "font": {
           "color": "#FFFFFF"
          },
          "showarrow": false,
          "text": "0.55",
          "x": "20",
          "xref": "x",
          "y": "11",
          "yref": "y"
         },
         {
          "font": {
           "color": "#000000"
          },
          "showarrow": false,
          "text": "0.0",
          "x": "19",
          "xref": "x",
          "y": "11",
          "yref": "y"
         },
         {
          "font": {
           "color": "#000000"
          },
          "showarrow": false,
          "text": "0.0",
          "x": "18",
          "xref": "x",
          "y": "11",
          "yref": "y"
         },
         {
          "font": {
           "color": "#000000"
          },
          "showarrow": false,
          "text": "0.0",
          "x": "17",
          "xref": "x",
          "y": "11",
          "yref": "y"
         },
         {
          "font": {
           "color": "#000000"
          },
          "showarrow": false,
          "text": "0.0",
          "x": "16",
          "xref": "x",
          "y": "11",
          "yref": "y"
         },
         {
          "font": {
           "color": "#000000"
          },
          "showarrow": false,
          "text": "0.0",
          "x": "15",
          "xref": "x",
          "y": "11",
          "yref": "y"
         },
         {
          "font": {
           "color": "#000000"
          },
          "showarrow": false,
          "text": "0.0",
          "x": "14",
          "xref": "x",
          "y": "11",
          "yref": "y"
         },
         {
          "font": {
           "color": "#000000"
          },
          "showarrow": false,
          "text": "0.0",
          "x": "13",
          "xref": "x",
          "y": "11",
          "yref": "y"
         },
         {
          "font": {
           "color": "#000000"
          },
          "showarrow": false,
          "text": "0.0",
          "x": "12",
          "xref": "x",
          "y": "11",
          "yref": "y"
         },
         {
          "font": {
           "color": "#000000"
          },
          "showarrow": false,
          "text": "0.0",
          "x": "11",
          "xref": "x",
          "y": "11",
          "yref": "y"
         },
         {
          "font": {
           "color": "#000000"
          },
          "showarrow": false,
          "text": "0.0",
          "x": "10",
          "xref": "x",
          "y": "11",
          "yref": "y"
         },
         {
          "font": {
           "color": "#000000"
          },
          "showarrow": false,
          "text": "0.0",
          "x": "9",
          "xref": "x",
          "y": "11",
          "yref": "y"
         },
         {
          "font": {
           "color": "#000000"
          },
          "showarrow": false,
          "text": "0.0",
          "x": "8",
          "xref": "x",
          "y": "11",
          "yref": "y"
         },
         {
          "font": {
           "color": "#000000"
          },
          "showarrow": false,
          "text": "0.0",
          "x": "7",
          "xref": "x",
          "y": "11",
          "yref": "y"
         },
         {
          "font": {
           "color": "#000000"
          },
          "showarrow": false,
          "text": "0.0",
          "x": "6",
          "xref": "x",
          "y": "11",
          "yref": "y"
         },
         {
          "font": {
           "color": "#000000"
          },
          "showarrow": false,
          "text": "0.0",
          "x": "5",
          "xref": "x",
          "y": "11",
          "yref": "y"
         },
         {
          "font": {
           "color": "#000000"
          },
          "showarrow": false,
          "text": "0.0",
          "x": "4",
          "xref": "x",
          "y": "11",
          "yref": "y"
         },
         {
          "font": {
           "color": "#000000"
          },
          "showarrow": false,
          "text": "0.0",
          "x": "3",
          "xref": "x",
          "y": "11",
          "yref": "y"
         },
         {
          "font": {
           "color": "#000000"
          },
          "showarrow": false,
          "text": "0.0",
          "x": "2",
          "xref": "x",
          "y": "11",
          "yref": "y"
         },
         {
          "font": {
           "color": "#000000"
          },
          "showarrow": false,
          "text": "0.0",
          "x": "1",
          "xref": "x",
          "y": "11",
          "yref": "y"
         },
         {
          "font": {
           "color": "#000000"
          },
          "showarrow": false,
          "text": "0.45",
          "x": "0",
          "xref": "x",
          "y": "11",
          "yref": "y"
         },
         {
          "font": {
           "color": "#FFFFFF"
          },
          "showarrow": false,
          "text": "0.52",
          "x": "20",
          "xref": "x",
          "y": "12",
          "yref": "y"
         },
         {
          "font": {
           "color": "#000000"
          },
          "showarrow": false,
          "text": "0.0",
          "x": "19",
          "xref": "x",
          "y": "12",
          "yref": "y"
         },
         {
          "font": {
           "color": "#000000"
          },
          "showarrow": false,
          "text": "0.0",
          "x": "18",
          "xref": "x",
          "y": "12",
          "yref": "y"
         },
         {
          "font": {
           "color": "#000000"
          },
          "showarrow": false,
          "text": "0.0",
          "x": "17",
          "xref": "x",
          "y": "12",
          "yref": "y"
         },
         {
          "font": {
           "color": "#000000"
          },
          "showarrow": false,
          "text": "0.0",
          "x": "16",
          "xref": "x",
          "y": "12",
          "yref": "y"
         },
         {
          "font": {
           "color": "#000000"
          },
          "showarrow": false,
          "text": "0.0",
          "x": "15",
          "xref": "x",
          "y": "12",
          "yref": "y"
         },
         {
          "font": {
           "color": "#000000"
          },
          "showarrow": false,
          "text": "0.0",
          "x": "14",
          "xref": "x",
          "y": "12",
          "yref": "y"
         },
         {
          "font": {
           "color": "#000000"
          },
          "showarrow": false,
          "text": "0.0",
          "x": "13",
          "xref": "x",
          "y": "12",
          "yref": "y"
         },
         {
          "font": {
           "color": "#000000"
          },
          "showarrow": false,
          "text": "0.0",
          "x": "12",
          "xref": "x",
          "y": "12",
          "yref": "y"
         },
         {
          "font": {
           "color": "#000000"
          },
          "showarrow": false,
          "text": "0.0",
          "x": "11",
          "xref": "x",
          "y": "12",
          "yref": "y"
         },
         {
          "font": {
           "color": "#000000"
          },
          "showarrow": false,
          "text": "0.0",
          "x": "10",
          "xref": "x",
          "y": "12",
          "yref": "y"
         },
         {
          "font": {
           "color": "#000000"
          },
          "showarrow": false,
          "text": "0.0",
          "x": "9",
          "xref": "x",
          "y": "12",
          "yref": "y"
         },
         {
          "font": {
           "color": "#000000"
          },
          "showarrow": false,
          "text": "0.0",
          "x": "8",
          "xref": "x",
          "y": "12",
          "yref": "y"
         },
         {
          "font": {
           "color": "#000000"
          },
          "showarrow": false,
          "text": "0.0",
          "x": "7",
          "xref": "x",
          "y": "12",
          "yref": "y"
         },
         {
          "font": {
           "color": "#000000"
          },
          "showarrow": false,
          "text": "0.0",
          "x": "6",
          "xref": "x",
          "y": "12",
          "yref": "y"
         },
         {
          "font": {
           "color": "#000000"
          },
          "showarrow": false,
          "text": "0.0",
          "x": "5",
          "xref": "x",
          "y": "12",
          "yref": "y"
         },
         {
          "font": {
           "color": "#000000"
          },
          "showarrow": false,
          "text": "0.0",
          "x": "4",
          "xref": "x",
          "y": "12",
          "yref": "y"
         },
         {
          "font": {
           "color": "#000000"
          },
          "showarrow": false,
          "text": "0.0",
          "x": "3",
          "xref": "x",
          "y": "12",
          "yref": "y"
         },
         {
          "font": {
           "color": "#000000"
          },
          "showarrow": false,
          "text": "0.0",
          "x": "2",
          "xref": "x",
          "y": "12",
          "yref": "y"
         },
         {
          "font": {
           "color": "#000000"
          },
          "showarrow": false,
          "text": "0.0",
          "x": "1",
          "xref": "x",
          "y": "12",
          "yref": "y"
         },
         {
          "font": {
           "color": "#000000"
          },
          "showarrow": false,
          "text": "0.48",
          "x": "0",
          "xref": "x",
          "y": "12",
          "yref": "y"
         },
         {
          "font": {
           "color": "#000000"
          },
          "showarrow": false,
          "text": "0.47",
          "x": "20",
          "xref": "x",
          "y": "13",
          "yref": "y"
         },
         {
          "font": {
           "color": "#000000"
          },
          "showarrow": false,
          "text": "0.0",
          "x": "19",
          "xref": "x",
          "y": "13",
          "yref": "y"
         },
         {
          "font": {
           "color": "#000000"
          },
          "showarrow": false,
          "text": "0.0",
          "x": "18",
          "xref": "x",
          "y": "13",
          "yref": "y"
         },
         {
          "font": {
           "color": "#000000"
          },
          "showarrow": false,
          "text": "0.0",
          "x": "17",
          "xref": "x",
          "y": "13",
          "yref": "y"
         },
         {
          "font": {
           "color": "#000000"
          },
          "showarrow": false,
          "text": "0.0",
          "x": "16",
          "xref": "x",
          "y": "13",
          "yref": "y"
         },
         {
          "font": {
           "color": "#000000"
          },
          "showarrow": false,
          "text": "0.0",
          "x": "15",
          "xref": "x",
          "y": "13",
          "yref": "y"
         },
         {
          "font": {
           "color": "#000000"
          },
          "showarrow": false,
          "text": "0.0",
          "x": "14",
          "xref": "x",
          "y": "13",
          "yref": "y"
         },
         {
          "font": {
           "color": "#000000"
          },
          "showarrow": false,
          "text": "0.0",
          "x": "13",
          "xref": "x",
          "y": "13",
          "yref": "y"
         },
         {
          "font": {
           "color": "#000000"
          },
          "showarrow": false,
          "text": "0.0",
          "x": "12",
          "xref": "x",
          "y": "13",
          "yref": "y"
         },
         {
          "font": {
           "color": "#000000"
          },
          "showarrow": false,
          "text": "0.0",
          "x": "11",
          "xref": "x",
          "y": "13",
          "yref": "y"
         },
         {
          "font": {
           "color": "#000000"
          },
          "showarrow": false,
          "text": "0.0",
          "x": "10",
          "xref": "x",
          "y": "13",
          "yref": "y"
         },
         {
          "font": {
           "color": "#000000"
          },
          "showarrow": false,
          "text": "0.0",
          "x": "9",
          "xref": "x",
          "y": "13",
          "yref": "y"
         },
         {
          "font": {
           "color": "#000000"
          },
          "showarrow": false,
          "text": "0.0",
          "x": "8",
          "xref": "x",
          "y": "13",
          "yref": "y"
         },
         {
          "font": {
           "color": "#000000"
          },
          "showarrow": false,
          "text": "0.0",
          "x": "7",
          "xref": "x",
          "y": "13",
          "yref": "y"
         },
         {
          "font": {
           "color": "#000000"
          },
          "showarrow": false,
          "text": "0.0",
          "x": "6",
          "xref": "x",
          "y": "13",
          "yref": "y"
         },
         {
          "font": {
           "color": "#000000"
          },
          "showarrow": false,
          "text": "0.0",
          "x": "5",
          "xref": "x",
          "y": "13",
          "yref": "y"
         },
         {
          "font": {
           "color": "#000000"
          },
          "showarrow": false,
          "text": "0.0",
          "x": "4",
          "xref": "x",
          "y": "13",
          "yref": "y"
         },
         {
          "font": {
           "color": "#000000"
          },
          "showarrow": false,
          "text": "0.0",
          "x": "3",
          "xref": "x",
          "y": "13",
          "yref": "y"
         },
         {
          "font": {
           "color": "#000000"
          },
          "showarrow": false,
          "text": "0.0",
          "x": "2",
          "xref": "x",
          "y": "13",
          "yref": "y"
         },
         {
          "font": {
           "color": "#000000"
          },
          "showarrow": false,
          "text": "0.0",
          "x": "1",
          "xref": "x",
          "y": "13",
          "yref": "y"
         },
         {
          "font": {
           "color": "#FFFFFF"
          },
          "showarrow": false,
          "text": "0.53",
          "x": "0",
          "xref": "x",
          "y": "13",
          "yref": "y"
         },
         {
          "font": {
           "color": "#FFFFFF"
          },
          "showarrow": false,
          "text": "0.62",
          "x": "20",
          "xref": "x",
          "y": "14",
          "yref": "y"
         },
         {
          "font": {
           "color": "#000000"
          },
          "showarrow": false,
          "text": "0.0",
          "x": "19",
          "xref": "x",
          "y": "14",
          "yref": "y"
         },
         {
          "font": {
           "color": "#000000"
          },
          "showarrow": false,
          "text": "0.0",
          "x": "18",
          "xref": "x",
          "y": "14",
          "yref": "y"
         },
         {
          "font": {
           "color": "#000000"
          },
          "showarrow": false,
          "text": "0.0",
          "x": "17",
          "xref": "x",
          "y": "14",
          "yref": "y"
         },
         {
          "font": {
           "color": "#000000"
          },
          "showarrow": false,
          "text": "0.0",
          "x": "16",
          "xref": "x",
          "y": "14",
          "yref": "y"
         },
         {
          "font": {
           "color": "#000000"
          },
          "showarrow": false,
          "text": "0.0",
          "x": "15",
          "xref": "x",
          "y": "14",
          "yref": "y"
         },
         {
          "font": {
           "color": "#000000"
          },
          "showarrow": false,
          "text": "0.0",
          "x": "14",
          "xref": "x",
          "y": "14",
          "yref": "y"
         },
         {
          "font": {
           "color": "#000000"
          },
          "showarrow": false,
          "text": "0.0",
          "x": "13",
          "xref": "x",
          "y": "14",
          "yref": "y"
         },
         {
          "font": {
           "color": "#000000"
          },
          "showarrow": false,
          "text": "0.0",
          "x": "12",
          "xref": "x",
          "y": "14",
          "yref": "y"
         },
         {
          "font": {
           "color": "#000000"
          },
          "showarrow": false,
          "text": "0.0",
          "x": "11",
          "xref": "x",
          "y": "14",
          "yref": "y"
         },
         {
          "font": {
           "color": "#000000"
          },
          "showarrow": false,
          "text": "0.0",
          "x": "10",
          "xref": "x",
          "y": "14",
          "yref": "y"
         },
         {
          "font": {
           "color": "#000000"
          },
          "showarrow": false,
          "text": "0.0",
          "x": "9",
          "xref": "x",
          "y": "14",
          "yref": "y"
         },
         {
          "font": {
           "color": "#000000"
          },
          "showarrow": false,
          "text": "0.0",
          "x": "8",
          "xref": "x",
          "y": "14",
          "yref": "y"
         },
         {
          "font": {
           "color": "#000000"
          },
          "showarrow": false,
          "text": "0.0",
          "x": "7",
          "xref": "x",
          "y": "14",
          "yref": "y"
         },
         {
          "font": {
           "color": "#000000"
          },
          "showarrow": false,
          "text": "0.0",
          "x": "6",
          "xref": "x",
          "y": "14",
          "yref": "y"
         },
         {
          "font": {
           "color": "#000000"
          },
          "showarrow": false,
          "text": "0.0",
          "x": "5",
          "xref": "x",
          "y": "14",
          "yref": "y"
         },
         {
          "font": {
           "color": "#000000"
          },
          "showarrow": false,
          "text": "0.0",
          "x": "4",
          "xref": "x",
          "y": "14",
          "yref": "y"
         },
         {
          "font": {
           "color": "#000000"
          },
          "showarrow": false,
          "text": "0.0",
          "x": "3",
          "xref": "x",
          "y": "14",
          "yref": "y"
         },
         {
          "font": {
           "color": "#000000"
          },
          "showarrow": false,
          "text": "0.0",
          "x": "2",
          "xref": "x",
          "y": "14",
          "yref": "y"
         },
         {
          "font": {
           "color": "#000000"
          },
          "showarrow": false,
          "text": "0.0",
          "x": "1",
          "xref": "x",
          "y": "14",
          "yref": "y"
         },
         {
          "font": {
           "color": "#000000"
          },
          "showarrow": false,
          "text": "0.38",
          "x": "0",
          "xref": "x",
          "y": "14",
          "yref": "y"
         },
         {
          "font": {
           "color": "#FFFFFF"
          },
          "showarrow": false,
          "text": "0.66",
          "x": "20",
          "xref": "x",
          "y": "15",
          "yref": "y"
         },
         {
          "font": {
           "color": "#000000"
          },
          "showarrow": false,
          "text": "0.0",
          "x": "19",
          "xref": "x",
          "y": "15",
          "yref": "y"
         },
         {
          "font": {
           "color": "#000000"
          },
          "showarrow": false,
          "text": "0.0",
          "x": "18",
          "xref": "x",
          "y": "15",
          "yref": "y"
         },
         {
          "font": {
           "color": "#000000"
          },
          "showarrow": false,
          "text": "0.0",
          "x": "17",
          "xref": "x",
          "y": "15",
          "yref": "y"
         },
         {
          "font": {
           "color": "#000000"
          },
          "showarrow": false,
          "text": "0.0",
          "x": "16",
          "xref": "x",
          "y": "15",
          "yref": "y"
         },
         {
          "font": {
           "color": "#000000"
          },
          "showarrow": false,
          "text": "0.0",
          "x": "15",
          "xref": "x",
          "y": "15",
          "yref": "y"
         },
         {
          "font": {
           "color": "#000000"
          },
          "showarrow": false,
          "text": "0.0",
          "x": "14",
          "xref": "x",
          "y": "15",
          "yref": "y"
         },
         {
          "font": {
           "color": "#000000"
          },
          "showarrow": false,
          "text": "0.0",
          "x": "13",
          "xref": "x",
          "y": "15",
          "yref": "y"
         },
         {
          "font": {
           "color": "#000000"
          },
          "showarrow": false,
          "text": "0.0",
          "x": "12",
          "xref": "x",
          "y": "15",
          "yref": "y"
         },
         {
          "font": {
           "color": "#000000"
          },
          "showarrow": false,
          "text": "0.0",
          "x": "11",
          "xref": "x",
          "y": "15",
          "yref": "y"
         },
         {
          "font": {
           "color": "#000000"
          },
          "showarrow": false,
          "text": "0.0",
          "x": "10",
          "xref": "x",
          "y": "15",
          "yref": "y"
         },
         {
          "font": {
           "color": "#000000"
          },
          "showarrow": false,
          "text": "0.0",
          "x": "9",
          "xref": "x",
          "y": "15",
          "yref": "y"
         },
         {
          "font": {
           "color": "#000000"
          },
          "showarrow": false,
          "text": "0.0",
          "x": "8",
          "xref": "x",
          "y": "15",
          "yref": "y"
         },
         {
          "font": {
           "color": "#000000"
          },
          "showarrow": false,
          "text": "0.0",
          "x": "7",
          "xref": "x",
          "y": "15",
          "yref": "y"
         },
         {
          "font": {
           "color": "#000000"
          },
          "showarrow": false,
          "text": "0.0",
          "x": "6",
          "xref": "x",
          "y": "15",
          "yref": "y"
         },
         {
          "font": {
           "color": "#000000"
          },
          "showarrow": false,
          "text": "0.0",
          "x": "5",
          "xref": "x",
          "y": "15",
          "yref": "y"
         },
         {
          "font": {
           "color": "#000000"
          },
          "showarrow": false,
          "text": "0.0",
          "x": "4",
          "xref": "x",
          "y": "15",
          "yref": "y"
         },
         {
          "font": {
           "color": "#000000"
          },
          "showarrow": false,
          "text": "0.0",
          "x": "3",
          "xref": "x",
          "y": "15",
          "yref": "y"
         },
         {
          "font": {
           "color": "#000000"
          },
          "showarrow": false,
          "text": "0.0",
          "x": "2",
          "xref": "x",
          "y": "15",
          "yref": "y"
         },
         {
          "font": {
           "color": "#000000"
          },
          "showarrow": false,
          "text": "0.0",
          "x": "1",
          "xref": "x",
          "y": "15",
          "yref": "y"
         },
         {
          "font": {
           "color": "#000000"
          },
          "showarrow": false,
          "text": "0.34",
          "x": "0",
          "xref": "x",
          "y": "15",
          "yref": "y"
         },
         {
          "font": {
           "color": "#FFFFFF"
          },
          "showarrow": false,
          "text": "0.69",
          "x": "20",
          "xref": "x",
          "y": "16",
          "yref": "y"
         },
         {
          "font": {
           "color": "#000000"
          },
          "showarrow": false,
          "text": "0.0",
          "x": "19",
          "xref": "x",
          "y": "16",
          "yref": "y"
         },
         {
          "font": {
           "color": "#000000"
          },
          "showarrow": false,
          "text": "0.0",
          "x": "18",
          "xref": "x",
          "y": "16",
          "yref": "y"
         },
         {
          "font": {
           "color": "#000000"
          },
          "showarrow": false,
          "text": "0.0",
          "x": "17",
          "xref": "x",
          "y": "16",
          "yref": "y"
         },
         {
          "font": {
           "color": "#000000"
          },
          "showarrow": false,
          "text": "0.0",
          "x": "16",
          "xref": "x",
          "y": "16",
          "yref": "y"
         },
         {
          "font": {
           "color": "#000000"
          },
          "showarrow": false,
          "text": "0.0",
          "x": "15",
          "xref": "x",
          "y": "16",
          "yref": "y"
         },
         {
          "font": {
           "color": "#000000"
          },
          "showarrow": false,
          "text": "0.0",
          "x": "14",
          "xref": "x",
          "y": "16",
          "yref": "y"
         },
         {
          "font": {
           "color": "#000000"
          },
          "showarrow": false,
          "text": "0.0",
          "x": "13",
          "xref": "x",
          "y": "16",
          "yref": "y"
         },
         {
          "font": {
           "color": "#000000"
          },
          "showarrow": false,
          "text": "0.0",
          "x": "12",
          "xref": "x",
          "y": "16",
          "yref": "y"
         },
         {
          "font": {
           "color": "#000000"
          },
          "showarrow": false,
          "text": "0.0",
          "x": "11",
          "xref": "x",
          "y": "16",
          "yref": "y"
         },
         {
          "font": {
           "color": "#000000"
          },
          "showarrow": false,
          "text": "0.0",
          "x": "10",
          "xref": "x",
          "y": "16",
          "yref": "y"
         },
         {
          "font": {
           "color": "#000000"
          },
          "showarrow": false,
          "text": "0.0",
          "x": "9",
          "xref": "x",
          "y": "16",
          "yref": "y"
         },
         {
          "font": {
           "color": "#000000"
          },
          "showarrow": false,
          "text": "0.0",
          "x": "8",
          "xref": "x",
          "y": "16",
          "yref": "y"
         },
         {
          "font": {
           "color": "#000000"
          },
          "showarrow": false,
          "text": "0.0",
          "x": "7",
          "xref": "x",
          "y": "16",
          "yref": "y"
         },
         {
          "font": {
           "color": "#000000"
          },
          "showarrow": false,
          "text": "0.0",
          "x": "6",
          "xref": "x",
          "y": "16",
          "yref": "y"
         },
         {
          "font": {
           "color": "#000000"
          },
          "showarrow": false,
          "text": "0.0",
          "x": "5",
          "xref": "x",
          "y": "16",
          "yref": "y"
         },
         {
          "font": {
           "color": "#000000"
          },
          "showarrow": false,
          "text": "0.0",
          "x": "4",
          "xref": "x",
          "y": "16",
          "yref": "y"
         },
         {
          "font": {
           "color": "#000000"
          },
          "showarrow": false,
          "text": "0.0",
          "x": "3",
          "xref": "x",
          "y": "16",
          "yref": "y"
         },
         {
          "font": {
           "color": "#000000"
          },
          "showarrow": false,
          "text": "0.0",
          "x": "2",
          "xref": "x",
          "y": "16",
          "yref": "y"
         },
         {
          "font": {
           "color": "#000000"
          },
          "showarrow": false,
          "text": "0.0",
          "x": "1",
          "xref": "x",
          "y": "16",
          "yref": "y"
         },
         {
          "font": {
           "color": "#000000"
          },
          "showarrow": false,
          "text": "0.31",
          "x": "0",
          "xref": "x",
          "y": "16",
          "yref": "y"
         },
         {
          "font": {
           "color": "#FFFFFF"
          },
          "showarrow": false,
          "text": "0.85",
          "x": "20",
          "xref": "x",
          "y": "17",
          "yref": "y"
         },
         {
          "font": {
           "color": "#000000"
          },
          "showarrow": false,
          "text": "0.0",
          "x": "19",
          "xref": "x",
          "y": "17",
          "yref": "y"
         },
         {
          "font": {
           "color": "#000000"
          },
          "showarrow": false,
          "text": "0.0",
          "x": "18",
          "xref": "x",
          "y": "17",
          "yref": "y"
         },
         {
          "font": {
           "color": "#000000"
          },
          "showarrow": false,
          "text": "0.0",
          "x": "17",
          "xref": "x",
          "y": "17",
          "yref": "y"
         },
         {
          "font": {
           "color": "#000000"
          },
          "showarrow": false,
          "text": "0.0",
          "x": "16",
          "xref": "x",
          "y": "17",
          "yref": "y"
         },
         {
          "font": {
           "color": "#000000"
          },
          "showarrow": false,
          "text": "0.0",
          "x": "15",
          "xref": "x",
          "y": "17",
          "yref": "y"
         },
         {
          "font": {
           "color": "#000000"
          },
          "showarrow": false,
          "text": "0.0",
          "x": "14",
          "xref": "x",
          "y": "17",
          "yref": "y"
         },
         {
          "font": {
           "color": "#000000"
          },
          "showarrow": false,
          "text": "0.0",
          "x": "13",
          "xref": "x",
          "y": "17",
          "yref": "y"
         },
         {
          "font": {
           "color": "#000000"
          },
          "showarrow": false,
          "text": "0.0",
          "x": "12",
          "xref": "x",
          "y": "17",
          "yref": "y"
         },
         {
          "font": {
           "color": "#000000"
          },
          "showarrow": false,
          "text": "0.0",
          "x": "11",
          "xref": "x",
          "y": "17",
          "yref": "y"
         },
         {
          "font": {
           "color": "#000000"
          },
          "showarrow": false,
          "text": "0.0",
          "x": "10",
          "xref": "x",
          "y": "17",
          "yref": "y"
         },
         {
          "font": {
           "color": "#000000"
          },
          "showarrow": false,
          "text": "0.0",
          "x": "9",
          "xref": "x",
          "y": "17",
          "yref": "y"
         },
         {
          "font": {
           "color": "#000000"
          },
          "showarrow": false,
          "text": "0.0",
          "x": "8",
          "xref": "x",
          "y": "17",
          "yref": "y"
         },
         {
          "font": {
           "color": "#000000"
          },
          "showarrow": false,
          "text": "0.0",
          "x": "7",
          "xref": "x",
          "y": "17",
          "yref": "y"
         },
         {
          "font": {
           "color": "#000000"
          },
          "showarrow": false,
          "text": "0.0",
          "x": "6",
          "xref": "x",
          "y": "17",
          "yref": "y"
         },
         {
          "font": {
           "color": "#000000"
          },
          "showarrow": false,
          "text": "0.0",
          "x": "5",
          "xref": "x",
          "y": "17",
          "yref": "y"
         },
         {
          "font": {
           "color": "#000000"
          },
          "showarrow": false,
          "text": "0.0",
          "x": "4",
          "xref": "x",
          "y": "17",
          "yref": "y"
         },
         {
          "font": {
           "color": "#000000"
          },
          "showarrow": false,
          "text": "0.0",
          "x": "3",
          "xref": "x",
          "y": "17",
          "yref": "y"
         },
         {
          "font": {
           "color": "#000000"
          },
          "showarrow": false,
          "text": "0.0",
          "x": "2",
          "xref": "x",
          "y": "17",
          "yref": "y"
         },
         {
          "font": {
           "color": "#000000"
          },
          "showarrow": false,
          "text": "0.0",
          "x": "1",
          "xref": "x",
          "y": "17",
          "yref": "y"
         },
         {
          "font": {
           "color": "#000000"
          },
          "showarrow": false,
          "text": "0.15",
          "x": "0",
          "xref": "x",
          "y": "17",
          "yref": "y"
         },
         {
          "font": {
           "color": "#FFFFFF"
          },
          "showarrow": false,
          "text": "0.89",
          "x": "20",
          "xref": "x",
          "y": "18",
          "yref": "y"
         },
         {
          "font": {
           "color": "#000000"
          },
          "showarrow": false,
          "text": "0.0",
          "x": "19",
          "xref": "x",
          "y": "18",
          "yref": "y"
         },
         {
          "font": {
           "color": "#000000"
          },
          "showarrow": false,
          "text": "0.0",
          "x": "18",
          "xref": "x",
          "y": "18",
          "yref": "y"
         },
         {
          "font": {
           "color": "#000000"
          },
          "showarrow": false,
          "text": "0.0",
          "x": "17",
          "xref": "x",
          "y": "18",
          "yref": "y"
         },
         {
          "font": {
           "color": "#000000"
          },
          "showarrow": false,
          "text": "0.0",
          "x": "16",
          "xref": "x",
          "y": "18",
          "yref": "y"
         },
         {
          "font": {
           "color": "#000000"
          },
          "showarrow": false,
          "text": "0.0",
          "x": "15",
          "xref": "x",
          "y": "18",
          "yref": "y"
         },
         {
          "font": {
           "color": "#000000"
          },
          "showarrow": false,
          "text": "0.0",
          "x": "14",
          "xref": "x",
          "y": "18",
          "yref": "y"
         },
         {
          "font": {
           "color": "#000000"
          },
          "showarrow": false,
          "text": "0.0",
          "x": "13",
          "xref": "x",
          "y": "18",
          "yref": "y"
         },
         {
          "font": {
           "color": "#000000"
          },
          "showarrow": false,
          "text": "0.0",
          "x": "12",
          "xref": "x",
          "y": "18",
          "yref": "y"
         },
         {
          "font": {
           "color": "#000000"
          },
          "showarrow": false,
          "text": "0.0",
          "x": "11",
          "xref": "x",
          "y": "18",
          "yref": "y"
         },
         {
          "font": {
           "color": "#000000"
          },
          "showarrow": false,
          "text": "0.0",
          "x": "10",
          "xref": "x",
          "y": "18",
          "yref": "y"
         },
         {
          "font": {
           "color": "#000000"
          },
          "showarrow": false,
          "text": "0.0",
          "x": "9",
          "xref": "x",
          "y": "18",
          "yref": "y"
         },
         {
          "font": {
           "color": "#000000"
          },
          "showarrow": false,
          "text": "0.0",
          "x": "8",
          "xref": "x",
          "y": "18",
          "yref": "y"
         },
         {
          "font": {
           "color": "#000000"
          },
          "showarrow": false,
          "text": "0.0",
          "x": "7",
          "xref": "x",
          "y": "18",
          "yref": "y"
         },
         {
          "font": {
           "color": "#000000"
          },
          "showarrow": false,
          "text": "0.0",
          "x": "6",
          "xref": "x",
          "y": "18",
          "yref": "y"
         },
         {
          "font": {
           "color": "#000000"
          },
          "showarrow": false,
          "text": "0.0",
          "x": "5",
          "xref": "x",
          "y": "18",
          "yref": "y"
         },
         {
          "font": {
           "color": "#000000"
          },
          "showarrow": false,
          "text": "0.0",
          "x": "4",
          "xref": "x",
          "y": "18",
          "yref": "y"
         },
         {
          "font": {
           "color": "#000000"
          },
          "showarrow": false,
          "text": "0.0",
          "x": "3",
          "xref": "x",
          "y": "18",
          "yref": "y"
         },
         {
          "font": {
           "color": "#000000"
          },
          "showarrow": false,
          "text": "0.0",
          "x": "2",
          "xref": "x",
          "y": "18",
          "yref": "y"
         },
         {
          "font": {
           "color": "#000000"
          },
          "showarrow": false,
          "text": "0.0",
          "x": "1",
          "xref": "x",
          "y": "18",
          "yref": "y"
         },
         {
          "font": {
           "color": "#000000"
          },
          "showarrow": false,
          "text": "0.11",
          "x": "0",
          "xref": "x",
          "y": "18",
          "yref": "y"
         },
         {
          "font": {
           "color": "#FFFFFF"
          },
          "showarrow": false,
          "text": "0.94",
          "x": "20",
          "xref": "x",
          "y": "19",
          "yref": "y"
         },
         {
          "font": {
           "color": "#000000"
          },
          "showarrow": false,
          "text": "0.0",
          "x": "19",
          "xref": "x",
          "y": "19",
          "yref": "y"
         },
         {
          "font": {
           "color": "#000000"
          },
          "showarrow": false,
          "text": "0.0",
          "x": "18",
          "xref": "x",
          "y": "19",
          "yref": "y"
         },
         {
          "font": {
           "color": "#000000"
          },
          "showarrow": false,
          "text": "0.0",
          "x": "17",
          "xref": "x",
          "y": "19",
          "yref": "y"
         },
         {
          "font": {
           "color": "#000000"
          },
          "showarrow": false,
          "text": "0.0",
          "x": "16",
          "xref": "x",
          "y": "19",
          "yref": "y"
         },
         {
          "font": {
           "color": "#000000"
          },
          "showarrow": false,
          "text": "0.0",
          "x": "15",
          "xref": "x",
          "y": "19",
          "yref": "y"
         },
         {
          "font": {
           "color": "#000000"
          },
          "showarrow": false,
          "text": "0.0",
          "x": "14",
          "xref": "x",
          "y": "19",
          "yref": "y"
         },
         {
          "font": {
           "color": "#000000"
          },
          "showarrow": false,
          "text": "0.0",
          "x": "13",
          "xref": "x",
          "y": "19",
          "yref": "y"
         },
         {
          "font": {
           "color": "#000000"
          },
          "showarrow": false,
          "text": "0.0",
          "x": "12",
          "xref": "x",
          "y": "19",
          "yref": "y"
         },
         {
          "font": {
           "color": "#000000"
          },
          "showarrow": false,
          "text": "0.0",
          "x": "11",
          "xref": "x",
          "y": "19",
          "yref": "y"
         },
         {
          "font": {
           "color": "#000000"
          },
          "showarrow": false,
          "text": "0.0",
          "x": "10",
          "xref": "x",
          "y": "19",
          "yref": "y"
         },
         {
          "font": {
           "color": "#000000"
          },
          "showarrow": false,
          "text": "0.0",
          "x": "9",
          "xref": "x",
          "y": "19",
          "yref": "y"
         },
         {
          "font": {
           "color": "#000000"
          },
          "showarrow": false,
          "text": "0.0",
          "x": "8",
          "xref": "x",
          "y": "19",
          "yref": "y"
         },
         {
          "font": {
           "color": "#000000"
          },
          "showarrow": false,
          "text": "0.0",
          "x": "7",
          "xref": "x",
          "y": "19",
          "yref": "y"
         },
         {
          "font": {
           "color": "#000000"
          },
          "showarrow": false,
          "text": "0.0",
          "x": "6",
          "xref": "x",
          "y": "19",
          "yref": "y"
         },
         {
          "font": {
           "color": "#000000"
          },
          "showarrow": false,
          "text": "0.0",
          "x": "5",
          "xref": "x",
          "y": "19",
          "yref": "y"
         },
         {
          "font": {
           "color": "#000000"
          },
          "showarrow": false,
          "text": "0.0",
          "x": "4",
          "xref": "x",
          "y": "19",
          "yref": "y"
         },
         {
          "font": {
           "color": "#000000"
          },
          "showarrow": false,
          "text": "0.0",
          "x": "3",
          "xref": "x",
          "y": "19",
          "yref": "y"
         },
         {
          "font": {
           "color": "#000000"
          },
          "showarrow": false,
          "text": "0.0",
          "x": "2",
          "xref": "x",
          "y": "19",
          "yref": "y"
         },
         {
          "font": {
           "color": "#000000"
          },
          "showarrow": false,
          "text": "0.0",
          "x": "1",
          "xref": "x",
          "y": "19",
          "yref": "y"
         },
         {
          "font": {
           "color": "#000000"
          },
          "showarrow": false,
          "text": "0.06",
          "x": "0",
          "xref": "x",
          "y": "19",
          "yref": "y"
         },
         {
          "font": {
           "color": "#FFFFFF"
          },
          "showarrow": false,
          "text": "0.98",
          "x": "20",
          "xref": "x",
          "y": "20",
          "yref": "y"
         },
         {
          "font": {
           "color": "#000000"
          },
          "showarrow": false,
          "text": "0.0",
          "x": "19",
          "xref": "x",
          "y": "20",
          "yref": "y"
         },
         {
          "font": {
           "color": "#000000"
          },
          "showarrow": false,
          "text": "0.0",
          "x": "18",
          "xref": "x",
          "y": "20",
          "yref": "y"
         },
         {
          "font": {
           "color": "#000000"
          },
          "showarrow": false,
          "text": "0.0",
          "x": "17",
          "xref": "x",
          "y": "20",
          "yref": "y"
         },
         {
          "font": {
           "color": "#000000"
          },
          "showarrow": false,
          "text": "0.0",
          "x": "16",
          "xref": "x",
          "y": "20",
          "yref": "y"
         },
         {
          "font": {
           "color": "#000000"
          },
          "showarrow": false,
          "text": "0.0",
          "x": "15",
          "xref": "x",
          "y": "20",
          "yref": "y"
         },
         {
          "font": {
           "color": "#000000"
          },
          "showarrow": false,
          "text": "0.0",
          "x": "14",
          "xref": "x",
          "y": "20",
          "yref": "y"
         },
         {
          "font": {
           "color": "#000000"
          },
          "showarrow": false,
          "text": "0.0",
          "x": "13",
          "xref": "x",
          "y": "20",
          "yref": "y"
         },
         {
          "font": {
           "color": "#000000"
          },
          "showarrow": false,
          "text": "0.0",
          "x": "12",
          "xref": "x",
          "y": "20",
          "yref": "y"
         },
         {
          "font": {
           "color": "#000000"
          },
          "showarrow": false,
          "text": "0.0",
          "x": "11",
          "xref": "x",
          "y": "20",
          "yref": "y"
         },
         {
          "font": {
           "color": "#000000"
          },
          "showarrow": false,
          "text": "0.0",
          "x": "10",
          "xref": "x",
          "y": "20",
          "yref": "y"
         },
         {
          "font": {
           "color": "#000000"
          },
          "showarrow": false,
          "text": "0.0",
          "x": "9",
          "xref": "x",
          "y": "20",
          "yref": "y"
         },
         {
          "font": {
           "color": "#000000"
          },
          "showarrow": false,
          "text": "0.0",
          "x": "8",
          "xref": "x",
          "y": "20",
          "yref": "y"
         },
         {
          "font": {
           "color": "#000000"
          },
          "showarrow": false,
          "text": "0.0",
          "x": "7",
          "xref": "x",
          "y": "20",
          "yref": "y"
         },
         {
          "font": {
           "color": "#000000"
          },
          "showarrow": false,
          "text": "0.0",
          "x": "6",
          "xref": "x",
          "y": "20",
          "yref": "y"
         },
         {
          "font": {
           "color": "#000000"
          },
          "showarrow": false,
          "text": "0.0",
          "x": "5",
          "xref": "x",
          "y": "20",
          "yref": "y"
         },
         {
          "font": {
           "color": "#000000"
          },
          "showarrow": false,
          "text": "0.0",
          "x": "4",
          "xref": "x",
          "y": "20",
          "yref": "y"
         },
         {
          "font": {
           "color": "#000000"
          },
          "showarrow": false,
          "text": "0.0",
          "x": "3",
          "xref": "x",
          "y": "20",
          "yref": "y"
         },
         {
          "font": {
           "color": "#000000"
          },
          "showarrow": false,
          "text": "0.0",
          "x": "2",
          "xref": "x",
          "y": "20",
          "yref": "y"
         },
         {
          "font": {
           "color": "#000000"
          },
          "showarrow": false,
          "text": "0.0",
          "x": "1",
          "xref": "x",
          "y": "20",
          "yref": "y"
         },
         {
          "font": {
           "color": "#000000"
          },
          "showarrow": false,
          "text": "0.02",
          "x": "0",
          "xref": "x",
          "y": "20",
          "yref": "y"
         }
        ],
        "height": 1600,
        "template": {
         "data": {
          "scatter": [
           {
            "type": "scatter"
           }
          ]
         }
        },
        "title": {
         "text": "",
         "x": 0.47,
         "xanchor": "center",
         "y": 0.95,
         "yanchor": "top"
        },
        "width": 1600,
        "xaxis": {
         "dtick": 1,
         "gridcolor": "rgb(0, 0, 0)",
         "showgrid": false,
         "side": "bottom",
         "ticks": "",
         "title": {
          "text": "Predicted Labels"
         }
        },
        "yaxis": {
         "dtick": 1,
         "showgrid": false,
         "ticks": "",
         "ticksuffix": "  ",
         "title": {
          "text": "True Labels"
         }
        }
       }
      },
      "text/html": [
       "<div>\n",
       "        \n",
       "        \n",
       "            <div id=\"1cb5f8fe-27c9-4740-99f4-859f3ac376c1\" class=\"plotly-graph-div\" style=\"height:1600px; width:1600px;\"></div>\n",
       "            <script type=\"text/javascript\">\n",
       "                require([\"plotly\"], function(Plotly) {\n",
       "                    window.PLOTLYENV=window.PLOTLYENV || {};\n",
       "                    \n",
       "                if (document.getElementById(\"1cb5f8fe-27c9-4740-99f4-859f3ac376c1\")) {\n",
       "                    Plotly.newPlot(\n",
       "                        '1cb5f8fe-27c9-4740-99f4-859f3ac376c1',\n",
       "                        [{\"colorscale\": [[0.0, \"rgb(253, 253, 204)\"], [0.09090909090909091, \"rgb(206, 236, 179)\"], [0.18181818181818182, \"rgb(156, 219, 165)\"], [0.2727272727272727, \"rgb(111, 201, 163)\"], [0.36363636363636365, \"rgb(86, 177, 163)\"], [0.45454545454545453, \"rgb(76, 153, 160)\"], [0.5454545454545454, \"rgb(68, 130, 155)\"], [0.6363636363636364, \"rgb(62, 108, 150)\"], [0.7272727272727273, \"rgb(62, 82, 143)\"], [0.8181818181818182, \"rgb(64, 60, 115)\"], [0.9090909090909091, \"rgb(54, 43, 77)\"], [1.0, \"rgb(39, 26, 44)\"]], \"reversescale\": false, \"showscale\": false, \"type\": \"heatmap\", \"x\": [\"20\", \"19\", \"18\", \"17\", \"16\", \"15\", \"14\", \"13\", \"12\", \"11\", \"10\", \"9\", \"8\", \"7\", \"6\", \"5\", \"4\", \"3\", \"2\", \"1\", \"0\"], \"y\": [\"0\", \"1\", \"2\", \"3\", \"4\", \"5\", \"6\", \"7\", \"8\", \"9\", \"10\", \"11\", \"12\", \"13\", \"14\", \"15\", \"16\", \"17\", \"18\", \"19\", \"20\"], \"z\": [[0.18, 0.0, 0.0, 0.0, 0.0, 0.0, 0.0, 0.0, 0.0, 0.0, 0.0, 0.0, 0.0, 0.0, 0.0, 0.0, 0.0, 0.0, 0.0, 0.0, 0.82], [0.47, 0.0, 0.0, 0.0, 0.0, 0.0, 0.0, 0.0, 0.0, 0.0, 0.0, 0.0, 0.0, 0.0, 0.0, 0.0, 0.0, 0.0, 0.0, 0.0, 0.53], [0.44, 0.0, 0.0, 0.0, 0.0, 0.0, 0.0, 0.0, 0.0, 0.0, 0.0, 0.0, 0.0, 0.0, 0.0, 0.0, 0.0, 0.0, 0.0, 0.0, 0.56], [0.48, 0.0, 0.0, 0.0, 0.0, 0.0, 0.0, 0.0, 0.0, 0.0, 0.0, 0.0, 0.0, 0.0, 0.0, 0.0, 0.0, 0.0, 0.0, 0.0, 0.52], [0.46, 0.0, 0.0, 0.0, 0.0, 0.0, 0.0, 0.0, 0.0, 0.0, 0.0, 0.0, 0.0, 0.0, 0.0, 0.0, 0.0, 0.0, 0.0, 0.0, 0.54], [0.51, 0.0, 0.0, 0.0, 0.0, 0.0, 0.0, 0.0, 0.0, 0.0, 0.0, 0.0, 0.0, 0.0, 0.0, 0.0, 0.0, 0.0, 0.0, 0.0, 0.49], [0.54, 0.0, 0.0, 0.0, 0.0, 0.0, 0.0, 0.0, 0.0, 0.0, 0.0, 0.0, 0.0, 0.0, 0.0, 0.0, 0.0, 0.0, 0.0, 0.0, 0.46], [0.5, 0.0, 0.0, 0.0, 0.0, 0.0, 0.0, 0.0, 0.0, 0.0, 0.0, 0.0, 0.0, 0.0, 0.0, 0.0, 0.0, 0.0, 0.0, 0.0, 0.5], [0.55, 0.0, 0.0, 0.0, 0.0, 0.0, 0.0, 0.0, 0.0, 0.0, 0.0, 0.0, 0.0, 0.0, 0.0, 0.0, 0.0, 0.0, 0.0, 0.0, 0.45], [0.49, 0.0, 0.0, 0.0, 0.0, 0.0, 0.0, 0.0, 0.0, 0.0, 0.0, 0.0, 0.0, 0.0, 0.0, 0.0, 0.0, 0.0, 0.0, 0.0, 0.51], [0.51, 0.0, 0.0, 0.0, 0.0, 0.0, 0.0, 0.0, 0.0, 0.0, 0.0, 0.0, 0.0, 0.0, 0.0, 0.0, 0.0, 0.0, 0.0, 0.0, 0.49], [0.55, 0.0, 0.0, 0.0, 0.0, 0.0, 0.0, 0.0, 0.0, 0.0, 0.0, 0.0, 0.0, 0.0, 0.0, 0.0, 0.0, 0.0, 0.0, 0.0, 0.45], [0.52, 0.0, 0.0, 0.0, 0.0, 0.0, 0.0, 0.0, 0.0, 0.0, 0.0, 0.0, 0.0, 0.0, 0.0, 0.0, 0.0, 0.0, 0.0, 0.0, 0.48], [0.47, 0.0, 0.0, 0.0, 0.0, 0.0, 0.0, 0.0, 0.0, 0.0, 0.0, 0.0, 0.0, 0.0, 0.0, 0.0, 0.0, 0.0, 0.0, 0.0, 0.53], [0.62, 0.0, 0.0, 0.0, 0.0, 0.0, 0.0, 0.0, 0.0, 0.0, 0.0, 0.0, 0.0, 0.0, 0.0, 0.0, 0.0, 0.0, 0.0, 0.0, 0.38], [0.66, 0.0, 0.0, 0.0, 0.0, 0.0, 0.0, 0.0, 0.0, 0.0, 0.0, 0.0, 0.0, 0.0, 0.0, 0.0, 0.0, 0.0, 0.0, 0.0, 0.34], [0.69, 0.0, 0.0, 0.0, 0.0, 0.0, 0.0, 0.0, 0.0, 0.0, 0.0, 0.0, 0.0, 0.0, 0.0, 0.0, 0.0, 0.0, 0.0, 0.0, 0.31], [0.85, 0.0, 0.0, 0.0, 0.0, 0.0, 0.0, 0.0, 0.0, 0.0, 0.0, 0.0, 0.0, 0.0, 0.0, 0.0, 0.0, 0.0, 0.0, 0.0, 0.15], [0.89, 0.0, 0.0, 0.0, 0.0, 0.0, 0.0, 0.0, 0.0, 0.0, 0.0, 0.0, 0.0, 0.0, 0.0, 0.0, 0.0, 0.0, 0.0, 0.0, 0.11], [0.94, 0.0, 0.0, 0.0, 0.0, 0.0, 0.0, 0.0, 0.0, 0.0, 0.0, 0.0, 0.0, 0.0, 0.0, 0.0, 0.0, 0.0, 0.0, 0.0, 0.06], [0.98, 0.0, 0.0, 0.0, 0.0, 0.0, 0.0, 0.0, 0.0, 0.0, 0.0, 0.0, 0.0, 0.0, 0.0, 0.0, 0.0, 0.0, 0.0, 0.0, 0.02]]}],\n",
       "                        {\"annotations\": [{\"font\": {\"color\": \"#000000\"}, \"showarrow\": false, \"text\": \"0.18\", \"x\": \"20\", \"xref\": \"x\", \"y\": \"0\", \"yref\": \"y\"}, {\"font\": {\"color\": \"#000000\"}, \"showarrow\": false, \"text\": \"0.0\", \"x\": \"19\", \"xref\": \"x\", \"y\": \"0\", \"yref\": \"y\"}, {\"font\": {\"color\": \"#000000\"}, \"showarrow\": false, \"text\": \"0.0\", \"x\": \"18\", \"xref\": \"x\", \"y\": \"0\", \"yref\": \"y\"}, {\"font\": {\"color\": \"#000000\"}, \"showarrow\": false, \"text\": \"0.0\", \"x\": \"17\", \"xref\": \"x\", \"y\": \"0\", \"yref\": \"y\"}, {\"font\": {\"color\": \"#000000\"}, \"showarrow\": false, \"text\": \"0.0\", \"x\": \"16\", \"xref\": \"x\", \"y\": \"0\", \"yref\": \"y\"}, {\"font\": {\"color\": \"#000000\"}, \"showarrow\": false, \"text\": \"0.0\", \"x\": \"15\", \"xref\": \"x\", \"y\": \"0\", \"yref\": \"y\"}, {\"font\": {\"color\": \"#000000\"}, \"showarrow\": false, \"text\": \"0.0\", \"x\": \"14\", \"xref\": \"x\", \"y\": \"0\", \"yref\": \"y\"}, {\"font\": {\"color\": \"#000000\"}, \"showarrow\": false, \"text\": \"0.0\", \"x\": \"13\", \"xref\": \"x\", \"y\": \"0\", \"yref\": \"y\"}, {\"font\": {\"color\": \"#000000\"}, \"showarrow\": false, \"text\": \"0.0\", \"x\": \"12\", \"xref\": \"x\", \"y\": \"0\", \"yref\": \"y\"}, {\"font\": {\"color\": \"#000000\"}, \"showarrow\": false, \"text\": \"0.0\", \"x\": \"11\", \"xref\": \"x\", \"y\": \"0\", \"yref\": \"y\"}, {\"font\": {\"color\": \"#000000\"}, \"showarrow\": false, \"text\": \"0.0\", \"x\": \"10\", \"xref\": \"x\", \"y\": \"0\", \"yref\": \"y\"}, {\"font\": {\"color\": \"#000000\"}, \"showarrow\": false, \"text\": \"0.0\", \"x\": \"9\", \"xref\": \"x\", \"y\": \"0\", \"yref\": \"y\"}, {\"font\": {\"color\": \"#000000\"}, \"showarrow\": false, \"text\": \"0.0\", \"x\": \"8\", \"xref\": \"x\", \"y\": \"0\", \"yref\": \"y\"}, {\"font\": {\"color\": \"#000000\"}, \"showarrow\": false, \"text\": \"0.0\", \"x\": \"7\", \"xref\": \"x\", \"y\": \"0\", \"yref\": \"y\"}, {\"font\": {\"color\": \"#000000\"}, \"showarrow\": false, \"text\": \"0.0\", \"x\": \"6\", \"xref\": \"x\", \"y\": \"0\", \"yref\": \"y\"}, {\"font\": {\"color\": \"#000000\"}, \"showarrow\": false, \"text\": \"0.0\", \"x\": \"5\", \"xref\": \"x\", \"y\": \"0\", \"yref\": \"y\"}, {\"font\": {\"color\": \"#000000\"}, \"showarrow\": false, \"text\": \"0.0\", \"x\": \"4\", \"xref\": \"x\", \"y\": \"0\", \"yref\": \"y\"}, {\"font\": {\"color\": \"#000000\"}, \"showarrow\": false, \"text\": \"0.0\", \"x\": \"3\", \"xref\": \"x\", \"y\": \"0\", \"yref\": \"y\"}, {\"font\": {\"color\": \"#000000\"}, \"showarrow\": false, \"text\": \"0.0\", \"x\": \"2\", \"xref\": \"x\", \"y\": \"0\", \"yref\": \"y\"}, {\"font\": {\"color\": \"#000000\"}, \"showarrow\": false, \"text\": \"0.0\", \"x\": \"1\", \"xref\": \"x\", \"y\": \"0\", \"yref\": \"y\"}, {\"font\": {\"color\": \"#FFFFFF\"}, \"showarrow\": false, \"text\": \"0.82\", \"x\": \"0\", \"xref\": \"x\", \"y\": \"0\", \"yref\": \"y\"}, {\"font\": {\"color\": \"#000000\"}, \"showarrow\": false, \"text\": \"0.47\", \"x\": \"20\", \"xref\": \"x\", \"y\": \"1\", \"yref\": \"y\"}, {\"font\": {\"color\": \"#000000\"}, \"showarrow\": false, \"text\": \"0.0\", \"x\": \"19\", \"xref\": \"x\", \"y\": \"1\", \"yref\": \"y\"}, {\"font\": {\"color\": \"#000000\"}, \"showarrow\": false, \"text\": \"0.0\", \"x\": \"18\", \"xref\": \"x\", \"y\": \"1\", \"yref\": \"y\"}, {\"font\": {\"color\": \"#000000\"}, \"showarrow\": false, \"text\": \"0.0\", \"x\": \"17\", \"xref\": \"x\", \"y\": \"1\", \"yref\": \"y\"}, {\"font\": {\"color\": \"#000000\"}, \"showarrow\": false, \"text\": \"0.0\", \"x\": \"16\", \"xref\": \"x\", \"y\": \"1\", \"yref\": \"y\"}, {\"font\": {\"color\": \"#000000\"}, \"showarrow\": false, \"text\": \"0.0\", \"x\": \"15\", \"xref\": \"x\", \"y\": \"1\", \"yref\": \"y\"}, {\"font\": {\"color\": \"#000000\"}, \"showarrow\": false, \"text\": \"0.0\", \"x\": \"14\", \"xref\": \"x\", \"y\": \"1\", \"yref\": \"y\"}, {\"font\": {\"color\": \"#000000\"}, \"showarrow\": false, \"text\": \"0.0\", \"x\": \"13\", \"xref\": \"x\", \"y\": \"1\", \"yref\": \"y\"}, {\"font\": {\"color\": \"#000000\"}, \"showarrow\": false, \"text\": \"0.0\", \"x\": \"12\", \"xref\": \"x\", \"y\": \"1\", \"yref\": \"y\"}, {\"font\": {\"color\": \"#000000\"}, \"showarrow\": false, \"text\": \"0.0\", \"x\": \"11\", \"xref\": \"x\", \"y\": \"1\", \"yref\": \"y\"}, {\"font\": {\"color\": \"#000000\"}, \"showarrow\": false, \"text\": \"0.0\", \"x\": \"10\", \"xref\": \"x\", \"y\": \"1\", \"yref\": \"y\"}, {\"font\": {\"color\": \"#000000\"}, \"showarrow\": false, \"text\": \"0.0\", \"x\": \"9\", \"xref\": \"x\", \"y\": \"1\", \"yref\": \"y\"}, {\"font\": {\"color\": \"#000000\"}, \"showarrow\": false, \"text\": \"0.0\", \"x\": \"8\", \"xref\": \"x\", \"y\": \"1\", \"yref\": \"y\"}, {\"font\": {\"color\": \"#000000\"}, \"showarrow\": false, \"text\": \"0.0\", \"x\": \"7\", \"xref\": \"x\", \"y\": \"1\", \"yref\": \"y\"}, {\"font\": {\"color\": \"#000000\"}, \"showarrow\": false, \"text\": \"0.0\", \"x\": \"6\", \"xref\": \"x\", \"y\": \"1\", \"yref\": \"y\"}, {\"font\": {\"color\": \"#000000\"}, \"showarrow\": false, \"text\": \"0.0\", \"x\": \"5\", \"xref\": \"x\", \"y\": \"1\", \"yref\": \"y\"}, {\"font\": {\"color\": \"#000000\"}, \"showarrow\": false, \"text\": \"0.0\", \"x\": \"4\", \"xref\": \"x\", \"y\": \"1\", \"yref\": \"y\"}, {\"font\": {\"color\": \"#000000\"}, \"showarrow\": false, \"text\": \"0.0\", \"x\": \"3\", \"xref\": \"x\", \"y\": \"1\", \"yref\": \"y\"}, {\"font\": {\"color\": \"#000000\"}, \"showarrow\": false, \"text\": \"0.0\", \"x\": \"2\", \"xref\": \"x\", \"y\": \"1\", \"yref\": \"y\"}, {\"font\": {\"color\": \"#000000\"}, \"showarrow\": false, \"text\": \"0.0\", \"x\": \"1\", \"xref\": \"x\", \"y\": \"1\", \"yref\": \"y\"}, {\"font\": {\"color\": \"#FFFFFF\"}, \"showarrow\": false, \"text\": \"0.53\", \"x\": \"0\", \"xref\": \"x\", \"y\": \"1\", \"yref\": \"y\"}, {\"font\": {\"color\": \"#000000\"}, \"showarrow\": false, \"text\": \"0.44\", \"x\": \"20\", \"xref\": \"x\", \"y\": \"2\", \"yref\": \"y\"}, {\"font\": {\"color\": \"#000000\"}, \"showarrow\": false, \"text\": \"0.0\", \"x\": \"19\", \"xref\": \"x\", \"y\": \"2\", \"yref\": \"y\"}, {\"font\": {\"color\": \"#000000\"}, \"showarrow\": false, \"text\": \"0.0\", \"x\": \"18\", \"xref\": \"x\", \"y\": \"2\", \"yref\": \"y\"}, {\"font\": {\"color\": \"#000000\"}, \"showarrow\": false, \"text\": \"0.0\", \"x\": \"17\", \"xref\": \"x\", \"y\": \"2\", \"yref\": \"y\"}, {\"font\": {\"color\": \"#000000\"}, \"showarrow\": false, \"text\": \"0.0\", \"x\": \"16\", \"xref\": \"x\", \"y\": \"2\", \"yref\": \"y\"}, {\"font\": {\"color\": \"#000000\"}, \"showarrow\": false, \"text\": \"0.0\", \"x\": \"15\", \"xref\": \"x\", \"y\": \"2\", \"yref\": \"y\"}, {\"font\": {\"color\": \"#000000\"}, \"showarrow\": false, \"text\": \"0.0\", \"x\": \"14\", \"xref\": \"x\", \"y\": \"2\", \"yref\": \"y\"}, {\"font\": {\"color\": \"#000000\"}, \"showarrow\": false, \"text\": \"0.0\", \"x\": \"13\", \"xref\": \"x\", \"y\": \"2\", \"yref\": \"y\"}, {\"font\": {\"color\": \"#000000\"}, \"showarrow\": false, \"text\": \"0.0\", \"x\": \"12\", \"xref\": \"x\", \"y\": \"2\", \"yref\": \"y\"}, {\"font\": {\"color\": \"#000000\"}, \"showarrow\": false, \"text\": \"0.0\", \"x\": \"11\", \"xref\": \"x\", \"y\": \"2\", \"yref\": \"y\"}, {\"font\": {\"color\": \"#000000\"}, \"showarrow\": false, \"text\": \"0.0\", \"x\": \"10\", \"xref\": \"x\", \"y\": \"2\", \"yref\": \"y\"}, {\"font\": {\"color\": \"#000000\"}, \"showarrow\": false, \"text\": \"0.0\", \"x\": \"9\", \"xref\": \"x\", \"y\": \"2\", \"yref\": \"y\"}, {\"font\": {\"color\": \"#000000\"}, \"showarrow\": false, \"text\": \"0.0\", \"x\": \"8\", \"xref\": \"x\", \"y\": \"2\", \"yref\": \"y\"}, {\"font\": {\"color\": \"#000000\"}, \"showarrow\": false, \"text\": \"0.0\", \"x\": \"7\", \"xref\": \"x\", \"y\": \"2\", \"yref\": \"y\"}, {\"font\": {\"color\": \"#000000\"}, \"showarrow\": false, \"text\": \"0.0\", \"x\": \"6\", \"xref\": \"x\", \"y\": \"2\", \"yref\": \"y\"}, {\"font\": {\"color\": \"#000000\"}, \"showarrow\": false, \"text\": \"0.0\", \"x\": \"5\", \"xref\": \"x\", \"y\": \"2\", \"yref\": \"y\"}, {\"font\": {\"color\": \"#000000\"}, \"showarrow\": false, \"text\": \"0.0\", \"x\": \"4\", \"xref\": \"x\", \"y\": \"2\", \"yref\": \"y\"}, {\"font\": {\"color\": \"#000000\"}, \"showarrow\": false, \"text\": \"0.0\", \"x\": \"3\", \"xref\": \"x\", \"y\": \"2\", \"yref\": \"y\"}, {\"font\": {\"color\": \"#000000\"}, \"showarrow\": false, \"text\": \"0.0\", \"x\": \"2\", \"xref\": \"x\", \"y\": \"2\", \"yref\": \"y\"}, {\"font\": {\"color\": \"#000000\"}, \"showarrow\": false, \"text\": \"0.0\", \"x\": \"1\", \"xref\": \"x\", \"y\": \"2\", \"yref\": \"y\"}, {\"font\": {\"color\": \"#FFFFFF\"}, \"showarrow\": false, \"text\": \"0.56\", \"x\": \"0\", \"xref\": \"x\", \"y\": \"2\", \"yref\": \"y\"}, {\"font\": {\"color\": \"#000000\"}, \"showarrow\": false, \"text\": \"0.48\", \"x\": \"20\", \"xref\": \"x\", \"y\": \"3\", \"yref\": \"y\"}, {\"font\": {\"color\": \"#000000\"}, \"showarrow\": false, \"text\": \"0.0\", \"x\": \"19\", \"xref\": \"x\", \"y\": \"3\", \"yref\": \"y\"}, {\"font\": {\"color\": \"#000000\"}, \"showarrow\": false, \"text\": \"0.0\", \"x\": \"18\", \"xref\": \"x\", \"y\": \"3\", \"yref\": \"y\"}, {\"font\": {\"color\": \"#000000\"}, \"showarrow\": false, \"text\": \"0.0\", \"x\": \"17\", \"xref\": \"x\", \"y\": \"3\", \"yref\": \"y\"}, {\"font\": {\"color\": \"#000000\"}, \"showarrow\": false, \"text\": \"0.0\", \"x\": \"16\", \"xref\": \"x\", \"y\": \"3\", \"yref\": \"y\"}, {\"font\": {\"color\": \"#000000\"}, \"showarrow\": false, \"text\": \"0.0\", \"x\": \"15\", \"xref\": \"x\", \"y\": \"3\", \"yref\": \"y\"}, {\"font\": {\"color\": \"#000000\"}, \"showarrow\": false, \"text\": \"0.0\", \"x\": \"14\", \"xref\": \"x\", \"y\": \"3\", \"yref\": \"y\"}, {\"font\": {\"color\": \"#000000\"}, \"showarrow\": false, \"text\": \"0.0\", \"x\": \"13\", \"xref\": \"x\", \"y\": \"3\", \"yref\": \"y\"}, {\"font\": {\"color\": \"#000000\"}, \"showarrow\": false, \"text\": \"0.0\", \"x\": \"12\", \"xref\": \"x\", \"y\": \"3\", \"yref\": \"y\"}, {\"font\": {\"color\": \"#000000\"}, \"showarrow\": false, \"text\": \"0.0\", \"x\": \"11\", \"xref\": \"x\", \"y\": \"3\", \"yref\": \"y\"}, {\"font\": {\"color\": \"#000000\"}, \"showarrow\": false, \"text\": \"0.0\", \"x\": \"10\", \"xref\": \"x\", \"y\": \"3\", \"yref\": \"y\"}, {\"font\": {\"color\": \"#000000\"}, \"showarrow\": false, \"text\": \"0.0\", \"x\": \"9\", \"xref\": \"x\", \"y\": \"3\", \"yref\": \"y\"}, {\"font\": {\"color\": \"#000000\"}, \"showarrow\": false, \"text\": \"0.0\", \"x\": \"8\", \"xref\": \"x\", \"y\": \"3\", \"yref\": \"y\"}, {\"font\": {\"color\": \"#000000\"}, \"showarrow\": false, \"text\": \"0.0\", \"x\": \"7\", \"xref\": \"x\", \"y\": \"3\", \"yref\": \"y\"}, {\"font\": {\"color\": \"#000000\"}, \"showarrow\": false, \"text\": \"0.0\", \"x\": \"6\", \"xref\": \"x\", \"y\": \"3\", \"yref\": \"y\"}, {\"font\": {\"color\": \"#000000\"}, \"showarrow\": false, \"text\": \"0.0\", \"x\": \"5\", \"xref\": \"x\", \"y\": \"3\", \"yref\": \"y\"}, {\"font\": {\"color\": \"#000000\"}, \"showarrow\": false, \"text\": \"0.0\", \"x\": \"4\", \"xref\": \"x\", \"y\": \"3\", \"yref\": \"y\"}, {\"font\": {\"color\": \"#000000\"}, \"showarrow\": false, \"text\": \"0.0\", \"x\": \"3\", \"xref\": \"x\", \"y\": \"3\", \"yref\": \"y\"}, {\"font\": {\"color\": \"#000000\"}, \"showarrow\": false, \"text\": \"0.0\", \"x\": \"2\", \"xref\": \"x\", \"y\": \"3\", \"yref\": \"y\"}, {\"font\": {\"color\": \"#000000\"}, \"showarrow\": false, \"text\": \"0.0\", \"x\": \"1\", \"xref\": \"x\", \"y\": \"3\", \"yref\": \"y\"}, {\"font\": {\"color\": \"#FFFFFF\"}, \"showarrow\": false, \"text\": \"0.52\", \"x\": \"0\", \"xref\": \"x\", \"y\": \"3\", \"yref\": \"y\"}, {\"font\": {\"color\": \"#000000\"}, \"showarrow\": false, \"text\": \"0.46\", \"x\": \"20\", \"xref\": \"x\", \"y\": \"4\", \"yref\": \"y\"}, {\"font\": {\"color\": \"#000000\"}, \"showarrow\": false, \"text\": \"0.0\", \"x\": \"19\", \"xref\": \"x\", \"y\": \"4\", \"yref\": \"y\"}, {\"font\": {\"color\": \"#000000\"}, \"showarrow\": false, \"text\": \"0.0\", \"x\": \"18\", \"xref\": \"x\", \"y\": \"4\", \"yref\": \"y\"}, {\"font\": {\"color\": \"#000000\"}, \"showarrow\": false, \"text\": \"0.0\", \"x\": \"17\", \"xref\": \"x\", \"y\": \"4\", \"yref\": \"y\"}, {\"font\": {\"color\": \"#000000\"}, \"showarrow\": false, \"text\": \"0.0\", \"x\": \"16\", \"xref\": \"x\", \"y\": \"4\", \"yref\": \"y\"}, {\"font\": {\"color\": \"#000000\"}, \"showarrow\": false, \"text\": \"0.0\", \"x\": \"15\", \"xref\": \"x\", \"y\": \"4\", \"yref\": \"y\"}, {\"font\": {\"color\": \"#000000\"}, \"showarrow\": false, \"text\": \"0.0\", \"x\": \"14\", \"xref\": \"x\", \"y\": \"4\", \"yref\": \"y\"}, {\"font\": {\"color\": \"#000000\"}, \"showarrow\": false, \"text\": \"0.0\", \"x\": \"13\", \"xref\": \"x\", \"y\": \"4\", \"yref\": \"y\"}, {\"font\": {\"color\": \"#000000\"}, \"showarrow\": false, \"text\": \"0.0\", \"x\": \"12\", \"xref\": \"x\", \"y\": \"4\", \"yref\": \"y\"}, {\"font\": {\"color\": \"#000000\"}, \"showarrow\": false, \"text\": \"0.0\", \"x\": \"11\", \"xref\": \"x\", \"y\": \"4\", \"yref\": \"y\"}, {\"font\": {\"color\": \"#000000\"}, \"showarrow\": false, \"text\": \"0.0\", \"x\": \"10\", \"xref\": \"x\", \"y\": \"4\", \"yref\": \"y\"}, {\"font\": {\"color\": \"#000000\"}, \"showarrow\": false, \"text\": \"0.0\", \"x\": \"9\", \"xref\": \"x\", \"y\": \"4\", \"yref\": \"y\"}, {\"font\": {\"color\": \"#000000\"}, \"showarrow\": false, \"text\": \"0.0\", \"x\": \"8\", \"xref\": \"x\", \"y\": \"4\", \"yref\": \"y\"}, {\"font\": {\"color\": \"#000000\"}, \"showarrow\": false, \"text\": \"0.0\", \"x\": \"7\", \"xref\": \"x\", \"y\": \"4\", \"yref\": \"y\"}, {\"font\": {\"color\": \"#000000\"}, \"showarrow\": false, \"text\": \"0.0\", \"x\": \"6\", \"xref\": \"x\", \"y\": \"4\", \"yref\": \"y\"}, {\"font\": {\"color\": \"#000000\"}, \"showarrow\": false, \"text\": \"0.0\", \"x\": \"5\", \"xref\": \"x\", \"y\": \"4\", \"yref\": \"y\"}, {\"font\": {\"color\": \"#000000\"}, \"showarrow\": false, \"text\": \"0.0\", \"x\": \"4\", \"xref\": \"x\", \"y\": \"4\", \"yref\": \"y\"}, {\"font\": {\"color\": \"#000000\"}, \"showarrow\": false, \"text\": \"0.0\", \"x\": \"3\", \"xref\": \"x\", \"y\": \"4\", \"yref\": \"y\"}, {\"font\": {\"color\": \"#000000\"}, \"showarrow\": false, \"text\": \"0.0\", \"x\": \"2\", \"xref\": \"x\", \"y\": \"4\", \"yref\": \"y\"}, {\"font\": {\"color\": \"#000000\"}, \"showarrow\": false, \"text\": \"0.0\", \"x\": \"1\", \"xref\": \"x\", \"y\": \"4\", \"yref\": \"y\"}, {\"font\": {\"color\": \"#FFFFFF\"}, \"showarrow\": false, \"text\": \"0.54\", \"x\": \"0\", \"xref\": \"x\", \"y\": \"4\", \"yref\": \"y\"}, {\"font\": {\"color\": \"#FFFFFF\"}, \"showarrow\": false, \"text\": \"0.51\", \"x\": \"20\", \"xref\": \"x\", \"y\": \"5\", \"yref\": \"y\"}, {\"font\": {\"color\": \"#000000\"}, \"showarrow\": false, \"text\": \"0.0\", \"x\": \"19\", \"xref\": \"x\", \"y\": \"5\", \"yref\": \"y\"}, {\"font\": {\"color\": \"#000000\"}, \"showarrow\": false, \"text\": \"0.0\", \"x\": \"18\", \"xref\": \"x\", \"y\": \"5\", \"yref\": \"y\"}, {\"font\": {\"color\": \"#000000\"}, \"showarrow\": false, \"text\": \"0.0\", \"x\": \"17\", \"xref\": \"x\", \"y\": \"5\", \"yref\": \"y\"}, {\"font\": {\"color\": \"#000000\"}, \"showarrow\": false, \"text\": \"0.0\", \"x\": \"16\", \"xref\": \"x\", \"y\": \"5\", \"yref\": \"y\"}, {\"font\": {\"color\": \"#000000\"}, \"showarrow\": false, \"text\": \"0.0\", \"x\": \"15\", \"xref\": \"x\", \"y\": \"5\", \"yref\": \"y\"}, {\"font\": {\"color\": \"#000000\"}, \"showarrow\": false, \"text\": \"0.0\", \"x\": \"14\", \"xref\": \"x\", \"y\": \"5\", \"yref\": \"y\"}, {\"font\": {\"color\": \"#000000\"}, \"showarrow\": false, \"text\": \"0.0\", \"x\": \"13\", \"xref\": \"x\", \"y\": \"5\", \"yref\": \"y\"}, {\"font\": {\"color\": \"#000000\"}, \"showarrow\": false, \"text\": \"0.0\", \"x\": \"12\", \"xref\": \"x\", \"y\": \"5\", \"yref\": \"y\"}, {\"font\": {\"color\": \"#000000\"}, \"showarrow\": false, \"text\": \"0.0\", \"x\": \"11\", \"xref\": \"x\", \"y\": \"5\", \"yref\": \"y\"}, {\"font\": {\"color\": \"#000000\"}, \"showarrow\": false, \"text\": \"0.0\", \"x\": \"10\", \"xref\": \"x\", \"y\": \"5\", \"yref\": \"y\"}, {\"font\": {\"color\": \"#000000\"}, \"showarrow\": false, \"text\": \"0.0\", \"x\": \"9\", \"xref\": \"x\", \"y\": \"5\", \"yref\": \"y\"}, {\"font\": {\"color\": \"#000000\"}, \"showarrow\": false, \"text\": \"0.0\", \"x\": \"8\", \"xref\": \"x\", \"y\": \"5\", \"yref\": \"y\"}, {\"font\": {\"color\": \"#000000\"}, \"showarrow\": false, \"text\": \"0.0\", \"x\": \"7\", \"xref\": \"x\", \"y\": \"5\", \"yref\": \"y\"}, {\"font\": {\"color\": \"#000000\"}, \"showarrow\": false, \"text\": \"0.0\", \"x\": \"6\", \"xref\": \"x\", \"y\": \"5\", \"yref\": \"y\"}, {\"font\": {\"color\": \"#000000\"}, \"showarrow\": false, \"text\": \"0.0\", \"x\": \"5\", \"xref\": \"x\", \"y\": \"5\", \"yref\": \"y\"}, {\"font\": {\"color\": \"#000000\"}, \"showarrow\": false, \"text\": \"0.0\", \"x\": \"4\", \"xref\": \"x\", \"y\": \"5\", \"yref\": \"y\"}, {\"font\": {\"color\": \"#000000\"}, \"showarrow\": false, \"text\": \"0.0\", \"x\": \"3\", \"xref\": \"x\", \"y\": \"5\", \"yref\": \"y\"}, {\"font\": {\"color\": \"#000000\"}, \"showarrow\": false, \"text\": \"0.0\", \"x\": \"2\", \"xref\": \"x\", \"y\": \"5\", \"yref\": \"y\"}, {\"font\": {\"color\": \"#000000\"}, \"showarrow\": false, \"text\": \"0.0\", \"x\": \"1\", \"xref\": \"x\", \"y\": \"5\", \"yref\": \"y\"}, {\"font\": {\"color\": \"#FFFFFF\"}, \"showarrow\": false, \"text\": \"0.49\", \"x\": \"0\", \"xref\": \"x\", \"y\": \"5\", \"yref\": \"y\"}, {\"font\": {\"color\": \"#FFFFFF\"}, \"showarrow\": false, \"text\": \"0.54\", \"x\": \"20\", \"xref\": \"x\", \"y\": \"6\", \"yref\": \"y\"}, {\"font\": {\"color\": \"#000000\"}, \"showarrow\": false, \"text\": \"0.0\", \"x\": \"19\", \"xref\": \"x\", \"y\": \"6\", \"yref\": \"y\"}, {\"font\": {\"color\": \"#000000\"}, \"showarrow\": false, \"text\": \"0.0\", \"x\": \"18\", \"xref\": \"x\", \"y\": \"6\", \"yref\": \"y\"}, {\"font\": {\"color\": \"#000000\"}, \"showarrow\": false, \"text\": \"0.0\", \"x\": \"17\", \"xref\": \"x\", \"y\": \"6\", \"yref\": \"y\"}, {\"font\": {\"color\": \"#000000\"}, \"showarrow\": false, \"text\": \"0.0\", \"x\": \"16\", \"xref\": \"x\", \"y\": \"6\", \"yref\": \"y\"}, {\"font\": {\"color\": \"#000000\"}, \"showarrow\": false, \"text\": \"0.0\", \"x\": \"15\", \"xref\": \"x\", \"y\": \"6\", \"yref\": \"y\"}, {\"font\": {\"color\": \"#000000\"}, \"showarrow\": false, \"text\": \"0.0\", \"x\": \"14\", \"xref\": \"x\", \"y\": \"6\", \"yref\": \"y\"}, {\"font\": {\"color\": \"#000000\"}, \"showarrow\": false, \"text\": \"0.0\", \"x\": \"13\", \"xref\": \"x\", \"y\": \"6\", \"yref\": \"y\"}, {\"font\": {\"color\": \"#000000\"}, \"showarrow\": false, \"text\": \"0.0\", \"x\": \"12\", \"xref\": \"x\", \"y\": \"6\", \"yref\": \"y\"}, {\"font\": {\"color\": \"#000000\"}, \"showarrow\": false, \"text\": \"0.0\", \"x\": \"11\", \"xref\": \"x\", \"y\": \"6\", \"yref\": \"y\"}, {\"font\": {\"color\": \"#000000\"}, \"showarrow\": false, \"text\": \"0.0\", \"x\": \"10\", \"xref\": \"x\", \"y\": \"6\", \"yref\": \"y\"}, {\"font\": {\"color\": \"#000000\"}, \"showarrow\": false, \"text\": \"0.0\", \"x\": \"9\", \"xref\": \"x\", \"y\": \"6\", \"yref\": \"y\"}, {\"font\": {\"color\": \"#000000\"}, \"showarrow\": false, \"text\": \"0.0\", \"x\": \"8\", \"xref\": \"x\", \"y\": \"6\", \"yref\": \"y\"}, {\"font\": {\"color\": \"#000000\"}, \"showarrow\": false, \"text\": \"0.0\", \"x\": \"7\", \"xref\": \"x\", \"y\": \"6\", \"yref\": \"y\"}, {\"font\": {\"color\": \"#000000\"}, \"showarrow\": false, \"text\": \"0.0\", \"x\": \"6\", \"xref\": \"x\", \"y\": \"6\", \"yref\": \"y\"}, {\"font\": {\"color\": \"#000000\"}, \"showarrow\": false, \"text\": \"0.0\", \"x\": \"5\", \"xref\": \"x\", \"y\": \"6\", \"yref\": \"y\"}, {\"font\": {\"color\": \"#000000\"}, \"showarrow\": false, \"text\": \"0.0\", \"x\": \"4\", \"xref\": \"x\", \"y\": \"6\", \"yref\": \"y\"}, {\"font\": {\"color\": \"#000000\"}, \"showarrow\": false, \"text\": \"0.0\", \"x\": \"3\", \"xref\": \"x\", \"y\": \"6\", \"yref\": \"y\"}, {\"font\": {\"color\": \"#000000\"}, \"showarrow\": false, \"text\": \"0.0\", \"x\": \"2\", \"xref\": \"x\", \"y\": \"6\", \"yref\": \"y\"}, {\"font\": {\"color\": \"#000000\"}, \"showarrow\": false, \"text\": \"0.0\", \"x\": \"1\", \"xref\": \"x\", \"y\": \"6\", \"yref\": \"y\"}, {\"font\": {\"color\": \"#000000\"}, \"showarrow\": false, \"text\": \"0.46\", \"x\": \"0\", \"xref\": \"x\", \"y\": \"6\", \"yref\": \"y\"}, {\"font\": {\"color\": \"#FFFFFF\"}, \"showarrow\": false, \"text\": \"0.5\", \"x\": \"20\", \"xref\": \"x\", \"y\": \"7\", \"yref\": \"y\"}, {\"font\": {\"color\": \"#000000\"}, \"showarrow\": false, \"text\": \"0.0\", \"x\": \"19\", \"xref\": \"x\", \"y\": \"7\", \"yref\": \"y\"}, {\"font\": {\"color\": \"#000000\"}, \"showarrow\": false, \"text\": \"0.0\", \"x\": \"18\", \"xref\": \"x\", \"y\": \"7\", \"yref\": \"y\"}, {\"font\": {\"color\": \"#000000\"}, \"showarrow\": false, \"text\": \"0.0\", \"x\": \"17\", \"xref\": \"x\", \"y\": \"7\", \"yref\": \"y\"}, {\"font\": {\"color\": \"#000000\"}, \"showarrow\": false, \"text\": \"0.0\", \"x\": \"16\", \"xref\": \"x\", \"y\": \"7\", \"yref\": \"y\"}, {\"font\": {\"color\": \"#000000\"}, \"showarrow\": false, \"text\": \"0.0\", \"x\": \"15\", \"xref\": \"x\", \"y\": \"7\", \"yref\": \"y\"}, {\"font\": {\"color\": \"#000000\"}, \"showarrow\": false, \"text\": \"0.0\", \"x\": \"14\", \"xref\": \"x\", \"y\": \"7\", \"yref\": \"y\"}, {\"font\": {\"color\": \"#000000\"}, \"showarrow\": false, \"text\": \"0.0\", \"x\": \"13\", \"xref\": \"x\", \"y\": \"7\", \"yref\": \"y\"}, {\"font\": {\"color\": \"#000000\"}, \"showarrow\": false, \"text\": \"0.0\", \"x\": \"12\", \"xref\": \"x\", \"y\": \"7\", \"yref\": \"y\"}, {\"font\": {\"color\": \"#000000\"}, \"showarrow\": false, \"text\": \"0.0\", \"x\": \"11\", \"xref\": \"x\", \"y\": \"7\", \"yref\": \"y\"}, {\"font\": {\"color\": \"#000000\"}, \"showarrow\": false, \"text\": \"0.0\", \"x\": \"10\", \"xref\": \"x\", \"y\": \"7\", \"yref\": \"y\"}, {\"font\": {\"color\": \"#000000\"}, \"showarrow\": false, \"text\": \"0.0\", \"x\": \"9\", \"xref\": \"x\", \"y\": \"7\", \"yref\": \"y\"}, {\"font\": {\"color\": \"#000000\"}, \"showarrow\": false, \"text\": \"0.0\", \"x\": \"8\", \"xref\": \"x\", \"y\": \"7\", \"yref\": \"y\"}, {\"font\": {\"color\": \"#000000\"}, \"showarrow\": false, \"text\": \"0.0\", \"x\": \"7\", \"xref\": \"x\", \"y\": \"7\", \"yref\": \"y\"}, {\"font\": {\"color\": \"#000000\"}, \"showarrow\": false, \"text\": \"0.0\", \"x\": \"6\", \"xref\": \"x\", \"y\": \"7\", \"yref\": \"y\"}, {\"font\": {\"color\": \"#000000\"}, \"showarrow\": false, \"text\": \"0.0\", \"x\": \"5\", \"xref\": \"x\", \"y\": \"7\", \"yref\": \"y\"}, {\"font\": {\"color\": \"#000000\"}, \"showarrow\": false, \"text\": \"0.0\", \"x\": \"4\", \"xref\": \"x\", \"y\": \"7\", \"yref\": \"y\"}, {\"font\": {\"color\": \"#000000\"}, \"showarrow\": false, \"text\": \"0.0\", \"x\": \"3\", \"xref\": \"x\", \"y\": \"7\", \"yref\": \"y\"}, {\"font\": {\"color\": \"#000000\"}, \"showarrow\": false, \"text\": \"0.0\", \"x\": \"2\", \"xref\": \"x\", \"y\": \"7\", \"yref\": \"y\"}, {\"font\": {\"color\": \"#000000\"}, \"showarrow\": false, \"text\": \"0.0\", \"x\": \"1\", \"xref\": \"x\", \"y\": \"7\", \"yref\": \"y\"}, {\"font\": {\"color\": \"#FFFFFF\"}, \"showarrow\": false, \"text\": \"0.5\", \"x\": \"0\", \"xref\": \"x\", \"y\": \"7\", \"yref\": \"y\"}, {\"font\": {\"color\": \"#FFFFFF\"}, \"showarrow\": false, \"text\": \"0.55\", \"x\": \"20\", \"xref\": \"x\", \"y\": \"8\", \"yref\": \"y\"}, {\"font\": {\"color\": \"#000000\"}, \"showarrow\": false, \"text\": \"0.0\", \"x\": \"19\", \"xref\": \"x\", \"y\": \"8\", \"yref\": \"y\"}, {\"font\": {\"color\": \"#000000\"}, \"showarrow\": false, \"text\": \"0.0\", \"x\": \"18\", \"xref\": \"x\", \"y\": \"8\", \"yref\": \"y\"}, {\"font\": {\"color\": \"#000000\"}, \"showarrow\": false, \"text\": \"0.0\", \"x\": \"17\", \"xref\": \"x\", \"y\": \"8\", \"yref\": \"y\"}, {\"font\": {\"color\": \"#000000\"}, \"showarrow\": false, \"text\": \"0.0\", \"x\": \"16\", \"xref\": \"x\", \"y\": \"8\", \"yref\": \"y\"}, {\"font\": {\"color\": \"#000000\"}, \"showarrow\": false, \"text\": \"0.0\", \"x\": \"15\", \"xref\": \"x\", \"y\": \"8\", \"yref\": \"y\"}, {\"font\": {\"color\": \"#000000\"}, \"showarrow\": false, \"text\": \"0.0\", \"x\": \"14\", \"xref\": \"x\", \"y\": \"8\", \"yref\": \"y\"}, {\"font\": {\"color\": \"#000000\"}, \"showarrow\": false, \"text\": \"0.0\", \"x\": \"13\", \"xref\": \"x\", \"y\": \"8\", \"yref\": \"y\"}, {\"font\": {\"color\": \"#000000\"}, \"showarrow\": false, \"text\": \"0.0\", \"x\": \"12\", \"xref\": \"x\", \"y\": \"8\", \"yref\": \"y\"}, {\"font\": {\"color\": \"#000000\"}, \"showarrow\": false, \"text\": \"0.0\", \"x\": \"11\", \"xref\": \"x\", \"y\": \"8\", \"yref\": \"y\"}, {\"font\": {\"color\": \"#000000\"}, \"showarrow\": false, \"text\": \"0.0\", \"x\": \"10\", \"xref\": \"x\", \"y\": \"8\", \"yref\": \"y\"}, {\"font\": {\"color\": \"#000000\"}, \"showarrow\": false, \"text\": \"0.0\", \"x\": \"9\", \"xref\": \"x\", \"y\": \"8\", \"yref\": \"y\"}, {\"font\": {\"color\": \"#000000\"}, \"showarrow\": false, \"text\": \"0.0\", \"x\": \"8\", \"xref\": \"x\", \"y\": \"8\", \"yref\": \"y\"}, {\"font\": {\"color\": \"#000000\"}, \"showarrow\": false, \"text\": \"0.0\", \"x\": \"7\", \"xref\": \"x\", \"y\": \"8\", \"yref\": \"y\"}, {\"font\": {\"color\": \"#000000\"}, \"showarrow\": false, \"text\": \"0.0\", \"x\": \"6\", \"xref\": \"x\", \"y\": \"8\", \"yref\": \"y\"}, {\"font\": {\"color\": \"#000000\"}, \"showarrow\": false, \"text\": \"0.0\", \"x\": \"5\", \"xref\": \"x\", \"y\": \"8\", \"yref\": \"y\"}, {\"font\": {\"color\": \"#000000\"}, \"showarrow\": false, \"text\": \"0.0\", \"x\": \"4\", \"xref\": \"x\", \"y\": \"8\", \"yref\": \"y\"}, {\"font\": {\"color\": \"#000000\"}, \"showarrow\": false, \"text\": \"0.0\", \"x\": \"3\", \"xref\": \"x\", \"y\": \"8\", \"yref\": \"y\"}, {\"font\": {\"color\": \"#000000\"}, \"showarrow\": false, \"text\": \"0.0\", \"x\": \"2\", \"xref\": \"x\", \"y\": \"8\", \"yref\": \"y\"}, {\"font\": {\"color\": \"#000000\"}, \"showarrow\": false, \"text\": \"0.0\", \"x\": \"1\", \"xref\": \"x\", \"y\": \"8\", \"yref\": \"y\"}, {\"font\": {\"color\": \"#000000\"}, \"showarrow\": false, \"text\": \"0.45\", \"x\": \"0\", \"xref\": \"x\", \"y\": \"8\", \"yref\": \"y\"}, {\"font\": {\"color\": \"#FFFFFF\"}, \"showarrow\": false, \"text\": \"0.49\", \"x\": \"20\", \"xref\": \"x\", \"y\": \"9\", \"yref\": \"y\"}, {\"font\": {\"color\": \"#000000\"}, \"showarrow\": false, \"text\": \"0.0\", \"x\": \"19\", \"xref\": \"x\", \"y\": \"9\", \"yref\": \"y\"}, {\"font\": {\"color\": \"#000000\"}, \"showarrow\": false, \"text\": \"0.0\", \"x\": \"18\", \"xref\": \"x\", \"y\": \"9\", \"yref\": \"y\"}, {\"font\": {\"color\": \"#000000\"}, \"showarrow\": false, \"text\": \"0.0\", \"x\": \"17\", \"xref\": \"x\", \"y\": \"9\", \"yref\": \"y\"}, {\"font\": {\"color\": \"#000000\"}, \"showarrow\": false, \"text\": \"0.0\", \"x\": \"16\", \"xref\": \"x\", \"y\": \"9\", \"yref\": \"y\"}, {\"font\": {\"color\": \"#000000\"}, \"showarrow\": false, \"text\": \"0.0\", \"x\": \"15\", \"xref\": \"x\", \"y\": \"9\", \"yref\": \"y\"}, {\"font\": {\"color\": \"#000000\"}, \"showarrow\": false, \"text\": \"0.0\", \"x\": \"14\", \"xref\": \"x\", \"y\": \"9\", \"yref\": \"y\"}, {\"font\": {\"color\": \"#000000\"}, \"showarrow\": false, \"text\": \"0.0\", \"x\": \"13\", \"xref\": \"x\", \"y\": \"9\", \"yref\": \"y\"}, {\"font\": {\"color\": \"#000000\"}, \"showarrow\": false, \"text\": \"0.0\", \"x\": \"12\", \"xref\": \"x\", \"y\": \"9\", \"yref\": \"y\"}, {\"font\": {\"color\": \"#000000\"}, \"showarrow\": false, \"text\": \"0.0\", \"x\": \"11\", \"xref\": \"x\", \"y\": \"9\", \"yref\": \"y\"}, {\"font\": {\"color\": \"#000000\"}, \"showarrow\": false, \"text\": \"0.0\", \"x\": \"10\", \"xref\": \"x\", \"y\": \"9\", \"yref\": \"y\"}, {\"font\": {\"color\": \"#000000\"}, \"showarrow\": false, \"text\": \"0.0\", \"x\": \"9\", \"xref\": \"x\", \"y\": \"9\", \"yref\": \"y\"}, {\"font\": {\"color\": \"#000000\"}, \"showarrow\": false, \"text\": \"0.0\", \"x\": \"8\", \"xref\": \"x\", \"y\": \"9\", \"yref\": \"y\"}, {\"font\": {\"color\": \"#000000\"}, \"showarrow\": false, \"text\": \"0.0\", \"x\": \"7\", \"xref\": \"x\", \"y\": \"9\", \"yref\": \"y\"}, {\"font\": {\"color\": \"#000000\"}, \"showarrow\": false, \"text\": \"0.0\", \"x\": \"6\", \"xref\": \"x\", \"y\": \"9\", \"yref\": \"y\"}, {\"font\": {\"color\": \"#000000\"}, \"showarrow\": false, \"text\": \"0.0\", \"x\": \"5\", \"xref\": \"x\", \"y\": \"9\", \"yref\": \"y\"}, {\"font\": {\"color\": \"#000000\"}, \"showarrow\": false, \"text\": \"0.0\", \"x\": \"4\", \"xref\": \"x\", \"y\": \"9\", \"yref\": \"y\"}, {\"font\": {\"color\": \"#000000\"}, \"showarrow\": false, \"text\": \"0.0\", \"x\": \"3\", \"xref\": \"x\", \"y\": \"9\", \"yref\": \"y\"}, {\"font\": {\"color\": \"#000000\"}, \"showarrow\": false, \"text\": \"0.0\", \"x\": \"2\", \"xref\": \"x\", \"y\": \"9\", \"yref\": \"y\"}, {\"font\": {\"color\": \"#000000\"}, \"showarrow\": false, \"text\": \"0.0\", \"x\": \"1\", \"xref\": \"x\", \"y\": \"9\", \"yref\": \"y\"}, {\"font\": {\"color\": \"#FFFFFF\"}, \"showarrow\": false, \"text\": \"0.51\", \"x\": \"0\", \"xref\": \"x\", \"y\": \"9\", \"yref\": \"y\"}, {\"font\": {\"color\": \"#FFFFFF\"}, \"showarrow\": false, \"text\": \"0.51\", \"x\": \"20\", \"xref\": \"x\", \"y\": \"10\", \"yref\": \"y\"}, {\"font\": {\"color\": \"#000000\"}, \"showarrow\": false, \"text\": \"0.0\", \"x\": \"19\", \"xref\": \"x\", \"y\": \"10\", \"yref\": \"y\"}, {\"font\": {\"color\": \"#000000\"}, \"showarrow\": false, \"text\": \"0.0\", \"x\": \"18\", \"xref\": \"x\", \"y\": \"10\", \"yref\": \"y\"}, {\"font\": {\"color\": \"#000000\"}, \"showarrow\": false, \"text\": \"0.0\", \"x\": \"17\", \"xref\": \"x\", \"y\": \"10\", \"yref\": \"y\"}, {\"font\": {\"color\": \"#000000\"}, \"showarrow\": false, \"text\": \"0.0\", \"x\": \"16\", \"xref\": \"x\", \"y\": \"10\", \"yref\": \"y\"}, {\"font\": {\"color\": \"#000000\"}, \"showarrow\": false, \"text\": \"0.0\", \"x\": \"15\", \"xref\": \"x\", \"y\": \"10\", \"yref\": \"y\"}, {\"font\": {\"color\": \"#000000\"}, \"showarrow\": false, \"text\": \"0.0\", \"x\": \"14\", \"xref\": \"x\", \"y\": \"10\", \"yref\": \"y\"}, {\"font\": {\"color\": \"#000000\"}, \"showarrow\": false, \"text\": \"0.0\", \"x\": \"13\", \"xref\": \"x\", \"y\": \"10\", \"yref\": \"y\"}, {\"font\": {\"color\": \"#000000\"}, \"showarrow\": false, \"text\": \"0.0\", \"x\": \"12\", \"xref\": \"x\", \"y\": \"10\", \"yref\": \"y\"}, {\"font\": {\"color\": \"#000000\"}, \"showarrow\": false, \"text\": \"0.0\", \"x\": \"11\", \"xref\": \"x\", \"y\": \"10\", \"yref\": \"y\"}, {\"font\": {\"color\": \"#000000\"}, \"showarrow\": false, \"text\": \"0.0\", \"x\": \"10\", \"xref\": \"x\", \"y\": \"10\", \"yref\": \"y\"}, {\"font\": {\"color\": \"#000000\"}, \"showarrow\": false, \"text\": \"0.0\", \"x\": \"9\", \"xref\": \"x\", \"y\": \"10\", \"yref\": \"y\"}, {\"font\": {\"color\": \"#000000\"}, \"showarrow\": false, \"text\": \"0.0\", \"x\": \"8\", \"xref\": \"x\", \"y\": \"10\", \"yref\": \"y\"}, {\"font\": {\"color\": \"#000000\"}, \"showarrow\": false, \"text\": \"0.0\", \"x\": \"7\", \"xref\": \"x\", \"y\": \"10\", \"yref\": \"y\"}, {\"font\": {\"color\": \"#000000\"}, \"showarrow\": false, \"text\": \"0.0\", \"x\": \"6\", \"xref\": \"x\", \"y\": \"10\", \"yref\": \"y\"}, {\"font\": {\"color\": \"#000000\"}, \"showarrow\": false, \"text\": \"0.0\", \"x\": \"5\", \"xref\": \"x\", \"y\": \"10\", \"yref\": \"y\"}, {\"font\": {\"color\": \"#000000\"}, \"showarrow\": false, \"text\": \"0.0\", \"x\": \"4\", \"xref\": \"x\", \"y\": \"10\", \"yref\": \"y\"}, {\"font\": {\"color\": \"#000000\"}, \"showarrow\": false, \"text\": \"0.0\", \"x\": \"3\", \"xref\": \"x\", \"y\": \"10\", \"yref\": \"y\"}, {\"font\": {\"color\": \"#000000\"}, \"showarrow\": false, \"text\": \"0.0\", \"x\": \"2\", \"xref\": \"x\", \"y\": \"10\", \"yref\": \"y\"}, {\"font\": {\"color\": \"#000000\"}, \"showarrow\": false, \"text\": \"0.0\", \"x\": \"1\", \"xref\": \"x\", \"y\": \"10\", \"yref\": \"y\"}, {\"font\": {\"color\": \"#FFFFFF\"}, \"showarrow\": false, \"text\": \"0.49\", \"x\": \"0\", \"xref\": \"x\", \"y\": \"10\", \"yref\": \"y\"}, {\"font\": {\"color\": \"#FFFFFF\"}, \"showarrow\": false, \"text\": \"0.55\", \"x\": \"20\", \"xref\": \"x\", \"y\": \"11\", \"yref\": \"y\"}, {\"font\": {\"color\": \"#000000\"}, \"showarrow\": false, \"text\": \"0.0\", \"x\": \"19\", \"xref\": \"x\", \"y\": \"11\", \"yref\": \"y\"}, {\"font\": {\"color\": \"#000000\"}, \"showarrow\": false, \"text\": \"0.0\", \"x\": \"18\", \"xref\": \"x\", \"y\": \"11\", \"yref\": \"y\"}, {\"font\": {\"color\": \"#000000\"}, \"showarrow\": false, \"text\": \"0.0\", \"x\": \"17\", \"xref\": \"x\", \"y\": \"11\", \"yref\": \"y\"}, {\"font\": {\"color\": \"#000000\"}, \"showarrow\": false, \"text\": \"0.0\", \"x\": \"16\", \"xref\": \"x\", \"y\": \"11\", \"yref\": \"y\"}, {\"font\": {\"color\": \"#000000\"}, \"showarrow\": false, \"text\": \"0.0\", \"x\": \"15\", \"xref\": \"x\", \"y\": \"11\", \"yref\": \"y\"}, {\"font\": {\"color\": \"#000000\"}, \"showarrow\": false, \"text\": \"0.0\", \"x\": \"14\", \"xref\": \"x\", \"y\": \"11\", \"yref\": \"y\"}, {\"font\": {\"color\": \"#000000\"}, \"showarrow\": false, \"text\": \"0.0\", \"x\": \"13\", \"xref\": \"x\", \"y\": \"11\", \"yref\": \"y\"}, {\"font\": {\"color\": \"#000000\"}, \"showarrow\": false, \"text\": \"0.0\", \"x\": \"12\", \"xref\": \"x\", \"y\": \"11\", \"yref\": \"y\"}, {\"font\": {\"color\": \"#000000\"}, \"showarrow\": false, \"text\": \"0.0\", \"x\": \"11\", \"xref\": \"x\", \"y\": \"11\", \"yref\": \"y\"}, {\"font\": {\"color\": \"#000000\"}, \"showarrow\": false, \"text\": \"0.0\", \"x\": \"10\", \"xref\": \"x\", \"y\": \"11\", \"yref\": \"y\"}, {\"font\": {\"color\": \"#000000\"}, \"showarrow\": false, \"text\": \"0.0\", \"x\": \"9\", \"xref\": \"x\", \"y\": \"11\", \"yref\": \"y\"}, {\"font\": {\"color\": \"#000000\"}, \"showarrow\": false, \"text\": \"0.0\", \"x\": \"8\", \"xref\": \"x\", \"y\": \"11\", \"yref\": \"y\"}, {\"font\": {\"color\": \"#000000\"}, \"showarrow\": false, \"text\": \"0.0\", \"x\": \"7\", \"xref\": \"x\", \"y\": \"11\", \"yref\": \"y\"}, {\"font\": {\"color\": \"#000000\"}, \"showarrow\": false, \"text\": \"0.0\", \"x\": \"6\", \"xref\": \"x\", \"y\": \"11\", \"yref\": \"y\"}, {\"font\": {\"color\": \"#000000\"}, \"showarrow\": false, \"text\": \"0.0\", \"x\": \"5\", \"xref\": \"x\", \"y\": \"11\", \"yref\": \"y\"}, {\"font\": {\"color\": \"#000000\"}, \"showarrow\": false, \"text\": \"0.0\", \"x\": \"4\", \"xref\": \"x\", \"y\": \"11\", \"yref\": \"y\"}, {\"font\": {\"color\": \"#000000\"}, \"showarrow\": false, \"text\": \"0.0\", \"x\": \"3\", \"xref\": \"x\", \"y\": \"11\", \"yref\": \"y\"}, {\"font\": {\"color\": \"#000000\"}, \"showarrow\": false, \"text\": \"0.0\", \"x\": \"2\", \"xref\": \"x\", \"y\": \"11\", \"yref\": \"y\"}, {\"font\": {\"color\": \"#000000\"}, \"showarrow\": false, \"text\": \"0.0\", \"x\": \"1\", \"xref\": \"x\", \"y\": \"11\", \"yref\": \"y\"}, {\"font\": {\"color\": \"#000000\"}, \"showarrow\": false, \"text\": \"0.45\", \"x\": \"0\", \"xref\": \"x\", \"y\": \"11\", \"yref\": \"y\"}, {\"font\": {\"color\": \"#FFFFFF\"}, \"showarrow\": false, \"text\": \"0.52\", \"x\": \"20\", \"xref\": \"x\", \"y\": \"12\", \"yref\": \"y\"}, {\"font\": {\"color\": \"#000000\"}, \"showarrow\": false, \"text\": \"0.0\", \"x\": \"19\", \"xref\": \"x\", \"y\": \"12\", \"yref\": \"y\"}, {\"font\": {\"color\": \"#000000\"}, \"showarrow\": false, \"text\": \"0.0\", \"x\": \"18\", \"xref\": \"x\", \"y\": \"12\", \"yref\": \"y\"}, {\"font\": {\"color\": \"#000000\"}, \"showarrow\": false, \"text\": \"0.0\", \"x\": \"17\", \"xref\": \"x\", \"y\": \"12\", \"yref\": \"y\"}, {\"font\": {\"color\": \"#000000\"}, \"showarrow\": false, \"text\": \"0.0\", \"x\": \"16\", \"xref\": \"x\", \"y\": \"12\", \"yref\": \"y\"}, {\"font\": {\"color\": \"#000000\"}, \"showarrow\": false, \"text\": \"0.0\", \"x\": \"15\", \"xref\": \"x\", \"y\": \"12\", \"yref\": \"y\"}, {\"font\": {\"color\": \"#000000\"}, \"showarrow\": false, \"text\": \"0.0\", \"x\": \"14\", \"xref\": \"x\", \"y\": \"12\", \"yref\": \"y\"}, {\"font\": {\"color\": \"#000000\"}, \"showarrow\": false, \"text\": \"0.0\", \"x\": \"13\", \"xref\": \"x\", \"y\": \"12\", \"yref\": \"y\"}, {\"font\": {\"color\": \"#000000\"}, \"showarrow\": false, \"text\": \"0.0\", \"x\": \"12\", \"xref\": \"x\", \"y\": \"12\", \"yref\": \"y\"}, {\"font\": {\"color\": \"#000000\"}, \"showarrow\": false, \"text\": \"0.0\", \"x\": \"11\", \"xref\": \"x\", \"y\": \"12\", \"yref\": \"y\"}, {\"font\": {\"color\": \"#000000\"}, \"showarrow\": false, \"text\": \"0.0\", \"x\": \"10\", \"xref\": \"x\", \"y\": \"12\", \"yref\": \"y\"}, {\"font\": {\"color\": \"#000000\"}, \"showarrow\": false, \"text\": \"0.0\", \"x\": \"9\", \"xref\": \"x\", \"y\": \"12\", \"yref\": \"y\"}, {\"font\": {\"color\": \"#000000\"}, \"showarrow\": false, \"text\": \"0.0\", \"x\": \"8\", \"xref\": \"x\", \"y\": \"12\", \"yref\": \"y\"}, {\"font\": {\"color\": \"#000000\"}, \"showarrow\": false, \"text\": \"0.0\", \"x\": \"7\", \"xref\": \"x\", \"y\": \"12\", \"yref\": \"y\"}, {\"font\": {\"color\": \"#000000\"}, \"showarrow\": false, \"text\": \"0.0\", \"x\": \"6\", \"xref\": \"x\", \"y\": \"12\", \"yref\": \"y\"}, {\"font\": {\"color\": \"#000000\"}, \"showarrow\": false, \"text\": \"0.0\", \"x\": \"5\", \"xref\": \"x\", \"y\": \"12\", \"yref\": \"y\"}, {\"font\": {\"color\": \"#000000\"}, \"showarrow\": false, \"text\": \"0.0\", \"x\": \"4\", \"xref\": \"x\", \"y\": \"12\", \"yref\": \"y\"}, {\"font\": {\"color\": \"#000000\"}, \"showarrow\": false, \"text\": \"0.0\", \"x\": \"3\", \"xref\": \"x\", \"y\": \"12\", \"yref\": \"y\"}, {\"font\": {\"color\": \"#000000\"}, \"showarrow\": false, \"text\": \"0.0\", \"x\": \"2\", \"xref\": \"x\", \"y\": \"12\", \"yref\": \"y\"}, {\"font\": {\"color\": \"#000000\"}, \"showarrow\": false, \"text\": \"0.0\", \"x\": \"1\", \"xref\": \"x\", \"y\": \"12\", \"yref\": \"y\"}, {\"font\": {\"color\": \"#000000\"}, \"showarrow\": false, \"text\": \"0.48\", \"x\": \"0\", \"xref\": \"x\", \"y\": \"12\", \"yref\": \"y\"}, {\"font\": {\"color\": \"#000000\"}, \"showarrow\": false, \"text\": \"0.47\", \"x\": \"20\", \"xref\": \"x\", \"y\": \"13\", \"yref\": \"y\"}, {\"font\": {\"color\": \"#000000\"}, \"showarrow\": false, \"text\": \"0.0\", \"x\": \"19\", \"xref\": \"x\", \"y\": \"13\", \"yref\": \"y\"}, {\"font\": {\"color\": \"#000000\"}, \"showarrow\": false, \"text\": \"0.0\", \"x\": \"18\", \"xref\": \"x\", \"y\": \"13\", \"yref\": \"y\"}, {\"font\": {\"color\": \"#000000\"}, \"showarrow\": false, \"text\": \"0.0\", \"x\": \"17\", \"xref\": \"x\", \"y\": \"13\", \"yref\": \"y\"}, {\"font\": {\"color\": \"#000000\"}, \"showarrow\": false, \"text\": \"0.0\", \"x\": \"16\", \"xref\": \"x\", \"y\": \"13\", \"yref\": \"y\"}, {\"font\": {\"color\": \"#000000\"}, \"showarrow\": false, \"text\": \"0.0\", \"x\": \"15\", \"xref\": \"x\", \"y\": \"13\", \"yref\": \"y\"}, {\"font\": {\"color\": \"#000000\"}, \"showarrow\": false, \"text\": \"0.0\", \"x\": \"14\", \"xref\": \"x\", \"y\": \"13\", \"yref\": \"y\"}, {\"font\": {\"color\": \"#000000\"}, \"showarrow\": false, \"text\": \"0.0\", \"x\": \"13\", \"xref\": \"x\", \"y\": \"13\", \"yref\": \"y\"}, {\"font\": {\"color\": \"#000000\"}, \"showarrow\": false, \"text\": \"0.0\", \"x\": \"12\", \"xref\": \"x\", \"y\": \"13\", \"yref\": \"y\"}, {\"font\": {\"color\": \"#000000\"}, \"showarrow\": false, \"text\": \"0.0\", \"x\": \"11\", \"xref\": \"x\", \"y\": \"13\", \"yref\": \"y\"}, {\"font\": {\"color\": \"#000000\"}, \"showarrow\": false, \"text\": \"0.0\", \"x\": \"10\", \"xref\": \"x\", \"y\": \"13\", \"yref\": \"y\"}, {\"font\": {\"color\": \"#000000\"}, \"showarrow\": false, \"text\": \"0.0\", \"x\": \"9\", \"xref\": \"x\", \"y\": \"13\", \"yref\": \"y\"}, {\"font\": {\"color\": \"#000000\"}, \"showarrow\": false, \"text\": \"0.0\", \"x\": \"8\", \"xref\": \"x\", \"y\": \"13\", \"yref\": \"y\"}, {\"font\": {\"color\": \"#000000\"}, \"showarrow\": false, \"text\": \"0.0\", \"x\": \"7\", \"xref\": \"x\", \"y\": \"13\", \"yref\": \"y\"}, {\"font\": {\"color\": \"#000000\"}, \"showarrow\": false, \"text\": \"0.0\", \"x\": \"6\", \"xref\": \"x\", \"y\": \"13\", \"yref\": \"y\"}, {\"font\": {\"color\": \"#000000\"}, \"showarrow\": false, \"text\": \"0.0\", \"x\": \"5\", \"xref\": \"x\", \"y\": \"13\", \"yref\": \"y\"}, {\"font\": {\"color\": \"#000000\"}, \"showarrow\": false, \"text\": \"0.0\", \"x\": \"4\", \"xref\": \"x\", \"y\": \"13\", \"yref\": \"y\"}, {\"font\": {\"color\": \"#000000\"}, \"showarrow\": false, \"text\": \"0.0\", \"x\": \"3\", \"xref\": \"x\", \"y\": \"13\", \"yref\": \"y\"}, {\"font\": {\"color\": \"#000000\"}, \"showarrow\": false, \"text\": \"0.0\", \"x\": \"2\", \"xref\": \"x\", \"y\": \"13\", \"yref\": \"y\"}, {\"font\": {\"color\": \"#000000\"}, \"showarrow\": false, \"text\": \"0.0\", \"x\": \"1\", \"xref\": \"x\", \"y\": \"13\", \"yref\": \"y\"}, {\"font\": {\"color\": \"#FFFFFF\"}, \"showarrow\": false, \"text\": \"0.53\", \"x\": \"0\", \"xref\": \"x\", \"y\": \"13\", \"yref\": \"y\"}, {\"font\": {\"color\": \"#FFFFFF\"}, \"showarrow\": false, \"text\": \"0.62\", \"x\": \"20\", \"xref\": \"x\", \"y\": \"14\", \"yref\": \"y\"}, {\"font\": {\"color\": \"#000000\"}, \"showarrow\": false, \"text\": \"0.0\", \"x\": \"19\", \"xref\": \"x\", \"y\": \"14\", \"yref\": \"y\"}, {\"font\": {\"color\": \"#000000\"}, \"showarrow\": false, \"text\": \"0.0\", \"x\": \"18\", \"xref\": \"x\", \"y\": \"14\", \"yref\": \"y\"}, {\"font\": {\"color\": \"#000000\"}, \"showarrow\": false, \"text\": \"0.0\", \"x\": \"17\", \"xref\": \"x\", \"y\": \"14\", \"yref\": \"y\"}, {\"font\": {\"color\": \"#000000\"}, \"showarrow\": false, \"text\": \"0.0\", \"x\": \"16\", \"xref\": \"x\", \"y\": \"14\", \"yref\": \"y\"}, {\"font\": {\"color\": \"#000000\"}, \"showarrow\": false, \"text\": \"0.0\", \"x\": \"15\", \"xref\": \"x\", \"y\": \"14\", \"yref\": \"y\"}, {\"font\": {\"color\": \"#000000\"}, \"showarrow\": false, \"text\": \"0.0\", \"x\": \"14\", \"xref\": \"x\", \"y\": \"14\", \"yref\": \"y\"}, {\"font\": {\"color\": \"#000000\"}, \"showarrow\": false, \"text\": \"0.0\", \"x\": \"13\", \"xref\": \"x\", \"y\": \"14\", \"yref\": \"y\"}, {\"font\": {\"color\": \"#000000\"}, \"showarrow\": false, \"text\": \"0.0\", \"x\": \"12\", \"xref\": \"x\", \"y\": \"14\", \"yref\": \"y\"}, {\"font\": {\"color\": \"#000000\"}, \"showarrow\": false, \"text\": \"0.0\", \"x\": \"11\", \"xref\": \"x\", \"y\": \"14\", \"yref\": \"y\"}, {\"font\": {\"color\": \"#000000\"}, \"showarrow\": false, \"text\": \"0.0\", \"x\": \"10\", \"xref\": \"x\", \"y\": \"14\", \"yref\": \"y\"}, {\"font\": {\"color\": \"#000000\"}, \"showarrow\": false, \"text\": \"0.0\", \"x\": \"9\", \"xref\": \"x\", \"y\": \"14\", \"yref\": \"y\"}, {\"font\": {\"color\": \"#000000\"}, \"showarrow\": false, \"text\": \"0.0\", \"x\": \"8\", \"xref\": \"x\", \"y\": \"14\", \"yref\": \"y\"}, {\"font\": {\"color\": \"#000000\"}, \"showarrow\": false, \"text\": \"0.0\", \"x\": \"7\", \"xref\": \"x\", \"y\": \"14\", \"yref\": \"y\"}, {\"font\": {\"color\": \"#000000\"}, \"showarrow\": false, \"text\": \"0.0\", \"x\": \"6\", \"xref\": \"x\", \"y\": \"14\", \"yref\": \"y\"}, {\"font\": {\"color\": \"#000000\"}, \"showarrow\": false, \"text\": \"0.0\", \"x\": \"5\", \"xref\": \"x\", \"y\": \"14\", \"yref\": \"y\"}, {\"font\": {\"color\": \"#000000\"}, \"showarrow\": false, \"text\": \"0.0\", \"x\": \"4\", \"xref\": \"x\", \"y\": \"14\", \"yref\": \"y\"}, {\"font\": {\"color\": \"#000000\"}, \"showarrow\": false, \"text\": \"0.0\", \"x\": \"3\", \"xref\": \"x\", \"y\": \"14\", \"yref\": \"y\"}, {\"font\": {\"color\": \"#000000\"}, \"showarrow\": false, \"text\": \"0.0\", \"x\": \"2\", \"xref\": \"x\", \"y\": \"14\", \"yref\": \"y\"}, {\"font\": {\"color\": \"#000000\"}, \"showarrow\": false, \"text\": \"0.0\", \"x\": \"1\", \"xref\": \"x\", \"y\": \"14\", \"yref\": \"y\"}, {\"font\": {\"color\": \"#000000\"}, \"showarrow\": false, \"text\": \"0.38\", \"x\": \"0\", \"xref\": \"x\", \"y\": \"14\", \"yref\": \"y\"}, {\"font\": {\"color\": \"#FFFFFF\"}, \"showarrow\": false, \"text\": \"0.66\", \"x\": \"20\", \"xref\": \"x\", \"y\": \"15\", \"yref\": \"y\"}, {\"font\": {\"color\": \"#000000\"}, \"showarrow\": false, \"text\": \"0.0\", \"x\": \"19\", \"xref\": \"x\", \"y\": \"15\", \"yref\": \"y\"}, {\"font\": {\"color\": \"#000000\"}, \"showarrow\": false, \"text\": \"0.0\", \"x\": \"18\", \"xref\": \"x\", \"y\": \"15\", \"yref\": \"y\"}, {\"font\": {\"color\": \"#000000\"}, \"showarrow\": false, \"text\": \"0.0\", \"x\": \"17\", \"xref\": \"x\", \"y\": \"15\", \"yref\": \"y\"}, {\"font\": {\"color\": \"#000000\"}, \"showarrow\": false, \"text\": \"0.0\", \"x\": \"16\", \"xref\": \"x\", \"y\": \"15\", \"yref\": \"y\"}, {\"font\": {\"color\": \"#000000\"}, \"showarrow\": false, \"text\": \"0.0\", \"x\": \"15\", \"xref\": \"x\", \"y\": \"15\", \"yref\": \"y\"}, {\"font\": {\"color\": \"#000000\"}, \"showarrow\": false, \"text\": \"0.0\", \"x\": \"14\", \"xref\": \"x\", \"y\": \"15\", \"yref\": \"y\"}, {\"font\": {\"color\": \"#000000\"}, \"showarrow\": false, \"text\": \"0.0\", \"x\": \"13\", \"xref\": \"x\", \"y\": \"15\", \"yref\": \"y\"}, {\"font\": {\"color\": \"#000000\"}, \"showarrow\": false, \"text\": \"0.0\", \"x\": \"12\", \"xref\": \"x\", \"y\": \"15\", \"yref\": \"y\"}, {\"font\": {\"color\": \"#000000\"}, \"showarrow\": false, \"text\": \"0.0\", \"x\": \"11\", \"xref\": \"x\", \"y\": \"15\", \"yref\": \"y\"}, {\"font\": {\"color\": \"#000000\"}, \"showarrow\": false, \"text\": \"0.0\", \"x\": \"10\", \"xref\": \"x\", \"y\": \"15\", \"yref\": \"y\"}, {\"font\": {\"color\": \"#000000\"}, \"showarrow\": false, \"text\": \"0.0\", \"x\": \"9\", \"xref\": \"x\", \"y\": \"15\", \"yref\": \"y\"}, {\"font\": {\"color\": \"#000000\"}, \"showarrow\": false, \"text\": \"0.0\", \"x\": \"8\", \"xref\": \"x\", \"y\": \"15\", \"yref\": \"y\"}, {\"font\": {\"color\": \"#000000\"}, \"showarrow\": false, \"text\": \"0.0\", \"x\": \"7\", \"xref\": \"x\", \"y\": \"15\", \"yref\": \"y\"}, {\"font\": {\"color\": \"#000000\"}, \"showarrow\": false, \"text\": \"0.0\", \"x\": \"6\", \"xref\": \"x\", \"y\": \"15\", \"yref\": \"y\"}, {\"font\": {\"color\": \"#000000\"}, \"showarrow\": false, \"text\": \"0.0\", \"x\": \"5\", \"xref\": \"x\", \"y\": \"15\", \"yref\": \"y\"}, {\"font\": {\"color\": \"#000000\"}, \"showarrow\": false, \"text\": \"0.0\", \"x\": \"4\", \"xref\": \"x\", \"y\": \"15\", \"yref\": \"y\"}, {\"font\": {\"color\": \"#000000\"}, \"showarrow\": false, \"text\": \"0.0\", \"x\": \"3\", \"xref\": \"x\", \"y\": \"15\", \"yref\": \"y\"}, {\"font\": {\"color\": \"#000000\"}, \"showarrow\": false, \"text\": \"0.0\", \"x\": \"2\", \"xref\": \"x\", \"y\": \"15\", \"yref\": \"y\"}, {\"font\": {\"color\": \"#000000\"}, \"showarrow\": false, \"text\": \"0.0\", \"x\": \"1\", \"xref\": \"x\", \"y\": \"15\", \"yref\": \"y\"}, {\"font\": {\"color\": \"#000000\"}, \"showarrow\": false, \"text\": \"0.34\", \"x\": \"0\", \"xref\": \"x\", \"y\": \"15\", \"yref\": \"y\"}, {\"font\": {\"color\": \"#FFFFFF\"}, \"showarrow\": false, \"text\": \"0.69\", \"x\": \"20\", \"xref\": \"x\", \"y\": \"16\", \"yref\": \"y\"}, {\"font\": {\"color\": \"#000000\"}, \"showarrow\": false, \"text\": \"0.0\", \"x\": \"19\", \"xref\": \"x\", \"y\": \"16\", \"yref\": \"y\"}, {\"font\": {\"color\": \"#000000\"}, \"showarrow\": false, \"text\": \"0.0\", \"x\": \"18\", \"xref\": \"x\", \"y\": \"16\", \"yref\": \"y\"}, {\"font\": {\"color\": \"#000000\"}, \"showarrow\": false, \"text\": \"0.0\", \"x\": \"17\", \"xref\": \"x\", \"y\": \"16\", \"yref\": \"y\"}, {\"font\": {\"color\": \"#000000\"}, \"showarrow\": false, \"text\": \"0.0\", \"x\": \"16\", \"xref\": \"x\", \"y\": \"16\", \"yref\": \"y\"}, {\"font\": {\"color\": \"#000000\"}, \"showarrow\": false, \"text\": \"0.0\", \"x\": \"15\", \"xref\": \"x\", \"y\": \"16\", \"yref\": \"y\"}, {\"font\": {\"color\": \"#000000\"}, \"showarrow\": false, \"text\": \"0.0\", \"x\": \"14\", \"xref\": \"x\", \"y\": \"16\", \"yref\": \"y\"}, {\"font\": {\"color\": \"#000000\"}, \"showarrow\": false, \"text\": \"0.0\", \"x\": \"13\", \"xref\": \"x\", \"y\": \"16\", \"yref\": \"y\"}, {\"font\": {\"color\": \"#000000\"}, \"showarrow\": false, \"text\": \"0.0\", \"x\": \"12\", \"xref\": \"x\", \"y\": \"16\", \"yref\": \"y\"}, {\"font\": {\"color\": \"#000000\"}, \"showarrow\": false, \"text\": \"0.0\", \"x\": \"11\", \"xref\": \"x\", \"y\": \"16\", \"yref\": \"y\"}, {\"font\": {\"color\": \"#000000\"}, \"showarrow\": false, \"text\": \"0.0\", \"x\": \"10\", \"xref\": \"x\", \"y\": \"16\", \"yref\": \"y\"}, {\"font\": {\"color\": \"#000000\"}, \"showarrow\": false, \"text\": \"0.0\", \"x\": \"9\", \"xref\": \"x\", \"y\": \"16\", \"yref\": \"y\"}, {\"font\": {\"color\": \"#000000\"}, \"showarrow\": false, \"text\": \"0.0\", \"x\": \"8\", \"xref\": \"x\", \"y\": \"16\", \"yref\": \"y\"}, {\"font\": {\"color\": \"#000000\"}, \"showarrow\": false, \"text\": \"0.0\", \"x\": \"7\", \"xref\": \"x\", \"y\": \"16\", \"yref\": \"y\"}, {\"font\": {\"color\": \"#000000\"}, \"showarrow\": false, \"text\": \"0.0\", \"x\": \"6\", \"xref\": \"x\", \"y\": \"16\", \"yref\": \"y\"}, {\"font\": {\"color\": \"#000000\"}, \"showarrow\": false, \"text\": \"0.0\", \"x\": \"5\", \"xref\": \"x\", \"y\": \"16\", \"yref\": \"y\"}, {\"font\": {\"color\": \"#000000\"}, \"showarrow\": false, \"text\": \"0.0\", \"x\": \"4\", \"xref\": \"x\", \"y\": \"16\", \"yref\": \"y\"}, {\"font\": {\"color\": \"#000000\"}, \"showarrow\": false, \"text\": \"0.0\", \"x\": \"3\", \"xref\": \"x\", \"y\": \"16\", \"yref\": \"y\"}, {\"font\": {\"color\": \"#000000\"}, \"showarrow\": false, \"text\": \"0.0\", \"x\": \"2\", \"xref\": \"x\", \"y\": \"16\", \"yref\": \"y\"}, {\"font\": {\"color\": \"#000000\"}, \"showarrow\": false, \"text\": \"0.0\", \"x\": \"1\", \"xref\": \"x\", \"y\": \"16\", \"yref\": \"y\"}, {\"font\": {\"color\": \"#000000\"}, \"showarrow\": false, \"text\": \"0.31\", \"x\": \"0\", \"xref\": \"x\", \"y\": \"16\", \"yref\": \"y\"}, {\"font\": {\"color\": \"#FFFFFF\"}, \"showarrow\": false, \"text\": \"0.85\", \"x\": \"20\", \"xref\": \"x\", \"y\": \"17\", \"yref\": \"y\"}, {\"font\": {\"color\": \"#000000\"}, \"showarrow\": false, \"text\": \"0.0\", \"x\": \"19\", \"xref\": \"x\", \"y\": \"17\", \"yref\": \"y\"}, {\"font\": {\"color\": \"#000000\"}, \"showarrow\": false, \"text\": \"0.0\", \"x\": \"18\", \"xref\": \"x\", \"y\": \"17\", \"yref\": \"y\"}, {\"font\": {\"color\": \"#000000\"}, \"showarrow\": false, \"text\": \"0.0\", \"x\": \"17\", \"xref\": \"x\", \"y\": \"17\", \"yref\": \"y\"}, {\"font\": {\"color\": \"#000000\"}, \"showarrow\": false, \"text\": \"0.0\", \"x\": \"16\", \"xref\": \"x\", \"y\": \"17\", \"yref\": \"y\"}, {\"font\": {\"color\": \"#000000\"}, \"showarrow\": false, \"text\": \"0.0\", \"x\": \"15\", \"xref\": \"x\", \"y\": \"17\", \"yref\": \"y\"}, {\"font\": {\"color\": \"#000000\"}, \"showarrow\": false, \"text\": \"0.0\", \"x\": \"14\", \"xref\": \"x\", \"y\": \"17\", \"yref\": \"y\"}, {\"font\": {\"color\": \"#000000\"}, \"showarrow\": false, \"text\": \"0.0\", \"x\": \"13\", \"xref\": \"x\", \"y\": \"17\", \"yref\": \"y\"}, {\"font\": {\"color\": \"#000000\"}, \"showarrow\": false, \"text\": \"0.0\", \"x\": \"12\", \"xref\": \"x\", \"y\": \"17\", \"yref\": \"y\"}, {\"font\": {\"color\": \"#000000\"}, \"showarrow\": false, \"text\": \"0.0\", \"x\": \"11\", \"xref\": \"x\", \"y\": \"17\", \"yref\": \"y\"}, {\"font\": {\"color\": \"#000000\"}, \"showarrow\": false, \"text\": \"0.0\", \"x\": \"10\", \"xref\": \"x\", \"y\": \"17\", \"yref\": \"y\"}, {\"font\": {\"color\": \"#000000\"}, \"showarrow\": false, \"text\": \"0.0\", \"x\": \"9\", \"xref\": \"x\", \"y\": \"17\", \"yref\": \"y\"}, {\"font\": {\"color\": \"#000000\"}, \"showarrow\": false, \"text\": \"0.0\", \"x\": \"8\", \"xref\": \"x\", \"y\": \"17\", \"yref\": \"y\"}, {\"font\": {\"color\": \"#000000\"}, \"showarrow\": false, \"text\": \"0.0\", \"x\": \"7\", \"xref\": \"x\", \"y\": \"17\", \"yref\": \"y\"}, {\"font\": {\"color\": \"#000000\"}, \"showarrow\": false, \"text\": \"0.0\", \"x\": \"6\", \"xref\": \"x\", \"y\": \"17\", \"yref\": \"y\"}, {\"font\": {\"color\": \"#000000\"}, \"showarrow\": false, \"text\": \"0.0\", \"x\": \"5\", \"xref\": \"x\", \"y\": \"17\", \"yref\": \"y\"}, {\"font\": {\"color\": \"#000000\"}, \"showarrow\": false, \"text\": \"0.0\", \"x\": \"4\", \"xref\": \"x\", \"y\": \"17\", \"yref\": \"y\"}, {\"font\": {\"color\": \"#000000\"}, \"showarrow\": false, \"text\": \"0.0\", \"x\": \"3\", \"xref\": \"x\", \"y\": \"17\", \"yref\": \"y\"}, {\"font\": {\"color\": \"#000000\"}, \"showarrow\": false, \"text\": \"0.0\", \"x\": \"2\", \"xref\": \"x\", \"y\": \"17\", \"yref\": \"y\"}, {\"font\": {\"color\": \"#000000\"}, \"showarrow\": false, \"text\": \"0.0\", \"x\": \"1\", \"xref\": \"x\", \"y\": \"17\", \"yref\": \"y\"}, {\"font\": {\"color\": \"#000000\"}, \"showarrow\": false, \"text\": \"0.15\", \"x\": \"0\", \"xref\": \"x\", \"y\": \"17\", \"yref\": \"y\"}, {\"font\": {\"color\": \"#FFFFFF\"}, \"showarrow\": false, \"text\": \"0.89\", \"x\": \"20\", \"xref\": \"x\", \"y\": \"18\", \"yref\": \"y\"}, {\"font\": {\"color\": \"#000000\"}, \"showarrow\": false, \"text\": \"0.0\", \"x\": \"19\", \"xref\": \"x\", \"y\": \"18\", \"yref\": \"y\"}, {\"font\": {\"color\": \"#000000\"}, \"showarrow\": false, \"text\": \"0.0\", \"x\": \"18\", \"xref\": \"x\", \"y\": \"18\", \"yref\": \"y\"}, {\"font\": {\"color\": \"#000000\"}, \"showarrow\": false, \"text\": \"0.0\", \"x\": \"17\", \"xref\": \"x\", \"y\": \"18\", \"yref\": \"y\"}, {\"font\": {\"color\": \"#000000\"}, \"showarrow\": false, \"text\": \"0.0\", \"x\": \"16\", \"xref\": \"x\", \"y\": \"18\", \"yref\": \"y\"}, {\"font\": {\"color\": \"#000000\"}, \"showarrow\": false, \"text\": \"0.0\", \"x\": \"15\", \"xref\": \"x\", \"y\": \"18\", \"yref\": \"y\"}, {\"font\": {\"color\": \"#000000\"}, \"showarrow\": false, \"text\": \"0.0\", \"x\": \"14\", \"xref\": \"x\", \"y\": \"18\", \"yref\": \"y\"}, {\"font\": {\"color\": \"#000000\"}, \"showarrow\": false, \"text\": \"0.0\", \"x\": \"13\", \"xref\": \"x\", \"y\": \"18\", \"yref\": \"y\"}, {\"font\": {\"color\": \"#000000\"}, \"showarrow\": false, \"text\": \"0.0\", \"x\": \"12\", \"xref\": \"x\", \"y\": \"18\", \"yref\": \"y\"}, {\"font\": {\"color\": \"#000000\"}, \"showarrow\": false, \"text\": \"0.0\", \"x\": \"11\", \"xref\": \"x\", \"y\": \"18\", \"yref\": \"y\"}, {\"font\": {\"color\": \"#000000\"}, \"showarrow\": false, \"text\": \"0.0\", \"x\": \"10\", \"xref\": \"x\", \"y\": \"18\", \"yref\": \"y\"}, {\"font\": {\"color\": \"#000000\"}, \"showarrow\": false, \"text\": \"0.0\", \"x\": \"9\", \"xref\": \"x\", \"y\": \"18\", \"yref\": \"y\"}, {\"font\": {\"color\": \"#000000\"}, \"showarrow\": false, \"text\": \"0.0\", \"x\": \"8\", \"xref\": \"x\", \"y\": \"18\", \"yref\": \"y\"}, {\"font\": {\"color\": \"#000000\"}, \"showarrow\": false, \"text\": \"0.0\", \"x\": \"7\", \"xref\": \"x\", \"y\": \"18\", \"yref\": \"y\"}, {\"font\": {\"color\": \"#000000\"}, \"showarrow\": false, \"text\": \"0.0\", \"x\": \"6\", \"xref\": \"x\", \"y\": \"18\", \"yref\": \"y\"}, {\"font\": {\"color\": \"#000000\"}, \"showarrow\": false, \"text\": \"0.0\", \"x\": \"5\", \"xref\": \"x\", \"y\": \"18\", \"yref\": \"y\"}, {\"font\": {\"color\": \"#000000\"}, \"showarrow\": false, \"text\": \"0.0\", \"x\": \"4\", \"xref\": \"x\", \"y\": \"18\", \"yref\": \"y\"}, {\"font\": {\"color\": \"#000000\"}, \"showarrow\": false, \"text\": \"0.0\", \"x\": \"3\", \"xref\": \"x\", \"y\": \"18\", \"yref\": \"y\"}, {\"font\": {\"color\": \"#000000\"}, \"showarrow\": false, \"text\": \"0.0\", \"x\": \"2\", \"xref\": \"x\", \"y\": \"18\", \"yref\": \"y\"}, {\"font\": {\"color\": \"#000000\"}, \"showarrow\": false, \"text\": \"0.0\", \"x\": \"1\", \"xref\": \"x\", \"y\": \"18\", \"yref\": \"y\"}, {\"font\": {\"color\": \"#000000\"}, \"showarrow\": false, \"text\": \"0.11\", \"x\": \"0\", \"xref\": \"x\", \"y\": \"18\", \"yref\": \"y\"}, {\"font\": {\"color\": \"#FFFFFF\"}, \"showarrow\": false, \"text\": \"0.94\", \"x\": \"20\", \"xref\": \"x\", \"y\": \"19\", \"yref\": \"y\"}, {\"font\": {\"color\": \"#000000\"}, \"showarrow\": false, \"text\": \"0.0\", \"x\": \"19\", \"xref\": \"x\", \"y\": \"19\", \"yref\": \"y\"}, {\"font\": {\"color\": \"#000000\"}, \"showarrow\": false, \"text\": \"0.0\", \"x\": \"18\", \"xref\": \"x\", \"y\": \"19\", \"yref\": \"y\"}, {\"font\": {\"color\": \"#000000\"}, \"showarrow\": false, \"text\": \"0.0\", \"x\": \"17\", \"xref\": \"x\", \"y\": \"19\", \"yref\": \"y\"}, {\"font\": {\"color\": \"#000000\"}, \"showarrow\": false, \"text\": \"0.0\", \"x\": \"16\", \"xref\": \"x\", \"y\": \"19\", \"yref\": \"y\"}, {\"font\": {\"color\": \"#000000\"}, \"showarrow\": false, \"text\": \"0.0\", \"x\": \"15\", \"xref\": \"x\", \"y\": \"19\", \"yref\": \"y\"}, {\"font\": {\"color\": \"#000000\"}, \"showarrow\": false, \"text\": \"0.0\", \"x\": \"14\", \"xref\": \"x\", \"y\": \"19\", \"yref\": \"y\"}, {\"font\": {\"color\": \"#000000\"}, \"showarrow\": false, \"text\": \"0.0\", \"x\": \"13\", \"xref\": \"x\", \"y\": \"19\", \"yref\": \"y\"}, {\"font\": {\"color\": \"#000000\"}, \"showarrow\": false, \"text\": \"0.0\", \"x\": \"12\", \"xref\": \"x\", \"y\": \"19\", \"yref\": \"y\"}, {\"font\": {\"color\": \"#000000\"}, \"showarrow\": false, \"text\": \"0.0\", \"x\": \"11\", \"xref\": \"x\", \"y\": \"19\", \"yref\": \"y\"}, {\"font\": {\"color\": \"#000000\"}, \"showarrow\": false, \"text\": \"0.0\", \"x\": \"10\", \"xref\": \"x\", \"y\": \"19\", \"yref\": \"y\"}, {\"font\": {\"color\": \"#000000\"}, \"showarrow\": false, \"text\": \"0.0\", \"x\": \"9\", \"xref\": \"x\", \"y\": \"19\", \"yref\": \"y\"}, {\"font\": {\"color\": \"#000000\"}, \"showarrow\": false, \"text\": \"0.0\", \"x\": \"8\", \"xref\": \"x\", \"y\": \"19\", \"yref\": \"y\"}, {\"font\": {\"color\": \"#000000\"}, \"showarrow\": false, \"text\": \"0.0\", \"x\": \"7\", \"xref\": \"x\", \"y\": \"19\", \"yref\": \"y\"}, {\"font\": {\"color\": \"#000000\"}, \"showarrow\": false, \"text\": \"0.0\", \"x\": \"6\", \"xref\": \"x\", \"y\": \"19\", \"yref\": \"y\"}, {\"font\": {\"color\": \"#000000\"}, \"showarrow\": false, \"text\": \"0.0\", \"x\": \"5\", \"xref\": \"x\", \"y\": \"19\", \"yref\": \"y\"}, {\"font\": {\"color\": \"#000000\"}, \"showarrow\": false, \"text\": \"0.0\", \"x\": \"4\", \"xref\": \"x\", \"y\": \"19\", \"yref\": \"y\"}, {\"font\": {\"color\": \"#000000\"}, \"showarrow\": false, \"text\": \"0.0\", \"x\": \"3\", \"xref\": \"x\", \"y\": \"19\", \"yref\": \"y\"}, {\"font\": {\"color\": \"#000000\"}, \"showarrow\": false, \"text\": \"0.0\", \"x\": \"2\", \"xref\": \"x\", \"y\": \"19\", \"yref\": \"y\"}, {\"font\": {\"color\": \"#000000\"}, \"showarrow\": false, \"text\": \"0.0\", \"x\": \"1\", \"xref\": \"x\", \"y\": \"19\", \"yref\": \"y\"}, {\"font\": {\"color\": \"#000000\"}, \"showarrow\": false, \"text\": \"0.06\", \"x\": \"0\", \"xref\": \"x\", \"y\": \"19\", \"yref\": \"y\"}, {\"font\": {\"color\": \"#FFFFFF\"}, \"showarrow\": false, \"text\": \"0.98\", \"x\": \"20\", \"xref\": \"x\", \"y\": \"20\", \"yref\": \"y\"}, {\"font\": {\"color\": \"#000000\"}, \"showarrow\": false, \"text\": \"0.0\", \"x\": \"19\", \"xref\": \"x\", \"y\": \"20\", \"yref\": \"y\"}, {\"font\": {\"color\": \"#000000\"}, \"showarrow\": false, \"text\": \"0.0\", \"x\": \"18\", \"xref\": \"x\", \"y\": \"20\", \"yref\": \"y\"}, {\"font\": {\"color\": \"#000000\"}, \"showarrow\": false, \"text\": \"0.0\", \"x\": \"17\", \"xref\": \"x\", \"y\": \"20\", \"yref\": \"y\"}, {\"font\": {\"color\": \"#000000\"}, \"showarrow\": false, \"text\": \"0.0\", \"x\": \"16\", \"xref\": \"x\", \"y\": \"20\", \"yref\": \"y\"}, {\"font\": {\"color\": \"#000000\"}, \"showarrow\": false, \"text\": \"0.0\", \"x\": \"15\", \"xref\": \"x\", \"y\": \"20\", \"yref\": \"y\"}, {\"font\": {\"color\": \"#000000\"}, \"showarrow\": false, \"text\": \"0.0\", \"x\": \"14\", \"xref\": \"x\", \"y\": \"20\", \"yref\": \"y\"}, {\"font\": {\"color\": \"#000000\"}, \"showarrow\": false, \"text\": \"0.0\", \"x\": \"13\", \"xref\": \"x\", \"y\": \"20\", \"yref\": \"y\"}, {\"font\": {\"color\": \"#000000\"}, \"showarrow\": false, \"text\": \"0.0\", \"x\": \"12\", \"xref\": \"x\", \"y\": \"20\", \"yref\": \"y\"}, {\"font\": {\"color\": \"#000000\"}, \"showarrow\": false, \"text\": \"0.0\", \"x\": \"11\", \"xref\": \"x\", \"y\": \"20\", \"yref\": \"y\"}, {\"font\": {\"color\": \"#000000\"}, \"showarrow\": false, \"text\": \"0.0\", \"x\": \"10\", \"xref\": \"x\", \"y\": \"20\", \"yref\": \"y\"}, {\"font\": {\"color\": \"#000000\"}, \"showarrow\": false, \"text\": \"0.0\", \"x\": \"9\", \"xref\": \"x\", \"y\": \"20\", \"yref\": \"y\"}, {\"font\": {\"color\": \"#000000\"}, \"showarrow\": false, \"text\": \"0.0\", \"x\": \"8\", \"xref\": \"x\", \"y\": \"20\", \"yref\": \"y\"}, {\"font\": {\"color\": \"#000000\"}, \"showarrow\": false, \"text\": \"0.0\", \"x\": \"7\", \"xref\": \"x\", \"y\": \"20\", \"yref\": \"y\"}, {\"font\": {\"color\": \"#000000\"}, \"showarrow\": false, \"text\": \"0.0\", \"x\": \"6\", \"xref\": \"x\", \"y\": \"20\", \"yref\": \"y\"}, {\"font\": {\"color\": \"#000000\"}, \"showarrow\": false, \"text\": \"0.0\", \"x\": \"5\", \"xref\": \"x\", \"y\": \"20\", \"yref\": \"y\"}, {\"font\": {\"color\": \"#000000\"}, \"showarrow\": false, \"text\": \"0.0\", \"x\": \"4\", \"xref\": \"x\", \"y\": \"20\", \"yref\": \"y\"}, {\"font\": {\"color\": \"#000000\"}, \"showarrow\": false, \"text\": \"0.0\", \"x\": \"3\", \"xref\": \"x\", \"y\": \"20\", \"yref\": \"y\"}, {\"font\": {\"color\": \"#000000\"}, \"showarrow\": false, \"text\": \"0.0\", \"x\": \"2\", \"xref\": \"x\", \"y\": \"20\", \"yref\": \"y\"}, {\"font\": {\"color\": \"#000000\"}, \"showarrow\": false, \"text\": \"0.0\", \"x\": \"1\", \"xref\": \"x\", \"y\": \"20\", \"yref\": \"y\"}, {\"font\": {\"color\": \"#000000\"}, \"showarrow\": false, \"text\": \"0.02\", \"x\": \"0\", \"xref\": \"x\", \"y\": \"20\", \"yref\": \"y\"}], \"height\": 1600, \"template\": {\"data\": {\"scatter\": [{\"type\": \"scatter\"}]}}, \"title\": {\"text\": \"\", \"x\": 0.47, \"xanchor\": \"center\", \"y\": 0.95, \"yanchor\": \"top\"}, \"width\": 1600, \"xaxis\": {\"dtick\": 1, \"gridcolor\": \"rgb(0, 0, 0)\", \"showgrid\": false, \"side\": \"bottom\", \"ticks\": \"\", \"title\": {\"text\": \"Predicted Labels\"}}, \"yaxis\": {\"dtick\": 1, \"showgrid\": false, \"ticks\": \"\", \"ticksuffix\": \"  \", \"title\": {\"text\": \"True Labels\"}}},\n",
       "                        {\"responsive\": true}\n",
       "                    ).then(function(){\n",
       "                            \n",
       "var gd = document.getElementById('1cb5f8fe-27c9-4740-99f4-859f3ac376c1');\n",
       "var x = new MutationObserver(function (mutations, observer) {{\n",
       "        var display = window.getComputedStyle(gd).display;\n",
       "        if (!display || display === 'none') {{\n",
       "            console.log([gd, 'removed!']);\n",
       "            Plotly.purge(gd);\n",
       "            observer.disconnect();\n",
       "        }}\n",
       "}});\n",
       "\n",
       "// Listen for the removal of the full notebook cells\n",
       "var notebookContainer = gd.closest('#notebook-container');\n",
       "if (notebookContainer) {{\n",
       "    x.observe(notebookContainer, {childList: true});\n",
       "}}\n",
       "\n",
       "// Listen for the clearing of the current output cell\n",
       "var outputEl = gd.closest('.output');\n",
       "if (outputEl) {{\n",
       "    x.observe(outputEl, {childList: true});\n",
       "}}\n",
       "\n",
       "                        })\n",
       "                };\n",
       "                });\n",
       "            </script>\n",
       "        </div>"
      ]
     },
     "metadata": {},
     "output_type": "display_data"
    }
   ],
   "source": [
    "fig = ff.create_annotated_heatmap(z, x = x, y = y, annotation_text = z, colorscale = 'deep')\n",
    "fig.update_layout(width = 1600, height = 1600, xaxis_showgrid = False, yaxis_showgrid = False, template = 'none')\n",
    "fig.update_layout(title = {'text': \"\",\n",
    "                           'y':0.95,\n",
    "                           'x':0.47,\n",
    "                           'xanchor': 'center',\n",
    "                           'yanchor': 'top'}, \n",
    "                  xaxis_title = 'Predicted Labels',\n",
    "                  yaxis_title = 'True Labels')\n",
    "fig['layout']['xaxis']['side'] = 'bottom'\n",
    "\n",
    "fig.show()"
   ]
  },
  {
   "cell_type": "code",
   "execution_count": 308,
   "metadata": {},
   "outputs": [],
   "source": [
    "test_sum = 0\n",
    "for i in range(len(y_test)):\n",
    "    test_sum += (y_test[i] * 15)"
   ]
  },
  {
   "cell_type": "code",
   "execution_count": 309,
   "metadata": {},
   "outputs": [
    {
     "data": {
      "text/plain": [
       "663540"
      ]
     },
     "execution_count": 309,
     "metadata": {},
     "output_type": "execute_result"
    }
   ],
   "source": [
    "test_sum"
   ]
  },
  {
   "cell_type": "code",
   "execution_count": 310,
   "metadata": {},
   "outputs": [],
   "source": [
    "predicted_sum = 0\n",
    "for i in range(len(y_predicted)):\n",
    "    predicted_sum += (y_predicted[i] * 15)"
   ]
  },
  {
   "cell_type": "code",
   "execution_count": 311,
   "metadata": {},
   "outputs": [
    {
     "data": {
      "text/plain": [
       "558300"
      ]
     },
     "execution_count": 311,
     "metadata": {},
     "output_type": "execute_result"
    }
   ],
   "source": [
    "predicted_sum"
   ]
  },
  {
   "cell_type": "code",
   "execution_count": 312,
   "metadata": {},
   "outputs": [
    {
     "name": "stdout",
     "output_type": "stream",
     "text": [
      "Error Percentage in predicted values is : 15.860385206619043 %\n"
     ]
    }
   ],
   "source": [
    "print(\"Error Percentage in predicted values is : {} %\".format(np.absolute((predicted_sum - test_sum)/test_sum)*100))"
   ]
  },
  {
   "cell_type": "code",
   "execution_count": 313,
   "metadata": {},
   "outputs": [
    {
     "data": {
      "text/plain": [
       "0.587515038163736"
      ]
     },
     "execution_count": 313,
     "metadata": {},
     "output_type": "execute_result"
    }
   ],
   "source": [
    "f1_score(y_test, y_predicted, average = 'weighted')"
   ]
  },
  {
   "cell_type": "code",
   "execution_count": 314,
   "metadata": {},
   "outputs": [
    {
     "data": {
      "text/plain": [
       "3.269878706199461"
      ]
     },
     "execution_count": 314,
     "metadata": {},
     "output_type": "execute_result"
    }
   ],
   "source": [
    "mean_absolute_error(y_test, y_predicted)"
   ]
  },
  {
   "cell_type": "code",
   "execution_count": 315,
   "metadata": {},
   "outputs": [
    {
     "data": {
      "text/plain": [
       "0.6903638814016172"
      ]
     },
     "execution_count": 315,
     "metadata": {},
     "output_type": "execute_result"
    }
   ],
   "source": [
    "accuracy_score(y_test, y_predicted)"
   ]
  },
  {
   "cell_type": "code",
   "execution_count": 320,
   "metadata": {},
   "outputs": [
    {
     "data": {
      "text/plain": [
       "array([ 0,  0,  0, ..., 20,  0,  0], dtype=int64)"
      ]
     },
     "execution_count": 320,
     "metadata": {},
     "output_type": "execute_result"
    }
   ],
   "source": [
    "y_train_predicted = classifier.predict(X_train)\n",
    "y_train_predicted = np.argmax(y_train_predicted, axis = 1)\n",
    "y_train = np.argmax(y_train, axis = 1)\n",
    "y_train_predicted"
   ]
  },
  {
   "cell_type": "code",
   "execution_count": 321,
   "metadata": {},
   "outputs": [
    {
     "data": {
      "text/plain": [
       "0.6067706788544966"
      ]
     },
     "execution_count": 321,
     "metadata": {},
     "output_type": "execute_result"
    }
   ],
   "source": [
    "f1_score(y_train, y_train_predicted, average = 'weighted')"
   ]
  },
  {
   "cell_type": "code",
   "execution_count": 322,
   "metadata": {},
   "outputs": [
    {
     "data": {
      "text/plain": [
       "0.7070345408593092"
      ]
     },
     "execution_count": 322,
     "metadata": {},
     "output_type": "execute_result"
    }
   ],
   "source": [
    "accuracy_score(y_train, y_train_predicted)"
   ]
  },
  {
   "cell_type": "code",
   "execution_count": 323,
   "metadata": {},
   "outputs": [
    {
     "data": {
      "text/plain": [
       "3.0149536647009265"
      ]
     },
     "execution_count": 323,
     "metadata": {},
     "output_type": "execute_result"
    }
   ],
   "source": [
    "mean_absolute_error(y_train, y_train_predicted)"
   ]
  },
  {
   "cell_type": "code",
   "execution_count": null,
   "metadata": {},
   "outputs": [],
   "source": []
  }
 ],
 "metadata": {
  "kernelspec": {
   "display_name": "Python 3",
   "language": "python",
   "name": "python3"
  },
  "language_info": {
   "codemirror_mode": {
    "name": "ipython",
    "version": 3
   },
   "file_extension": ".py",
   "mimetype": "text/x-python",
   "name": "python",
   "nbconvert_exporter": "python",
   "pygments_lexer": "ipython3",
   "version": "3.8.3"
  }
 },
 "nbformat": 4,
 "nbformat_minor": 4
}
