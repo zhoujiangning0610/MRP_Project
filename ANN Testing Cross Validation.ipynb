{
 "cells": [
  {
   "cell_type": "code",
   "execution_count": 443,
   "metadata": {},
   "outputs": [],
   "source": [
    "import numpy as np\n",
    "import pandas as pd\n",
    "import matplotlib.pyplot as plt\n",
    "import seaborn as sns\n",
    "from sklearn import preprocessing\n",
    "from sklearn.preprocessing import StandardScaler\n",
    "from sklearn.model_selection import train_test_split\n",
    "from sklearn.metrics import accuracy_score,confusion_matrix\n",
    "import tensorflow as tf\n",
    "from tensorflow.python.keras.layers import Dense, Dropout, LSTM\n",
    "from tensorflow.python.keras import Sequential\n",
    "from tensorflow.keras.utils import to_categorical\n",
    "from sklearn.preprocessing import OrdinalEncoder\n",
    "from sklearn.utils import class_weight\n",
    "from imblearn.over_sampling import SMOTE\n",
    "from imblearn.under_sampling import RandomUnderSampler"
   ]
  },
  {
   "cell_type": "code",
   "execution_count": 444,
   "metadata": {},
   "outputs": [
    {
     "data": {
      "text/html": [
       "<div>\n",
       "<style scoped>\n",
       "    .dataframe tbody tr th:only-of-type {\n",
       "        vertical-align: middle;\n",
       "    }\n",
       "\n",
       "    .dataframe tbody tr th {\n",
       "        vertical-align: top;\n",
       "    }\n",
       "\n",
       "    .dataframe thead th {\n",
       "        text-align: right;\n",
       "    }\n",
       "</style>\n",
       "<table border=\"1\" class=\"dataframe\">\n",
       "  <thead>\n",
       "    <tr style=\"text-align: right;\">\n",
       "      <th></th>\n",
       "      <th>Date</th>\n",
       "      <th>Time</th>\n",
       "      <th>DateTime</th>\n",
       "      <th>System Setting</th>\n",
       "      <th>System Mode</th>\n",
       "      <th>Calendar Event</th>\n",
       "      <th>Program Mode</th>\n",
       "      <th>Cool Set Temp (C)</th>\n",
       "      <th>Heat Set Temp (C)</th>\n",
       "      <th>Current Temp (C)</th>\n",
       "      <th>...</th>\n",
       "      <th>Thermostat Humidity (%RH)</th>\n",
       "      <th>Thermostat Motion</th>\n",
       "      <th>Bedroom (C)</th>\n",
       "      <th>Bedroom2</th>\n",
       "      <th>3rd floor landing (C)</th>\n",
       "      <th>3rd floor landing2</th>\n",
       "      <th>3rd floor room (C)</th>\n",
       "      <th>3rd floor room2</th>\n",
       "      <th>Basement (C)</th>\n",
       "      <th>Basement2</th>\n",
       "    </tr>\n",
       "  </thead>\n",
       "  <tbody>\n",
       "    <tr>\n",
       "      <th>0</th>\n",
       "      <td>2020-12-10</td>\n",
       "      <td>12:50:00</td>\n",
       "      <td>2020/12/10 12:50:00</td>\n",
       "      <td>heat</td>\n",
       "      <td>heatOff</td>\n",
       "      <td>auto</td>\n",
       "      <td>Home</td>\n",
       "      <td>21.0</td>\n",
       "      <td>21.0</td>\n",
       "      <td>21.3</td>\n",
       "      <td>...</td>\n",
       "      <td>30.0</td>\n",
       "      <td>1.0</td>\n",
       "      <td>21.6</td>\n",
       "      <td>0.0</td>\n",
       "      <td>20.9</td>\n",
       "      <td>0.0</td>\n",
       "      <td>21.0</td>\n",
       "      <td>0.0</td>\n",
       "      <td>22.8</td>\n",
       "      <td>0.0</td>\n",
       "    </tr>\n",
       "    <tr>\n",
       "      <th>1</th>\n",
       "      <td>2020-12-10</td>\n",
       "      <td>12:55:00</td>\n",
       "      <td>2020/12/10 12:55:00</td>\n",
       "      <td>heat</td>\n",
       "      <td>heatOff</td>\n",
       "      <td>auto</td>\n",
       "      <td>Home</td>\n",
       "      <td>21.0</td>\n",
       "      <td>21.0</td>\n",
       "      <td>21.1</td>\n",
       "      <td>...</td>\n",
       "      <td>32.0</td>\n",
       "      <td>1.0</td>\n",
       "      <td>21.6</td>\n",
       "      <td>0.0</td>\n",
       "      <td>20.9</td>\n",
       "      <td>0.0</td>\n",
       "      <td>20.9</td>\n",
       "      <td>0.0</td>\n",
       "      <td>22.7</td>\n",
       "      <td>1.0</td>\n",
       "    </tr>\n",
       "    <tr>\n",
       "      <th>2</th>\n",
       "      <td>2020-12-10</td>\n",
       "      <td>13:00:00</td>\n",
       "      <td>2020/12/10 13:00:00</td>\n",
       "      <td>heat</td>\n",
       "      <td>heatOff</td>\n",
       "      <td>auto</td>\n",
       "      <td>Home</td>\n",
       "      <td>21.0</td>\n",
       "      <td>21.0</td>\n",
       "      <td>20.9</td>\n",
       "      <td>...</td>\n",
       "      <td>32.0</td>\n",
       "      <td>0.0</td>\n",
       "      <td>21.6</td>\n",
       "      <td>0.0</td>\n",
       "      <td>20.8</td>\n",
       "      <td>0.0</td>\n",
       "      <td>20.8</td>\n",
       "      <td>0.0</td>\n",
       "      <td>22.7</td>\n",
       "      <td>1.0</td>\n",
       "    </tr>\n",
       "    <tr>\n",
       "      <th>3</th>\n",
       "      <td>2020-12-10</td>\n",
       "      <td>13:05:00</td>\n",
       "      <td>2020/12/10 13:05:00</td>\n",
       "      <td>heat</td>\n",
       "      <td>heatOff</td>\n",
       "      <td>auto</td>\n",
       "      <td>Home</td>\n",
       "      <td>21.0</td>\n",
       "      <td>21.0</td>\n",
       "      <td>20.7</td>\n",
       "      <td>...</td>\n",
       "      <td>33.0</td>\n",
       "      <td>0.0</td>\n",
       "      <td>21.6</td>\n",
       "      <td>0.0</td>\n",
       "      <td>20.8</td>\n",
       "      <td>0.0</td>\n",
       "      <td>20.8</td>\n",
       "      <td>0.0</td>\n",
       "      <td>22.8</td>\n",
       "      <td>0.0</td>\n",
       "    </tr>\n",
       "    <tr>\n",
       "      <th>4</th>\n",
       "      <td>2020-12-10</td>\n",
       "      <td>13:10:00</td>\n",
       "      <td>2020/12/10 13:10:00</td>\n",
       "      <td>heat</td>\n",
       "      <td>heatStage1On</td>\n",
       "      <td>auto</td>\n",
       "      <td>Home</td>\n",
       "      <td>21.0</td>\n",
       "      <td>21.0</td>\n",
       "      <td>20.6</td>\n",
       "      <td>...</td>\n",
       "      <td>33.0</td>\n",
       "      <td>1.0</td>\n",
       "      <td>21.6</td>\n",
       "      <td>0.0</td>\n",
       "      <td>20.8</td>\n",
       "      <td>0.0</td>\n",
       "      <td>20.8</td>\n",
       "      <td>0.0</td>\n",
       "      <td>22.8</td>\n",
       "      <td>0.0</td>\n",
       "    </tr>\n",
       "    <tr>\n",
       "      <th>...</th>\n",
       "      <td>...</td>\n",
       "      <td>...</td>\n",
       "      <td>...</td>\n",
       "      <td>...</td>\n",
       "      <td>...</td>\n",
       "      <td>...</td>\n",
       "      <td>...</td>\n",
       "      <td>...</td>\n",
       "      <td>...</td>\n",
       "      <td>...</td>\n",
       "      <td>...</td>\n",
       "      <td>...</td>\n",
       "      <td>...</td>\n",
       "      <td>...</td>\n",
       "      <td>...</td>\n",
       "      <td>...</td>\n",
       "      <td>...</td>\n",
       "      <td>...</td>\n",
       "      <td>...</td>\n",
       "      <td>...</td>\n",
       "      <td>...</td>\n",
       "    </tr>\n",
       "    <tr>\n",
       "      <th>29671</th>\n",
       "      <td>2021-03-23</td>\n",
       "      <td>14:25:00</td>\n",
       "      <td>2021/3/23 14:25:00</td>\n",
       "      <td>heat</td>\n",
       "      <td>heatOff</td>\n",
       "      <td>NaN</td>\n",
       "      <td>Home</td>\n",
       "      <td>21.0</td>\n",
       "      <td>21.0</td>\n",
       "      <td>21.2</td>\n",
       "      <td>...</td>\n",
       "      <td>21.0</td>\n",
       "      <td>0.0</td>\n",
       "      <td>21.9</td>\n",
       "      <td>0.0</td>\n",
       "      <td>21.8</td>\n",
       "      <td>0.0</td>\n",
       "      <td>21.3</td>\n",
       "      <td>0.0</td>\n",
       "      <td>22.0</td>\n",
       "      <td>1.0</td>\n",
       "    </tr>\n",
       "    <tr>\n",
       "      <th>29672</th>\n",
       "      <td>2021-03-23</td>\n",
       "      <td>14:30:00</td>\n",
       "      <td>2021/3/23 14:30:00</td>\n",
       "      <td>heat</td>\n",
       "      <td>heatOff</td>\n",
       "      <td>NaN</td>\n",
       "      <td>Home</td>\n",
       "      <td>21.0</td>\n",
       "      <td>21.0</td>\n",
       "      <td>21.1</td>\n",
       "      <td>...</td>\n",
       "      <td>21.0</td>\n",
       "      <td>0.0</td>\n",
       "      <td>21.9</td>\n",
       "      <td>0.0</td>\n",
       "      <td>21.8</td>\n",
       "      <td>0.0</td>\n",
       "      <td>21.3</td>\n",
       "      <td>0.0</td>\n",
       "      <td>22.1</td>\n",
       "      <td>0.0</td>\n",
       "    </tr>\n",
       "    <tr>\n",
       "      <th>29673</th>\n",
       "      <td>2021-03-23</td>\n",
       "      <td>14:35:00</td>\n",
       "      <td>2021/3/23 14:35:00</td>\n",
       "      <td>heat</td>\n",
       "      <td>heatOff</td>\n",
       "      <td>NaN</td>\n",
       "      <td>Home</td>\n",
       "      <td>21.0</td>\n",
       "      <td>21.0</td>\n",
       "      <td>21.1</td>\n",
       "      <td>...</td>\n",
       "      <td>21.0</td>\n",
       "      <td>0.0</td>\n",
       "      <td>21.9</td>\n",
       "      <td>0.0</td>\n",
       "      <td>21.8</td>\n",
       "      <td>1.0</td>\n",
       "      <td>21.3</td>\n",
       "      <td>0.0</td>\n",
       "      <td>22.1</td>\n",
       "      <td>0.0</td>\n",
       "    </tr>\n",
       "    <tr>\n",
       "      <th>29674</th>\n",
       "      <td>2021-03-23</td>\n",
       "      <td>14:40:00</td>\n",
       "      <td>2021/3/23 14:40:00</td>\n",
       "      <td>heat</td>\n",
       "      <td>heatOff</td>\n",
       "      <td>NaN</td>\n",
       "      <td>Home</td>\n",
       "      <td>21.0</td>\n",
       "      <td>21.0</td>\n",
       "      <td>21.1</td>\n",
       "      <td>...</td>\n",
       "      <td>21.0</td>\n",
       "      <td>0.0</td>\n",
       "      <td>21.9</td>\n",
       "      <td>0.0</td>\n",
       "      <td>21.8</td>\n",
       "      <td>1.0</td>\n",
       "      <td>21.3</td>\n",
       "      <td>0.0</td>\n",
       "      <td>22.1</td>\n",
       "      <td>0.0</td>\n",
       "    </tr>\n",
       "    <tr>\n",
       "      <th>29675</th>\n",
       "      <td>2021-03-23</td>\n",
       "      <td>14:45:00</td>\n",
       "      <td>2021/3/23 14:45:00</td>\n",
       "      <td>heat</td>\n",
       "      <td>heatOff</td>\n",
       "      <td>NaN</td>\n",
       "      <td>Home</td>\n",
       "      <td>21.0</td>\n",
       "      <td>21.0</td>\n",
       "      <td>21.1</td>\n",
       "      <td>...</td>\n",
       "      <td>21.0</td>\n",
       "      <td>1.0</td>\n",
       "      <td>21.9</td>\n",
       "      <td>0.0</td>\n",
       "      <td>21.8</td>\n",
       "      <td>0.0</td>\n",
       "      <td>21.3</td>\n",
       "      <td>0.0</td>\n",
       "      <td>22.1</td>\n",
       "      <td>1.0</td>\n",
       "    </tr>\n",
       "  </tbody>\n",
       "</table>\n",
       "<p>29676 rows × 27 columns</p>\n",
       "</div>"
      ],
      "text/plain": [
       "            Date      Time             DateTime System Setting   System Mode  \\\n",
       "0     2020-12-10  12:50:00  2020/12/10 12:50:00           heat       heatOff   \n",
       "1     2020-12-10  12:55:00  2020/12/10 12:55:00           heat       heatOff   \n",
       "2     2020-12-10  13:00:00  2020/12/10 13:00:00           heat       heatOff   \n",
       "3     2020-12-10  13:05:00  2020/12/10 13:05:00           heat       heatOff   \n",
       "4     2020-12-10  13:10:00  2020/12/10 13:10:00           heat  heatStage1On   \n",
       "...          ...       ...                  ...            ...           ...   \n",
       "29671 2021-03-23  14:25:00   2021/3/23 14:25:00           heat       heatOff   \n",
       "29672 2021-03-23  14:30:00   2021/3/23 14:30:00           heat       heatOff   \n",
       "29673 2021-03-23  14:35:00   2021/3/23 14:35:00           heat       heatOff   \n",
       "29674 2021-03-23  14:40:00   2021/3/23 14:40:00           heat       heatOff   \n",
       "29675 2021-03-23  14:45:00   2021/3/23 14:45:00           heat       heatOff   \n",
       "\n",
       "      Calendar Event Program Mode  Cool Set Temp (C)  Heat Set Temp (C)  \\\n",
       "0               auto         Home               21.0               21.0   \n",
       "1               auto         Home               21.0               21.0   \n",
       "2               auto         Home               21.0               21.0   \n",
       "3               auto         Home               21.0               21.0   \n",
       "4               auto         Home               21.0               21.0   \n",
       "...              ...          ...                ...                ...   \n",
       "29671            NaN         Home               21.0               21.0   \n",
       "29672            NaN         Home               21.0               21.0   \n",
       "29673            NaN         Home               21.0               21.0   \n",
       "29674            NaN         Home               21.0               21.0   \n",
       "29675            NaN         Home               21.0               21.0   \n",
       "\n",
       "       Current Temp (C)  ...  Thermostat Humidity (%RH)  Thermostat Motion  \\\n",
       "0                  21.3  ...                       30.0                1.0   \n",
       "1                  21.1  ...                       32.0                1.0   \n",
       "2                  20.9  ...                       32.0                0.0   \n",
       "3                  20.7  ...                       33.0                0.0   \n",
       "4                  20.6  ...                       33.0                1.0   \n",
       "...                 ...  ...                        ...                ...   \n",
       "29671              21.2  ...                       21.0                0.0   \n",
       "29672              21.1  ...                       21.0                0.0   \n",
       "29673              21.1  ...                       21.0                0.0   \n",
       "29674              21.1  ...                       21.0                0.0   \n",
       "29675              21.1  ...                       21.0                1.0   \n",
       "\n",
       "       Bedroom (C)  Bedroom2  3rd floor landing (C)  3rd floor landing2  \\\n",
       "0             21.6       0.0                   20.9                 0.0   \n",
       "1             21.6       0.0                   20.9                 0.0   \n",
       "2             21.6       0.0                   20.8                 0.0   \n",
       "3             21.6       0.0                   20.8                 0.0   \n",
       "4             21.6       0.0                   20.8                 0.0   \n",
       "...            ...       ...                    ...                 ...   \n",
       "29671         21.9       0.0                   21.8                 0.0   \n",
       "29672         21.9       0.0                   21.8                 0.0   \n",
       "29673         21.9       0.0                   21.8                 1.0   \n",
       "29674         21.9       0.0                   21.8                 1.0   \n",
       "29675         21.9       0.0                   21.8                 0.0   \n",
       "\n",
       "       3rd floor room (C)  3rd floor room2  Basement (C)  Basement2  \n",
       "0                    21.0              0.0          22.8        0.0  \n",
       "1                    20.9              0.0          22.7        1.0  \n",
       "2                    20.8              0.0          22.7        1.0  \n",
       "3                    20.8              0.0          22.8        0.0  \n",
       "4                    20.8              0.0          22.8        0.0  \n",
       "...                   ...              ...           ...        ...  \n",
       "29671                21.3              0.0          22.0        1.0  \n",
       "29672                21.3              0.0          22.1        0.0  \n",
       "29673                21.3              0.0          22.1        0.0  \n",
       "29674                21.3              0.0          22.1        0.0  \n",
       "29675                21.3              0.0          22.1        1.0  \n",
       "\n",
       "[29676 rows x 27 columns]"
      ]
     },
     "execution_count": 444,
     "metadata": {},
     "output_type": "execute_result"
    }
   ],
   "source": [
    "house_data = pd.read_excel(\"Clean_Data.xlsx\")\n",
    "house_data"
   ]
  },
  {
   "cell_type": "code",
   "execution_count": 445,
   "metadata": {},
   "outputs": [],
   "source": [
    "enc = preprocessing.OneHotEncoder()"
   ]
  },
  {
   "cell_type": "code",
   "execution_count": 446,
   "metadata": {},
   "outputs": [
    {
     "data": {
      "text/plain": [
       "Date                              0\n",
       "Time                              0\n",
       "DateTime                          0\n",
       "System Setting                    0\n",
       "System Mode                       0\n",
       "Calendar Event                29548\n",
       "Program Mode                      0\n",
       "Cool Set Temp (C)                 0\n",
       "Heat Set Temp (C)                 0\n",
       "Current Temp (C)                  0\n",
       "Current Humidity (%RH)            0\n",
       "Outdoor Temp (C)                  0\n",
       "Wind Speed (km/h)                 0\n",
       "Cool Stage 1 (sec)                0\n",
       "Heat Stage 1 (sec)                0\n",
       "Fan (sec)                         0\n",
       "Thermostat Temperature (C)        0\n",
       "Thermostat Humidity (%RH)         0\n",
       "Thermostat Motion                 0\n",
       "Bedroom (C)                       0\n",
       "Bedroom2                          0\n",
       "3rd floor landing (C)             0\n",
       "3rd floor landing2                0\n",
       "3rd floor room (C)                0\n",
       "3rd floor room2                   0\n",
       "Basement (C)                      0\n",
       "Basement2                         0\n",
       "dtype: int64"
      ]
     },
     "execution_count": 446,
     "metadata": {},
     "output_type": "execute_result"
    }
   ],
   "source": [
    "house_data = house_data.fillna(method = \"bfill\")\n",
    "house_data.isnull().sum()"
   ]
  },
  {
   "cell_type": "code",
   "execution_count": 447,
   "metadata": {},
   "outputs": [
    {
     "data": {
      "text/plain": [
       "StandardScaler()"
      ]
     },
     "execution_count": 447,
     "metadata": {},
     "output_type": "execute_result"
    }
   ],
   "source": [
    "numerical_vars = ['Heat Set Temp (C)', 'Current Temp (C)', 'Current Humidity (%RH)', 'Outdoor Temp (C)','Thermostat Temperature (C)', 'Thermostat Humidity (%RH)']\n",
    "sc = StandardScaler()\n",
    "sc.fit(house_data[numerical_vars])"
   ]
  },
  {
   "cell_type": "code",
   "execution_count": 448,
   "metadata": {},
   "outputs": [
    {
     "data": {
      "text/html": [
       "<div>\n",
       "<style scoped>\n",
       "    .dataframe tbody tr th:only-of-type {\n",
       "        vertical-align: middle;\n",
       "    }\n",
       "\n",
       "    .dataframe tbody tr th {\n",
       "        vertical-align: top;\n",
       "    }\n",
       "\n",
       "    .dataframe thead th {\n",
       "        text-align: right;\n",
       "    }\n",
       "</style>\n",
       "<table border=\"1\" class=\"dataframe\">\n",
       "  <thead>\n",
       "    <tr style=\"text-align: right;\">\n",
       "      <th></th>\n",
       "      <th>Heat Set Temp (C)</th>\n",
       "      <th>Current Temp (C)</th>\n",
       "      <th>Current Humidity (%RH)</th>\n",
       "      <th>Outdoor Temp (C)</th>\n",
       "      <th>Thermostat Temperature (C)</th>\n",
       "      <th>Thermostat Humidity (%RH)</th>\n",
       "    </tr>\n",
       "  </thead>\n",
       "  <tbody>\n",
       "    <tr>\n",
       "      <th>0</th>\n",
       "      <td>0.0</td>\n",
       "      <td>2.632689</td>\n",
       "      <td>1.422976</td>\n",
       "      <td>1.387394</td>\n",
       "      <td>2.632689</td>\n",
       "      <td>1.422976</td>\n",
       "    </tr>\n",
       "    <tr>\n",
       "      <th>1</th>\n",
       "      <td>0.0</td>\n",
       "      <td>1.489502</td>\n",
       "      <td>1.930176</td>\n",
       "      <td>1.387394</td>\n",
       "      <td>1.489502</td>\n",
       "      <td>1.930176</td>\n",
       "    </tr>\n",
       "    <tr>\n",
       "      <th>2</th>\n",
       "      <td>0.0</td>\n",
       "      <td>0.346315</td>\n",
       "      <td>1.930176</td>\n",
       "      <td>1.424799</td>\n",
       "      <td>0.346315</td>\n",
       "      <td>1.930176</td>\n",
       "    </tr>\n",
       "    <tr>\n",
       "      <th>3</th>\n",
       "      <td>0.0</td>\n",
       "      <td>-0.796872</td>\n",
       "      <td>2.183776</td>\n",
       "      <td>1.424799</td>\n",
       "      <td>-0.796872</td>\n",
       "      <td>2.183776</td>\n",
       "    </tr>\n",
       "    <tr>\n",
       "      <th>4</th>\n",
       "      <td>0.0</td>\n",
       "      <td>-1.368465</td>\n",
       "      <td>2.183776</td>\n",
       "      <td>1.424799</td>\n",
       "      <td>-1.368465</td>\n",
       "      <td>2.183776</td>\n",
       "    </tr>\n",
       "    <tr>\n",
       "      <th>...</th>\n",
       "      <td>...</td>\n",
       "      <td>...</td>\n",
       "      <td>...</td>\n",
       "      <td>...</td>\n",
       "      <td>...</td>\n",
       "      <td>...</td>\n",
       "    </tr>\n",
       "    <tr>\n",
       "      <th>29671</th>\n",
       "      <td>0.0</td>\n",
       "      <td>2.061095</td>\n",
       "      <td>-0.859425</td>\n",
       "      <td>3.295068</td>\n",
       "      <td>2.061095</td>\n",
       "      <td>-0.859425</td>\n",
       "    </tr>\n",
       "    <tr>\n",
       "      <th>29672</th>\n",
       "      <td>0.0</td>\n",
       "      <td>1.489502</td>\n",
       "      <td>-0.859425</td>\n",
       "      <td>3.388582</td>\n",
       "      <td>1.489502</td>\n",
       "      <td>-0.859425</td>\n",
       "    </tr>\n",
       "    <tr>\n",
       "      <th>29673</th>\n",
       "      <td>0.0</td>\n",
       "      <td>1.489502</td>\n",
       "      <td>-0.859425</td>\n",
       "      <td>3.388582</td>\n",
       "      <td>1.489502</td>\n",
       "      <td>-0.859425</td>\n",
       "    </tr>\n",
       "    <tr>\n",
       "      <th>29674</th>\n",
       "      <td>0.0</td>\n",
       "      <td>1.489502</td>\n",
       "      <td>-0.859425</td>\n",
       "      <td>3.388582</td>\n",
       "      <td>1.489502</td>\n",
       "      <td>-0.859425</td>\n",
       "    </tr>\n",
       "    <tr>\n",
       "      <th>29675</th>\n",
       "      <td>0.0</td>\n",
       "      <td>1.489502</td>\n",
       "      <td>-0.859425</td>\n",
       "      <td>3.388582</td>\n",
       "      <td>1.489502</td>\n",
       "      <td>-0.859425</td>\n",
       "    </tr>\n",
       "  </tbody>\n",
       "</table>\n",
       "<p>29676 rows × 6 columns</p>\n",
       "</div>"
      ],
      "text/plain": [
       "       Heat Set Temp (C)  Current Temp (C)  Current Humidity (%RH)  \\\n",
       "0                    0.0          2.632689                1.422976   \n",
       "1                    0.0          1.489502                1.930176   \n",
       "2                    0.0          0.346315                1.930176   \n",
       "3                    0.0         -0.796872                2.183776   \n",
       "4                    0.0         -1.368465                2.183776   \n",
       "...                  ...               ...                     ...   \n",
       "29671                0.0          2.061095               -0.859425   \n",
       "29672                0.0          1.489502               -0.859425   \n",
       "29673                0.0          1.489502               -0.859425   \n",
       "29674                0.0          1.489502               -0.859425   \n",
       "29675                0.0          1.489502               -0.859425   \n",
       "\n",
       "       Outdoor Temp (C)  Thermostat Temperature (C)  Thermostat Humidity (%RH)  \n",
       "0              1.387394                    2.632689                   1.422976  \n",
       "1              1.387394                    1.489502                   1.930176  \n",
       "2              1.424799                    0.346315                   1.930176  \n",
       "3              1.424799                   -0.796872                   2.183776  \n",
       "4              1.424799                   -1.368465                   2.183776  \n",
       "...                 ...                         ...                        ...  \n",
       "29671          3.295068                    2.061095                  -0.859425  \n",
       "29672          3.388582                    1.489502                  -0.859425  \n",
       "29673          3.388582                    1.489502                  -0.859425  \n",
       "29674          3.388582                    1.489502                  -0.859425  \n",
       "29675          3.388582                    1.489502                  -0.859425  \n",
       "\n",
       "[29676 rows x 6 columns]"
      ]
     },
     "execution_count": 448,
     "metadata": {},
     "output_type": "execute_result"
    }
   ],
   "source": [
    "scaler_house_data = house_data[numerical_vars].copy()\n",
    "scaler_house_data[numerical_vars] = sc.transform(house_data[numerical_vars])\n",
    "scaler_house_data"
   ]
  },
  {
   "cell_type": "code",
   "execution_count": 449,
   "metadata": {},
   "outputs": [],
   "source": [
    "y_auxHeat = house_data['Heat Stage 1 (sec)'].to_numpy()\n",
    "y_fan = house_data['Fan (sec)'].to_numpy()\n",
    "oe = OrdinalEncoder()\n",
    "y_auxHeat = oe.fit_transform(y_auxHeat.reshape(-1, 1))\n",
    "y_fan = oe.fit_transform(y_fan.reshape(-1, 1))\n",
    "y_auxHeat = y_auxHeat.reshape(y_auxHeat.shape[0], )\n",
    "y_fan = y_fan.reshape(y_fan.shape[0], )\n",
    "y_auxHeat = y_auxHeat.astype(int)\n",
    "y_auxHeat = y_auxHeat.astype(str)\n",
    "\n",
    "y_fan = y_fan.astype(int)\n",
    "y_fan = y_fan.astype(str)\n",
    "scaler_house_data['Heat Stage 1'] = y_auxHeat\n",
    "scaler_house_data['fan'] = y_fan"
   ]
  },
  {
   "cell_type": "code",
   "execution_count": 450,
   "metadata": {},
   "outputs": [
    {
     "data": {
      "text/html": [
       "<div>\n",
       "<style scoped>\n",
       "    .dataframe tbody tr th:only-of-type {\n",
       "        vertical-align: middle;\n",
       "    }\n",
       "\n",
       "    .dataframe tbody tr th {\n",
       "        vertical-align: top;\n",
       "    }\n",
       "\n",
       "    .dataframe thead th {\n",
       "        text-align: right;\n",
       "    }\n",
       "</style>\n",
       "<table border=\"1\" class=\"dataframe\">\n",
       "  <thead>\n",
       "    <tr style=\"text-align: right;\">\n",
       "      <th></th>\n",
       "      <th>Heat Set Temp (C)</th>\n",
       "      <th>Current Temp (C)</th>\n",
       "      <th>Current Humidity (%RH)</th>\n",
       "      <th>Outdoor Temp (C)</th>\n",
       "      <th>Thermostat Temperature (C)</th>\n",
       "      <th>Thermostat Humidity (%RH)</th>\n",
       "      <th>Heat Stage 1</th>\n",
       "      <th>fan</th>\n",
       "    </tr>\n",
       "  </thead>\n",
       "  <tbody>\n",
       "    <tr>\n",
       "      <th>0</th>\n",
       "      <td>0.0</td>\n",
       "      <td>2.632689</td>\n",
       "      <td>1.422976</td>\n",
       "      <td>1.387394</td>\n",
       "      <td>2.632689</td>\n",
       "      <td>1.422976</td>\n",
       "      <td>0</td>\n",
       "      <td>0</td>\n",
       "    </tr>\n",
       "    <tr>\n",
       "      <th>1</th>\n",
       "      <td>0.0</td>\n",
       "      <td>1.489502</td>\n",
       "      <td>1.930176</td>\n",
       "      <td>1.387394</td>\n",
       "      <td>1.489502</td>\n",
       "      <td>1.930176</td>\n",
       "      <td>0</td>\n",
       "      <td>0</td>\n",
       "    </tr>\n",
       "    <tr>\n",
       "      <th>2</th>\n",
       "      <td>0.0</td>\n",
       "      <td>0.346315</td>\n",
       "      <td>1.930176</td>\n",
       "      <td>1.424799</td>\n",
       "      <td>0.346315</td>\n",
       "      <td>1.930176</td>\n",
       "      <td>0</td>\n",
       "      <td>0</td>\n",
       "    </tr>\n",
       "    <tr>\n",
       "      <th>3</th>\n",
       "      <td>0.0</td>\n",
       "      <td>-0.796872</td>\n",
       "      <td>2.183776</td>\n",
       "      <td>1.424799</td>\n",
       "      <td>-0.796872</td>\n",
       "      <td>2.183776</td>\n",
       "      <td>9</td>\n",
       "      <td>9</td>\n",
       "    </tr>\n",
       "    <tr>\n",
       "      <th>4</th>\n",
       "      <td>0.0</td>\n",
       "      <td>-1.368465</td>\n",
       "      <td>2.183776</td>\n",
       "      <td>1.424799</td>\n",
       "      <td>-1.368465</td>\n",
       "      <td>2.183776</td>\n",
       "      <td>20</td>\n",
       "      <td>20</td>\n",
       "    </tr>\n",
       "    <tr>\n",
       "      <th>...</th>\n",
       "      <td>...</td>\n",
       "      <td>...</td>\n",
       "      <td>...</td>\n",
       "      <td>...</td>\n",
       "      <td>...</td>\n",
       "      <td>...</td>\n",
       "      <td>...</td>\n",
       "      <td>...</td>\n",
       "    </tr>\n",
       "    <tr>\n",
       "      <th>29671</th>\n",
       "      <td>0.0</td>\n",
       "      <td>2.061095</td>\n",
       "      <td>-0.859425</td>\n",
       "      <td>3.295068</td>\n",
       "      <td>2.061095</td>\n",
       "      <td>-0.859425</td>\n",
       "      <td>0</td>\n",
       "      <td>0</td>\n",
       "    </tr>\n",
       "    <tr>\n",
       "      <th>29672</th>\n",
       "      <td>0.0</td>\n",
       "      <td>1.489502</td>\n",
       "      <td>-0.859425</td>\n",
       "      <td>3.388582</td>\n",
       "      <td>1.489502</td>\n",
       "      <td>-0.859425</td>\n",
       "      <td>0</td>\n",
       "      <td>0</td>\n",
       "    </tr>\n",
       "    <tr>\n",
       "      <th>29673</th>\n",
       "      <td>0.0</td>\n",
       "      <td>1.489502</td>\n",
       "      <td>-0.859425</td>\n",
       "      <td>3.388582</td>\n",
       "      <td>1.489502</td>\n",
       "      <td>-0.859425</td>\n",
       "      <td>0</td>\n",
       "      <td>0</td>\n",
       "    </tr>\n",
       "    <tr>\n",
       "      <th>29674</th>\n",
       "      <td>0.0</td>\n",
       "      <td>1.489502</td>\n",
       "      <td>-0.859425</td>\n",
       "      <td>3.388582</td>\n",
       "      <td>1.489502</td>\n",
       "      <td>-0.859425</td>\n",
       "      <td>0</td>\n",
       "      <td>0</td>\n",
       "    </tr>\n",
       "    <tr>\n",
       "      <th>29675</th>\n",
       "      <td>0.0</td>\n",
       "      <td>1.489502</td>\n",
       "      <td>-0.859425</td>\n",
       "      <td>3.388582</td>\n",
       "      <td>1.489502</td>\n",
       "      <td>-0.859425</td>\n",
       "      <td>0</td>\n",
       "      <td>0</td>\n",
       "    </tr>\n",
       "  </tbody>\n",
       "</table>\n",
       "<p>29676 rows × 8 columns</p>\n",
       "</div>"
      ],
      "text/plain": [
       "       Heat Set Temp (C)  Current Temp (C)  Current Humidity (%RH)  \\\n",
       "0                    0.0          2.632689                1.422976   \n",
       "1                    0.0          1.489502                1.930176   \n",
       "2                    0.0          0.346315                1.930176   \n",
       "3                    0.0         -0.796872                2.183776   \n",
       "4                    0.0         -1.368465                2.183776   \n",
       "...                  ...               ...                     ...   \n",
       "29671                0.0          2.061095               -0.859425   \n",
       "29672                0.0          1.489502               -0.859425   \n",
       "29673                0.0          1.489502               -0.859425   \n",
       "29674                0.0          1.489502               -0.859425   \n",
       "29675                0.0          1.489502               -0.859425   \n",
       "\n",
       "       Outdoor Temp (C)  Thermostat Temperature (C)  \\\n",
       "0              1.387394                    2.632689   \n",
       "1              1.387394                    1.489502   \n",
       "2              1.424799                    0.346315   \n",
       "3              1.424799                   -0.796872   \n",
       "4              1.424799                   -1.368465   \n",
       "...                 ...                         ...   \n",
       "29671          3.295068                    2.061095   \n",
       "29672          3.388582                    1.489502   \n",
       "29673          3.388582                    1.489502   \n",
       "29674          3.388582                    1.489502   \n",
       "29675          3.388582                    1.489502   \n",
       "\n",
       "       Thermostat Humidity (%RH) Heat Stage 1 fan  \n",
       "0                       1.422976            0   0  \n",
       "1                       1.930176            0   0  \n",
       "2                       1.930176            0   0  \n",
       "3                       2.183776            9   9  \n",
       "4                       2.183776           20  20  \n",
       "...                          ...          ...  ..  \n",
       "29671                  -0.859425            0   0  \n",
       "29672                  -0.859425            0   0  \n",
       "29673                  -0.859425            0   0  \n",
       "29674                  -0.859425            0   0  \n",
       "29675                  -0.859425            0   0  \n",
       "\n",
       "[29676 rows x 8 columns]"
      ]
     },
     "execution_count": 450,
     "metadata": {},
     "output_type": "execute_result"
    }
   ],
   "source": [
    "scaler_house_data"
   ]
  },
  {
   "cell_type": "code",
   "execution_count": 451,
   "metadata": {},
   "outputs": [
    {
     "data": {
      "text/html": [
       "<div>\n",
       "<style scoped>\n",
       "    .dataframe tbody tr th:only-of-type {\n",
       "        vertical-align: middle;\n",
       "    }\n",
       "\n",
       "    .dataframe tbody tr th {\n",
       "        vertical-align: top;\n",
       "    }\n",
       "\n",
       "    .dataframe thead th {\n",
       "        text-align: right;\n",
       "    }\n",
       "</style>\n",
       "<table border=\"1\" class=\"dataframe\">\n",
       "  <thead>\n",
       "    <tr style=\"text-align: right;\">\n",
       "      <th></th>\n",
       "      <th>Heat Set Temp (C)</th>\n",
       "      <th>Current Temp (C)</th>\n",
       "      <th>Current Humidity (%RH)</th>\n",
       "      <th>Outdoor Temp (C)</th>\n",
       "      <th>Thermostat Temperature (C)</th>\n",
       "      <th>Thermostat Humidity (%RH)</th>\n",
       "      <th>Heat Stage 1</th>\n",
       "    </tr>\n",
       "  </thead>\n",
       "  <tbody>\n",
       "    <tr>\n",
       "      <th>0</th>\n",
       "      <td>0.0</td>\n",
       "      <td>2.632689</td>\n",
       "      <td>1.422976</td>\n",
       "      <td>1.387394</td>\n",
       "      <td>2.632689</td>\n",
       "      <td>1.422976</td>\n",
       "      <td>0</td>\n",
       "    </tr>\n",
       "    <tr>\n",
       "      <th>1</th>\n",
       "      <td>0.0</td>\n",
       "      <td>1.489502</td>\n",
       "      <td>1.930176</td>\n",
       "      <td>1.387394</td>\n",
       "      <td>1.489502</td>\n",
       "      <td>1.930176</td>\n",
       "      <td>0</td>\n",
       "    </tr>\n",
       "    <tr>\n",
       "      <th>2</th>\n",
       "      <td>0.0</td>\n",
       "      <td>0.346315</td>\n",
       "      <td>1.930176</td>\n",
       "      <td>1.424799</td>\n",
       "      <td>0.346315</td>\n",
       "      <td>1.930176</td>\n",
       "      <td>0</td>\n",
       "    </tr>\n",
       "    <tr>\n",
       "      <th>3</th>\n",
       "      <td>0.0</td>\n",
       "      <td>-0.796872</td>\n",
       "      <td>2.183776</td>\n",
       "      <td>1.424799</td>\n",
       "      <td>-0.796872</td>\n",
       "      <td>2.183776</td>\n",
       "      <td>9</td>\n",
       "    </tr>\n",
       "    <tr>\n",
       "      <th>4</th>\n",
       "      <td>0.0</td>\n",
       "      <td>-1.368465</td>\n",
       "      <td>2.183776</td>\n",
       "      <td>1.424799</td>\n",
       "      <td>-1.368465</td>\n",
       "      <td>2.183776</td>\n",
       "      <td>20</td>\n",
       "    </tr>\n",
       "    <tr>\n",
       "      <th>...</th>\n",
       "      <td>...</td>\n",
       "      <td>...</td>\n",
       "      <td>...</td>\n",
       "      <td>...</td>\n",
       "      <td>...</td>\n",
       "      <td>...</td>\n",
       "      <td>...</td>\n",
       "    </tr>\n",
       "    <tr>\n",
       "      <th>29671</th>\n",
       "      <td>0.0</td>\n",
       "      <td>2.061095</td>\n",
       "      <td>-0.859425</td>\n",
       "      <td>3.295068</td>\n",
       "      <td>2.061095</td>\n",
       "      <td>-0.859425</td>\n",
       "      <td>0</td>\n",
       "    </tr>\n",
       "    <tr>\n",
       "      <th>29672</th>\n",
       "      <td>0.0</td>\n",
       "      <td>1.489502</td>\n",
       "      <td>-0.859425</td>\n",
       "      <td>3.388582</td>\n",
       "      <td>1.489502</td>\n",
       "      <td>-0.859425</td>\n",
       "      <td>0</td>\n",
       "    </tr>\n",
       "    <tr>\n",
       "      <th>29673</th>\n",
       "      <td>0.0</td>\n",
       "      <td>1.489502</td>\n",
       "      <td>-0.859425</td>\n",
       "      <td>3.388582</td>\n",
       "      <td>1.489502</td>\n",
       "      <td>-0.859425</td>\n",
       "      <td>0</td>\n",
       "    </tr>\n",
       "    <tr>\n",
       "      <th>29674</th>\n",
       "      <td>0.0</td>\n",
       "      <td>1.489502</td>\n",
       "      <td>-0.859425</td>\n",
       "      <td>3.388582</td>\n",
       "      <td>1.489502</td>\n",
       "      <td>-0.859425</td>\n",
       "      <td>0</td>\n",
       "    </tr>\n",
       "    <tr>\n",
       "      <th>29675</th>\n",
       "      <td>0.0</td>\n",
       "      <td>1.489502</td>\n",
       "      <td>-0.859425</td>\n",
       "      <td>3.388582</td>\n",
       "      <td>1.489502</td>\n",
       "      <td>-0.859425</td>\n",
       "      <td>0</td>\n",
       "    </tr>\n",
       "  </tbody>\n",
       "</table>\n",
       "<p>29676 rows × 7 columns</p>\n",
       "</div>"
      ],
      "text/plain": [
       "       Heat Set Temp (C)  Current Temp (C)  Current Humidity (%RH)  \\\n",
       "0                    0.0          2.632689                1.422976   \n",
       "1                    0.0          1.489502                1.930176   \n",
       "2                    0.0          0.346315                1.930176   \n",
       "3                    0.0         -0.796872                2.183776   \n",
       "4                    0.0         -1.368465                2.183776   \n",
       "...                  ...               ...                     ...   \n",
       "29671                0.0          2.061095               -0.859425   \n",
       "29672                0.0          1.489502               -0.859425   \n",
       "29673                0.0          1.489502               -0.859425   \n",
       "29674                0.0          1.489502               -0.859425   \n",
       "29675                0.0          1.489502               -0.859425   \n",
       "\n",
       "       Outdoor Temp (C)  Thermostat Temperature (C)  \\\n",
       "0              1.387394                    2.632689   \n",
       "1              1.387394                    1.489502   \n",
       "2              1.424799                    0.346315   \n",
       "3              1.424799                   -0.796872   \n",
       "4              1.424799                   -1.368465   \n",
       "...                 ...                         ...   \n",
       "29671          3.295068                    2.061095   \n",
       "29672          3.388582                    1.489502   \n",
       "29673          3.388582                    1.489502   \n",
       "29674          3.388582                    1.489502   \n",
       "29675          3.388582                    1.489502   \n",
       "\n",
       "       Thermostat Humidity (%RH) Heat Stage 1  \n",
       "0                       1.422976            0  \n",
       "1                       1.930176            0  \n",
       "2                       1.930176            0  \n",
       "3                       2.183776            9  \n",
       "4                       2.183776           20  \n",
       "...                          ...          ...  \n",
       "29671                  -0.859425            0  \n",
       "29672                  -0.859425            0  \n",
       "29673                  -0.859425            0  \n",
       "29674                  -0.859425            0  \n",
       "29675                  -0.859425            0  \n",
       "\n",
       "[29676 rows x 7 columns]"
      ]
     },
     "execution_count": 451,
     "metadata": {},
     "output_type": "execute_result"
    }
   ],
   "source": [
    "working_df = scaler_house_data.drop(labels = [\"fan\"], axis = 1)\n",
    "working_df"
   ]
  },
  {
   "cell_type": "code",
   "execution_count": 452,
   "metadata": {},
   "outputs": [],
   "source": [
    "def series_to_supervised(data, n_in = 1, n_out = 1, dropnan = True):\n",
    "    \n",
    "    n_vars = 1 if type(data) is list else data.shape[1]\n",
    "    df = pd.DataFrame(data)\n",
    "    cols, names = list(), list()\n",
    "    \n",
    "    # input sequence (t-n, ... t-1)\n",
    "    for i in range(n_in, 0, -1):\n",
    "        cols.append(df.shift(i))\n",
    "        names += [('var%d(t-%d)' % (j+1, i)) for j in range(n_vars)]\n",
    "    \n",
    "    # forecast sequence (t, t+1, ... t+n)\n",
    "    for i in range(0, n_out):\n",
    "        cols.append(df.shift(-i))\n",
    "        if i == 0:\n",
    "            names += [('var%d(t)' % (j+1)) for j in range(n_vars)]\n",
    "        else:\n",
    "            names += [('var%d(t+%d)' % (j+1, i)) for j in range(n_vars)]\n",
    "    # put it all together\n",
    "    agg = pd.concat(cols, axis=1)\n",
    "    agg.columns = names\n",
    "    # drop rows with NaN values\n",
    "    if dropnan:\n",
    "        agg.dropna(inplace=True)\n",
    "    return agg"
   ]
  },
  {
   "cell_type": "code",
   "execution_count": 453,
   "metadata": {},
   "outputs": [
    {
     "data": {
      "text/html": [
       "<div>\n",
       "<style scoped>\n",
       "    .dataframe tbody tr th:only-of-type {\n",
       "        vertical-align: middle;\n",
       "    }\n",
       "\n",
       "    .dataframe tbody tr th {\n",
       "        vertical-align: top;\n",
       "    }\n",
       "\n",
       "    .dataframe thead th {\n",
       "        text-align: right;\n",
       "    }\n",
       "</style>\n",
       "<table border=\"1\" class=\"dataframe\">\n",
       "  <thead>\n",
       "    <tr style=\"text-align: right;\">\n",
       "      <th></th>\n",
       "      <th>var1(t-6)</th>\n",
       "      <th>var2(t-6)</th>\n",
       "      <th>var3(t-6)</th>\n",
       "      <th>var4(t-6)</th>\n",
       "      <th>var5(t-6)</th>\n",
       "      <th>var6(t-6)</th>\n",
       "      <th>var7(t-6)</th>\n",
       "      <th>var1(t-5)</th>\n",
       "      <th>var2(t-5)</th>\n",
       "      <th>var3(t-5)</th>\n",
       "      <th>...</th>\n",
       "      <th>var5(t-1)</th>\n",
       "      <th>var6(t-1)</th>\n",
       "      <th>var7(t-1)</th>\n",
       "      <th>var1(t)</th>\n",
       "      <th>var2(t)</th>\n",
       "      <th>var3(t)</th>\n",
       "      <th>var4(t)</th>\n",
       "      <th>var5(t)</th>\n",
       "      <th>var6(t)</th>\n",
       "      <th>var7(t)</th>\n",
       "    </tr>\n",
       "  </thead>\n",
       "  <tbody>\n",
       "    <tr>\n",
       "      <th>6</th>\n",
       "      <td>0.0</td>\n",
       "      <td>2.632689</td>\n",
       "      <td>1.422976</td>\n",
       "      <td>1.387394</td>\n",
       "      <td>2.632689</td>\n",
       "      <td>1.422976</td>\n",
       "      <td>0</td>\n",
       "      <td>0.0</td>\n",
       "      <td>1.489502</td>\n",
       "      <td>1.930176</td>\n",
       "      <td>...</td>\n",
       "      <td>-0.796872</td>\n",
       "      <td>2.183776</td>\n",
       "      <td>20</td>\n",
       "      <td>0.0</td>\n",
       "      <td>-0.225278</td>\n",
       "      <td>2.183776</td>\n",
       "      <td>1.424799</td>\n",
       "      <td>-0.225278</td>\n",
       "      <td>2.183776</td>\n",
       "      <td>20</td>\n",
       "    </tr>\n",
       "    <tr>\n",
       "      <th>7</th>\n",
       "      <td>0.0</td>\n",
       "      <td>1.489502</td>\n",
       "      <td>1.930176</td>\n",
       "      <td>1.387394</td>\n",
       "      <td>1.489502</td>\n",
       "      <td>1.930176</td>\n",
       "      <td>0</td>\n",
       "      <td>0.0</td>\n",
       "      <td>0.346315</td>\n",
       "      <td>1.930176</td>\n",
       "      <td>...</td>\n",
       "      <td>-0.225278</td>\n",
       "      <td>2.183776</td>\n",
       "      <td>20</td>\n",
       "      <td>0.0</td>\n",
       "      <td>0.917909</td>\n",
       "      <td>2.183776</td>\n",
       "      <td>1.424799</td>\n",
       "      <td>0.917909</td>\n",
       "      <td>2.183776</td>\n",
       "      <td>3</td>\n",
       "    </tr>\n",
       "    <tr>\n",
       "      <th>8</th>\n",
       "      <td>0.0</td>\n",
       "      <td>0.346315</td>\n",
       "      <td>1.930176</td>\n",
       "      <td>1.424799</td>\n",
       "      <td>0.346315</td>\n",
       "      <td>1.930176</td>\n",
       "      <td>0</td>\n",
       "      <td>0.0</td>\n",
       "      <td>-0.796872</td>\n",
       "      <td>2.183776</td>\n",
       "      <td>...</td>\n",
       "      <td>0.917909</td>\n",
       "      <td>2.183776</td>\n",
       "      <td>3</td>\n",
       "      <td>0.0</td>\n",
       "      <td>1.489502</td>\n",
       "      <td>2.183776</td>\n",
       "      <td>1.462204</td>\n",
       "      <td>1.489502</td>\n",
       "      <td>2.183776</td>\n",
       "      <td>0</td>\n",
       "    </tr>\n",
       "    <tr>\n",
       "      <th>9</th>\n",
       "      <td>0.0</td>\n",
       "      <td>-0.796872</td>\n",
       "      <td>2.183776</td>\n",
       "      <td>1.424799</td>\n",
       "      <td>-0.796872</td>\n",
       "      <td>2.183776</td>\n",
       "      <td>9</td>\n",
       "      <td>0.0</td>\n",
       "      <td>-1.368465</td>\n",
       "      <td>2.183776</td>\n",
       "      <td>...</td>\n",
       "      <td>1.489502</td>\n",
       "      <td>2.183776</td>\n",
       "      <td>0</td>\n",
       "      <td>0.0</td>\n",
       "      <td>1.489502</td>\n",
       "      <td>2.183776</td>\n",
       "      <td>1.462204</td>\n",
       "      <td>1.489502</td>\n",
       "      <td>2.183776</td>\n",
       "      <td>0</td>\n",
       "    </tr>\n",
       "    <tr>\n",
       "      <th>10</th>\n",
       "      <td>0.0</td>\n",
       "      <td>-1.368465</td>\n",
       "      <td>2.183776</td>\n",
       "      <td>1.424799</td>\n",
       "      <td>-1.368465</td>\n",
       "      <td>2.183776</td>\n",
       "      <td>20</td>\n",
       "      <td>0.0</td>\n",
       "      <td>-0.796872</td>\n",
       "      <td>2.183776</td>\n",
       "      <td>...</td>\n",
       "      <td>1.489502</td>\n",
       "      <td>2.183776</td>\n",
       "      <td>0</td>\n",
       "      <td>0.0</td>\n",
       "      <td>0.917909</td>\n",
       "      <td>2.183776</td>\n",
       "      <td>1.462204</td>\n",
       "      <td>0.917909</td>\n",
       "      <td>2.183776</td>\n",
       "      <td>0</td>\n",
       "    </tr>\n",
       "    <tr>\n",
       "      <th>...</th>\n",
       "      <td>...</td>\n",
       "      <td>...</td>\n",
       "      <td>...</td>\n",
       "      <td>...</td>\n",
       "      <td>...</td>\n",
       "      <td>...</td>\n",
       "      <td>...</td>\n",
       "      <td>...</td>\n",
       "      <td>...</td>\n",
       "      <td>...</td>\n",
       "      <td>...</td>\n",
       "      <td>...</td>\n",
       "      <td>...</td>\n",
       "      <td>...</td>\n",
       "      <td>...</td>\n",
       "      <td>...</td>\n",
       "      <td>...</td>\n",
       "      <td>...</td>\n",
       "      <td>...</td>\n",
       "      <td>...</td>\n",
       "      <td>...</td>\n",
       "    </tr>\n",
       "    <tr>\n",
       "      <th>29671</th>\n",
       "      <td>0.0</td>\n",
       "      <td>3.204282</td>\n",
       "      <td>-0.098625</td>\n",
       "      <td>3.238960</td>\n",
       "      <td>3.204282</td>\n",
       "      <td>-0.098625</td>\n",
       "      <td>0</td>\n",
       "      <td>0.0</td>\n",
       "      <td>3.204282</td>\n",
       "      <td>-0.098625</td>\n",
       "      <td>...</td>\n",
       "      <td>2.061095</td>\n",
       "      <td>-0.859425</td>\n",
       "      <td>0</td>\n",
       "      <td>0.0</td>\n",
       "      <td>2.061095</td>\n",
       "      <td>-0.859425</td>\n",
       "      <td>3.295068</td>\n",
       "      <td>2.061095</td>\n",
       "      <td>-0.859425</td>\n",
       "      <td>0</td>\n",
       "    </tr>\n",
       "    <tr>\n",
       "      <th>29672</th>\n",
       "      <td>0.0</td>\n",
       "      <td>3.204282</td>\n",
       "      <td>-0.098625</td>\n",
       "      <td>3.295068</td>\n",
       "      <td>3.204282</td>\n",
       "      <td>-0.098625</td>\n",
       "      <td>0</td>\n",
       "      <td>0.0</td>\n",
       "      <td>2.632689</td>\n",
       "      <td>-0.605825</td>\n",
       "      <td>...</td>\n",
       "      <td>2.061095</td>\n",
       "      <td>-0.859425</td>\n",
       "      <td>0</td>\n",
       "      <td>0.0</td>\n",
       "      <td>1.489502</td>\n",
       "      <td>-0.859425</td>\n",
       "      <td>3.388582</td>\n",
       "      <td>1.489502</td>\n",
       "      <td>-0.859425</td>\n",
       "      <td>0</td>\n",
       "    </tr>\n",
       "    <tr>\n",
       "      <th>29673</th>\n",
       "      <td>0.0</td>\n",
       "      <td>2.632689</td>\n",
       "      <td>-0.605825</td>\n",
       "      <td>3.295068</td>\n",
       "      <td>2.632689</td>\n",
       "      <td>-0.605825</td>\n",
       "      <td>0</td>\n",
       "      <td>0.0</td>\n",
       "      <td>2.632689</td>\n",
       "      <td>-0.605825</td>\n",
       "      <td>...</td>\n",
       "      <td>1.489502</td>\n",
       "      <td>-0.859425</td>\n",
       "      <td>0</td>\n",
       "      <td>0.0</td>\n",
       "      <td>1.489502</td>\n",
       "      <td>-0.859425</td>\n",
       "      <td>3.388582</td>\n",
       "      <td>1.489502</td>\n",
       "      <td>-0.859425</td>\n",
       "      <td>0</td>\n",
       "    </tr>\n",
       "    <tr>\n",
       "      <th>29674</th>\n",
       "      <td>0.0</td>\n",
       "      <td>2.632689</td>\n",
       "      <td>-0.605825</td>\n",
       "      <td>3.295068</td>\n",
       "      <td>2.632689</td>\n",
       "      <td>-0.605825</td>\n",
       "      <td>0</td>\n",
       "      <td>0.0</td>\n",
       "      <td>2.061095</td>\n",
       "      <td>-0.605825</td>\n",
       "      <td>...</td>\n",
       "      <td>1.489502</td>\n",
       "      <td>-0.859425</td>\n",
       "      <td>0</td>\n",
       "      <td>0.0</td>\n",
       "      <td>1.489502</td>\n",
       "      <td>-0.859425</td>\n",
       "      <td>3.388582</td>\n",
       "      <td>1.489502</td>\n",
       "      <td>-0.859425</td>\n",
       "      <td>0</td>\n",
       "    </tr>\n",
       "    <tr>\n",
       "      <th>29675</th>\n",
       "      <td>0.0</td>\n",
       "      <td>2.061095</td>\n",
       "      <td>-0.605825</td>\n",
       "      <td>3.295068</td>\n",
       "      <td>2.061095</td>\n",
       "      <td>-0.605825</td>\n",
       "      <td>0</td>\n",
       "      <td>0.0</td>\n",
       "      <td>2.061095</td>\n",
       "      <td>-0.859425</td>\n",
       "      <td>...</td>\n",
       "      <td>1.489502</td>\n",
       "      <td>-0.859425</td>\n",
       "      <td>0</td>\n",
       "      <td>0.0</td>\n",
       "      <td>1.489502</td>\n",
       "      <td>-0.859425</td>\n",
       "      <td>3.388582</td>\n",
       "      <td>1.489502</td>\n",
       "      <td>-0.859425</td>\n",
       "      <td>0</td>\n",
       "    </tr>\n",
       "  </tbody>\n",
       "</table>\n",
       "<p>29670 rows × 49 columns</p>\n",
       "</div>"
      ],
      "text/plain": [
       "       var1(t-6)  var2(t-6)  var3(t-6)  var4(t-6)  var5(t-6)  var6(t-6)  \\\n",
       "6            0.0   2.632689   1.422976   1.387394   2.632689   1.422976   \n",
       "7            0.0   1.489502   1.930176   1.387394   1.489502   1.930176   \n",
       "8            0.0   0.346315   1.930176   1.424799   0.346315   1.930176   \n",
       "9            0.0  -0.796872   2.183776   1.424799  -0.796872   2.183776   \n",
       "10           0.0  -1.368465   2.183776   1.424799  -1.368465   2.183776   \n",
       "...          ...        ...        ...        ...        ...        ...   \n",
       "29671        0.0   3.204282  -0.098625   3.238960   3.204282  -0.098625   \n",
       "29672        0.0   3.204282  -0.098625   3.295068   3.204282  -0.098625   \n",
       "29673        0.0   2.632689  -0.605825   3.295068   2.632689  -0.605825   \n",
       "29674        0.0   2.632689  -0.605825   3.295068   2.632689  -0.605825   \n",
       "29675        0.0   2.061095  -0.605825   3.295068   2.061095  -0.605825   \n",
       "\n",
       "      var7(t-6)  var1(t-5)  var2(t-5)  var3(t-5)  ...  var5(t-1)  var6(t-1)  \\\n",
       "6             0        0.0   1.489502   1.930176  ...  -0.796872   2.183776   \n",
       "7             0        0.0   0.346315   1.930176  ...  -0.225278   2.183776   \n",
       "8             0        0.0  -0.796872   2.183776  ...   0.917909   2.183776   \n",
       "9             9        0.0  -1.368465   2.183776  ...   1.489502   2.183776   \n",
       "10           20        0.0  -0.796872   2.183776  ...   1.489502   2.183776   \n",
       "...         ...        ...        ...        ...  ...        ...        ...   \n",
       "29671         0        0.0   3.204282  -0.098625  ...   2.061095  -0.859425   \n",
       "29672         0        0.0   2.632689  -0.605825  ...   2.061095  -0.859425   \n",
       "29673         0        0.0   2.632689  -0.605825  ...   1.489502  -0.859425   \n",
       "29674         0        0.0   2.061095  -0.605825  ...   1.489502  -0.859425   \n",
       "29675         0        0.0   2.061095  -0.859425  ...   1.489502  -0.859425   \n",
       "\n",
       "       var7(t-1) var1(t)   var2(t)   var3(t)   var4(t)   var5(t)   var6(t)  \\\n",
       "6             20     0.0 -0.225278  2.183776  1.424799 -0.225278  2.183776   \n",
       "7             20     0.0  0.917909  2.183776  1.424799  0.917909  2.183776   \n",
       "8              3     0.0  1.489502  2.183776  1.462204  1.489502  2.183776   \n",
       "9              0     0.0  1.489502  2.183776  1.462204  1.489502  2.183776   \n",
       "10             0     0.0  0.917909  2.183776  1.462204  0.917909  2.183776   \n",
       "...          ...     ...       ...       ...       ...       ...       ...   \n",
       "29671          0     0.0  2.061095 -0.859425  3.295068  2.061095 -0.859425   \n",
       "29672          0     0.0  1.489502 -0.859425  3.388582  1.489502 -0.859425   \n",
       "29673          0     0.0  1.489502 -0.859425  3.388582  1.489502 -0.859425   \n",
       "29674          0     0.0  1.489502 -0.859425  3.388582  1.489502 -0.859425   \n",
       "29675          0     0.0  1.489502 -0.859425  3.388582  1.489502 -0.859425   \n",
       "\n",
       "       var7(t)  \n",
       "6           20  \n",
       "7            3  \n",
       "8            0  \n",
       "9            0  \n",
       "10           0  \n",
       "...        ...  \n",
       "29671        0  \n",
       "29672        0  \n",
       "29673        0  \n",
       "29674        0  \n",
       "29675        0  \n",
       "\n",
       "[29670 rows x 49 columns]"
      ]
     },
     "execution_count": 453,
     "metadata": {},
     "output_type": "execute_result"
    }
   ],
   "source": [
    "reframed = series_to_supervised(working_df, 6, 1)\n",
    "reframed"
   ]
  },
  {
   "cell_type": "code",
   "execution_count": 454,
   "metadata": {},
   "outputs": [],
   "source": [
    "y_auxHeat = reframed['var7(t)']\n",
    "y_auxHeat = to_categorical(y_auxHeat)"
   ]
  },
  {
   "cell_type": "code",
   "execution_count": 455,
   "metadata": {},
   "outputs": [
    {
     "data": {
      "text/plain": [
       "array([[0., 0., 0., ..., 0., 0., 1.],\n",
       "       [0., 0., 0., ..., 0., 0., 0.],\n",
       "       [1., 0., 0., ..., 0., 0., 0.],\n",
       "       ...,\n",
       "       [1., 0., 0., ..., 0., 0., 0.],\n",
       "       [1., 0., 0., ..., 0., 0., 0.],\n",
       "       [1., 0., 0., ..., 0., 0., 0.]], dtype=float32)"
      ]
     },
     "execution_count": 455,
     "metadata": {},
     "output_type": "execute_result"
    }
   ],
   "source": [
    "y_auxHeat"
   ]
  },
  {
   "cell_type": "code",
   "execution_count": 456,
   "metadata": {},
   "outputs": [],
   "source": [
    "test = np.argmax(y_auxHeat, axis = 1)"
   ]
  },
  {
   "cell_type": "code",
   "execution_count": 457,
   "metadata": {},
   "outputs": [
    {
     "data": {
      "text/plain": [
       "array([[    0, 15207],\n",
       "       [    1,   382],\n",
       "       [    2,   391],\n",
       "       [    3,   409],\n",
       "       [    4,   398],\n",
       "       [    5,   389],\n",
       "       [    6,   374],\n",
       "       [    7,   387],\n",
       "       [    8,   377],\n",
       "       [    9,   404],\n",
       "       [   10,   385],\n",
       "       [   11,   392],\n",
       "       [   12,   360],\n",
       "       [   13,   360],\n",
       "       [   14,   394],\n",
       "       [   15,   388],\n",
       "       [   16,   410],\n",
       "       [   17,   420],\n",
       "       [   18,   425],\n",
       "       [   19,   369],\n",
       "       [   20,  7049]], dtype=int64)"
      ]
     },
     "execution_count": 457,
     "metadata": {},
     "output_type": "execute_result"
    }
   ],
   "source": [
    "(unique, counts) = np.unique(test, return_counts = True)\n",
    "frequencies = np.asarray((unique, counts)).T\n",
    "frequencies"
   ]
  },
  {
   "cell_type": "code",
   "execution_count": 458,
   "metadata": {},
   "outputs": [
    {
     "data": {
      "image/png": "[encoded data removed]",
      "text/plain": [
       "<Figure size 432x288 with 1 Axes>"
      ]
     },
     "metadata": {
      "needs_background": "light"
     },
     "output_type": "display_data"
    }
   ],
   "source": [
    "plt.hist(frequencies)\n",
    "plt.show()"
   ]
  },
  {
   "cell_type": "code",
   "execution_count": 459,
   "metadata": {},
   "outputs": [],
   "source": [
    "class_weight = class_weight.compute_class_weight('balanced', classes = np.unique(test), y = test)"
   ]
  },
  {
   "cell_type": "code",
   "execution_count": 460,
   "metadata": {},
   "outputs": [],
   "source": [
    "X = reframed.drop(labels = ['var7(t)'], axis = 1)"
   ]
  },
  {
   "cell_type": "code",
   "execution_count": 461,
   "metadata": {},
   "outputs": [],
   "source": [
    "X_train, X_test, y_train, y_test = train_test_split(X, y_auxHeat, test_size = 0.2, shuffle = True)"
   ]
  },
  {
   "cell_type": "code",
   "execution_count": 462,
   "metadata": {},
   "outputs": [],
   "source": [
    "# smote =RandomUnderSampler(sampling_strategy = 'all')\n",
    "# X_train, y_train = smote.fit_resample(X_train, y_train)\n",
    "# X_train, y_train"
   ]
  },
  {
   "cell_type": "code",
   "execution_count": 463,
   "metadata": {},
   "outputs": [],
   "source": [
    "test = np.argmax(y_train, axis = 1)"
   ]
  },
  {
   "cell_type": "code",
   "execution_count": 464,
   "metadata": {},
   "outputs": [],
   "source": [
    "(unique, counts) = np.unique(test, return_counts = True)\n",
    "frequencies = np.asarray((unique, counts)).T"
   ]
  },
  {
   "cell_type": "code",
   "execution_count": 465,
   "metadata": {},
   "outputs": [
    {
     "data": {
      "text/plain": [
       "((23736, 48), (5934, 48))"
      ]
     },
     "execution_count": 465,
     "metadata": {},
     "output_type": "execute_result"
    }
   ],
   "source": [
    "X_train.shape,X_test.shape"
   ]
  },
  {
   "cell_type": "code",
   "execution_count": 466,
   "metadata": {},
   "outputs": [],
   "source": [
    "X_train = X_train.values\n",
    "X_test = X_test.values"
   ]
  },
  {
   "cell_type": "code",
   "execution_count": 467,
   "metadata": {},
   "outputs": [],
   "source": [
    "X_train = X_train.astype(float)\n",
    "X_test = X_test.astype(float)"
   ]
  },
  {
   "cell_type": "code",
   "execution_count": 468,
   "metadata": {},
   "outputs": [
    {
     "name": "stdout",
     "output_type": "stream",
     "text": [
      "Epoch 1/50\n",
      "371/371 [==============================] - 2s 4ms/step - loss: 1.3728 - accuracy: 0.7021 - val_loss: 1.0380 - val_accuracy: 0.7383\n",
      "Epoch 2/50\n",
      "371/371 [==============================] - 1s 2ms/step - loss: 0.9675 - accuracy: 0.7462 - val_loss: 0.9510 - val_accuracy: 0.7422\n",
      "Epoch 3/50\n",
      "371/371 [==============================] - 1s 2ms/step - loss: 0.9053 - accuracy: 0.7498 - val_loss: 0.9041 - val_accuracy: 0.7459\n",
      "Epoch 4/50\n",
      "371/371 [==============================] - 1s 2ms/step - loss: 0.8710 - accuracy: 0.7529 - val_loss: 0.8849 - val_accuracy: 0.7481\n",
      "Epoch 5/50\n",
      "371/371 [==============================] - 1s 2ms/step - loss: 0.8498 - accuracy: 0.7543 - val_loss: 0.8689 - val_accuracy: 0.7492\n",
      "Epoch 6/50\n",
      "371/371 [==============================] - 1s 2ms/step - loss: 0.8387 - accuracy: 0.7549 - val_loss: 0.8574 - val_accuracy: 0.7509\n",
      "Epoch 7/50\n",
      "371/371 [==============================] - 1s 2ms/step - loss: 0.8290 - accuracy: 0.7558 - val_loss: 0.8481 - val_accuracy: 0.7496\n",
      "Epoch 8/50\n",
      "371/371 [==============================] - 1s 1ms/step - loss: 0.8207 - accuracy: 0.7556 - val_loss: 0.8416 - val_accuracy: 0.7504\n",
      "Epoch 9/50\n",
      "371/371 [==============================] - 1s 2ms/step - loss: 0.8159 - accuracy: 0.7567 - val_loss: 0.8418 - val_accuracy: 0.7497\n",
      "Epoch 10/50\n",
      "371/371 [==============================] - 1s 1ms/step - loss: 0.8122 - accuracy: 0.7571 - val_loss: 0.8327 - val_accuracy: 0.7508\n",
      "Epoch 11/50\n",
      "371/371 [==============================] - 1s 2ms/step - loss: 0.8081 - accuracy: 0.7579 - val_loss: 0.8566 - val_accuracy: 0.7482\n",
      "Epoch 12/50\n",
      "371/371 [==============================] - 1s 2ms/step - loss: 0.8044 - accuracy: 0.7572 - val_loss: 0.8360 - val_accuracy: 0.7499\n",
      "Epoch 13/50\n",
      "371/371 [==============================] - 1s 2ms/step - loss: 0.8034 - accuracy: 0.7581 - val_loss: 0.8327 - val_accuracy: 0.7528\n",
      "Epoch 14/50\n",
      "371/371 [==============================] - 1s 2ms/step - loss: 0.7985 - accuracy: 0.7571 - val_loss: 0.8394 - val_accuracy: 0.7508\n",
      "Epoch 15/50\n",
      "371/371 [==============================] - 1s 3ms/step - loss: 0.7954 - accuracy: 0.7577 - val_loss: 0.8264 - val_accuracy: 0.7528\n",
      "Epoch 16/50\n",
      "371/371 [==============================] - 1s 2ms/step - loss: 0.7943 - accuracy: 0.7582 - val_loss: 0.8242 - val_accuracy: 0.7545\n",
      "Epoch 17/50\n",
      "371/371 [==============================] - 1s 2ms/step - loss: 0.7931 - accuracy: 0.7580 - val_loss: 0.8173 - val_accuracy: 0.7526\n",
      "Epoch 18/50\n",
      "371/371 [==============================] - 1s 2ms/step - loss: 0.7926 - accuracy: 0.7576 - val_loss: 0.8218 - val_accuracy: 0.7548\n",
      "Epoch 19/50\n",
      "371/371 [==============================] - 1s 2ms/step - loss: 0.7875 - accuracy: 0.7586 - val_loss: 0.8163 - val_accuracy: 0.7511\n",
      "Epoch 20/50\n",
      "371/371 [==============================] - 1s 2ms/step - loss: 0.7871 - accuracy: 0.7586 - val_loss: 0.8165 - val_accuracy: 0.7516\n",
      "Epoch 21/50\n",
      "371/371 [==============================] - 1s 2ms/step - loss: 0.7867 - accuracy: 0.7587 - val_loss: 0.8144 - val_accuracy: 0.7543\n",
      "Epoch 22/50\n",
      "371/371 [==============================] - 1s 3ms/step - loss: 0.7857 - accuracy: 0.7590 - val_loss: 0.8137 - val_accuracy: 0.7553\n",
      "Epoch 23/50\n",
      "371/371 [==============================] - 1s 2ms/step - loss: 0.7823 - accuracy: 0.7601 - val_loss: 0.8132 - val_accuracy: 0.7546\n",
      "Epoch 24/50\n",
      "371/371 [==============================] - 1s 3ms/step - loss: 0.7801 - accuracy: 0.7594 - val_loss: 0.8147 - val_accuracy: 0.7529\n",
      "Epoch 25/50\n",
      "371/371 [==============================] - 1s 2ms/step - loss: 0.7794 - accuracy: 0.7599 - val_loss: 0.8129 - val_accuracy: 0.7558\n",
      "Epoch 26/50\n",
      "371/371 [==============================] - 1s 2ms/step - loss: 0.7788 - accuracy: 0.7607 - val_loss: 0.8116 - val_accuracy: 0.7529\n",
      "Epoch 27/50\n",
      "371/371 [==============================] - 1s 3ms/step - loss: 0.7786 - accuracy: 0.7589 - val_loss: 0.8071 - val_accuracy: 0.7546\n",
      "Epoch 28/50\n",
      "371/371 [==============================] - 1s 4ms/step - loss: 0.7768 - accuracy: 0.7594 - val_loss: 0.8049 - val_accuracy: 0.7526\n",
      "Epoch 29/50\n",
      "371/371 [==============================] - 1s 2ms/step - loss: 0.7760 - accuracy: 0.7598 - val_loss: 0.8180 - val_accuracy: 0.7541\n",
      "Epoch 30/50\n",
      "371/371 [==============================] - 1s 2ms/step - loss: 0.7749 - accuracy: 0.7596 - val_loss: 0.8299 - val_accuracy: 0.7518\n",
      "Epoch 31/50\n",
      "371/371 [==============================] - 1s 2ms/step - loss: 0.7739 - accuracy: 0.7603 - val_loss: 0.8045 - val_accuracy: 0.7558\n",
      "Epoch 32/50\n",
      "371/371 [==============================] - 1s 2ms/step - loss: 0.7718 - accuracy: 0.7614 - val_loss: 0.8052 - val_accuracy: 0.7535\n",
      "Epoch 33/50\n",
      "371/371 [==============================] - 1s 2ms/step - loss: 0.7711 - accuracy: 0.7606 - val_loss: 0.8073 - val_accuracy: 0.7565\n",
      "Epoch 34/50\n",
      "371/371 [==============================] - 1s 2ms/step - loss: 0.7700 - accuracy: 0.7602 - val_loss: 0.8108 - val_accuracy: 0.7556\n",
      "Epoch 35/50\n",
      "371/371 [==============================] - 1s 2ms/step - loss: 0.7702 - accuracy: 0.7608 - val_loss: 0.8056 - val_accuracy: 0.7528\n",
      "Epoch 36/50\n",
      "371/371 [==============================] - 1s 2ms/step - loss: 0.7709 - accuracy: 0.7617 - val_loss: 0.8059 - val_accuracy: 0.7524\n",
      "Epoch 37/50\n",
      "371/371 [==============================] - 1s 2ms/step - loss: 0.7706 - accuracy: 0.7616 - val_loss: 0.8016 - val_accuracy: 0.7540\n",
      "Epoch 38/50\n",
      "371/371 [==============================] - 1s 3ms/step - loss: 0.7687 - accuracy: 0.7615 - val_loss: 0.8035 - val_accuracy: 0.7553\n",
      "Epoch 39/50\n",
      "371/371 [==============================] - 1s 3ms/step - loss: 0.7681 - accuracy: 0.7607 - val_loss: 0.8040 - val_accuracy: 0.7545\n",
      "Epoch 40/50\n",
      "371/371 [==============================] - 1s 3ms/step - loss: 0.7683 - accuracy: 0.7607 - val_loss: 0.8048 - val_accuracy: 0.7565\n",
      "Epoch 41/50\n",
      "371/371 [==============================] - 1s 2ms/step - loss: 0.7671 - accuracy: 0.7626 - val_loss: 0.8052 - val_accuracy: 0.7551\n",
      "Epoch 42/50\n",
      "371/371 [==============================] - 1s 2ms/step - loss: 0.7652 - accuracy: 0.7608 - val_loss: 0.8149 - val_accuracy: 0.7524\n",
      "Epoch 43/50\n",
      "371/371 [==============================] - 1s 2ms/step - loss: 0.7649 - accuracy: 0.7636 - val_loss: 0.8035 - val_accuracy: 0.7562\n",
      "Epoch 44/50\n",
      "371/371 [==============================] - 1s 2ms/step - loss: 0.7655 - accuracy: 0.7628 - val_loss: 0.8128 - val_accuracy: 0.7529\n",
      "Epoch 45/50\n",
      "371/371 [==============================] - 1s 2ms/step - loss: 0.7630 - accuracy: 0.7632 - val_loss: 0.8037 - val_accuracy: 0.7553\n",
      "Epoch 46/50\n",
      "371/371 [==============================] - 1s 2ms/step - loss: 0.7640 - accuracy: 0.7627 - val_loss: 0.8032 - val_accuracy: 0.7562\n",
      "Epoch 47/50\n",
      "371/371 [==============================] - 1s 2ms/step - loss: 0.7608 - accuracy: 0.7626 - val_loss: 0.8027 - val_accuracy: 0.7573\n",
      "Epoch 48/50\n",
      "371/371 [==============================] - 1s 2ms/step - loss: 0.7613 - accuracy: 0.7616 - val_loss: 0.8016 - val_accuracy: 0.7568\n",
      "Epoch 49/50\n",
      "371/371 [==============================] - 1s 2ms/step - loss: 0.7610 - accuracy: 0.7629 - val_loss: 0.7999 - val_accuracy: 0.7538\n",
      "Epoch 50/50\n",
      "371/371 [==============================] - 1s 2ms/step - loss: 0.7598 - accuracy: 0.7629 - val_loss: 0.8134 - val_accuracy: 0.7550\n"
     ]
    }
   ],
   "source": [
    "classifier = Sequential()\n",
    "\n",
    "# Adding the input layer and the first hidden layer\n",
    "classifier.add(Dense(units = 24, kernel_initializer = 'uniform', activation = 'relu', input_dim = 48))\n",
    "\n",
    "# Adding the second hidden layer\n",
    "classifier.add(Dense(units = 24, kernel_initializer = 'uniform', activation = 'relu'))\n",
    "\n",
    "# Adding the output layer\n",
    "classifier.add(Dense(units = 21, kernel_initializer = 'uniform', activation = 'softmax'))\n",
    "\n",
    "# Compiling the ANN\n",
    "classifier.compile(optimizer = 'adam', loss = 'categorical_crossentropy', metrics = ['accuracy']) \n",
    "\n",
    "# Fitting the ANN to the Training set\n",
    "history = classifier.fit(X_train, y_train, validation_data = (X_test, y_test), batch_size = 64, epochs = 50, shuffle = True)"
   ]
  },
  {
   "cell_type": "code",
   "execution_count": 469,
   "metadata": {},
   "outputs": [
    {
     "name": "stdout",
     "output_type": "stream",
     "text": [
      "Model: \"sequential_225\"\n",
      "_________________________________________________________________\n",
      "Layer (type)                 Output Shape              Param #   \n",
      "=================================================================\n",
      "dense_675 (Dense)            (None, 24)                1176      \n",
      "_________________________________________________________________\n",
      "dense_676 (Dense)            (None, 24)                600       \n",
      "_________________________________________________________________\n",
      "dense_677 (Dense)            (None, 21)                525       \n",
      "=================================================================\n",
      "Total params: 2,301\n",
      "Trainable params: 2,301\n",
      "Non-trainable params: 0\n",
      "_________________________________________________________________\n"
     ]
    }
   ],
   "source": [
    "classifier.summary()"
   ]
  },
  {
   "cell_type": "code",
   "execution_count": 470,
   "metadata": {},
   "outputs": [
    {
     "data": {
      "image/png": "[encoded data removed]",
      "text/plain": [
       "<Figure size 432x288 with 1 Axes>"
      ]
     },
     "metadata": {
      "needs_background": "light"
     },
     "output_type": "display_data"
    }
   ],
   "source": [
    "plt.plot(history.history['loss'], label = 'train')\n",
    "plt.plot(history.history['val_loss'], label = 'test')\n",
    "plt.legend()\n",
    "plt.savefig(\"8.png\")\n",
    "plt.show()"
   ]
  },
  {
   "cell_type": "code",
   "execution_count": 471,
   "metadata": {},
   "outputs": [
    {
     "data": {
      "image/png": "[encoded data removed]",
      "text/plain": [
       "<Figure size 432x288 with 1 Axes>"
      ]
     },
     "metadata": {
      "needs_background": "light"
     },
     "output_type": "display_data"
    }
   ],
   "source": [
    "plt.plot(history.history['accuracy'], label = 'train')\n",
    "plt.plot(history.history['val_accuracy'], label = 'test')\n",
    "plt.legend()\n",
    "plt.savefig(\"9.png\")\n",
    "plt.show()"
   ]
  },
  {
   "cell_type": "code",
   "execution_count": 472,
   "metadata": {},
   "outputs": [],
   "source": [
    "y_predicted = classifier.predict(X_test)"
   ]
  },
  {
   "cell_type": "code",
   "execution_count": 473,
   "metadata": {},
   "outputs": [
    {
     "data": {
      "text/plain": [
       "array([ 0, 15,  9, ...,  7,  0,  0], dtype=int64)"
      ]
     },
     "execution_count": 473,
     "metadata": {},
     "output_type": "execute_result"
    }
   ],
   "source": [
    "y_predicted = np.argmax(y_predicted, axis = 1)\n",
    "y_predicted"
   ]
  },
  {
   "cell_type": "code",
   "execution_count": 474,
   "metadata": {},
   "outputs": [],
   "source": [
    "y_test = np.argmax(y_test, axis = 1)"
   ]
  },
  {
   "cell_type": "code",
   "execution_count": 475,
   "metadata": {},
   "outputs": [],
   "source": [
    "test_sum = 0\n",
    "for i in range(len(y_test)):\n",
    "    test_sum += (y_test[i] * 15)"
   ]
  },
  {
   "cell_type": "code",
   "execution_count": 476,
   "metadata": {},
   "outputs": [
    {
     "data": {
      "text/plain": [
       "658965"
      ]
     },
     "execution_count": 476,
     "metadata": {},
     "output_type": "execute_result"
    }
   ],
   "source": [
    "test_sum"
   ]
  },
  {
   "cell_type": "code",
   "execution_count": 477,
   "metadata": {},
   "outputs": [],
   "source": [
    "predicted_sum = 0\n",
    "for i in range(len(y_predicted)):\n",
    "    predicted_sum += (y_predicted[i] * 15)"
   ]
  },
  {
   "cell_type": "code",
   "execution_count": 478,
   "metadata": {},
   "outputs": [
    {
     "data": {
      "text/plain": [
       "664050"
      ]
     },
     "execution_count": 478,
     "metadata": {},
     "output_type": "execute_result"
    }
   ],
   "source": [
    "predicted_sum"
   ]
  },
  {
   "cell_type": "code",
   "execution_count": 479,
   "metadata": {},
   "outputs": [
    {
     "name": "stdout",
     "output_type": "stream",
     "text": [
      "Error Percentage in predicted values is : 0.7716646559377205 %\n"
     ]
    }
   ],
   "source": [
    "print(\"Error Percentage in predicted values is : {} %\".format(np.absolute((predicted_sum - test_sum)/test_sum)*100))"
   ]
  },
  {
   "cell_type": "code",
   "execution_count": 480,
   "metadata": {},
   "outputs": [],
   "source": [
    "from sklearn.metrics import mean_absolute_error,f1_score,accuracy_score"
   ]
  },
  {
   "cell_type": "code",
   "execution_count": 481,
   "metadata": {},
   "outputs": [],
   "source": [
    "y_train_predicted = classifier.predict(X_train)\n",
    "y_train_predicted = np.argmax(y_train_predicted, axis = 1)\n",
    "y_train = np.argmax(y_train, axis = 1)"
   ]
  },
  {
   "cell_type": "code",
   "execution_count": 482,
   "metadata": {},
   "outputs": [
    {
     "data": {
      "text/plain": [
       "0.7293476980033778"
      ]
     },
     "execution_count": 482,
     "metadata": {},
     "output_type": "execute_result"
    }
   ],
   "source": [
    "f1_score(y_train, y_train_predicted, average = 'weighted')"
   ]
  },
  {
   "cell_type": "code",
   "execution_count": 483,
   "metadata": {},
   "outputs": [
    {
     "data": {
      "text/plain": [
       "0.762891809908999"
      ]
     },
     "execution_count": 483,
     "metadata": {},
     "output_type": "execute_result"
    }
   ],
   "source": [
    "accuracy_score(y_train, y_train_predicted)"
   ]
  },
  {
   "cell_type": "code",
   "execution_count": 484,
   "metadata": {},
   "outputs": [
    {
     "data": {
      "text/plain": [
       "1.0218233906302663"
      ]
     },
     "execution_count": 484,
     "metadata": {},
     "output_type": "execute_result"
    }
   ],
   "source": [
    "mean_absolute_error(y_train, y_train_predicted)"
   ]
  },
  {
   "cell_type": "code",
   "execution_count": 485,
   "metadata": {},
   "outputs": [
    {
     "data": {
      "text/plain": [
       "1.0389282103134478"
      ]
     },
     "execution_count": 485,
     "metadata": {},
     "output_type": "execute_result"
    }
   ],
   "source": [
    "mean_absolute_error(y_test, y_predicted)"
   ]
  },
  {
   "cell_type": "code",
   "execution_count": 486,
   "metadata": {},
   "outputs": [
    {
     "data": {
      "text/plain": [
       "0.7549713515335356"
      ]
     },
     "execution_count": 486,
     "metadata": {},
     "output_type": "execute_result"
    }
   ],
   "source": [
    "accuracy_score(y_test, y_predicted)"
   ]
  },
  {
   "cell_type": "code",
   "execution_count": 487,
   "metadata": {},
   "outputs": [
    {
     "data": {
      "text/plain": [
       "0.7217813710487606"
      ]
     },
     "execution_count": 487,
     "metadata": {},
     "output_type": "execute_result"
    }
   ],
   "source": [
    "f1_score(y_test, y_predicted, average = 'weighted')"
   ]
  },
  {
   "cell_type": "code",
   "execution_count": 488,
   "metadata": {},
   "outputs": [
    {
     "data": {
      "text/html": [
       "<div>\n",
       "<style scoped>\n",
       "    .dataframe tbody tr th:only-of-type {\n",
       "        vertical-align: middle;\n",
       "    }\n",
       "\n",
       "    .dataframe tbody tr th {\n",
       "        vertical-align: top;\n",
       "    }\n",
       "\n",
       "    .dataframe thead th {\n",
       "        text-align: right;\n",
       "    }\n",
       "</style>\n",
       "<table border=\"1\" class=\"dataframe\">\n",
       "  <thead>\n",
       "    <tr style=\"text-align: right;\">\n",
       "      <th></th>\n",
       "      <th>var1(t-12)</th>\n",
       "      <th>var2(t-12)</th>\n",
       "      <th>var3(t-12)</th>\n",
       "      <th>var4(t-12)</th>\n",
       "      <th>var5(t-12)</th>\n",
       "      <th>var6(t-12)</th>\n",
       "      <th>var7(t-12)</th>\n",
       "      <th>var1(t-11)</th>\n",
       "      <th>var2(t-11)</th>\n",
       "      <th>var3(t-11)</th>\n",
       "      <th>...</th>\n",
       "      <th>var5(t-1)</th>\n",
       "      <th>var6(t-1)</th>\n",
       "      <th>var7(t-1)</th>\n",
       "      <th>var1(t)</th>\n",
       "      <th>var2(t)</th>\n",
       "      <th>var3(t)</th>\n",
       "      <th>var4(t)</th>\n",
       "      <th>var5(t)</th>\n",
       "      <th>var6(t)</th>\n",
       "      <th>var7(t)</th>\n",
       "    </tr>\n",
       "  </thead>\n",
       "  <tbody>\n",
       "    <tr>\n",
       "      <th>12</th>\n",
       "      <td>0.0</td>\n",
       "      <td>2.632689</td>\n",
       "      <td>1.422976</td>\n",
       "      <td>1.387394</td>\n",
       "      <td>2.632689</td>\n",
       "      <td>1.422976</td>\n",
       "      <td>0</td>\n",
       "      <td>0.0</td>\n",
       "      <td>1.489502</td>\n",
       "      <td>1.930176</td>\n",
       "      <td>...</td>\n",
       "      <td>0.346315</td>\n",
       "      <td>2.183776</td>\n",
       "      <td>0</td>\n",
       "      <td>0.0</td>\n",
       "      <td>-0.225278</td>\n",
       "      <td>2.183776</td>\n",
       "      <td>1.462204</td>\n",
       "      <td>-0.225278</td>\n",
       "      <td>2.183776</td>\n",
       "      <td>0</td>\n",
       "    </tr>\n",
       "    <tr>\n",
       "      <th>13</th>\n",
       "      <td>0.0</td>\n",
       "      <td>1.489502</td>\n",
       "      <td>1.930176</td>\n",
       "      <td>1.387394</td>\n",
       "      <td>1.489502</td>\n",
       "      <td>1.930176</td>\n",
       "      <td>0</td>\n",
       "      <td>0.0</td>\n",
       "      <td>0.346315</td>\n",
       "      <td>1.930176</td>\n",
       "      <td>...</td>\n",
       "      <td>-0.225278</td>\n",
       "      <td>2.183776</td>\n",
       "      <td>0</td>\n",
       "      <td>0.0</td>\n",
       "      <td>-0.225278</td>\n",
       "      <td>2.183776</td>\n",
       "      <td>1.462204</td>\n",
       "      <td>-0.225278</td>\n",
       "      <td>2.183776</td>\n",
       "      <td>0</td>\n",
       "    </tr>\n",
       "    <tr>\n",
       "      <th>14</th>\n",
       "      <td>0.0</td>\n",
       "      <td>0.346315</td>\n",
       "      <td>1.930176</td>\n",
       "      <td>1.424799</td>\n",
       "      <td>0.346315</td>\n",
       "      <td>1.930176</td>\n",
       "      <td>0</td>\n",
       "      <td>0.0</td>\n",
       "      <td>-0.796872</td>\n",
       "      <td>2.183776</td>\n",
       "      <td>...</td>\n",
       "      <td>-0.225278</td>\n",
       "      <td>2.183776</td>\n",
       "      <td>0</td>\n",
       "      <td>0.0</td>\n",
       "      <td>-0.796872</td>\n",
       "      <td>2.183776</td>\n",
       "      <td>1.443502</td>\n",
       "      <td>-0.796872</td>\n",
       "      <td>2.183776</td>\n",
       "      <td>17</td>\n",
       "    </tr>\n",
       "    <tr>\n",
       "      <th>15</th>\n",
       "      <td>0.0</td>\n",
       "      <td>-0.796872</td>\n",
       "      <td>2.183776</td>\n",
       "      <td>1.424799</td>\n",
       "      <td>-0.796872</td>\n",
       "      <td>2.183776</td>\n",
       "      <td>9</td>\n",
       "      <td>0.0</td>\n",
       "      <td>-1.368465</td>\n",
       "      <td>2.183776</td>\n",
       "      <td>...</td>\n",
       "      <td>-0.796872</td>\n",
       "      <td>2.183776</td>\n",
       "      <td>17</td>\n",
       "      <td>0.0</td>\n",
       "      <td>-0.796872</td>\n",
       "      <td>2.183776</td>\n",
       "      <td>1.443502</td>\n",
       "      <td>-0.796872</td>\n",
       "      <td>2.183776</td>\n",
       "      <td>20</td>\n",
       "    </tr>\n",
       "    <tr>\n",
       "      <th>16</th>\n",
       "      <td>0.0</td>\n",
       "      <td>-1.368465</td>\n",
       "      <td>2.183776</td>\n",
       "      <td>1.424799</td>\n",
       "      <td>-1.368465</td>\n",
       "      <td>2.183776</td>\n",
       "      <td>20</td>\n",
       "      <td>0.0</td>\n",
       "      <td>-0.796872</td>\n",
       "      <td>2.183776</td>\n",
       "      <td>...</td>\n",
       "      <td>-0.796872</td>\n",
       "      <td>2.183776</td>\n",
       "      <td>20</td>\n",
       "      <td>0.0</td>\n",
       "      <td>0.346315</td>\n",
       "      <td>2.183776</td>\n",
       "      <td>1.443502</td>\n",
       "      <td>0.346315</td>\n",
       "      <td>2.183776</td>\n",
       "      <td>6</td>\n",
       "    </tr>\n",
       "    <tr>\n",
       "      <th>...</th>\n",
       "      <td>...</td>\n",
       "      <td>...</td>\n",
       "      <td>...</td>\n",
       "      <td>...</td>\n",
       "      <td>...</td>\n",
       "      <td>...</td>\n",
       "      <td>...</td>\n",
       "      <td>...</td>\n",
       "      <td>...</td>\n",
       "      <td>...</td>\n",
       "      <td>...</td>\n",
       "      <td>...</td>\n",
       "      <td>...</td>\n",
       "      <td>...</td>\n",
       "      <td>...</td>\n",
       "      <td>...</td>\n",
       "      <td>...</td>\n",
       "      <td>...</td>\n",
       "      <td>...</td>\n",
       "      <td>...</td>\n",
       "      <td>...</td>\n",
       "    </tr>\n",
       "    <tr>\n",
       "      <th>29671</th>\n",
       "      <td>0.0</td>\n",
       "      <td>3.204282</td>\n",
       "      <td>-0.098625</td>\n",
       "      <td>3.145447</td>\n",
       "      <td>3.204282</td>\n",
       "      <td>-0.098625</td>\n",
       "      <td>0</td>\n",
       "      <td>0.0</td>\n",
       "      <td>3.204282</td>\n",
       "      <td>-0.098625</td>\n",
       "      <td>...</td>\n",
       "      <td>2.061095</td>\n",
       "      <td>-0.859425</td>\n",
       "      <td>0</td>\n",
       "      <td>0.0</td>\n",
       "      <td>2.061095</td>\n",
       "      <td>-0.859425</td>\n",
       "      <td>3.295068</td>\n",
       "      <td>2.061095</td>\n",
       "      <td>-0.859425</td>\n",
       "      <td>0</td>\n",
       "    </tr>\n",
       "    <tr>\n",
       "      <th>29672</th>\n",
       "      <td>0.0</td>\n",
       "      <td>3.204282</td>\n",
       "      <td>-0.098625</td>\n",
       "      <td>3.238960</td>\n",
       "      <td>3.204282</td>\n",
       "      <td>-0.098625</td>\n",
       "      <td>0</td>\n",
       "      <td>0.0</td>\n",
       "      <td>3.204282</td>\n",
       "      <td>-0.098625</td>\n",
       "      <td>...</td>\n",
       "      <td>2.061095</td>\n",
       "      <td>-0.859425</td>\n",
       "      <td>0</td>\n",
       "      <td>0.0</td>\n",
       "      <td>1.489502</td>\n",
       "      <td>-0.859425</td>\n",
       "      <td>3.388582</td>\n",
       "      <td>1.489502</td>\n",
       "      <td>-0.859425</td>\n",
       "      <td>0</td>\n",
       "    </tr>\n",
       "    <tr>\n",
       "      <th>29673</th>\n",
       "      <td>0.0</td>\n",
       "      <td>3.204282</td>\n",
       "      <td>-0.098625</td>\n",
       "      <td>3.238960</td>\n",
       "      <td>3.204282</td>\n",
       "      <td>-0.098625</td>\n",
       "      <td>0</td>\n",
       "      <td>0.0</td>\n",
       "      <td>3.204282</td>\n",
       "      <td>-0.098625</td>\n",
       "      <td>...</td>\n",
       "      <td>1.489502</td>\n",
       "      <td>-0.859425</td>\n",
       "      <td>0</td>\n",
       "      <td>0.0</td>\n",
       "      <td>1.489502</td>\n",
       "      <td>-0.859425</td>\n",
       "      <td>3.388582</td>\n",
       "      <td>1.489502</td>\n",
       "      <td>-0.859425</td>\n",
       "      <td>0</td>\n",
       "    </tr>\n",
       "    <tr>\n",
       "      <th>29674</th>\n",
       "      <td>0.0</td>\n",
       "      <td>3.204282</td>\n",
       "      <td>-0.098625</td>\n",
       "      <td>3.238960</td>\n",
       "      <td>3.204282</td>\n",
       "      <td>-0.098625</td>\n",
       "      <td>0</td>\n",
       "      <td>0.0</td>\n",
       "      <td>3.204282</td>\n",
       "      <td>-0.098625</td>\n",
       "      <td>...</td>\n",
       "      <td>1.489502</td>\n",
       "      <td>-0.859425</td>\n",
       "      <td>0</td>\n",
       "      <td>0.0</td>\n",
       "      <td>1.489502</td>\n",
       "      <td>-0.859425</td>\n",
       "      <td>3.388582</td>\n",
       "      <td>1.489502</td>\n",
       "      <td>-0.859425</td>\n",
       "      <td>0</td>\n",
       "    </tr>\n",
       "    <tr>\n",
       "      <th>29675</th>\n",
       "      <td>0.0</td>\n",
       "      <td>3.204282</td>\n",
       "      <td>-0.098625</td>\n",
       "      <td>3.238960</td>\n",
       "      <td>3.204282</td>\n",
       "      <td>-0.098625</td>\n",
       "      <td>0</td>\n",
       "      <td>0.0</td>\n",
       "      <td>3.204282</td>\n",
       "      <td>-0.098625</td>\n",
       "      <td>...</td>\n",
       "      <td>1.489502</td>\n",
       "      <td>-0.859425</td>\n",
       "      <td>0</td>\n",
       "      <td>0.0</td>\n",
       "      <td>1.489502</td>\n",
       "      <td>-0.859425</td>\n",
       "      <td>3.388582</td>\n",
       "      <td>1.489502</td>\n",
       "      <td>-0.859425</td>\n",
       "      <td>0</td>\n",
       "    </tr>\n",
       "  </tbody>\n",
       "</table>\n",
       "<p>29664 rows × 91 columns</p>\n",
       "</div>"
      ],
      "text/plain": [
       "       var1(t-12)  var2(t-12)  var3(t-12)  var4(t-12)  var5(t-12)  var6(t-12)  \\\n",
       "12            0.0    2.632689    1.422976    1.387394    2.632689    1.422976   \n",
       "13            0.0    1.489502    1.930176    1.387394    1.489502    1.930176   \n",
       "14            0.0    0.346315    1.930176    1.424799    0.346315    1.930176   \n",
       "15            0.0   -0.796872    2.183776    1.424799   -0.796872    2.183776   \n",
       "16            0.0   -1.368465    2.183776    1.424799   -1.368465    2.183776   \n",
       "...           ...         ...         ...         ...         ...         ...   \n",
       "29671         0.0    3.204282   -0.098625    3.145447    3.204282   -0.098625   \n",
       "29672         0.0    3.204282   -0.098625    3.238960    3.204282   -0.098625   \n",
       "29673         0.0    3.204282   -0.098625    3.238960    3.204282   -0.098625   \n",
       "29674         0.0    3.204282   -0.098625    3.238960    3.204282   -0.098625   \n",
       "29675         0.0    3.204282   -0.098625    3.238960    3.204282   -0.098625   \n",
       "\n",
       "      var7(t-12)  var1(t-11)  var2(t-11)  var3(t-11)  ...  var5(t-1)  \\\n",
       "12             0         0.0    1.489502    1.930176  ...   0.346315   \n",
       "13             0         0.0    0.346315    1.930176  ...  -0.225278   \n",
       "14             0         0.0   -0.796872    2.183776  ...  -0.225278   \n",
       "15             9         0.0   -1.368465    2.183776  ...  -0.796872   \n",
       "16            20         0.0   -0.796872    2.183776  ...  -0.796872   \n",
       "...          ...         ...         ...         ...  ...        ...   \n",
       "29671          0         0.0    3.204282   -0.098625  ...   2.061095   \n",
       "29672          0         0.0    3.204282   -0.098625  ...   2.061095   \n",
       "29673          0         0.0    3.204282   -0.098625  ...   1.489502   \n",
       "29674          0         0.0    3.204282   -0.098625  ...   1.489502   \n",
       "29675          0         0.0    3.204282   -0.098625  ...   1.489502   \n",
       "\n",
       "       var6(t-1)  var7(t-1) var1(t)   var2(t)   var3(t)   var4(t)   var5(t)  \\\n",
       "12      2.183776          0     0.0 -0.225278  2.183776  1.462204 -0.225278   \n",
       "13      2.183776          0     0.0 -0.225278  2.183776  1.462204 -0.225278   \n",
       "14      2.183776          0     0.0 -0.796872  2.183776  1.443502 -0.796872   \n",
       "15      2.183776         17     0.0 -0.796872  2.183776  1.443502 -0.796872   \n",
       "16      2.183776         20     0.0  0.346315  2.183776  1.443502  0.346315   \n",
       "...          ...        ...     ...       ...       ...       ...       ...   \n",
       "29671  -0.859425          0     0.0  2.061095 -0.859425  3.295068  2.061095   \n",
       "29672  -0.859425          0     0.0  1.489502 -0.859425  3.388582  1.489502   \n",
       "29673  -0.859425          0     0.0  1.489502 -0.859425  3.388582  1.489502   \n",
       "29674  -0.859425          0     0.0  1.489502 -0.859425  3.388582  1.489502   \n",
       "29675  -0.859425          0     0.0  1.489502 -0.859425  3.388582  1.489502   \n",
       "\n",
       "        var6(t)  var7(t)  \n",
       "12     2.183776        0  \n",
       "13     2.183776        0  \n",
       "14     2.183776       17  \n",
       "15     2.183776       20  \n",
       "16     2.183776        6  \n",
       "...         ...      ...  \n",
       "29671 -0.859425        0  \n",
       "29672 -0.859425        0  \n",
       "29673 -0.859425        0  \n",
       "29674 -0.859425        0  \n",
       "29675 -0.859425        0  \n",
       "\n",
       "[29664 rows x 91 columns]"
      ]
     },
     "execution_count": 488,
     "metadata": {},
     "output_type": "execute_result"
    }
   ],
   "source": [
    "reframed_2 = series_to_supervised(working_df, 12, 1)\n",
    "reframed_2"
   ]
  },
  {
   "cell_type": "code",
   "execution_count": 489,
   "metadata": {},
   "outputs": [
    {
     "data": {
      "text/plain": [
       "(29670, 48)"
      ]
     },
     "execution_count": 489,
     "metadata": {},
     "output_type": "execute_result"
    }
   ],
   "source": [
    "y_auxHeat = reframed_2['var7(t)']\n",
    "y_auxHeat = to_categorical(y_auxHeat)\n",
    "X.shape"
   ]
  },
  {
   "cell_type": "code",
   "execution_count": 490,
   "metadata": {},
   "outputs": [],
   "source": [
    "X = reframed_2.drop(labels = ['var7(t)'], axis = 1)\n",
    "X_train, X_test, y_train, y_test = train_test_split(X, y_auxHeat, test_size = 0.2, shuffle = True)"
   ]
  },
  {
   "cell_type": "code",
   "execution_count": 491,
   "metadata": {},
   "outputs": [
    {
     "data": {
      "text/plain": [
       "(23731, 90)"
      ]
     },
     "execution_count": 491,
     "metadata": {},
     "output_type": "execute_result"
    }
   ],
   "source": [
    "X_train = X_train.astype(float)\n",
    "X_test = X_test.astype(float)\n",
    "X_train.shape"
   ]
  },
  {
   "cell_type": "code",
   "execution_count": 492,
   "metadata": {},
   "outputs": [
    {
     "name": "stdout",
     "output_type": "stream",
     "text": [
      "Epoch 1/50\n",
      "371/371 [==============================] - 2s 3ms/step - loss: 1.4048 - accuracy: 0.6597 - val_loss: 1.0490 - val_accuracy: 0.7335\n",
      "Epoch 2/50\n",
      "371/371 [==============================] - 1s 2ms/step - loss: 0.9728 - accuracy: 0.7451 - val_loss: 0.9426 - val_accuracy: 0.7413\n",
      "Epoch 3/50\n",
      "371/371 [==============================] - 1s 2ms/step - loss: 0.9036 - accuracy: 0.7503 - val_loss: 0.9071 - val_accuracy: 0.7452\n",
      "Epoch 4/50\n",
      "371/371 [==============================] - 1s 2ms/step - loss: 0.8688 - accuracy: 0.7533 - val_loss: 0.8663 - val_accuracy: 0.7482\n",
      "Epoch 5/50\n",
      "371/371 [==============================] - 1s 2ms/step - loss: 0.8451 - accuracy: 0.7550 - val_loss: 0.8520 - val_accuracy: 0.7490\n",
      "Epoch 6/50\n",
      "371/371 [==============================] - 1s 2ms/step - loss: 0.8343 - accuracy: 0.7572 - val_loss: 0.8507 - val_accuracy: 0.7511\n",
      "Epoch 7/50\n",
      "371/371 [==============================] - 1s 2ms/step - loss: 0.8283 - accuracy: 0.7570 - val_loss: 0.8389 - val_accuracy: 0.7480\n",
      "Epoch 8/50\n",
      "371/371 [==============================] - 1s 2ms/step - loss: 0.8163 - accuracy: 0.7575 - val_loss: 0.8313 - val_accuracy: 0.7505\n",
      "Epoch 9/50\n",
      "371/371 [==============================] - 1s 2ms/step - loss: 0.8125 - accuracy: 0.7579 - val_loss: 0.8298 - val_accuracy: 0.7534\n",
      "Epoch 10/50\n",
      "371/371 [==============================] - 1s 2ms/step - loss: 0.8075 - accuracy: 0.7578 - val_loss: 0.8215 - val_accuracy: 0.7546\n",
      "Epoch 11/50\n",
      "371/371 [==============================] - 1s 2ms/step - loss: 0.8021 - accuracy: 0.7590 - val_loss: 0.8202 - val_accuracy: 0.7526\n",
      "Epoch 12/50\n",
      "371/371 [==============================] - 1s 2ms/step - loss: 0.7992 - accuracy: 0.7586 - val_loss: 0.8172 - val_accuracy: 0.7519\n",
      "Epoch 13/50\n",
      "371/371 [==============================] - 1s 2ms/step - loss: 0.7969 - accuracy: 0.7580 - val_loss: 0.8248 - val_accuracy: 0.7529\n",
      "Epoch 14/50\n",
      "371/371 [==============================] - 1s 2ms/step - loss: 0.7943 - accuracy: 0.7584 - val_loss: 0.8212 - val_accuracy: 0.7521\n",
      "Epoch 15/50\n",
      "371/371 [==============================] - 1s 2ms/step - loss: 0.7919 - accuracy: 0.7596 - val_loss: 0.8227 - val_accuracy: 0.7531\n",
      "Epoch 16/50\n",
      "371/371 [==============================] - 1s 2ms/step - loss: 0.7883 - accuracy: 0.7607 - val_loss: 0.8197 - val_accuracy: 0.7553\n",
      "Epoch 17/50\n",
      "371/371 [==============================] - 1s 2ms/step - loss: 0.7836 - accuracy: 0.7603 - val_loss: 0.8060 - val_accuracy: 0.7549\n",
      "Epoch 18/50\n",
      "371/371 [==============================] - 1s 2ms/step - loss: 0.7833 - accuracy: 0.7604 - val_loss: 0.8047 - val_accuracy: 0.7551\n",
      "Epoch 19/50\n",
      "371/371 [==============================] - 1s 2ms/step - loss: 0.7788 - accuracy: 0.7616 - val_loss: 0.8100 - val_accuracy: 0.7538\n",
      "Epoch 20/50\n",
      "371/371 [==============================] - 1s 2ms/step - loss: 0.7784 - accuracy: 0.7619 - val_loss: 0.8072 - val_accuracy: 0.7543\n",
      "Epoch 21/50\n",
      "371/371 [==============================] - 1s 2ms/step - loss: 0.7763 - accuracy: 0.7625 - val_loss: 0.8200 - val_accuracy: 0.7521\n",
      "Epoch 22/50\n",
      "371/371 [==============================] - 1s 2ms/step - loss: 0.7777 - accuracy: 0.7611 - val_loss: 0.7963 - val_accuracy: 0.7543\n",
      "Epoch 23/50\n",
      "371/371 [==============================] - 1s 2ms/step - loss: 0.7720 - accuracy: 0.7609 - val_loss: 0.7983 - val_accuracy: 0.7559\n",
      "Epoch 24/50\n",
      "371/371 [==============================] - 1s 2ms/step - loss: 0.7699 - accuracy: 0.7620 - val_loss: 0.8178 - val_accuracy: 0.7512\n",
      "Epoch 25/50\n",
      "371/371 [==============================] - 1s 2ms/step - loss: 0.7706 - accuracy: 0.7627 - val_loss: 0.7964 - val_accuracy: 0.7554\n",
      "Epoch 26/50\n",
      "371/371 [==============================] - 1s 2ms/step - loss: 0.7680 - accuracy: 0.7623 - val_loss: 0.7980 - val_accuracy: 0.7539\n",
      "Epoch 27/50\n",
      "371/371 [==============================] - 1s 2ms/step - loss: 0.7661 - accuracy: 0.7625 - val_loss: 0.7948 - val_accuracy: 0.7546\n",
      "Epoch 28/50\n",
      "371/371 [==============================] - 1s 2ms/step - loss: 0.7653 - accuracy: 0.7645 - val_loss: 0.7977 - val_accuracy: 0.7559\n",
      "Epoch 29/50\n",
      "371/371 [==============================] - 1s 2ms/step - loss: 0.7658 - accuracy: 0.7642 - val_loss: 0.7929 - val_accuracy: 0.7548\n",
      "Epoch 30/50\n",
      "371/371 [==============================] - 1s 2ms/step - loss: 0.7647 - accuracy: 0.7629 - val_loss: 0.8051 - val_accuracy: 0.7538\n",
      "Epoch 31/50\n",
      "371/371 [==============================] - 1s 2ms/step - loss: 0.7617 - accuracy: 0.7644 - val_loss: 0.8229 - val_accuracy: 0.7539\n",
      "Epoch 32/50\n",
      "371/371 [==============================] - 1s 2ms/step - loss: 0.7611 - accuracy: 0.7647 - val_loss: 0.8007 - val_accuracy: 0.7548\n",
      "Epoch 33/50\n",
      "371/371 [==============================] - 1s 2ms/step - loss: 0.7613 - accuracy: 0.7620 - val_loss: 0.7943 - val_accuracy: 0.7551\n",
      "Epoch 34/50\n",
      "371/371 [==============================] - 1s 2ms/step - loss: 0.7575 - accuracy: 0.7642 - val_loss: 0.8080 - val_accuracy: 0.7551\n",
      "Epoch 35/50\n",
      "371/371 [==============================] - 1s 2ms/step - loss: 0.7571 - accuracy: 0.7651 - val_loss: 0.7909 - val_accuracy: 0.7566\n",
      "Epoch 36/50\n",
      "371/371 [==============================] - 1s 2ms/step - loss: 0.7567 - accuracy: 0.7655 - val_loss: 0.7935 - val_accuracy: 0.7544\n",
      "Epoch 37/50\n",
      "371/371 [==============================] - 1s 2ms/step - loss: 0.7554 - accuracy: 0.7653 - val_loss: 0.7898 - val_accuracy: 0.7558\n",
      "Epoch 38/50\n",
      "371/371 [==============================] - 1s 2ms/step - loss: 0.7540 - accuracy: 0.7652 - val_loss: 0.8079 - val_accuracy: 0.7538\n",
      "Epoch 39/50\n",
      "371/371 [==============================] - 1s 2ms/step - loss: 0.7545 - accuracy: 0.7647 - val_loss: 0.8002 - val_accuracy: 0.7539\n",
      "Epoch 40/50\n",
      "371/371 [==============================] - 1s 2ms/step - loss: 0.7547 - accuracy: 0.7652 - val_loss: 0.8057 - val_accuracy: 0.7549\n",
      "Epoch 41/50\n",
      "371/371 [==============================] - 1s 2ms/step - loss: 0.7521 - accuracy: 0.7647 - val_loss: 0.8100 - val_accuracy: 0.7563\n",
      "Epoch 42/50\n",
      "371/371 [==============================] - ETA: 0s - loss: 0.7552 - accuracy: 0.76 - 1s 2ms/step - loss: 0.7535 - accuracy: 0.7641 - val_loss: 0.7929 - val_accuracy: 0.7548\n",
      "Epoch 43/50\n",
      "371/371 [==============================] - 1s 2ms/step - loss: 0.7516 - accuracy: 0.7653 - val_loss: 0.7953 - val_accuracy: 0.7563\n",
      "Epoch 44/50\n",
      "371/371 [==============================] - 1s 2ms/step - loss: 0.7517 - accuracy: 0.7650 - val_loss: 0.7947 - val_accuracy: 0.7570\n",
      "Epoch 45/50\n",
      "371/371 [==============================] - 1s 2ms/step - loss: 0.7508 - accuracy: 0.7660 - val_loss: 0.7943 - val_accuracy: 0.7543\n",
      "Epoch 46/50\n",
      "371/371 [==============================] - 1s 2ms/step - loss: 0.7521 - accuracy: 0.7654 - val_loss: 0.8139 - val_accuracy: 0.7556\n",
      "Epoch 47/50\n",
      "371/371 [==============================] - 1s 3ms/step - loss: 0.7521 - accuracy: 0.7648 - val_loss: 0.7985 - val_accuracy: 0.7590\n",
      "Epoch 48/50\n",
      "371/371 [==============================] - 1s 3ms/step - loss: 0.7464 - accuracy: 0.7665 - val_loss: 0.8073 - val_accuracy: 0.7511\n",
      "Epoch 49/50\n",
      "371/371 [==============================] - 1s 2ms/step - loss: 0.7472 - accuracy: 0.7648 - val_loss: 0.8020 - val_accuracy: 0.7521\n",
      "Epoch 50/50\n",
      "371/371 [==============================] - 1s 3ms/step - loss: 0.7486 - accuracy: 0.7647 - val_loss: 0.7953 - val_accuracy: 0.7539\n"
     ]
    }
   ],
   "source": [
    "classifier = Sequential()\n",
    "\n",
    "# Adding the input layer and the first hidden layer\n",
    "classifier.add(Dense(units = 24, kernel_initializer = 'uniform', activation = 'relu', input_dim = 90))\n",
    "\n",
    "# Adding the second hidden layer\n",
    "classifier.add(Dense(units = 24, kernel_initializer = 'uniform', activation = 'relu'))\n",
    "\n",
    "# Adding the output layer\n",
    "classifier.add(Dense(units = 21, kernel_initializer = 'uniform', activation = 'softmax'))\n",
    "\n",
    "# Compiling the ANN\n",
    "classifier.compile(optimizer = 'adam', loss = 'categorical_crossentropy', metrics = ['accuracy']) \n",
    "\n",
    "# Fitting the ANN to the Training set\n",
    "history = classifier.fit(X_train, y_train, validation_data = (X_test, y_test), batch_size = 64, epochs = 50, shuffle = True)"
   ]
  },
  {
   "cell_type": "code",
   "execution_count": 493,
   "metadata": {},
   "outputs": [
    {
     "name": "stdout",
     "output_type": "stream",
     "text": [
      "Model: \"sequential_226\"\n",
      "_________________________________________________________________\n",
      "Layer (type)                 Output Shape              Param #   \n",
      "=================================================================\n",
      "dense_678 (Dense)            (None, 24)                2184      \n",
      "_________________________________________________________________\n",
      "dense_679 (Dense)            (None, 24)                600       \n",
      "_________________________________________________________________\n",
      "dense_680 (Dense)            (None, 21)                525       \n",
      "=================================================================\n",
      "Total params: 3,309\n",
      "Trainable params: 3,309\n",
      "Non-trainable params: 0\n",
      "_________________________________________________________________\n"
     ]
    }
   ],
   "source": [
    "classifier.summary()"
   ]
  },
  {
   "cell_type": "code",
   "execution_count": 494,
   "metadata": {},
   "outputs": [
    {
     "data": {
      "image/png": "[encoded data removed]",
      "text/plain": [
       "<Figure size 432x288 with 1 Axes>"
      ]
     },
     "metadata": {
      "needs_background": "light"
     },
     "output_type": "display_data"
    }
   ],
   "source": [
    "plt.plot(history.history['loss'], label = 'train')\n",
    "plt.plot(history.history['val_loss'], label = 'test')\n",
    "plt.legend()\n",
    "plt.savefig(\"10.png\")\n",
    "plt.show()"
   ]
  },
  {
   "cell_type": "code",
   "execution_count": 495,
   "metadata": {},
   "outputs": [
    {
     "data": {
      "image/png": "[encoded data removed]",
      "text/plain": [
       "<Figure size 432x288 with 1 Axes>"
      ]
     },
     "metadata": {
      "needs_background": "light"
     },
     "output_type": "display_data"
    }
   ],
   "source": [
    "plt.plot(history.history['accuracy'], label = 'train')\n",
    "plt.plot(history.history['val_accuracy'], label = 'test')\n",
    "plt.legend()\n",
    "plt.savefig(\"11.png\")\n",
    "plt.show()"
   ]
  },
  {
   "cell_type": "code",
   "execution_count": 496,
   "metadata": {},
   "outputs": [
    {
     "data": {
      "text/plain": [
       "array([ 4, 11,  0, ...,  0,  0, 20], dtype=int64)"
      ]
     },
     "execution_count": 496,
     "metadata": {},
     "output_type": "execute_result"
    }
   ],
   "source": [
    "y_predicted = classifier.predict(X_test)\n",
    "y_predicted = np.argmax(y_predicted, axis = 1)\n",
    "y_predicted"
   ]
  },
  {
   "cell_type": "code",
   "execution_count": 497,
   "metadata": {},
   "outputs": [],
   "source": [
    "y_test = np.argmax(y_test, axis = 1)"
   ]
  },
  {
   "cell_type": "code",
   "execution_count": 498,
   "metadata": {},
   "outputs": [
    {
     "data": {
      "text/plain": [
       "635385"
      ]
     },
     "execution_count": 498,
     "metadata": {},
     "output_type": "execute_result"
    }
   ],
   "source": [
    "test_sum = 0\n",
    "for i in range(len(y_test)):\n",
    "    test_sum += (y_test[i] * 15)\n",
    "test_sum"
   ]
  },
  {
   "cell_type": "code",
   "execution_count": 499,
   "metadata": {},
   "outputs": [],
   "source": [
    "predicted_sum = 0\n",
    "for i in range(len(y_predicted)):\n",
    "    predicted_sum += (y_predicted[i] * 15)"
   ]
  },
  {
   "cell_type": "code",
   "execution_count": 500,
   "metadata": {},
   "outputs": [
    {
     "name": "stdout",
     "output_type": "stream",
     "text": [
      "Error Percentage in predicted values is : 2.7172501711560706 %\n"
     ]
    }
   ],
   "source": [
    "print(\"Error Percentage in predicted values is : {} %\".format(np.absolute((predicted_sum - test_sum)/test_sum)*100))"
   ]
  },
  {
   "cell_type": "code",
   "execution_count": 501,
   "metadata": {},
   "outputs": [
    {
     "data": {
      "text/plain": [
       "array([ 0, 20, 19, ...,  0,  0, 20], dtype=int64)"
      ]
     },
     "execution_count": 501,
     "metadata": {},
     "output_type": "execute_result"
    }
   ],
   "source": [
    "y_train_predicted = classifier.predict(X_train)\n",
    "y_train_predicted = np.argmax(y_train_predicted, axis = 1)\n",
    "y_train_predicted"
   ]
  },
  {
   "cell_type": "code",
   "execution_count": 502,
   "metadata": {},
   "outputs": [],
   "source": [
    "y_train = np.argmax(y_train, axis = 1)"
   ]
  },
  {
   "cell_type": "code",
   "execution_count": 503,
   "metadata": {},
   "outputs": [
    {
     "data": {
      "text/plain": [
       "0.7306096239207006"
      ]
     },
     "execution_count": 503,
     "metadata": {},
     "output_type": "execute_result"
    }
   ],
   "source": [
    "f1_score(y_train, y_train_predicted, average = 'weighted')"
   ]
  },
  {
   "cell_type": "code",
   "execution_count": 504,
   "metadata": {},
   "outputs": [
    {
     "data": {
      "text/plain": [
       "0.9616113943786608"
      ]
     },
     "execution_count": 504,
     "metadata": {},
     "output_type": "execute_result"
    }
   ],
   "source": [
    "mean_absolute_error(y_train, y_train_predicted)"
   ]
  },
  {
   "cell_type": "code",
   "execution_count": 505,
   "metadata": {},
   "outputs": [
    {
     "data": {
      "text/plain": [
       "0.7667186380683494"
      ]
     },
     "execution_count": 505,
     "metadata": {},
     "output_type": "execute_result"
    }
   ],
   "source": [
    "accuracy_score(y_train, y_train_predicted)"
   ]
  },
  {
   "cell_type": "code",
   "execution_count": 506,
   "metadata": {},
   "outputs": [
    {
     "data": {
      "text/plain": [
       "0.7148701513741895"
      ]
     },
     "execution_count": 506,
     "metadata": {},
     "output_type": "execute_result"
    }
   ],
   "source": [
    "f1_score(y_test, y_predicted, average = 'weighted')"
   ]
  },
  {
   "cell_type": "code",
   "execution_count": 507,
   "metadata": {},
   "outputs": [
    {
     "data": {
      "text/plain": [
       "1.0279790999494354"
      ]
     },
     "execution_count": 507,
     "metadata": {},
     "output_type": "execute_result"
    }
   ],
   "source": [
    "mean_absolute_error(y_test, y_predicted)"
   ]
  },
  {
   "cell_type": "code",
   "execution_count": 508,
   "metadata": {},
   "outputs": [
    {
     "data": {
      "text/plain": [
       "0.7539187594808697"
      ]
     },
     "execution_count": 508,
     "metadata": {},
     "output_type": "execute_result"
    }
   ],
   "source": [
    "accuracy_score(y_test, y_predicted)"
   ]
  },
  {
   "cell_type": "code",
   "execution_count": 509,
   "metadata": {},
   "outputs": [],
   "source": [
    "from sklearn.model_selection import cross_validate, GridSearchCV\n",
    "from keras.wrappers.scikit_learn import KerasClassifier"
   ]
  },
  {
   "cell_type": "code",
   "execution_count": 510,
   "metadata": {},
   "outputs": [
    {
     "data": {
      "text/html": [
       "<div>\n",
       "<style scoped>\n",
       "    .dataframe tbody tr th:only-of-type {\n",
       "        vertical-align: middle;\n",
       "    }\n",
       "\n",
       "    .dataframe tbody tr th {\n",
       "        vertical-align: top;\n",
       "    }\n",
       "\n",
       "    .dataframe thead th {\n",
       "        text-align: right;\n",
       "    }\n",
       "</style>\n",
       "<table border=\"1\" class=\"dataframe\">\n",
       "  <thead>\n",
       "    <tr style=\"text-align: right;\">\n",
       "      <th></th>\n",
       "      <th>var1(t-6)</th>\n",
       "      <th>var2(t-6)</th>\n",
       "      <th>var3(t-6)</th>\n",
       "      <th>var4(t-6)</th>\n",
       "      <th>var5(t-6)</th>\n",
       "      <th>var6(t-6)</th>\n",
       "      <th>var7(t-6)</th>\n",
       "      <th>var1(t-5)</th>\n",
       "      <th>var2(t-5)</th>\n",
       "      <th>var3(t-5)</th>\n",
       "      <th>...</th>\n",
       "      <th>var5(t-1)</th>\n",
       "      <th>var6(t-1)</th>\n",
       "      <th>var7(t-1)</th>\n",
       "      <th>var1(t)</th>\n",
       "      <th>var2(t)</th>\n",
       "      <th>var3(t)</th>\n",
       "      <th>var4(t)</th>\n",
       "      <th>var5(t)</th>\n",
       "      <th>var6(t)</th>\n",
       "      <th>var7(t)</th>\n",
       "    </tr>\n",
       "  </thead>\n",
       "  <tbody>\n",
       "    <tr>\n",
       "      <th>6</th>\n",
       "      <td>0.0</td>\n",
       "      <td>2.632689</td>\n",
       "      <td>1.422976</td>\n",
       "      <td>1.387394</td>\n",
       "      <td>2.632689</td>\n",
       "      <td>1.422976</td>\n",
       "      <td>0</td>\n",
       "      <td>0.0</td>\n",
       "      <td>1.489502</td>\n",
       "      <td>1.930176</td>\n",
       "      <td>...</td>\n",
       "      <td>-0.796872</td>\n",
       "      <td>2.183776</td>\n",
       "      <td>20</td>\n",
       "      <td>0.0</td>\n",
       "      <td>-0.225278</td>\n",
       "      <td>2.183776</td>\n",
       "      <td>1.424799</td>\n",
       "      <td>-0.225278</td>\n",
       "      <td>2.183776</td>\n",
       "      <td>20</td>\n",
       "    </tr>\n",
       "    <tr>\n",
       "      <th>7</th>\n",
       "      <td>0.0</td>\n",
       "      <td>1.489502</td>\n",
       "      <td>1.930176</td>\n",
       "      <td>1.387394</td>\n",
       "      <td>1.489502</td>\n",
       "      <td>1.930176</td>\n",
       "      <td>0</td>\n",
       "      <td>0.0</td>\n",
       "      <td>0.346315</td>\n",
       "      <td>1.930176</td>\n",
       "      <td>...</td>\n",
       "      <td>-0.225278</td>\n",
       "      <td>2.183776</td>\n",
       "      <td>20</td>\n",
       "      <td>0.0</td>\n",
       "      <td>0.917909</td>\n",
       "      <td>2.183776</td>\n",
       "      <td>1.424799</td>\n",
       "      <td>0.917909</td>\n",
       "      <td>2.183776</td>\n",
       "      <td>3</td>\n",
       "    </tr>\n",
       "    <tr>\n",
       "      <th>8</th>\n",
       "      <td>0.0</td>\n",
       "      <td>0.346315</td>\n",
       "      <td>1.930176</td>\n",
       "      <td>1.424799</td>\n",
       "      <td>0.346315</td>\n",
       "      <td>1.930176</td>\n",
       "      <td>0</td>\n",
       "      <td>0.0</td>\n",
       "      <td>-0.796872</td>\n",
       "      <td>2.183776</td>\n",
       "      <td>...</td>\n",
       "      <td>0.917909</td>\n",
       "      <td>2.183776</td>\n",
       "      <td>3</td>\n",
       "      <td>0.0</td>\n",
       "      <td>1.489502</td>\n",
       "      <td>2.183776</td>\n",
       "      <td>1.462204</td>\n",
       "      <td>1.489502</td>\n",
       "      <td>2.183776</td>\n",
       "      <td>0</td>\n",
       "    </tr>\n",
       "    <tr>\n",
       "      <th>9</th>\n",
       "      <td>0.0</td>\n",
       "      <td>-0.796872</td>\n",
       "      <td>2.183776</td>\n",
       "      <td>1.424799</td>\n",
       "      <td>-0.796872</td>\n",
       "      <td>2.183776</td>\n",
       "      <td>9</td>\n",
       "      <td>0.0</td>\n",
       "      <td>-1.368465</td>\n",
       "      <td>2.183776</td>\n",
       "      <td>...</td>\n",
       "      <td>1.489502</td>\n",
       "      <td>2.183776</td>\n",
       "      <td>0</td>\n",
       "      <td>0.0</td>\n",
       "      <td>1.489502</td>\n",
       "      <td>2.183776</td>\n",
       "      <td>1.462204</td>\n",
       "      <td>1.489502</td>\n",
       "      <td>2.183776</td>\n",
       "      <td>0</td>\n",
       "    </tr>\n",
       "    <tr>\n",
       "      <th>10</th>\n",
       "      <td>0.0</td>\n",
       "      <td>-1.368465</td>\n",
       "      <td>2.183776</td>\n",
       "      <td>1.424799</td>\n",
       "      <td>-1.368465</td>\n",
       "      <td>2.183776</td>\n",
       "      <td>20</td>\n",
       "      <td>0.0</td>\n",
       "      <td>-0.796872</td>\n",
       "      <td>2.183776</td>\n",
       "      <td>...</td>\n",
       "      <td>1.489502</td>\n",
       "      <td>2.183776</td>\n",
       "      <td>0</td>\n",
       "      <td>0.0</td>\n",
       "      <td>0.917909</td>\n",
       "      <td>2.183776</td>\n",
       "      <td>1.462204</td>\n",
       "      <td>0.917909</td>\n",
       "      <td>2.183776</td>\n",
       "      <td>0</td>\n",
       "    </tr>\n",
       "    <tr>\n",
       "      <th>...</th>\n",
       "      <td>...</td>\n",
       "      <td>...</td>\n",
       "      <td>...</td>\n",
       "      <td>...</td>\n",
       "      <td>...</td>\n",
       "      <td>...</td>\n",
       "      <td>...</td>\n",
       "      <td>...</td>\n",
       "      <td>...</td>\n",
       "      <td>...</td>\n",
       "      <td>...</td>\n",
       "      <td>...</td>\n",
       "      <td>...</td>\n",
       "      <td>...</td>\n",
       "      <td>...</td>\n",
       "      <td>...</td>\n",
       "      <td>...</td>\n",
       "      <td>...</td>\n",
       "      <td>...</td>\n",
       "      <td>...</td>\n",
       "      <td>...</td>\n",
       "    </tr>\n",
       "    <tr>\n",
       "      <th>29671</th>\n",
       "      <td>0.0</td>\n",
       "      <td>3.204282</td>\n",
       "      <td>-0.098625</td>\n",
       "      <td>3.238960</td>\n",
       "      <td>3.204282</td>\n",
       "      <td>-0.098625</td>\n",
       "      <td>0</td>\n",
       "      <td>0.0</td>\n",
       "      <td>3.204282</td>\n",
       "      <td>-0.098625</td>\n",
       "      <td>...</td>\n",
       "      <td>2.061095</td>\n",
       "      <td>-0.859425</td>\n",
       "      <td>0</td>\n",
       "      <td>0.0</td>\n",
       "      <td>2.061095</td>\n",
       "      <td>-0.859425</td>\n",
       "      <td>3.295068</td>\n",
       "      <td>2.061095</td>\n",
       "      <td>-0.859425</td>\n",
       "      <td>0</td>\n",
       "    </tr>\n",
       "    <tr>\n",
       "      <th>29672</th>\n",
       "      <td>0.0</td>\n",
       "      <td>3.204282</td>\n",
       "      <td>-0.098625</td>\n",
       "      <td>3.295068</td>\n",
       "      <td>3.204282</td>\n",
       "      <td>-0.098625</td>\n",
       "      <td>0</td>\n",
       "      <td>0.0</td>\n",
       "      <td>2.632689</td>\n",
       "      <td>-0.605825</td>\n",
       "      <td>...</td>\n",
       "      <td>2.061095</td>\n",
       "      <td>-0.859425</td>\n",
       "      <td>0</td>\n",
       "      <td>0.0</td>\n",
       "      <td>1.489502</td>\n",
       "      <td>-0.859425</td>\n",
       "      <td>3.388582</td>\n",
       "      <td>1.489502</td>\n",
       "      <td>-0.859425</td>\n",
       "      <td>0</td>\n",
       "    </tr>\n",
       "    <tr>\n",
       "      <th>29673</th>\n",
       "      <td>0.0</td>\n",
       "      <td>2.632689</td>\n",
       "      <td>-0.605825</td>\n",
       "      <td>3.295068</td>\n",
       "      <td>2.632689</td>\n",
       "      <td>-0.605825</td>\n",
       "      <td>0</td>\n",
       "      <td>0.0</td>\n",
       "      <td>2.632689</td>\n",
       "      <td>-0.605825</td>\n",
       "      <td>...</td>\n",
       "      <td>1.489502</td>\n",
       "      <td>-0.859425</td>\n",
       "      <td>0</td>\n",
       "      <td>0.0</td>\n",
       "      <td>1.489502</td>\n",
       "      <td>-0.859425</td>\n",
       "      <td>3.388582</td>\n",
       "      <td>1.489502</td>\n",
       "      <td>-0.859425</td>\n",
       "      <td>0</td>\n",
       "    </tr>\n",
       "    <tr>\n",
       "      <th>29674</th>\n",
       "      <td>0.0</td>\n",
       "      <td>2.632689</td>\n",
       "      <td>-0.605825</td>\n",
       "      <td>3.295068</td>\n",
       "      <td>2.632689</td>\n",
       "      <td>-0.605825</td>\n",
       "      <td>0</td>\n",
       "      <td>0.0</td>\n",
       "      <td>2.061095</td>\n",
       "      <td>-0.605825</td>\n",
       "      <td>...</td>\n",
       "      <td>1.489502</td>\n",
       "      <td>-0.859425</td>\n",
       "      <td>0</td>\n",
       "      <td>0.0</td>\n",
       "      <td>1.489502</td>\n",
       "      <td>-0.859425</td>\n",
       "      <td>3.388582</td>\n",
       "      <td>1.489502</td>\n",
       "      <td>-0.859425</td>\n",
       "      <td>0</td>\n",
       "    </tr>\n",
       "    <tr>\n",
       "      <th>29675</th>\n",
       "      <td>0.0</td>\n",
       "      <td>2.061095</td>\n",
       "      <td>-0.605825</td>\n",
       "      <td>3.295068</td>\n",
       "      <td>2.061095</td>\n",
       "      <td>-0.605825</td>\n",
       "      <td>0</td>\n",
       "      <td>0.0</td>\n",
       "      <td>2.061095</td>\n",
       "      <td>-0.859425</td>\n",
       "      <td>...</td>\n",
       "      <td>1.489502</td>\n",
       "      <td>-0.859425</td>\n",
       "      <td>0</td>\n",
       "      <td>0.0</td>\n",
       "      <td>1.489502</td>\n",
       "      <td>-0.859425</td>\n",
       "      <td>3.388582</td>\n",
       "      <td>1.489502</td>\n",
       "      <td>-0.859425</td>\n",
       "      <td>0</td>\n",
       "    </tr>\n",
       "  </tbody>\n",
       "</table>\n",
       "<p>29670 rows × 49 columns</p>\n",
       "</div>"
      ],
      "text/plain": [
       "       var1(t-6)  var2(t-6)  var3(t-6)  var4(t-6)  var5(t-6)  var6(t-6)  \\\n",
       "6            0.0   2.632689   1.422976   1.387394   2.632689   1.422976   \n",
       "7            0.0   1.489502   1.930176   1.387394   1.489502   1.930176   \n",
       "8            0.0   0.346315   1.930176   1.424799   0.346315   1.930176   \n",
       "9            0.0  -0.796872   2.183776   1.424799  -0.796872   2.183776   \n",
       "10           0.0  -1.368465   2.183776   1.424799  -1.368465   2.183776   \n",
       "...          ...        ...        ...        ...        ...        ...   \n",
       "29671        0.0   3.204282  -0.098625   3.238960   3.204282  -0.098625   \n",
       "29672        0.0   3.204282  -0.098625   3.295068   3.204282  -0.098625   \n",
       "29673        0.0   2.632689  -0.605825   3.295068   2.632689  -0.605825   \n",
       "29674        0.0   2.632689  -0.605825   3.295068   2.632689  -0.605825   \n",
       "29675        0.0   2.061095  -0.605825   3.295068   2.061095  -0.605825   \n",
       "\n",
       "      var7(t-6)  var1(t-5)  var2(t-5)  var3(t-5)  ...  var5(t-1)  var6(t-1)  \\\n",
       "6             0        0.0   1.489502   1.930176  ...  -0.796872   2.183776   \n",
       "7             0        0.0   0.346315   1.930176  ...  -0.225278   2.183776   \n",
       "8             0        0.0  -0.796872   2.183776  ...   0.917909   2.183776   \n",
       "9             9        0.0  -1.368465   2.183776  ...   1.489502   2.183776   \n",
       "10           20        0.0  -0.796872   2.183776  ...   1.489502   2.183776   \n",
       "...         ...        ...        ...        ...  ...        ...        ...   \n",
       "29671         0        0.0   3.204282  -0.098625  ...   2.061095  -0.859425   \n",
       "29672         0        0.0   2.632689  -0.605825  ...   2.061095  -0.859425   \n",
       "29673         0        0.0   2.632689  -0.605825  ...   1.489502  -0.859425   \n",
       "29674         0        0.0   2.061095  -0.605825  ...   1.489502  -0.859425   \n",
       "29675         0        0.0   2.061095  -0.859425  ...   1.489502  -0.859425   \n",
       "\n",
       "       var7(t-1) var1(t)   var2(t)   var3(t)   var4(t)   var5(t)   var6(t)  \\\n",
       "6             20     0.0 -0.225278  2.183776  1.424799 -0.225278  2.183776   \n",
       "7             20     0.0  0.917909  2.183776  1.424799  0.917909  2.183776   \n",
       "8              3     0.0  1.489502  2.183776  1.462204  1.489502  2.183776   \n",
       "9              0     0.0  1.489502  2.183776  1.462204  1.489502  2.183776   \n",
       "10             0     0.0  0.917909  2.183776  1.462204  0.917909  2.183776   \n",
       "...          ...     ...       ...       ...       ...       ...       ...   \n",
       "29671          0     0.0  2.061095 -0.859425  3.295068  2.061095 -0.859425   \n",
       "29672          0     0.0  1.489502 -0.859425  3.388582  1.489502 -0.859425   \n",
       "29673          0     0.0  1.489502 -0.859425  3.388582  1.489502 -0.859425   \n",
       "29674          0     0.0  1.489502 -0.859425  3.388582  1.489502 -0.859425   \n",
       "29675          0     0.0  1.489502 -0.859425  3.388582  1.489502 -0.859425   \n",
       "\n",
       "       var7(t)  \n",
       "6           20  \n",
       "7            3  \n",
       "8            0  \n",
       "9            0  \n",
       "10           0  \n",
       "...        ...  \n",
       "29671        0  \n",
       "29672        0  \n",
       "29673        0  \n",
       "29674        0  \n",
       "29675        0  \n",
       "\n",
       "[29670 rows x 49 columns]"
      ]
     },
     "execution_count": 510,
     "metadata": {},
     "output_type": "execute_result"
    }
   ],
   "source": [
    "reframed = series_to_supervised(working_df, 6, 1)\n",
    "reframed"
   ]
  },
  {
   "cell_type": "code",
   "execution_count": 511,
   "metadata": {},
   "outputs": [],
   "source": [
    "y_auxHeat = reframed['var7(t)']\n",
    "y_auxHeat = to_categorical(y_auxHeat).astype(float)"
   ]
  },
  {
   "cell_type": "code",
   "execution_count": 512,
   "metadata": {},
   "outputs": [
    {
     "data": {
      "text/plain": [
       "(29670, 48)"
      ]
     },
     "execution_count": 512,
     "metadata": {},
     "output_type": "execute_result"
    }
   ],
   "source": [
    "X = reframed.drop(labels = ['var7(t)'], axis = 1).astype(float)\n",
    "X.shape"
   ]
  },
  {
   "cell_type": "code",
   "execution_count": 513,
   "metadata": {},
   "outputs": [],
   "source": [
    "def build_classifier(optimizer):\n",
    "\n",
    "    classifier = Sequential()\n",
    "\n",
    "    # Adding the input layer and the first hidden layer\n",
    "    classifier.add(Dense(units = 24, kernel_initializer = 'uniform', activation = 'relu', input_dim = 48))\n",
    "\n",
    "    # Adding the second hidden layer\n",
    "    classifier.add(Dense(units = 24, kernel_initializer = 'uniform', activation = 'relu'))\n",
    "\n",
    "    # Adding the output layer\n",
    "    classifier.add(Dense(units = 21, kernel_initializer = 'uniform', activation = 'softmax'))\n",
    "\n",
    "    # Compiling the ANN\n",
    "    classifier.compile(optimizer = optimizer, loss = 'categorical_crossentropy', metrics = ['accuracy'])\n",
    "    \n",
    "    return classifier"
   ]
  },
  {
   "cell_type": "code",
   "execution_count": 514,
   "metadata": {},
   "outputs": [],
   "source": [
    "classifier = KerasClassifier(build_fn = build_classifier, batch_size = 10, nb_epoch = 20)"
   ]
  },
  {
   "cell_type": "code",
   "execution_count": 515,
   "metadata": {},
   "outputs": [],
   "source": [
    "scoring = {'acc': 'accuracy'}\n",
    "\n",
    "parameters = {'batch_size' : [10, 64,100],\n",
    "              'epochs' : [10, 50],\n",
    "              'optimizer' : ['adam', 'rmsprop']}"
   ]
  },
  {
   "cell_type": "code",
   "execution_count": 516,
   "metadata": {},
   "outputs": [],
   "source": [
    "grid_search = GridSearchCV(estimator = classifier,\n",
    "                           param_grid = parameters,\n",
    "                           scoring = scoring,\n",
    "                           refit = False,\n",
    "                           cv = 10)"
   ]
  },
  {
   "cell_type": "code",
   "execution_count": 517,
   "metadata": {},
   "outputs": [
    {
     "name": "stdout",
     "output_type": "stream",
     "text": [
      "Epoch 1/10\n",
      "2671/2671 [==============================] - 4s 1ms/step - loss: 1.0158 - accuracy: 0.7367\n",
      "Epoch 2/10\n",
      "2671/2671 [==============================] - 4s 1ms/step - loss: 0.8485 - accuracy: 0.7550\n",
      "Epoch 3/10\n",
      "2671/2671 [==============================] - 4s 2ms/step - loss: 0.8195 - accuracy: 0.7571\n",
      "Epoch 4/10\n",
      "2671/2671 [==============================] - 6s 2ms/step - loss: 0.8068 - accuracy: 0.7569\n",
      "Epoch 5/10\n",
      "2671/2671 [==============================] - 5s 2ms/step - loss: 0.7976 - accuracy: 0.7588\n",
      "Epoch 6/10\n",
      "2671/2671 [==============================] - 5s 2ms/step - loss: 0.7917 - accuracy: 0.7584\n",
      "Epoch 7/10\n",
      "2671/2671 [==============================] - 4s 1ms/step - loss: 0.7842 - accuracy: 0.7620\n",
      "Epoch 8/10\n",
      "2671/2671 [==============================] - 4s 1ms/step - loss: 0.7826 - accuracy: 0.7604\n",
      "Epoch 9/10\n",
      "2671/2671 [==============================] - 4s 1ms/step - loss: 0.7795 - accuracy: 0.7612\n",
      "Epoch 10/10\n",
      "2671/2671 [==============================] - 3s 1ms/step - loss: 0.7744 - accuracy: 0.7628\n"
     ]
    },
    {
     "name": "stderr",
     "output_type": "stream",
     "text": [
      "c:\\users\\hongyliu\\appdata\\local\\programs\\python\\python36\\lib\\site-packages\\tensorflow\\python\\keras\\engine\\sequential.py:455: UserWarning: `model.predict_classes()` is deprecated and will be removed after 2021-01-01. Please use instead:* `np.argmax(model.predict(x), axis=-1)`,   if your model does multi-class classification   (e.g. if it uses a `softmax` last-layer activation).* `(model.predict(x) > 0.5).astype(\"int32\")`,   if your model does binary classification   (e.g. if it uses a `sigmoid` last-layer activation).\n",
      "  warnings.warn('`model.predict_classes()` is deprecated and '\n",
      "c:\\users\\hongyliu\\appdata\\local\\programs\\python\\python36\\lib\\site-packages\\sklearn\\model_selection\\_validation.py:700: UserWarning: Scoring failed. The score on this train-test partition for these parameters will be set to nan. Details: \n",
      "Traceback (most recent call last):\n",
      "  File \"c:\\users\\hongyliu\\appdata\\local\\programs\\python\\python36\\lib\\site-packages\\sklearn\\model_selection\\_validation.py\", line 687, in _score\n",
      "    scores = scorer(estimator, X_test, y_test)\n",
      "  File \"c:\\users\\hongyliu\\appdata\\local\\programs\\python\\python36\\lib\\site-packages\\sklearn\\metrics\\_scorer.py\", line 88, in __call__\n",
      "    *args, **kwargs)\n",
      "  File \"c:\\users\\hongyliu\\appdata\\local\\programs\\python\\python36\\lib\\site-packages\\sklearn\\metrics\\_scorer.py\", line 243, in _score\n",
      "    **self._kwargs)\n",
      "  File \"c:\\users\\hongyliu\\appdata\\local\\programs\\python\\python36\\lib\\site-packages\\sklearn\\utils\\validation.py\", line 63, in inner_f\n",
      "    return f(*args, **kwargs)\n",
      "  File \"c:\\users\\hongyliu\\appdata\\local\\programs\\python\\python36\\lib\\site-packages\\sklearn\\metrics\\_classification.py\", line 202, in accuracy_score\n",
      "    y_type, y_true, y_pred = _check_targets(y_true, y_pred)\n",
      "  File \"c:\\users\\hongyliu\\appdata\\local\\programs\\python\\python36\\lib\\site-packages\\sklearn\\metrics\\_classification.py\", line 93, in _check_targets\n",
      "    \"and {1} targets\".format(type_true, type_pred))\n",
      "ValueError: Classification metrics can't handle a mix of multilabel-indicator and multiclass targets\n",
      "\n",
      "  UserWarning,\n"
     ]
    },
    {
     "name": "stdout",
     "output_type": "stream",
     "text": [
      "Epoch 1/10\n",
      "2671/2671 [==============================] - 4s 1ms/step - loss: 1.0170 - accuracy: 0.7402\n",
      "Epoch 2/10\n",
      "2671/2671 [==============================] - 4s 1ms/step - loss: 0.8400 - accuracy: 0.7604\n",
      "Epoch 3/10\n",
      "2671/2671 [==============================] - 4s 1ms/step - loss: 0.8104 - accuracy: 0.7616\n",
      "Epoch 4/10\n",
      "2671/2671 [==============================] - 4s 1ms/step - loss: 0.7995 - accuracy: 0.7615\n",
      "Epoch 5/10\n",
      "2671/2671 [==============================] - 3s 1ms/step - loss: 0.7907 - accuracy: 0.7626\n",
      "Epoch 6/10\n",
      "2671/2671 [==============================] - 3s 1ms/step - loss: 0.7857 - accuracy: 0.7629\n",
      "Epoch 7/10\n",
      "2671/2671 [==============================] - 3s 1ms/step - loss: 0.7804 - accuracy: 0.7633\n",
      "Epoch 8/10\n",
      "2671/2671 [==============================] - 4s 1ms/step - loss: 0.7765 - accuracy: 0.7632\n",
      "Epoch 9/10\n",
      "2671/2671 [==============================] - 4s 2ms/step - loss: 0.7745 - accuracy: 0.7646\n",
      "Epoch 10/10\n",
      "2671/2671 [==============================] - 3s 1ms/step - loss: 0.7724 - accuracy: 0.7637\n"
     ]
    },
    {
     "name": "stderr",
     "output_type": "stream",
     "text": [
      "c:\\users\\hongyliu\\appdata\\local\\programs\\python\\python36\\lib\\site-packages\\tensorflow\\python\\keras\\engine\\sequential.py:455: UserWarning: `model.predict_classes()` is deprecated and will be removed after 2021-01-01. Please use instead:* `np.argmax(model.predict(x), axis=-1)`,   if your model does multi-class classification   (e.g. if it uses a `softmax` last-layer activation).* `(model.predict(x) > 0.5).astype(\"int32\")`,   if your model does binary classification   (e.g. if it uses a `sigmoid` last-layer activation).\n",
      "  warnings.warn('`model.predict_classes()` is deprecated and '\n",
      "c:\\users\\hongyliu\\appdata\\local\\programs\\python\\python36\\lib\\site-packages\\sklearn\\model_selection\\_validation.py:700: UserWarning: Scoring failed. The score on this train-test partition for these parameters will be set to nan. Details: \n",
      "Traceback (most recent call last):\n",
      "  File \"c:\\users\\hongyliu\\appdata\\local\\programs\\python\\python36\\lib\\site-packages\\sklearn\\model_selection\\_validation.py\", line 687, in _score\n",
      "    scores = scorer(estimator, X_test, y_test)\n",
      "  File \"c:\\users\\hongyliu\\appdata\\local\\programs\\python\\python36\\lib\\site-packages\\sklearn\\metrics\\_scorer.py\", line 88, in __call__\n",
      "    *args, **kwargs)\n",
      "  File \"c:\\users\\hongyliu\\appdata\\local\\programs\\python\\python36\\lib\\site-packages\\sklearn\\metrics\\_scorer.py\", line 243, in _score\n",
      "    **self._kwargs)\n",
      "  File \"c:\\users\\hongyliu\\appdata\\local\\programs\\python\\python36\\lib\\site-packages\\sklearn\\utils\\validation.py\", line 63, in inner_f\n",
      "    return f(*args, **kwargs)\n",
      "  File \"c:\\users\\hongyliu\\appdata\\local\\programs\\python\\python36\\lib\\site-packages\\sklearn\\metrics\\_classification.py\", line 202, in accuracy_score\n",
      "    y_type, y_true, y_pred = _check_targets(y_true, y_pred)\n",
      "  File \"c:\\users\\hongyliu\\appdata\\local\\programs\\python\\python36\\lib\\site-packages\\sklearn\\metrics\\_classification.py\", line 93, in _check_targets\n",
      "    \"and {1} targets\".format(type_true, type_pred))\n",
      "ValueError: Classification metrics can't handle a mix of multilabel-indicator and multiclass targets\n",
      "\n",
      "  UserWarning,\n"
     ]
    },
    {
     "name": "stdout",
     "output_type": "stream",
     "text": [
      "Epoch 1/10\n",
      "2671/2671 [==============================] - 4s 1ms/step - loss: 1.0253 - accuracy: 0.7416\n",
      "Epoch 2/10\n",
      "2671/2671 [==============================] - 4s 1ms/step - loss: 0.8656 - accuracy: 0.7549\n",
      "Epoch 3/10\n",
      "2671/2671 [==============================] - 4s 1ms/step - loss: 0.8358 - accuracy: 0.7562\n",
      "Epoch 4/10\n",
      "2671/2671 [==============================] - 3s 1ms/step - loss: 0.8226 - accuracy: 0.7575\n",
      "Epoch 5/10\n",
      "2671/2671 [==============================] - 3s 1ms/step - loss: 0.8113 - accuracy: 0.7574\n",
      "Epoch 6/10\n",
      "2671/2671 [==============================] - 3s 1ms/step - loss: 0.8041 - accuracy: 0.7607\n",
      "Epoch 7/10\n",
      "2671/2671 [==============================] - 3s 1ms/step - loss: 0.7969 - accuracy: 0.7602\n",
      "Epoch 8/10\n",
      "2671/2671 [==============================] - 4s 2ms/step - loss: 0.7922 - accuracy: 0.7603\n",
      "Epoch 9/10\n",
      "2671/2671 [==============================] - 4s 1ms/step - loss: 0.7880 - accuracy: 0.7604\n",
      "Epoch 10/10\n",
      "2671/2671 [==============================] - 5s 2ms/step - loss: 0.7848 - accuracy: 0.7613\n"
     ]
    },
    {
     "name": "stderr",
     "output_type": "stream",
     "text": [
      "c:\\users\\hongyliu\\appdata\\local\\programs\\python\\python36\\lib\\site-packages\\tensorflow\\python\\keras\\engine\\sequential.py:455: UserWarning: `model.predict_classes()` is deprecated and will be removed after 2021-01-01. Please use instead:* `np.argmax(model.predict(x), axis=-1)`,   if your model does multi-class classification   (e.g. if it uses a `softmax` last-layer activation).* `(model.predict(x) > 0.5).astype(\"int32\")`,   if your model does binary classification   (e.g. if it uses a `sigmoid` last-layer activation).\n",
      "  warnings.warn('`model.predict_classes()` is deprecated and '\n",
      "c:\\users\\hongyliu\\appdata\\local\\programs\\python\\python36\\lib\\site-packages\\sklearn\\model_selection\\_validation.py:700: UserWarning: Scoring failed. The score on this train-test partition for these parameters will be set to nan. Details: \n",
      "Traceback (most recent call last):\n",
      "  File \"c:\\users\\hongyliu\\appdata\\local\\programs\\python\\python36\\lib\\site-packages\\sklearn\\model_selection\\_validation.py\", line 687, in _score\n",
      "    scores = scorer(estimator, X_test, y_test)\n",
      "  File \"c:\\users\\hongyliu\\appdata\\local\\programs\\python\\python36\\lib\\site-packages\\sklearn\\metrics\\_scorer.py\", line 88, in __call__\n",
      "    *args, **kwargs)\n",
      "  File \"c:\\users\\hongyliu\\appdata\\local\\programs\\python\\python36\\lib\\site-packages\\sklearn\\metrics\\_scorer.py\", line 243, in _score\n",
      "    **self._kwargs)\n",
      "  File \"c:\\users\\hongyliu\\appdata\\local\\programs\\python\\python36\\lib\\site-packages\\sklearn\\utils\\validation.py\", line 63, in inner_f\n",
      "    return f(*args, **kwargs)\n",
      "  File \"c:\\users\\hongyliu\\appdata\\local\\programs\\python\\python36\\lib\\site-packages\\sklearn\\metrics\\_classification.py\", line 202, in accuracy_score\n",
      "    y_type, y_true, y_pred = _check_targets(y_true, y_pred)\n",
      "  File \"c:\\users\\hongyliu\\appdata\\local\\programs\\python\\python36\\lib\\site-packages\\sklearn\\metrics\\_classification.py\", line 93, in _check_targets\n",
      "    \"and {1} targets\".format(type_true, type_pred))\n",
      "ValueError: Classification metrics can't handle a mix of multilabel-indicator and multiclass targets\n",
      "\n",
      "  UserWarning,\n"
     ]
    },
    {
     "name": "stdout",
     "output_type": "stream",
     "text": [
      "Epoch 1/10\n",
      "2671/2671 [==============================] - 4s 1ms/step - loss: 1.0295 - accuracy: 0.7386\n",
      "Epoch 2/10\n",
      "2671/2671 [==============================] - 4s 2ms/step - loss: 0.8590 - accuracy: 0.7547\n",
      "Epoch 3/10\n",
      "2671/2671 [==============================] - 4s 2ms/step - loss: 0.8336 - accuracy: 0.7562\n",
      "Epoch 4/10\n",
      "2671/2671 [==============================] - 6s 2ms/step - loss: 0.8184 - accuracy: 0.7569\n",
      "Epoch 5/10\n",
      "2671/2671 [==============================] - 4s 1ms/step - loss: 0.8070 - accuracy: 0.7581\n",
      "Epoch 6/10\n",
      "2671/2671 [==============================] - 4s 2ms/step - loss: 0.8029 - accuracy: 0.7584\n",
      "Epoch 7/10\n",
      "2671/2671 [==============================] - 4s 1ms/step - loss: 0.7960 - accuracy: 0.7588\n",
      "Epoch 8/10\n",
      "2671/2671 [==============================] - 4s 1ms/step - loss: 0.7911 - accuracy: 0.7590\n",
      "Epoch 9/10\n",
      "1251/2671 [=============>................] - ETA: 5s - loss: 0.7886 - accuracy: 0.7575"
     ]
    },
    {
     "ename": "KeyboardInterrupt",
     "evalue": "",
     "output_type": "error",
     "traceback": [
      "\u001b[1;31m---------------------------------------------------------------------------\u001b[0m",
      "\u001b[1;31mKeyboardInterrupt\u001b[0m                         Traceback (most recent call last)",
      "\u001b[1;32m<ipython-input-517-606c2280d5fb>\u001b[0m in \u001b[0;36m<module>\u001b[1;34m\u001b[0m\n\u001b[1;32m----> 1\u001b[1;33m \u001b[0mgrid_search\u001b[0m\u001b[1;33m.\u001b[0m\u001b[0mfit\u001b[0m\u001b[1;33m(\u001b[0m\u001b[0mX\u001b[0m\u001b[1;33m,\u001b[0m \u001b[0my_auxHeat\u001b[0m\u001b[1;33m)\u001b[0m\u001b[1;33m\u001b[0m\u001b[1;33m\u001b[0m\u001b[0m\n\u001b[0m",
      "\u001b[1;32mc:\\users\\hongyliu\\appdata\\local\\programs\\python\\python36\\lib\\site-packages\\sklearn\\utils\\validation.py\u001b[0m in \u001b[0;36minner_f\u001b[1;34m(*args, **kwargs)\u001b[0m\n\u001b[0;32m     61\u001b[0m             \u001b[0mextra_args\u001b[0m \u001b[1;33m=\u001b[0m \u001b[0mlen\u001b[0m\u001b[1;33m(\u001b[0m\u001b[0margs\u001b[0m\u001b[1;33m)\u001b[0m \u001b[1;33m-\u001b[0m \u001b[0mlen\u001b[0m\u001b[1;33m(\u001b[0m\u001b[0mall_args\u001b[0m\u001b[1;33m)\u001b[0m\u001b[1;33m\u001b[0m\u001b[1;33m\u001b[0m\u001b[0m\n\u001b[0;32m     62\u001b[0m             \u001b[1;32mif\u001b[0m \u001b[0mextra_args\u001b[0m \u001b[1;33m<=\u001b[0m \u001b[1;36m0\u001b[0m\u001b[1;33m:\u001b[0m\u001b[1;33m\u001b[0m\u001b[1;33m\u001b[0m\u001b[0m\n\u001b[1;32m---> 63\u001b[1;33m                 \u001b[1;32mreturn\u001b[0m \u001b[0mf\u001b[0m\u001b[1;33m(\u001b[0m\u001b[1;33m*\u001b[0m\u001b[0margs\u001b[0m\u001b[1;33m,\u001b[0m \u001b[1;33m**\u001b[0m\u001b[0mkwargs\u001b[0m\u001b[1;33m)\u001b[0m\u001b[1;33m\u001b[0m\u001b[1;33m\u001b[0m\u001b[0m\n\u001b[0m\u001b[0;32m     64\u001b[0m \u001b[1;33m\u001b[0m\u001b[0m\n\u001b[0;32m     65\u001b[0m             \u001b[1;31m# extra_args > 0\u001b[0m\u001b[1;33m\u001b[0m\u001b[1;33m\u001b[0m\u001b[1;33m\u001b[0m\u001b[0m\n",
      "\u001b[1;32mc:\\users\\hongyliu\\appdata\\local\\programs\\python\\python36\\lib\\site-packages\\sklearn\\model_selection\\_search.py\u001b[0m in \u001b[0;36mfit\u001b[1;34m(self, X, y, groups, **fit_params)\u001b[0m\n\u001b[0;32m    839\u001b[0m                 \u001b[1;32mreturn\u001b[0m \u001b[0mresults\u001b[0m\u001b[1;33m\u001b[0m\u001b[1;33m\u001b[0m\u001b[0m\n\u001b[0;32m    840\u001b[0m \u001b[1;33m\u001b[0m\u001b[0m\n\u001b[1;32m--> 841\u001b[1;33m             \u001b[0mself\u001b[0m\u001b[1;33m.\u001b[0m\u001b[0m_run_search\u001b[0m\u001b[1;33m(\u001b[0m\u001b[0mevaluate_candidates\u001b[0m\u001b[1;33m)\u001b[0m\u001b[1;33m\u001b[0m\u001b[1;33m\u001b[0m\u001b[0m\n\u001b[0m\u001b[0;32m    842\u001b[0m \u001b[1;33m\u001b[0m\u001b[0m\n\u001b[0;32m    843\u001b[0m             \u001b[1;31m# multimetric is determined here because in the case of a callable\u001b[0m\u001b[1;33m\u001b[0m\u001b[1;33m\u001b[0m\u001b[1;33m\u001b[0m\u001b[0m\n",
      "\u001b[1;32mc:\\users\\hongyliu\\appdata\\local\\programs\\python\\python36\\lib\\site-packages\\sklearn\\model_selection\\_search.py\u001b[0m in \u001b[0;36m_run_search\u001b[1;34m(self, evaluate_candidates)\u001b[0m\n\u001b[0;32m   1294\u001b[0m     \u001b[1;32mdef\u001b[0m \u001b[0m_run_search\u001b[0m\u001b[1;33m(\u001b[0m\u001b[0mself\u001b[0m\u001b[1;33m,\u001b[0m \u001b[0mevaluate_candidates\u001b[0m\u001b[1;33m)\u001b[0m\u001b[1;33m:\u001b[0m\u001b[1;33m\u001b[0m\u001b[1;33m\u001b[0m\u001b[0m\n\u001b[0;32m   1295\u001b[0m         \u001b[1;34m\"\"\"Search all candidates in param_grid\"\"\"\u001b[0m\u001b[1;33m\u001b[0m\u001b[1;33m\u001b[0m\u001b[0m\n\u001b[1;32m-> 1296\u001b[1;33m         \u001b[0mevaluate_candidates\u001b[0m\u001b[1;33m(\u001b[0m\u001b[0mParameterGrid\u001b[0m\u001b[1;33m(\u001b[0m\u001b[0mself\u001b[0m\u001b[1;33m.\u001b[0m\u001b[0mparam_grid\u001b[0m\u001b[1;33m)\u001b[0m\u001b[1;33m)\u001b[0m\u001b[1;33m\u001b[0m\u001b[1;33m\u001b[0m\u001b[0m\n\u001b[0m\u001b[0;32m   1297\u001b[0m \u001b[1;33m\u001b[0m\u001b[0m\n\u001b[0;32m   1298\u001b[0m \u001b[1;33m\u001b[0m\u001b[0m\n",
      "\u001b[1;32mc:\\users\\hongyliu\\appdata\\local\\programs\\python\\python36\\lib\\site-packages\\sklearn\\model_selection\\_search.py\u001b[0m in \u001b[0;36mevaluate_candidates\u001b[1;34m(candidate_params, cv, more_results)\u001b[0m\n\u001b[0;32m    807\u001b[0m                                    (split_idx, (train, test)) in product(\n\u001b[0;32m    808\u001b[0m                                    \u001b[0menumerate\u001b[0m\u001b[1;33m(\u001b[0m\u001b[0mcandidate_params\u001b[0m\u001b[1;33m)\u001b[0m\u001b[1;33m,\u001b[0m\u001b[1;33m\u001b[0m\u001b[1;33m\u001b[0m\u001b[0m\n\u001b[1;32m--> 809\u001b[1;33m                                    enumerate(cv.split(X, y, groups))))\n\u001b[0m\u001b[0;32m    810\u001b[0m \u001b[1;33m\u001b[0m\u001b[0m\n\u001b[0;32m    811\u001b[0m                 \u001b[1;32mif\u001b[0m \u001b[0mlen\u001b[0m\u001b[1;33m(\u001b[0m\u001b[0mout\u001b[0m\u001b[1;33m)\u001b[0m \u001b[1;33m<\u001b[0m \u001b[1;36m1\u001b[0m\u001b[1;33m:\u001b[0m\u001b[1;33m\u001b[0m\u001b[1;33m\u001b[0m\u001b[0m\n",
      "\u001b[1;32mc:\\users\\hongyliu\\appdata\\local\\programs\\python\\python36\\lib\\site-packages\\joblib\\parallel.py\u001b[0m in \u001b[0;36m__call__\u001b[1;34m(self, iterable)\u001b[0m\n\u001b[0;32m   1005\u001b[0m                 \u001b[0mself\u001b[0m\u001b[1;33m.\u001b[0m\u001b[0m_iterating\u001b[0m \u001b[1;33m=\u001b[0m \u001b[0mself\u001b[0m\u001b[1;33m.\u001b[0m\u001b[0m_original_iterator\u001b[0m \u001b[1;32mis\u001b[0m \u001b[1;32mnot\u001b[0m \u001b[1;32mNone\u001b[0m\u001b[1;33m\u001b[0m\u001b[1;33m\u001b[0m\u001b[0m\n\u001b[0;32m   1006\u001b[0m \u001b[1;33m\u001b[0m\u001b[0m\n\u001b[1;32m-> 1007\u001b[1;33m             \u001b[1;32mwhile\u001b[0m \u001b[0mself\u001b[0m\u001b[1;33m.\u001b[0m\u001b[0mdispatch_one_batch\u001b[0m\u001b[1;33m(\u001b[0m\u001b[0miterator\u001b[0m\u001b[1;33m)\u001b[0m\u001b[1;33m:\u001b[0m\u001b[1;33m\u001b[0m\u001b[1;33m\u001b[0m\u001b[0m\n\u001b[0m\u001b[0;32m   1008\u001b[0m                 \u001b[1;32mpass\u001b[0m\u001b[1;33m\u001b[0m\u001b[1;33m\u001b[0m\u001b[0m\n\u001b[0;32m   1009\u001b[0m \u001b[1;33m\u001b[0m\u001b[0m\n",
      "\u001b[1;32mc:\\users\\hongyliu\\appdata\\local\\programs\\python\\python36\\lib\\site-packages\\joblib\\parallel.py\u001b[0m in \u001b[0;36mdispatch_one_batch\u001b[1;34m(self, iterator)\u001b[0m\n\u001b[0;32m    833\u001b[0m                 \u001b[1;32mreturn\u001b[0m \u001b[1;32mFalse\u001b[0m\u001b[1;33m\u001b[0m\u001b[1;33m\u001b[0m\u001b[0m\n\u001b[0;32m    834\u001b[0m             \u001b[1;32melse\u001b[0m\u001b[1;33m:\u001b[0m\u001b[1;33m\u001b[0m\u001b[1;33m\u001b[0m\u001b[0m\n\u001b[1;32m--> 835\u001b[1;33m                 \u001b[0mself\u001b[0m\u001b[1;33m.\u001b[0m\u001b[0m_dispatch\u001b[0m\u001b[1;33m(\u001b[0m\u001b[0mtasks\u001b[0m\u001b[1;33m)\u001b[0m\u001b[1;33m\u001b[0m\u001b[1;33m\u001b[0m\u001b[0m\n\u001b[0m\u001b[0;32m    836\u001b[0m                 \u001b[1;32mreturn\u001b[0m \u001b[1;32mTrue\u001b[0m\u001b[1;33m\u001b[0m\u001b[1;33m\u001b[0m\u001b[0m\n\u001b[0;32m    837\u001b[0m \u001b[1;33m\u001b[0m\u001b[0m\n",
      "\u001b[1;32mc:\\users\\hongyliu\\appdata\\local\\programs\\python\\python36\\lib\\site-packages\\joblib\\parallel.py\u001b[0m in \u001b[0;36m_dispatch\u001b[1;34m(self, batch)\u001b[0m\n\u001b[0;32m    752\u001b[0m         \u001b[1;32mwith\u001b[0m \u001b[0mself\u001b[0m\u001b[1;33m.\u001b[0m\u001b[0m_lock\u001b[0m\u001b[1;33m:\u001b[0m\u001b[1;33m\u001b[0m\u001b[1;33m\u001b[0m\u001b[0m\n\u001b[0;32m    753\u001b[0m             \u001b[0mjob_idx\u001b[0m \u001b[1;33m=\u001b[0m \u001b[0mlen\u001b[0m\u001b[1;33m(\u001b[0m\u001b[0mself\u001b[0m\u001b[1;33m.\u001b[0m\u001b[0m_jobs\u001b[0m\u001b[1;33m)\u001b[0m\u001b[1;33m\u001b[0m\u001b[1;33m\u001b[0m\u001b[0m\n\u001b[1;32m--> 754\u001b[1;33m             \u001b[0mjob\u001b[0m \u001b[1;33m=\u001b[0m \u001b[0mself\u001b[0m\u001b[1;33m.\u001b[0m\u001b[0m_backend\u001b[0m\u001b[1;33m.\u001b[0m\u001b[0mapply_async\u001b[0m\u001b[1;33m(\u001b[0m\u001b[0mbatch\u001b[0m\u001b[1;33m,\u001b[0m \u001b[0mcallback\u001b[0m\u001b[1;33m=\u001b[0m\u001b[0mcb\u001b[0m\u001b[1;33m)\u001b[0m\u001b[1;33m\u001b[0m\u001b[1;33m\u001b[0m\u001b[0m\n\u001b[0m\u001b[0;32m    755\u001b[0m             \u001b[1;31m# A job can complete so quickly than its callback is\u001b[0m\u001b[1;33m\u001b[0m\u001b[1;33m\u001b[0m\u001b[1;33m\u001b[0m\u001b[0m\n\u001b[0;32m    756\u001b[0m             \u001b[1;31m# called before we get here, causing self._jobs to\u001b[0m\u001b[1;33m\u001b[0m\u001b[1;33m\u001b[0m\u001b[1;33m\u001b[0m\u001b[0m\n",
      "\u001b[1;32mc:\\users\\hongyliu\\appdata\\local\\programs\\python\\python36\\lib\\site-packages\\joblib\\_parallel_backends.py\u001b[0m in \u001b[0;36mapply_async\u001b[1;34m(self, func, callback)\u001b[0m\n\u001b[0;32m    207\u001b[0m     \u001b[1;32mdef\u001b[0m \u001b[0mapply_async\u001b[0m\u001b[1;33m(\u001b[0m\u001b[0mself\u001b[0m\u001b[1;33m,\u001b[0m \u001b[0mfunc\u001b[0m\u001b[1;33m,\u001b[0m \u001b[0mcallback\u001b[0m\u001b[1;33m=\u001b[0m\u001b[1;32mNone\u001b[0m\u001b[1;33m)\u001b[0m\u001b[1;33m:\u001b[0m\u001b[1;33m\u001b[0m\u001b[1;33m\u001b[0m\u001b[0m\n\u001b[0;32m    208\u001b[0m         \u001b[1;34m\"\"\"Schedule a func to be run\"\"\"\u001b[0m\u001b[1;33m\u001b[0m\u001b[1;33m\u001b[0m\u001b[0m\n\u001b[1;32m--> 209\u001b[1;33m         \u001b[0mresult\u001b[0m \u001b[1;33m=\u001b[0m \u001b[0mImmediateResult\u001b[0m\u001b[1;33m(\u001b[0m\u001b[0mfunc\u001b[0m\u001b[1;33m)\u001b[0m\u001b[1;33m\u001b[0m\u001b[1;33m\u001b[0m\u001b[0m\n\u001b[0m\u001b[0;32m    210\u001b[0m         \u001b[1;32mif\u001b[0m \u001b[0mcallback\u001b[0m\u001b[1;33m:\u001b[0m\u001b[1;33m\u001b[0m\u001b[1;33m\u001b[0m\u001b[0m\n\u001b[0;32m    211\u001b[0m             \u001b[0mcallback\u001b[0m\u001b[1;33m(\u001b[0m\u001b[0mresult\u001b[0m\u001b[1;33m)\u001b[0m\u001b[1;33m\u001b[0m\u001b[1;33m\u001b[0m\u001b[0m\n",
      "\u001b[1;32mc:\\users\\hongyliu\\appdata\\local\\programs\\python\\python36\\lib\\site-packages\\joblib\\_parallel_backends.py\u001b[0m in \u001b[0;36m__init__\u001b[1;34m(self, batch)\u001b[0m\n\u001b[0;32m    588\u001b[0m         \u001b[1;31m# Don't delay the application, to avoid keeping the input\u001b[0m\u001b[1;33m\u001b[0m\u001b[1;33m\u001b[0m\u001b[1;33m\u001b[0m\u001b[0m\n\u001b[0;32m    589\u001b[0m         \u001b[1;31m# arguments in memory\u001b[0m\u001b[1;33m\u001b[0m\u001b[1;33m\u001b[0m\u001b[1;33m\u001b[0m\u001b[0m\n\u001b[1;32m--> 590\u001b[1;33m         \u001b[0mself\u001b[0m\u001b[1;33m.\u001b[0m\u001b[0mresults\u001b[0m \u001b[1;33m=\u001b[0m \u001b[0mbatch\u001b[0m\u001b[1;33m(\u001b[0m\u001b[1;33m)\u001b[0m\u001b[1;33m\u001b[0m\u001b[1;33m\u001b[0m\u001b[0m\n\u001b[0m\u001b[0;32m    591\u001b[0m \u001b[1;33m\u001b[0m\u001b[0m\n\u001b[0;32m    592\u001b[0m     \u001b[1;32mdef\u001b[0m \u001b[0mget\u001b[0m\u001b[1;33m(\u001b[0m\u001b[0mself\u001b[0m\u001b[1;33m)\u001b[0m\u001b[1;33m:\u001b[0m\u001b[1;33m\u001b[0m\u001b[1;33m\u001b[0m\u001b[0m\n",
      "\u001b[1;32mc:\\users\\hongyliu\\appdata\\local\\programs\\python\\python36\\lib\\site-packages\\joblib\\parallel.py\u001b[0m in \u001b[0;36m__call__\u001b[1;34m(self)\u001b[0m\n\u001b[0;32m    254\u001b[0m         \u001b[1;32mwith\u001b[0m \u001b[0mparallel_backend\u001b[0m\u001b[1;33m(\u001b[0m\u001b[0mself\u001b[0m\u001b[1;33m.\u001b[0m\u001b[0m_backend\u001b[0m\u001b[1;33m,\u001b[0m \u001b[0mn_jobs\u001b[0m\u001b[1;33m=\u001b[0m\u001b[0mself\u001b[0m\u001b[1;33m.\u001b[0m\u001b[0m_n_jobs\u001b[0m\u001b[1;33m)\u001b[0m\u001b[1;33m:\u001b[0m\u001b[1;33m\u001b[0m\u001b[1;33m\u001b[0m\u001b[0m\n\u001b[0;32m    255\u001b[0m             return [func(*args, **kwargs)\n\u001b[1;32m--> 256\u001b[1;33m                     for func, args, kwargs in self.items]\n\u001b[0m\u001b[0;32m    257\u001b[0m \u001b[1;33m\u001b[0m\u001b[0m\n\u001b[0;32m    258\u001b[0m     \u001b[1;32mdef\u001b[0m \u001b[0m__len__\u001b[0m\u001b[1;33m(\u001b[0m\u001b[0mself\u001b[0m\u001b[1;33m)\u001b[0m\u001b[1;33m:\u001b[0m\u001b[1;33m\u001b[0m\u001b[1;33m\u001b[0m\u001b[0m\n",
      "\u001b[1;32mc:\\users\\hongyliu\\appdata\\local\\programs\\python\\python36\\lib\\site-packages\\joblib\\parallel.py\u001b[0m in \u001b[0;36m<listcomp>\u001b[1;34m(.0)\u001b[0m\n\u001b[0;32m    254\u001b[0m         \u001b[1;32mwith\u001b[0m \u001b[0mparallel_backend\u001b[0m\u001b[1;33m(\u001b[0m\u001b[0mself\u001b[0m\u001b[1;33m.\u001b[0m\u001b[0m_backend\u001b[0m\u001b[1;33m,\u001b[0m \u001b[0mn_jobs\u001b[0m\u001b[1;33m=\u001b[0m\u001b[0mself\u001b[0m\u001b[1;33m.\u001b[0m\u001b[0m_n_jobs\u001b[0m\u001b[1;33m)\u001b[0m\u001b[1;33m:\u001b[0m\u001b[1;33m\u001b[0m\u001b[1;33m\u001b[0m\u001b[0m\n\u001b[0;32m    255\u001b[0m             return [func(*args, **kwargs)\n\u001b[1;32m--> 256\u001b[1;33m                     for func, args, kwargs in self.items]\n\u001b[0m\u001b[0;32m    257\u001b[0m \u001b[1;33m\u001b[0m\u001b[0m\n\u001b[0;32m    258\u001b[0m     \u001b[1;32mdef\u001b[0m \u001b[0m__len__\u001b[0m\u001b[1;33m(\u001b[0m\u001b[0mself\u001b[0m\u001b[1;33m)\u001b[0m\u001b[1;33m:\u001b[0m\u001b[1;33m\u001b[0m\u001b[1;33m\u001b[0m\u001b[0m\n",
      "\u001b[1;32mc:\\users\\hongyliu\\appdata\\local\\programs\\python\\python36\\lib\\site-packages\\sklearn\\utils\\fixes.py\u001b[0m in \u001b[0;36m__call__\u001b[1;34m(self, *args, **kwargs)\u001b[0m\n\u001b[0;32m    220\u001b[0m     \u001b[1;32mdef\u001b[0m \u001b[0m__call__\u001b[0m\u001b[1;33m(\u001b[0m\u001b[0mself\u001b[0m\u001b[1;33m,\u001b[0m \u001b[1;33m*\u001b[0m\u001b[0margs\u001b[0m\u001b[1;33m,\u001b[0m \u001b[1;33m**\u001b[0m\u001b[0mkwargs\u001b[0m\u001b[1;33m)\u001b[0m\u001b[1;33m:\u001b[0m\u001b[1;33m\u001b[0m\u001b[1;33m\u001b[0m\u001b[0m\n\u001b[0;32m    221\u001b[0m         \u001b[1;32mwith\u001b[0m \u001b[0mconfig_context\u001b[0m\u001b[1;33m(\u001b[0m\u001b[1;33m**\u001b[0m\u001b[0mself\u001b[0m\u001b[1;33m.\u001b[0m\u001b[0mconfig\u001b[0m\u001b[1;33m)\u001b[0m\u001b[1;33m:\u001b[0m\u001b[1;33m\u001b[0m\u001b[1;33m\u001b[0m\u001b[0m\n\u001b[1;32m--> 222\u001b[1;33m             \u001b[1;32mreturn\u001b[0m \u001b[0mself\u001b[0m\u001b[1;33m.\u001b[0m\u001b[0mfunction\u001b[0m\u001b[1;33m(\u001b[0m\u001b[1;33m*\u001b[0m\u001b[0margs\u001b[0m\u001b[1;33m,\u001b[0m \u001b[1;33m**\u001b[0m\u001b[0mkwargs\u001b[0m\u001b[1;33m)\u001b[0m\u001b[1;33m\u001b[0m\u001b[1;33m\u001b[0m\u001b[0m\n\u001b[0m",
      "\u001b[1;32mc:\\users\\hongyliu\\appdata\\local\\programs\\python\\python36\\lib\\site-packages\\sklearn\\model_selection\\_validation.py\u001b[0m in \u001b[0;36m_fit_and_score\u001b[1;34m(estimator, X, y, scorer, train, test, verbose, parameters, fit_params, return_train_score, return_parameters, return_n_test_samples, return_times, return_estimator, split_progress, candidate_progress, error_score)\u001b[0m\n\u001b[0;32m    596\u001b[0m             \u001b[0mestimator\u001b[0m\u001b[1;33m.\u001b[0m\u001b[0mfit\u001b[0m\u001b[1;33m(\u001b[0m\u001b[0mX_train\u001b[0m\u001b[1;33m,\u001b[0m \u001b[1;33m**\u001b[0m\u001b[0mfit_params\u001b[0m\u001b[1;33m)\u001b[0m\u001b[1;33m\u001b[0m\u001b[1;33m\u001b[0m\u001b[0m\n\u001b[0;32m    597\u001b[0m         \u001b[1;32melse\u001b[0m\u001b[1;33m:\u001b[0m\u001b[1;33m\u001b[0m\u001b[1;33m\u001b[0m\u001b[0m\n\u001b[1;32m--> 598\u001b[1;33m             \u001b[0mestimator\u001b[0m\u001b[1;33m.\u001b[0m\u001b[0mfit\u001b[0m\u001b[1;33m(\u001b[0m\u001b[0mX_train\u001b[0m\u001b[1;33m,\u001b[0m \u001b[0my_train\u001b[0m\u001b[1;33m,\u001b[0m \u001b[1;33m**\u001b[0m\u001b[0mfit_params\u001b[0m\u001b[1;33m)\u001b[0m\u001b[1;33m\u001b[0m\u001b[1;33m\u001b[0m\u001b[0m\n\u001b[0m\u001b[0;32m    599\u001b[0m \u001b[1;33m\u001b[0m\u001b[0m\n\u001b[0;32m    600\u001b[0m     \u001b[1;32mexcept\u001b[0m \u001b[0mException\u001b[0m \u001b[1;32mas\u001b[0m \u001b[0me\u001b[0m\u001b[1;33m:\u001b[0m\u001b[1;33m\u001b[0m\u001b[1;33m\u001b[0m\u001b[0m\n",
      "\u001b[1;32mc:\\users\\hongyliu\\appdata\\local\\programs\\python\\python36\\lib\\site-packages\\keras\\wrappers\\scikit_learn.py\u001b[0m in \u001b[0;36mfit\u001b[1;34m(self, x, y, **kwargs)\u001b[0m\n\u001b[0;32m    218\u001b[0m       \u001b[1;32mraise\u001b[0m \u001b[0mValueError\u001b[0m\u001b[1;33m(\u001b[0m\u001b[1;34m'Invalid shape for y: '\u001b[0m \u001b[1;33m+\u001b[0m \u001b[0mstr\u001b[0m\u001b[1;33m(\u001b[0m\u001b[0my\u001b[0m\u001b[1;33m.\u001b[0m\u001b[0mshape\u001b[0m\u001b[1;33m)\u001b[0m\u001b[1;33m)\u001b[0m\u001b[1;33m\u001b[0m\u001b[1;33m\u001b[0m\u001b[0m\n\u001b[0;32m    219\u001b[0m     \u001b[0mself\u001b[0m\u001b[1;33m.\u001b[0m\u001b[0mn_classes_\u001b[0m \u001b[1;33m=\u001b[0m \u001b[0mlen\u001b[0m\u001b[1;33m(\u001b[0m\u001b[0mself\u001b[0m\u001b[1;33m.\u001b[0m\u001b[0mclasses_\u001b[0m\u001b[1;33m)\u001b[0m\u001b[1;33m\u001b[0m\u001b[1;33m\u001b[0m\u001b[0m\n\u001b[1;32m--> 220\u001b[1;33m     \u001b[1;32mreturn\u001b[0m \u001b[0msuper\u001b[0m\u001b[1;33m(\u001b[0m\u001b[0mKerasClassifier\u001b[0m\u001b[1;33m,\u001b[0m \u001b[0mself\u001b[0m\u001b[1;33m)\u001b[0m\u001b[1;33m.\u001b[0m\u001b[0mfit\u001b[0m\u001b[1;33m(\u001b[0m\u001b[0mx\u001b[0m\u001b[1;33m,\u001b[0m \u001b[0my\u001b[0m\u001b[1;33m,\u001b[0m \u001b[1;33m**\u001b[0m\u001b[0mkwargs\u001b[0m\u001b[1;33m)\u001b[0m\u001b[1;33m\u001b[0m\u001b[1;33m\u001b[0m\u001b[0m\n\u001b[0m\u001b[0;32m    221\u001b[0m \u001b[1;33m\u001b[0m\u001b[0m\n\u001b[0;32m    222\u001b[0m   \u001b[1;32mdef\u001b[0m \u001b[0mpredict\u001b[0m\u001b[1;33m(\u001b[0m\u001b[0mself\u001b[0m\u001b[1;33m,\u001b[0m \u001b[0mx\u001b[0m\u001b[1;33m,\u001b[0m \u001b[1;33m**\u001b[0m\u001b[0mkwargs\u001b[0m\u001b[1;33m)\u001b[0m\u001b[1;33m:\u001b[0m\u001b[1;33m\u001b[0m\u001b[1;33m\u001b[0m\u001b[0m\n",
      "\u001b[1;32mc:\\users\\hongyliu\\appdata\\local\\programs\\python\\python36\\lib\\site-packages\\keras\\wrappers\\scikit_learn.py\u001b[0m in \u001b[0;36mfit\u001b[1;34m(self, x, y, **kwargs)\u001b[0m\n\u001b[0;32m    161\u001b[0m     \u001b[0mfit_args\u001b[0m\u001b[1;33m.\u001b[0m\u001b[0mupdate\u001b[0m\u001b[1;33m(\u001b[0m\u001b[0mkwargs\u001b[0m\u001b[1;33m)\u001b[0m\u001b[1;33m\u001b[0m\u001b[1;33m\u001b[0m\u001b[0m\n\u001b[0;32m    162\u001b[0m \u001b[1;33m\u001b[0m\u001b[0m\n\u001b[1;32m--> 163\u001b[1;33m     \u001b[0mhistory\u001b[0m \u001b[1;33m=\u001b[0m \u001b[0mself\u001b[0m\u001b[1;33m.\u001b[0m\u001b[0mmodel\u001b[0m\u001b[1;33m.\u001b[0m\u001b[0mfit\u001b[0m\u001b[1;33m(\u001b[0m\u001b[0mx\u001b[0m\u001b[1;33m,\u001b[0m \u001b[0my\u001b[0m\u001b[1;33m,\u001b[0m \u001b[1;33m**\u001b[0m\u001b[0mfit_args\u001b[0m\u001b[1;33m)\u001b[0m\u001b[1;33m\u001b[0m\u001b[1;33m\u001b[0m\u001b[0m\n\u001b[0m\u001b[0;32m    164\u001b[0m \u001b[1;33m\u001b[0m\u001b[0m\n\u001b[0;32m    165\u001b[0m     \u001b[1;32mreturn\u001b[0m \u001b[0mhistory\u001b[0m\u001b[1;33m\u001b[0m\u001b[1;33m\u001b[0m\u001b[0m\n",
      "\u001b[1;32mc:\\users\\hongyliu\\appdata\\local\\programs\\python\\python36\\lib\\site-packages\\tensorflow\\python\\keras\\engine\\training.py\u001b[0m in \u001b[0;36mfit\u001b[1;34m(self, x, y, batch_size, epochs, verbose, callbacks, validation_split, validation_data, shuffle, class_weight, sample_weight, initial_epoch, steps_per_epoch, validation_steps, validation_batch_size, validation_freq, max_queue_size, workers, use_multiprocessing)\u001b[0m\n\u001b[0;32m   1181\u001b[0m                 _r=1):\n\u001b[0;32m   1182\u001b[0m               \u001b[0mcallbacks\u001b[0m\u001b[1;33m.\u001b[0m\u001b[0mon_train_batch_begin\u001b[0m\u001b[1;33m(\u001b[0m\u001b[0mstep\u001b[0m\u001b[1;33m)\u001b[0m\u001b[1;33m\u001b[0m\u001b[1;33m\u001b[0m\u001b[0m\n\u001b[1;32m-> 1183\u001b[1;33m               \u001b[0mtmp_logs\u001b[0m \u001b[1;33m=\u001b[0m \u001b[0mself\u001b[0m\u001b[1;33m.\u001b[0m\u001b[0mtrain_function\u001b[0m\u001b[1;33m(\u001b[0m\u001b[0miterator\u001b[0m\u001b[1;33m)\u001b[0m\u001b[1;33m\u001b[0m\u001b[1;33m\u001b[0m\u001b[0m\n\u001b[0m\u001b[0;32m   1184\u001b[0m               \u001b[1;32mif\u001b[0m \u001b[0mdata_handler\u001b[0m\u001b[1;33m.\u001b[0m\u001b[0mshould_sync\u001b[0m\u001b[1;33m:\u001b[0m\u001b[1;33m\u001b[0m\u001b[1;33m\u001b[0m\u001b[0m\n\u001b[0;32m   1185\u001b[0m                 \u001b[0mcontext\u001b[0m\u001b[1;33m.\u001b[0m\u001b[0masync_wait\u001b[0m\u001b[1;33m(\u001b[0m\u001b[1;33m)\u001b[0m\u001b[1;33m\u001b[0m\u001b[1;33m\u001b[0m\u001b[0m\n",
      "\u001b[1;32mc:\\users\\hongyliu\\appdata\\local\\programs\\python\\python36\\lib\\site-packages\\tensorflow\\python\\eager\\def_function.py\u001b[0m in \u001b[0;36m__call__\u001b[1;34m(self, *args, **kwds)\u001b[0m\n\u001b[0;32m    887\u001b[0m \u001b[1;33m\u001b[0m\u001b[0m\n\u001b[0;32m    888\u001b[0m       \u001b[1;32mwith\u001b[0m \u001b[0mOptionalXlaContext\u001b[0m\u001b[1;33m(\u001b[0m\u001b[0mself\u001b[0m\u001b[1;33m.\u001b[0m\u001b[0m_jit_compile\u001b[0m\u001b[1;33m)\u001b[0m\u001b[1;33m:\u001b[0m\u001b[1;33m\u001b[0m\u001b[1;33m\u001b[0m\u001b[0m\n\u001b[1;32m--> 889\u001b[1;33m         \u001b[0mresult\u001b[0m \u001b[1;33m=\u001b[0m \u001b[0mself\u001b[0m\u001b[1;33m.\u001b[0m\u001b[0m_call\u001b[0m\u001b[1;33m(\u001b[0m\u001b[1;33m*\u001b[0m\u001b[0margs\u001b[0m\u001b[1;33m,\u001b[0m \u001b[1;33m**\u001b[0m\u001b[0mkwds\u001b[0m\u001b[1;33m)\u001b[0m\u001b[1;33m\u001b[0m\u001b[1;33m\u001b[0m\u001b[0m\n\u001b[0m\u001b[0;32m    890\u001b[0m \u001b[1;33m\u001b[0m\u001b[0m\n\u001b[0;32m    891\u001b[0m       \u001b[0mnew_tracing_count\u001b[0m \u001b[1;33m=\u001b[0m \u001b[0mself\u001b[0m\u001b[1;33m.\u001b[0m\u001b[0mexperimental_get_tracing_count\u001b[0m\u001b[1;33m(\u001b[0m\u001b[1;33m)\u001b[0m\u001b[1;33m\u001b[0m\u001b[1;33m\u001b[0m\u001b[0m\n",
      "\u001b[1;32mc:\\users\\hongyliu\\appdata\\local\\programs\\python\\python36\\lib\\site-packages\\tensorflow\\python\\eager\\def_function.py\u001b[0m in \u001b[0;36m_call\u001b[1;34m(self, *args, **kwds)\u001b[0m\n\u001b[0;32m    915\u001b[0m       \u001b[1;31m# In this case we have created variables on the first call, so we run the\u001b[0m\u001b[1;33m\u001b[0m\u001b[1;33m\u001b[0m\u001b[1;33m\u001b[0m\u001b[0m\n\u001b[0;32m    916\u001b[0m       \u001b[1;31m# defunned version which is guaranteed to never create variables.\u001b[0m\u001b[1;33m\u001b[0m\u001b[1;33m\u001b[0m\u001b[1;33m\u001b[0m\u001b[0m\n\u001b[1;32m--> 917\u001b[1;33m       \u001b[1;32mreturn\u001b[0m \u001b[0mself\u001b[0m\u001b[1;33m.\u001b[0m\u001b[0m_stateless_fn\u001b[0m\u001b[1;33m(\u001b[0m\u001b[1;33m*\u001b[0m\u001b[0margs\u001b[0m\u001b[1;33m,\u001b[0m \u001b[1;33m**\u001b[0m\u001b[0mkwds\u001b[0m\u001b[1;33m)\u001b[0m  \u001b[1;31m# pylint: disable=not-callable\u001b[0m\u001b[1;33m\u001b[0m\u001b[1;33m\u001b[0m\u001b[0m\n\u001b[0m\u001b[0;32m    918\u001b[0m     \u001b[1;32melif\u001b[0m \u001b[0mself\u001b[0m\u001b[1;33m.\u001b[0m\u001b[0m_stateful_fn\u001b[0m \u001b[1;32mis\u001b[0m \u001b[1;32mnot\u001b[0m \u001b[1;32mNone\u001b[0m\u001b[1;33m:\u001b[0m\u001b[1;33m\u001b[0m\u001b[1;33m\u001b[0m\u001b[0m\n\u001b[0;32m    919\u001b[0m       \u001b[1;31m# Release the lock early so that multiple threads can perform the call\u001b[0m\u001b[1;33m\u001b[0m\u001b[1;33m\u001b[0m\u001b[1;33m\u001b[0m\u001b[0m\n",
      "\u001b[1;32mc:\\users\\hongyliu\\appdata\\local\\programs\\python\\python36\\lib\\site-packages\\tensorflow\\python\\eager\\function.py\u001b[0m in \u001b[0;36m__call__\u001b[1;34m(self, *args, **kwargs)\u001b[0m\n\u001b[0;32m   3022\u001b[0m        filtered_flat_args) = self._maybe_define_function(args, kwargs)\n\u001b[0;32m   3023\u001b[0m     return graph_function._call_flat(\n\u001b[1;32m-> 3024\u001b[1;33m         filtered_flat_args, captured_inputs=graph_function.captured_inputs)  # pylint: disable=protected-access\n\u001b[0m\u001b[0;32m   3025\u001b[0m \u001b[1;33m\u001b[0m\u001b[0m\n\u001b[0;32m   3026\u001b[0m   \u001b[1;33m@\u001b[0m\u001b[0mproperty\u001b[0m\u001b[1;33m\u001b[0m\u001b[1;33m\u001b[0m\u001b[0m\n",
      "\u001b[1;32mc:\\users\\hongyliu\\appdata\\local\\programs\\python\\python36\\lib\\site-packages\\tensorflow\\python\\eager\\function.py\u001b[0m in \u001b[0;36m_call_flat\u001b[1;34m(self, args, captured_inputs, cancellation_manager)\u001b[0m\n\u001b[0;32m   1959\u001b[0m       \u001b[1;31m# No tape is watching; skip to running the function.\u001b[0m\u001b[1;33m\u001b[0m\u001b[1;33m\u001b[0m\u001b[1;33m\u001b[0m\u001b[0m\n\u001b[0;32m   1960\u001b[0m       return self._build_call_outputs(self._inference_function.call(\n\u001b[1;32m-> 1961\u001b[1;33m           ctx, args, cancellation_manager=cancellation_manager))\n\u001b[0m\u001b[0;32m   1962\u001b[0m     forward_backward = self._select_forward_and_backward_functions(\n\u001b[0;32m   1963\u001b[0m         \u001b[0margs\u001b[0m\u001b[1;33m,\u001b[0m\u001b[1;33m\u001b[0m\u001b[1;33m\u001b[0m\u001b[0m\n",
      "\u001b[1;32mc:\\users\\hongyliu\\appdata\\local\\programs\\python\\python36\\lib\\site-packages\\tensorflow\\python\\eager\\function.py\u001b[0m in \u001b[0;36mcall\u001b[1;34m(self, ctx, args, cancellation_manager)\u001b[0m\n\u001b[0;32m    594\u001b[0m               \u001b[0minputs\u001b[0m\u001b[1;33m=\u001b[0m\u001b[0margs\u001b[0m\u001b[1;33m,\u001b[0m\u001b[1;33m\u001b[0m\u001b[1;33m\u001b[0m\u001b[0m\n\u001b[0;32m    595\u001b[0m               \u001b[0mattrs\u001b[0m\u001b[1;33m=\u001b[0m\u001b[0mattrs\u001b[0m\u001b[1;33m,\u001b[0m\u001b[1;33m\u001b[0m\u001b[1;33m\u001b[0m\u001b[0m\n\u001b[1;32m--> 596\u001b[1;33m               ctx=ctx)\n\u001b[0m\u001b[0;32m    597\u001b[0m         \u001b[1;32melse\u001b[0m\u001b[1;33m:\u001b[0m\u001b[1;33m\u001b[0m\u001b[1;33m\u001b[0m\u001b[0m\n\u001b[0;32m    598\u001b[0m           outputs = execute.execute_with_cancellation(\n",
      "\u001b[1;32mc:\\users\\hongyliu\\appdata\\local\\programs\\python\\python36\\lib\\site-packages\\tensorflow\\python\\eager\\execute.py\u001b[0m in \u001b[0;36mquick_execute\u001b[1;34m(op_name, num_outputs, inputs, attrs, ctx, name)\u001b[0m\n\u001b[0;32m     58\u001b[0m     \u001b[0mctx\u001b[0m\u001b[1;33m.\u001b[0m\u001b[0mensure_initialized\u001b[0m\u001b[1;33m(\u001b[0m\u001b[1;33m)\u001b[0m\u001b[1;33m\u001b[0m\u001b[1;33m\u001b[0m\u001b[0m\n\u001b[0;32m     59\u001b[0m     tensors = pywrap_tfe.TFE_Py_Execute(ctx._handle, device_name, op_name,\n\u001b[1;32m---> 60\u001b[1;33m                                         inputs, attrs, num_outputs)\n\u001b[0m\u001b[0;32m     61\u001b[0m   \u001b[1;32mexcept\u001b[0m \u001b[0mcore\u001b[0m\u001b[1;33m.\u001b[0m\u001b[0m_NotOkStatusException\u001b[0m \u001b[1;32mas\u001b[0m \u001b[0me\u001b[0m\u001b[1;33m:\u001b[0m\u001b[1;33m\u001b[0m\u001b[1;33m\u001b[0m\u001b[0m\n\u001b[0;32m     62\u001b[0m     \u001b[1;32mif\u001b[0m \u001b[0mname\u001b[0m \u001b[1;32mis\u001b[0m \u001b[1;32mnot\u001b[0m \u001b[1;32mNone\u001b[0m\u001b[1;33m:\u001b[0m\u001b[1;33m\u001b[0m\u001b[1;33m\u001b[0m\u001b[0m\n",
      "\u001b[1;31mKeyboardInterrupt\u001b[0m: "
     ]
    }
   ],
   "source": [
    "grid_search.fit(X, y_auxHeat)"
   ]
  },
  {
   "cell_type": "code",
   "execution_count": null,
   "metadata": {},
   "outputs": [],
   "source": [
    "grid_search.cv_results_"
   ]
  },
  {
   "cell_type": "code",
   "execution_count": null,
   "metadata": {},
   "outputs": [],
   "source": [
    "grid_search.get_params"
   ]
  },
  {
   "cell_type": "code",
   "execution_count": null,
   "metadata": {},
   "outputs": [],
   "source": [
    "grid_search_results = pd.DataFrame(grid_search.cv_results_, columns = list(grid_search.cv_results_.keys()))\n",
    "grid_search_results"
   ]
  },
  {
   "cell_type": "markdown",
   "metadata": {},
   "source": [
    "### Cross Validation"
   ]
  },
  {
   "cell_type": "code",
   "execution_count": 591,
   "metadata": {},
   "outputs": [],
   "source": [
    "def build_classifier_relu():\n",
    "\n",
    "    classifier = Sequential()\n",
    "\n",
    "    # Adding the input layer and the first hidden layer\n",
    "    classifier.add(Dense(units = 24, kernel_initializer = 'uniform', activation = 'relu', input_dim = 48))\n",
    "\n",
    "    # Adding the second hidden layer\n",
    "    classifier.add(Dense(units = 24, kernel_initializer = 'uniform', activation = 'relu'))\n",
    "\n",
    "    # Adding the output layer\n",
    "    classifier.add(Dense(units = 21, kernel_initializer = 'uniform', activation = 'softmax'))\n",
    "\n",
    "    # Compiling the ANN\n",
    "    classifier.compile(optimizer = 'adam', loss = 'categorical_crossentropy', metrics = ['accuracy'])\n",
    "    \n",
    "    return classifier"
   ]
  },
  {
   "cell_type": "code",
   "execution_count": 592,
   "metadata": {},
   "outputs": [],
   "source": [
    "classifier = KerasClassifier(build_fn = build_classifier_relu, batch_size = 64, nb_epoch = 50)"
   ]
  },
  {
   "cell_type": "code",
   "execution_count": 575,
   "metadata": {},
   "outputs": [],
   "source": [
    "# scoring = {'acc': 'accuracy',\n",
    "#            }\n",
    "#scoring = ['accuracy']"
   ]
  },
  {
   "cell_type": "code",
   "execution_count": 593,
   "metadata": {},
   "outputs": [],
   "source": [
    "ac_funcs = ['relu', 'logistic', 'tanh']\n",
    "ac_funcs_score_time = []\n",
    "ac_funcs_acc = []\n",
    "ac_funcs_f1 = []"
   ]
  },
  {
   "cell_type": "code",
   "execution_count": 594,
   "metadata": {},
   "outputs": [],
   "source": [
    "X = X.astype(float)\n",
    "y_auxHeat = y_auxHeat.astype(float)"
   ]
  },
  {
   "cell_type": "code",
   "execution_count": 595,
   "metadata": {},
   "outputs": [
    {
     "name": "stdout",
     "output_type": "stream",
     "text": [
      "418/418 [==============================] - 1s 2ms/step - loss: 1.3260 - accuracy: 0.7159\n",
      "47/47 [==============================] - 0s 1ms/step - loss: 1.2531 - accuracy: 0.6967\n",
      "418/418 [==============================] - 1s 2ms/step - loss: 1.3354 - accuracy: 0.7078\n",
      "47/47 [==============================] - 0s 1ms/step - loss: 1.2871 - accuracy: 0.6828\n",
      "418/418 [==============================] - 1s 2ms/step - loss: 1.3399 - accuracy: 0.6903\n",
      "47/47 [==============================] - 0s 1ms/step - loss: 1.0977 - accuracy: 0.7159\n",
      "418/418 [==============================] - 1s 2ms/step - loss: 1.3551 - accuracy: 0.7123\n",
      "47/47 [==============================] - 0s 1ms/step - loss: 1.0708 - accuracy: 0.7290\n",
      "418/418 [==============================] - 1s 2ms/step - loss: 1.3469 - accuracy: 0.6952\n",
      "47/47 [==============================] - 0s 1ms/step - loss: 1.0714 - accuracy: 0.7162\n",
      "418/418 [==============================] - 1s 2ms/step - loss: 1.3519 - accuracy: 0.7092\n",
      "47/47 [==============================] - 0s 2ms/step - loss: 1.0120 - accuracy: 0.7395\n",
      "418/418 [==============================] - 1s 2ms/step - loss: 1.3629 - accuracy: 0.6966\n",
      "47/47 [==============================] - 0s 1ms/step - loss: 0.9812 - accuracy: 0.7526\n",
      "418/418 [==============================] - 1s 2ms/step - loss: 1.3505 - accuracy: 0.7029\n",
      "47/47 [==============================] - 0s 1ms/step - loss: 0.8671 - accuracy: 0.7779\n",
      "418/418 [==============================] - 1s 2ms/step - loss: 1.3420 - accuracy: 0.7096\n",
      "47/47 [==============================] - 0s 1ms/step - loss: 0.8081 - accuracy: 0.8008\n",
      "418/418 [==============================] - 1s 2ms/step - loss: 1.3818 - accuracy: 0.6979\n",
      "47/47 [==============================] - 0s 2ms/step - loss: 0.7996 - accuracy: 0.8005\n"
     ]
    },
    {
     "data": {
      "text/plain": [
       "{'fit_time': array([1.45613742, 1.34741712, 1.30852008, 1.23070812, 1.23672771,\n",
       "        1.2367177 , 1.38033819, 1.25666094, 1.27360797, 1.34641027]),\n",
       " 'score_time': array([0.30617738, 0.27826047, 0.27726436, 0.26429558, 0.26926851,\n",
       "        0.323138  , 0.26228786, 0.24534416, 0.25332212, 0.30319262]),\n",
       " 'test_score': array([0.69666332, 0.68284464, 0.71587461, 0.72901922, 0.71621168,\n",
       "        0.7394675 , 0.75261205, 0.77789015, 0.80080891, 0.80047184])}"
      ]
     },
     "execution_count": 595,
     "metadata": {},
     "output_type": "execute_result"
    }
   ],
   "source": [
    "scores = cross_validate(estimator = classifier, X = X, y = y_auxHeat, cv = 10)\n",
    "scores"
   ]
  },
  {
   "cell_type": "code",
   "execution_count": 596,
   "metadata": {},
   "outputs": [],
   "source": [
    "ac_funcs_score_time.append(scores['score_time'])\n",
    "ac_funcs_acc.append(scores['test_score'])\n",
    "#ac_funcs_f1.append(scores['test_f1_weighted'])"
   ]
  },
  {
   "cell_type": "code",
   "execution_count": 597,
   "metadata": {},
   "outputs": [],
   "source": [
    "def build_classifier_sigmoid():\n",
    "\n",
    "    classifier = Sequential()\n",
    "\n",
    "    # Adding the input layer and the first hidden layer\n",
    "    classifier.add(Dense(units = 24, kernel_initializer = 'uniform', activation = 'sigmoid', input_dim = 48))\n",
    "\n",
    "    # Adding the second hidden layer\n",
    "    classifier.add(Dense(units = 24, kernel_initializer = 'uniform', activation = 'sigmoid'))\n",
    "\n",
    "    # Adding the output layer\n",
    "    classifier.add(Dense(units = 21, kernel_initializer = 'uniform', activation = 'softmax'))\n",
    "\n",
    "    # Compiling the ANN\n",
    "    classifier.compile(optimizer = 'adam', loss = 'categorical_crossentropy', metrics = ['accuracy'])\n",
    "    \n",
    "    return classifier"
   ]
  },
  {
   "cell_type": "code",
   "execution_count": 598,
   "metadata": {},
   "outputs": [
    {
     "data": {
      "text/plain": [
       "((29670, 48), (29670, 21))"
      ]
     },
     "execution_count": 598,
     "metadata": {},
     "output_type": "execute_result"
    }
   ],
   "source": [
    "X.shape,y_auxHeat.shape"
   ]
  },
  {
   "cell_type": "code",
   "execution_count": 599,
   "metadata": {},
   "outputs": [
    {
     "name": "stdout",
     "output_type": "stream",
     "text": [
      "418/418 [==============================] - 2s 2ms/step - loss: 1.8041 - accuracy: 0.4787\n",
      "47/47 [==============================] - 0s 2ms/step - loss: 1.7299 - accuracy: 0.4584\n",
      "418/418 [==============================] - 1s 2ms/step - loss: 1.7867 - accuracy: 0.5128\n",
      "47/47 [==============================] - 0s 1ms/step - loss: 1.7820 - accuracy: 0.4772\n",
      "418/418 [==============================] - 1s 2ms/step - loss: 1.8063 - accuracy: 0.4730\n",
      "47/47 [==============================] - 0s 1ms/step - loss: 1.6568 - accuracy: 0.4968\n",
      "418/418 [==============================] - 2s 3ms/step - loss: 1.8044 - accuracy: 0.5040\n",
      "47/47 [==============================] - 0s 1ms/step - loss: 1.5948 - accuracy: 0.5261\n",
      "418/418 [==============================] - 2s 3ms/step - loss: 1.8110 - accuracy: 0.4730\n",
      "47/47 [==============================] - 0s 1ms/step - loss: 1.7190 - accuracy: 0.4402\n",
      "418/418 [==============================] - 1s 2ms/step - loss: 1.8011 - accuracy: 0.5110\n",
      "47/47 [==============================] - 0s 2ms/step - loss: 1.6902 - accuracy: 0.4301\n",
      "418/418 [==============================] - 1s 2ms/step - loss: 1.8013 - accuracy: 0.5181\n",
      "47/47 [==============================] - 0s 2ms/step - loss: 1.7011 - accuracy: 0.4294\n",
      "418/418 [==============================] - 1s 2ms/step - loss: 1.8367 - accuracy: 0.4687\n",
      "47/47 [==============================] - 0s 2ms/step - loss: 1.4369 - accuracy: 0.5740\n",
      "418/418 [==============================] - 1s 2ms/step - loss: 1.8416 - accuracy: 0.4955\n",
      "47/47 [==============================] - 0s 2ms/step - loss: 1.3027 - accuracy: 0.6299\n",
      "418/418 [==============================] - 1s 2ms/step - loss: 1.8373 - accuracy: 0.4946\n",
      "47/47 [==============================] - 0s 2ms/step - loss: 1.2727 - accuracy: 0.6633\n"
     ]
    }
   ],
   "source": [
    "classifier = KerasClassifier(build_fn = build_classifier_sigmoid, batch_size = 64, nb_epoch = 50)\n",
    "\n",
    "scoring = {'acc': 'accuracy',\n",
    "           'f1_weighted': 'f1_weighted'}\n",
    "\n",
    "\n",
    "scores = cross_validate(estimator = classifier, X = X, y = y_auxHeat, cv = 10)\n",
    "ac_funcs_score_time.append(scores['score_time'])\n",
    "ac_funcs_acc.append(scores['test_score'])"
   ]
  },
  {
   "cell_type": "code",
   "execution_count": 600,
   "metadata": {},
   "outputs": [],
   "source": [
    "def build_classifier_tanh():\n",
    "\n",
    "    classifier = Sequential()\n",
    "\n",
    "    # Adding the input layer and the first hidden layer\n",
    "    classifier.add(Dense(units = 24, kernel_initializer = 'uniform', activation = 'tanh', input_dim = 48))\n",
    "\n",
    "    # Adding the second hidden layer\n",
    "    classifier.add(Dense(units = 24, kernel_initializer = 'uniform', activation = 'tanh'))\n",
    "\n",
    "    # Adding the output layer\n",
    "    classifier.add(Dense(units = 21, kernel_initializer = 'uniform', activation = 'softmax'))\n",
    "\n",
    "    # Compiling the ANN\n",
    "    classifier.compile(optimizer = 'adam', loss = 'categorical_crossentropy', metrics = ['accuracy'])\n",
    "    \n",
    "    return classifier"
   ]
  },
  {
   "cell_type": "code",
   "execution_count": 601,
   "metadata": {},
   "outputs": [
    {
     "name": "stdout",
     "output_type": "stream",
     "text": [
      "418/418 [==============================] - 2s 3ms/step - loss: 1.4256 - accuracy: 0.6849\n",
      "47/47 [==============================] - 0s 1ms/step - loss: 1.1650 - accuracy: 0.7145\n",
      "418/418 [==============================] - 1s 2ms/step - loss: 1.5527 - accuracy: 0.6223\n",
      "47/47 [==============================] - 0s 2ms/step - loss: 1.3224 - accuracy: 0.6771\n",
      "418/418 [==============================] - 1s 2ms/step - loss: 1.5176 - accuracy: 0.6470\n",
      "47/47 [==============================] - 0s 2ms/step - loss: 1.1306 - accuracy: 0.7152\n",
      "418/418 [==============================] - 1s 2ms/step - loss: 1.4075 - accuracy: 0.7013\n",
      "47/47 [==============================] - 0s 1ms/step - loss: 1.0477 - accuracy: 0.7324\n",
      "418/418 [==============================] - 2s 3ms/step - loss: 1.3887 - accuracy: 0.7167\n",
      "47/47 [==============================] - 0s 2ms/step - loss: 1.0472 - accuracy: 0.7230\n",
      "418/418 [==============================] - 1s 2ms/step - loss: 1.5245 - accuracy: 0.6319\n",
      "47/47 [==============================] - 0s 1ms/step - loss: 1.0894 - accuracy: 0.7246\n",
      "418/418 [==============================] - 2s 2ms/step - loss: 1.4760 - accuracy: 0.6866\n",
      "47/47 [==============================] - 0s 1ms/step - loss: 1.0775 - accuracy: 0.7385\n",
      "418/418 [==============================] - 1s 2ms/step - loss: 1.5278 - accuracy: 0.6586\n",
      "47/47 [==============================] - 0s 1ms/step - loss: 0.8995 - accuracy: 0.7799\n",
      "418/418 [==============================] - 2s 3ms/step - loss: 1.4290 - accuracy: 0.7125\n",
      "47/47 [==============================] - 0s 1ms/step - loss: 0.7806 - accuracy: 0.7995\n",
      "418/418 [==============================] - 1s 2ms/step - loss: 1.5160 - accuracy: 0.6649\n",
      "47/47 [==============================] - 0s 1ms/step - loss: 0.7791 - accuracy: 0.8022\n"
     ]
    }
   ],
   "source": [
    "classifier = KerasClassifier(build_fn = build_classifier_tanh, batch_size = 64, nb_epoch = 50)\n",
    "\n",
    "scoring = {'acc': 'accuracy',\n",
    "           }\n",
    "\n",
    "scores = cross_validate(estimator = classifier, X = X, y = y_auxHeat, cv = 10)\n",
    "ac_funcs_score_time.append(scores['score_time'])\n",
    "ac_funcs_acc.append(scores['test_score'])"
   ]
  },
  {
   "cell_type": "code",
   "execution_count": 602,
   "metadata": {},
   "outputs": [
    {
     "data": {
      "text/plain": [
       "[array([0.69666332, 0.68284464, 0.71587461, 0.72901922, 0.71621168,\n",
       "        0.7394675 , 0.75261205, 0.77789015, 0.80080891, 0.80047184]),\n",
       " array([0.45837545, 0.47724974, 0.4967981 , 0.52612066, 0.44017527,\n",
       "        0.43006405, 0.42938995, 0.57398045, 0.62992924, 0.66329628]),\n",
       " array([0.71452647, 0.6771149 , 0.71520054, 0.73238963, 0.72295249,\n",
       "        0.72463769, 0.73845637, 0.77991235, 0.79946071, 0.80215704])]"
      ]
     },
     "execution_count": 602,
     "metadata": {},
     "output_type": "execute_result"
    }
   ],
   "source": [
    "ac_funcs_acc"
   ]
  },
  {
   "cell_type": "code",
   "execution_count": 608,
   "metadata": {},
   "outputs": [],
   "source": [
    "acc_df = pd.DataFrame(ac_funcs_acc)\n",
    "acc_df = acc_df.T"
   ]
  },
  {
   "cell_type": "code",
   "execution_count": 610,
   "metadata": {},
   "outputs": [],
   "source": [
    "acc_df = acc_df.rename(columns = {0:'ReLu', 1:'Sigmoid', 2:'Tanh'})"
   ]
  },
  {
   "cell_type": "code",
   "execution_count": 611,
   "metadata": {},
   "outputs": [
    {
     "data": {
      "text/html": [
       "<div>\n",
       "<style scoped>\n",
       "    .dataframe tbody tr th:only-of-type {\n",
       "        vertical-align: middle;\n",
       "    }\n",
       "\n",
       "    .dataframe tbody tr th {\n",
       "        vertical-align: top;\n",
       "    }\n",
       "\n",
       "    .dataframe thead th {\n",
       "        text-align: right;\n",
       "    }\n",
       "</style>\n",
       "<table border=\"1\" class=\"dataframe\">\n",
       "  <thead>\n",
       "    <tr style=\"text-align: right;\">\n",
       "      <th></th>\n",
       "      <th>ReLu</th>\n",
       "      <th>Sigmoid</th>\n",
       "      <th>Tanh</th>\n",
       "    </tr>\n",
       "  </thead>\n",
       "  <tbody>\n",
       "    <tr>\n",
       "      <th>0</th>\n",
       "      <td>0.696663</td>\n",
       "      <td>0.458375</td>\n",
       "      <td>0.714526</td>\n",
       "    </tr>\n",
       "    <tr>\n",
       "      <th>1</th>\n",
       "      <td>0.682845</td>\n",
       "      <td>0.477250</td>\n",
       "      <td>0.677115</td>\n",
       "    </tr>\n",
       "    <tr>\n",
       "      <th>2</th>\n",
       "      <td>0.715875</td>\n",
       "      <td>0.496798</td>\n",
       "      <td>0.715201</td>\n",
       "    </tr>\n",
       "    <tr>\n",
       "      <th>3</th>\n",
       "      <td>0.729019</td>\n",
       "      <td>0.526121</td>\n",
       "      <td>0.732390</td>\n",
       "    </tr>\n",
       "    <tr>\n",
       "      <th>4</th>\n",
       "      <td>0.716212</td>\n",
       "      <td>0.440175</td>\n",
       "      <td>0.722952</td>\n",
       "    </tr>\n",
       "    <tr>\n",
       "      <th>5</th>\n",
       "      <td>0.739468</td>\n",
       "      <td>0.430064</td>\n",
       "      <td>0.724638</td>\n",
       "    </tr>\n",
       "    <tr>\n",
       "      <th>6</th>\n",
       "      <td>0.752612</td>\n",
       "      <td>0.429390</td>\n",
       "      <td>0.738456</td>\n",
       "    </tr>\n",
       "    <tr>\n",
       "      <th>7</th>\n",
       "      <td>0.777890</td>\n",
       "      <td>0.573980</td>\n",
       "      <td>0.779912</td>\n",
       "    </tr>\n",
       "    <tr>\n",
       "      <th>8</th>\n",
       "      <td>0.800809</td>\n",
       "      <td>0.629929</td>\n",
       "      <td>0.799461</td>\n",
       "    </tr>\n",
       "    <tr>\n",
       "      <th>9</th>\n",
       "      <td>0.800472</td>\n",
       "      <td>0.663296</td>\n",
       "      <td>0.802157</td>\n",
       "    </tr>\n",
       "  </tbody>\n",
       "</table>\n",
       "</div>"
      ],
      "text/plain": [
       "       ReLu   Sigmoid      Tanh\n",
       "0  0.696663  0.458375  0.714526\n",
       "1  0.682845  0.477250  0.677115\n",
       "2  0.715875  0.496798  0.715201\n",
       "3  0.729019  0.526121  0.732390\n",
       "4  0.716212  0.440175  0.722952\n",
       "5  0.739468  0.430064  0.724638\n",
       "6  0.752612  0.429390  0.738456\n",
       "7  0.777890  0.573980  0.779912\n",
       "8  0.800809  0.629929  0.799461\n",
       "9  0.800472  0.663296  0.802157"
      ]
     },
     "execution_count": 611,
     "metadata": {},
     "output_type": "execute_result"
    }
   ],
   "source": [
    "acc_df"
   ]
  },
  {
   "cell_type": "code",
   "execution_count": 605,
   "metadata": {},
   "outputs": [
    {
     "data": {
      "image/png": "[encoded data removed]",
      "text/plain": [
       "<Figure size 864x720 with 1 Axes>"
      ]
     },
     "metadata": {
      "needs_background": "light"
     },
     "output_type": "display_data"
    }
   ],
   "source": [
    "plt.figure(figsize = (12, 10))\n",
    "ax = sns.boxplot(data = acc_df)\n",
    "ax.set(ylabel = \"Accuracy\", xlabel = \"Activation Function Used\")\n",
    "plt.savefig(\"12.png\")"
   ]
  },
  {
   "cell_type": "code",
   "execution_count": 606,
   "metadata": {},
   "outputs": [
    {
     "ename": "ValueError",
     "evalue": "min() arg is an empty sequence",
     "output_type": "error",
     "traceback": [
      "\u001b[1;31m---------------------------------------------------------------------------\u001b[0m",
      "\u001b[1;31mValueError\u001b[0m                                Traceback (most recent call last)",
      "\u001b[1;32m<ipython-input-606-706a3dda7aa4>\u001b[0m in \u001b[0;36m<module>\u001b[1;34m\u001b[0m\n\u001b[0;32m      5\u001b[0m \u001b[1;33m\u001b[0m\u001b[0m\n\u001b[0;32m      6\u001b[0m \u001b[0mplt\u001b[0m\u001b[1;33m.\u001b[0m\u001b[0mfigure\u001b[0m\u001b[1;33m(\u001b[0m\u001b[0mfigsize\u001b[0m \u001b[1;33m=\u001b[0m \u001b[1;33m(\u001b[0m\u001b[1;36m12\u001b[0m\u001b[1;33m,\u001b[0m \u001b[1;36m10\u001b[0m\u001b[1;33m)\u001b[0m\u001b[1;33m)\u001b[0m\u001b[1;33m\u001b[0m\u001b[1;33m\u001b[0m\u001b[0m\n\u001b[1;32m----> 7\u001b[1;33m \u001b[0max\u001b[0m \u001b[1;33m=\u001b[0m \u001b[0msns\u001b[0m\u001b[1;33m.\u001b[0m\u001b[0mboxplot\u001b[0m\u001b[1;33m(\u001b[0m\u001b[0mdata\u001b[0m \u001b[1;33m=\u001b[0m \u001b[0mf1_df\u001b[0m\u001b[1;33m)\u001b[0m\u001b[1;33m\u001b[0m\u001b[1;33m\u001b[0m\u001b[0m\n\u001b[0m\u001b[0;32m      8\u001b[0m \u001b[0max\u001b[0m\u001b[1;33m.\u001b[0m\u001b[0mset\u001b[0m\u001b[1;33m(\u001b[0m\u001b[0mylabel\u001b[0m \u001b[1;33m=\u001b[0m \u001b[1;34m\"Weighted F1-Score\"\u001b[0m\u001b[1;33m,\u001b[0m \u001b[0mxlabel\u001b[0m \u001b[1;33m=\u001b[0m \u001b[1;34m\"Activation Function Used\"\u001b[0m\u001b[1;33m)\u001b[0m\u001b[1;33m\u001b[0m\u001b[1;33m\u001b[0m\u001b[0m\n\u001b[0;32m      9\u001b[0m \u001b[0mplt\u001b[0m\u001b[1;33m.\u001b[0m\u001b[0msavefig\u001b[0m\u001b[1;33m(\u001b[0m\u001b[1;34m\"13.png\"\u001b[0m\u001b[1;33m)\u001b[0m\u001b[1;33m\u001b[0m\u001b[1;33m\u001b[0m\u001b[0m\n",
      "\u001b[1;32mc:\\users\\hongyliu\\appdata\\local\\programs\\python\\python36\\lib\\site-packages\\seaborn\\categorical.py\u001b[0m in \u001b[0;36mboxplot\u001b[1;34m(x, y, hue, data, order, hue_order, orient, color, palette, saturation, width, dodge, fliersize, linewidth, whis, ax, **kwargs)\u001b[0m\n\u001b[0;32m   2233\u001b[0m     plotter = _BoxPlotter(x, y, hue, data, order, hue_order,\n\u001b[0;32m   2234\u001b[0m                           \u001b[0morient\u001b[0m\u001b[1;33m,\u001b[0m \u001b[0mcolor\u001b[0m\u001b[1;33m,\u001b[0m \u001b[0mpalette\u001b[0m\u001b[1;33m,\u001b[0m \u001b[0msaturation\u001b[0m\u001b[1;33m,\u001b[0m\u001b[1;33m\u001b[0m\u001b[1;33m\u001b[0m\u001b[0m\n\u001b[1;32m-> 2235\u001b[1;33m                           width, dodge, fliersize, linewidth)\n\u001b[0m\u001b[0;32m   2236\u001b[0m \u001b[1;33m\u001b[0m\u001b[0m\n\u001b[0;32m   2237\u001b[0m     \u001b[1;32mif\u001b[0m \u001b[0max\u001b[0m \u001b[1;32mis\u001b[0m \u001b[1;32mNone\u001b[0m\u001b[1;33m:\u001b[0m\u001b[1;33m\u001b[0m\u001b[1;33m\u001b[0m\u001b[0m\n",
      "\u001b[1;32mc:\\users\\hongyliu\\appdata\\local\\programs\\python\\python36\\lib\\site-packages\\seaborn\\categorical.py\u001b[0m in \u001b[0;36m__init__\u001b[1;34m(self, x, y, hue, data, order, hue_order, orient, color, palette, saturation, width, dodge, fliersize, linewidth)\u001b[0m\n\u001b[0;32m    435\u001b[0m \u001b[1;33m\u001b[0m\u001b[0m\n\u001b[0;32m    436\u001b[0m         \u001b[0mself\u001b[0m\u001b[1;33m.\u001b[0m\u001b[0mestablish_variables\u001b[0m\u001b[1;33m(\u001b[0m\u001b[0mx\u001b[0m\u001b[1;33m,\u001b[0m \u001b[0my\u001b[0m\u001b[1;33m,\u001b[0m \u001b[0mhue\u001b[0m\u001b[1;33m,\u001b[0m \u001b[0mdata\u001b[0m\u001b[1;33m,\u001b[0m \u001b[0morient\u001b[0m\u001b[1;33m,\u001b[0m \u001b[0morder\u001b[0m\u001b[1;33m,\u001b[0m \u001b[0mhue_order\u001b[0m\u001b[1;33m)\u001b[0m\u001b[1;33m\u001b[0m\u001b[1;33m\u001b[0m\u001b[0m\n\u001b[1;32m--> 437\u001b[1;33m         \u001b[0mself\u001b[0m\u001b[1;33m.\u001b[0m\u001b[0mestablish_colors\u001b[0m\u001b[1;33m(\u001b[0m\u001b[0mcolor\u001b[0m\u001b[1;33m,\u001b[0m \u001b[0mpalette\u001b[0m\u001b[1;33m,\u001b[0m \u001b[0msaturation\u001b[0m\u001b[1;33m)\u001b[0m\u001b[1;33m\u001b[0m\u001b[1;33m\u001b[0m\u001b[0m\n\u001b[0m\u001b[0;32m    438\u001b[0m \u001b[1;33m\u001b[0m\u001b[0m\n\u001b[0;32m    439\u001b[0m         \u001b[0mself\u001b[0m\u001b[1;33m.\u001b[0m\u001b[0mdodge\u001b[0m \u001b[1;33m=\u001b[0m \u001b[0mdodge\u001b[0m\u001b[1;33m\u001b[0m\u001b[1;33m\u001b[0m\u001b[0m\n",
      "\u001b[1;32mc:\\users\\hongyliu\\appdata\\local\\programs\\python\\python36\\lib\\site-packages\\seaborn\\categorical.py\u001b[0m in \u001b[0;36mestablish_colors\u001b[1;34m(self, color, palette, saturation)\u001b[0m\n\u001b[0;32m    314\u001b[0m         \u001b[1;31m# Determine the gray color to use for the lines framing the plot\u001b[0m\u001b[1;33m\u001b[0m\u001b[1;33m\u001b[0m\u001b[1;33m\u001b[0m\u001b[0m\n\u001b[0;32m    315\u001b[0m         \u001b[0mlight_vals\u001b[0m \u001b[1;33m=\u001b[0m \u001b[1;33m[\u001b[0m\u001b[0mcolorsys\u001b[0m\u001b[1;33m.\u001b[0m\u001b[0mrgb_to_hls\u001b[0m\u001b[1;33m(\u001b[0m\u001b[1;33m*\u001b[0m\u001b[0mc\u001b[0m\u001b[1;33m)\u001b[0m\u001b[1;33m[\u001b[0m\u001b[1;36m1\u001b[0m\u001b[1;33m]\u001b[0m \u001b[1;32mfor\u001b[0m \u001b[0mc\u001b[0m \u001b[1;32min\u001b[0m \u001b[0mrgb_colors\u001b[0m\u001b[1;33m]\u001b[0m\u001b[1;33m\u001b[0m\u001b[1;33m\u001b[0m\u001b[0m\n\u001b[1;32m--> 316\u001b[1;33m         \u001b[0mlum\u001b[0m \u001b[1;33m=\u001b[0m \u001b[0mmin\u001b[0m\u001b[1;33m(\u001b[0m\u001b[0mlight_vals\u001b[0m\u001b[1;33m)\u001b[0m \u001b[1;33m*\u001b[0m \u001b[1;36m.6\u001b[0m\u001b[1;33m\u001b[0m\u001b[1;33m\u001b[0m\u001b[0m\n\u001b[0m\u001b[0;32m    317\u001b[0m         \u001b[0mgray\u001b[0m \u001b[1;33m=\u001b[0m \u001b[0mmpl\u001b[0m\u001b[1;33m.\u001b[0m\u001b[0mcolors\u001b[0m\u001b[1;33m.\u001b[0m\u001b[0mrgb2hex\u001b[0m\u001b[1;33m(\u001b[0m\u001b[1;33m(\u001b[0m\u001b[0mlum\u001b[0m\u001b[1;33m,\u001b[0m \u001b[0mlum\u001b[0m\u001b[1;33m,\u001b[0m \u001b[0mlum\u001b[0m\u001b[1;33m)\u001b[0m\u001b[1;33m)\u001b[0m\u001b[1;33m\u001b[0m\u001b[1;33m\u001b[0m\u001b[0m\n\u001b[0;32m    318\u001b[0m \u001b[1;33m\u001b[0m\u001b[0m\n",
      "\u001b[1;31mValueError\u001b[0m: min() arg is an empty sequence"
     ]
    },
    {
     "data": {
      "text/plain": [
       "<Figure size 864x720 with 0 Axes>"
      ]
     },
     "metadata": {},
     "output_type": "display_data"
    }
   ],
   "source": [
    "# f1_df = pd.DataFrame(ac_funcs_f1)\n",
    "# f1_df = f1_df.T\n",
    "\n",
    "# f1_df = f1_df.rename(columns = {0:'ReLu', 1:'Sigmoid', 2:'Tanh'})\n",
    "\n",
    "# plt.figure(figsize = (12, 10))\n",
    "# ax = sns.boxplot(data = f1_df)\n",
    "# ax.set(ylabel = \"Weighted F1-Score\", xlabel = \"Activation Function Used\")\n",
    "# plt.savefig(\"13.png\")"
   ]
  },
  {
   "cell_type": "code",
   "execution_count": 607,
   "metadata": {},
   "outputs": [
    {
     "data": {
      "image/png": "[encoded data removed]",
      "text/plain": [
       "<Figure size 864x720 with 1 Axes>"
      ]
     },
     "metadata": {
      "needs_background": "light"
     },
     "output_type": "display_data"
    }
   ],
   "source": [
    "time_df = pd.DataFrame(ac_funcs_score_time)\n",
    "time_df = time_df.T\n",
    "\n",
    "time_df = time_df.rename(columns = {0:'ReLu', 1:'Sigmoid', 2:'Tanh'})\n",
    "\n",
    "plt.figure(figsize = (12, 10))\n",
    "ax = sns.boxplot(data = time_df)\n",
    "ax.set(ylabel = \"Time Taken for Prediction\", xlabel = \"Activation Function Used\")\n",
    "plt.savefig(\"14.png\")"
   ]
  },
  {
   "cell_type": "code",
   "execution_count": null,
   "metadata": {},
   "outputs": [],
   "source": []
  }
 ],
 "metadata": {
  "kernelspec": {
   "display_name": "Python 3",
   "language": "python",
   "name": "python3"
  },
  "language_info": {
   "codemirror_mode": {
    "name": "ipython",
    "version": 3
   },
   "file_extension": ".py",
   "mimetype": "text/x-python",
   "name": "python",
   "nbconvert_exporter": "python",
   "pygments_lexer": "ipython3",
   "version": "3.8.3"
  }
 },
 "nbformat": 4,
 "nbformat_minor": 4
}
