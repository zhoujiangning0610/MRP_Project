{
 "cells": [
  {
   "cell_type": "code",
   "execution_count": 261,
   "metadata": {},
   "outputs": [],
   "source": [
    "import pandas as pd\n",
    "import numpy as np\n",
    "import matplotlib.pyplot as plt\n",
    "import seaborn as sns\n",
    "import matplotlib as mpl\n",
    "\n",
    "from datetime import datetime as dt\n",
    "\n",
    "sns.set(font_scale = 1)\n",
    "\n",
    "\n"
   ]
  },
  {
   "cell_type": "code",
   "execution_count": 262,
   "metadata": {},
   "outputs": [],
   "source": [
    "df = pd.read_excel('Clean_Data.xlsx')"
   ]
  },
  {
   "cell_type": "code",
   "execution_count": 263,
   "metadata": {},
   "outputs": [],
   "source": [
    "df['DateTime'] = pd.to_datetime(df['DateTime'])\n",
    "df['Month'] = pd.DatetimeIndex(df['DateTime']).month\n",
    "df['DayOfWeek'] = pd.DatetimeIndex(df['DateTime']).dayofweek\n",
    "df['HourofDay'] = pd.DatetimeIndex(df['DateTime']).hour\n",
    "df['Day'] = pd.DatetimeIndex(df['DateTime']).day"
   ]
  },
  {
   "cell_type": "code",
   "execution_count": 264,
   "metadata": {},
   "outputs": [
    {
     "data": {
      "text/html": [
       "<div>\n",
       "<style scoped>\n",
       "    .dataframe tbody tr th:only-of-type {\n",
       "        vertical-align: middle;\n",
       "    }\n",
       "\n",
       "    .dataframe tbody tr th {\n",
       "        vertical-align: top;\n",
       "    }\n",
       "\n",
       "    .dataframe thead th {\n",
       "        text-align: right;\n",
       "    }\n",
       "</style>\n",
       "<table border=\"1\" class=\"dataframe\">\n",
       "  <thead>\n",
       "    <tr style=\"text-align: right;\">\n",
       "      <th></th>\n",
       "      <th>Date</th>\n",
       "      <th>Time</th>\n",
       "      <th>DateTime</th>\n",
       "      <th>System Setting</th>\n",
       "      <th>System Mode</th>\n",
       "      <th>Calendar Event</th>\n",
       "      <th>Program Mode</th>\n",
       "      <th>Cool Set Temp (C)</th>\n",
       "      <th>Heat Set Temp (C)</th>\n",
       "      <th>Current Temp (C)</th>\n",
       "      <th>...</th>\n",
       "      <th>3rd floor landing (C)</th>\n",
       "      <th>3rd floor landing2</th>\n",
       "      <th>3rd floor room (C)</th>\n",
       "      <th>3rd floor room2</th>\n",
       "      <th>Basement (C)</th>\n",
       "      <th>Basement2</th>\n",
       "      <th>Month</th>\n",
       "      <th>DayOfWeek</th>\n",
       "      <th>HourofDay</th>\n",
       "      <th>Day</th>\n",
       "    </tr>\n",
       "  </thead>\n",
       "  <tbody>\n",
       "    <tr>\n",
       "      <th>0</th>\n",
       "      <td>2020-12-10</td>\n",
       "      <td>12:50:00</td>\n",
       "      <td>2020-12-10 12:50:00</td>\n",
       "      <td>heat</td>\n",
       "      <td>heatOff</td>\n",
       "      <td>auto</td>\n",
       "      <td>Home</td>\n",
       "      <td>21.0</td>\n",
       "      <td>21.0</td>\n",
       "      <td>21.3</td>\n",
       "      <td>...</td>\n",
       "      <td>20.9</td>\n",
       "      <td>0.0</td>\n",
       "      <td>21.0</td>\n",
       "      <td>0.0</td>\n",
       "      <td>22.8</td>\n",
       "      <td>0.0</td>\n",
       "      <td>12</td>\n",
       "      <td>3</td>\n",
       "      <td>12</td>\n",
       "      <td>10</td>\n",
       "    </tr>\n",
       "    <tr>\n",
       "      <th>1</th>\n",
       "      <td>2020-12-10</td>\n",
       "      <td>12:55:00</td>\n",
       "      <td>2020-12-10 12:55:00</td>\n",
       "      <td>heat</td>\n",
       "      <td>heatOff</td>\n",
       "      <td>auto</td>\n",
       "      <td>Home</td>\n",
       "      <td>21.0</td>\n",
       "      <td>21.0</td>\n",
       "      <td>21.1</td>\n",
       "      <td>...</td>\n",
       "      <td>20.9</td>\n",
       "      <td>0.0</td>\n",
       "      <td>20.9</td>\n",
       "      <td>0.0</td>\n",
       "      <td>22.7</td>\n",
       "      <td>1.0</td>\n",
       "      <td>12</td>\n",
       "      <td>3</td>\n",
       "      <td>12</td>\n",
       "      <td>10</td>\n",
       "    </tr>\n",
       "    <tr>\n",
       "      <th>2</th>\n",
       "      <td>2020-12-10</td>\n",
       "      <td>13:00:00</td>\n",
       "      <td>2020-12-10 13:00:00</td>\n",
       "      <td>heat</td>\n",
       "      <td>heatOff</td>\n",
       "      <td>auto</td>\n",
       "      <td>Home</td>\n",
       "      <td>21.0</td>\n",
       "      <td>21.0</td>\n",
       "      <td>20.9</td>\n",
       "      <td>...</td>\n",
       "      <td>20.8</td>\n",
       "      <td>0.0</td>\n",
       "      <td>20.8</td>\n",
       "      <td>0.0</td>\n",
       "      <td>22.7</td>\n",
       "      <td>1.0</td>\n",
       "      <td>12</td>\n",
       "      <td>3</td>\n",
       "      <td>13</td>\n",
       "      <td>10</td>\n",
       "    </tr>\n",
       "    <tr>\n",
       "      <th>3</th>\n",
       "      <td>2020-12-10</td>\n",
       "      <td>13:05:00</td>\n",
       "      <td>2020-12-10 13:05:00</td>\n",
       "      <td>heat</td>\n",
       "      <td>heatOff</td>\n",
       "      <td>auto</td>\n",
       "      <td>Home</td>\n",
       "      <td>21.0</td>\n",
       "      <td>21.0</td>\n",
       "      <td>20.7</td>\n",
       "      <td>...</td>\n",
       "      <td>20.8</td>\n",
       "      <td>0.0</td>\n",
       "      <td>20.8</td>\n",
       "      <td>0.0</td>\n",
       "      <td>22.8</td>\n",
       "      <td>0.0</td>\n",
       "      <td>12</td>\n",
       "      <td>3</td>\n",
       "      <td>13</td>\n",
       "      <td>10</td>\n",
       "    </tr>\n",
       "    <tr>\n",
       "      <th>4</th>\n",
       "      <td>2020-12-10</td>\n",
       "      <td>13:10:00</td>\n",
       "      <td>2020-12-10 13:10:00</td>\n",
       "      <td>heat</td>\n",
       "      <td>heatStage1On</td>\n",
       "      <td>auto</td>\n",
       "      <td>Home</td>\n",
       "      <td>21.0</td>\n",
       "      <td>21.0</td>\n",
       "      <td>20.6</td>\n",
       "      <td>...</td>\n",
       "      <td>20.8</td>\n",
       "      <td>0.0</td>\n",
       "      <td>20.8</td>\n",
       "      <td>0.0</td>\n",
       "      <td>22.8</td>\n",
       "      <td>0.0</td>\n",
       "      <td>12</td>\n",
       "      <td>3</td>\n",
       "      <td>13</td>\n",
       "      <td>10</td>\n",
       "    </tr>\n",
       "  </tbody>\n",
       "</table>\n",
       "<p>5 rows × 31 columns</p>\n",
       "</div>"
      ],
      "text/plain": [
       "        Date      Time            DateTime System Setting   System Mode  \\\n",
       "0 2020-12-10  12:50:00 2020-12-10 12:50:00           heat       heatOff   \n",
       "1 2020-12-10  12:55:00 2020-12-10 12:55:00           heat       heatOff   \n",
       "2 2020-12-10  13:00:00 2020-12-10 13:00:00           heat       heatOff   \n",
       "3 2020-12-10  13:05:00 2020-12-10 13:05:00           heat       heatOff   \n",
       "4 2020-12-10  13:10:00 2020-12-10 13:10:00           heat  heatStage1On   \n",
       "\n",
       "  Calendar Event Program Mode  Cool Set Temp (C)  Heat Set Temp (C)  \\\n",
       "0           auto         Home               21.0               21.0   \n",
       "1           auto         Home               21.0               21.0   \n",
       "2           auto         Home               21.0               21.0   \n",
       "3           auto         Home               21.0               21.0   \n",
       "4           auto         Home               21.0               21.0   \n",
       "\n",
       "   Current Temp (C)  ...  3rd floor landing (C)  3rd floor landing2  \\\n",
       "0              21.3  ...                   20.9                 0.0   \n",
       "1              21.1  ...                   20.9                 0.0   \n",
       "2              20.9  ...                   20.8                 0.0   \n",
       "3              20.7  ...                   20.8                 0.0   \n",
       "4              20.6  ...                   20.8                 0.0   \n",
       "\n",
       "   3rd floor room (C)  3rd floor room2  Basement (C)  Basement2  Month  \\\n",
       "0                21.0              0.0          22.8        0.0     12   \n",
       "1                20.9              0.0          22.7        1.0     12   \n",
       "2                20.8              0.0          22.7        1.0     12   \n",
       "3                20.8              0.0          22.8        0.0     12   \n",
       "4                20.8              0.0          22.8        0.0     12   \n",
       "\n",
       "   DayOfWeek  HourofDay  Day  \n",
       "0          3         12   10  \n",
       "1          3         12   10  \n",
       "2          3         13   10  \n",
       "3          3         13   10  \n",
       "4          3         13   10  \n",
       "\n",
       "[5 rows x 31 columns]"
      ]
     },
     "execution_count": 264,
     "metadata": {},
     "output_type": "execute_result"
    }
   ],
   "source": [
    "df.head()"
   ]
  },
  {
   "cell_type": "code",
   "execution_count": 265,
   "metadata": {},
   "outputs": [],
   "source": [
    "null_list = df[df['System Setting'].isnull()].index.tolist()\n",
    "df_new = df.drop(null_list)"
   ]
  },
  {
   "cell_type": "code",
   "execution_count": 266,
   "metadata": {},
   "outputs": [
    {
     "data": {
      "text/html": [
       "<div>\n",
       "<style scoped>\n",
       "    .dataframe tbody tr th:only-of-type {\n",
       "        vertical-align: middle;\n",
       "    }\n",
       "\n",
       "    .dataframe tbody tr th {\n",
       "        vertical-align: top;\n",
       "    }\n",
       "\n",
       "    .dataframe thead th {\n",
       "        text-align: right;\n",
       "    }\n",
       "</style>\n",
       "<table border=\"1\" class=\"dataframe\">\n",
       "  <thead>\n",
       "    <tr style=\"text-align: right;\">\n",
       "      <th></th>\n",
       "      <th>Date</th>\n",
       "      <th>Time</th>\n",
       "      <th>DateTime</th>\n",
       "      <th>System Setting</th>\n",
       "      <th>System Mode</th>\n",
       "      <th>Calendar Event</th>\n",
       "      <th>Program Mode</th>\n",
       "      <th>Cool Set Temp (C)</th>\n",
       "      <th>Heat Set Temp (C)</th>\n",
       "      <th>Current Temp (C)</th>\n",
       "      <th>...</th>\n",
       "      <th>3rd floor landing (C)</th>\n",
       "      <th>3rd floor landing2</th>\n",
       "      <th>3rd floor room (C)</th>\n",
       "      <th>3rd floor room2</th>\n",
       "      <th>Basement (C)</th>\n",
       "      <th>Basement2</th>\n",
       "      <th>Month</th>\n",
       "      <th>DayOfWeek</th>\n",
       "      <th>HourofDay</th>\n",
       "      <th>Day</th>\n",
       "    </tr>\n",
       "  </thead>\n",
       "  <tbody>\n",
       "    <tr>\n",
       "      <th>0</th>\n",
       "      <td>2020-12-10</td>\n",
       "      <td>12:50:00</td>\n",
       "      <td>2020-12-10 12:50:00</td>\n",
       "      <td>heat</td>\n",
       "      <td>heatOff</td>\n",
       "      <td>auto</td>\n",
       "      <td>Home</td>\n",
       "      <td>21.0</td>\n",
       "      <td>21.0</td>\n",
       "      <td>21.3</td>\n",
       "      <td>...</td>\n",
       "      <td>20.9</td>\n",
       "      <td>0.0</td>\n",
       "      <td>21.0</td>\n",
       "      <td>0.0</td>\n",
       "      <td>22.8</td>\n",
       "      <td>0.0</td>\n",
       "      <td>12</td>\n",
       "      <td>3</td>\n",
       "      <td>12</td>\n",
       "      <td>10</td>\n",
       "    </tr>\n",
       "    <tr>\n",
       "      <th>1</th>\n",
       "      <td>2020-12-10</td>\n",
       "      <td>12:55:00</td>\n",
       "      <td>2020-12-10 12:55:00</td>\n",
       "      <td>heat</td>\n",
       "      <td>heatOff</td>\n",
       "      <td>auto</td>\n",
       "      <td>Home</td>\n",
       "      <td>21.0</td>\n",
       "      <td>21.0</td>\n",
       "      <td>21.1</td>\n",
       "      <td>...</td>\n",
       "      <td>20.9</td>\n",
       "      <td>0.0</td>\n",
       "      <td>20.9</td>\n",
       "      <td>0.0</td>\n",
       "      <td>22.7</td>\n",
       "      <td>1.0</td>\n",
       "      <td>12</td>\n",
       "      <td>3</td>\n",
       "      <td>12</td>\n",
       "      <td>10</td>\n",
       "    </tr>\n",
       "    <tr>\n",
       "      <th>2</th>\n",
       "      <td>2020-12-10</td>\n",
       "      <td>13:00:00</td>\n",
       "      <td>2020-12-10 13:00:00</td>\n",
       "      <td>heat</td>\n",
       "      <td>heatOff</td>\n",
       "      <td>auto</td>\n",
       "      <td>Home</td>\n",
       "      <td>21.0</td>\n",
       "      <td>21.0</td>\n",
       "      <td>20.9</td>\n",
       "      <td>...</td>\n",
       "      <td>20.8</td>\n",
       "      <td>0.0</td>\n",
       "      <td>20.8</td>\n",
       "      <td>0.0</td>\n",
       "      <td>22.7</td>\n",
       "      <td>1.0</td>\n",
       "      <td>12</td>\n",
       "      <td>3</td>\n",
       "      <td>13</td>\n",
       "      <td>10</td>\n",
       "    </tr>\n",
       "    <tr>\n",
       "      <th>3</th>\n",
       "      <td>2020-12-10</td>\n",
       "      <td>13:05:00</td>\n",
       "      <td>2020-12-10 13:05:00</td>\n",
       "      <td>heat</td>\n",
       "      <td>heatOff</td>\n",
       "      <td>auto</td>\n",
       "      <td>Home</td>\n",
       "      <td>21.0</td>\n",
       "      <td>21.0</td>\n",
       "      <td>20.7</td>\n",
       "      <td>...</td>\n",
       "      <td>20.8</td>\n",
       "      <td>0.0</td>\n",
       "      <td>20.8</td>\n",
       "      <td>0.0</td>\n",
       "      <td>22.8</td>\n",
       "      <td>0.0</td>\n",
       "      <td>12</td>\n",
       "      <td>3</td>\n",
       "      <td>13</td>\n",
       "      <td>10</td>\n",
       "    </tr>\n",
       "    <tr>\n",
       "      <th>4</th>\n",
       "      <td>2020-12-10</td>\n",
       "      <td>13:10:00</td>\n",
       "      <td>2020-12-10 13:10:00</td>\n",
       "      <td>heat</td>\n",
       "      <td>heatStage1On</td>\n",
       "      <td>auto</td>\n",
       "      <td>Home</td>\n",
       "      <td>21.0</td>\n",
       "      <td>21.0</td>\n",
       "      <td>20.6</td>\n",
       "      <td>...</td>\n",
       "      <td>20.8</td>\n",
       "      <td>0.0</td>\n",
       "      <td>20.8</td>\n",
       "      <td>0.0</td>\n",
       "      <td>22.8</td>\n",
       "      <td>0.0</td>\n",
       "      <td>12</td>\n",
       "      <td>3</td>\n",
       "      <td>13</td>\n",
       "      <td>10</td>\n",
       "    </tr>\n",
       "    <tr>\n",
       "      <th>...</th>\n",
       "      <td>...</td>\n",
       "      <td>...</td>\n",
       "      <td>...</td>\n",
       "      <td>...</td>\n",
       "      <td>...</td>\n",
       "      <td>...</td>\n",
       "      <td>...</td>\n",
       "      <td>...</td>\n",
       "      <td>...</td>\n",
       "      <td>...</td>\n",
       "      <td>...</td>\n",
       "      <td>...</td>\n",
       "      <td>...</td>\n",
       "      <td>...</td>\n",
       "      <td>...</td>\n",
       "      <td>...</td>\n",
       "      <td>...</td>\n",
       "      <td>...</td>\n",
       "      <td>...</td>\n",
       "      <td>...</td>\n",
       "      <td>...</td>\n",
       "    </tr>\n",
       "    <tr>\n",
       "      <th>29671</th>\n",
       "      <td>2021-03-23</td>\n",
       "      <td>14:25:00</td>\n",
       "      <td>2021-03-23 14:25:00</td>\n",
       "      <td>heat</td>\n",
       "      <td>heatOff</td>\n",
       "      <td>NaN</td>\n",
       "      <td>Home</td>\n",
       "      <td>21.0</td>\n",
       "      <td>21.0</td>\n",
       "      <td>21.2</td>\n",
       "      <td>...</td>\n",
       "      <td>21.8</td>\n",
       "      <td>0.0</td>\n",
       "      <td>21.3</td>\n",
       "      <td>0.0</td>\n",
       "      <td>22.0</td>\n",
       "      <td>1.0</td>\n",
       "      <td>3</td>\n",
       "      <td>1</td>\n",
       "      <td>14</td>\n",
       "      <td>23</td>\n",
       "    </tr>\n",
       "    <tr>\n",
       "      <th>29672</th>\n",
       "      <td>2021-03-23</td>\n",
       "      <td>14:30:00</td>\n",
       "      <td>2021-03-23 14:30:00</td>\n",
       "      <td>heat</td>\n",
       "      <td>heatOff</td>\n",
       "      <td>NaN</td>\n",
       "      <td>Home</td>\n",
       "      <td>21.0</td>\n",
       "      <td>21.0</td>\n",
       "      <td>21.1</td>\n",
       "      <td>...</td>\n",
       "      <td>21.8</td>\n",
       "      <td>0.0</td>\n",
       "      <td>21.3</td>\n",
       "      <td>0.0</td>\n",
       "      <td>22.1</td>\n",
       "      <td>0.0</td>\n",
       "      <td>3</td>\n",
       "      <td>1</td>\n",
       "      <td>14</td>\n",
       "      <td>23</td>\n",
       "    </tr>\n",
       "    <tr>\n",
       "      <th>29673</th>\n",
       "      <td>2021-03-23</td>\n",
       "      <td>14:35:00</td>\n",
       "      <td>2021-03-23 14:35:00</td>\n",
       "      <td>heat</td>\n",
       "      <td>heatOff</td>\n",
       "      <td>NaN</td>\n",
       "      <td>Home</td>\n",
       "      <td>21.0</td>\n",
       "      <td>21.0</td>\n",
       "      <td>21.1</td>\n",
       "      <td>...</td>\n",
       "      <td>21.8</td>\n",
       "      <td>1.0</td>\n",
       "      <td>21.3</td>\n",
       "      <td>0.0</td>\n",
       "      <td>22.1</td>\n",
       "      <td>0.0</td>\n",
       "      <td>3</td>\n",
       "      <td>1</td>\n",
       "      <td>14</td>\n",
       "      <td>23</td>\n",
       "    </tr>\n",
       "    <tr>\n",
       "      <th>29674</th>\n",
       "      <td>2021-03-23</td>\n",
       "      <td>14:40:00</td>\n",
       "      <td>2021-03-23 14:40:00</td>\n",
       "      <td>heat</td>\n",
       "      <td>heatOff</td>\n",
       "      <td>NaN</td>\n",
       "      <td>Home</td>\n",
       "      <td>21.0</td>\n",
       "      <td>21.0</td>\n",
       "      <td>21.1</td>\n",
       "      <td>...</td>\n",
       "      <td>21.8</td>\n",
       "      <td>1.0</td>\n",
       "      <td>21.3</td>\n",
       "      <td>0.0</td>\n",
       "      <td>22.1</td>\n",
       "      <td>0.0</td>\n",
       "      <td>3</td>\n",
       "      <td>1</td>\n",
       "      <td>14</td>\n",
       "      <td>23</td>\n",
       "    </tr>\n",
       "    <tr>\n",
       "      <th>29675</th>\n",
       "      <td>2021-03-23</td>\n",
       "      <td>14:45:00</td>\n",
       "      <td>2021-03-23 14:45:00</td>\n",
       "      <td>heat</td>\n",
       "      <td>heatOff</td>\n",
       "      <td>NaN</td>\n",
       "      <td>Home</td>\n",
       "      <td>21.0</td>\n",
       "      <td>21.0</td>\n",
       "      <td>21.1</td>\n",
       "      <td>...</td>\n",
       "      <td>21.8</td>\n",
       "      <td>0.0</td>\n",
       "      <td>21.3</td>\n",
       "      <td>0.0</td>\n",
       "      <td>22.1</td>\n",
       "      <td>1.0</td>\n",
       "      <td>3</td>\n",
       "      <td>1</td>\n",
       "      <td>14</td>\n",
       "      <td>23</td>\n",
       "    </tr>\n",
       "  </tbody>\n",
       "</table>\n",
       "<p>29608 rows × 31 columns</p>\n",
       "</div>"
      ],
      "text/plain": [
       "            Date      Time            DateTime System Setting   System Mode  \\\n",
       "0     2020-12-10  12:50:00 2020-12-10 12:50:00           heat       heatOff   \n",
       "1     2020-12-10  12:55:00 2020-12-10 12:55:00           heat       heatOff   \n",
       "2     2020-12-10  13:00:00 2020-12-10 13:00:00           heat       heatOff   \n",
       "3     2020-12-10  13:05:00 2020-12-10 13:05:00           heat       heatOff   \n",
       "4     2020-12-10  13:10:00 2020-12-10 13:10:00           heat  heatStage1On   \n",
       "...          ...       ...                 ...            ...           ...   \n",
       "29671 2021-03-23  14:25:00 2021-03-23 14:25:00           heat       heatOff   \n",
       "29672 2021-03-23  14:30:00 2021-03-23 14:30:00           heat       heatOff   \n",
       "29673 2021-03-23  14:35:00 2021-03-23 14:35:00           heat       heatOff   \n",
       "29674 2021-03-23  14:40:00 2021-03-23 14:40:00           heat       heatOff   \n",
       "29675 2021-03-23  14:45:00 2021-03-23 14:45:00           heat       heatOff   \n",
       "\n",
       "      Calendar Event Program Mode  Cool Set Temp (C)  Heat Set Temp (C)  \\\n",
       "0               auto         Home               21.0               21.0   \n",
       "1               auto         Home               21.0               21.0   \n",
       "2               auto         Home               21.0               21.0   \n",
       "3               auto         Home               21.0               21.0   \n",
       "4               auto         Home               21.0               21.0   \n",
       "...              ...          ...                ...                ...   \n",
       "29671            NaN         Home               21.0               21.0   \n",
       "29672            NaN         Home               21.0               21.0   \n",
       "29673            NaN         Home               21.0               21.0   \n",
       "29674            NaN         Home               21.0               21.0   \n",
       "29675            NaN         Home               21.0               21.0   \n",
       "\n",
       "       Current Temp (C)  ...  3rd floor landing (C)  3rd floor landing2  \\\n",
       "0                  21.3  ...                   20.9                 0.0   \n",
       "1                  21.1  ...                   20.9                 0.0   \n",
       "2                  20.9  ...                   20.8                 0.0   \n",
       "3                  20.7  ...                   20.8                 0.0   \n",
       "4                  20.6  ...                   20.8                 0.0   \n",
       "...                 ...  ...                    ...                 ...   \n",
       "29671              21.2  ...                   21.8                 0.0   \n",
       "29672              21.1  ...                   21.8                 0.0   \n",
       "29673              21.1  ...                   21.8                 1.0   \n",
       "29674              21.1  ...                   21.8                 1.0   \n",
       "29675              21.1  ...                   21.8                 0.0   \n",
       "\n",
       "       3rd floor room (C)  3rd floor room2  Basement (C)  Basement2  Month  \\\n",
       "0                    21.0              0.0          22.8        0.0     12   \n",
       "1                    20.9              0.0          22.7        1.0     12   \n",
       "2                    20.8              0.0          22.7        1.0     12   \n",
       "3                    20.8              0.0          22.8        0.0     12   \n",
       "4                    20.8              0.0          22.8        0.0     12   \n",
       "...                   ...              ...           ...        ...    ...   \n",
       "29671                21.3              0.0          22.0        1.0      3   \n",
       "29672                21.3              0.0          22.1        0.0      3   \n",
       "29673                21.3              0.0          22.1        0.0      3   \n",
       "29674                21.3              0.0          22.1        0.0      3   \n",
       "29675                21.3              0.0          22.1        1.0      3   \n",
       "\n",
       "       DayOfWeek  HourofDay  Day  \n",
       "0              3         12   10  \n",
       "1              3         12   10  \n",
       "2              3         13   10  \n",
       "3              3         13   10  \n",
       "4              3         13   10  \n",
       "...          ...        ...  ...  \n",
       "29671          1         14   23  \n",
       "29672          1         14   23  \n",
       "29673          1         14   23  \n",
       "29674          1         14   23  \n",
       "29675          1         14   23  \n",
       "\n",
       "[29608 rows x 31 columns]"
      ]
     },
     "execution_count": 266,
     "metadata": {},
     "output_type": "execute_result"
    }
   ],
   "source": [
    "df_new"
   ]
  },
  {
   "cell_type": "code",
   "execution_count": 267,
   "metadata": {},
   "outputs": [
    {
     "data": {
      "text/plain": [
       "count     29608\n",
       "unique        2\n",
       "top        Home\n",
       "freq      20985\n",
       "Name: Program Mode, dtype: object"
      ]
     },
     "execution_count": 267,
     "metadata": {},
     "output_type": "execute_result"
    }
   ],
   "source": [
    "df_new['Program Mode'].describe()"
   ]
  },
  {
   "cell_type": "code",
   "execution_count": 268,
   "metadata": {},
   "outputs": [
    {
     "data": {
      "text/plain": [
       "Home     20985\n",
       "Sleep     8623\n",
       "Name: Program Mode, dtype: int64"
      ]
     },
     "execution_count": 268,
     "metadata": {},
     "output_type": "execute_result"
    }
   ],
   "source": [
    "df_new['Program Mode'].value_counts()"
   ]
  },
  {
   "cell_type": "code",
   "execution_count": 269,
   "metadata": {},
   "outputs": [
    {
     "data": {
      "text/plain": [
       "count       29608\n",
       "unique          2\n",
       "top       heatOff\n",
       "freq        18873\n",
       "Name: System Mode, dtype: object"
      ]
     },
     "execution_count": 269,
     "metadata": {},
     "output_type": "execute_result"
    }
   ],
   "source": [
    "df_new['System Mode'].describe()"
   ]
  },
  {
   "cell_type": "code",
   "execution_count": 270,
   "metadata": {},
   "outputs": [
    {
     "data": {
      "text/plain": [
       "heatOff         18873\n",
       "heatStage1On    10735\n",
       "Name: System Mode, dtype: int64"
      ]
     },
     "execution_count": 270,
     "metadata": {},
     "output_type": "execute_result"
    }
   ],
   "source": [
    "df_new['System Mode'].value_counts()"
   ]
  },
  {
   "cell_type": "code",
   "execution_count": 271,
   "metadata": {},
   "outputs": [
    {
     "data": {
      "text/plain": [
       "0.0    26724\n",
       "1.0     2884\n",
       "Name: Thermostat Motion, dtype: int64"
      ]
     },
     "execution_count": 271,
     "metadata": {},
     "output_type": "execute_result"
    }
   ],
   "source": [
    "df_new['Thermostat Motion'].value_counts()"
   ]
  },
  {
   "cell_type": "code",
   "execution_count": 272,
   "metadata": {},
   "outputs": [
    {
     "data": {
      "text/plain": [
       "Text(0.5, 0.98, 'Categorical Plotting')"
      ]
     },
     "execution_count": 272,
     "metadata": {},
     "output_type": "execute_result"
    },
    {
     "data": {
      "image/png": "[encoded data removed]",
      "text/plain": [
       "<Figure size 216x648 with 3 Axes>"
      ]
     },
     "metadata": {},
     "output_type": "display_data"
    }
   ],
   "source": [
    "import matplotlib.pyplot as plt\n",
    "\n",
    "SystemData = {'heatOff': 18873, 'heatStage1On': 10735}\n",
    "SystemNames = list(SystemData.keys())\n",
    "SystemValues = list(SystemData.values())\n",
    "\n",
    "ProgramData = {'Home': 20985, 'Sleep': 8623}\n",
    "ProgramNames = list(ProgramData.keys())\n",
    "ProgramValues = list(ProgramData.values())\n",
    "\n",
    "ThermostatData = {'0': 26724, '1': 2884}\n",
    "ThermostatNames = list(ThermostatData.keys())\n",
    "ThermostatValues = list(ThermostatData.values())\n",
    "\n",
    "fig, axs = plt.subplots(3, 1, figsize=(3, 9), sharey=True)\n",
    "axs[0].bar(SystemNames, SystemValues)\n",
    "axs[1].bar(ProgramNames, ProgramValues)\n",
    "axs[2].bar(ThermostatNames, ThermostatValues)\n",
    "fig.suptitle('Categorical Plotting')\n"
   ]
  },
  {
   "cell_type": "code",
   "execution_count": 273,
   "metadata": {},
   "outputs": [
    {
     "data": {
      "text/plain": [
       "array([21.3, 21.1, 20.9, 20.7, 20.6, 20.8, 21. , 21.2, 20.4, 21.5, 21.7,\n",
       "       21.8, 21.9, 21.4, 20.5, 22. , 20.1, 19.8, 19.6, 19.4, 19.2, 18.9,\n",
       "       18.6, 19. , 19.9, 20.3, 21.6, 22.1, 22.2, 22.3, 22.6, 22.8, 22.7,\n",
       "       22.4, 18.7, 18.4, 18. , 17.6, 17.3, 17.2, 17.5, 18.5, 18.8, 19.5,\n",
       "       19.7, 23. , 23.2, 23.4, 23.1, 23.3, 22.5, 20.2])"
      ]
     },
     "execution_count": 273,
     "metadata": {},
     "output_type": "execute_result"
    }
   ],
   "source": [
    "df_new['Current Temp (C)'].unique()"
   ]
  },
  {
   "cell_type": "code",
   "execution_count": 274,
   "metadata": {},
   "outputs": [
    {
     "name": "stdout",
     "output_type": "stream",
     "text": [
      "52\n"
     ]
    },
    {
     "data": {
      "text/plain": [
       "count    29608.000000\n",
       "mean        20.839442\n",
       "std          0.175076\n",
       "min         17.200000\n",
       "25%         20.700000\n",
       "50%         20.800000\n",
       "75%         20.900000\n",
       "max         23.400000\n",
       "Name: Current Temp (C), dtype: float64"
      ]
     },
     "execution_count": 274,
     "metadata": {},
     "output_type": "execute_result"
    }
   ],
   "source": [
    "print(len(df_new['Current Temp (C)'].unique()))\n",
    "df_new['Current Temp (C)'].describe()"
   ]
  },
  {
   "cell_type": "code",
   "execution_count": 275,
   "metadata": {},
   "outputs": [
    {
     "data": {
      "text/plain": [
       "array([30., 32., 33., 34., 31., 35., 29., 28., 27., 26., 25., 24., 23.,\n",
       "       22., 21., 19., 20., 18., 17., 15., 14., 16.])"
      ]
     },
     "execution_count": 275,
     "metadata": {},
     "output_type": "execute_result"
    }
   ],
   "source": [
    "df_new['Current Humidity (%RH)'].unique()"
   ]
  },
  {
   "cell_type": "code",
   "execution_count": 276,
   "metadata": {},
   "outputs": [
    {
     "name": "stdout",
     "output_type": "stream",
     "text": [
      "22\n"
     ]
    },
    {
     "data": {
      "text/plain": [
       "count    29608.000000\n",
       "mean        24.386112\n",
       "std          3.943559\n",
       "min         14.000000\n",
       "25%         21.000000\n",
       "50%         24.000000\n",
       "75%         28.000000\n",
       "max         35.000000\n",
       "Name: Current Humidity (%RH), dtype: float64"
      ]
     },
     "execution_count": 276,
     "metadata": {},
     "output_type": "execute_result"
    }
   ],
   "source": [
    "print(len(df_new['Current Humidity (%RH)'].unique()))\n",
    "df_new['Current Humidity (%RH)'].describe()"
   ]
  },
  {
   "cell_type": "code",
   "execution_count": 277,
   "metadata": {},
   "outputs": [
    {
     "data": {
      "text/plain": [
       "array([  5. ,   5.2,   5.4,   5.3,   4.3,   4. ,   3.4,   2.6,   2.5,\n",
       "         2.4,   2.2,   2.1,   1.9,   1.5,   1.4,   1.3,   1.2,   0.7,\n",
       "         0.6,   0.5,   0.9,   0.3,   0.1,  -0.1,   0.2,   1.7,   2.9,\n",
       "         3.6,   4.9,   6. ,   6.4,   6.7,   6.8,   6.6,   6.2,   5.6,\n",
       "         4.7,   3.8,   3.3,   3.1,   2.8,   2.7,   2. ,   2.3,   3.2,\n",
       "         3.7,   4.1,   4.2,   4.8,   5.7,   6.9,   7.1,   6.1,   5.8,\n",
       "         1.1,   0.8,   0. ,   0.4,   1.6,   1.8,  -0.2,  -0.3,  -0.4,\n",
       "        -0.5,  -0.6,  -0.8,  -0.9,  -0.7,  -1.1,  -1.2,  -1.3,  -1.4,\n",
       "        -1.6,  -1.7,  -1.8,  -1.9,  -2.1,  -2.3,  -2.7,  -3.1,  -3.5,\n",
       "        -4.1,  -4.2,  -4.3,  -4.7,  -5. ,  -5.3,  -5.4,  -4.5,  -3.7,\n",
       "        -4.6,  -4.4,  -4. ,  -3.4,  -3.2,  -3.3,  -3.6,  -3.8,  -4.8,\n",
       "        -5.2,  -6.1,  -6.3,  -6.4,  -6.7,  -6.8,  -7. ,  -7.1,  -7.3,\n",
       "        -7.4,  -7.5,  -7.6,  -7.7,  -7.8,  -7.2,  -6.9,  -5.8,  -5.5,\n",
       "        -5.6,  -5.7,  -8.1,  -8.7,  -8.6,  -8.4,  -6.2,  -5.9,  -5.1,\n",
       "        -3.9,  -3. ,  -2.6,  -2.9,  -8. ,  -8.2,  -9. ,  -9.1,  -8.9,\n",
       "        -8.8,  -2.2,  -1.5,  -4.9,  -2.5,  -2.4,   3. ,   1. ,  -1. ,\n",
       "         3.9,   4.4,   5.1,   5.5,   7.2,   7.8,   7.9,   7.7,   7.6,\n",
       "         7.3,  -2. ,  -2.8,  -6. ,  -7.9,  -9.2,  -9.6,  -9.4,  -9.7,\n",
       "        -9.5,  -9.3,  -8.3,   3.5,  -6.6,  -9.8, -10.1, -10.4, -10.7,\n",
       "       -10.8, -11.2, -11.6, -11.7, -11.5, -10.3,  -8.5,  -9.9, -11.8,\n",
       "       -12.1, -12.9, -13.3, -13.5, -13.6, -13.9, -12.8, -12.3, -11.4,\n",
       "       -10.6, -11.1, -12.2, -12.4, -12.6, -13.2, -13.4, -13.7, -13.8,\n",
       "       -14.5, -14.9, -14.6, -15.1, -15.6, -14. , -11.3, -10.2, -12.5,\n",
       "       -12.7, -14.2, -14.8, -11.9, -11. , -10. , -10.9, -10.5,  -6.5,\n",
       "       -12. , -13.1, -14.1, -16.5, -16.7, -16.9, -17.1, -17.6, -17.8,\n",
       "       -17.2, -16.4, -17.4, -16.6, -15.7, -14.3,   4.6,   7. ,   4.5,\n",
       "         5.9,   6.3,   7.5,   8. ,   8.4,   8.7,   8.8,   8.9,   8.3,\n",
       "         8.1,   9.6,  10.6,  11.5,  12.3,  12.9,  14.1,  14.2,  14. ,\n",
       "        13.8,  12.4,  11. ,  10.8,  10.4,   9.9,   9.5,   9.4,   9.3,\n",
       "         9.2,   9.7,   9.8,  10.1,   9.1,  10.9,  12.7,  13.7,  14.7,\n",
       "        15.6,  16.3,  17. ,  17.4,  17.9,  18.1,  18.4,  18.6,  19.2,\n",
       "        19.4,  19.1,  18.7,  17.5,  16. ,  13.4,  11.2,  10. ,   7.4,\n",
       "        10.2,   8.2,   8.6,  11.6,  13.5,  14.4,  14.5,  13.6,  11.9,\n",
       "        10.7,  11.8,  13.3,  14.6,  11.4,   9. ,  12.1,  13.1,  15.3,\n",
       "        15.9,  16.5,  17.3,  16.6,  16.1,  14.9,  11.3,  12. ,  12.8,\n",
       "        13.9,  15.2,  15.7])"
      ]
     },
     "execution_count": 277,
     "metadata": {},
     "output_type": "execute_result"
    }
   ],
   "source": [
    "df_new['Outdoor Temp (C)'].unique()"
   ]
  },
  {
   "cell_type": "code",
   "execution_count": 278,
   "metadata": {},
   "outputs": [
    {
     "name": "stdout",
     "output_type": "stream",
     "text": [
      "318\n"
     ]
    },
    {
     "data": {
      "text/plain": [
       "count    29608.000000\n",
       "mean        -2.425969\n",
       "std          5.345697\n",
       "min        -17.800000\n",
       "25%         -6.200000\n",
       "50%         -2.100000\n",
       "75%          0.700000\n",
       "max         19.400000\n",
       "Name: Outdoor Temp (C), dtype: float64"
      ]
     },
     "execution_count": 278,
     "metadata": {},
     "output_type": "execute_result"
    }
   ],
   "source": [
    "print(len(df_new['Outdoor Temp (C)'].unique()))\n",
    "df_new['Outdoor Temp (C)'].describe()"
   ]
  },
  {
   "cell_type": "code",
   "execution_count": 279,
   "metadata": {},
   "outputs": [
    {
     "data": {
      "text/plain": [
       "array([21.3, 21.1, 20.9, 20.7, 20.6, 20.8, 21. , 21.2, 20.4, 21.5, 21.7,\n",
       "       21.8, 21.9, 21.4, 20.5, 22. , 20.1, 19.8, 19.6, 19.4, 19.2, 18.9,\n",
       "       18.6, 19. , 19.9, 20.3, 21.6, 22.1, 22.2, 22.3, 22.6, 22.8, 22.7,\n",
       "       22.4, 18.7, 18.4, 18. , 17.6, 17.3, 17.2, 17.5, 18.5, 18.8, 19.5,\n",
       "       19.7, 23. , 23.2, 23.4, 23.1, 23.3, 22.5, 20.2])"
      ]
     },
     "execution_count": 279,
     "metadata": {},
     "output_type": "execute_result"
    }
   ],
   "source": [
    "df_new['Thermostat Temperature (C)'].unique()"
   ]
  },
  {
   "cell_type": "code",
   "execution_count": 280,
   "metadata": {},
   "outputs": [
    {
     "name": "stdout",
     "output_type": "stream",
     "text": [
      "52\n"
     ]
    },
    {
     "data": {
      "text/plain": [
       "count    29608.000000\n",
       "mean        20.839442\n",
       "std          0.175076\n",
       "min         17.200000\n",
       "25%         20.700000\n",
       "50%         20.800000\n",
       "75%         20.900000\n",
       "max         23.400000\n",
       "Name: Thermostat Temperature (C), dtype: float64"
      ]
     },
     "execution_count": 280,
     "metadata": {},
     "output_type": "execute_result"
    }
   ],
   "source": [
    "print(len(df_new['Thermostat Temperature (C)'].unique()))\n",
    "df_new['Thermostat Temperature (C)'].describe()"
   ]
  },
  {
   "cell_type": "code",
   "execution_count": 281,
   "metadata": {},
   "outputs": [
    {
     "data": {
      "text/plain": [
       "array([30., 32., 33., 34., 31., 35., 29., 28., 27., 26., 25., 24., 23.,\n",
       "       22., 21., 19., 20., 18., 17., 15., 14., 16.])"
      ]
     },
     "execution_count": 281,
     "metadata": {},
     "output_type": "execute_result"
    }
   ],
   "source": [
    "df_new['Thermostat Humidity (%RH)'].unique()"
   ]
  },
  {
   "cell_type": "code",
   "execution_count": 282,
   "metadata": {},
   "outputs": [
    {
     "name": "stdout",
     "output_type": "stream",
     "text": [
      "22\n"
     ]
    },
    {
     "data": {
      "text/plain": [
       "count    29608.000000\n",
       "mean        24.386112\n",
       "std          3.943559\n",
       "min         14.000000\n",
       "25%         21.000000\n",
       "50%         24.000000\n",
       "75%         28.000000\n",
       "max         35.000000\n",
       "Name: Thermostat Humidity (%RH), dtype: float64"
      ]
     },
     "execution_count": 282,
     "metadata": {},
     "output_type": "execute_result"
    }
   ],
   "source": [
    "print(len(df_new['Thermostat Humidity (%RH)'].unique()))\n",
    "df_new['Thermostat Humidity (%RH)'].describe()"
   ]
  },
  {
   "cell_type": "code",
   "execution_count": 283,
   "metadata": {},
   "outputs": [],
   "source": [
    "sns.set_style(\"whitegrid\", {'axes.grid' : False})"
   ]
  },
  {
   "cell_type": "code",
   "execution_count": 284,
   "metadata": {},
   "outputs": [
    {
     "data": {
      "text/plain": [
       "<matplotlib.axes._subplots.AxesSubplot at 0x12d79aac0>"
      ]
     },
     "execution_count": 284,
     "metadata": {},
     "output_type": "execute_result"
    },
    {
     "data": {
      "image/png": "[encoded data removed]",
      "text/plain": [
       "<Figure size 432x288 with 1 Axes>"
      ]
     },
     "metadata": {},
     "output_type": "display_data"
    }
   ],
   "source": [
    "sns.distplot(df_new['Current Temp (C)'], bins = 10, kde = False, color = 'blue')"
   ]
  },
  {
   "cell_type": "code",
   "execution_count": 285,
   "metadata": {},
   "outputs": [
    {
     "data": {
      "text/plain": [
       "<matplotlib.axes._subplots.AxesSubplot at 0x12d7bd520>"
      ]
     },
     "execution_count": 285,
     "metadata": {},
     "output_type": "execute_result"
    },
    {
     "data": {
      "image/png": "[encoded data removed]",
      "text/plain": [
       "<Figure size 432x288 with 1 Axes>"
      ]
     },
     "metadata": {},
     "output_type": "display_data"
    }
   ],
   "source": [
    "sns.distplot(df['Current Humidity (%RH)'], bins = 10, kde = False, color = 'blue')"
   ]
  },
  {
   "cell_type": "code",
   "execution_count": 286,
   "metadata": {},
   "outputs": [
    {
     "data": {
      "text/plain": [
       "<matplotlib.axes._subplots.AxesSubplot at 0x12b701dc0>"
      ]
     },
     "execution_count": 286,
     "metadata": {},
     "output_type": "execute_result"
    },
    {
     "data": {
      "image/png": "[encoded data removed]",
      "text/plain": [
       "<Figure size 432x288 with 1 Axes>"
      ]
     },
     "metadata": {},
     "output_type": "display_data"
    }
   ],
   "source": [
    "sns.distplot(df_new['Outdoor Temp (C)'], bins = 10, kde = False, color = 'blue')"
   ]
  },
  {
   "cell_type": "code",
   "execution_count": 287,
   "metadata": {},
   "outputs": [
    {
     "data": {
      "text/plain": [
       "<matplotlib.axes._subplots.AxesSubplot at 0x12af18730>"
      ]
     },
     "execution_count": 287,
     "metadata": {},
     "output_type": "execute_result"
    },
    {
     "data": {
      "image/png": "[encoded data removed]",
      "text/plain": [
       "<Figure size 432x288 with 1 Axes>"
      ]
     },
     "metadata": {},
     "output_type": "display_data"
    }
   ],
   "source": [
    "sns.distplot(df['Thermostat Temperature (C)'], bins = 10, kde = False, color = 'blue')"
   ]
  },
  {
   "cell_type": "code",
   "execution_count": 288,
   "metadata": {},
   "outputs": [
    {
     "data": {
      "text/plain": [
       "<matplotlib.axes._subplots.AxesSubplot at 0x12ab8a8e0>"
      ]
     },
     "execution_count": 288,
     "metadata": {},
     "output_type": "execute_result"
    },
    {
     "data": {
      "image/png": "[encoded data removed]",
      "text/plain": [
       "<Figure size 432x288 with 1 Axes>"
      ]
     },
     "metadata": {},
     "output_type": "display_data"
    }
   ],
   "source": [
    "sns.distplot(df['Thermostat Humidity (%RH)'], bins = 10, kde = False, color = 'blue')"
   ]
  },
  {
   "cell_type": "code",
   "execution_count": 295,
   "metadata": {},
   "outputs": [
    {
     "data": {
      "text/plain": [
       "<matplotlib.axes._subplots.AxesSubplot at 0x12db74fd0>"
      ]
     },
     "execution_count": 295,
     "metadata": {},
     "output_type": "execute_result"
    },
    {
     "data": {
      "image/png": "[encoded data removed]",
      "text/plain": [
       "<Figure size 432x288 with 1 Axes>"
      ]
     },
     "metadata": {},
     "output_type": "display_data"
    }
   ],
   "source": [
    "sns.countplot(df_new['Heat Stage 1 (sec)'])"
   ]
  },
  {
   "cell_type": "code",
   "execution_count": 292,
   "metadata": {},
   "outputs": [
    {
     "data": {
      "text/plain": [
       "21"
      ]
     },
     "execution_count": 292,
     "metadata": {},
     "output_type": "execute_result"
    }
   ],
   "source": [
    "len(df_new['Heat Stage 1 (sec)'].unique())"
   ]
  },
  {
   "cell_type": "code",
   "execution_count": 300,
   "metadata": {},
   "outputs": [
    {
     "data": {
      "text/plain": [
       "0.0      15178\n",
       "300.0     7034\n",
       "270.0      422\n",
       "255.0      418\n",
       "240.0      407\n",
       "45.0       405\n",
       "135.0      405\n",
       "60.0       398\n",
       "210.0      394\n",
       "165.0      392\n",
       "75.0       389\n",
       "30.0       389\n",
       "225.0      388\n",
       "105.0      387\n",
       "150.0      385\n",
       "15.0       379\n",
       "120.0      375\n",
       "90.0       374\n",
       "285.0      369\n",
       "180.0      360\n",
       "195.0      360\n",
       "Name: Heat Stage 1 (sec), dtype: int64"
      ]
     },
     "execution_count": 300,
     "metadata": {},
     "output_type": "execute_result"
    }
   ],
   "source": [
    "df_new['Heat Stage 1 (sec)'].value_counts()"
   ]
  },
  {
   "cell_type": "code",
   "execution_count": 306,
   "metadata": {},
   "outputs": [
    {
     "data": {
      "text/plain": [
       "count    29608.000000\n",
       "mean       108.877668\n",
       "std        129.965818\n",
       "min          0.000000\n",
       "25%          0.000000\n",
       "50%          0.000000\n",
       "75%        285.000000\n",
       "max        300.000000\n",
       "Name: Heat Stage 1 (sec), dtype: float64"
      ]
     },
     "execution_count": 306,
     "metadata": {},
     "output_type": "execute_result"
    }
   ],
   "source": [
    "df_new['Heat Stage 1 (sec)'].describe()"
   ]
  },
  {
   "cell_type": "code",
   "execution_count": 305,
   "metadata": {},
   "outputs": [
    {
     "data": {
      "image/png": "[encoded data removed]",
      "text/plain": [
       "<Figure size 1440x1080 with 1 Axes>"
      ]
     },
     "metadata": {},
     "output_type": "display_data"
    }
   ],
   "source": [
    "HeatStage = {'0': 15178, '15': 379, '30': 389, '45':405, '60':398, '75':389, '90':374, '105':387, '120':375, '135':405, '150':385,\n",
    "             '165':392, '180':360, '195':360, '210':394, '225':388, '240':407, '255':418, '270':422, '285':389, '300': 7034}\n",
    "HeatStageNames = list(HeatStage.keys())\n",
    "HeatStageValues = list(HeatStage.values())\n",
    "\n",
    "\n",
    "plt.figure(figsize = (20,15))\n",
    "plt.bar(HeatStageNames, HeatStageValues)\n",
    "plt.show()"
   ]
  },
  {
   "cell_type": "code",
   "execution_count": 312,
   "metadata": {},
   "outputs": [
    {
     "data": {
      "image/png": "[encoded data removed]",
      "text/plain": [
       "<Figure size 1440x1080 with 1 Axes>"
      ]
     },
     "metadata": {},
     "output_type": "display_data"
    }
   ],
   "source": [
    "HeatStagePercentage = {'0': 15178/29608, '15': 379/29608, '30': 389/29608, '45':405/29608, '60':398/29608, '75':389/29608, '90':374/29608, \n",
    "                       '105':387/29608, '120':375/29608, '135':405/29608, '150':385/29608,'165':392/29608, '180':360/29608, '195':360/29608, \n",
    "                       '210':394/29608, '225':388/29608, '240':407/29608, '255':418/29608, '270':422/29608, '285':389/29608, '300': 7034/29608}\n",
    "HeatStagePercentageNames = list(HeatStagePercentage.keys())\n",
    "HeatStagePercentageValues = list(HeatStagePercentage.values())\n",
    "\n",
    "\n",
    "plt.figure(figsize = (20,15))\n",
    "plt.bar(HeatStagePercentageNames, HeatStagePercentageValues)\n",
    "plt.title('Value Count (%) for Target Variable', fontsize = 20)\n",
    "plt.xlabel('Heat Stage Run Time (sec)', fontsize = 20)\n",
    "plt.ylabel('Percentage Contribution in Dataset', fontsize = 20)\n",
    "plt.show()"
   ]
  },
  {
   "cell_type": "code",
   "execution_count": 315,
   "metadata": {},
   "outputs": [],
   "source": [
    "runtime = pd.read_excel('Runtimes.xlsx')"
   ]
  },
  {
   "cell_type": "code",
   "execution_count": 316,
   "metadata": {},
   "outputs": [
    {
     "data": {
      "text/html": [
       "<div>\n",
       "<style scoped>\n",
       "    .dataframe tbody tr th:only-of-type {\n",
       "        vertical-align: middle;\n",
       "    }\n",
       "\n",
       "    .dataframe tbody tr th {\n",
       "        vertical-align: top;\n",
       "    }\n",
       "\n",
       "    .dataframe thead th {\n",
       "        text-align: right;\n",
       "    }\n",
       "</style>\n",
       "<table border=\"1\" class=\"dataframe\">\n",
       "  <thead>\n",
       "    <tr style=\"text-align: right;\">\n",
       "      <th></th>\n",
       "      <th>StartTime</th>\n",
       "      <th>EndTime</th>\n",
       "      <th>Runtime(Minutes)</th>\n",
       "    </tr>\n",
       "  </thead>\n",
       "  <tbody>\n",
       "    <tr>\n",
       "      <th>0</th>\n",
       "      <td>2020-12-10 13:10:00</td>\n",
       "      <td>2020-12-10 13:25:00</td>\n",
       "      <td>20</td>\n",
       "    </tr>\n",
       "    <tr>\n",
       "      <th>1</th>\n",
       "      <td>2020-12-10 14:05:00</td>\n",
       "      <td>2020-12-10 14:10:00</td>\n",
       "      <td>10</td>\n",
       "    </tr>\n",
       "    <tr>\n",
       "      <th>2</th>\n",
       "      <td>2020-12-10 14:40:00</td>\n",
       "      <td>2020-12-10 14:45:00</td>\n",
       "      <td>10</td>\n",
       "    </tr>\n",
       "    <tr>\n",
       "      <th>3</th>\n",
       "      <td>2020-12-10 15:15:00</td>\n",
       "      <td>2020-12-10 15:25:00</td>\n",
       "      <td>15</td>\n",
       "    </tr>\n",
       "    <tr>\n",
       "      <th>4</th>\n",
       "      <td>2020-12-10 15:55:00</td>\n",
       "      <td>2020-12-10 16:05:00</td>\n",
       "      <td>15</td>\n",
       "    </tr>\n",
       "  </tbody>\n",
       "</table>\n",
       "</div>"
      ],
      "text/plain": [
       "            StartTime             EndTime  Runtime(Minutes)\n",
       "0 2020-12-10 13:10:00 2020-12-10 13:25:00                20\n",
       "1 2020-12-10 14:05:00 2020-12-10 14:10:00                10\n",
       "2 2020-12-10 14:40:00 2020-12-10 14:45:00                10\n",
       "3 2020-12-10 15:15:00 2020-12-10 15:25:00                15\n",
       "4 2020-12-10 15:55:00 2020-12-10 16:05:00                15"
      ]
     },
     "execution_count": 316,
     "metadata": {},
     "output_type": "execute_result"
    }
   ],
   "source": [
    "runtime.head()"
   ]
  },
  {
   "cell_type": "code",
   "execution_count": 322,
   "metadata": {},
   "outputs": [
    {
     "data": {
      "image/png": "[encoded data removed]",
      "text/plain": [
       "<Figure size 1440x1080 with 1 Axes>"
      ]
     },
     "metadata": {},
     "output_type": "display_data"
    }
   ],
   "source": [
    "plt.figure(figsize = (20, 15))\n",
    "runtime_plot = sns.countplot(runtime['Runtime(Minutes)'], color = 'steelblue')\n",
    "runtime_plot.set_xlabel('Runtime (Minutes)', fontsize = 25)\n",
    "runtime_plot.set_ylabel('# of Instances', fontsize = 20)\n",
    "plt.title('Number Of Runtime', fontsize = 25)\n",
    "plt.show()"
   ]
  },
  {
   "cell_type": "code",
   "execution_count": null,
   "metadata": {},
   "outputs": [],
   "source": []
  }
 ],
 "metadata": {
  "kernelspec": {
   "display_name": "Python 3",
   "language": "python",
   "name": "python3"
  },
  "language_info": {
   "codemirror_mode": {
    "name": "ipython",
    "version": 3
   },
   "file_extension": ".py",
   "mimetype": "text/x-python",
   "name": "python",
   "nbconvert_exporter": "python",
   "pygments_lexer": "ipython3",
   "version": "3.8.3"
  }
 },
 "nbformat": 4,
 "nbformat_minor": 4
}
